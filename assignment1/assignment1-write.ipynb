{
 "cells": [
  {
   "cell_type": "markdown",
   "metadata": {},
   "source": [
    "# [COM4513-6513] Assignment 1: Text Classification with Logistic Regression\n",
    "\n",
    "### Instructor: Nikos Aletras\n",
    "\n",
    "\n",
    "The goal of this assignment is to develop and test two text classification systems: \n",
    "\n",
    "- **Task 1:** sentiment analysis, in particular to predict the sentiment of movie review, i.e. positive or negative (binary classification).\n",
    "- **Task 2:** topic classification, to predict whether a news article is about International issues, Sports or Business (multiclass classification).\n",
    "\n",
    "\n",
    "For that purpose, you will implement:\n",
    "\n",
    "- Text processing methods for extracting Bag-Of-Word features, using (1) unigrams, bigrams and trigrams to obtain vector representations of documents. Two vector weighting schemes should be tested: (1) raw frequencies (**3 marks; 1 for each ngram type**); (2) tf.idf (**1 marks**). \n",
    "- Binary Logistic Regression classifiers that will be able to accurately classify movie reviews trained with (1) BOW-count (raw frequencies); and (2) BOW-tfidf (tf.idf weighted) for Task 1. \n",
    "- Multiclass Logistic Regression classifiers that will be able to accurately classify news articles trained with (1) BOW-count (raw frequencies); and (2) BOW-tfidf (tf.idf weighted) for Task 2. \n",
    "- The Stochastic Gradient Descent (SGD) algorithm to estimate the parameters of your Logistic Regression models. Your SGD algorithm should:\n",
    "    - Minimise the Binary Cross-entropy loss function for Task 1 (**3 marks**)\n",
    "    - Minimise the Categorical Cross-entropy loss function for Task 2 (**3 marks**)\n",
    "    - Use L2 regularisation (both tasks) (**1 mark**)\n",
    "    - Perform multiple passes (epochs) over the training data (**1 mark**)\n",
    "    - Randomise the order of training data after each pass (**1 mark**)\n",
    "    - Stop training if the difference between the current and previous validation loss is smaller than a threshold (**1 mark**)\n",
    "    - After each epoch print the training and development loss (**1 mark**)\n",
    "- Discuss how did you choose hyperparameters (e.g. learning rate and regularisation strength)?  (**2 marks; 0.5 for each model in each task**).\n",
    "- After training the LR models, plot the learning process (i.e. training and validation loss in each epoch) using a line plot (**1 mark; 0.5 for both BOW-count and BOW-tfidf LR models in each task**) and discuss if your model overfits/underfits/is about right.\n",
    "- Model interpretability by showing the most important features for each class (i.e. most positive/negative weights). Give the top 10 for each class and comment on whether they make sense (if they don't you might have a bug!).  If we were to apply the classifier we've learned into a different domain such laptop reviews or restaurant reviews, do you think these features would generalise well? Can you propose what features the classifier could pick up as important in the new domain? (**2 marks; 0.5 for BOW-count and BOW-tfidf LR models respectively in each task**)\n",
    "\n",
    "\n",
    "### Data - Task 1 \n",
    "\n",
    "The data you will use for Task 1 are taken from here: [http://www.cs.cornell.edu/people/pabo/movie-review-data/](http://www.cs.cornell.edu/people/pabo/movie-review-data/) and you can find it in the `./data_sentiment` folder in CSV format:\n",
    "\n",
    "- `data_sentiment/train.csv`: contains 1,400 reviews, 700 positive (label: 1) and 700 negative (label: 0) to be used for training.\n",
    "- `data_sentiment/dev.csv`: contains 200 reviews, 100 positive and 100 negative to be used for hyperparameter selection and monitoring the training process.\n",
    "- `data_sentiment/test.csv`: contains 400 reviews, 200 positive and 200 negative to be used for testing.\n",
    "\n",
    "### Data - Task 2\n",
    "\n",
    "The data you will use for Task 2 is a subset of the [AG News Corpus](http://groups.di.unipi.it/~gulli/AG_corpus_of_news_articles.html) and you can find it in the `./data_topic` folder in CSV format:\n",
    "\n",
    "- `data_topic/train.csv`: contains 2,400 news articles, 800 for each class to be used for training.\n",
    "- `data_topic/dev.csv`: contains 150 news articles, 50 for each class to be used for hyperparameter selection and monitoring the training process.\n",
    "- `data_topic/test.csv`: contains 900 news articles, 300 for each class to be used for testing.\n",
    "\n",
    "\n",
    "### Submission Instructions\n",
    "\n",
    "You should submit a Jupyter Notebook file (assignment1.ipynb) and an exported PDF version (you can do it from Jupyter: `File->Download as->PDF via Latex`).\n",
    "\n",
    "You are advised to follow the code structure given in this notebook by completing all given funtions. You can also write any auxilliary/helper functions (and arguments for the functions) that you might need but note that you can provide a full solution without any such functions. Similarly, you can just use only the packages imported below but you are free to use any functionality from the [Python Standard Library](https://docs.python.org/2/library/index.html), NumPy, SciPy and Pandas. You are not allowed to use any third-party library such as Scikit-learn (apart from metric functions already provided), NLTK, Spacy, Keras etc..\n",
    "\n",
    "Please make sure to comment your code. You should also mention if you've used Windows (not recommended) to write and test your code. There is no single correct answer on what your accuracy should be, but correct implementations usually achieve F1-scores around 80\\% or higher. The quality of the analysis of the results is as important as the accuracy itself. \n",
    "\n",
    "This assignment will be marked out of 20. It is worth 20\\% of your final grade in the module.\n",
    "\n",
    "The deadline for this assignment is **23:59 on Fri, 20 Mar 2020** and it needs to be submitted via MOLE. Standard departmental penalties for lateness will be applied. We use a range of strategies to detect [unfair means](https://www.sheffield.ac.uk/ssid/unfair-means/index), including Turnitin which helps detect plagiarism, so make sure you do not plagiarise.\n",
    "\n"
   ]
  },
  {
   "cell_type": "code",
   "execution_count": 3,
   "metadata": {
    "ExecuteTime": {
     "end_time": "2020-04-17T22:21:21.300883Z",
     "start_time": "2020-04-17T22:21:21.297140Z"
    },
    "run_control": {
     "marked": true
    }
   },
   "outputs": [],
   "source": [
    "import pandas as pd\n",
    "import numpy as np\n",
    "from collections import Counter\n",
    "import re\n",
    "import matplotlib.pyplot as plt\n",
    "from sklearn.metrics import accuracy_score, precision_score, recall_score, f1_score\n",
    "import random\n",
    "\n",
    "# fixing random seed for reproducibility\n",
    "random.seed(123)\n",
    "np.random.seed(123)\n"
   ]
  },
  {
   "cell_type": "markdown",
   "metadata": {},
   "source": [
    "## Load Raw texts and labels into arrays\n",
    "\n",
    "First, you need to load the training, development and test sets from their corresponding CSV files (tip: you can use Pandas dataframes)."
   ]
  },
  {
   "cell_type": "code",
   "execution_count": 4,
   "metadata": {
    "ExecuteTime": {
     "end_time": "2020-04-17T22:21:21.315032Z",
     "start_time": "2020-04-17T22:21:21.302154Z"
    },
    "code_folding": [],
    "run_control": {
     "marked": true
    }
   },
   "outputs": [],
   "source": [
    "# fill in your code...\n",
    "class FileLoader:\n",
    "    def __init__(self,path,File=None,names=['text','label']):\n",
    "        self.path = self.__load_path(path)\n",
    "        self.names = names\n",
    "        self.__load_data(File)\n",
    "        \n",
    "    def __load_path(self,path):\n",
    "        import os\n",
    "        if os.path.exists(path):\n",
    "            return path\n",
    "        else:\n",
    "            print(\"Path not exist!\")\n",
    "    \n",
    "    def __load_datum(self,files_name):\n",
    "        import os\n",
    "        full_path = self.path +'/'+files_name.strip().strip('/')\n",
    "        if os.path.exists(full_path):\n",
    "            return pd.read_csv(full_path,header=None,names=self.names)\n",
    "        else:\n",
    "            print(\"File not exist!\")\n",
    "            \n",
    "    def __load_data(self,File):\n",
    "        if File==None:\n",
    "            self.train = self.__load_datum('train.csv')\n",
    "            self.test = self.__load_datum('test.csv')\n",
    "            self.dev = self.__load_datum('dev.csv')\n",
    "            print('Finish loading:\\n\\ttrain.csv\\n\\ttest.csv\\n\\tdev.csv')\n",
    "        else:\n",
    "            self.data = self.__load_datum(File)\n",
    "            print('Finish loading:\\n\\t'+File)"
   ]
  },
  {
   "cell_type": "code",
   "execution_count": 5,
   "metadata": {
    "ExecuteTime": {
     "end_time": "2020-04-17T22:21:21.395551Z",
     "start_time": "2020-04-17T22:21:21.320909Z"
    },
    "run_control": {
     "marked": true
    }
   },
   "outputs": [
    {
     "name": "stdout",
     "output_type": "stream",
     "text": [
      "Finish loading:\n",
      "\ttrain.csv\n",
      "\ttest.csv\n",
      "\tdev.csv\n"
     ]
    }
   ],
   "source": [
    "Data = FileLoader('data_sentiment')\n",
    "data_tr = Data.train\n",
    "data_te = Data.test\n",
    "data_dev = Data.dev"
   ]
  },
  {
   "cell_type": "markdown",
   "metadata": {},
   "source": [
    "If you use Pandas you can see a sample of the data."
   ]
  },
  {
   "cell_type": "code",
   "execution_count": 6,
   "metadata": {
    "ExecuteTime": {
     "end_time": "2020-04-17T22:21:21.404658Z",
     "start_time": "2020-04-17T22:21:21.397118Z"
    },
    "run_control": {
     "marked": true
    }
   },
   "outputs": [
    {
     "data": {
      "text/html": [
       "<div>\n",
       "<style scoped>\n",
       "    .dataframe tbody tr th:only-of-type {\n",
       "        vertical-align: middle;\n",
       "    }\n",
       "\n",
       "    .dataframe tbody tr th {\n",
       "        vertical-align: top;\n",
       "    }\n",
       "\n",
       "    .dataframe thead th {\n",
       "        text-align: right;\n",
       "    }\n",
       "</style>\n",
       "<table border=\"1\" class=\"dataframe\">\n",
       "  <thead>\n",
       "    <tr style=\"text-align: right;\">\n",
       "      <th></th>\n",
       "      <th>text</th>\n",
       "      <th>label</th>\n",
       "    </tr>\n",
       "  </thead>\n",
       "  <tbody>\n",
       "    <tr>\n",
       "      <th>0</th>\n",
       "      <td>note : some may consider portions of the follo...</td>\n",
       "      <td>1</td>\n",
       "    </tr>\n",
       "    <tr>\n",
       "      <th>1</th>\n",
       "      <td>note : some may consider portions of the follo...</td>\n",
       "      <td>1</td>\n",
       "    </tr>\n",
       "    <tr>\n",
       "      <th>2</th>\n",
       "      <td>every once in a while you see a film that is s...</td>\n",
       "      <td>1</td>\n",
       "    </tr>\n",
       "    <tr>\n",
       "      <th>3</th>\n",
       "      <td>when i was growing up in 1970s , boys in my sc...</td>\n",
       "      <td>1</td>\n",
       "    </tr>\n",
       "    <tr>\n",
       "      <th>4</th>\n",
       "      <td>the muppet movie is the first , and the best m...</td>\n",
       "      <td>1</td>\n",
       "    </tr>\n",
       "  </tbody>\n",
       "</table>\n",
       "</div>"
      ],
      "text/plain": [
       "                                                text  label\n",
       "0  note : some may consider portions of the follo...      1\n",
       "1  note : some may consider portions of the follo...      1\n",
       "2  every once in a while you see a film that is s...      1\n",
       "3  when i was growing up in 1970s , boys in my sc...      1\n",
       "4  the muppet movie is the first , and the best m...      1"
      ]
     },
     "execution_count": 6,
     "metadata": {},
     "output_type": "execute_result"
    }
   ],
   "source": [
    "data_tr.head()"
   ]
  },
  {
   "cell_type": "markdown",
   "metadata": {},
   "source": [
    "The next step is to put the raw texts into Python lists and their corresponding labels into NumPy arrays:\n"
   ]
  },
  {
   "cell_type": "code",
   "execution_count": 7,
   "metadata": {
    "ExecuteTime": {
     "end_time": "2020-04-17T22:21:21.410056Z",
     "start_time": "2020-04-17T22:21:21.405877Z"
    },
    "run_control": {
     "marked": true
    }
   },
   "outputs": [],
   "source": [
    "# fill in your code...\n",
    "def transform(df):\n",
    "    return list(df['text']), df['label'].to_numpy().reshape(-1,1)"
   ]
  },
  {
   "cell_type": "code",
   "execution_count": 8,
   "metadata": {
    "ExecuteTime": {
     "end_time": "2020-04-17T22:21:21.416544Z",
     "start_time": "2020-04-17T22:21:21.411360Z"
    },
    "run_control": {
     "marked": true
    }
   },
   "outputs": [],
   "source": [
    "X_tr_raw, Y_tr = transform(data_tr)\n",
    "X_te_raw, Y_te = transform(data_te)\n",
    "X_dev_raw, Y_dev = transform(data_dev)"
   ]
  },
  {
   "cell_type": "code",
   "execution_count": 9,
   "metadata": {
    "ExecuteTime": {
     "end_time": "2020-04-17T22:21:21.425313Z",
     "start_time": "2020-04-17T22:21:21.417656Z"
    },
    "cell_style": "split",
    "run_control": {
     "marked": true
    },
    "scrolled": true
   },
   "outputs": [
    {
     "data": {
      "text/plain": [
       "['note : some may consider portions of the following text to be spoilers .  be forewarned .  it\\'s startling to consider that it was only a few years ago that film distributors would worriedly rearrange their summer release schedules in order to give the annual disney animated feature juggernaut a wide berth .  the lion king had just cracked $300 million domestic in gross to become one of the most profitable ventures in film history , continuing to build on a sturdy base left by prior flicks aladdin and beauty and the beast .  since then , though , disney\\'s animated features have shown an unbroken string of diminishing returns , with pocahontas , the hunchback of notre dame , and this year\\'s hercules successively proving less and less potent .  with the once seemingly-impregnable disney stranglehold on the market share suddenly looking mighty vulnerable , and faced with their first serious competition in the animated film market from fox\\'s anastasia , disney has brought xmas home early by dusting off the feature which sparked the modern revival of feature animation , the little mermaid .  while the animation for the film is , as is typically the case for disney films , unquestionably top-notch , the magic in the little mermaid is not its animation , but the wonderful innocence of its story and its rousingly superb music .  the film\\'s storyline is fairly straightforward -- young teen falls for handsome man , father disapproves and assigns hapless chaperone to his daughter , teen disobeys father and goes to desperate lengths to win her man -- except in this case , the chaperone is a crab , the teen is a young mermaid , and the object of her desire is a human prince .  what makes the little mermaid so affecting and so emotionally resonant is the richness and charm of its characters and the sheer clarity and honest simplicity of their emotions .  from the moment mermaid ariel lays her eyes on prince eric , she\\'s resolutely smitten , and she\\'s such a pure and endearing character that one can\\'t help but invest their heart with her .  this simple but touching love story , coupled with a healthy dose of smart humour , makes the little mermaid a remarkably captivating picture .  one of the interesting things about the little mermaid is something which now curiously dates it : the voices cast for its motley crew of characters .  this film was produced just before the distracting concept of using celebrity voices became in vogue , which started to a certain degree with beauty and the beast and was irrevocably exacerbated by robin williams\\' much-heralded turn in aladdin ; by the release of the lion king and henceforth , the majority of characters in the animated films were voiced by celebrities .  while it\\'s understandable that animated features lacking the name-recognition or drawing power of disney ( say , balto\\'s use of kevin bacon and bridget fonda , or even anastasia\\'s showcasing of meg ryan and john cusack ) would be forced to turn to this strategy in order to hype their products , it\\'s unfortunate that even disney has embraced this policy .  do we really need to hear , say , demi moore as esmerelda in the hunchback of notre dame ?  is the film\\'s entertainment value really augmented by hearing a recognizable voice , rather than a voice which best suits the role ?   ( i\\'m not exactly on the edge of my seat for eddie murphy in the upcoming mulan . )  fortunately , the performers who voice the characters in the little mermaid , although perhaps more obscure , are impeccably cast .  chief among them is jodi benson , a 1992 tony nominee for her stage work in crazy for you , who voices the film\\'s heroine ariel to perfection ; with a wonderfully expressive speaking voice full of youthful vigor , and gorgeous singing voice , ms . benson provides a most engaging anchor for the film .   ( she\\'s the only reason i\\'d even consider catching flubber . )  similarly , samuel e . wright is terrific in the showy role of sebastian , the weary guardian crab .  he easily milks his lovable character\\'s comic moments for all they\\'re worth , and his rendering of two of the little mermaid\\'s big tunes -- \" under the sea \" and \" kiss the girl \" -- have become the stuff of legend .  pat carrol is deliciously villainous and vampy as the evil sea-witch ursula , while kenneth mars\\' booming voice conveys the stern yet affectionate authority of ariel\\'s father , king triton .  in large roles and small ( edie mcclurg as dotting busybody carlotta is ideal , and rene auberjonois has great fun with his exuberant french chef ) , the little mermaid is impeccably cast .  of course , the little mermaid will probably be best remembered for its remarkable collection of songs composed by the songwriting team of alan menken ( music ) and howard ashman ( lyrics ) , who had created little shop of horrors and would go on to compose beauty and the beast and aladdin for disney before mr . ashman\\'s untimely death .  not only are mr . menken\\'s tunes unbearably catchy , but mr . ashman\\'s charming lyrics are fully integrated into the film\\'s storyline so that the songs are a virtual extension of the character\\'s dialogue , and consequently work wonderfully within the context of the film .  mr . menken\\'s score for the film is equally top-notch ; the sequence where eric ( voiced by christopher daniel barnes ) and ariel tour his kingdom in a horse-drawn carriage becomes magical and wondrous with mr . menken\\'s fine score .  it appears that most people prefer the delightfully colourful production number for the calypso-styled \" under the sea \" as joyfully crooned by mr . wright , which won the academy award and golden globe awards for best song -- indeed , one of the many little joys in screening the film during its re-release was listening to children scattered throughout the audience singing along with the tune -- but my favourite is ms . benson\\'s heartfelt rendition of the ballad \" part of your world \" , an achingly beautiful tune of yearning and hope ( wonderfully lyricized by mr . ashman ) which , accompanied by the film\\'s most dazzlingly polished animation sequence , packs an emotional wallop which literally brought tears to my eyes .  during the song\\'s reprise , which builds to a crescendo with ariel arching on a rock as a wave crashes in , the cumulative effect is nothing short of breathtaking , and one becomes acutely aware that this single instance is one of the finest in animation history .  as of this writing , november 1997 has come to an end , as has disney\\'s limited 17-day re-release of the little mermaid .  there\\'s no question that the primary motivation for , if not the film\\'s reissue itself , at least its timing , was to reinforce disney\\'s dominance in the animation market and provide direct competition to fox\\'s costly new upstart animation division and their first major venture , anastasia .  in every respect , the re-release of the little mermaid appears to be a success -- the film\\'s 1997 grosses have pushed its cumulative domestic gross over the magic $100 million mark ; the little mermaid proved to have remarkably strong drawing power for a film initially released only eight years ago and in many homes on video , pulling in close to $10 million in its opening weekend ; and although nobody could possibly expect the little mermaid to possibly defeat the aggressively-marketed anastasia in head-to-head competition , it siphoned enough from the fox film\\'s opening weekend totals to keep anastasia from the coveted weekend leader spot , allowing for disney\\'s odious flubber to sweep in on the subsequent week and wrestle the family demographic market share away .  but although disney\\'s motives in the reissue of the little mermaid were self-serving and protectionist , the real winner is the public .  any reason to put this film back into theatres is a good one , and it\\'s a true joy to see this heartwarming gem back on the silver screen .  the little mermaid is the best film to come out of the disney\\'s modern animation renaissance , and one of the greatest animated films ever made .  ']"
      ]
     },
     "execution_count": 9,
     "metadata": {},
     "output_type": "execute_result"
    }
   ],
   "source": [
    "X_tr_raw[:1]"
   ]
  },
  {
   "cell_type": "code",
   "execution_count": 10,
   "metadata": {
    "ExecuteTime": {
     "end_time": "2020-04-17T22:21:21.431724Z",
     "start_time": "2020-04-17T22:21:21.426276Z"
    },
    "cell_style": "split",
    "run_control": {
     "marked": true
    }
   },
   "outputs": [
    {
     "data": {
      "text/plain": [
       "array([[1],\n",
       "       [1],\n",
       "       [1],\n",
       "       ...,\n",
       "       [0],\n",
       "       [0],\n",
       "       [0]])"
      ]
     },
     "execution_count": 10,
     "metadata": {},
     "output_type": "execute_result"
    }
   ],
   "source": [
    "Y_tr"
   ]
  },
  {
   "cell_type": "markdown",
   "metadata": {},
   "source": [
    "# Bag-of-Words Representation \n",
    "\n",
    "\n",
    "To train and test Logisitc Regression models, you first need to obtain vector representations for all documents given a vocabulary of features (unigrams, bigrams, trigrams).\n",
    "\n",
    "\n",
    "## Text Pre-Processing Pipeline\n",
    "\n",
    "To obtain a vocabulary of features, you should: \n",
    "- tokenise all texts into a list of unigrams (tip: using a regular expression) \n",
    "- remove stop words (using the one provided or one of your preference) \n",
    "- compute bigrams, trigrams given the remaining unigrams\n",
    "- remove ngrams appearing in less than K documents\n",
    "- use the remaining to create a vocabulary of unigrams, bigrams and trigrams (you can keep top N if you encounter memory issues).\n"
   ]
  },
  {
   "cell_type": "code",
   "execution_count": 11,
   "metadata": {
    "ExecuteTime": {
     "end_time": "2020-04-17T22:21:21.437661Z",
     "start_time": "2020-04-17T22:21:21.433485Z"
    },
    "run_control": {
     "marked": true
    }
   },
   "outputs": [],
   "source": [
    "stop_words = ['a','in','on','at','and','or', \n",
    "              'to', 'the', 'of', 'an', 'by', \n",
    "              'as', 'is', 'was', 'were', 'been', 'be', \n",
    "              'are','for', 'this', 'that', 'these', 'those', 'you', 'i',\n",
    "             'it', 'he', 'she', 'we', 'they', 'will', 'have', 'has',\n",
    "              'do', 'did', 'can', 'could', 'who', 'which', 'what', \n",
    "             'his', 'her', 'they', 'them', 'from', 'with', 'its']"
   ]
  },
  {
   "cell_type": "markdown",
   "metadata": {},
   "source": [
    "### N-gram extraction from a document\n",
    "\n",
    "You first need to implement the `extract_ngrams` function. It takes as input:\n",
    "- `x_raw`: a string corresponding to the raw text of a document\n",
    "- `ngram_range`: a tuple of two integers denoting the type of ngrams you want to extract, e.g. (1,2) denotes extracting unigrams and bigrams.\n",
    "- `token_pattern`: a string to be used within a regular expression to extract all tokens. Note that data is already tokenised so you could opt for a simple white space tokenisation.\n",
    "- `stop_words`: a list of stop words\n",
    "- `vocab`: a given vocabulary. It should be used to extract specific features.\n",
    "\n",
    "and returns:\n",
    "\n",
    "- a list of all extracted features.\n",
    "\n",
    "See the examples below to see how this function should work."
   ]
  },
  {
   "cell_type": "code",
   "execution_count": 12,
   "metadata": {
    "ExecuteTime": {
     "end_time": "2020-04-17T22:21:21.446769Z",
     "start_time": "2020-04-17T22:21:21.439084Z"
    },
    "code_folding": [],
    "run_control": {
     "marked": true
    }
   },
   "outputs": [],
   "source": [
    "def extract_ngrams(x_raw, ngram_range=(1,3), token_pattern=r'\\b[A-Za-z][A-Za-z]+\\b', stop_words=[], vocab=set()):\n",
    "    \"\"\"N-gram extraction from a document.\n",
    "\n",
    "    Args:\n",
    "        x_raw: a string corresponding to the raw text of a document\n",
    "        ngram_range: a tuple of two integers denoting the type of ngrams you want\n",
    "            to extract, e.g. (1,2) denotes extracting unigrams and bigrams.\n",
    "        token_pattern: a string to be used within a regular expression to extract\n",
    "            all tokens. Note that data is already tokenised so you could opt for\n",
    "            a simple white space tokenisation.\n",
    "        stop_words: a list of stop words\n",
    "        vocab: a given vocabulary. It should be used to extract specific features.\n",
    "\n",
    "    Returns:\n",
    "        A list of terms to the corresponding N-gram. Each part fits one N-gram,\n",
    "        except 1-gramrow. For example:\n",
    "\n",
    "        ['great','movie','watch',\n",
    "        ('great', 'movie'),('movie', 'watch'),\n",
    "        ('great', 'movie', 'watch')]\n",
    "\n",
    "    \"\"\"\n",
    "    def finder(s,n):\n",
    "        if n <= 0 or n > len(s):\n",
    "            raise Exception('n is out of range')\n",
    "        if n == 1:\n",
    "            return s\n",
    "        else:\n",
    "            return map(lambda i: tuple(s[i:i+n]),range(len(s)-n+1))\n",
    "\n",
    "    # Find all words by condition\n",
    "    pattern = re.compile(token_pattern)\n",
    "    term_eligible = [term.lower() for term in pattern.findall(x_raw) if term.lower() not in stop_words]\n",
    "\n",
    "    # Find combinations of different N-grams\n",
    "    x = [term for n in range(ngram_range[0],ngram_range[1]+1) for term in finder(term_eligible,n)]\n",
    "    \n",
    "    if not vocab:    \n",
    "        return x\n",
    "    else:\n",
    "        return [term for term in x if term in vocab]"
   ]
  },
  {
   "cell_type": "code",
   "execution_count": 13,
   "metadata": {
    "ExecuteTime": {
     "end_time": "2020-04-17T22:21:21.456573Z",
     "start_time": "2020-04-17T22:21:21.447790Z"
    },
    "run_control": {
     "marked": true
    }
   },
   "outputs": [
    {
     "data": {
      "text/plain": [
       "['great',\n",
       " 'movie',\n",
       " 'watch',\n",
       " ('great', 'movie'),\n",
       " ('movie', 'watch'),\n",
       " ('great', 'movie', 'watch')]"
      ]
     },
     "execution_count": 13,
     "metadata": {},
     "output_type": "execute_result"
    }
   ],
   "source": [
    "extract_ngrams(\"this is a great movie to watch\", \n",
    "               ngram_range=(1,3), \n",
    "               stop_words=stop_words)"
   ]
  },
  {
   "cell_type": "code",
   "execution_count": 14,
   "metadata": {
    "ExecuteTime": {
     "end_time": "2020-04-17T22:21:21.463303Z",
     "start_time": "2020-04-17T22:21:21.457674Z"
    },
    "run_control": {
     "marked": true
    }
   },
   "outputs": [
    {
     "data": {
      "text/plain": [
       "['great', ('great', 'movie')]"
      ]
     },
     "execution_count": 14,
     "metadata": {},
     "output_type": "execute_result"
    }
   ],
   "source": [
    "extract_ngrams(\"this is a great movie to watch\", \n",
    "               ngram_range=(1,2), \n",
    "               stop_words=stop_words, \n",
    "               vocab=set(['great',  ('great','movie')]))"
   ]
  },
  {
   "cell_type": "markdown",
   "metadata": {},
   "source": [
    "Note that it is OK to represent n-grams using lists instead of tuples: e.g. `['great', ['great', 'movie']]`"
   ]
  },
  {
   "cell_type": "markdown",
   "metadata": {},
   "source": [
    "### Create a vocabulary of n-grams\n",
    "\n",
    "Then the `get_vocab` function will be used to (1) create a vocabulary of ngrams; (2) count the document frequencies of ngrams; (3) their raw frequency. It takes as input:\n",
    "- `X_raw`: a list of strings each corresponding to the raw text of a document\n",
    "- `ngram_range`: a tuple of two integers denoting the type of ngrams you want to extract, e.g. (1,2) denotes extracting unigrams and bigrams.\n",
    "- `token_pattern`: a string to be used within a regular expression to extract all tokens. Note that data is already tokenised so you could opt for a simple white space tokenisation.\n",
    "- `stop_words`: a list of stop words\n",
    "- `vocab`: a given vocabulary. It should be used to extract specific features.\n",
    "- `min_df`: keep ngrams with a minimum document frequency.\n",
    "- `keep_topN`: keep top-N more frequent ngrams.\n",
    "\n",
    "and returns:\n",
    "\n",
    "- `vocab`: a set of the n-grams that will be used as features.\n",
    "- `df`: a Counter (or dict) that contains ngrams as keys and their corresponding document frequency as values.\n",
    "- `ngram_counts`: counts of each ngram in vocab\n",
    "\n",
    "Hint: it should make use of the `extract_ngrams` function."
   ]
  },
  {
   "cell_type": "code",
   "execution_count": 15,
   "metadata": {
    "ExecuteTime": {
     "end_time": "2020-04-17T22:21:21.471945Z",
     "start_time": "2020-04-17T22:21:21.464369Z"
    },
    "code_folding": [],
    "run_control": {
     "marked": true
    }
   },
   "outputs": [],
   "source": [
    "def get_vocab(X_raw, ngram_range=(1,3), token_pattern=r'\\b[A-Za-z][A-Za-z]+\\b', min_df=0, keep_topN=0, stop_words=[]):\n",
    "    '''1. create a vocabulary of ngrams\n",
    "       2. count the document frequencies of ngrams\n",
    "       3. their raw frequency\n",
    "\n",
    "    Args:\n",
    "        X_raw: a list of strings each corresponding to the raw text of a document\n",
    "        ngram_range: a tuple of two integers denoting the type of ngrams you want\n",
    "            to extract, e.g. (1,2) denotes extracting unigrams and bigrams.\n",
    "        token_pattern: a string to be used within a regular expression to extract\n",
    "            all tokens. Note that data is already tokenised so you could opt for\n",
    "            a simple white space tokenisation.\n",
    "        stop_words: a list of stop words\n",
    "        min_df: keep ngrams with a minimum document frequency.\n",
    "        keep_topN: keep top-N more frequent ngrams.\n",
    "\n",
    "    Returns:\n",
    "        vocab: a set of the n-grams that will be used as features.\n",
    "        df: a Counter (or dict) that contains ngrams as keys and their corresponding\n",
    "            document frequency as values.\n",
    "        ngram_counts: counts of each ngram in vocab\n",
    "        For example,\n",
    "\n",
    "    '''\n",
    "    bag_of_ngrams = list()\n",
    "    df = Counter()\n",
    "    for line in X_raw:\n",
    "        ngrams = extract_ngrams(line,ngram_range=(1,3),token_pattern=token_pattern,stop_words=stop_words)\n",
    "        bag_of_ngrams += ngrams\n",
    "        df.update(set(ngrams))\n",
    "    df = Counter({k:v for k,v in df.items() if v >=min_df})\n",
    "    ngram_counts = Counter(bag_of_ngrams)\n",
    "    \n",
    "    vocab = [items[0] for items in ngram_counts.most_common() if items[0] in df.keys()][:keep_topN]\n",
    "\n",
    "    return vocab, df, ngram_counts"
   ]
  },
  {
   "cell_type": "markdown",
   "metadata": {},
   "source": [
    "Now you should use `get_vocab` to create your vocabulary and get document and raw frequencies of n-grams:"
   ]
  },
  {
   "cell_type": "code",
   "execution_count": 16,
   "metadata": {
    "ExecuteTime": {
     "end_time": "2020-04-17T22:21:24.433299Z",
     "start_time": "2020-04-17T22:21:21.472991Z"
    },
    "run_control": {
     "marked": true
    }
   },
   "outputs": [
    {
     "name": "stdout",
     "output_type": "stream",
     "text": [
      "5000\n",
      "\n",
      "['film', 'but', 'one', 'movie', 'not', 'all', 'there', 'like', 'so', 'out', 'about', 'more', 'up', 'when', 'their', 'some', 'just', 'if', 'into', 'him', 'even', 'only', 'no', 'than', 'time', 'good', 'most', 'story', 'would', 'much', 'character', 'also', 'get', 'two', 'well', 'characters', 'other', 'very', 'first', 'see', 'after', 'because', 'way', 'make', 'off', 'plot', 'while', 'had', 'any', 'too', 'little', 'life', 'films', 'does', 'where', 'people', 'then', 'how', 'me', 'really', 'man', 'scene', 'my', 'never', 'bad', 'being', 'over', 'best', 'don', 'scenes', 'doesn', 'many', 'new', 'know', 'director', 'here', 'action', 'such', 'great', 'through', 'movies', 're', 'love', 'another', 'made', 'go', 'big', 'end', 'seems', 'something', 'still', 'back', 'world', 'us', 'work', 'now', 'down', 'before', 'makes', 'however']\n",
      "\n",
      "[('but', 1334), ('one', 1247), ('film', 1231), ('not', 1170), ('all', 1117), ('movie', 1095), ('out', 1080), ('so', 1047), ('there', 1046), ('like', 1043)]\n"
     ]
    }
   ],
   "source": [
    "vocab, df, ngram_counts = get_vocab(X_tr_raw, ngram_range=(1,3), keep_topN=5000, stop_words=stop_words)\n",
    "print(len(vocab))\n",
    "print()\n",
    "print(list(vocab)[:100])\n",
    "print()\n",
    "print(df.most_common()[:10])"
   ]
  },
  {
   "cell_type": "markdown",
   "metadata": {},
   "source": [
    "Then, you need to create vocabulary id -> word and id -> word dictionaries for reference:"
   ]
  },
  {
   "cell_type": "code",
   "execution_count": 17,
   "metadata": {
    "ExecuteTime": {
     "end_time": "2020-04-17T22:21:28.339542Z",
     "start_time": "2020-04-17T22:21:24.434599Z"
    },
    "cell_style": "center",
    "run_control": {
     "marked": true
    }
   },
   "outputs": [],
   "source": [
    "vocab_tr, df_tr, ngram_counts_tr = get_vocab(X_tr_raw, ngram_range=(1,3), keep_topN=5000, stop_words=stop_words)\n",
    "vocab_dev, df_dev, ngram_counts_dev = get_vocab(X_dev_raw, ngram_range=(1,3), keep_topN=5000, stop_words=stop_words)\n",
    "vocab_te, df_te, ngram_counts_te = get_vocab(X_te_raw, ngram_range=(1,3), keep_topN=5000, stop_words=stop_words)\n",
    "id2vocab_tr = dict(enumerate(vocab_tr))\n",
    "vocab2id_tr = dict(zip(id2vocab_tr.values(),id2vocab_tr.keys()))"
   ]
  },
  {
   "cell_type": "markdown",
   "metadata": {},
   "source": [
    "Now you should be able to extract n-grams for each text in the training, development and test sets:"
   ]
  },
  {
   "cell_type": "code",
   "execution_count": 18,
   "metadata": {
    "ExecuteTime": {
     "end_time": "2020-04-17T22:21:30.039363Z",
     "start_time": "2020-04-17T22:21:28.340830Z"
    },
    "run_control": {
     "marked": true
    }
   },
   "outputs": [],
   "source": [
    "X_tr_ngram = [extract_ngrams(line,ngram_range=(1,3),stop_words=stop_words) for line in X_tr_raw]\n",
    "X_te_ngram = [extract_ngrams(line,ngram_range=(1,3),stop_words=stop_words) for line in X_te_raw]\n",
    "X_dev_ngram = [extract_ngrams(line,ngram_range=(1,3),stop_words=stop_words) for line in X_dev_raw]"
   ]
  },
  {
   "cell_type": "markdown",
   "metadata": {},
   "source": [
    "## Vectorise documents "
   ]
  },
  {
   "cell_type": "markdown",
   "metadata": {},
   "source": [
    "Next, write a function `vectoriser` to obtain Bag-of-ngram representations for a list of documents. The function should take as input:\n",
    "- `X_ngram`: a list of texts (documents), where each text is represented as list of n-grams in the `vocab`\n",
    "- `vocab`: a set of n-grams to be used for representing the documents\n",
    "\n",
    "and return:\n",
    "- `X_vec`: an array with dimensionality Nx|vocab| where N is the number of documents and |vocab| is the size of the vocabulary. Each element of the array should represent the frequency of a given n-gram in a document.\n"
   ]
  },
  {
   "cell_type": "code",
   "execution_count": 19,
   "metadata": {
    "ExecuteTime": {
     "end_time": "2020-04-17T22:21:30.045022Z",
     "start_time": "2020-04-17T22:21:30.040793Z"
    },
    "code_folding": [],
    "run_control": {
     "marked": true
    }
   },
   "outputs": [],
   "source": [
    "def vectorise(X_ngram, vocab):\n",
    "    '''1. select the features of vocab from X_ngram.\n",
    "       2. convert X_ngram into matrix\n",
    "\n",
    "    Args:\n",
    "        X_ngram(list of list): a list of texts (documents) features(Bag-of-ngram)\n",
    "        vocab(list): a set of selected features(n-grams)\n",
    "\n",
    "    Returns:\n",
    "        X_vec: an array shapes (#document,#vocab), where document is a single line\n",
    "            in dataset.\n",
    "    '''\n",
    "\n",
    "    X_vec = np.zeros([len(X_ngram),len(vocab)])\n",
    "    for docs_index in range(len(X_ngram)):\n",
    "        temp = Counter(X_ngram[docs_index])\n",
    "        for feature_index in range(len(vocab)):\n",
    "            X_vec[docs_index,feature_index] = temp.get(vocab[feature_index],0)\n",
    "    return X_vec"
   ]
  },
  {
   "cell_type": "markdown",
   "metadata": {},
   "source": [
    "Finally, use `vectorise` to obtain document vectors for each document in the train, development and test set. You should extract both count and tf.idf vectors respectively:"
   ]
  },
  {
   "cell_type": "markdown",
   "metadata": {},
   "source": [
    "#### Count vectors"
   ]
  },
  {
   "cell_type": "code",
   "execution_count": 20,
   "metadata": {
    "ExecuteTime": {
     "end_time": "2020-04-17T22:21:33.615401Z",
     "start_time": "2020-04-17T22:21:30.046027Z"
    },
    "run_control": {
     "marked": true
    }
   },
   "outputs": [],
   "source": [
    "# fill in your code...\n",
    "X_tr_count = vectorise(X_tr_ngram, vocab_tr)\n",
    "X_te_count = vectorise(X_te_ngram, vocab_tr)\n",
    "X_dev_count = vectorise(X_dev_ngram, vocab_tr)"
   ]
  },
  {
   "cell_type": "code",
   "execution_count": 21,
   "metadata": {
    "ExecuteTime": {
     "end_time": "2020-04-17T22:21:33.621292Z",
     "start_time": "2020-04-17T22:21:33.616662Z"
    },
    "run_control": {
     "marked": true
    }
   },
   "outputs": [
    {
     "data": {
      "text/plain": [
       "array([[20.,  6.,  8.,  0.,  4.,  1.,  1.,  0.,  3.,  1.,  1.,  1.,  0.,\n",
       "         0.,  6.,  1.,  2.,  1.,  2.,  0.,  3.,  4.,  1.,  1.,  0.,  1.,\n",
       "         4.,  2.,  3.,  1.,  3.,  0.,  0.,  1.,  0.,  4.,  0.,  0.,  2.,\n",
       "         1.,  0.,  0.,  0.,  0.,  1.,  0.,  3.,  2.,  1.,  0.],\n",
       "       [ 6.,  2.,  5.,  0.,  2.,  4.,  2.,  3.,  3.,  2.,  2.,  3.,  4.,\n",
       "         0.,  0.,  2.,  0.,  2.,  2.,  5.,  0.,  0.,  1.,  3.,  2.,  1.,\n",
       "         2.,  2.,  1.,  1.,  5.,  1.,  1.,  1.,  0.,  0.,  1.,  0.,  0.,\n",
       "         1.,  0.,  1.,  2.,  1.,  0.,  2.,  3.,  0.,  1.,  0.]])"
      ]
     },
     "execution_count": 21,
     "metadata": {},
     "output_type": "execute_result"
    }
   ],
   "source": [
    "X_tr_count[:2,:50]"
   ]
  },
  {
   "cell_type": "markdown",
   "metadata": {},
   "source": [
    "#### TF.IDF vectors\n",
    "\n",
    "First compute `idfs` an array containing inverted document frequencies (Note: its elements should correspond to your `vocab`)"
   ]
  },
  {
   "cell_type": "code",
   "execution_count": 22,
   "metadata": {
    "ExecuteTime": {
     "end_time": "2020-04-17T22:21:33.645262Z",
     "start_time": "2020-04-17T22:21:33.622900Z"
    },
    "run_control": {
     "marked": true
    }
   },
   "outputs": [],
   "source": [
    "def get_idfs(vocab,df,D):\n",
    "    idfs = np.zeros(len(vocab))\n",
    "    for i in range(len(vocab)):\n",
    "        idfs[i] = max(df[vocab[i]],1)\n",
    "    idfs = np.log10(D/idfs)\n",
    "    #idfs = np.log(D/idfs)\n",
    "    return idfs\n",
    "\n",
    "idfs_tr = get_idfs(vocab_tr,df_tr,len(X_tr_raw))\n",
    "idfs_te = get_idfs(vocab_tr,df_te,len(X_te_raw))\n",
    "idfs_dev = get_idfs(vocab_tr,df_dev,len(X_dev_raw))"
   ]
  },
  {
   "cell_type": "markdown",
   "metadata": {},
   "source": [
    "Then transform your count vectors to tf.idf vectors:"
   ]
  },
  {
   "cell_type": "code",
   "execution_count": 21,
   "metadata": {
    "ExecuteTime": {
     "end_time": "2020-04-17T21:41:53.402192Z",
     "start_time": "2020-04-17T21:41:53.386025Z"
    },
    "run_control": {
     "marked": true
    }
   },
   "outputs": [],
   "source": [
    "X_tr_tfidf = X_tr_count*idfs_tr\n",
    "X_te_tfidf = X_te_count*idfs_te\n",
    "X_dev_tfidf = X_dev_count*idfs_dev"
   ]
  },
  {
   "cell_type": "code",
   "execution_count": 22,
   "metadata": {
    "ExecuteTime": {
     "end_time": "2020-04-17T21:41:53.407090Z",
     "start_time": "2020-04-17T21:41:53.403583Z"
    },
    "run_control": {
     "marked": true
    }
   },
   "outputs": [
    {
     "data": {
      "text/plain": [
       "array([0.3352199 , 0.04194441, 0.25130791, 0.        , 0.15588435,\n",
       "       0.39229945, 0.2531927 , 0.38353118, 0.37854406, 0.22540856,\n",
       "       0.28361332, 0.38728409, 0.55011146, 0.        , 0.        ,\n",
       "       0.32320144, 0.        , 0.34692489, 0.36468042, 1.24525516,\n",
       "       0.        , 0.        , 0.21927133, 0.55839959, 0.40923321,\n",
       "       0.22967409, 0.43239695, 0.52266534, 0.25626631, 0.24195367,\n",
       "       1.37569611, 0.26818108, 0.26076682, 0.2699102 , 0.        ,\n",
       "       0.        , 0.25794854, 0.        , 0.        , 0.30664999,\n",
       "       0.        , 0.34472433, 0.59341724, 0.29609478, 0.        ,\n",
       "       0.67313664, 0.94469503, 0.        , 0.32395996, 0.        ])"
      ]
     },
     "execution_count": 22,
     "metadata": {},
     "output_type": "execute_result"
    }
   ],
   "source": [
    "X_tr_tfidf[1,:50]"
   ]
  },
  {
   "cell_type": "markdown",
   "metadata": {},
   "source": [
    "# Binary Logistic Regression\n",
    "\n",
    "After obtaining vector representations of the data, now you are ready to implement Binary Logistic Regression for classifying sentiment."
   ]
  },
  {
   "cell_type": "markdown",
   "metadata": {},
   "source": [
    "First, you need to implement the `sigmoid` function. It takes as input:\n",
    "\n",
    "- `z`: a real number or an array of real numbers \n",
    "\n",
    "and returns:\n",
    "\n",
    "- `sig`: the sigmoid of `z`"
   ]
  },
  {
   "cell_type": "code",
   "execution_count": 23,
   "metadata": {
    "ExecuteTime": {
     "end_time": "2020-04-17T21:41:53.412598Z",
     "start_time": "2020-04-17T21:41:53.408125Z"
    },
    "run_control": {
     "marked": true
    }
   },
   "outputs": [],
   "source": [
    "def sigmoid(z):\n",
    "    \n",
    "    # fill in your code...\n",
    "    z = 1 / (1 + np.exp(np.minimum(-z,709.782)))\n",
    "    \n",
    "    return z"
   ]
  },
  {
   "cell_type": "code",
   "execution_count": 24,
   "metadata": {
    "ExecuteTime": {
     "end_time": "2020-04-17T21:41:53.419456Z",
     "start_time": "2020-04-17T21:41:53.413621Z"
    },
    "run_control": {
     "marked": true
    }
   },
   "outputs": [
    {
     "name": "stdout",
     "output_type": "stream",
     "text": [
      "0.5\n",
      "[0.00669285 0.76852478]\n"
     ]
    }
   ],
   "source": [
    "print(sigmoid(0)) \n",
    "print(sigmoid(np.array([-5., 1.2])))"
   ]
  },
  {
   "cell_type": "markdown",
   "metadata": {},
   "source": [
    "Then, implement the `predict_proba` function to obtain prediction probabilities. It takes as input:\n",
    "\n",
    "- `X`: an array of inputs, i.e. documents represented by bag-of-ngram vectors ($N \\times |vocab|$)\n",
    "- `weights`: a 1-D array of the model's weights $(1, |vocab|)$\n",
    "\n",
    "and returns:\n",
    "\n",
    "- `preds_proba`: the prediction probabilities of X given the weights"
   ]
  },
  {
   "cell_type": "code",
   "execution_count": 25,
   "metadata": {
    "ExecuteTime": {
     "end_time": "2020-04-17T21:41:53.425497Z",
     "start_time": "2020-04-17T21:41:53.420570Z"
    },
    "run_control": {
     "marked": true
    }
   },
   "outputs": [],
   "source": [
    "def predict_proba(X, weights):\n",
    "    \n",
    "    # fill in your code...\n",
    "    preds_proba = X.dot(weights.T)\n",
    "    \n",
    "    assert preds_proba.shape == (X.shape[0],1)\n",
    "    return sigmoid(preds_proba)"
   ]
  },
  {
   "cell_type": "markdown",
   "metadata": {},
   "source": [
    "Then, implement the `predict_class` function to obtain the most probable class for each vector in an array of input vectors. It takes as input:\n",
    "\n",
    "- `X`: an array of documents represented by bag-of-ngram vectors ($N \\times |vocab|$)\n",
    "- `weights`: a 1-D array of the model's weights $(1, |vocab|)$\n",
    "\n",
    "and returns:\n",
    "\n",
    "- `preds_class`: the predicted class for each x in X given the weights"
   ]
  },
  {
   "cell_type": "code",
   "execution_count": 26,
   "metadata": {
    "ExecuteTime": {
     "end_time": "2020-04-17T21:41:53.431447Z",
     "start_time": "2020-04-17T21:41:53.426571Z"
    },
    "run_control": {
     "marked": true
    }
   },
   "outputs": [],
   "source": [
    "def predict_class(X, weights):\n",
    "    \n",
    "    # fill in your code...\n",
    "    preds_proba = predict_proba(X, weights)\n",
    "    preds_class = np.where(preds_proba>=0.5,1,0)\n",
    "    \n",
    "    assert preds_class.shape == (X.shape[0],1)\n",
    "    return preds_class"
   ]
  },
  {
   "cell_type": "markdown",
   "metadata": {},
   "source": [
    "To learn the weights from data, we need to minimise the binary cross-entropy loss. Implement `binary_loss` that takes as input:\n",
    "\n",
    "- `X`: input vectors\n",
    "- `Y`: labels\n",
    "- `weights`: model weights\n",
    "- `alpha`: regularisation strength\n",
    "\n",
    "and return:\n",
    "\n",
    "- `l`: the loss score"
   ]
  },
  {
   "cell_type": "code",
   "execution_count": 27,
   "metadata": {
    "ExecuteTime": {
     "end_time": "2020-04-17T21:41:53.439943Z",
     "start_time": "2020-04-17T21:41:53.435127Z"
    },
    "run_control": {
     "marked": true
    }
   },
   "outputs": [],
   "source": [
    "def binary_loss(X, Y, weights, alpha=0.00001):\n",
    "    \n",
    "    # fill in your code...\n",
    "    eps = np.finfo(np.float64).eps\n",
    "    preds_proba = predict_proba(X, weights)\n",
    "    l = -1*(Y*np.log(preds_proba+eps) + (1-Y)*np.log(1-preds_proba+eps)) + alpha*np.multiply(weights, weights)\n",
    "    l = np.mean(l)\n",
    "    assert l.shape == (1,1) or type(l) == np.float64\n",
    "    return l"
   ]
  },
  {
   "cell_type": "code",
   "execution_count": 28,
   "metadata": {
    "ExecuteTime": {
     "end_time": "2020-04-17T21:41:53.445981Z",
     "start_time": "2020-04-17T21:41:53.441537Z"
    },
    "run_control": {
     "marked": true
    }
   },
   "outputs": [],
   "source": [
    "def gradient(X, y, weights, alpha=0.00001):\n",
    "    m = len(X)\n",
    "    h = predict_proba(X, weights)\n",
    "    dw = np.dot((h - y).T,X) + 2*alpha*weights\n",
    "    assert dw.shape == weights.shape\n",
    "    return dw/m"
   ]
  },
  {
   "cell_type": "markdown",
   "metadata": {},
   "source": [
    "Now, you can implement Stochastic Gradient Descent to learn the weights of your sentiment classifier. The `SGD` function takes as input:\n",
    "\n",
    "- `X_tr`: array of training data (vectors)\n",
    "- `Y_tr`: labels of `X_tr`\n",
    "- `X_dev`: array of development (i.e. validation) data (vectors)\n",
    "- `Y_dev`: labels of `X_dev`\n",
    "- `lr`: learning rate\n",
    "- `alpha`: regularisation strength\n",
    "- `epochs`: number of full passes over the training data\n",
    "- `tolerance`: stop training if the difference between the current and previous validation loss is smaller than a threshold\n",
    "- `print_progress`: flag for printing the training progress (train/validation loss)\n",
    "\n",
    "\n",
    "and returns:\n",
    "\n",
    "- `weights`: the weights learned\n",
    "- `training_loss_history`: an array with the average losses of the whole training set after each epoch\n",
    "- `validation_loss_history`: an array with the average losses of the whole development set after each epoch"
   ]
  },
  {
   "cell_type": "code",
   "execution_count": 29,
   "metadata": {
    "ExecuteTime": {
     "end_time": "2020-04-17T21:41:53.456138Z",
     "start_time": "2020-04-17T21:41:53.447082Z"
    },
    "run_control": {
     "marked": true
    }
   },
   "outputs": [],
   "source": [
    "def SGD(X_tr, Y_tr, X_dev=[], Y_dev=[], loss=\"binary\", lr=0.1, alpha=0.00001, epochs=5, tolerance=0.0001, print_progress=True):\n",
    "    \n",
    "    cur_loss_tr = 1.\n",
    "    cur_loss_dev = 1.\n",
    "    training_loss_history = []\n",
    "    validation_loss_history = []\n",
    "    \n",
    "    # fill in your code...\n",
    "    \n",
    "    # Stage 1: Init weights\n",
    "    #weights = np.random.rand(1,X_tr.shape[1])\n",
    "    weights = np.zeros((1,X_tr.shape[1]))\n",
    "    \n",
    "    # Stage 2: Init stochastic value\n",
    "    idx_list = np.array(range(X_tr.shape[0]))\n",
    "    \n",
    "    # Stage 3: Training\n",
    "    for epoch in range(epochs):\n",
    "        loss_tr = 0\n",
    "        np.random.shuffle(idx_list) # disorder dataset\n",
    "        for i in idx_list:\n",
    "            X_tr_i, Y_tr_i = X_tr[i].reshape(1,-1),Y_tr[i].reshape(1,-1) # get a single data pair\n",
    "            dw = gradient(X_tr_i, Y_tr_i, weights, alpha) # gradient\n",
    "            weights -= lr*dw # update\n",
    "            loss_tr += binary_loss(X_tr_i, Y_tr_i, weights, alpha) # add loss\n",
    "        \n",
    "        loss_dev = binary_loss(X_dev, Y_dev, weights, alpha)\n",
    "        loss_tr /= len(idx_list)\n",
    "        # Add history\n",
    "        if epoch != 0:\n",
    "            training_loss_history.append(loss_tr)\n",
    "            validation_loss_history.append(loss_dev)\n",
    "        if print_progress == True: \n",
    "            print(\"Epoch: %d| Training loss: %f| Validation loss: %f\"%(epoch,loss_tr,loss_dev))\n",
    "        if epoch >1 and (validation_loss_history[-2]-validation_loss_history[-1]) <= tolerance:\n",
    "            break\n",
    "\n",
    "    return weights, training_loss_history, validation_loss_history"
   ]
  },
  {
   "cell_type": "markdown",
   "metadata": {},
   "source": [
    "## Train and Evaluate Logistic Regression with Count vectors\n",
    "\n",
    "First train the model using SGD:"
   ]
  },
  {
   "cell_type": "code",
   "execution_count": 30,
   "metadata": {
    "ExecuteTime": {
     "end_time": "2020-04-17T21:42:06.149318Z",
     "start_time": "2020-04-17T21:41:53.457147Z"
    },
    "run_control": {
     "marked": true
    },
    "scrolled": true
   },
   "outputs": [
    {
     "name": "stdout",
     "output_type": "stream",
     "text": [
      "Epoch: 0| Training loss: 0.647483| Validation loss: 0.645622\n",
      "Epoch: 1| Training loss: 0.596332| Validation loss: 0.615252\n",
      "Epoch: 2| Training loss: 0.558480| Validation loss: 0.591166\n",
      "Epoch: 3| Training loss: 0.529366| Validation loss: 0.573205\n",
      "Epoch: 4| Training loss: 0.504087| Validation loss: 0.558725\n",
      "Epoch: 5| Training loss: 0.484843| Validation loss: 0.547001\n",
      "Epoch: 6| Training loss: 0.466700| Validation loss: 0.535318\n",
      "Epoch: 7| Training loss: 0.451158| Validation loss: 0.527771\n",
      "Epoch: 8| Training loss: 0.437468| Validation loss: 0.517818\n",
      "Epoch: 9| Training loss: 0.424634| Validation loss: 0.511271\n",
      "Epoch: 10| Training loss: 0.412890| Validation loss: 0.506388\n",
      "Epoch: 11| Training loss: 0.402786| Validation loss: 0.498063\n",
      "Epoch: 12| Training loss: 0.393038| Validation loss: 0.492342\n",
      "Epoch: 13| Training loss: 0.383847| Validation loss: 0.487873\n",
      "Epoch: 14| Training loss: 0.375354| Validation loss: 0.482288\n",
      "Epoch: 15| Training loss: 0.367488| Validation loss: 0.478083\n",
      "Epoch: 16| Training loss: 0.359639| Validation loss: 0.474079\n",
      "Epoch: 17| Training loss: 0.353386| Validation loss: 0.470512\n",
      "Epoch: 18| Training loss: 0.346844| Validation loss: 0.466224\n",
      "Epoch: 19| Training loss: 0.340641| Validation loss: 0.463125\n",
      "Epoch: 20| Training loss: 0.334740| Validation loss: 0.459862\n",
      "Epoch: 21| Training loss: 0.329114| Validation loss: 0.457129\n",
      "Epoch: 22| Training loss: 0.323624| Validation loss: 0.454427\n",
      "Epoch: 23| Training loss: 0.318553| Validation loss: 0.451306\n",
      "Epoch: 24| Training loss: 0.313226| Validation loss: 0.450604\n",
      "Epoch: 25| Training loss: 0.309070| Validation loss: 0.446489\n",
      "Epoch: 26| Training loss: 0.304203| Validation loss: 0.444248\n",
      "Epoch: 27| Training loss: 0.300049| Validation loss: 0.442066\n",
      "Epoch: 28| Training loss: 0.295842| Validation loss: 0.439905\n",
      "Epoch: 29| Training loss: 0.291173| Validation loss: 0.439564\n",
      "Epoch: 30| Training loss: 0.287959| Validation loss: 0.436099\n",
      "Epoch: 31| Training loss: 0.284101| Validation loss: 0.434297\n",
      "Epoch: 32| Training loss: 0.280268| Validation loss: 0.433568\n",
      "Epoch: 33| Training loss: 0.276897| Validation loss: 0.431055\n",
      "Epoch: 34| Training loss: 0.273508| Validation loss: 0.429524\n",
      "Epoch: 35| Training loss: 0.270232| Validation loss: 0.427975\n",
      "Epoch: 36| Training loss: 0.267050| Validation loss: 0.426493\n",
      "Epoch: 37| Training loss: 0.263841| Validation loss: 0.425139\n",
      "Epoch: 38| Training loss: 0.260891| Validation loss: 0.423855\n",
      "Epoch: 39| Training loss: 0.257890| Validation loss: 0.422546\n",
      "Epoch: 40| Training loss: 0.255103| Validation loss: 0.421299\n",
      "Epoch: 41| Training loss: 0.252261| Validation loss: 0.420094\n",
      "Epoch: 42| Training loss: 0.249596| Validation loss: 0.418978\n",
      "Epoch: 43| Training loss: 0.246947| Validation loss: 0.417909\n",
      "Epoch: 44| Training loss: 0.244280| Validation loss: 0.416839\n",
      "Epoch: 45| Training loss: 0.241915| Validation loss: 0.415810\n",
      "Epoch: 46| Training loss: 0.239374| Validation loss: 0.415010\n",
      "Epoch: 47| Training loss: 0.237038| Validation loss: 0.414063\n",
      "Epoch: 48| Training loss: 0.234684| Validation loss: 0.413093\n",
      "Epoch: 49| Training loss: 0.232442| Validation loss: 0.412263\n",
      "Epoch: 50| Training loss: 0.230250| Validation loss: 0.411310\n",
      "Epoch: 51| Training loss: 0.228089| Validation loss: 0.410531\n",
      "Epoch: 52| Training loss: 0.225930| Validation loss: 0.409697\n",
      "Epoch: 53| Training loss: 0.223829| Validation loss: 0.408875\n",
      "Epoch: 54| Training loss: 0.221801| Validation loss: 0.408303\n",
      "Epoch: 55| Training loss: 0.219784| Validation loss: 0.407693\n",
      "Epoch: 56| Training loss: 0.218012| Validation loss: 0.406730\n",
      "Epoch: 57| Training loss: 0.216046| Validation loss: 0.406048\n",
      "Epoch: 58| Training loss: 0.214212| Validation loss: 0.405371\n",
      "Epoch: 59| Training loss: 0.212345| Validation loss: 0.404714\n",
      "Epoch: 60| Training loss: 0.210530| Validation loss: 0.404167\n",
      "Epoch: 61| Training loss: 0.208754| Validation loss: 0.403540\n",
      "Epoch: 62| Training loss: 0.206992| Validation loss: 0.402979\n",
      "Epoch: 63| Training loss: 0.205349| Validation loss: 0.402456\n",
      "Epoch: 64| Training loss: 0.203585| Validation loss: 0.401979\n",
      "Epoch: 65| Training loss: 0.202019| Validation loss: 0.401436\n",
      "Epoch: 66| Training loss: 0.200471| Validation loss: 0.400860\n",
      "Epoch: 67| Training loss: 0.198860| Validation loss: 0.400353\n",
      "Epoch: 68| Training loss: 0.197410| Validation loss: 0.399769\n",
      "Epoch: 69| Training loss: 0.195888| Validation loss: 0.399282\n",
      "Epoch: 70| Training loss: 0.194294| Validation loss: 0.399009\n",
      "Epoch: 71| Training loss: 0.192774| Validation loss: 0.398685\n",
      "Epoch: 72| Training loss: 0.191580| Validation loss: 0.397937\n",
      "Epoch: 73| Training loss: 0.190028| Validation loss: 0.397608\n",
      "Epoch: 74| Training loss: 0.188627| Validation loss: 0.397132\n",
      "Epoch: 75| Training loss: 0.187333| Validation loss: 0.396666\n",
      "Epoch: 76| Training loss: 0.185997| Validation loss: 0.396285\n",
      "Epoch: 77| Training loss: 0.184624| Validation loss: 0.395946\n",
      "Epoch: 78| Training loss: 0.183377| Validation loss: 0.395544\n",
      "Epoch: 79| Training loss: 0.182103| Validation loss: 0.395170\n",
      "Epoch: 80| Training loss: 0.180834| Validation loss: 0.394814\n",
      "Epoch: 81| Training loss: 0.179605| Validation loss: 0.394471\n",
      "Epoch: 82| Training loss: 0.178311| Validation loss: 0.394269\n",
      "Epoch: 83| Training loss: 0.177135| Validation loss: 0.393845\n",
      "Epoch: 84| Training loss: 0.175822| Validation loss: 0.393893\n"
     ]
    }
   ],
   "source": [
    "w_count, loss_tr_count, dev_loss_count = SGD(X_tr_count, Y_tr, \n",
    "                                             X_dev=X_dev_count, \n",
    "                                             Y_dev=Y_dev, \n",
    "                                             lr=0.0001, \n",
    "                                             alpha=0.001, \n",
    "                                             epochs=100)"
   ]
  },
  {
   "cell_type": "markdown",
   "metadata": {},
   "source": [
    "Now plot the training and validation history per epoch. Does your model underfit, overfit or is it about right? Explain why."
   ]
  },
  {
   "cell_type": "code",
   "execution_count": 31,
   "metadata": {
    "ExecuteTime": {
     "end_time": "2020-04-17T21:42:06.283927Z",
     "start_time": "2020-04-17T21:42:06.150432Z"
    },
    "cell_style": "center",
    "run_control": {
     "marked": true
    }
   },
   "outputs": [
    {
     "data": {
      "image/png": "[encoded data removed]",
      "text/plain": [
       "<Figure size 432x288 with 1 Axes>"
      ]
     },
     "metadata": {
      "needs_background": "light"
     },
     "output_type": "display_data"
    }
   ],
   "source": [
    "%matplotlib inline\n",
    "fig = plt.figure()\n",
    "plt.plot(range(len(loss_tr_count)),loss_tr_count,label='training loss')\n",
    "plt.plot(range(len(dev_loss_count)),dev_loss_count,label='validation loss')\n",
    "\n",
    "plt.xlabel('Epochs')\n",
    "plt.ylabel('Loss')\n",
    "plt.title('Training Monitoring')\n",
    "\n",
    "plt.legend()\n",
    "plt.show()"
   ]
  },
  {
   "cell_type": "markdown",
   "metadata": {
    "ExecuteTime": {
     "end_time": "2020-01-21T16:52:26.583150Z",
     "start_time": "2020-01-21T16:52:26.578754Z"
    }
   },
   "source": [
    "Explain here...\n",
    "\n",
    "**Conclusion:** No overfitting or underfitting. \n",
    "\n",
    "* **Discuss Overfitting:** epochs have not been completed, and learning stopped about 93 epochs, because it stopped before the loss of validation had increased. \n",
    "\n",
    "* **Discuss Underfitting:** Before stopping learning, the loss of validation continues to decrease, and stop learning when the difference in loss reduction of validation is below a threshold."
   ]
  },
  {
   "cell_type": "markdown",
   "metadata": {},
   "source": [
    "Compute accuracy, precision, recall and F1-scores:"
   ]
  },
  {
   "cell_type": "code",
   "execution_count": 32,
   "metadata": {
    "ExecuteTime": {
     "end_time": "2020-04-17T21:42:06.292638Z",
     "start_time": "2020-04-17T21:42:06.285008Z"
    },
    "code_folding": [],
    "run_control": {
     "marked": true
    }
   },
   "outputs": [
    {
     "name": "stdout",
     "output_type": "stream",
     "text": [
      "Accuracy: 0.8325\n",
      "Precision: 0.824390243902439\n",
      "Recall: 0.845\n",
      "F1-Score: 0.8345679012345678\n"
     ]
    }
   ],
   "source": [
    "# fill in your code...\n",
    "preds_te_count = predict_class(X_te_count,w_count)\n",
    "\n",
    "print('Accuracy:', accuracy_score(Y_te,preds_te_count))\n",
    "print('Precision:', precision_score(Y_te,preds_te_count))\n",
    "print('Recall:', recall_score(Y_te,preds_te_count))\n",
    "print('F1-Score:', f1_score(Y_te,preds_te_count))"
   ]
  },
  {
   "cell_type": "markdown",
   "metadata": {},
   "source": [
    "Finally, print the top-10 words for the negative and positive class respectively."
   ]
  },
  {
   "cell_type": "code",
   "execution_count": 33,
   "metadata": {
    "ExecuteTime": {
     "end_time": "2020-04-17T21:42:06.297623Z",
     "start_time": "2020-04-17T21:42:06.293706Z"
    },
    "run_control": {
     "marked": true
    }
   },
   "outputs": [
    {
     "name": "stdout",
     "output_type": "stream",
     "text": [
      "['bad', 'only', 'unfortunately', 'worst', 'script', 'boring', 'why', 'plot', 'any', 'nothing']\n"
     ]
    }
   ],
   "source": [
    "# fill in your code...\n",
    "sorted_index = w_count.copy().flatten().argsort()\n",
    "top_neg_ngram = [vocab[i] for i in sorted_index[:10]]\n",
    "print(top_neg_ngram)"
   ]
  },
  {
   "cell_type": "code",
   "execution_count": 34,
   "metadata": {
    "ExecuteTime": {
     "end_time": "2020-04-17T21:42:06.302748Z",
     "start_time": "2020-04-17T21:42:06.298638Z"
    },
    "run_control": {
     "marked": true
    }
   },
   "outputs": [
    {
     "name": "stdout",
     "output_type": "stream",
     "text": [
      "['great', 'well', 'seen', 'fun', 'also', 'many', 'life', 'both', 'world', 'movies']\n"
     ]
    }
   ],
   "source": [
    "# fill in your code...\n",
    "top_pos_ngram = [vocab[i] for i in sorted_index[-10:][::-1]]\n",
    "print(top_pos_ngram)"
   ]
  },
  {
   "cell_type": "markdown",
   "metadata": {},
   "source": [
    "If we were to apply the classifier we've learned into a different domain such laptop reviews or restaurant reviews, do you think these features would generalise well? Can you propose what features the classifier could pick up as important in the new domain?"
   ]
  },
  {
   "cell_type": "markdown",
   "metadata": {},
   "source": [
    "Provide your answer here...\n",
    "\n",
    "**Conclusion:** No, it can't. \n",
    "* **Data distribution:** Although the model can be used in other domain, the learned parameters are not. The data in the training set should be independent and identically distributed. However, after switching domains, the data may never appear in the training set, which means that the data set in this field is distributed in the training set as 0. This can lead to poor performance.\n",
    "* **Vocabulary Corpus:** New words appearing in different domain can also lead to poor performance.\n",
    "\n",
    "According to the existing training models and parameters, the classifier can only extract as important features the same as the training set. Extracting new features can be obtained by retraining the classifier"
   ]
  },
  {
   "cell_type": "markdown",
   "metadata": {},
   "source": [
    "## Train and Evaluate Logistic Regression with TF.IDF vectors\n",
    "\n",
    "Follow the same steps as above (i.e. evaluating count n-gram representations).\n"
   ]
  },
  {
   "cell_type": "code",
   "execution_count": 35,
   "metadata": {
    "ExecuteTime": {
     "end_time": "2020-04-17T21:42:36.075291Z",
     "start_time": "2020-04-17T21:42:06.303769Z"
    },
    "run_control": {
     "marked": true
    },
    "scrolled": true
   },
   "outputs": [
    {
     "name": "stdout",
     "output_type": "stream",
     "text": [
      "Epoch: 0| Training loss: 0.653665| Validation loss: 0.664961\n",
      "Epoch: 1| Training loss: 0.608054| Validation loss: 0.643121\n",
      "Epoch: 2| Training loss: 0.571196| Validation loss: 0.625449\n",
      "Epoch: 3| Training loss: 0.540446| Validation loss: 0.610153\n",
      "Epoch: 4| Training loss: 0.514034| Validation loss: 0.596808\n",
      "Epoch: 5| Training loss: 0.491019| Validation loss: 0.585204\n",
      "Epoch: 6| Training loss: 0.470830| Validation loss: 0.575009\n",
      "Epoch: 7| Training loss: 0.452764| Validation loss: 0.565822\n",
      "Epoch: 8| Training loss: 0.436492| Validation loss: 0.557467\n",
      "Epoch: 9| Training loss: 0.421763| Validation loss: 0.549915\n",
      "Epoch: 10| Training loss: 0.408288| Validation loss: 0.542950\n",
      "Epoch: 11| Training loss: 0.395884| Validation loss: 0.536590\n",
      "Epoch: 12| Training loss: 0.384441| Validation loss: 0.530683\n",
      "Epoch: 13| Training loss: 0.373801| Validation loss: 0.525173\n",
      "Epoch: 14| Training loss: 0.363905| Validation loss: 0.520023\n",
      "Epoch: 15| Training loss: 0.354620| Validation loss: 0.515255\n",
      "Epoch: 16| Training loss: 0.345930| Validation loss: 0.510735\n",
      "Epoch: 17| Training loss: 0.337723| Validation loss: 0.506494\n",
      "Epoch: 18| Training loss: 0.330009| Validation loss: 0.502429\n",
      "Epoch: 19| Training loss: 0.322690| Validation loss: 0.498592\n",
      "Epoch: 20| Training loss: 0.315737| Validation loss: 0.495046\n",
      "Epoch: 21| Training loss: 0.309183| Validation loss: 0.491596\n",
      "Epoch: 22| Training loss: 0.302908| Validation loss: 0.488275\n",
      "Epoch: 23| Training loss: 0.296922| Validation loss: 0.485115\n",
      "Epoch: 24| Training loss: 0.291222| Validation loss: 0.482157\n",
      "Epoch: 25| Training loss: 0.285762| Validation loss: 0.479337\n",
      "Epoch: 26| Training loss: 0.280531| Validation loss: 0.476539\n",
      "Epoch: 27| Training loss: 0.275494| Validation loss: 0.473998\n",
      "Epoch: 28| Training loss: 0.270701| Validation loss: 0.471521\n",
      "Epoch: 29| Training loss: 0.266088| Validation loss: 0.469020\n",
      "Epoch: 30| Training loss: 0.261633| Validation loss: 0.466709\n",
      "Epoch: 31| Training loss: 0.257353| Validation loss: 0.464462\n",
      "Epoch: 32| Training loss: 0.253225| Validation loss: 0.462255\n",
      "Epoch: 33| Training loss: 0.249242| Validation loss: 0.460161\n",
      "Epoch: 34| Training loss: 0.245354| Validation loss: 0.458270\n",
      "Epoch: 35| Training loss: 0.241678| Validation loss: 0.456234\n",
      "Epoch: 36| Training loss: 0.238083| Validation loss: 0.454361\n",
      "Epoch: 37| Training loss: 0.234605| Validation loss: 0.452545\n",
      "Epoch: 38| Training loss: 0.231239| Validation loss: 0.450748\n",
      "Epoch: 39| Training loss: 0.227971| Validation loss: 0.449023\n",
      "Epoch: 40| Training loss: 0.224813| Validation loss: 0.447403\n",
      "Epoch: 41| Training loss: 0.221744| Validation loss: 0.445785\n",
      "Epoch: 42| Training loss: 0.218762| Validation loss: 0.444188\n",
      "Epoch: 43| Training loss: 0.215872| Validation loss: 0.442692\n",
      "Epoch: 44| Training loss: 0.213047| Validation loss: 0.441291\n",
      "Epoch: 45| Training loss: 0.210323| Validation loss: 0.439825\n",
      "Epoch: 46| Training loss: 0.207662| Validation loss: 0.438422\n",
      "Epoch: 47| Training loss: 0.205077| Validation loss: 0.437066\n",
      "Epoch: 48| Training loss: 0.202545| Validation loss: 0.435833\n",
      "Epoch: 49| Training loss: 0.200100| Validation loss: 0.434578\n",
      "Epoch: 50| Training loss: 0.197712| Validation loss: 0.433299\n",
      "Epoch: 51| Training loss: 0.195379| Validation loss: 0.432061\n",
      "Epoch: 52| Training loss: 0.193106| Validation loss: 0.430898\n",
      "Epoch: 53| Training loss: 0.190886| Validation loss: 0.429796\n",
      "Epoch: 54| Training loss: 0.188726| Validation loss: 0.428683\n",
      "Epoch: 55| Training loss: 0.186603| Validation loss: 0.427523\n",
      "Epoch: 56| Training loss: 0.184542| Validation loss: 0.426520\n",
      "Epoch: 57| Training loss: 0.182532| Validation loss: 0.425477\n",
      "Epoch: 58| Training loss: 0.180559| Validation loss: 0.424519\n",
      "Epoch: 59| Training loss: 0.178638| Validation loss: 0.423525\n",
      "Epoch: 60| Training loss: 0.176757| Validation loss: 0.422549\n",
      "Epoch: 61| Training loss: 0.174912| Validation loss: 0.421590\n",
      "Epoch: 62| Training loss: 0.173111| Validation loss: 0.420688\n",
      "Epoch: 63| Training loss: 0.171347| Validation loss: 0.419765\n",
      "Epoch: 64| Training loss: 0.169625| Validation loss: 0.418908\n",
      "Epoch: 65| Training loss: 0.167933| Validation loss: 0.418039\n",
      "Epoch: 66| Training loss: 0.166278| Validation loss: 0.417199\n",
      "Epoch: 67| Training loss: 0.164657| Validation loss: 0.416375\n",
      "Epoch: 68| Training loss: 0.163065| Validation loss: 0.415624\n",
      "Epoch: 69| Training loss: 0.161510| Validation loss: 0.414812\n",
      "Epoch: 70| Training loss: 0.159981| Validation loss: 0.414015\n",
      "Epoch: 71| Training loss: 0.158485| Validation loss: 0.413315\n",
      "Epoch: 72| Training loss: 0.157018| Validation loss: 0.412569\n",
      "Epoch: 73| Training loss: 0.155577| Validation loss: 0.411883\n",
      "Epoch: 74| Training loss: 0.154167| Validation loss: 0.411176\n",
      "Epoch: 75| Training loss: 0.152775| Validation loss: 0.410460\n",
      "Epoch: 76| Training loss: 0.151417| Validation loss: 0.409836\n",
      "Epoch: 77| Training loss: 0.150074| Validation loss: 0.409246\n",
      "Epoch: 78| Training loss: 0.148769| Validation loss: 0.408586\n",
      "Epoch: 79| Training loss: 0.147479| Validation loss: 0.407945\n",
      "Epoch: 80| Training loss: 0.146213| Validation loss: 0.407311\n",
      "Epoch: 81| Training loss: 0.144970| Validation loss: 0.406707\n",
      "Epoch: 82| Training loss: 0.143746| Validation loss: 0.406106\n",
      "Epoch: 83| Training loss: 0.142546| Validation loss: 0.405533\n",
      "Epoch: 84| Training loss: 0.141364| Validation loss: 0.404993\n",
      "Epoch: 85| Training loss: 0.140204| Validation loss: 0.404411\n",
      "Epoch: 86| Training loss: 0.139062| Validation loss: 0.403858\n",
      "Epoch: 87| Training loss: 0.137937| Validation loss: 0.403349\n",
      "Epoch: 88| Training loss: 0.136836| Validation loss: 0.402806\n",
      "Epoch: 89| Training loss: 0.135748| Validation loss: 0.402286\n",
      "Epoch: 90| Training loss: 0.134677| Validation loss: 0.401744\n",
      "Epoch: 91| Training loss: 0.133626| Validation loss: 0.401228\n",
      "Epoch: 92| Training loss: 0.132593| Validation loss: 0.400749\n",
      "Epoch: 93| Training loss: 0.131574| Validation loss: 0.400269\n",
      "Epoch: 94| Training loss: 0.130569| Validation loss: 0.399797\n",
      "Epoch: 95| Training loss: 0.129580| Validation loss: 0.399308\n",
      "Epoch: 96| Training loss: 0.128602| Validation loss: 0.398921\n",
      "Epoch: 97| Training loss: 0.127652| Validation loss: 0.398484\n",
      "Epoch: 98| Training loss: 0.126705| Validation loss: 0.398002\n",
      "Epoch: 99| Training loss: 0.125779| Validation loss: 0.397577\n",
      "Epoch: 100| Training loss: 0.124864| Validation loss: 0.397158\n",
      "Epoch: 101| Training loss: 0.123959| Validation loss: 0.396750\n",
      "Epoch: 102| Training loss: 0.123071| Validation loss: 0.396343\n",
      "Epoch: 103| Training loss: 0.122195| Validation loss: 0.395940\n",
      "Epoch: 104| Training loss: 0.121332| Validation loss: 0.395557\n",
      "Epoch: 105| Training loss: 0.120481| Validation loss: 0.395170\n",
      "Epoch: 106| Training loss: 0.119640| Validation loss: 0.394810\n",
      "Epoch: 107| Training loss: 0.118814| Validation loss: 0.394413\n",
      "Epoch: 108| Training loss: 0.117996| Validation loss: 0.394003\n",
      "Epoch: 109| Training loss: 0.117191| Validation loss: 0.393655\n",
      "Epoch: 110| Training loss: 0.116399| Validation loss: 0.393302\n",
      "Epoch: 111| Training loss: 0.115616| Validation loss: 0.392959\n",
      "Epoch: 112| Training loss: 0.114842| Validation loss: 0.392615\n",
      "Epoch: 113| Training loss: 0.114082| Validation loss: 0.392277\n",
      "Epoch: 114| Training loss: 0.113329| Validation loss: 0.391926\n",
      "Epoch: 115| Training loss: 0.112586| Validation loss: 0.391600\n",
      "Epoch: 116| Training loss: 0.111855| Validation loss: 0.391291\n",
      "Epoch: 117| Training loss: 0.111131| Validation loss: 0.390962\n",
      "Epoch: 118| Training loss: 0.110417| Validation loss: 0.390663\n",
      "Epoch: 119| Training loss: 0.109714| Validation loss: 0.390354\n",
      "Epoch: 120| Training loss: 0.109019| Validation loss: 0.390020\n",
      "Epoch: 121| Training loss: 0.108332| Validation loss: 0.389727\n",
      "Epoch: 122| Training loss: 0.107654| Validation loss: 0.389437\n",
      "Epoch: 123| Training loss: 0.106985| Validation loss: 0.389151\n",
      "Epoch: 124| Training loss: 0.106325| Validation loss: 0.388860\n",
      "Epoch: 125| Training loss: 0.105671| Validation loss: 0.388566\n",
      "Epoch: 126| Training loss: 0.105027| Validation loss: 0.388283\n",
      "Epoch: 127| Training loss: 0.104390| Validation loss: 0.388008\n",
      "Epoch: 128| Training loss: 0.103760| Validation loss: 0.387762\n",
      "Epoch: 129| Training loss: 0.103139| Validation loss: 0.387495\n",
      "Epoch: 130| Training loss: 0.102525| Validation loss: 0.387226\n",
      "Epoch: 131| Training loss: 0.101918| Validation loss: 0.386978\n"
     ]
    },
    {
     "name": "stdout",
     "output_type": "stream",
     "text": [
      "Epoch: 132| Training loss: 0.101314| Validation loss: 0.386761\n",
      "Epoch: 133| Training loss: 0.100725| Validation loss: 0.386481\n",
      "Epoch: 134| Training loss: 0.100140| Validation loss: 0.386223\n",
      "Epoch: 135| Training loss: 0.099560| Validation loss: 0.385974\n",
      "Epoch: 136| Training loss: 0.098988| Validation loss: 0.385740\n",
      "Epoch: 137| Training loss: 0.098422| Validation loss: 0.385508\n",
      "Epoch: 138| Training loss: 0.097863| Validation loss: 0.385270\n",
      "Epoch: 139| Training loss: 0.097310| Validation loss: 0.385047\n",
      "Epoch: 140| Training loss: 0.096763| Validation loss: 0.384827\n",
      "Epoch: 141| Training loss: 0.096222| Validation loss: 0.384605\n",
      "Epoch: 142| Training loss: 0.095687| Validation loss: 0.384392\n",
      "Epoch: 143| Training loss: 0.095159| Validation loss: 0.384179\n",
      "Epoch: 144| Training loss: 0.094636| Validation loss: 0.383967\n",
      "Epoch: 145| Training loss: 0.094118| Validation loss: 0.383775\n",
      "Epoch: 146| Training loss: 0.093607| Validation loss: 0.383583\n",
      "Epoch: 147| Training loss: 0.093101| Validation loss: 0.383389\n",
      "Epoch: 148| Training loss: 0.092601| Validation loss: 0.383183\n",
      "Epoch: 149| Training loss: 0.092105| Validation loss: 0.382978\n",
      "Epoch: 150| Training loss: 0.091615| Validation loss: 0.382776\n",
      "Epoch: 151| Training loss: 0.091130| Validation loss: 0.382597\n",
      "Epoch: 152| Training loss: 0.090651| Validation loss: 0.382394\n",
      "Epoch: 153| Training loss: 0.090176| Validation loss: 0.382213\n",
      "Epoch: 154| Training loss: 0.089706| Validation loss: 0.382019\n",
      "Epoch: 155| Training loss: 0.089242| Validation loss: 0.381844\n",
      "Epoch: 156| Training loss: 0.088782| Validation loss: 0.381661\n",
      "Epoch: 157| Training loss: 0.088326| Validation loss: 0.381474\n",
      "Epoch: 158| Training loss: 0.087875| Validation loss: 0.381321\n",
      "Epoch: 159| Training loss: 0.087429| Validation loss: 0.381155\n",
      "Epoch: 160| Training loss: 0.086987| Validation loss: 0.380988\n",
      "Epoch: 161| Training loss: 0.086550| Validation loss: 0.380802\n",
      "Epoch: 162| Training loss: 0.086118| Validation loss: 0.380626\n",
      "Epoch: 163| Training loss: 0.085688| Validation loss: 0.380484\n",
      "Epoch: 164| Training loss: 0.085265| Validation loss: 0.380319\n",
      "Epoch: 165| Training loss: 0.084844| Validation loss: 0.380158\n",
      "Epoch: 166| Training loss: 0.084428| Validation loss: 0.379992\n",
      "Epoch: 167| Training loss: 0.084016| Validation loss: 0.379851\n",
      "Epoch: 168| Training loss: 0.083608| Validation loss: 0.379705\n",
      "Epoch: 169| Training loss: 0.083204| Validation loss: 0.379559\n",
      "Epoch: 170| Training loss: 0.082804| Validation loss: 0.379415\n",
      "Epoch: 171| Training loss: 0.082407| Validation loss: 0.379268\n",
      "Epoch: 172| Training loss: 0.082015| Validation loss: 0.379128\n",
      "Epoch: 173| Training loss: 0.081626| Validation loss: 0.378979\n",
      "Epoch: 174| Training loss: 0.081241| Validation loss: 0.378830\n",
      "Epoch: 175| Training loss: 0.080859| Validation loss: 0.378701\n",
      "Epoch: 176| Training loss: 0.080481| Validation loss: 0.378563\n",
      "Epoch: 177| Training loss: 0.080107| Validation loss: 0.378435\n",
      "Epoch: 178| Training loss: 0.079736| Validation loss: 0.378302\n",
      "Epoch: 179| Training loss: 0.079367| Validation loss: 0.378177\n",
      "Epoch: 180| Training loss: 0.079003| Validation loss: 0.378035\n",
      "Epoch: 181| Training loss: 0.078642| Validation loss: 0.377906\n",
      "Epoch: 182| Training loss: 0.078285| Validation loss: 0.377792\n",
      "Epoch: 183| Training loss: 0.077930| Validation loss: 0.377671\n",
      "Epoch: 184| Training loss: 0.077579| Validation loss: 0.377543\n",
      "Epoch: 185| Training loss: 0.077231| Validation loss: 0.377431\n",
      "Epoch: 186| Training loss: 0.076885| Validation loss: 0.377296\n",
      "Epoch: 187| Training loss: 0.076543| Validation loss: 0.377194\n",
      "Epoch: 188| Training loss: 0.076204| Validation loss: 0.377076\n",
      "Epoch: 189| Training loss: 0.075868| Validation loss: 0.376960\n",
      "Epoch: 190| Training loss: 0.075535| Validation loss: 0.376833\n",
      "Epoch: 191| Training loss: 0.075205| Validation loss: 0.376729\n",
      "Epoch: 192| Training loss: 0.074878| Validation loss: 0.376624\n",
      "Epoch: 193| Training loss: 0.074553| Validation loss: 0.376510\n",
      "Epoch: 194| Training loss: 0.074231| Validation loss: 0.376394\n",
      "Epoch: 195| Training loss: 0.073912| Validation loss: 0.376302\n"
     ]
    }
   ],
   "source": [
    "w_tfidf, trl, devl = SGD(X_tr_tfidf, Y_tr, \n",
    "                         X_dev=X_dev_tfidf, \n",
    "                         Y_dev=Y_dev, \n",
    "                         lr=0.0001, \n",
    "                         alpha=0.0001, \n",
    "                         epochs=200)"
   ]
  },
  {
   "cell_type": "markdown",
   "metadata": {},
   "source": [
    "Now plot the training and validation history per epoch. Does your model underfit, overfit or is it about right? Explain why."
   ]
  },
  {
   "cell_type": "code",
   "execution_count": 36,
   "metadata": {
    "ExecuteTime": {
     "end_time": "2020-04-17T21:42:36.243864Z",
     "start_time": "2020-04-17T21:42:36.076482Z"
    },
    "cell_style": "center",
    "run_control": {
     "marked": true
    }
   },
   "outputs": [
    {
     "data": {
      "image/png": "[encoded data removed]",
      "text/plain": [
       "<Figure size 432x288 with 1 Axes>"
      ]
     },
     "metadata": {
      "needs_background": "light"
     },
     "output_type": "display_data"
    }
   ],
   "source": [
    "%matplotlib inline\n",
    "fig = plt.figure()\n",
    "plt.plot(range(len(trl)),trl,label='training loss')\n",
    "plt.plot(range(len(devl)),devl,label='validation loss')\n",
    "\n",
    "plt.xlabel('Epochs')\n",
    "plt.ylabel('Loss')\n",
    "plt.title('Training Monitoring')\n",
    "\n",
    "plt.legend()\n",
    "plt.show()"
   ]
  },
  {
   "cell_type": "markdown",
   "metadata": {},
   "source": [
    "Compute accuracy, precision, recall and F1-scores:"
   ]
  },
  {
   "cell_type": "code",
   "execution_count": 37,
   "metadata": {
    "ExecuteTime": {
     "end_time": "2020-04-17T21:42:36.252753Z",
     "start_time": "2020-04-17T21:42:36.245016Z"
    },
    "run_control": {
     "marked": true
    }
   },
   "outputs": [
    {
     "name": "stdout",
     "output_type": "stream",
     "text": [
      "Accuracy: 0.8575\n",
      "Precision: 0.8629441624365483\n",
      "Recall: 0.85\n",
      "F1-Score: 0.8564231738035265\n"
     ]
    }
   ],
   "source": [
    "# fill in your code...\n",
    "preds_te = predict_class(X_te_tfidf,w_tfidf)\n",
    "\n",
    "print('Accuracy:', accuracy_score(Y_te,preds_te))\n",
    "print('Precision:', precision_score(Y_te,preds_te))\n",
    "print('Recall:', recall_score(Y_te,preds_te))\n",
    "print('F1-Score:', f1_score(Y_te,preds_te))"
   ]
  },
  {
   "cell_type": "markdown",
   "metadata": {},
   "source": [
    "Print top-10 most positive and negative words:"
   ]
  },
  {
   "cell_type": "code",
   "execution_count": 38,
   "metadata": {
    "ExecuteTime": {
     "end_time": "2020-04-17T21:42:36.257782Z",
     "start_time": "2020-04-17T21:42:36.253863Z"
    },
    "run_control": {
     "marked": true
    }
   },
   "outputs": [
    {
     "name": "stdout",
     "output_type": "stream",
     "text": [
      "['bad', 'worst', 'boring', 'supposed', 'unfortunately', 'script', 'nothing', 'why', 'waste', 'plot']\n"
     ]
    }
   ],
   "source": [
    "# fill in your code...\n",
    "sorted_index = w_tfidf.copy().flatten().argsort()\n",
    "top_neg_ngram = [vocab[i] for i in sorted_index[:10]]\n",
    "print(top_neg_ngram)"
   ]
  },
  {
   "cell_type": "code",
   "execution_count": 39,
   "metadata": {
    "ExecuteTime": {
     "end_time": "2020-04-17T21:42:36.263035Z",
     "start_time": "2020-04-17T21:42:36.258878Z"
    },
    "run_control": {
     "marked": true
    }
   },
   "outputs": [
    {
     "name": "stdout",
     "output_type": "stream",
     "text": [
      "['great', 'fun', 'hilarious', 'terrific', 'perfectly', 'memorable', 'overall', 'truman', 'definitely', 'seen']\n"
     ]
    }
   ],
   "source": [
    "# fill in your code...\n",
    "top_pos_ngram = [vocab[i] for i in sorted_index[-10:][::-1]]\n",
    "print(top_pos_ngram)"
   ]
  },
  {
   "cell_type": "markdown",
   "metadata": {},
   "source": [
    "### Discuss how did you choose model hyperparameters (e.g. learning rate and regularisation strength)? What is the relation between training epochs and learning rate? How the regularisation strength affects performance?"
   ]
  },
  {
   "cell_type": "markdown",
   "metadata": {},
   "source": [
    "Enter your answer here...\n",
    "\n",
    "**Hyperparameters:** Use grid search to find the optimal hyperparameters. This method is simple but time-consuming. Ideally, cross-validation should be used to screen the optimal hyperparameters, but because the training and validation sets have been divided, cross-validation is not very convenient.(Code of grid search is given below)\n",
    "\n",
    "**Relationship:** In simple terms, the smaller the learning rate, the more epochs are needed. But there are some special cases. **Epoch:** If there are too few epochs, there may be insufficient training, resulting in underfitting. If there are too many epochs, the loss may have already converged, and the extra epochs are too wasteful of time.\n",
    "**Learning rate:** Too large a learning rate will not only cause data overflow, but also cause the loss function to fail to converge. Too small a learning rate will consume training time. At the same time, the convex optimization problem should also be considered, otherwise, the loss function may fall into a local minimum.\n",
    "\n",
    "**Regularisation Strength:** Regularization prevents the classifier from overfitting by limiting the number of parameters. The regularization intensity refers to the size of the penalty. The higher the regularization intensity, the more limited the number of parameters. However, when the regularization intensity is too high, the loss function may not converge."
   ]
  },
  {
   "cell_type": "code",
   "execution_count": 40,
   "metadata": {
    "ExecuteTime": {
     "end_time": "2020-04-17T21:43:13.908935Z",
     "start_time": "2020-04-17T21:42:36.264143Z"
    }
   },
   "outputs": [
    {
     "data": {
      "image/png": "[encoded data removed]",
      "text/plain": [
       "<Figure size 432x288 with 1 Axes>"
      ]
     },
     "metadata": {
      "needs_background": "light"
     },
     "output_type": "display_data"
    }
   ],
   "source": [
    "def get_F1(lr,alpha):\n",
    "    w_tfidf, trl, devl = SGD(X_tr_tfidf, Y_tr, \n",
    "                         X_dev=X_dev_tfidf, \n",
    "                         Y_dev=Y_dev, \n",
    "                         lr=lr, \n",
    "                         alpha=alpha, \n",
    "                         epochs=200,\n",
    "                         print_progress=False)\n",
    "    preds_dev = predict_class(X_dev_tfidf,w_tfidf)\n",
    "    return accuracy_score(Y_dev,preds_dev)\n",
    "\n",
    "fig = plt.figure()\n",
    "lrs_num = 3\n",
    "alphas_num = 3\n",
    "lrs = np.linspace(0.0001,0.1,lrs_num)\n",
    "alphas = np.linspace(0.0001,10,alphas_num)\n",
    "\n",
    "record = list()\n",
    "for i in range(alphas_num):\n",
    "    alpha = alphas[i]\n",
    "    tmp = list()\n",
    "    for j in range(lrs_num):\n",
    "        lr = lrs[j]\n",
    "        score = get_F1(lr, alpha)\n",
    "        tmp.append(score)\n",
    "    plt.plot(lrs,tmp,label='alpha: {}'.format(alpha))\n",
    "\n",
    "plt.xlabel('Learning rate')\n",
    "plt.ylabel('Accuracy Score')\n",
    "plt.title('Hyperparameters: learning_rate & alpha')\n",
    "\n",
    "plt.legend()\n",
    "plt.show()"
   ]
  },
  {
   "cell_type": "code",
   "execution_count": 41,
   "metadata": {
    "ExecuteTime": {
     "end_time": "2020-04-17T21:44:09.750649Z",
     "start_time": "2020-04-17T21:43:13.910134Z"
    }
   },
   "outputs": [
    {
     "data": {
      "image/png": "[encoded data removed]",
      "text/plain": [
       "<Figure size 432x288 with 1 Axes>"
      ]
     },
     "metadata": {
      "needs_background": "light"
     },
     "output_type": "display_data"
    }
   ],
   "source": [
    "def get_F1(lr,epoch):\n",
    "    w_tfidf, trl, devl = SGD(X_tr_tfidf, Y_tr, \n",
    "                         X_dev=X_dev_tfidf, \n",
    "                         Y_dev=Y_dev, \n",
    "                         lr=lr, \n",
    "                         alpha=0.0001, \n",
    "                         epochs=epoch,\n",
    "                         print_progress=False)\n",
    "    preds_dev = predict_class(X_dev_tfidf,w_tfidf)\n",
    "    return accuracy_score(Y_dev,preds_dev)\n",
    "\n",
    "fig = plt.figure()\n",
    "lrs_num = 3\n",
    "epochs_num = 3\n",
    "lrs = np.linspace(0.0001,1,lrs_num)\n",
    "epochs = np.linspace(10,200,epochs_num,dtype=int)\n",
    "\n",
    "for i in range(epochs_num):\n",
    "    epoch = epochs[i]\n",
    "    tmp = list()\n",
    "    for j in range(lrs_num):\n",
    "        lr = lrs[j]\n",
    "        score = get_F1(lr,epoch)\n",
    "        tmp.append(score)\n",
    "    plt.plot(lrs,tmp,label='epochs: {}'.format(epoch))\n",
    "    \n",
    "plt.xlabel('Learning rate')\n",
    "plt.ylabel('Accuracy Score')\n",
    "plt.title('Hyperparameters: learning_rate & epochs')\n",
    "\n",
    "plt.legend()\n",
    "plt.show()"
   ]
  },
  {
   "cell_type": "markdown",
   "metadata": {},
   "source": [
    "\n",
    "\n",
    "## Full Results\n",
    "\n",
    "Add here your results:\n",
    "\n",
    "| LR | Precision  | Recall  | F1-Score  |\n",
    "|:-:|:-:|:-:|:-:|\n",
    "| BOW-count  |0.822   |0.855   |0.838   |\n",
    "| BOW-tfidf  |0.847   |0.860   |0.853   |\n"
   ]
  },
  {
   "cell_type": "markdown",
   "metadata": {},
   "source": [
    "# Multi-class Logistic Regression \n",
    "\n",
    "Now you need to train a Multiclass Logistic Regression (MLR) Classifier by extending the Binary model you developed above. You will use the MLR model to perform topic classification on the AG news dataset consisting of three classes:"
   ]
  },
  {
   "cell_type": "markdown",
   "metadata": {},
   "source": [
    "- Class 1: World\n",
    "- Class 2: Sports\n",
    "- Class 3: Business"
   ]
  },
  {
   "cell_type": "markdown",
   "metadata": {},
   "source": [
    "You need to follow the same process as in Task 1 for data processing and feature extraction by reusing the functions you wrote."
   ]
  },
  {
   "cell_type": "code",
   "execution_count": 42,
   "metadata": {
    "ExecuteTime": {
     "end_time": "2020-04-17T21:44:09.765062Z",
     "start_time": "2020-04-17T21:44:09.751826Z"
    },
    "run_control": {
     "marked": false
    }
   },
   "outputs": [
    {
     "name": "stdout",
     "output_type": "stream",
     "text": [
      "Finish loading:\n",
      "\ttrain.csv\n",
      "\ttest.csv\n",
      "\tdev.csv\n"
     ]
    }
   ],
   "source": [
    "# fill in your code...\n",
    "Data = FileLoader('data_topic',names=['label','text'])\n",
    "\n",
    "data_tr = Data.train\n",
    "data_te = Data.test\n",
    "data_dev = Data.dev"
   ]
  },
  {
   "cell_type": "code",
   "execution_count": 43,
   "metadata": {
    "ExecuteTime": {
     "end_time": "2020-04-17T21:44:09.772071Z",
     "start_time": "2020-04-17T21:44:09.766259Z"
    },
    "cell_style": "center",
    "run_control": {
     "marked": false
    }
   },
   "outputs": [
    {
     "data": {
      "text/html": [
       "<div>\n",
       "<style scoped>\n",
       "    .dataframe tbody tr th:only-of-type {\n",
       "        vertical-align: middle;\n",
       "    }\n",
       "\n",
       "    .dataframe tbody tr th {\n",
       "        vertical-align: top;\n",
       "    }\n",
       "\n",
       "    .dataframe thead th {\n",
       "        text-align: right;\n",
       "    }\n",
       "</style>\n",
       "<table border=\"1\" class=\"dataframe\">\n",
       "  <thead>\n",
       "    <tr style=\"text-align: right;\">\n",
       "      <th></th>\n",
       "      <th>label</th>\n",
       "      <th>text</th>\n",
       "    </tr>\n",
       "  </thead>\n",
       "  <tbody>\n",
       "    <tr>\n",
       "      <th>0</th>\n",
       "      <td>1</td>\n",
       "      <td>Reuters - Venezuelans turned out early\\and in ...</td>\n",
       "    </tr>\n",
       "    <tr>\n",
       "      <th>1</th>\n",
       "      <td>1</td>\n",
       "      <td>Reuters - South Korean police used water canno...</td>\n",
       "    </tr>\n",
       "    <tr>\n",
       "      <th>2</th>\n",
       "      <td>1</td>\n",
       "      <td>Reuters - Thousands of Palestinian\\prisoners i...</td>\n",
       "    </tr>\n",
       "    <tr>\n",
       "      <th>3</th>\n",
       "      <td>1</td>\n",
       "      <td>AFP - Sporadic gunfire and shelling took place...</td>\n",
       "    </tr>\n",
       "    <tr>\n",
       "      <th>4</th>\n",
       "      <td>1</td>\n",
       "      <td>AP - Dozens of Rwandan soldiers flew into Suda...</td>\n",
       "    </tr>\n",
       "  </tbody>\n",
       "</table>\n",
       "</div>"
      ],
      "text/plain": [
       "   label                                               text\n",
       "0      1  Reuters - Venezuelans turned out early\\and in ...\n",
       "1      1  Reuters - South Korean police used water canno...\n",
       "2      1  Reuters - Thousands of Palestinian\\prisoners i...\n",
       "3      1  AFP - Sporadic gunfire and shelling took place...\n",
       "4      1  AP - Dozens of Rwandan soldiers flew into Suda..."
      ]
     },
     "execution_count": 43,
     "metadata": {},
     "output_type": "execute_result"
    }
   ],
   "source": [
    "data_tr.head()"
   ]
  },
  {
   "cell_type": "code",
   "execution_count": 44,
   "metadata": {
    "ExecuteTime": {
     "end_time": "2020-04-17T21:44:09.777933Z",
     "start_time": "2020-04-17T21:44:09.773236Z"
    },
    "run_control": {
     "marked": false
    }
   },
   "outputs": [],
   "source": [
    "# fill in your code...\n",
    "X_tr_raw, Y_tr = transform(data_tr)\n",
    "X_te_raw, Y_te = transform(data_te)\n",
    "X_dev_raw, Y_dev = transform(data_dev)"
   ]
  },
  {
   "cell_type": "code",
   "execution_count": 45,
   "metadata": {
    "ExecuteTime": {
     "end_time": "2020-04-17T21:44:09.786640Z",
     "start_time": "2020-04-17T21:44:09.779083Z"
    },
    "cell_style": "split",
    "run_control": {
     "marked": false
    }
   },
   "outputs": [
    {
     "data": {
      "text/plain": [
       "['Reuters - Venezuelans turned out early\\\\and in large numbers on Sunday to vote in a historic referendum\\\\that will either remove left-wing President Hugo Chavez from\\\\office or give him a new mandate to govern for the next two\\\\years.']"
      ]
     },
     "execution_count": 45,
     "metadata": {},
     "output_type": "execute_result"
    }
   ],
   "source": [
    "X_tr_raw[:1]"
   ]
  },
  {
   "cell_type": "code",
   "execution_count": 46,
   "metadata": {
    "ExecuteTime": {
     "end_time": "2020-04-17T21:44:09.792595Z",
     "start_time": "2020-04-17T21:44:09.787959Z"
    },
    "cell_style": "split",
    "run_control": {
     "marked": false
    }
   },
   "outputs": [
    {
     "data": {
      "text/plain": [
       "array([[1],\n",
       "       [1],\n",
       "       [1],\n",
       "       ...,\n",
       "       [3],\n",
       "       [3],\n",
       "       [3]])"
      ]
     },
     "execution_count": 46,
     "metadata": {},
     "output_type": "execute_result"
    }
   ],
   "source": [
    "Y_tr"
   ]
  },
  {
   "cell_type": "code",
   "execution_count": 47,
   "metadata": {
    "ExecuteTime": {
     "end_time": "2020-04-17T21:44:10.095225Z",
     "start_time": "2020-04-17T21:44:09.793782Z"
    },
    "run_control": {
     "marked": false
    }
   },
   "outputs": [
    {
     "name": "stdout",
     "output_type": "stream",
     "text": [
      "5000\n",
      "\n",
      "['reuters', 'said', 'tuesday', 'new', 'wednesday', 'after', 'athens', 'ap', 'monday', 'first', 'their', 'us', 'olympic', 'york', ('new', 'york'), 'two', 'over', 'but', 'oil', 'inc', 'more', 'prices', 'year', 'company', 'world', 'gt', 'lt', 'than', 'aug', 'about', 'had', 'one', 'united', 'out', 'sunday', 'against', 'up', 'quot', 'into', 'fullquote', 'second', 'last', 'stocks', 'team', 'president', 'gold', 'percent', 'iraq', 'three', 'when', 'greece', 'night', ('york', 'reuters'), ('new', 'york', 'reuters'), 'time', 'not', 'no', 'games', 'yesterday', 'home', 'olympics', 'washington', 'states', 'off', ('united', 'states'), 'google', ('oil', 'prices'), 'day', 'public', 'billion', 'record', ('athens', 'reuters'), 'week', 'win', 'all', 'men', 'government', 'won', ('said', 'tuesday'), 'najaf', 'american', 'years', 'officials', 'today', 'city', 'would', 'shares', 'offering', 'people', 'final', 'medal', 'minister', 'afp', 'corp', 'sales', 'million', 'back', 'four', 'investor', 'com']\n",
      "\n",
      "[('reuters', 631), ('said', 432), ('tuesday', 413), ('wednesday', 344), ('new', 325), ('after', 295), ('ap', 275), ('athens', 245), ('monday', 221), ('first', 210)]\n"
     ]
    }
   ],
   "source": [
    "vocab, df, ngram_counts = get_vocab(X_tr_raw, ngram_range=(1,3), keep_topN=5000, stop_words=stop_words)\n",
    "print(len(vocab))\n",
    "print()\n",
    "print(list(vocab)[:100])\n",
    "print()\n",
    "print(df.most_common()[:10])"
   ]
  },
  {
   "cell_type": "code",
   "execution_count": 48,
   "metadata": {
    "ExecuteTime": {
     "end_time": "2020-04-17T21:44:16.368794Z",
     "start_time": "2020-04-17T21:44:10.096441Z"
    },
    "run_control": {
     "marked": false
    }
   },
   "outputs": [],
   "source": [
    "# fill in your code...\n",
    "vocab_tr, df_tr, ngram_counts_tr = get_vocab(X_tr_raw, ngram_range=(1,3), keep_topN=5000, stop_words=stop_words)\n",
    "vocab_dev, df_dev, ngram_counts_dev = get_vocab(X_dev_raw, ngram_range=(1,3), keep_topN=5000, stop_words=stop_words)\n",
    "vocab_te, df_te, ngram_counts_te = get_vocab(X_te_raw, ngram_range=(1,3), keep_topN=5000, stop_words=stop_words)\n",
    "\n",
    "X_tr_ngram = [extract_ngrams(line,ngram_range=(1,3),stop_words=stop_words) for line in X_tr_raw]\n",
    "X_te_ngram = [extract_ngrams(line,ngram_range=(1,3),stop_words=stop_words) for line in X_te_raw]\n",
    "X_dev_ngram = [extract_ngrams(line,ngram_range=(1,3),stop_words=stop_words) for line in X_dev_raw]\n",
    "\n",
    "X_tr_count = vectorise(X_tr_ngram, vocab_tr)\n",
    "X_te_count = vectorise(X_te_ngram, vocab_tr)\n",
    "X_dev_count = vectorise(X_dev_ngram, vocab_tr)"
   ]
  },
  {
   "cell_type": "markdown",
   "metadata": {},
   "source": [
    "Now you need to change `SGD` to support multiclass datasets. First you need to develop a `softmax` function. It takes as input:\n",
    "\n",
    "- `z`: array of real numbers \n",
    "\n",
    "and returns:\n",
    "\n",
    "- `smax`: the softmax of `z`"
   ]
  },
  {
   "cell_type": "code",
   "execution_count": 49,
   "metadata": {
    "ExecuteTime": {
     "end_time": "2020-04-17T21:44:16.373423Z",
     "start_time": "2020-04-17T21:44:16.369959Z"
    },
    "run_control": {
     "marked": false
    }
   },
   "outputs": [],
   "source": [
    "def softmax(z):\n",
    "    \n",
    "    # fill in your code...\n",
    "    z = z.copy()\n",
    "    #z -= np.max(z)\n",
    "    z = np.minimum(z,709.782)\n",
    "    smax = np.exp(z) / np.sum(np.exp(z),axis=1,keepdims=True)\n",
    "    \n",
    "    return smax"
   ]
  },
  {
   "cell_type": "markdown",
   "metadata": {},
   "source": [
    "Then modify `predict_proba` and `predict_class` functions for the multiclass case:"
   ]
  },
  {
   "cell_type": "code",
   "execution_count": 50,
   "metadata": {
    "ExecuteTime": {
     "end_time": "2020-04-17T21:44:16.388371Z",
     "start_time": "2020-04-17T21:44:16.374528Z"
    },
    "run_control": {
     "marked": false
    }
   },
   "outputs": [],
   "source": [
    "def predict_proba(X, weights):\n",
    "    \n",
    "    # fill in your code...\n",
    "    preds_proba = X.dot(weights.T)\n",
    "    \n",
    "    assert preds_proba.shape == (X.shape[0],weights.shape[0])\n",
    "    return softmax(preds_proba)"
   ]
  },
  {
   "cell_type": "code",
   "execution_count": 51,
   "metadata": {
    "ExecuteTime": {
     "end_time": "2020-04-17T21:44:16.394491Z",
     "start_time": "2020-04-17T21:44:16.389615Z"
    },
    "run_control": {
     "marked": false
    }
   },
   "outputs": [],
   "source": [
    "def predict_class(X, weights):\n",
    "    \n",
    "    # fill in your code...\n",
    "    preds_class = np.argmax(predict_proba(X, weights),axis=1)+1\n",
    "    \n",
    "    assert preds_class.shape == (X.shape[0],)\n",
    "    return preds_class"
   ]
  },
  {
   "cell_type": "markdown",
   "metadata": {},
   "source": [
    "Toy example and expected functionality of the functions above:"
   ]
  },
  {
   "cell_type": "code",
   "execution_count": 52,
   "metadata": {
    "ExecuteTime": {
     "end_time": "2020-04-17T21:44:16.400344Z",
     "start_time": "2020-04-17T21:44:16.395675Z"
    },
    "run_control": {
     "marked": false
    }
   },
   "outputs": [],
   "source": [
    "X = np.array([[0.1,0.2],[0.2,0.1],[0.1,-0.2]])\n",
    "w = np.array([[2,-5],[-5,2]])"
   ]
  },
  {
   "cell_type": "code",
   "execution_count": 53,
   "metadata": {
    "ExecuteTime": {
     "end_time": "2020-04-17T21:44:16.407671Z",
     "start_time": "2020-04-17T21:44:16.401349Z"
    },
    "run_control": {
     "marked": false
    }
   },
   "outputs": [
    {
     "data": {
      "text/plain": [
       "array([[0.33181223, 0.66818777],\n",
       "       [0.66818777, 0.33181223],\n",
       "       [0.89090318, 0.10909682]])"
      ]
     },
     "execution_count": 53,
     "metadata": {},
     "output_type": "execute_result"
    }
   ],
   "source": [
    "predict_proba(X, w)"
   ]
  },
  {
   "cell_type": "code",
   "execution_count": 54,
   "metadata": {
    "ExecuteTime": {
     "end_time": "2020-04-17T21:44:16.414045Z",
     "start_time": "2020-04-17T21:44:16.408786Z"
    },
    "run_control": {
     "marked": false
    }
   },
   "outputs": [
    {
     "data": {
      "text/plain": [
       "array([2, 1, 1])"
      ]
     },
     "execution_count": 54,
     "metadata": {},
     "output_type": "execute_result"
    }
   ],
   "source": [
    "predict_class(X, w)"
   ]
  },
  {
   "cell_type": "markdown",
   "metadata": {},
   "source": [
    "Now you need to compute the categorical cross entropy loss (extending the binary loss to support multiple classes)."
   ]
  },
  {
   "cell_type": "code",
   "execution_count": 55,
   "metadata": {
    "ExecuteTime": {
     "end_time": "2020-04-17T21:44:16.420532Z",
     "start_time": "2020-04-17T21:44:16.415136Z"
    },
    "run_control": {
     "marked": false
    }
   },
   "outputs": [],
   "source": [
    "def categorical_loss(X, Y, weights, num_classes=5, alpha=0.00001):\n",
    "    assert Y.shape[0] == X.shape[0]\n",
    "    eps = np.finfo(np.float64).eps\n",
    "    preds_proba = predict_proba(X, weights)\n",
    "    Y = np.eye(weights.shape[0],weights.shape[0])[Y-1].reshape(X.shape[0],weights.shape[0])\n",
    "    l1 = -np.sum(Y*np.log(preds_proba+eps),1) \n",
    "    l2 = alpha*np.sum(np.multiply(weights,weights))\n",
    "    l=np.mean(l1)+l2/X.shape[0]\n",
    "\n",
    "    return l"
   ]
  },
  {
   "cell_type": "code",
   "execution_count": 56,
   "metadata": {
    "ExecuteTime": {
     "end_time": "2020-04-17T21:44:16.428669Z",
     "start_time": "2020-04-17T21:44:16.421550Z"
    },
    "run_control": {
     "marked": false
    }
   },
   "outputs": [],
   "source": [
    "def gradient(X, Y, weights, alpha=0.00001):\n",
    "    #m = len(X)\n",
    "    Y_c = Y.copy()\n",
    "    Y = np.eye(weights.shape[0],weights.shape[0])[Y-1].reshape(X.shape[0],weights.shape[0])\n",
    "    h = predict_proba(X, weights)\n",
    "    #raise\n",
    "    dw = -np.dot(np.sum(Y-Y*h,axis=1),X) + 2*alpha*weights[(Y_c-1).item()]\n",
    "    return dw#/m"
   ]
  },
  {
   "cell_type": "markdown",
   "metadata": {
    "ExecuteTime": {
     "end_time": "2020-02-15T14:08:59.937442Z",
     "start_time": "2020-02-15T14:08:59.932221Z"
    }
   },
   "source": [
    "Finally you need to modify SGD to support the categorical cross entropy loss:"
   ]
  },
  {
   "cell_type": "code",
   "execution_count": 57,
   "metadata": {
    "ExecuteTime": {
     "end_time": "2020-04-17T21:44:16.438781Z",
     "start_time": "2020-04-17T21:44:16.429682Z"
    },
    "run_control": {
     "marked": false
    }
   },
   "outputs": [],
   "source": [
    "def SGD(X_tr, Y_tr, X_dev=[], Y_dev=[], num_classes=5, lr=0.01, alpha=0.00001, epochs=5, tolerance=0.001, print_progress=True):\n",
    "    \n",
    "    cur_loss_tr = 1.\n",
    "    cur_loss_dev = 1.\n",
    "    training_loss_history = []\n",
    "    validation_loss_history = []\n",
    "    \n",
    "    # fill in your code...\n",
    "    # Stage 1: Init weights\n",
    "    weights = np.zeros((num_classes,X_tr.shape[1]))\n",
    "    \n",
    "    # Stage 2: Init stochastic value\n",
    "    idx_list = np.array(range(X_tr.shape[0]))\n",
    "    \n",
    "    # Stage 3: Training\n",
    "    for epoch in range(epochs):\n",
    "        np.random.shuffle(idx_list) # disorder dataset\n",
    "        for i in idx_list:\n",
    "            X_tr_i, Y_tr_i = X_tr[i].reshape(1,-1),Y_tr[i].reshape(1,-1) # get a single data pair\n",
    "            dw = gradient(X_tr_i, Y_tr_i, weights, alpha) # gradient\n",
    "            weights[(Y_tr_i-1).item()] -= lr*dw # update       \n",
    "        loss_dev = categorical_loss(X_dev, Y_dev, weights, alpha)\n",
    "        loss_tr = categorical_loss(X_tr, Y_tr, weights, alpha)\n",
    "\n",
    "        # Add history\n",
    "        if epoch != 0:\n",
    "            training_loss_history.append(loss_tr)\n",
    "            validation_loss_history.append(loss_dev)\n",
    "        if print_progress == True: \n",
    "            print(\"Epoch: %d| Training loss: %f| Validation loss: %f\"%(epoch,loss_tr,loss_dev))\n",
    "        if epoch >1 and abs(validation_loss_history[-2]-validation_loss_history[-1]) <= tolerance:\n",
    "            break\n",
    "\n",
    "    return weights, training_loss_history, validation_loss_history"
   ]
  },
  {
   "cell_type": "markdown",
   "metadata": {
    "ExecuteTime": {
     "end_time": "2020-02-15T14:10:15.772383Z",
     "start_time": "2020-02-15T14:10:15.767855Z"
    }
   },
   "source": [
    "Now you are ready to train and evaluate you MLR following the same steps as in Task 1 for both Count and tfidf features:"
   ]
  },
  {
   "cell_type": "code",
   "execution_count": 58,
   "metadata": {
    "ExecuteTime": {
     "end_time": "2020-04-17T21:44:49.418192Z",
     "start_time": "2020-04-17T21:44:16.439822Z"
    },
    "run_control": {
     "marked": false
    }
   },
   "outputs": [
    {
     "name": "stdout",
     "output_type": "stream",
     "text": [
      "Epoch: 0| Training loss: 1.078243| Validation loss: 1.088259\n",
      "Epoch: 1| Training loss: 1.059483| Validation loss: 1.078396\n",
      "Epoch: 2| Training loss: 1.042074| Validation loss: 1.068955\n",
      "Epoch: 3| Training loss: 1.025876| Validation loss: 1.059905\n",
      "Epoch: 4| Training loss: 1.010698| Validation loss: 1.051195\n",
      "Epoch: 5| Training loss: 0.996390| Validation loss: 1.042787\n",
      "Epoch: 6| Training loss: 0.982839| Validation loss: 1.034648\n",
      "Epoch: 7| Training loss: 0.969951| Validation loss: 1.026755\n",
      "Epoch: 8| Training loss: 0.957656| Validation loss: 1.019087\n",
      "Epoch: 9| Training loss: 0.945890| Validation loss: 1.011625\n",
      "Epoch: 10| Training loss: 0.934608| Validation loss: 1.004357\n",
      "Epoch: 11| Training loss: 0.923765| Validation loss: 0.997270\n",
      "Epoch: 12| Training loss: 0.913329| Validation loss: 0.990351\n",
      "Epoch: 13| Training loss: 0.903270| Validation loss: 0.983594\n",
      "Epoch: 14| Training loss: 0.893561| Validation loss: 0.976989\n",
      "Epoch: 15| Training loss: 0.884181| Validation loss: 0.970531\n",
      "Epoch: 16| Training loss: 0.875109| Validation loss: 0.964213\n",
      "Epoch: 17| Training loss: 0.866327| Validation loss: 0.958030\n",
      "Epoch: 18| Training loss: 0.857821| Validation loss: 0.951976\n",
      "Epoch: 19| Training loss: 0.849575| Validation loss: 0.946046\n",
      "Epoch: 20| Training loss: 0.841575| Validation loss: 0.940238\n",
      "Epoch: 21| Training loss: 0.833811| Validation loss: 0.934545\n",
      "Epoch: 22| Training loss: 0.826269| Validation loss: 0.928965\n",
      "Epoch: 23| Training loss: 0.818940| Validation loss: 0.923495\n",
      "Epoch: 24| Training loss: 0.811814| Validation loss: 0.918130\n",
      "Epoch: 25| Training loss: 0.804882| Validation loss: 0.912867\n",
      "Epoch: 26| Training loss: 0.798136| Validation loss: 0.907705\n",
      "Epoch: 27| Training loss: 0.791566| Validation loss: 0.902638\n",
      "Epoch: 28| Training loss: 0.785167| Validation loss: 0.897667\n",
      "Epoch: 29| Training loss: 0.778930| Validation loss: 0.892785\n",
      "Epoch: 30| Training loss: 0.772850| Validation loss: 0.887993\n",
      "Epoch: 31| Training loss: 0.766920| Validation loss: 0.883287\n",
      "Epoch: 32| Training loss: 0.761134| Validation loss: 0.878665\n",
      "Epoch: 33| Training loss: 0.755486| Validation loss: 0.874126\n",
      "Epoch: 34| Training loss: 0.749972| Validation loss: 0.869665\n",
      "Epoch: 35| Training loss: 0.744586| Validation loss: 0.865283\n",
      "Epoch: 36| Training loss: 0.739323| Validation loss: 0.860977\n",
      "Epoch: 37| Training loss: 0.734179| Validation loss: 0.856744\n",
      "Epoch: 38| Training loss: 0.729149| Validation loss: 0.852583\n",
      "Epoch: 39| Training loss: 0.724230| Validation loss: 0.848493\n",
      "Epoch: 40| Training loss: 0.719418| Validation loss: 0.844471\n",
      "Epoch: 41| Training loss: 0.714709| Validation loss: 0.840516\n",
      "Epoch: 42| Training loss: 0.710100| Validation loss: 0.836626\n",
      "Epoch: 43| Training loss: 0.705586| Validation loss: 0.832799\n",
      "Epoch: 44| Training loss: 0.701165| Validation loss: 0.829034\n",
      "Epoch: 45| Training loss: 0.696834| Validation loss: 0.825331\n",
      "Epoch: 46| Training loss: 0.692589| Validation loss: 0.821686\n",
      "Epoch: 47| Training loss: 0.688429| Validation loss: 0.818099\n",
      "Epoch: 48| Training loss: 0.684350| Validation loss: 0.814568\n",
      "Epoch: 49| Training loss: 0.680351| Validation loss: 0.811092\n",
      "Epoch: 50| Training loss: 0.676427| Validation loss: 0.807670\n",
      "Epoch: 51| Training loss: 0.672577| Validation loss: 0.804301\n",
      "Epoch: 52| Training loss: 0.668799| Validation loss: 0.800983\n",
      "Epoch: 53| Training loss: 0.665090| Validation loss: 0.797715\n",
      "Epoch: 54| Training loss: 0.661449| Validation loss: 0.794495\n",
      "Epoch: 55| Training loss: 0.657873| Validation loss: 0.791324\n",
      "Epoch: 56| Training loss: 0.654360| Validation loss: 0.788200\n",
      "Epoch: 57| Training loss: 0.650910| Validation loss: 0.785122\n",
      "Epoch: 58| Training loss: 0.647519| Validation loss: 0.782088\n",
      "Epoch: 59| Training loss: 0.644186| Validation loss: 0.779098\n",
      "Epoch: 60| Training loss: 0.640910| Validation loss: 0.776151\n",
      "Epoch: 61| Training loss: 0.637689| Validation loss: 0.773245\n",
      "Epoch: 62| Training loss: 0.634521| Validation loss: 0.770381\n",
      "Epoch: 63| Training loss: 0.631406| Validation loss: 0.767557\n",
      "Epoch: 64| Training loss: 0.628340| Validation loss: 0.764772\n",
      "Epoch: 65| Training loss: 0.625325| Validation loss: 0.762026\n",
      "Epoch: 66| Training loss: 0.622357| Validation loss: 0.759318\n",
      "Epoch: 67| Training loss: 0.619436| Validation loss: 0.756646\n",
      "Epoch: 68| Training loss: 0.616561| Validation loss: 0.754010\n",
      "Epoch: 69| Training loss: 0.613729| Validation loss: 0.751409\n",
      "Epoch: 70| Training loss: 0.610941| Validation loss: 0.748843\n",
      "Epoch: 71| Training loss: 0.608195| Validation loss: 0.746311\n",
      "Epoch: 72| Training loss: 0.605490| Validation loss: 0.743813\n",
      "Epoch: 73| Training loss: 0.602825| Validation loss: 0.741346\n",
      "Epoch: 74| Training loss: 0.600199| Validation loss: 0.738912\n",
      "Epoch: 75| Training loss: 0.597611| Validation loss: 0.736509\n",
      "Epoch: 76| Training loss: 0.595060| Validation loss: 0.734137\n",
      "Epoch: 77| Training loss: 0.592546| Validation loss: 0.731794\n",
      "Epoch: 78| Training loss: 0.590067| Validation loss: 0.729481\n",
      "Epoch: 79| Training loss: 0.587622| Validation loss: 0.727197\n",
      "Epoch: 80| Training loss: 0.585212| Validation loss: 0.724941\n",
      "Epoch: 81| Training loss: 0.582834| Validation loss: 0.722714\n",
      "Epoch: 82| Training loss: 0.580488| Validation loss: 0.720512\n",
      "Epoch: 83| Training loss: 0.578174| Validation loss: 0.718338\n",
      "Epoch: 84| Training loss: 0.575891| Validation loss: 0.716191\n",
      "Epoch: 85| Training loss: 0.573638| Validation loss: 0.714068\n",
      "Epoch: 86| Training loss: 0.571415| Validation loss: 0.711972\n",
      "Epoch: 87| Training loss: 0.569220| Validation loss: 0.709899\n",
      "Epoch: 88| Training loss: 0.567053| Validation loss: 0.707851\n",
      "Epoch: 89| Training loss: 0.564914| Validation loss: 0.705827\n",
      "Epoch: 90| Training loss: 0.562802| Validation loss: 0.703826\n",
      "Epoch: 91| Training loss: 0.560716| Validation loss: 0.701849\n",
      "Epoch: 92| Training loss: 0.558656| Validation loss: 0.699894\n",
      "Epoch: 93| Training loss: 0.556622| Validation loss: 0.697961\n",
      "Epoch: 94| Training loss: 0.554612| Validation loss: 0.696050\n",
      "Epoch: 95| Training loss: 0.552626| Validation loss: 0.694161\n",
      "Epoch: 96| Training loss: 0.550665| Validation loss: 0.692292\n",
      "Epoch: 97| Training loss: 0.548726| Validation loss: 0.690444\n",
      "Epoch: 98| Training loss: 0.546811| Validation loss: 0.688617\n",
      "Epoch: 99| Training loss: 0.544918| Validation loss: 0.686809\n",
      "Epoch: 100| Training loss: 0.543046| Validation loss: 0.685021\n",
      "Epoch: 101| Training loss: 0.541197| Validation loss: 0.683252\n",
      "Epoch: 102| Training loss: 0.539368| Validation loss: 0.681503\n",
      "Epoch: 103| Training loss: 0.537560| Validation loss: 0.679772\n",
      "Epoch: 104| Training loss: 0.535772| Validation loss: 0.678059\n",
      "Epoch: 105| Training loss: 0.534005| Validation loss: 0.676364\n",
      "Epoch: 106| Training loss: 0.532256| Validation loss: 0.674687\n",
      "Epoch: 107| Training loss: 0.530527| Validation loss: 0.673027\n",
      "Epoch: 108| Training loss: 0.528817| Validation loss: 0.671385\n",
      "Epoch: 109| Training loss: 0.527125| Validation loss: 0.669759\n",
      "Epoch: 110| Training loss: 0.525451| Validation loss: 0.668150\n",
      "Epoch: 111| Training loss: 0.523795| Validation loss: 0.666557\n",
      "Epoch: 112| Training loss: 0.522156| Validation loss: 0.664980\n",
      "Epoch: 113| Training loss: 0.520535| Validation loss: 0.663419\n",
      "Epoch: 114| Training loss: 0.518931| Validation loss: 0.661874\n",
      "Epoch: 115| Training loss: 0.517343| Validation loss: 0.660343\n",
      "Epoch: 116| Training loss: 0.515771| Validation loss: 0.658828\n",
      "Epoch: 117| Training loss: 0.514215| Validation loss: 0.657328\n",
      "Epoch: 118| Training loss: 0.512675| Validation loss: 0.655843\n",
      "Epoch: 119| Training loss: 0.511150| Validation loss: 0.654371\n",
      "Epoch: 120| Training loss: 0.509641| Validation loss: 0.652914\n",
      "Epoch: 121| Training loss: 0.508146| Validation loss: 0.651471\n",
      "Epoch: 122| Training loss: 0.506666| Validation loss: 0.650041\n",
      "Epoch: 123| Training loss: 0.505200| Validation loss: 0.648625\n",
      "Epoch: 124| Training loss: 0.503749| Validation loss: 0.647222\n",
      "Epoch: 125| Training loss: 0.502311| Validation loss: 0.645833\n",
      "Epoch: 126| Training loss: 0.500888| Validation loss: 0.644456\n",
      "Epoch: 127| Training loss: 0.499477| Validation loss: 0.643092\n",
      "Epoch: 128| Training loss: 0.498080| Validation loss: 0.641740\n",
      "Epoch: 129| Training loss: 0.496696| Validation loss: 0.640401\n",
      "Epoch: 130| Training loss: 0.495325| Validation loss: 0.639074\n",
      "Epoch: 131| Training loss: 0.493966| Validation loss: 0.637759\n"
     ]
    },
    {
     "name": "stdout",
     "output_type": "stream",
     "text": [
      "Epoch: 132| Training loss: 0.492620| Validation loss: 0.636456\n",
      "Epoch: 133| Training loss: 0.491286| Validation loss: 0.635164\n",
      "Epoch: 134| Training loss: 0.489964| Validation loss: 0.633885\n",
      "Epoch: 135| Training loss: 0.488654| Validation loss: 0.632616\n",
      "Epoch: 136| Training loss: 0.487356| Validation loss: 0.631358\n",
      "Epoch: 137| Training loss: 0.486069| Validation loss: 0.630112\n",
      "Epoch: 138| Training loss: 0.484794| Validation loss: 0.628877\n",
      "Epoch: 139| Training loss: 0.483529| Validation loss: 0.627652\n",
      "Epoch: 140| Training loss: 0.482276| Validation loss: 0.626437\n",
      "Epoch: 141| Training loss: 0.481034| Validation loss: 0.625233\n",
      "Epoch: 142| Training loss: 0.479802| Validation loss: 0.624039\n",
      "Epoch: 143| Training loss: 0.478580| Validation loss: 0.622856\n",
      "Epoch: 144| Training loss: 0.477369| Validation loss: 0.621682\n",
      "Epoch: 145| Training loss: 0.476168| Validation loss: 0.620518\n",
      "Epoch: 146| Training loss: 0.474978| Validation loss: 0.619365\n",
      "Epoch: 147| Training loss: 0.473797| Validation loss: 0.618220\n",
      "Epoch: 148| Training loss: 0.472625| Validation loss: 0.617085\n",
      "Epoch: 149| Training loss: 0.471464| Validation loss: 0.615959\n",
      "Epoch: 150| Training loss: 0.470312| Validation loss: 0.614842\n",
      "Epoch: 151| Training loss: 0.469169| Validation loss: 0.613735\n",
      "Epoch: 152| Training loss: 0.468036| Validation loss: 0.612637\n",
      "Epoch: 153| Training loss: 0.466912| Validation loss: 0.611547\n",
      "Epoch: 154| Training loss: 0.465796| Validation loss: 0.610467\n",
      "Epoch: 155| Training loss: 0.464689| Validation loss: 0.609394\n",
      "Epoch: 156| Training loss: 0.463592| Validation loss: 0.608331\n",
      "Epoch: 157| Training loss: 0.462502| Validation loss: 0.607276\n",
      "Epoch: 158| Training loss: 0.461422| Validation loss: 0.606229\n",
      "Epoch: 159| Training loss: 0.460349| Validation loss: 0.605190\n",
      "Epoch: 160| Training loss: 0.459285| Validation loss: 0.604159\n",
      "Epoch: 161| Training loss: 0.458229| Validation loss: 0.603137\n",
      "Epoch: 162| Training loss: 0.457181| Validation loss: 0.602122\n",
      "Epoch: 163| Training loss: 0.456141| Validation loss: 0.601115\n",
      "Epoch: 164| Training loss: 0.455109| Validation loss: 0.600116\n"
     ]
    }
   ],
   "source": [
    "w_count, loss_tr_count, dev_loss_count = SGD(X_tr_count, Y_tr, \n",
    "                                             X_dev=X_dev_count, \n",
    "                                             Y_dev=Y_dev,\n",
    "                                             num_classes=3,\n",
    "                                             lr=0.0001, \n",
    "                                             alpha=0.001, \n",
    "                                             epochs=200)"
   ]
  },
  {
   "cell_type": "markdown",
   "metadata": {},
   "source": [
    "Plot training and validation process and explain if your model overfit, underfit or is about right:"
   ]
  },
  {
   "cell_type": "code",
   "execution_count": 59,
   "metadata": {
    "ExecuteTime": {
     "end_time": "2020-04-17T21:44:49.579828Z",
     "start_time": "2020-04-17T21:44:49.419434Z"
    },
    "run_control": {
     "marked": false
    }
   },
   "outputs": [
    {
     "data": {
      "image/png": "[encoded data removed]",
      "text/plain": [
       "<Figure size 432x288 with 1 Axes>"
      ]
     },
     "metadata": {
      "needs_background": "light"
     },
     "output_type": "display_data"
    }
   ],
   "source": [
    "# fill in your code...\n",
    "%matplotlib inline\n",
    "fig = plt.figure()\n",
    "plt.plot(range(len(loss_tr_count)),loss_tr_count,label='training loss')\n",
    "plt.plot(range(len(dev_loss_count)),dev_loss_count,label='validation loss')\n",
    "\n",
    "plt.xlabel('Epochs')\n",
    "plt.ylabel('Loss')\n",
    "plt.title('Training Monitoring')\n",
    "\n",
    "plt.legend()\n",
    "plt.show()"
   ]
  },
  {
   "cell_type": "markdown",
   "metadata": {},
   "source": [
    "Compute accuracy, precision, recall and F1-scores:"
   ]
  },
  {
   "cell_type": "code",
   "execution_count": 60,
   "metadata": {
    "ExecuteTime": {
     "end_time": "2020-04-17T21:44:49.591176Z",
     "start_time": "2020-04-17T21:44:49.581042Z"
    },
    "run_control": {
     "marked": false
    }
   },
   "outputs": [
    {
     "name": "stdout",
     "output_type": "stream",
     "text": [
      "Accuracy: 0.8366666666666667\n",
      "Precision: 0.840344708396179\n",
      "Recall: 0.8366666666666666\n",
      "F1-Score: 0.8359703962026542\n"
     ]
    }
   ],
   "source": [
    "# fill in your code...\n",
    "preds_te = predict_class(X_te_count,w_count)\n",
    "\n",
    "print('Accuracy:', accuracy_score(Y_te.flatten(),preds_te))\n",
    "print('Precision:', precision_score(Y_te.flatten(),preds_te,average='macro'))\n",
    "print('Recall:', recall_score(Y_te.flatten(),preds_te,average='macro'))\n",
    "print('F1-Score:', f1_score(Y_te.flatten(),preds_te,average='macro'))"
   ]
  },
  {
   "cell_type": "markdown",
   "metadata": {},
   "source": [
    "Print the top-10 words for each class respectively."
   ]
  },
  {
   "cell_type": "code",
   "execution_count": 61,
   "metadata": {
    "ExecuteTime": {
     "end_time": "2020-04-17T21:44:49.597020Z",
     "start_time": "2020-04-17T21:44:49.592475Z"
    },
    "run_control": {
     "marked": false
    }
   },
   "outputs": [
    {
     "name": "stdout",
     "output_type": "stream",
     "text": [
      "['said', 'reuters', 'tuesday', 'ap', 'after', 'monday', 'new', 'wednesday', 'their', 'president']\n",
      "['athens', 'ap', 'reuters', 'olympic', 'tuesday', 'first', 'after', 'team', 'two', 'wednesday']\n",
      "['reuters', 'said', 'new', 'tuesday', 'company', 'oil', 'wednesday', 'prices', 'inc', 'after']\n"
     ]
    }
   ],
   "source": [
    "sorted_index = w_count.copy().argsort()[:,-10:][:,::-1]\n",
    "for class_i in range(len(sorted_index)):\n",
    "    top_neg_ngram = [vocab[i] for i in sorted_index[class_i]]\n",
    "    print(top_neg_ngram)"
   ]
  },
  {
   "cell_type": "markdown",
   "metadata": {},
   "source": [
    "### Discuss how did you choose model hyperparameters (e.g. learning rate and regularisation strength)? What is the relation between training epochs and learning rate? How the regularisation strength affects performance?"
   ]
  },
  {
   "cell_type": "markdown",
   "metadata": {
    "ExecuteTime": {
     "end_time": "2020-02-15T14:16:19.856538Z",
     "start_time": "2020-02-15T14:16:19.852547Z"
    }
   },
   "source": [
    "Explain here..."
   ]
  },
  {
   "cell_type": "code",
   "execution_count": 62,
   "metadata": {
    "ExecuteTime": {
     "end_time": "2020-04-17T21:45:49.095136Z",
     "start_time": "2020-04-17T21:44:49.598244Z"
    },
    "cell_style": "center"
   },
   "outputs": [
    {
     "data": {
      "image/png": "[encoded data removed]",
      "text/plain": [
       "<Figure size 432x288 with 1 Axes>"
      ]
     },
     "metadata": {
      "needs_background": "light"
     },
     "output_type": "display_data"
    }
   ],
   "source": [
    "def get_F1(lr,alpha):\n",
    "    w, trl, devl = SGD(X_tr_count, Y_tr, \n",
    "                         X_dev=X_dev_count, \n",
    "                         Y_dev=Y_dev, \n",
    "                         num_classes=3,\n",
    "                         lr=lr, \n",
    "                         alpha=alpha, \n",
    "                         epochs=200,\n",
    "                         print_progress=False)\n",
    "    preds_dev = predict_class(X_dev_count,w)\n",
    "    return accuracy_score(Y_dev,preds_dev)\n",
    "\n",
    "fig = plt.figure()\n",
    "lrs_num = 3\n",
    "alphas_num = 3\n",
    "lrs = np.linspace(0.0001,0.1,lrs_num)\n",
    "alphas = np.linspace(0.0001,1,alphas_num)\n",
    "\n",
    "for i in range(alphas_num):\n",
    "    alpha = alphas[i]\n",
    "    tmp = list()\n",
    "    for j in range(lrs_num):\n",
    "        lr = lrs[j]\n",
    "        score = get_F1(lr, alpha)\n",
    "        tmp.append(score)\n",
    "    plt.plot(lrs,tmp,label='alpha: {}'.format(alpha))\n",
    "\n",
    "plt.xlabel('Learning rate')\n",
    "plt.ylabel('Accuracy Score')\n",
    "plt.title('Hyperparameters: learning_rate & alpha')\n",
    "\n",
    "plt.legend()\n",
    "plt.show()"
   ]
  },
  {
   "cell_type": "markdown",
   "metadata": {},
   "source": [
    "### Now evaluate BOW-tfidf..."
   ]
  },
  {
   "cell_type": "code",
   "execution_count": 65,
   "metadata": {
    "ExecuteTime": {
     "end_time": "2020-04-17T21:53:29.005714Z",
     "start_time": "2020-04-17T21:53:28.989347Z"
    }
   },
   "outputs": [],
   "source": [
    "idfs_tr = get_idfs(vocab_tr,df_tr,len(X_tr_raw))\n",
    "idfs_te = get_idfs(vocab_tr,df_te,len(X_te_raw))\n",
    "idfs_dev = get_idfs(vocab_tr,df_dev,len(X_dev_raw))"
   ]
  },
  {
   "cell_type": "code",
   "execution_count": 66,
   "metadata": {
    "ExecuteTime": {
     "end_time": "2020-04-17T21:53:29.735782Z",
     "start_time": "2020-04-17T21:53:29.705747Z"
    }
   },
   "outputs": [],
   "source": [
    "X_tr_tfidf = X_tr_count*idfs_tr\n",
    "X_te_tfidf = X_te_count*idfs_te\n",
    "X_dev_tfidf = X_dev_count*idfs_dev"
   ]
  },
  {
   "cell_type": "code",
   "execution_count": 67,
   "metadata": {
    "ExecuteTime": {
     "end_time": "2020-04-17T21:53:57.106729Z",
     "start_time": "2020-04-17T21:53:31.143226Z"
    },
    "run_control": {
     "marked": false
    },
    "scrolled": true
   },
   "outputs": [
    {
     "name": "stdout",
     "output_type": "stream",
     "text": [
      "Epoch: 0| Training loss: 1.047761| Validation loss: 1.073439\n",
      "Epoch: 1| Training loss: 1.004383| Validation loss: 1.050865\n",
      "Epoch: 2| Training loss: 0.966280| Validation loss: 1.030185\n",
      "Epoch: 3| Training loss: 0.932189| Validation loss: 1.010998\n",
      "Epoch: 4| Training loss: 0.901259| Validation loss: 0.993033\n",
      "Epoch: 5| Training loss: 0.872976| Validation loss: 0.976133\n",
      "Epoch: 6| Training loss: 0.846943| Validation loss: 0.960171\n",
      "Epoch: 7| Training loss: 0.822876| Validation loss: 0.945057\n",
      "Epoch: 8| Training loss: 0.800545| Validation loss: 0.930714\n",
      "Epoch: 9| Training loss: 0.779760| Validation loss: 0.917082\n",
      "Epoch: 10| Training loss: 0.760359| Validation loss: 0.904103\n",
      "Epoch: 11| Training loss: 0.742207| Validation loss: 0.891729\n",
      "Epoch: 12| Training loss: 0.725183| Validation loss: 0.879917\n",
      "Epoch: 13| Training loss: 0.709182| Validation loss: 0.868626\n",
      "Epoch: 14| Training loss: 0.694112| Validation loss: 0.857823\n",
      "Epoch: 15| Training loss: 0.679893| Validation loss: 0.847476\n",
      "Epoch: 16| Training loss: 0.666448| Validation loss: 0.837555\n",
      "Epoch: 17| Training loss: 0.653717| Validation loss: 0.828033\n",
      "Epoch: 18| Training loss: 0.641640| Validation loss: 0.818882\n",
      "Epoch: 19| Training loss: 0.630166| Validation loss: 0.810082\n",
      "Epoch: 20| Training loss: 0.619251| Validation loss: 0.801614\n",
      "Epoch: 21| Training loss: 0.608851| Validation loss: 0.793458\n",
      "Epoch: 22| Training loss: 0.598929| Validation loss: 0.785593\n",
      "Epoch: 23| Training loss: 0.589450| Validation loss: 0.778006\n",
      "Epoch: 24| Training loss: 0.580385| Validation loss: 0.770680\n",
      "Epoch: 25| Training loss: 0.571703| Validation loss: 0.763600\n",
      "Epoch: 26| Training loss: 0.563383| Validation loss: 0.756757\n",
      "Epoch: 27| Training loss: 0.555398| Validation loss: 0.750136\n",
      "Epoch: 28| Training loss: 0.547727| Validation loss: 0.743725\n",
      "Epoch: 29| Training loss: 0.540351| Validation loss: 0.737517\n",
      "Epoch: 30| Training loss: 0.533251| Validation loss: 0.731497\n",
      "Epoch: 31| Training loss: 0.526413| Validation loss: 0.725660\n",
      "Epoch: 32| Training loss: 0.519819| Validation loss: 0.719994\n",
      "Epoch: 33| Training loss: 0.513456| Validation loss: 0.714495\n",
      "Epoch: 34| Training loss: 0.507312| Validation loss: 0.709151\n",
      "Epoch: 35| Training loss: 0.501373| Validation loss: 0.703958\n",
      "Epoch: 36| Training loss: 0.495629| Validation loss: 0.698906\n",
      "Epoch: 37| Training loss: 0.490069| Validation loss: 0.693991\n",
      "Epoch: 38| Training loss: 0.484685| Validation loss: 0.689209\n",
      "Epoch: 39| Training loss: 0.479468| Validation loss: 0.684553\n",
      "Epoch: 40| Training loss: 0.474408| Validation loss: 0.680016\n",
      "Epoch: 41| Training loss: 0.469499| Validation loss: 0.675595\n",
      "Epoch: 42| Training loss: 0.464731| Validation loss: 0.671285\n",
      "Epoch: 43| Training loss: 0.460099| Validation loss: 0.667080\n",
      "Epoch: 44| Training loss: 0.455598| Validation loss: 0.662977\n",
      "Epoch: 45| Training loss: 0.451220| Validation loss: 0.658973\n",
      "Epoch: 46| Training loss: 0.446960| Validation loss: 0.655062\n",
      "Epoch: 47| Training loss: 0.442814| Validation loss: 0.651243\n",
      "Epoch: 48| Training loss: 0.438775| Validation loss: 0.647510\n",
      "Epoch: 49| Training loss: 0.434841| Validation loss: 0.643862\n",
      "Epoch: 50| Training loss: 0.431005| Validation loss: 0.640294\n",
      "Epoch: 51| Training loss: 0.427264| Validation loss: 0.636805\n",
      "Epoch: 52| Training loss: 0.423614| Validation loss: 0.633391\n",
      "Epoch: 53| Training loss: 0.420052| Validation loss: 0.630050\n",
      "Epoch: 54| Training loss: 0.416574| Validation loss: 0.626780\n",
      "Epoch: 55| Training loss: 0.413178| Validation loss: 0.623578\n",
      "Epoch: 56| Training loss: 0.409858| Validation loss: 0.620441\n",
      "Epoch: 57| Training loss: 0.406613| Validation loss: 0.617367\n",
      "Epoch: 58| Training loss: 0.403441| Validation loss: 0.614356\n",
      "Epoch: 59| Training loss: 0.400337| Validation loss: 0.611404\n",
      "Epoch: 60| Training loss: 0.397300| Validation loss: 0.608508\n",
      "Epoch: 61| Training loss: 0.394328| Validation loss: 0.605668\n",
      "Epoch: 62| Training loss: 0.391418| Validation loss: 0.602882\n",
      "Epoch: 63| Training loss: 0.388568| Validation loss: 0.600150\n",
      "Epoch: 64| Training loss: 0.385776| Validation loss: 0.597468\n",
      "Epoch: 65| Training loss: 0.383041| Validation loss: 0.594835\n",
      "Epoch: 66| Training loss: 0.380359| Validation loss: 0.592250\n",
      "Epoch: 67| Training loss: 0.377730| Validation loss: 0.589711\n",
      "Epoch: 68| Training loss: 0.375152| Validation loss: 0.587218\n",
      "Epoch: 69| Training loss: 0.372622| Validation loss: 0.584769\n",
      "Epoch: 70| Training loss: 0.370140| Validation loss: 0.582361\n",
      "Epoch: 71| Training loss: 0.367704| Validation loss: 0.579996\n",
      "Epoch: 72| Training loss: 0.365313| Validation loss: 0.577671\n",
      "Epoch: 73| Training loss: 0.362965| Validation loss: 0.575383\n",
      "Epoch: 74| Training loss: 0.360659| Validation loss: 0.573133\n",
      "Epoch: 75| Training loss: 0.358394| Validation loss: 0.570922\n",
      "Epoch: 76| Training loss: 0.356168| Validation loss: 0.568746\n",
      "Epoch: 77| Training loss: 0.353981| Validation loss: 0.566605\n",
      "Epoch: 78| Training loss: 0.351830| Validation loss: 0.564498\n",
      "Epoch: 79| Training loss: 0.349716| Validation loss: 0.562425\n",
      "Epoch: 80| Training loss: 0.347638| Validation loss: 0.560384\n",
      "Epoch: 81| Training loss: 0.345593| Validation loss: 0.558375\n",
      "Epoch: 82| Training loss: 0.343582| Validation loss: 0.556397\n",
      "Epoch: 83| Training loss: 0.341603| Validation loss: 0.554449\n",
      "Epoch: 84| Training loss: 0.339655| Validation loss: 0.552530\n",
      "Epoch: 85| Training loss: 0.337738| Validation loss: 0.550640\n",
      "Epoch: 86| Training loss: 0.335852| Validation loss: 0.548778\n",
      "Epoch: 87| Training loss: 0.333994| Validation loss: 0.546942\n",
      "Epoch: 88| Training loss: 0.332164| Validation loss: 0.545134\n",
      "Epoch: 89| Training loss: 0.330363| Validation loss: 0.543350\n",
      "Epoch: 90| Training loss: 0.328588| Validation loss: 0.541593\n",
      "Epoch: 91| Training loss: 0.326839| Validation loss: 0.539860\n",
      "Epoch: 92| Training loss: 0.325116| Validation loss: 0.538152\n",
      "Epoch: 93| Training loss: 0.323418| Validation loss: 0.536467\n",
      "Epoch: 94| Training loss: 0.321744| Validation loss: 0.534804\n",
      "Epoch: 95| Training loss: 0.320094| Validation loss: 0.533166\n",
      "Epoch: 96| Training loss: 0.318467| Validation loss: 0.531548\n",
      "Epoch: 97| Training loss: 0.316863| Validation loss: 0.529953\n",
      "Epoch: 98| Training loss: 0.315282| Validation loss: 0.528380\n",
      "Epoch: 99| Training loss: 0.313721| Validation loss: 0.526825\n",
      "Epoch: 100| Training loss: 0.312182| Validation loss: 0.525292\n",
      "Epoch: 101| Training loss: 0.310664| Validation loss: 0.523779\n",
      "Epoch: 102| Training loss: 0.309165| Validation loss: 0.522286\n",
      "Epoch: 103| Training loss: 0.307687| Validation loss: 0.520811\n",
      "Epoch: 104| Training loss: 0.306228| Validation loss: 0.519356\n",
      "Epoch: 105| Training loss: 0.304787| Validation loss: 0.517918\n",
      "Epoch: 106| Training loss: 0.303366| Validation loss: 0.516499\n",
      "Epoch: 107| Training loss: 0.301962| Validation loss: 0.515096\n",
      "Epoch: 108| Training loss: 0.300576| Validation loss: 0.513710\n",
      "Epoch: 109| Training loss: 0.299207| Validation loss: 0.512344\n",
      "Epoch: 110| Training loss: 0.297856| Validation loss: 0.510993\n",
      "Epoch: 111| Training loss: 0.296521| Validation loss: 0.509656\n",
      "Epoch: 112| Training loss: 0.295202| Validation loss: 0.508336\n",
      "Epoch: 113| Training loss: 0.293899| Validation loss: 0.507032\n",
      "Epoch: 114| Training loss: 0.292612| Validation loss: 0.505743\n",
      "Epoch: 115| Training loss: 0.291339| Validation loss: 0.504469\n",
      "Epoch: 116| Training loss: 0.290083| Validation loss: 0.503210\n",
      "Epoch: 117| Training loss: 0.288840| Validation loss: 0.501965\n",
      "Epoch: 118| Training loss: 0.287612| Validation loss: 0.500733\n",
      "Epoch: 119| Training loss: 0.286399| Validation loss: 0.499517\n",
      "Epoch: 120| Training loss: 0.285198| Validation loss: 0.498313\n",
      "Epoch: 121| Training loss: 0.284012| Validation loss: 0.497123\n",
      "Epoch: 122| Training loss: 0.282839| Validation loss: 0.495947\n",
      "Epoch: 123| Training loss: 0.281679| Validation loss: 0.494784\n",
      "Epoch: 124| Training loss: 0.280532| Validation loss: 0.493634\n",
      "Epoch: 125| Training loss: 0.279398| Validation loss: 0.492495\n",
      "Epoch: 126| Training loss: 0.278276| Validation loss: 0.491369\n",
      "Epoch: 127| Training loss: 0.277166| Validation loss: 0.490255\n",
      "Epoch: 128| Training loss: 0.276068| Validation loss: 0.489152\n",
      "Epoch: 129| Training loss: 0.274981| Validation loss: 0.488061\n",
      "Epoch: 130| Training loss: 0.273906| Validation loss: 0.486983\n",
      "Epoch: 131| Training loss: 0.272843| Validation loss: 0.485915\n"
     ]
    },
    {
     "name": "stdout",
     "output_type": "stream",
     "text": [
      "Epoch: 132| Training loss: 0.271790| Validation loss: 0.484858\n",
      "Epoch: 133| Training loss: 0.270749| Validation loss: 0.483813\n",
      "Epoch: 134| Training loss: 0.269718| Validation loss: 0.482778\n",
      "Epoch: 135| Training loss: 0.268698| Validation loss: 0.481755\n",
      "Epoch: 136| Training loss: 0.267688| Validation loss: 0.480741\n",
      "Epoch: 137| Training loss: 0.266688| Validation loss: 0.479737\n",
      "Epoch: 138| Training loss: 0.265698| Validation loss: 0.478744\n"
     ]
    }
   ],
   "source": [
    "w_count, loss_tr_count, dev_loss_count = SGD(X_tr_tfidf, Y_tr, \n",
    "                                             X_dev=X_dev_tfidf, \n",
    "                                             Y_dev=Y_dev,\n",
    "                                             num_classes=3,\n",
    "                                             lr=0.0001, \n",
    "                                             alpha=0.001, \n",
    "                                             epochs=200)"
   ]
  },
  {
   "cell_type": "code",
   "execution_count": 68,
   "metadata": {
    "ExecuteTime": {
     "end_time": "2020-04-17T21:54:01.362113Z",
     "start_time": "2020-04-17T21:54:01.348830Z"
    },
    "run_control": {
     "marked": false
    },
    "scrolled": true
   },
   "outputs": [
    {
     "name": "stdout",
     "output_type": "stream",
     "text": [
      "Accuracy: 0.8766666666666667\n",
      "Precision: 0.8791051336146273\n",
      "Recall: 0.8766666666666666\n",
      "F1-Score: 0.8762139980053499\n"
     ]
    }
   ],
   "source": [
    "# fill in your code...\n",
    "preds_te = predict_class(X_te_tfidf,w_count).reshape(-1,1)\n",
    "\n",
    "print('Accuracy:', accuracy_score(Y_te,preds_te))\n",
    "print('Precision:', precision_score(Y_te,preds_te,average='macro'))\n",
    "print('Recall:', recall_score(Y_te,preds_te,average='macro'))\n",
    "print('F1-Score:', f1_score(Y_te,preds_te,average='macro'))"
   ]
  },
  {
   "cell_type": "code",
   "execution_count": 69,
   "metadata": {
    "ExecuteTime": {
     "end_time": "2020-04-17T21:54:03.609134Z",
     "start_time": "2020-04-17T21:54:03.601532Z"
    },
    "run_control": {
     "marked": false
    }
   },
   "outputs": [
    {
     "name": "stdout",
     "output_type": "stream",
     "text": [
      "['said', 'tuesday', 'afp', 'ap', 'monday', 'president', 'their', 'after', 'new', 'reuters']\n",
      "['athens', 'ap', 'olympic', 'team', 'first', 'games', 'quot', 'olympics', 'two', 'night']\n",
      "['company', 'oil', 'new', 'said', 'prices', 'reuters', 'inc', 'us', 'tuesday', 'more']\n"
     ]
    }
   ],
   "source": [
    "sorted_index = w_count.copy().argsort()[:,-10:][:,::-1]\n",
    "for class_i in range(len(sorted_index)):\n",
    "    top_neg_ngram = [vocab[i] for i in sorted_index[class_i]]\n",
    "    print(top_neg_ngram)"
   ]
  },
  {
   "cell_type": "markdown",
   "metadata": {
    "ExecuteTime": {
     "end_time": "2020-02-15T14:16:42.567569Z",
     "start_time": "2020-02-15T14:16:42.562560Z"
    }
   },
   "source": [
    "## Full Results\n",
    "\n",
    "Add here your results:\n",
    "\n",
    "| LR | Precision  | Recall  | F1-Score  |\n",
    "|:-:|:-:|:-:|:-:|\n",
    "| BOW-count  |0.840   |0.837   |0.837   |\n",
    "| BOW-tfidf  |0.880   |0.877   |0.877   |\n"
   ]
  }
 ],
 "metadata": {
  "kernelspec": {
   "display_name": "Python 3",
   "language": "python",
   "name": "python3"
  },
  "language_info": {
   "codemirror_mode": {
    "name": "ipython",
    "version": 3
   },
   "file_extension": ".py",
   "mimetype": "text/x-python",
   "name": "python",
   "nbconvert_exporter": "python",
   "pygments_lexer": "ipython3",
   "version": "3.7.4"
  },
  "latex_envs": {
   "LaTeX_envs_menu_present": true,
   "autoclose": false,
   "autocomplete": true,
   "bibliofile": "biblio.bib",
   "cite_by": "apalike",
   "current_citInitial": 1,
   "eqLabelWithNumbers": true,
   "eqNumInitial": 1,
   "hotkeys": {
    "equation": "Ctrl-E",
    "itemize": "Ctrl-I"
   },
   "labels_anchors": false,
   "latex_user_defs": false,
   "report_style_numbering": false,
   "user_envs_cfg": false
  },
  "nbTranslate": {
   "displayLangs": [
    "en"
   ],
   "hotkey": "alt-t",
   "langInMainMenu": true,
   "sourceLang": "en",
   "targetLang": "zh-cn",
   "useGoogleTranslate": true
  },
  "toc": {
   "base_numbering": 1,
   "nav_menu": {},
   "number_sections": false,
   "sideBar": true,
   "skip_h1_title": false,
   "title_cell": "Table of Contents",
   "title_sidebar": "Contents",
   "toc_cell": false,
   "toc_position": {
    "height": "calc(100% - 180px)",
    "left": "10px",
    "top": "150px",
    "width": "179px"
   },
   "toc_section_display": true,
   "toc_window_display": true
  },
  "varInspector": {
   "cols": {
    "lenName": 16,
    "lenType": 16,
    "lenVar": 40
   },
   "kernels_config": {
    "python": {
     "delete_cmd_postfix": "",
     "delete_cmd_prefix": "del ",
     "library": "var_list.py",
     "varRefreshCmd": "print(var_dic_list())"
    },
    "r": {
     "delete_cmd_postfix": ") ",
     "delete_cmd_prefix": "rm(",
     "library": "var_list.r",
     "varRefreshCmd": "cat(var_dic_list()) "
    }
   },
   "types_to_exclude": [
    "module",
    "function",
    "builtin_function_or_method",
    "instance",
    "_Feature"
   ],
   "window_display": false
  }
 },
 "nbformat": 4,
 "nbformat_minor": 2
}
