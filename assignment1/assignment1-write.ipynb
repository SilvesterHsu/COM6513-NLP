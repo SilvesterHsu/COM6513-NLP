{
 "cells": [
  {
   "cell_type": "markdown",
   "metadata": {},
   "source": [
    "# [COM4513-6513] Assignment 1: Text Classification with Logistic Regression\n",
    "\n",
    "### Instructor: Nikos Aletras\n",
    "\n",
    "\n",
    "The goal of this assignment is to develop and test two text classification systems: \n",
    "\n",
    "- **Task 1:** sentiment analysis, in particular to predict the sentiment of movie review, i.e. positive or negative (binary classification).\n",
    "- **Task 2:** topic classification, to predict whether a news article is about International issues, Sports or Business (multiclass classification).\n",
    "\n",
    "\n",
    "For that purpose, you will implement:\n",
    "\n",
    "- Text processing methods for extracting Bag-Of-Word features, using (1) unigrams, bigrams and trigrams to obtain vector representations of documents. Two vector weighting schemes should be tested: (1) raw frequencies (**3 marks; 1 for each ngram type**); (2) tf.idf (**1 marks**). \n",
    "- Binary Logistic Regression classifiers that will be able to accurately classify movie reviews trained with (1) BOW-count (raw frequencies); and (2) BOW-tfidf (tf.idf weighted) for Task 1. \n",
    "- Multiclass Logistic Regression classifiers that will be able to accurately classify news articles trained with (1) BOW-count (raw frequencies); and (2) BOW-tfidf (tf.idf weighted) for Task 2. \n",
    "- The Stochastic Gradient Descent (SGD) algorithm to estimate the parameters of your Logistic Regression models. Your SGD algorithm should:\n",
    "    - Minimise the Binary Cross-entropy loss function for Task 1 (**3 marks**)\n",
    "    - Minimise the Categorical Cross-entropy loss function for Task 2 (**3 marks**)\n",
    "    - Use L2 regularisation (both tasks) (**1 mark**)\n",
    "    - Perform multiple passes (epochs) over the training data (**1 mark**)\n",
    "    - Randomise the order of training data after each pass (**1 mark**)\n",
    "    - Stop training if the difference between the current and previous validation loss is smaller than a threshold (**1 mark**)\n",
    "    - After each epoch print the training and development loss (**1 mark**)\n",
    "- Discuss how did you choose hyperparameters (e.g. learning rate and regularisation strength)?  (**2 marks; 0.5 for each model in each task**).\n",
    "- After training the LR models, plot the learning process (i.e. training and validation loss in each epoch) using a line plot (**1 mark; 0.5 for both BOW-count and BOW-tfidf LR models in each task**) and discuss if your model overfits/underfits/is about right.\n",
    "- Model interpretability by showing the most important features for each class (i.e. most positive/negative weights). Give the top 10 for each class and comment on whether they make sense (if they don't you might have a bug!).  If we were to apply the classifier we've learned into a different domain such laptop reviews or restaurant reviews, do you think these features would generalise well? Can you propose what features the classifier could pick up as important in the new domain? (**2 marks; 0.5 for BOW-count and BOW-tfidf LR models respectively in each task**)\n",
    "\n",
    "\n",
    "### Data - Task 1 \n",
    "\n",
    "The data you will use for Task 1 are taken from here: [http://www.cs.cornell.edu/people/pabo/movie-review-data/](http://www.cs.cornell.edu/people/pabo/movie-review-data/) and you can find it in the `./data_sentiment` folder in CSV format:\n",
    "\n",
    "- `data_sentiment/train.csv`: contains 1,400 reviews, 700 positive (label: 1) and 700 negative (label: 0) to be used for training.\n",
    "- `data_sentiment/dev.csv`: contains 200 reviews, 100 positive and 100 negative to be used for hyperparameter selection and monitoring the training process.\n",
    "- `data_sentiment/test.csv`: contains 400 reviews, 200 positive and 200 negative to be used for testing.\n",
    "\n",
    "### Data - Task 2\n",
    "\n",
    "The data you will use for Task 2 is a subset of the [AG News Corpus](http://groups.di.unipi.it/~gulli/AG_corpus_of_news_articles.html) and you can find it in the `./data_topic` folder in CSV format:\n",
    "\n",
    "- `data_topic/train.csv`: contains 2,400 news articles, 800 for each class to be used for training.\n",
    "- `data_topic/dev.csv`: contains 150 news articles, 50 for each class to be used for hyperparameter selection and monitoring the training process.\n",
    "- `data_topic/test.csv`: contains 900 news articles, 300 for each class to be used for testing.\n",
    "\n",
    "\n",
    "### Submission Instructions\n",
    "\n",
    "You should submit a Jupyter Notebook file (assignment1.ipynb) and an exported PDF version (you can do it from Jupyter: `File->Download as->PDF via Latex`).\n",
    "\n",
    "You are advised to follow the code structure given in this notebook by completing all given funtions. You can also write any auxilliary/helper functions (and arguments for the functions) that you might need but note that you can provide a full solution without any such functions. Similarly, you can just use only the packages imported below but you are free to use any functionality from the [Python Standard Library](https://docs.python.org/2/library/index.html), NumPy, SciPy and Pandas. You are not allowed to use any third-party library such as Scikit-learn (apart from metric functions already provided), NLTK, Spacy, Keras etc..\n",
    "\n",
    "Please make sure to comment your code. You should also mention if you've used Windows (not recommended) to write and test your code. There is no single correct answer on what your accuracy should be, but correct implementations usually achieve F1-scores around 80\\% or higher. The quality of the analysis of the results is as important as the accuracy itself. \n",
    "\n",
    "This assignment will be marked out of 20. It is worth 20\\% of your final grade in the module.\n",
    "\n",
    "The deadline for this assignment is **23:59 on Fri, 20 Mar 2020** and it needs to be submitted via MOLE. Standard departmental penalties for lateness will be applied. We use a range of strategies to detect [unfair means](https://www.sheffield.ac.uk/ssid/unfair-means/index), including Turnitin which helps detect plagiarism, so make sure you do not plagiarise.\n",
    "\n"
   ]
  },
  {
   "cell_type": "code",
   "execution_count": 1,
   "metadata": {
    "ExecuteTime": {
     "end_time": "2020-03-20T23:38:39.095467Z",
     "start_time": "2020-03-20T23:38:37.282072Z"
    },
    "run_control": {
     "marked": true
    }
   },
   "outputs": [],
   "source": [
    "import pandas as pd\n",
    "import numpy as np\n",
    "from collections import Counter\n",
    "import re\n",
    "import matplotlib.pyplot as plt\n",
    "from sklearn.metrics import accuracy_score, precision_score, recall_score, f1_score\n",
    "import random\n",
    "\n",
    "# fixing random seed for reproducibility\n",
    "random.seed(123)\n",
    "np.random.seed(123)\n"
   ]
  },
  {
   "cell_type": "markdown",
   "metadata": {},
   "source": [
    "## Load Raw texts and labels into arrays\n",
    "\n",
    "First, you need to load the training, development and test sets from their corresponding CSV files (tip: you can use Pandas dataframes)."
   ]
  },
  {
   "cell_type": "code",
   "execution_count": 2,
   "metadata": {
    "ExecuteTime": {
     "end_time": "2020-03-20T23:38:39.131092Z",
     "start_time": "2020-03-20T23:38:39.104263Z"
    },
    "code_folding": [
     1
    ],
    "run_control": {
     "marked": true
    }
   },
   "outputs": [],
   "source": [
    "# fill in your code...\n",
    "class FileLoader:\n",
    "    def __init__(self,path,File=None,names=['text','label']):\n",
    "        self.path = self.__load_path(path)\n",
    "        self.names = names\n",
    "        self.__load_data(File)\n",
    "        \n",
    "    def __load_path(self,path):\n",
    "        import os\n",
    "        if os.path.exists(path):\n",
    "            return path\n",
    "        else:\n",
    "            print(\"Path not exist!\")\n",
    "    \n",
    "    def __load_datum(self,files_name):\n",
    "        import os\n",
    "        full_path = self.path +'/'+files_name.strip().strip('/')\n",
    "        if os.path.exists(full_path):\n",
    "            return pd.read_csv(full_path,header=None,names=self.names)\n",
    "        else:\n",
    "            print(\"File not exist!\")\n",
    "            \n",
    "    def __load_data(self,File):\n",
    "        if File==None:\n",
    "            self.train = self.__load_datum('train.csv')\n",
    "            self.test = self.__load_datum('test.csv')\n",
    "            self.dev = self.__load_datum('dev.csv')\n",
    "            print('Finish loading:\\n\\ttrain.csv\\n\\ttest.csv\\n\\tdev.csv')\n",
    "        else:\n",
    "            self.data = self.__load_datum(File)\n",
    "            print('Finish loading:\\n\\t'+File)"
   ]
  },
  {
   "cell_type": "code",
   "execution_count": 3,
   "metadata": {
    "ExecuteTime": {
     "end_time": "2020-03-20T23:38:39.373187Z",
     "start_time": "2020-03-20T23:38:39.142633Z"
    },
    "run_control": {
     "marked": true
    }
   },
   "outputs": [
    {
     "name": "stdout",
     "output_type": "stream",
     "text": [
      "Finish loading:\n",
      "\ttrain.csv\n",
      "\ttest.csv\n",
      "\tdev.csv\n"
     ]
    }
   ],
   "source": [
    "Data = FileLoader('data_sentiment')\n",
    "data_tr = Data.train\n",
    "data_te = Data.test\n",
    "data_dev = Data.dev"
   ]
  },
  {
   "cell_type": "markdown",
   "metadata": {},
   "source": [
    "If you use Pandas you can see a sample of the data."
   ]
  },
  {
   "cell_type": "code",
   "execution_count": 4,
   "metadata": {
    "ExecuteTime": {
     "end_time": "2020-03-20T23:38:39.423313Z",
     "start_time": "2020-03-20T23:38:39.380706Z"
    },
    "run_control": {
     "marked": true
    }
   },
   "outputs": [
    {
     "data": {
      "text/html": [
       "<div>\n",
       "<style scoped>\n",
       "    .dataframe tbody tr th:only-of-type {\n",
       "        vertical-align: middle;\n",
       "    }\n",
       "\n",
       "    .dataframe tbody tr th {\n",
       "        vertical-align: top;\n",
       "    }\n",
       "\n",
       "    .dataframe thead th {\n",
       "        text-align: right;\n",
       "    }\n",
       "</style>\n",
       "<table border=\"1\" class=\"dataframe\">\n",
       "  <thead>\n",
       "    <tr style=\"text-align: right;\">\n",
       "      <th></th>\n",
       "      <th>text</th>\n",
       "      <th>label</th>\n",
       "    </tr>\n",
       "  </thead>\n",
       "  <tbody>\n",
       "    <tr>\n",
       "      <th>0</th>\n",
       "      <td>note : some may consider portions of the follo...</td>\n",
       "      <td>1</td>\n",
       "    </tr>\n",
       "    <tr>\n",
       "      <th>1</th>\n",
       "      <td>note : some may consider portions of the follo...</td>\n",
       "      <td>1</td>\n",
       "    </tr>\n",
       "    <tr>\n",
       "      <th>2</th>\n",
       "      <td>every once in a while you see a film that is s...</td>\n",
       "      <td>1</td>\n",
       "    </tr>\n",
       "    <tr>\n",
       "      <th>3</th>\n",
       "      <td>when i was growing up in 1970s , boys in my sc...</td>\n",
       "      <td>1</td>\n",
       "    </tr>\n",
       "    <tr>\n",
       "      <th>4</th>\n",
       "      <td>the muppet movie is the first , and the best m...</td>\n",
       "      <td>1</td>\n",
       "    </tr>\n",
       "  </tbody>\n",
       "</table>\n",
       "</div>"
      ],
      "text/plain": [
       "                                                text  label\n",
       "0  note : some may consider portions of the follo...      1\n",
       "1  note : some may consider portions of the follo...      1\n",
       "2  every once in a while you see a film that is s...      1\n",
       "3  when i was growing up in 1970s , boys in my sc...      1\n",
       "4  the muppet movie is the first , and the best m...      1"
      ]
     },
     "execution_count": 4,
     "metadata": {},
     "output_type": "execute_result"
    }
   ],
   "source": [
    "data_tr.head()"
   ]
  },
  {
   "cell_type": "code",
   "execution_count": 5,
   "metadata": {
    "ExecuteTime": {
     "end_time": "2020-03-20T23:38:39.448533Z",
     "start_time": "2020-03-20T23:38:39.434168Z"
    },
    "run_control": {
     "marked": true
    }
   },
   "outputs": [
    {
     "data": {
      "text/plain": [
       "1400"
      ]
     },
     "execution_count": 5,
     "metadata": {},
     "output_type": "execute_result"
    }
   ],
   "source": [
    "len(data_tr)"
   ]
  },
  {
   "cell_type": "markdown",
   "metadata": {},
   "source": [
    "The next step is to put the raw texts into Python lists and their corresponding labels into NumPy arrays:\n"
   ]
  },
  {
   "cell_type": "code",
   "execution_count": 6,
   "metadata": {
    "ExecuteTime": {
     "end_time": "2020-03-20T23:38:39.489344Z",
     "start_time": "2020-03-20T23:38:39.460890Z"
    },
    "run_control": {
     "marked": true
    }
   },
   "outputs": [],
   "source": [
    "# fill in your code...\n",
    "def transform(df):\n",
    "    return list(df['text']), df['label'].to_numpy().reshape(-1,1)"
   ]
  },
  {
   "cell_type": "code",
   "execution_count": 7,
   "metadata": {
    "ExecuteTime": {
     "end_time": "2020-03-20T23:38:39.522109Z",
     "start_time": "2020-03-20T23:38:39.495823Z"
    },
    "run_control": {
     "marked": true
    }
   },
   "outputs": [],
   "source": [
    "X_tr_raw, Y_tr = transform(data_tr)\n",
    "X_te_raw, Y_te = transform(data_te)\n",
    "X_dev_raw, Y_dev = transform(data_dev)"
   ]
  },
  {
   "cell_type": "code",
   "execution_count": 8,
   "metadata": {
    "ExecuteTime": {
     "end_time": "2020-03-20T23:38:39.550683Z",
     "start_time": "2020-03-20T23:38:39.531309Z"
    },
    "cell_style": "split",
    "run_control": {
     "marked": true
    },
    "scrolled": true
   },
   "outputs": [
    {
     "data": {
      "text/plain": [
       "['note : some may consider portions of the following text to be spoilers .  be forewarned .  it\\'s startling to consider that it was only a few years ago that film distributors would worriedly rearrange their summer release schedules in order to give the annual disney animated feature juggernaut a wide berth .  the lion king had just cracked $300 million domestic in gross to become one of the most profitable ventures in film history , continuing to build on a sturdy base left by prior flicks aladdin and beauty and the beast .  since then , though , disney\\'s animated features have shown an unbroken string of diminishing returns , with pocahontas , the hunchback of notre dame , and this year\\'s hercules successively proving less and less potent .  with the once seemingly-impregnable disney stranglehold on the market share suddenly looking mighty vulnerable , and faced with their first serious competition in the animated film market from fox\\'s anastasia , disney has brought xmas home early by dusting off the feature which sparked the modern revival of feature animation , the little mermaid .  while the animation for the film is , as is typically the case for disney films , unquestionably top-notch , the magic in the little mermaid is not its animation , but the wonderful innocence of its story and its rousingly superb music .  the film\\'s storyline is fairly straightforward -- young teen falls for handsome man , father disapproves and assigns hapless chaperone to his daughter , teen disobeys father and goes to desperate lengths to win her man -- except in this case , the chaperone is a crab , the teen is a young mermaid , and the object of her desire is a human prince .  what makes the little mermaid so affecting and so emotionally resonant is the richness and charm of its characters and the sheer clarity and honest simplicity of their emotions .  from the moment mermaid ariel lays her eyes on prince eric , she\\'s resolutely smitten , and she\\'s such a pure and endearing character that one can\\'t help but invest their heart with her .  this simple but touching love story , coupled with a healthy dose of smart humour , makes the little mermaid a remarkably captivating picture .  one of the interesting things about the little mermaid is something which now curiously dates it : the voices cast for its motley crew of characters .  this film was produced just before the distracting concept of using celebrity voices became in vogue , which started to a certain degree with beauty and the beast and was irrevocably exacerbated by robin williams\\' much-heralded turn in aladdin ; by the release of the lion king and henceforth , the majority of characters in the animated films were voiced by celebrities .  while it\\'s understandable that animated features lacking the name-recognition or drawing power of disney ( say , balto\\'s use of kevin bacon and bridget fonda , or even anastasia\\'s showcasing of meg ryan and john cusack ) would be forced to turn to this strategy in order to hype their products , it\\'s unfortunate that even disney has embraced this policy .  do we really need to hear , say , demi moore as esmerelda in the hunchback of notre dame ?  is the film\\'s entertainment value really augmented by hearing a recognizable voice , rather than a voice which best suits the role ?   ( i\\'m not exactly on the edge of my seat for eddie murphy in the upcoming mulan . )  fortunately , the performers who voice the characters in the little mermaid , although perhaps more obscure , are impeccably cast .  chief among them is jodi benson , a 1992 tony nominee for her stage work in crazy for you , who voices the film\\'s heroine ariel to perfection ; with a wonderfully expressive speaking voice full of youthful vigor , and gorgeous singing voice , ms . benson provides a most engaging anchor for the film .   ( she\\'s the only reason i\\'d even consider catching flubber . )  similarly , samuel e . wright is terrific in the showy role of sebastian , the weary guardian crab .  he easily milks his lovable character\\'s comic moments for all they\\'re worth , and his rendering of two of the little mermaid\\'s big tunes -- \" under the sea \" and \" kiss the girl \" -- have become the stuff of legend .  pat carrol is deliciously villainous and vampy as the evil sea-witch ursula , while kenneth mars\\' booming voice conveys the stern yet affectionate authority of ariel\\'s father , king triton .  in large roles and small ( edie mcclurg as dotting busybody carlotta is ideal , and rene auberjonois has great fun with his exuberant french chef ) , the little mermaid is impeccably cast .  of course , the little mermaid will probably be best remembered for its remarkable collection of songs composed by the songwriting team of alan menken ( music ) and howard ashman ( lyrics ) , who had created little shop of horrors and would go on to compose beauty and the beast and aladdin for disney before mr . ashman\\'s untimely death .  not only are mr . menken\\'s tunes unbearably catchy , but mr . ashman\\'s charming lyrics are fully integrated into the film\\'s storyline so that the songs are a virtual extension of the character\\'s dialogue , and consequently work wonderfully within the context of the film .  mr . menken\\'s score for the film is equally top-notch ; the sequence where eric ( voiced by christopher daniel barnes ) and ariel tour his kingdom in a horse-drawn carriage becomes magical and wondrous with mr . menken\\'s fine score .  it appears that most people prefer the delightfully colourful production number for the calypso-styled \" under the sea \" as joyfully crooned by mr . wright , which won the academy award and golden globe awards for best song -- indeed , one of the many little joys in screening the film during its re-release was listening to children scattered throughout the audience singing along with the tune -- but my favourite is ms . benson\\'s heartfelt rendition of the ballad \" part of your world \" , an achingly beautiful tune of yearning and hope ( wonderfully lyricized by mr . ashman ) which , accompanied by the film\\'s most dazzlingly polished animation sequence , packs an emotional wallop which literally brought tears to my eyes .  during the song\\'s reprise , which builds to a crescendo with ariel arching on a rock as a wave crashes in , the cumulative effect is nothing short of breathtaking , and one becomes acutely aware that this single instance is one of the finest in animation history .  as of this writing , november 1997 has come to an end , as has disney\\'s limited 17-day re-release of the little mermaid .  there\\'s no question that the primary motivation for , if not the film\\'s reissue itself , at least its timing , was to reinforce disney\\'s dominance in the animation market and provide direct competition to fox\\'s costly new upstart animation division and their first major venture , anastasia .  in every respect , the re-release of the little mermaid appears to be a success -- the film\\'s 1997 grosses have pushed its cumulative domestic gross over the magic $100 million mark ; the little mermaid proved to have remarkably strong drawing power for a film initially released only eight years ago and in many homes on video , pulling in close to $10 million in its opening weekend ; and although nobody could possibly expect the little mermaid to possibly defeat the aggressively-marketed anastasia in head-to-head competition , it siphoned enough from the fox film\\'s opening weekend totals to keep anastasia from the coveted weekend leader spot , allowing for disney\\'s odious flubber to sweep in on the subsequent week and wrestle the family demographic market share away .  but although disney\\'s motives in the reissue of the little mermaid were self-serving and protectionist , the real winner is the public .  any reason to put this film back into theatres is a good one , and it\\'s a true joy to see this heartwarming gem back on the silver screen .  the little mermaid is the best film to come out of the disney\\'s modern animation renaissance , and one of the greatest animated films ever made .  ']"
      ]
     },
     "execution_count": 8,
     "metadata": {},
     "output_type": "execute_result"
    }
   ],
   "source": [
    "X_tr_raw[:1]"
   ]
  },
  {
   "cell_type": "code",
   "execution_count": 9,
   "metadata": {
    "ExecuteTime": {
     "end_time": "2020-03-20T23:38:39.578266Z",
     "start_time": "2020-03-20T23:38:39.559274Z"
    },
    "cell_style": "split",
    "run_control": {
     "marked": true
    }
   },
   "outputs": [
    {
     "data": {
      "text/plain": [
       "array([[1],\n",
       "       [1],\n",
       "       [1],\n",
       "       ...,\n",
       "       [0],\n",
       "       [0],\n",
       "       [0]])"
      ]
     },
     "execution_count": 9,
     "metadata": {},
     "output_type": "execute_result"
    }
   ],
   "source": [
    "Y_tr"
   ]
  },
  {
   "cell_type": "markdown",
   "metadata": {},
   "source": [
    "# Bag-of-Words Representation \n",
    "\n",
    "\n",
    "To train and test Logisitc Regression models, you first need to obtain vector representations for all documents given a vocabulary of features (unigrams, bigrams, trigrams).\n",
    "\n",
    "\n",
    "## Text Pre-Processing Pipeline\n",
    "\n",
    "To obtain a vocabulary of features, you should: \n",
    "- tokenise all texts into a list of unigrams (tip: using a regular expression) \n",
    "- remove stop words (using the one provided or one of your preference) \n",
    "- compute bigrams, trigrams given the remaining unigrams\n",
    "- remove ngrams appearing in less than K documents\n",
    "- use the remaining to create a vocabulary of unigrams, bigrams and trigrams (you can keep top N if you encounter memory issues).\n"
   ]
  },
  {
   "cell_type": "code",
   "execution_count": 10,
   "metadata": {
    "ExecuteTime": {
     "end_time": "2020-03-20T23:38:39.606714Z",
     "start_time": "2020-03-20T23:38:39.584645Z"
    },
    "run_control": {
     "marked": true
    }
   },
   "outputs": [],
   "source": [
    "stop_words = ['a','in','on','at','and','or', \n",
    "              'to', 'the', 'of', 'an', 'by', \n",
    "              'as', 'is', 'was', 'were', 'been', 'be', \n",
    "              'are','for', 'this', 'that', 'these', 'those', 'you', 'i',\n",
    "             'it', 'he', 'she', 'we', 'they', 'will', 'have', 'has',\n",
    "              'do', 'did', 'can', 'could', 'who', 'which', 'what', \n",
    "             'his', 'her', 'they', 'them', 'from', 'with', 'its']"
   ]
  },
  {
   "cell_type": "markdown",
   "metadata": {},
   "source": [
    "### N-gram extraction from a document\n",
    "\n",
    "You first need to implement the `extract_ngrams` function. It takes as input:\n",
    "- `x_raw`: a string corresponding to the raw text of a document\n",
    "- `ngram_range`: a tuple of two integers denoting the type of ngrams you want to extract, e.g. (1,2) denotes extracting unigrams and bigrams.\n",
    "- `token_pattern`: a string to be used within a regular expression to extract all tokens. Note that data is already tokenised so you could opt for a simple white space tokenisation.\n",
    "- `stop_words`: a list of stop words\n",
    "- `vocab`: a given vocabulary. It should be used to extract specific features.\n",
    "\n",
    "and returns:\n",
    "\n",
    "- a list of all extracted features.\n",
    "\n",
    "See the examples below to see how this function should work."
   ]
  },
  {
   "cell_type": "code",
   "execution_count": 11,
   "metadata": {
    "ExecuteTime": {
     "end_time": "2020-03-20T23:38:39.819541Z",
     "start_time": "2020-03-20T23:38:39.792709Z"
    },
    "code_folding": [
     3,
     13
    ],
    "run_control": {
     "marked": true
    }
   },
   "outputs": [],
   "source": [
    "def extract_ngrams(x_raw, ngram_range=(1,3), token_pattern=r'\\b[A-Za-z][A-Za-z]+\\b', stop_words=[], vocab=set()):\n",
    "    \"\"\"N-gram extraction from a document.\n",
    "\n",
    "    Args:\n",
    "        x_raw: a string corresponding to the raw text of a document\n",
    "        ngram_range: a tuple of two integers denoting the type of ngrams you want\n",
    "            to extract, e.g. (1,2) denotes extracting unigrams and bigrams.\n",
    "        token_pattern: a string to be used within a regular expression to extract\n",
    "            all tokens. Note that data is already tokenised so you could opt for\n",
    "            a simple white space tokenisation.\n",
    "        stop_words: a list of stop words\n",
    "        vocab: a given vocabulary. It should be used to extract specific features.\n",
    "\n",
    "    Returns:\n",
    "        A list of terms to the corresponding N-gram. Each part fits one N-gram,\n",
    "        except 1-gramrow. For example:\n",
    "\n",
    "        ['great','movie','watch',\n",
    "        ('great', 'movie'),('movie', 'watch'),\n",
    "        ('great', 'movie', 'watch')]\n",
    "\n",
    "    \"\"\"\n",
    "    def finder(s,n):\n",
    "        if n <= 0 or n > len(s):\n",
    "            raise Exception('n is out of range')\n",
    "        if n == 1:\n",
    "            return s\n",
    "        else:\n",
    "            return map(lambda i: tuple(s[i:i+n]),range(len(s)-n+1))\n",
    "\n",
    "    # Find all words by condition\n",
    "    pattern = re.compile(token_pattern)\n",
    "    term_eligible = [term.lower() for term in pattern.findall(x_raw) if term.lower() not in stop_words]\n",
    "\n",
    "    # Find combinations of different N-grams\n",
    "    x = [term for n in range(ngram_range[0],ngram_range[1]+1) for term in finder(term_eligible,n)]\n",
    "    \n",
    "    if not vocab:    \n",
    "        return x\n",
    "    else:\n",
    "        return [term for term in x if term in vocab]"
   ]
  },
  {
   "cell_type": "code",
   "execution_count": 12,
   "metadata": {
    "ExecuteTime": {
     "end_time": "2020-03-20T23:38:39.897959Z",
     "start_time": "2020-03-20T23:38:39.885434Z"
    },
    "run_control": {
     "marked": true
    }
   },
   "outputs": [
    {
     "data": {
      "text/plain": [
       "['great',\n",
       " 'movie',\n",
       " 'watch',\n",
       " ('great', 'movie'),\n",
       " ('movie', 'watch'),\n",
       " ('great', 'movie', 'watch')]"
      ]
     },
     "execution_count": 12,
     "metadata": {},
     "output_type": "execute_result"
    }
   ],
   "source": [
    "extract_ngrams(\"this is a great movie to watch\", \n",
    "               ngram_range=(1,3), \n",
    "               stop_words=stop_words)"
   ]
  },
  {
   "cell_type": "code",
   "execution_count": 13,
   "metadata": {
    "ExecuteTime": {
     "end_time": "2020-03-20T23:38:39.974821Z",
     "start_time": "2020-03-20T23:38:39.957082Z"
    },
    "run_control": {
     "marked": true
    }
   },
   "outputs": [
    {
     "data": {
      "text/plain": [
       "['great', ('great', 'movie')]"
      ]
     },
     "execution_count": 13,
     "metadata": {},
     "output_type": "execute_result"
    }
   ],
   "source": [
    "extract_ngrams(\"this is a great movie to watch\", \n",
    "               ngram_range=(1,2), \n",
    "               stop_words=stop_words, \n",
    "               vocab=set(['great',  ('great','movie')]))"
   ]
  },
  {
   "cell_type": "markdown",
   "metadata": {},
   "source": [
    "Note that it is OK to represent n-grams using lists instead of tuples: e.g. `['great', ['great', 'movie']]`"
   ]
  },
  {
   "cell_type": "markdown",
   "metadata": {},
   "source": [
    "### Create a vocabulary of n-grams\n",
    "\n",
    "Then the `get_vocab` function will be used to (1) create a vocabulary of ngrams; (2) count the document frequencies of ngrams; (3) their raw frequency. It takes as input:\n",
    "- `X_raw`: a list of strings each corresponding to the raw text of a document\n",
    "- `ngram_range`: a tuple of two integers denoting the type of ngrams you want to extract, e.g. (1,2) denotes extracting unigrams and bigrams.\n",
    "- `token_pattern`: a string to be used within a regular expression to extract all tokens. Note that data is already tokenised so you could opt for a simple white space tokenisation.\n",
    "- `stop_words`: a list of stop words\n",
    "- `vocab`: a given vocabulary. It should be used to extract specific features.\n",
    "- `min_df`: keep ngrams with a minimum document frequency.\n",
    "- `keep_topN`: keep top-N more frequent ngrams.\n",
    "\n",
    "and returns:\n",
    "\n",
    "- `vocab`: a set of the n-grams that will be used as features.\n",
    "- `df`: a Counter (or dict) that contains ngrams as keys and their corresponding document frequency as values.\n",
    "- `ngram_counts`: counts of each ngram in vocab\n",
    "\n",
    "Hint: it should make use of the `extract_ngrams` function."
   ]
  },
  {
   "cell_type": "code",
   "execution_count": 14,
   "metadata": {
    "ExecuteTime": {
     "end_time": "2020-03-20T23:38:40.529515Z",
     "start_time": "2020-03-20T23:38:40.507489Z"
    },
    "code_folding": [
     1,
     5,
     16
    ],
    "run_control": {
     "marked": true
    }
   },
   "outputs": [],
   "source": [
    "def get_vocab(X_raw, ngram_range=(1,3), token_pattern=r'\\b[A-Za-z][A-Za-z]+\\b', min_df=0, keep_topN=0, stop_words=[]):\n",
    "    '''1. create a vocabulary of ngrams\n",
    "       2. count the document frequencies of ngrams\n",
    "       3. their raw frequency\n",
    "\n",
    "    Args:\n",
    "        X_raw: a list of strings each corresponding to the raw text of a document\n",
    "        ngram_range: a tuple of two integers denoting the type of ngrams you want\n",
    "            to extract, e.g. (1,2) denotes extracting unigrams and bigrams.\n",
    "        token_pattern: a string to be used within a regular expression to extract\n",
    "            all tokens. Note that data is already tokenised so you could opt for\n",
    "            a simple white space tokenisation.\n",
    "        stop_words: a list of stop words\n",
    "        min_df: keep ngrams with a minimum document frequency.\n",
    "        keep_topN: keep top-N more frequent ngrams.\n",
    "\n",
    "    Returns:\n",
    "        vocab: a set of the n-grams that will be used as features.\n",
    "        df: a Counter (or dict) that contains ngrams as keys and their corresponding\n",
    "            document frequency as values.\n",
    "        ngram_counts: counts of each ngram in vocab\n",
    "        For example,\n",
    "\n",
    "    '''\n",
    "    bag_of_ngrams = list()\n",
    "    df = Counter()\n",
    "    for line in X_raw:\n",
    "        ngrams = extract_ngrams(line,ngram_range=(1,3),token_pattern=token_pattern,stop_words=stop_words)\n",
    "        bag_of_ngrams += ngrams\n",
    "        df.update(set(ngrams))\n",
    "    df = Counter({k:v for k,v in df.items() if v >=min_df})\n",
    "    ngram_counts = Counter(bag_of_ngrams)\n",
    "    \n",
    "    vocab = [items[0] for items in ngram_counts.most_common() if items[0] in df.keys()][:keep_topN]\n",
    "\n",
    "    return vocab, df, ngram_counts"
   ]
  },
  {
   "cell_type": "markdown",
   "metadata": {},
   "source": [
    "Now you should use `get_vocab` to create your vocabulary and get document and raw frequencies of n-grams:"
   ]
  },
  {
   "cell_type": "code",
   "execution_count": 15,
   "metadata": {
    "ExecuteTime": {
     "end_time": "2020-03-20T23:38:49.052498Z",
     "start_time": "2020-03-20T23:38:40.826179Z"
    },
    "run_control": {
     "marked": true
    }
   },
   "outputs": [
    {
     "name": "stdout",
     "output_type": "stream",
     "text": [
      "5000\n",
      "\n",
      "['film', 'but', 'one', 'movie', 'not', 'all', 'there', 'like', 'so', 'out', 'about', 'more', 'up', 'when', 'their', 'some', 'just', 'if', 'into', 'him', 'even', 'only', 'no', 'than', 'time', 'good', 'most', 'story', 'would', 'much', 'character', 'also', 'get', 'two', 'well', 'characters', 'other', 'very', 'first', 'see', 'after', 'because', 'way', 'make', 'off', 'plot', 'while', 'had', 'any', 'too', 'little', 'life', 'films', 'does', 'where', 'people', 'then', 'how', 'me', 'really', 'man', 'scene', 'my', 'never', 'bad', 'being', 'over', 'best', 'don', 'scenes', 'doesn', 'many', 'new', 'know', 'director', 'here', 'action', 'such', 'great', 'through', 'movies', 're', 'love', 'another', 'made', 'go', 'big', 'end', 'seems', 'something', 'still', 'back', 'world', 'us', 'work', 'now', 'down', 'before', 'makes', 'however']\n",
      "\n",
      "[('but', 1334), ('one', 1247), ('film', 1231), ('not', 1170), ('all', 1117), ('movie', 1095), ('out', 1080), ('so', 1047), ('there', 1046), ('like', 1043)]\n"
     ]
    }
   ],
   "source": [
    "vocab, df, ngram_counts = get_vocab(X_tr_raw, ngram_range=(1,3), keep_topN=5000, stop_words=stop_words)\n",
    "print(len(vocab))\n",
    "print()\n",
    "print(list(vocab)[:100])\n",
    "print()\n",
    "print(df.most_common()[:10])"
   ]
  },
  {
   "cell_type": "markdown",
   "metadata": {},
   "source": [
    "Then, you need to create vocabulary id -> word and id -> word dictionaries for reference:"
   ]
  },
  {
   "cell_type": "code",
   "execution_count": 16,
   "metadata": {
    "ExecuteTime": {
     "end_time": "2020-03-20T23:38:49.112175Z",
     "start_time": "2020-03-20T23:38:49.058947Z"
    },
    "cell_style": "center",
    "run_control": {
     "marked": true
    }
   },
   "outputs": [
    {
     "data": {
      "text/plain": [
       "{0: 'film',\n",
       " 1: 'but',\n",
       " 2: 'one',\n",
       " 3: 'movie',\n",
       " 4: 'not',\n",
       " 5: 'all',\n",
       " 6: 'there',\n",
       " 7: 'like',\n",
       " 8: 'so',\n",
       " 9: 'out',\n",
       " 10: 'about',\n",
       " 11: 'more',\n",
       " 12: 'up',\n",
       " 13: 'when',\n",
       " 14: 'their',\n",
       " 15: 'some',\n",
       " 16: 'just',\n",
       " 17: 'if',\n",
       " 18: 'into',\n",
       " 19: 'him',\n",
       " 20: 'even',\n",
       " 21: 'only',\n",
       " 22: 'no',\n",
       " 23: 'than',\n",
       " 24: 'time',\n",
       " 25: 'good',\n",
       " 26: 'most',\n",
       " 27: 'story',\n",
       " 28: 'would',\n",
       " 29: 'much',\n",
       " 30: 'character',\n",
       " 31: 'also',\n",
       " 32: 'get',\n",
       " 33: 'two',\n",
       " 34: 'well',\n",
       " 35: 'characters',\n",
       " 36: 'other',\n",
       " 37: 'very',\n",
       " 38: 'first',\n",
       " 39: 'see',\n",
       " 40: 'after',\n",
       " 41: 'because',\n",
       " 42: 'way',\n",
       " 43: 'make',\n",
       " 44: 'off',\n",
       " 45: 'plot',\n",
       " 46: 'while',\n",
       " 47: 'had',\n",
       " 48: 'any',\n",
       " 49: 'too',\n",
       " 50: 'little',\n",
       " 51: 'life',\n",
       " 52: 'films',\n",
       " 53: 'does',\n",
       " 54: 'where',\n",
       " 55: 'people',\n",
       " 56: 'then',\n",
       " 57: 'how',\n",
       " 58: 'me',\n",
       " 59: 'really',\n",
       " 60: 'man',\n",
       " 61: 'scene',\n",
       " 62: 'my',\n",
       " 63: 'never',\n",
       " 64: 'bad',\n",
       " 65: 'being',\n",
       " 66: 'over',\n",
       " 67: 'best',\n",
       " 68: 'don',\n",
       " 69: 'scenes',\n",
       " 70: 'doesn',\n",
       " 71: 'many',\n",
       " 72: 'new',\n",
       " 73: 'know',\n",
       " 74: 'director',\n",
       " 75: 'here',\n",
       " 76: 'action',\n",
       " 77: 'such',\n",
       " 78: 'great',\n",
       " 79: 'through',\n",
       " 80: 'movies',\n",
       " 81: 're',\n",
       " 82: 'love',\n",
       " 83: 'another',\n",
       " 84: 'made',\n",
       " 85: 'go',\n",
       " 86: 'big',\n",
       " 87: 'end',\n",
       " 88: 'seems',\n",
       " 89: 'something',\n",
       " 90: 'still',\n",
       " 91: 'back',\n",
       " 92: 'world',\n",
       " 93: 'us',\n",
       " 94: 'work',\n",
       " 95: 'now',\n",
       " 96: 'down',\n",
       " 97: 'before',\n",
       " 98: 'makes',\n",
       " 99: 'however',\n",
       " 100: 'few',\n",
       " 101: 'every',\n",
       " 102: 'between',\n",
       " 103: 'seen',\n",
       " 104: 'better',\n",
       " 105: 'enough',\n",
       " 106: 'though',\n",
       " 107: 'real',\n",
       " 108: 'why',\n",
       " 109: 'things',\n",
       " 110: 'going',\n",
       " 111: 'around',\n",
       " 112: 'both',\n",
       " 113: 'year',\n",
       " 114: 'take',\n",
       " 115: 'audience',\n",
       " 116: 'your',\n",
       " 117: 'same',\n",
       " 118: 'role',\n",
       " 119: 'john',\n",
       " 120: 'gets',\n",
       " 121: 'should',\n",
       " 122: 'isn',\n",
       " 123: 'old',\n",
       " 124: 'think',\n",
       " 125: 've',\n",
       " 126: 'look',\n",
       " 127: 'performance',\n",
       " 128: 'long',\n",
       " 129: 'may',\n",
       " 130: 'nothing',\n",
       " 131: 'years',\n",
       " 132: 'actually',\n",
       " 133: 'comedy',\n",
       " 134: 'thing',\n",
       " 135: 'last',\n",
       " 136: 'fact',\n",
       " 137: 'right',\n",
       " 138: 'almost',\n",
       " 139: 'cast',\n",
       " 140: 'say',\n",
       " 141: 'own',\n",
       " 142: 'funny',\n",
       " 143: 'ever',\n",
       " 144: 'although',\n",
       " 145: 'come',\n",
       " 146: 'played',\n",
       " 147: 'script',\n",
       " 148: 'since',\n",
       " 149: 'young',\n",
       " 150: 'find',\n",
       " 151: 'star',\n",
       " 152: 'comes',\n",
       " 153: 'plays',\n",
       " 154: 'actors',\n",
       " 155: 'screen',\n",
       " 156: 'show',\n",
       " 157: 'part',\n",
       " 158: 'again',\n",
       " 159: 'original',\n",
       " 160: 'without',\n",
       " 161: 'effects',\n",
       " 162: 'lot',\n",
       " 163: 'takes',\n",
       " 164: 'day',\n",
       " 165: 'point',\n",
       " 166: 'acting',\n",
       " 167: 'guy',\n",
       " 168: 'interesting',\n",
       " 169: 'himself',\n",
       " 170: 'goes',\n",
       " 171: 'might',\n",
       " 172: 'least',\n",
       " 173: 'high',\n",
       " 174: 'quite',\n",
       " 175: 'during',\n",
       " 176: 'three',\n",
       " 177: 'each',\n",
       " 178: 'minutes',\n",
       " 179: 'far',\n",
       " 180: 'once',\n",
       " 181: 'away',\n",
       " 182: 'place',\n",
       " 183: 'course',\n",
       " 184: 'family',\n",
       " 185: 'set',\n",
       " 186: 'rather',\n",
       " 187: 'anything',\n",
       " 188: 'watch',\n",
       " 189: 'making',\n",
       " 190: 'fun',\n",
       " 191: 'must',\n",
       " 192: 'our',\n",
       " 193: 'special',\n",
       " 194: 'yet',\n",
       " 195: 'didn',\n",
       " 196: 'kind',\n",
       " 197: 'll',\n",
       " 198: 'bit',\n",
       " 199: 'always',\n",
       " 200: ('more', 'than'),\n",
       " 201: 'seem',\n",
       " 202: 'sense',\n",
       " 203: 'give',\n",
       " 204: 'picture',\n",
       " 205: 'series',\n",
       " 206: 'hard',\n",
       " 207: 'wife',\n",
       " 208: 'black',\n",
       " 209: 'want',\n",
       " 210: 'times',\n",
       " 211: 'home',\n",
       " 212: 'job',\n",
       " 213: 'hollywood',\n",
       " 214: 'along',\n",
       " 215: 'woman',\n",
       " 216: 'pretty',\n",
       " 217: 'actor',\n",
       " 218: 'trying',\n",
       " 219: 'instead',\n",
       " 220: 'dialogue',\n",
       " 221: 'everything',\n",
       " 222: 'probably',\n",
       " 223: 'sure',\n",
       " 224: 'help',\n",
       " 225: 'american',\n",
       " 226: 'having',\n",
       " 227: 'men',\n",
       " 228: 'half',\n",
       " 229: 'given',\n",
       " 230: 'becomes',\n",
       " 231: 'gives',\n",
       " 232: 'looking',\n",
       " 233: 'become',\n",
       " 234: 'feel',\n",
       " 235: 'money',\n",
       " 236: 'less',\n",
       " 237: 'horror',\n",
       " 238: 'wants',\n",
       " 239: 'done',\n",
       " 240: 'got',\n",
       " 241: 'together',\n",
       " 242: 'watching',\n",
       " 243: 'girl',\n",
       " 244: 'sex',\n",
       " 245: 'everyone',\n",
       " 246: 'music',\n",
       " 247: 'play',\n",
       " 248: 'whole',\n",
       " 249: 'perhaps',\n",
       " 250: 'father',\n",
       " 251: 'especially',\n",
       " 252: 'human',\n",
       " 253: 'completely',\n",
       " 254: 'moments',\n",
       " 255: 'whose',\n",
       " 256: 'put',\n",
       " 257: 'reason',\n",
       " 258: 'line',\n",
       " 259: 'james',\n",
       " 260: 'case',\n",
       " 261: 'death',\n",
       " 262: 'anyone',\n",
       " 263: 'next',\n",
       " 264: 'itself',\n",
       " 265: 'mind',\n",
       " 266: 'ending',\n",
       " 267: 'entire',\n",
       " 268: 'city',\n",
       " 269: 'true',\n",
       " 270: 'different',\n",
       " 271: 'looks',\n",
       " 272: 'rest',\n",
       " 273: 'until',\n",
       " 274: 'humor',\n",
       " 275: 'michael',\n",
       " 276: 'thought',\n",
       " 277: 'mother',\n",
       " 278: 'small',\n",
       " 279: 'let',\n",
       " 280: 'several',\n",
       " 281: 'simply',\n",
       " 282: 'lost',\n",
       " 283: 'problem',\n",
       " 284: 'soon',\n",
       " 285: 'based',\n",
       " 286: 'written',\n",
       " 287: 'else',\n",
       " 288: 'shows',\n",
       " 289: 'left',\n",
       " 290: 'called',\n",
       " 291: 'friend',\n",
       " 292: 'dead',\n",
       " 293: 'couple',\n",
       " 294: 'main',\n",
       " 295: 'getting',\n",
       " 296: 'performances',\n",
       " 297: 'second',\n",
       " 298: 'night',\n",
       " 299: 'use',\n",
       " 300: 'head',\n",
       " 301: ('special', 'effects'),\n",
       " 302: 'school',\n",
       " 303: 'idea',\n",
       " 304: 'tv',\n",
       " 305: 'evil',\n",
       " 306: 'house',\n",
       " 307: 'found',\n",
       " 308: 'top',\n",
       " 309: 'name',\n",
       " 310: 'comic',\n",
       " 311: 'named',\n",
       " 312: 'either',\n",
       " 313: 'wrong',\n",
       " 314: 'full',\n",
       " 315: 'stars',\n",
       " 316: 'alien',\n",
       " 317: ('there', 'no'),\n",
       " 318: 'often',\n",
       " 319: 'turns',\n",
       " 320: 'unfortunately',\n",
       " 321: 'david',\n",
       " 322: 'later',\n",
       " 323: 'final',\n",
       " 324: 'someone',\n",
       " 325: 'town',\n",
       " 326: 'believe',\n",
       " 327: 'works',\n",
       " 328: 'against',\n",
       " 329: 'begins',\n",
       " 330: 'person',\n",
       " 331: 'certainly',\n",
       " 332: 'sequence',\n",
       " 333: 'used',\n",
       " 334: 'behind',\n",
       " 335: 'live',\n",
       " 336: 'tries',\n",
       " 337: 'run',\n",
       " 338: 'group',\n",
       " 339: 'friends',\n",
       " 340: 'hand',\n",
       " 341: 'boy',\n",
       " 342: 'summer',\n",
       " 343: 'nice',\n",
       " 344: 'seeing',\n",
       " 345: 'game',\n",
       " 346: 'face',\n",
       " 347: 'war',\n",
       " 348: 'shot',\n",
       " 349: 'book',\n",
       " 350: 'turn',\n",
       " 351: 'playing',\n",
       " 352: 'tell',\n",
       " 353: 'despite',\n",
       " 354: 'kids',\n",
       " 355: 'maybe',\n",
       " 356: 'keep',\n",
       " 357: 'hour',\n",
       " 358: ('not', 'only'),\n",
       " 359: 'doing',\n",
       " 360: 'under',\n",
       " 361: 'style',\n",
       " 362: 'finally',\n",
       " 363: 'able',\n",
       " 364: 'relationship',\n",
       " 365: 'disney',\n",
       " 366: 'worth',\n",
       " 367: 'side',\n",
       " 368: 'past',\n",
       " 369: 'said',\n",
       " 370: 'children',\n",
       " 371: 'including',\n",
       " 372: 'days',\n",
       " 373: 'directed',\n",
       " 374: 'need',\n",
       " 375: 'won',\n",
       " 376: 'team',\n",
       " 377: 'short',\n",
       " 378: 'entertaining',\n",
       " 379: 'supposed',\n",
       " 380: 'earth',\n",
       " 381: 'lives',\n",
       " 382: 'starts',\n",
       " 383: 'lines',\n",
       " 384: 'perfect',\n",
       " 385: 'car',\n",
       " 386: 'finds',\n",
       " 387: 'white',\n",
       " 388: 'mr',\n",
       " 389: 'beautiful',\n",
       " 390: 'self',\n",
       " 391: 'running',\n",
       " 392: 'video',\n",
       " 393: ('but', 'not'),\n",
       " 394: 'dark',\n",
       " 395: 'camera',\n",
       " 396: 'early',\n",
       " 397: 'son',\n",
       " 398: 'voice',\n",
       " 399: 'opening',\n",
       " 400: 'joe',\n",
       " 401: 'nearly',\n",
       " 402: 'moment',\n",
       " 403: 'example',\n",
       " 404: 'writer',\n",
       " 405: 'exactly',\n",
       " 406: 'production',\n",
       " 407: 'version',\n",
       " 408: 'computer',\n",
       " 409: 'problems',\n",
       " 410: ('does', 'not'),\n",
       " 411: 'violence',\n",
       " 412: 'fine',\n",
       " 413: 'matter',\n",
       " 414: 'care',\n",
       " 415: 'fight',\n",
       " 416: 'kevin',\n",
       " 417: 'review',\n",
       " 418: 'five',\n",
       " 419: 'try',\n",
       " 420: 'daughter',\n",
       " 421: 'lee',\n",
       " 422: 'hit',\n",
       " 423: 'save',\n",
       " 424: 'heart',\n",
       " 425: 'throughout',\n",
       " 426: 'title',\n",
       " 427: 'simple',\n",
       " 428: 'known',\n",
       " 429: 'sequences',\n",
       " 430: 'eyes',\n",
       " 431: 'start',\n",
       " 432: 'worst',\n",
       " 433: 'coming',\n",
       " 434: 'themselves',\n",
       " 435: 'major',\n",
       " 436: 'obvious',\n",
       " 437: 'order',\n",
       " 438: 'kill',\n",
       " 439: 'deep',\n",
       " 440: 'beginning',\n",
       " 441: 'supporting',\n",
       " 442: 'drama',\n",
       " 443: ('so', 'much'),\n",
       " 444: 'jackie',\n",
       " 445: 'upon',\n",
       " 446: ('each', 'other'),\n",
       " 447: 'jack',\n",
       " 448: 'already',\n",
       " 449: 'robert',\n",
       " 450: 'aren',\n",
       " 451: 'space',\n",
       " 452: 'question',\n",
       " 453: 'guys',\n",
       " 454: 'screenplay',\n",
       " 455: 'killer',\n",
       " 456: 'classic',\n",
       " 457: 'truly',\n",
       " 458: 'sort',\n",
       " 459: 'boring',\n",
       " 460: 'thriller',\n",
       " 461: 'child',\n",
       " 462: 'close',\n",
       " 463: 'others',\n",
       " 464: 'saw',\n",
       " 465: 'women',\n",
       " 466: 'fiction',\n",
       " 467: 'dog',\n",
       " 468: 'act',\n",
       " 469: 'direction',\n",
       " 470: 'sets',\n",
       " 471: 'ship',\n",
       " 472: 'roles',\n",
       " 473: 'happens',\n",
       " 474: 'attempt',\n",
       " 475: 'room',\n",
       " 476: 'note',\n",
       " 477: 'genre',\n",
       " 478: 'tom',\n",
       " 479: 'body',\n",
       " 480: 'four',\n",
       " 481: 'yes',\n",
       " 482: 'wasn',\n",
       " 483: 'quickly',\n",
       " 484: 'stop',\n",
       " 485: 'husband',\n",
       " 486: 'knows',\n",
       " 487: 'laugh',\n",
       " 488: 'van',\n",
       " 489: 'worse',\n",
       " 490: 'novel',\n",
       " 491: 'level',\n",
       " 492: 'ends',\n",
       " 493: 'strong',\n",
       " 494: 'piece',\n",
       " 495: 'tells',\n",
       " 496: 'george',\n",
       " 497: 'hero',\n",
       " 498: 'murder',\n",
       " 499: 'brother',\n",
       " 500: 'god',\n",
       " 501: 'york',\n",
       " 502: 'wonder',\n",
       " 503: 'released',\n",
       " 504: 'particularly',\n",
       " 505: 'sometimes',\n",
       " 506: 'romantic',\n",
       " 507: 'says',\n",
       " 508: 'aliens',\n",
       " 509: 'wild',\n",
       " 510: 'hell',\n",
       " 511: 'fans',\n",
       " 512: 'involving',\n",
       " 513: 'single',\n",
       " 514: 'possible',\n",
       " 515: 'sound',\n",
       " 516: 'none',\n",
       " 517: 'manages',\n",
       " 518: 'feature',\n",
       " 519: 'hope',\n",
       " 520: 'stupid',\n",
       " 521: 'paul',\n",
       " 522: 'career',\n",
       " 523: 'king',\n",
       " 524: 'involved',\n",
       " 525: 'bring',\n",
       " 526: 'impressive',\n",
       " 527: 'attention',\n",
       " 528: 'living',\n",
       " 529: 'lead',\n",
       " 530: 'material',\n",
       " 531: 'planet',\n",
       " 532: 'fall',\n",
       " 533: 'seemed',\n",
       " 534: 'chris',\n",
       " 535: 'experience',\n",
       " 536: 'interest',\n",
       " 537: 'talk',\n",
       " 538: 'lack',\n",
       " 539: 'taking',\n",
       " 540: 'de',\n",
       " 541: 'taken',\n",
       " 542: 'appears',\n",
       " 543: 'basically',\n",
       " 544: 'elements',\n",
       " 545: 'extremely',\n",
       " 546: 'mostly',\n",
       " 547: ('new', 'york'),\n",
       " 548: 'except',\n",
       " 549: 'enjoy',\n",
       " 550: 'talent',\n",
       " 551: 'peter',\n",
       " 552: 'scream',\n",
       " 553: 'theater',\n",
       " 554: 'deal',\n",
       " 555: 'crew',\n",
       " 556: 'meet',\n",
       " 557: 'result',\n",
       " 558: 'recent',\n",
       " 559: 'feeling',\n",
       " 560: 'form',\n",
       " 561: 'power',\n",
       " 562: 'among',\n",
       " 563: 'emotional',\n",
       " 564: 'future',\n",
       " 565: 'usually',\n",
       " 566: 'police',\n",
       " 567: 'light',\n",
       " 568: 'falls',\n",
       " 569: 'success',\n",
       " 570: 'hours',\n",
       " 571: 'oscar',\n",
       " 572: 'across',\n",
       " 573: 'battle',\n",
       " 574: 'smith',\n",
       " 575: 'score',\n",
       " 576: 'late',\n",
       " 577: 'television',\n",
       " 578: 'entertainment',\n",
       " 579: 'parents',\n",
       " 580: 'obviously',\n",
       " 581: 'batman',\n",
       " 582: 'words',\n",
       " 583: 'science',\n",
       " 584: 'stuff',\n",
       " 585: 'cool',\n",
       " 586: 'ways',\n",
       " 587: 'alone',\n",
       " 588: 'mean',\n",
       " 589: 'giving',\n",
       " 590: 'release',\n",
       " 591: 'features',\n",
       " 592: 'number',\n",
       " 593: 'chance',\n",
       " 594: 'feels',\n",
       " 595: 'told',\n",
       " 596: 'tale',\n",
       " 597: 'co',\n",
       " 598: 'viewer',\n",
       " 599: 'important',\n",
       " 600: ('even', 'though'),\n",
       " 601: ('too', 'much'),\n",
       " 602: 'jones',\n",
       " 603: 'wonderful',\n",
       " 604: 'robin',\n",
       " 605: 'forced',\n",
       " 606: 'mission',\n",
       " 607: 'eventually',\n",
       " 608: 'type',\n",
       " 609: 'jokes',\n",
       " 610: 'suspense',\n",
       " 611: 'meets',\n",
       " 612: 'girls',\n",
       " 613: 'williams',\n",
       " 614: 'attempts',\n",
       " 615: 'killed',\n",
       " 616: 'history',\n",
       " 617: 'serious',\n",
       " 618: 'premise',\n",
       " 619: 'guess',\n",
       " 620: 'within',\n",
       " 621: 'needs',\n",
       " 622: 'william',\n",
       " 623: 'america',\n",
       " 624: 'apparently',\n",
       " 625: 'using',\n",
       " 626: 'due',\n",
       " 627: 'ben',\n",
       " 628: 'kid',\n",
       " 629: 'whether',\n",
       " 630: 'happy',\n",
       " 631: 'art',\n",
       " 632: 'middle',\n",
       " 633: 'credits',\n",
       " 634: 'wars',\n",
       " 635: 'expect',\n",
       " 636: 'presence',\n",
       " 637: 'girlfriend',\n",
       " 638: 'went',\n",
       " 639: 'change',\n",
       " 640: 'office',\n",
       " 641: 'easily',\n",
       " 642: 'somehow',\n",
       " 643: 'oh',\n",
       " 644: 'poor',\n",
       " 645: 'word',\n",
       " 646: 'flick',\n",
       " 647: 'wouldn',\n",
       " 648: 'eye',\n",
       " 649: 'laughs',\n",
       " 650: ('rather', 'than'),\n",
       " 651: 'working',\n",
       " 652: 'leads',\n",
       " 653: 'die',\n",
       " 654: 'straight',\n",
       " 655: 'surprise',\n",
       " 656: 'anyway',\n",
       " 657: 'dr',\n",
       " 658: 'easy',\n",
       " 659: 'happen',\n",
       " 660: 'am',\n",
       " 661: 'cop',\n",
       " 662: 'strange',\n",
       " 663: 'ago',\n",
       " 664: 'talking',\n",
       " 665: 'difficult',\n",
       " 666: 'cut',\n",
       " 667: 'remember',\n",
       " 668: 'quality',\n",
       " 669: ('star', 'wars'),\n",
       " 670: 'harry',\n",
       " 671: 'leave',\n",
       " 672: 'whom',\n",
       " 673: 'budget',\n",
       " 674: 'animated',\n",
       " 675: 'slow',\n",
       " 676: 'absolutely',\n",
       " 677: 'smart',\n",
       " 678: 'effective',\n",
       " 679: ('ve', 'seen'),\n",
       " 680: 'cinema',\n",
       " 681: 'crime',\n",
       " 682: 'minute',\n",
       " 683: 'million',\n",
       " 684: ('one', 'most'),\n",
       " 685: 'myself',\n",
       " 686: 'jim',\n",
       " 687: 'definitely',\n",
       " 688: ('year', 'old'),\n",
       " 689: 'surprisingly',\n",
       " 690: 'local',\n",
       " 691: 'runs',\n",
       " 692: 'business',\n",
       " 693: 'personal',\n",
       " 694: 'villain',\n",
       " 695: 'present',\n",
       " 696: 'visual',\n",
       " 697: 'mystery',\n",
       " 698: 'nature',\n",
       " 699: 'age',\n",
       " 700: 'reality',\n",
       " 701: 'return',\n",
       " 702: 'figure',\n",
       " 703: 'blood',\n",
       " 704: 'parts',\n",
       " 705: 'scary',\n",
       " 706: 'filmmakers',\n",
       " 707: 'sequel',\n",
       " 708: 'certain',\n",
       " 709: 'intelligent',\n",
       " 710: 'potential',\n",
       " 711: 'starring',\n",
       " 712: 'somewhat',\n",
       " 713: 'call',\n",
       " 714: 'annoying',\n",
       " 715: 'writing',\n",
       " 716: 'general',\n",
       " 717: 'begin',\n",
       " 718: 'hilarious',\n",
       " 719: 'read',\n",
       " 720: 'stories',\n",
       " 721: 'situation',\n",
       " 722: 'motion',\n",
       " 723: ('high', 'school'),\n",
       " 724: 'third',\n",
       " 725: 'carter',\n",
       " 726: 'uses',\n",
       " 727: 'complete',\n",
       " 728: 'towards',\n",
       " 729: ('but', 'also'),\n",
       " 730: 'fast',\n",
       " 731: 'low',\n",
       " 732: 'box',\n",
       " 733: 'brothers',\n",
       " 734: 'follow',\n",
       " 735: 'romance',\n",
       " 736: ('no', 'one'),\n",
       " 737: 'similar',\n",
       " 738: 'sexual',\n",
       " 739: 'decent',\n",
       " 740: 'rock',\n",
       " 741: 'learn',\n",
       " 742: 'red',\n",
       " 743: 'secret',\n",
       " 744: 'force',\n",
       " 745: 'couldn',\n",
       " 746: 'gone',\n",
       " 747: 'came',\n",
       " 748: 'familiar',\n",
       " 749: 'water',\n",
       " 750: 'actress',\n",
       " 751: 'create',\n",
       " 752: 'successful',\n",
       " 753: 'project',\n",
       " 754: 'add',\n",
       " 755: 'thinking',\n",
       " 756: 'latest',\n",
       " 757: 'dramatic',\n",
       " 758: 'popular',\n",
       " 759: 'shots',\n",
       " 760: 'predictable',\n",
       " 761: 'decides',\n",
       " 762: 'company',\n",
       " 763: 'previous',\n",
       " 764: 'herself',\n",
       " 765: 'near',\n",
       " 766: 'filled',\n",
       " 767: 'giant',\n",
       " 768: 'bill',\n",
       " 769: 'park',\n",
       " 770: 'following',\n",
       " 771: 'events',\n",
       " 772: 'law',\n",
       " 773: 'huge',\n",
       " 774: ('but', 'there'),\n",
       " 775: 'solid',\n",
       " 776: 'message',\n",
       " 777: 'leaving',\n",
       " 778: 'means',\n",
       " 779: 'murphy',\n",
       " 780: 'nor',\n",
       " 781: 'brings',\n",
       " 782: 'brilliant',\n",
       " 783: 'turned',\n",
       " 784: 'clear',\n",
       " 785: ('film', 'but'),\n",
       " 786: 'beyond',\n",
       " 787: 'large',\n",
       " 788: 'bruce',\n",
       " 789: 'former',\n",
       " 790: 'points',\n",
       " 791: 'effect',\n",
       " 792: 'mark',\n",
       " 793: 'clever',\n",
       " 794: 'immediately',\n",
       " 795: 'martin',\n",
       " 796: 'opens',\n",
       " 797: 'move',\n",
       " 798: 'tarzan',\n",
       " 799: 'brought',\n",
       " 800: 'cold',\n",
       " 801: ('even', 'more'),\n",
       " 802: 'rich',\n",
       " 803: 'bob',\n",
       " 804: 'ryan',\n",
       " 805: 'doubt',\n",
       " 806: 'ones',\n",
       " 807: 'woody',\n",
       " 808: 'perfectly',\n",
       " 809: ('much', 'more'),\n",
       " 810: 'amazing',\n",
       " 811: 'moving',\n",
       " 812: 'audiences',\n",
       " 813: 'questions',\n",
       " 814: 'bunch',\n",
       " 815: 'animation',\n",
       " 816: 'chan',\n",
       " 817: 'powerful',\n",
       " 818: 'break',\n",
       " 819: 'usual',\n",
       " 820: 'party',\n",
       " 821: 'merely',\n",
       " 822: 'society',\n",
       " 823: 'likely',\n",
       " 824: 'gun',\n",
       " 825: 'prison',\n",
       " 826: 'understand',\n",
       " 827: 'scott',\n",
       " 828: 'seriously',\n",
       " 829: 'plan',\n",
       " 830: 'sweet',\n",
       " 831: 'dream',\n",
       " 832: 'above',\n",
       " 833: 'mess',\n",
       " 834: 'mars',\n",
       " 835: 'appear',\n",
       " 836: 'steve',\n",
       " 837: 'country',\n",
       " 838: 'non',\n",
       " 839: 'chase',\n",
       " 840: 'viewers',\n",
       " 841: 'ultimately',\n",
       " 842: 'keeps',\n",
       " 843: 'enjoyable',\n",
       " 844: 'key',\n",
       " 845: 'class',\n",
       " 846: 'trouble',\n",
       " 847: 'fails',\n",
       " 848: 'favorite',\n",
       " 849: 'frank',\n",
       " 850: 'happened',\n",
       " 851: 'leaves',\n",
       " 852: 'free',\n",
       " 853: 'silly',\n",
       " 854: 'impossible',\n",
       " 855: 'trek',\n",
       " 856: ('better', 'than'),\n",
       " 857: 'created',\n",
       " 858: 'heard',\n",
       " 859: 'west',\n",
       " 860: 'english',\n",
       " 861: 'subject',\n",
       " 862: 'element',\n",
       " 863: ('very', 'good'),\n",
       " 864: 'view',\n",
       " 865: 'truth',\n",
       " 866: 'sam',\n",
       " 867: 'felt',\n",
       " 868: ('even', 'if'),\n",
       " 869: 'cameron',\n",
       " 870: 'focus',\n",
       " 871: 'excellent',\n",
       " 872: ('their', 'own'),\n",
       " 873: 'agent',\n",
       " 874: 'effort',\n",
       " 875: 'realize',\n",
       " 876: 'haven',\n",
       " 877: 'unlike',\n",
       " 878: 'wanted',\n",
       " 879: 'depth',\n",
       " 880: 'talented',\n",
       " 881: 'stay',\n",
       " 882: 'sit',\n",
       " 883: 'otherwise',\n",
       " 884: 'heavy',\n",
       " 885: 'today',\n",
       " 886: 'fan',\n",
       " 887: 'air',\n",
       " 888: 'escape',\n",
       " 889: 'follows',\n",
       " 890: 'state',\n",
       " 891: ('scene', 'where'),\n",
       " 892: ('there', 'some'),\n",
       " 893: 'complex',\n",
       " 894: 'richard',\n",
       " 895: 'ex',\n",
       " 896: ('so', 'many'),\n",
       " 897: 'vampire',\n",
       " 898: 'exciting',\n",
       " 899: 'neither',\n",
       " 900: 'particular',\n",
       " 901: 'liked',\n",
       " 902: 'showing',\n",
       " 903: 'spend',\n",
       " 904: 'open',\n",
       " 905: 'entirely',\n",
       " 906: 'saying',\n",
       " 907: 'queen',\n",
       " 908: 'studio',\n",
       " 909: 'subtle',\n",
       " 910: ('turns', 'out'),\n",
       " 911: 'ridiculous',\n",
       " 912: 'joke',\n",
       " 913: 'overall',\n",
       " 914: 'quick',\n",
       " 915: 'inside',\n",
       " 916: 'stand',\n",
       " 917: 'jackson',\n",
       " 918: 'tim',\n",
       " 919: 'background',\n",
       " 920: 'humans',\n",
       " 921: 'whatever',\n",
       " 922: 'slightly',\n",
       " 923: 'bond',\n",
       " 924: 'dumb',\n",
       " 925: 'took',\n",
       " 926: 'purpose',\n",
       " 927: 'ten',\n",
       " 928: 'allen',\n",
       " 929: 'wedding',\n",
       " 930: 'various',\n",
       " 931: 'sister',\n",
       " 932: 'drug',\n",
       " 933: 'spent',\n",
       " 934: 'memorable',\n",
       " 935: 'six',\n",
       " 936: 'female',\n",
       " 937: 'situations',\n",
       " 938: 'ability',\n",
       " 939: 'moves',\n",
       " 940: 'nick',\n",
       " 941: 'tone',\n",
       " 942: 'earlier',\n",
       " 943: 'ideas',\n",
       " 944: 'further',\n",
       " 945: 'rated',\n",
       " 946: 'amusing',\n",
       " 947: 'produced',\n",
       " 948: 'college',\n",
       " 949: 'stone',\n",
       " 950: 'dull',\n",
       " 951: 'cannot',\n",
       " 952: 'dreams',\n",
       " 953: 'married',\n",
       " 954: ('other', 'than'),\n",
       " 955: 'totally',\n",
       " 956: 'reasons',\n",
       " 957: 'cinematography',\n",
       " 958: 'british',\n",
       " 959: 'longer',\n",
       " 960: 'double',\n",
       " 961: 'sci',\n",
       " 962: 'fi',\n",
       " 963: ('sci', 'fi'),\n",
       " 964: 'max',\n",
       " 965: 'terrible',\n",
       " 966: 'government',\n",
       " 967: 'highly',\n",
       " 968: 'thin',\n",
       " 969: 'typical',\n",
       " 970: ('but', 'still'),\n",
       " 971: 'political',\n",
       " 972: 'climax',\n",
       " 973: ('science', 'fiction'),\n",
       " 974: 'setting',\n",
       " 975: 'suddenly',\n",
       " 976: 'fairly',\n",
       " 977: 'hear',\n",
       " 978: 'convincing',\n",
       " 979: 'street',\n",
       " 980: 'fire',\n",
       " 981: 'army',\n",
       " 982: 'ask',\n",
       " 983: 'brief',\n",
       " 984: 'actual',\n",
       " 985: 'expected',\n",
       " 986: 'hold',\n",
       " 987: 'hate',\n",
       " 988: ('one', 'best'),\n",
       " 989: 'waste',\n",
       " 990: 'modern',\n",
       " 991: 'central',\n",
       " 992: 'approach',\n",
       " 993: 'recently',\n",
       " 994: 'pay',\n",
       " 995: 'private',\n",
       " 996: 'rating',\n",
       " 997: 'minor',\n",
       " 998: 'atmosphere',\n",
       " 999: 'intelligence',\n",
       " ...}"
      ]
     },
     "execution_count": 16,
     "metadata": {},
     "output_type": "execute_result"
    }
   ],
   "source": [
    "reference_dict = dict(enumerate(vocab))\n",
    "reference_dict"
   ]
  },
  {
   "cell_type": "markdown",
   "metadata": {},
   "source": [
    "Now you should be able to extract n-grams for each text in the training, development and test sets:"
   ]
  },
  {
   "cell_type": "code",
   "execution_count": 17,
   "metadata": {
    "ExecuteTime": {
     "end_time": "2020-03-20T23:38:52.956700Z",
     "start_time": "2020-03-20T23:38:49.124804Z"
    },
    "run_control": {
     "marked": true
    }
   },
   "outputs": [],
   "source": [
    "X_tr_ngram = [extract_ngrams(line,ngram_range=(1,3),stop_words=stop_words) for line in X_tr_raw]\n",
    "X_te_ngram = [extract_ngrams(line,ngram_range=(1,3),stop_words=stop_words) for line in X_te_raw]\n",
    "X_dev_ngram = [extract_ngrams(line,ngram_range=(1,3),stop_words=stop_words) for line in X_dev_raw]"
   ]
  },
  {
   "cell_type": "markdown",
   "metadata": {},
   "source": [
    "## Vectorise documents "
   ]
  },
  {
   "cell_type": "markdown",
   "metadata": {},
   "source": [
    "Next, write a function `vectoriser` to obtain Bag-of-ngram representations for a list of documents. The function should take as input:\n",
    "- `X_ngram`: a list of texts (documents), where each text is represented as list of n-grams in the `vocab`\n",
    "- `vocab`: a set of n-grams to be used for representing the documents\n",
    "\n",
    "and return:\n",
    "- `X_vec`: an array with dimensionality Nx|vocab| where N is the number of documents and |vocab| is the size of the vocabulary. Each element of the array should represent the frequency of a given n-gram in a document.\n"
   ]
  },
  {
   "cell_type": "code",
   "execution_count": 18,
   "metadata": {
    "ExecuteTime": {
     "end_time": "2020-03-20T23:38:52.976529Z",
     "start_time": "2020-03-20T23:38:52.960905Z"
    },
    "code_folding": [
     0
    ],
    "run_control": {
     "marked": true
    }
   },
   "outputs": [],
   "source": [
    "def vectorise(X_ngram, vocab):\n",
    "    '''1. select the features of vocab from X_ngram.\n",
    "       2. convert X_ngram into matrix\n",
    "\n",
    "    Args:\n",
    "        X_ngram(list of list): a list of texts (documents) features(Bag-of-ngram)\n",
    "        vocab(list): a set of selected features(n-grams)\n",
    "\n",
    "    Returns:\n",
    "        X_vec: an array shapes (#document,#vocab), where document is a single line\n",
    "            in dataset.\n",
    "    '''\n",
    "\n",
    "    X_vec = np.zeros([len(X_ngram),len(vocab)])\n",
    "    for docs_index in range(len(X_ngram)):\n",
    "        temp = Counter(X_ngram[docs_index])\n",
    "        for feature_index in range(len(vocab)):\n",
    "            X_vec[docs_index,feature_index] = temp.get(vocab[feature_index],0)\n",
    "    return X_vec"
   ]
  },
  {
   "cell_type": "markdown",
   "metadata": {},
   "source": [
    "Finally, use `vectorise` to obtain document vectors for each document in the train, development and test set. You should extract both count and tf.idf vectors respectively:"
   ]
  },
  {
   "cell_type": "markdown",
   "metadata": {},
   "source": [
    "#### Count vectors"
   ]
  },
  {
   "cell_type": "code",
   "execution_count": 19,
   "metadata": {
    "ExecuteTime": {
     "end_time": "2020-03-20T23:39:04.707444Z",
     "start_time": "2020-03-20T23:38:52.992606Z"
    },
    "run_control": {
     "marked": true
    }
   },
   "outputs": [],
   "source": [
    "# fill in your code...\n",
    "X_tr_count = vectorise(X_tr_ngram, vocab)\n",
    "X_te_count = vectorise(X_te_ngram, vocab)\n",
    "X_dev_count = vectorise(X_dev_ngram, vocab)"
   ]
  },
  {
   "cell_type": "code",
   "execution_count": 20,
   "metadata": {
    "ExecuteTime": {
     "end_time": "2020-03-20T23:39:04.731328Z",
     "start_time": "2020-03-20T23:39:04.713318Z"
    },
    "run_control": {
     "marked": true
    }
   },
   "outputs": [
    {
     "data": {
      "text/plain": [
       "(1400, 5000)"
      ]
     },
     "execution_count": 20,
     "metadata": {},
     "output_type": "execute_result"
    }
   ],
   "source": [
    "X_tr_count.shape"
   ]
  },
  {
   "cell_type": "code",
   "execution_count": 21,
   "metadata": {
    "ExecuteTime": {
     "end_time": "2020-03-20T23:39:04.766139Z",
     "start_time": "2020-03-20T23:39:04.739489Z"
    },
    "run_control": {
     "marked": true
    }
   },
   "outputs": [
    {
     "data": {
      "text/plain": [
       "array([[20.,  6.,  8.,  0.,  4.,  1.,  1.,  0.,  3.,  1.,  1.,  1.,  0.,\n",
       "         0.,  6.,  1.,  2.,  1.,  2.,  0.,  3.,  4.,  1.,  1.,  0.,  1.,\n",
       "         4.,  2.,  3.,  1.,  3.,  0.,  0.,  1.,  0.,  4.,  0.,  0.,  2.,\n",
       "         1.,  0.,  0.,  0.,  0.,  1.,  0.,  3.,  2.,  1.,  0.],\n",
       "       [ 6.,  2.,  5.,  0.,  2.,  4.,  2.,  3.,  3.,  2.,  2.,  3.,  4.,\n",
       "         0.,  0.,  2.,  0.,  2.,  2.,  5.,  0.,  0.,  1.,  3.,  2.,  1.,\n",
       "         2.,  2.,  1.,  1.,  5.,  1.,  1.,  1.,  0.,  0.,  1.,  0.,  0.,\n",
       "         1.,  0.,  1.,  2.,  1.,  0.,  2.,  3.,  0.,  1.,  0.]])"
      ]
     },
     "execution_count": 21,
     "metadata": {},
     "output_type": "execute_result"
    }
   ],
   "source": [
    "X_tr_count[:2,:50]"
   ]
  },
  {
   "cell_type": "markdown",
   "metadata": {},
   "source": [
    "#### TF.IDF vectors\n",
    "\n",
    "First compute `idfs` an array containing inverted document frequencies (Note: its elements should correspond to your `vocab`)"
   ]
  },
  {
   "cell_type": "code",
   "execution_count": 22,
   "metadata": {
    "ExecuteTime": {
     "end_time": "2020-03-20T23:39:04.801789Z",
     "start_time": "2020-03-20T23:39:04.785947Z"
    },
    "run_control": {
     "marked": true
    }
   },
   "outputs": [],
   "source": [
    "def get_idfs(vocab,D):\n",
    "    idfs = np.zeros(len(vocab))\n",
    "    for i in range(len(vocab)):\n",
    "        idfs[i] = df[vocab[i]]\n",
    "    idfs = np.log10(D/idfs)\n",
    "    #idfs = np.log(D/idfs)\n",
    "    return idfs"
   ]
  },
  {
   "cell_type": "code",
   "execution_count": 23,
   "metadata": {
    "ExecuteTime": {
     "end_time": "2020-03-20T23:39:04.837472Z",
     "start_time": "2020-03-20T23:39:04.813444Z"
    },
    "run_control": {
     "marked": true
    }
   },
   "outputs": [
    {
     "data": {
      "text/plain": [
       "array([0.05586998, 0.02097221, 0.05026158, ..., 1.84509804, 1.82390874,\n",
       "       1.86737443])"
      ]
     },
     "execution_count": 23,
     "metadata": {},
     "output_type": "execute_result"
    }
   ],
   "source": [
    "idfs = get_idfs(vocab,len(X_tr_raw))\n",
    "idfs"
   ]
  },
  {
   "cell_type": "markdown",
   "metadata": {},
   "source": [
    "Then transform your count vectors to tf.idf vectors:"
   ]
  },
  {
   "cell_type": "code",
   "execution_count": 24,
   "metadata": {
    "ExecuteTime": {
     "end_time": "2020-03-20T23:39:04.920767Z",
     "start_time": "2020-03-20T23:39:04.843161Z"
    },
    "run_control": {
     "marked": true
    }
   },
   "outputs": [],
   "source": [
    "X_tr_tfidf = X_tr_count*idfs\n",
    "X_te_tfidf = X_te_count*idfs\n",
    "X_dev_tfidf = X_dev_count*idfs"
   ]
  },
  {
   "cell_type": "code",
   "execution_count": 25,
   "metadata": {
    "ExecuteTime": {
     "end_time": "2020-03-20T23:39:04.953215Z",
     "start_time": "2020-03-20T23:39:04.932392Z"
    },
    "run_control": {
     "marked": true
    }
   },
   "outputs": [
    {
     "data": {
      "text/plain": [
       "array([0.3352199 , 0.04194441, 0.25130791, 0.        , 0.15588435,\n",
       "       0.39229945, 0.2531927 , 0.38353118, 0.37854406, 0.22540856,\n",
       "       0.28361332, 0.38728409, 0.55011146, 0.        , 0.        ,\n",
       "       0.32320144, 0.        , 0.34692489, 0.36468042, 1.24525516,\n",
       "       0.        , 0.        , 0.21927133, 0.55839959, 0.40923321,\n",
       "       0.22967409, 0.43239695, 0.52266534, 0.25626631, 0.24195367,\n",
       "       1.37569611, 0.26818108, 0.26076682, 0.2699102 , 0.        ,\n",
       "       0.        , 0.25794854, 0.        , 0.        , 0.30664999,\n",
       "       0.        , 0.34472433, 0.59341724, 0.29609478, 0.        ,\n",
       "       0.67313664, 0.94469503, 0.        , 0.32395996, 0.        ])"
      ]
     },
     "execution_count": 25,
     "metadata": {},
     "output_type": "execute_result"
    }
   ],
   "source": [
    "X_tr_tfidf[1,:50]"
   ]
  },
  {
   "cell_type": "markdown",
   "metadata": {},
   "source": [
    "# Binary Logistic Regression\n",
    "\n",
    "After obtaining vector representations of the data, now you are ready to implement Binary Logistic Regression for classifying sentiment."
   ]
  },
  {
   "cell_type": "markdown",
   "metadata": {},
   "source": [
    "First, you need to implement the `sigmoid` function. It takes as input:\n",
    "\n",
    "- `z`: a real number or an array of real numbers \n",
    "\n",
    "and returns:\n",
    "\n",
    "- `sig`: the sigmoid of `z`"
   ]
  },
  {
   "cell_type": "code",
   "execution_count": 26,
   "metadata": {
    "ExecuteTime": {
     "end_time": "2020-03-20T23:39:04.984708Z",
     "start_time": "2020-03-20T23:39:04.962474Z"
    },
    "run_control": {
     "marked": true
    }
   },
   "outputs": [],
   "source": [
    "def sigmoid(z):\n",
    "    \n",
    "    # fill in your code...\n",
    "    z = 1 / (1 + np.exp(np.minimum(-z,709.782)))\n",
    "    \n",
    "    return z"
   ]
  },
  {
   "cell_type": "code",
   "execution_count": 27,
   "metadata": {
    "ExecuteTime": {
     "end_time": "2020-03-20T23:39:05.014411Z",
     "start_time": "2020-03-20T23:39:04.992498Z"
    },
    "run_control": {
     "marked": true
    }
   },
   "outputs": [
    {
     "name": "stdout",
     "output_type": "stream",
     "text": [
      "0.5\n",
      "[0.00669285 0.76852478]\n"
     ]
    }
   ],
   "source": [
    "print(sigmoid(0)) \n",
    "print(sigmoid(np.array([-5., 1.2])))"
   ]
  },
  {
   "cell_type": "markdown",
   "metadata": {},
   "source": [
    "Then, implement the `predict_proba` function to obtain prediction probabilities. It takes as input:\n",
    "\n",
    "- `X`: an array of inputs, i.e. documents represented by bag-of-ngram vectors ($N \\times |vocab|$)\n",
    "- `weights`: a 1-D array of the model's weights $(1, |vocab|)$\n",
    "\n",
    "and returns:\n",
    "\n",
    "- `preds_proba`: the prediction probabilities of X given the weights"
   ]
  },
  {
   "cell_type": "code",
   "execution_count": 28,
   "metadata": {
    "ExecuteTime": {
     "end_time": "2020-03-20T23:39:05.034098Z",
     "start_time": "2020-03-20T23:39:05.022887Z"
    },
    "run_control": {
     "marked": true
    }
   },
   "outputs": [],
   "source": [
    "def predict_proba(X, weights):\n",
    "    \n",
    "    # fill in your code...\n",
    "    preds_proba = X.dot(weights.T)\n",
    "    \n",
    "    assert preds_proba.shape == (X.shape[0],1)\n",
    "    return sigmoid(preds_proba)"
   ]
  },
  {
   "cell_type": "markdown",
   "metadata": {},
   "source": [
    "Then, implement the `predict_class` function to obtain the most probable class for each vector in an array of input vectors. It takes as input:\n",
    "\n",
    "- `X`: an array of documents represented by bag-of-ngram vectors ($N \\times |vocab|$)\n",
    "- `weights`: a 1-D array of the model's weights $(1, |vocab|)$\n",
    "\n",
    "and returns:\n",
    "\n",
    "- `preds_class`: the predicted class for each x in X given the weights"
   ]
  },
  {
   "cell_type": "code",
   "execution_count": 29,
   "metadata": {
    "ExecuteTime": {
     "end_time": "2020-03-20T23:39:05.070652Z",
     "start_time": "2020-03-20T23:39:05.054291Z"
    },
    "run_control": {
     "marked": true
    }
   },
   "outputs": [],
   "source": [
    "def predict_class(X, weights):\n",
    "    \n",
    "    # fill in your code...\n",
    "    preds_proba = predict_proba(X, weights)\n",
    "    preds_class = np.where(preds_proba>=0.5,1,0)\n",
    "    \n",
    "    assert preds_class.shape == (X.shape[0],1)\n",
    "    return preds_class"
   ]
  },
  {
   "cell_type": "markdown",
   "metadata": {},
   "source": [
    "To learn the weights from data, we need to minimise the binary cross-entropy loss. Implement `binary_loss` that takes as input:\n",
    "\n",
    "- `X`: input vectors\n",
    "- `Y`: labels\n",
    "- `weights`: model weights\n",
    "- `alpha`: regularisation strength\n",
    "\n",
    "and return:\n",
    "\n",
    "- `l`: the loss score"
   ]
  },
  {
   "cell_type": "code",
   "execution_count": 30,
   "metadata": {
    "ExecuteTime": {
     "end_time": "2020-03-20T23:39:05.131687Z",
     "start_time": "2020-03-20T23:39:05.084229Z"
    },
    "run_control": {
     "marked": true
    }
   },
   "outputs": [],
   "source": [
    "def binary_loss(X, Y, weights, alpha=0.00001):\n",
    "    \n",
    "    # fill in your code...\n",
    "    eps = np.finfo(np.float64).eps\n",
    "    preds_proba = predict_proba(X, weights)\n",
    "    l = -1*(Y*np.log(preds_proba+eps) + (1-Y)*np.log(1-preds_proba+eps)) + alpha*np.multiply(weights, weights)\n",
    "    l = np.mean(l)\n",
    "    assert l.shape == (1,1) or type(l) == np.float64\n",
    "    return l#.item()"
   ]
  },
  {
   "cell_type": "code",
   "execution_count": 31,
   "metadata": {
    "ExecuteTime": {
     "end_time": "2020-03-20T23:39:05.156643Z",
     "start_time": "2020-03-20T23:39:05.141566Z"
    },
    "run_control": {
     "marked": true
    }
   },
   "outputs": [],
   "source": [
    "def gradient(X, y, weights, alpha=0.00001):\n",
    "    m = len(X)\n",
    "    h = predict_proba(X, weights)\n",
    "    dw = np.dot((h - y).T,X) + 2*alpha*weights\n",
    "    assert dw.shape == weights.shape\n",
    "    return dw/m"
   ]
  },
  {
   "cell_type": "markdown",
   "metadata": {},
   "source": [
    "Now, you can implement Stochastic Gradient Descent to learn the weights of your sentiment classifier. The `SGD` function takes as input:\n",
    "\n",
    "- `X_tr`: array of training data (vectors)\n",
    "- `Y_tr`: labels of `X_tr`\n",
    "- `X_dev`: array of development (i.e. validation) data (vectors)\n",
    "- `Y_dev`: labels of `X_dev`\n",
    "- `lr`: learning rate\n",
    "- `alpha`: regularisation strength\n",
    "- `epochs`: number of full passes over the training data\n",
    "- `tolerance`: stop training if the difference between the current and previous validation loss is smaller than a threshold\n",
    "- `print_progress`: flag for printing the training progress (train/validation loss)\n",
    "\n",
    "\n",
    "and returns:\n",
    "\n",
    "- `weights`: the weights learned\n",
    "- `training_loss_history`: an array with the average losses of the whole training set after each epoch\n",
    "- `validation_loss_history`: an array with the average losses of the whole development set after each epoch"
   ]
  },
  {
   "cell_type": "code",
   "execution_count": 32,
   "metadata": {
    "ExecuteTime": {
     "end_time": "2020-03-20T23:39:05.202421Z",
     "start_time": "2020-03-20T23:39:05.167768Z"
    },
    "run_control": {
     "marked": true
    }
   },
   "outputs": [],
   "source": [
    "def SGD(X_tr, Y_tr, X_dev=[], Y_dev=[], loss=\"binary\", lr=0.1, alpha=0.00001, epochs=5, tolerance=0.0001, print_progress=True):\n",
    "    \n",
    "    cur_loss_tr = 1.\n",
    "    cur_loss_dev = 1.\n",
    "    training_loss_history = []\n",
    "    validation_loss_history = []\n",
    "    \n",
    "    # fill in your code...\n",
    "    \n",
    "    # Stage 1: Init weights\n",
    "    #weights = np.random.rand(1,X_tr.shape[1])\n",
    "    weights = np.zeros((1,X_tr.shape[1]))\n",
    "    \n",
    "    # Stage 2: Init stochastic value\n",
    "    idx_list = np.array(range(X_tr.shape[0]))\n",
    "    \n",
    "    # Stage 3: Training\n",
    "    for epoch in range(epochs):\n",
    "        loss_tr = 0\n",
    "        np.random.shuffle(idx_list) # disorder dataset\n",
    "        for i in idx_list:\n",
    "            X_tr_i, Y_tr_i = X_tr[i].reshape(1,-1),Y_tr[i].reshape(1,-1) # get a single data pair\n",
    "            dw = gradient(X_tr_i, Y_tr_i, weights, alpha=0.00001) # gradient\n",
    "            weights -= lr*dw # update\n",
    "            loss_tr += binary_loss(X_tr_i, Y_tr_i, weights, alpha) # add loss\n",
    "        \n",
    "        loss_dev = binary_loss(X_dev_count, Y_dev, weights, alpha)\n",
    "        loss_tr /= len(idx_list)\n",
    "        # Add history\n",
    "        if epoch != 0:\n",
    "            training_loss_history.append(loss_tr)\n",
    "            validation_loss_history.append(loss_dev)\n",
    "        if print_progress == True: \n",
    "            print(\"Epoch: %d| Training loss: %f| Validation loss: %f\"%(epoch,loss_tr,loss_dev))\n",
    "        if epoch >1 and (validation_loss_history[-2]-validation_loss_history[-1]) <= tolerance:\n",
    "            break\n",
    "\n",
    "    return weights, training_loss_history, validation_loss_history"
   ]
  },
  {
   "cell_type": "markdown",
   "metadata": {},
   "source": [
    "## Train and Evaluate Logistic Regression with Count vectors\n",
    "\n",
    "First train the model using SGD:"
   ]
  },
  {
   "cell_type": "code",
   "execution_count": 33,
   "metadata": {
    "ExecuteTime": {
     "end_time": "2020-03-20T23:39:38.140876Z",
     "start_time": "2020-03-20T23:39:05.210601Z"
    },
    "run_control": {
     "marked": true
    },
    "scrolled": true
   },
   "outputs": [
    {
     "name": "stdout",
     "output_type": "stream",
     "text": [
      "Epoch: 0| Training loss: 0.647481| Validation loss: 0.645617\n",
      "Epoch: 1| Training loss: 0.596317| Validation loss: 0.615235\n",
      "Epoch: 2| Training loss: 0.558449| Validation loss: 0.591136\n",
      "Epoch: 3| Training loss: 0.529314| Validation loss: 0.573161\n",
      "Epoch: 4| Training loss: 0.504013| Validation loss: 0.558668\n",
      "Epoch: 5| Training loss: 0.484747| Validation loss: 0.546929\n",
      "Epoch: 6| Training loss: 0.466581| Validation loss: 0.535233\n",
      "Epoch: 7| Training loss: 0.451016| Validation loss: 0.527671\n",
      "Epoch: 8| Training loss: 0.437302| Validation loss: 0.517705\n",
      "Epoch: 9| Training loss: 0.424444| Validation loss: 0.511145\n",
      "Epoch: 10| Training loss: 0.412677| Validation loss: 0.506243\n",
      "Epoch: 11| Training loss: 0.402548| Validation loss: 0.497909\n",
      "Epoch: 12| Training loss: 0.392776| Validation loss: 0.492174\n",
      "Epoch: 13| Training loss: 0.383561| Validation loss: 0.487693\n",
      "Epoch: 14| Training loss: 0.375044| Validation loss: 0.482096\n",
      "Epoch: 15| Training loss: 0.367154| Validation loss: 0.477879\n",
      "Epoch: 16| Training loss: 0.359281| Validation loss: 0.473862\n",
      "Epoch: 17| Training loss: 0.353003| Validation loss: 0.470283\n",
      "Epoch: 18| Training loss: 0.346436| Validation loss: 0.465987\n",
      "Epoch: 19| Training loss: 0.340209| Validation loss: 0.462874\n",
      "Epoch: 20| Training loss: 0.334284| Validation loss: 0.459601\n",
      "Epoch: 21| Training loss: 0.328634| Validation loss: 0.456856\n",
      "Epoch: 22| Training loss: 0.323118| Validation loss: 0.454146\n",
      "Epoch: 23| Training loss: 0.318026| Validation loss: 0.451016\n",
      "Epoch: 24| Training loss: 0.312674| Validation loss: 0.450296\n",
      "Epoch: 25| Training loss: 0.308494| Validation loss: 0.446179\n",
      "Epoch: 26| Training loss: 0.303604| Validation loss: 0.443928\n",
      "Epoch: 27| Training loss: 0.299425| Validation loss: 0.441737\n",
      "Epoch: 28| Training loss: 0.295194| Validation loss: 0.439569\n",
      "Epoch: 29| Training loss: 0.290503| Validation loss: 0.439210\n",
      "Epoch: 30| Training loss: 0.287264| Validation loss: 0.435747\n",
      "Epoch: 31| Training loss: 0.283382| Validation loss: 0.433939\n",
      "Epoch: 32| Training loss: 0.279527| Validation loss: 0.433188\n",
      "Epoch: 33| Training loss: 0.276133| Validation loss: 0.430679\n",
      "Epoch: 34| Training loss: 0.272720| Validation loss: 0.429141\n",
      "Epoch: 35| Training loss: 0.269420| Validation loss: 0.427586\n",
      "Epoch: 36| Training loss: 0.266214| Validation loss: 0.426098\n",
      "Epoch: 37| Training loss: 0.262985| Validation loss: 0.424736\n",
      "Epoch: 38| Training loss: 0.260010| Validation loss: 0.423446\n",
      "Epoch: 39| Training loss: 0.256987| Validation loss: 0.422133\n",
      "Epoch: 40| Training loss: 0.254177| Validation loss: 0.420881\n",
      "Epoch: 41| Training loss: 0.251313| Validation loss: 0.419672\n",
      "Epoch: 42| Training loss: 0.248625| Validation loss: 0.418550\n",
      "Epoch: 43| Training loss: 0.245954| Validation loss: 0.417476\n",
      "Epoch: 44| Training loss: 0.243264| Validation loss: 0.416399\n",
      "Epoch: 45| Training loss: 0.240877| Validation loss: 0.415367\n",
      "Epoch: 46| Training loss: 0.238314| Validation loss: 0.414559\n",
      "Epoch: 47| Training loss: 0.235957| Validation loss: 0.413605\n",
      "Epoch: 48| Training loss: 0.233580| Validation loss: 0.412639\n",
      "Epoch: 49| Training loss: 0.231317| Validation loss: 0.411803\n",
      "Epoch: 50| Training loss: 0.229102| Validation loss: 0.410848\n",
      "Epoch: 51| Training loss: 0.226919| Validation loss: 0.410068\n",
      "Epoch: 52| Training loss: 0.224740| Validation loss: 0.409228\n",
      "Epoch: 53| Training loss: 0.222616| Validation loss: 0.408403\n",
      "Epoch: 54| Training loss: 0.220567| Validation loss: 0.407830\n",
      "Epoch: 55| Training loss: 0.218529| Validation loss: 0.407219\n",
      "Epoch: 56| Training loss: 0.216735| Validation loss: 0.406248\n",
      "Epoch: 57| Training loss: 0.214748| Validation loss: 0.405565\n",
      "Epoch: 58| Training loss: 0.212892| Validation loss: 0.404887\n",
      "Epoch: 59| Training loss: 0.211005| Validation loss: 0.404230\n",
      "Epoch: 60| Training loss: 0.209169| Validation loss: 0.403677\n",
      "Epoch: 61| Training loss: 0.207373| Validation loss: 0.403053\n",
      "Epoch: 62| Training loss: 0.205589| Validation loss: 0.402488\n",
      "Epoch: 63| Training loss: 0.203926| Validation loss: 0.401968\n",
      "Epoch: 64| Training loss: 0.202142| Validation loss: 0.401494\n",
      "Epoch: 65| Training loss: 0.200557| Validation loss: 0.400948\n",
      "Epoch: 66| Training loss: 0.198986| Validation loss: 0.400362\n",
      "Epoch: 67| Training loss: 0.197355| Validation loss: 0.399857\n",
      "Epoch: 68| Training loss: 0.195886| Validation loss: 0.399275\n",
      "Epoch: 69| Training loss: 0.194343| Validation loss: 0.398790\n",
      "Epoch: 70| Training loss: 0.192731| Validation loss: 0.398505\n",
      "Epoch: 71| Training loss: 0.191191| Validation loss: 0.398196\n",
      "Epoch: 72| Training loss: 0.189974| Validation loss: 0.397449\n",
      "Epoch: 73| Training loss: 0.188404| Validation loss: 0.397110\n",
      "Epoch: 74| Training loss: 0.186985| Validation loss: 0.396645\n",
      "Epoch: 75| Training loss: 0.185669| Validation loss: 0.396177\n",
      "Epoch: 76| Training loss: 0.184313| Validation loss: 0.395796\n",
      "Epoch: 77| Training loss: 0.182922| Validation loss: 0.395456\n",
      "Epoch: 78| Training loss: 0.181655| Validation loss: 0.395057\n",
      "Epoch: 79| Training loss: 0.180362| Validation loss: 0.394685\n",
      "Epoch: 80| Training loss: 0.179073| Validation loss: 0.394333\n",
      "Epoch: 81| Training loss: 0.177825| Validation loss: 0.393991\n",
      "Epoch: 82| Training loss: 0.176514| Validation loss: 0.393782\n",
      "Epoch: 83| Training loss: 0.175319| Validation loss: 0.393367\n",
      "Epoch: 84| Training loss: 0.173989| Validation loss: 0.393420\n"
     ]
    }
   ],
   "source": [
    "w_count, loss_tr_count, dev_loss_count = SGD(X_tr_count, Y_tr, \n",
    "                                             X_dev=X_dev_count, \n",
    "                                             Y_dev=Y_dev, \n",
    "                                             lr=0.0001, \n",
    "                                             alpha=0.001, \n",
    "                                             epochs=100)"
   ]
  },
  {
   "cell_type": "markdown",
   "metadata": {},
   "source": [
    "Now plot the training and validation history per epoch. Does your model underfit, overfit or is it about right? Explain why."
   ]
  },
  {
   "cell_type": "code",
   "execution_count": 34,
   "metadata": {
    "ExecuteTime": {
     "end_time": "2020-03-20T23:39:38.586427Z",
     "start_time": "2020-03-20T23:39:38.148728Z"
    },
    "cell_style": "center",
    "run_control": {
     "marked": true
    }
   },
   "outputs": [
    {
     "data": {
      "image/png": "[encoded data removed]",
      "text/plain": [
       "<Figure size 432x288 with 1 Axes>"
      ]
     },
     "metadata": {
      "needs_background": "light"
     },
     "output_type": "display_data"
    }
   ],
   "source": [
    "%matplotlib inline\n",
    "fig = plt.figure()\n",
    "plt.plot(range(len(loss_tr_count)),loss_tr_count,label='training loss')\n",
    "plt.plot(range(len(dev_loss_count)),dev_loss_count,label='validation loss')\n",
    "\n",
    "plt.xlabel('Epochs')\n",
    "plt.ylabel('Loss')\n",
    "plt.title('Training Monitoring')\n",
    "\n",
    "plt.legend()\n",
    "plt.show()"
   ]
  },
  {
   "cell_type": "markdown",
   "metadata": {
    "ExecuteTime": {
     "end_time": "2020-01-21T16:52:26.583150Z",
     "start_time": "2020-01-21T16:52:26.578754Z"
    }
   },
   "source": [
    "Explain here...\n",
    "\n",
    "**Conclusion:** No overfitting or underfitting. \n",
    "\n",
    "* **Discuss Overfitting:** epochs have not been completed, and learning stopped about 93 epochs, because it stopped before the loss of validation had increased. \n",
    "\n",
    "* **Discuss Underfitting:** Before stopping learning, the loss of validation continues to decrease, and stop learning when the difference in loss reduction of validation is below a threshold."
   ]
  },
  {
   "cell_type": "markdown",
   "metadata": {},
   "source": [
    "Compute accuracy, precision, recall and F1-scores:"
   ]
  },
  {
   "cell_type": "code",
   "execution_count": 35,
   "metadata": {
    "ExecuteTime": {
     "end_time": "2020-03-20T23:39:38.639581Z",
     "start_time": "2020-03-20T23:39:38.590913Z"
    },
    "code_folding": [],
    "run_control": {
     "marked": true
    }
   },
   "outputs": [
    {
     "name": "stdout",
     "output_type": "stream",
     "text": [
      "Accuracy: 0.8325\n",
      "Precision: 0.824390243902439\n",
      "Recall: 0.845\n",
      "F1-Score: 0.8345679012345678\n"
     ]
    }
   ],
   "source": [
    "# fill in your code...\n",
    "preds_te_count = predict_class(X_te_count,w_count)\n",
    "\n",
    "print('Accuracy:', accuracy_score(Y_te,preds_te_count))\n",
    "print('Precision:', precision_score(Y_te,preds_te_count))\n",
    "print('Recall:', recall_score(Y_te,preds_te_count))\n",
    "print('F1-Score:', f1_score(Y_te,preds_te_count))"
   ]
  },
  {
   "cell_type": "markdown",
   "metadata": {},
   "source": [
    "Finally, print the top-10 words for the negative and positive class respectively."
   ]
  },
  {
   "cell_type": "code",
   "execution_count": 36,
   "metadata": {
    "ExecuteTime": {
     "end_time": "2020-03-20T23:39:38.679630Z",
     "start_time": "2020-03-20T23:39:38.650914Z"
    },
    "run_control": {
     "marked": true
    }
   },
   "outputs": [
    {
     "name": "stdout",
     "output_type": "stream",
     "text": [
      "['bad', 'only', 'unfortunately', 'worst', 'script', 'boring', 'why', 'plot', 'any', 'nothing']\n"
     ]
    }
   ],
   "source": [
    "# fill in your code...\n",
    "sorted_index = w_count.copy().flatten().argsort()\n",
    "top_neg_ngram = [vocab[i] for i in sorted_index[:10]]\n",
    "print(top_neg_ngram)"
   ]
  },
  {
   "cell_type": "code",
   "execution_count": 37,
   "metadata": {
    "ExecuteTime": {
     "end_time": "2020-03-20T23:39:38.768621Z",
     "start_time": "2020-03-20T23:39:38.746132Z"
    },
    "run_control": {
     "marked": true
    }
   },
   "outputs": [
    {
     "name": "stdout",
     "output_type": "stream",
     "text": [
      "['great', 'well', 'seen', 'fun', 'also', 'many', 'life', 'both', 'world', 'movies']\n"
     ]
    }
   ],
   "source": [
    "# fill in your code...\n",
    "top_pos_ngram = [vocab[i] for i in sorted_index[-10:][::-1]]\n",
    "print(top_pos_ngram)"
   ]
  },
  {
   "cell_type": "markdown",
   "metadata": {},
   "source": [
    "If we were to apply the classifier we've learned into a different domain such laptop reviews or restaurant reviews, do you think these features would generalise well? Can you propose what features the classifier could pick up as important in the new domain?"
   ]
  },
  {
   "cell_type": "markdown",
   "metadata": {},
   "source": [
    "Provide your answer here...\n",
    "\n",
    "**Conclusion:** No, it can't. \n",
    "* **Data distribution:** Although the model can be used in other domain, the learned parameters are not. The data in the training set should be independent and identically distributed. However, after switching domains, the data may never appear in the training set, which means that the data set in this field is distributed in the training set as 0. This can lead to poor performance.\n",
    "* **Vocabulary Corpus:** New words appearing in different domain can also lead to poor performance.\n",
    "\n",
    "According to the existing training models and parameters, the classifier can only extract as important features the same as the training set. Extracting new features can be obtained by retraining the classifier"
   ]
  },
  {
   "cell_type": "markdown",
   "metadata": {},
   "source": [
    "## Train and Evaluate Logistic Regression with TF.IDF vectors\n",
    "\n",
    "Follow the same steps as above (i.e. evaluating count n-gram representations).\n"
   ]
  },
  {
   "cell_type": "code",
   "execution_count": 38,
   "metadata": {
    "ExecuteTime": {
     "end_time": "2020-03-20T23:39:52.656205Z",
     "start_time": "2020-03-20T23:39:38.779546Z"
    },
    "run_control": {
     "marked": true
    },
    "scrolled": true
   },
   "outputs": [
    {
     "name": "stdout",
     "output_type": "stream",
     "text": [
      "Epoch: 0| Training loss: 0.653664| Validation loss: 0.663014\n",
      "Epoch: 1| Training loss: 0.608053| Validation loss: 0.639506\n",
      "Epoch: 2| Training loss: 0.571193| Validation loss: 0.622503\n",
      "Epoch: 3| Training loss: 0.540441| Validation loss: 0.607126\n",
      "Epoch: 4| Training loss: 0.514027| Validation loss: 0.592978\n",
      "Epoch: 5| Training loss: 0.491010| Validation loss: 0.581289\n",
      "Epoch: 6| Training loss: 0.470818| Validation loss: 0.572097\n",
      "Epoch: 7| Training loss: 0.452749| Validation loss: 0.563722\n",
      "Epoch: 8| Training loss: 0.436475| Validation loss: 0.555545\n",
      "Epoch: 9| Training loss: 0.421744| Validation loss: 0.549074\n",
      "Epoch: 10| Training loss: 0.408265| Validation loss: 0.542273\n",
      "Epoch: 11| Training loss: 0.395859| Validation loss: 0.535572\n",
      "Epoch: 12| Training loss: 0.384413| Validation loss: 0.529593\n",
      "Epoch: 13| Training loss: 0.373771| Validation loss: 0.525911\n",
      "Epoch: 14| Training loss: 0.363873| Validation loss: 0.521620\n",
      "Epoch: 15| Training loss: 0.354584| Validation loss: 0.515904\n",
      "Epoch: 16| Training loss: 0.345892| Validation loss: 0.512349\n",
      "Epoch: 17| Training loss: 0.337683| Validation loss: 0.507807\n",
      "Epoch: 18| Training loss: 0.329966| Validation loss: 0.505296\n",
      "Epoch: 19| Training loss: 0.322644| Validation loss: 0.502609\n",
      "Epoch: 20| Training loss: 0.315688| Validation loss: 0.497921\n",
      "Epoch: 21| Training loss: 0.309133| Validation loss: 0.495081\n",
      "Epoch: 22| Training loss: 0.302855| Validation loss: 0.493048\n",
      "Epoch: 23| Training loss: 0.296866| Validation loss: 0.490781\n",
      "Epoch: 24| Training loss: 0.291164| Validation loss: 0.487727\n",
      "Epoch: 25| Training loss: 0.285701| Validation loss: 0.484888\n",
      "Epoch: 26| Training loss: 0.280468| Validation loss: 0.483241\n",
      "Epoch: 27| Training loss: 0.275429| Validation loss: 0.479714\n",
      "Epoch: 28| Training loss: 0.270634| Validation loss: 0.477193\n",
      "Epoch: 29| Training loss: 0.266018| Validation loss: 0.476205\n",
      "Epoch: 30| Training loss: 0.261561| Validation loss: 0.474016\n",
      "Epoch: 31| Training loss: 0.257278| Validation loss: 0.472092\n",
      "Epoch: 32| Training loss: 0.253147| Validation loss: 0.470929\n",
      "Epoch: 33| Training loss: 0.249162| Validation loss: 0.469428\n",
      "Epoch: 34| Training loss: 0.245273| Validation loss: 0.466212\n",
      "Epoch: 35| Training loss: 0.241594| Validation loss: 0.465756\n",
      "Epoch: 36| Training loss: 0.237997| Validation loss: 0.464040\n",
      "Epoch: 37| Training loss: 0.234517| Validation loss: 0.462645\n",
      "Epoch: 38| Training loss: 0.231149| Validation loss: 0.461728\n",
      "Epoch: 39| Training loss: 0.227879| Validation loss: 0.460648\n",
      "Epoch: 40| Training loss: 0.224718| Validation loss: 0.458881\n",
      "Epoch: 41| Training loss: 0.221647| Validation loss: 0.457751\n",
      "Epoch: 42| Training loss: 0.218663| Validation loss: 0.457092\n",
      "Epoch: 43| Training loss: 0.215770| Validation loss: 0.455664\n",
      "Epoch: 44| Training loss: 0.212943| Validation loss: 0.453703\n",
      "Epoch: 45| Training loss: 0.210218| Validation loss: 0.453143\n",
      "Epoch: 46| Training loss: 0.207555| Validation loss: 0.452292\n",
      "Epoch: 47| Training loss: 0.204968| Validation loss: 0.451383\n",
      "Epoch: 48| Training loss: 0.202433| Validation loss: 0.449506\n",
      "Epoch: 49| Training loss: 0.199986| Validation loss: 0.448350\n"
     ]
    }
   ],
   "source": [
    "w_tfidf, trl, devl = SGD(X_tr_tfidf, Y_tr, \n",
    "                         X_dev=X_dev_tfidf, \n",
    "                         Y_dev=Y_dev, \n",
    "                         lr=0.0001, \n",
    "                         alpha=0.0001, \n",
    "                         epochs=50)"
   ]
  },
  {
   "cell_type": "markdown",
   "metadata": {},
   "source": [
    "Now plot the training and validation history per epoch. Does your model underfit, overfit or is it about right? Explain why."
   ]
  },
  {
   "cell_type": "code",
   "execution_count": 39,
   "metadata": {
    "ExecuteTime": {
     "end_time": "2020-03-20T23:39:53.020336Z",
     "start_time": "2020-03-20T23:39:52.665101Z"
    },
    "cell_style": "center",
    "run_control": {
     "marked": true
    }
   },
   "outputs": [
    {
     "data": {
      "image/png": "[encoded data removed]",
      "text/plain": [
       "<Figure size 432x288 with 1 Axes>"
      ]
     },
     "metadata": {
      "needs_background": "light"
     },
     "output_type": "display_data"
    }
   ],
   "source": [
    "%matplotlib inline\n",
    "fig = plt.figure()\n",
    "plt.plot(range(len(trl)),trl,label='training loss')\n",
    "plt.plot(range(len(devl)),devl,label='validation loss')\n",
    "\n",
    "plt.xlabel('Epochs')\n",
    "plt.ylabel('Loss')\n",
    "plt.title('Training Monitoring')\n",
    "\n",
    "plt.legend()\n",
    "plt.show()"
   ]
  },
  {
   "cell_type": "markdown",
   "metadata": {},
   "source": [
    "Compute accuracy, precision, recall and F1-scores:"
   ]
  },
  {
   "cell_type": "code",
   "execution_count": 40,
   "metadata": {
    "ExecuteTime": {
     "end_time": "2020-03-20T23:39:53.059778Z",
     "start_time": "2020-03-20T23:39:53.029197Z"
    },
    "run_control": {
     "marked": true
    }
   },
   "outputs": [
    {
     "name": "stdout",
     "output_type": "stream",
     "text": [
      "Accuracy: 0.8525\n",
      "Precision: 0.8472906403940886\n",
      "Recall: 0.86\n",
      "F1-Score: 0.8535980148883374\n"
     ]
    }
   ],
   "source": [
    "# fill in your code...\n",
    "preds_te = predict_class(X_te_tfidf,w_tfidf)\n",
    "\n",
    "print('Accuracy:', accuracy_score(Y_te,preds_te))\n",
    "print('Precision:', precision_score(Y_te,preds_te))\n",
    "print('Recall:', recall_score(Y_te,preds_te))\n",
    "print('F1-Score:', f1_score(Y_te,preds_te))"
   ]
  },
  {
   "cell_type": "markdown",
   "metadata": {},
   "source": [
    "Print top-10 most positive and negative words:"
   ]
  },
  {
   "cell_type": "code",
   "execution_count": 41,
   "metadata": {
    "ExecuteTime": {
     "end_time": "2020-03-20T23:39:53.103448Z",
     "start_time": "2020-03-20T23:39:53.065716Z"
    },
    "run_control": {
     "marked": true
    }
   },
   "outputs": [
    {
     "name": "stdout",
     "output_type": "stream",
     "text": [
      "['bad', 'worst', 'boring', 'supposed', 'why', 'unfortunately', 'stupid', 'harry', 'ridiculous', 'nothing']\n"
     ]
    }
   ],
   "source": [
    "# fill in your code...\n",
    "sorted_index = w_tfidf.copy().flatten().argsort()\n",
    "top_neg_ngram = [vocab[i] for i in sorted_index[:10]]\n",
    "print(top_neg_ngram)"
   ]
  },
  {
   "cell_type": "code",
   "execution_count": 42,
   "metadata": {
    "ExecuteTime": {
     "end_time": "2020-03-20T23:39:53.141805Z",
     "start_time": "2020-03-20T23:39:53.109540Z"
    },
    "run_control": {
     "marked": true
    }
   },
   "outputs": [
    {
     "name": "stdout",
     "output_type": "stream",
     "text": [
      "['great', 'truman', 'life', 'perfectly', 'hilarious', 'terrific', 'perfect', 'excellent', 'memorable', 'world']\n"
     ]
    }
   ],
   "source": [
    "# fill in your code...\n",
    "top_pos_ngram = [vocab[i] for i in sorted_index[-10:][::-1]]\n",
    "print(top_pos_ngram)"
   ]
  },
  {
   "cell_type": "markdown",
   "metadata": {},
   "source": [
    "### Discuss how did you choose model hyperparameters (e.g. learning rate and regularisation strength)? What is the relation between training epochs and learning rate? How the regularisation strength affects performance?"
   ]
  },
  {
   "cell_type": "markdown",
   "metadata": {},
   "source": [
    "Enter your answer here...\n",
    "\n",
    "**Hyperparameters:** Use grid search to find the optimal hyperparameters. This method is simple but time-consuming. Ideally, cross-validation should be used to screen the optimal hyperparameters, but because the training and validation sets have been divided, cross-validation is not very convenient.(Code of grid search is given below)\n",
    "\n",
    "**Relationship:** In simple terms, the smaller the learning rate, the more epochs are needed. But there are some special cases. **Epoch:** If there are too few epochs, there may be insufficient training, resulting in underfitting. If there are too many epochs, the loss may have already converged, and the extra epochs are too wasteful of time.\n",
    "**Learning rate:** Too large a learning rate will not only cause data overflow, but also cause the loss function to fail to converge. Too small a learning rate will consume training time. At the same time, the convex optimization problem should also be considered, otherwise, the loss function may fall into a local minimum.\n",
    "\n",
    "**Regularisation Strength:** Regularization prevents the classifier from overfitting by limiting the number of parameters. The regularization intensity refers to the size of the penalty. The higher the regularization intensity, the more limited the number of parameters. However, when the regularization intensity is too high, the loss function may not converge."
   ]
  },
  {
   "cell_type": "code",
   "execution_count": 43,
   "metadata": {
    "ExecuteTime": {
     "end_time": "2020-03-20T23:40:30.817698Z",
     "start_time": "2020-03-20T23:39:53.147410Z"
    },
    "scrolled": true
   },
   "outputs": [
    {
     "name": "stdout",
     "output_type": "stream",
     "text": [
      "lr: 0.000100, alpha: 0.000100 ---> score:0.830000\n",
      "lr: 0.000100, alpha: 0.000500 ---> score:0.825000\n",
      "lr: 0.000500, alpha: 0.000100 ---> score:0.820000\n",
      "lr: 0.000500, alpha: 0.000500 ---> score:0.830000\n",
      "lr: 0.001000, alpha: 0.000100 ---> score:0.830000\n",
      "lr: 0.001000, alpha: 0.000500 ---> score:0.820000\n",
      "=================Best Hyperparameters=================\n",
      "lr: 0.0001,\talpha: 0.0001,\tscore: 0.83\n"
     ]
    }
   ],
   "source": [
    "def get_F1(lr,alpha):\n",
    "    w_tfidf, trl, devl = SGD(X_tr_tfidf, Y_tr, \n",
    "                         X_dev=X_dev_tfidf, \n",
    "                         Y_dev=Y_dev, \n",
    "                         lr=lr, \n",
    "                         alpha=alpha, \n",
    "                         epochs=100,\n",
    "                         print_progress=False)\n",
    "    preds_dev = predict_class(X_dev_tfidf,w_tfidf)\n",
    "    return accuracy_score(Y_dev,preds_dev)\n",
    "\n",
    "lrs = [0.0001,0.0005,0.001]\n",
    "alphas = [0.0001,0.0005]\n",
    "\n",
    "import itertools\n",
    "record = list()\n",
    "for lr,alpha in itertools.product(lrs,alphas):\n",
    "    score = get_F1(lr, alpha)\n",
    "    print(\"lr: %f, alpha: %f ---> score:%f\"%(lr,alpha,score))\n",
    "    record.append([lr,alpha,score])\n",
    "best = sorted(record,key=lambda l:l[-1],reverse=-1)[0]\n",
    "print(\"=================Best Hyperparameters=================\")\n",
    "print(\"lr: {},\\talpha: {},\\tscore: {}\".format(*best))"
   ]
  },
  {
   "cell_type": "markdown",
   "metadata": {},
   "source": [
    "\n",
    "\n",
    "## Full Results\n",
    "\n",
    "Add here your results:\n",
    "\n",
    "| LR | Precision  | Recall  | F1-Score  |\n",
    "|:-:|:-:|:-:|:-:|\n",
    "| BOW-count  |0.822   |0.855   |0.838   |\n",
    "| BOW-tfidf  |0.847   |0.860   |0.853   |\n"
   ]
  },
  {
   "cell_type": "markdown",
   "metadata": {},
   "source": [
    "# Multi-class Logistic Regression \n",
    "\n",
    "Now you need to train a Multiclass Logistic Regression (MLR) Classifier by extending the Binary model you developed above. You will use the MLR model to perform topic classification on the AG news dataset consisting of three classes:"
   ]
  },
  {
   "cell_type": "markdown",
   "metadata": {},
   "source": [
    "- Class 1: World\n",
    "- Class 2: Sports\n",
    "- Class 3: Business"
   ]
  },
  {
   "cell_type": "markdown",
   "metadata": {},
   "source": [
    "You need to follow the same process as in Task 1 for data processing and feature extraction by reusing the functions you wrote."
   ]
  },
  {
   "cell_type": "code",
   "execution_count": 44,
   "metadata": {
    "ExecuteTime": {
     "end_time": "2020-03-20T23:40:30.912856Z",
     "start_time": "2020-03-20T23:40:30.822511Z"
    },
    "run_control": {
     "marked": false
    }
   },
   "outputs": [
    {
     "name": "stdout",
     "output_type": "stream",
     "text": [
      "Finish loading:\n",
      "\ttrain.csv\n",
      "\ttest.csv\n",
      "\tdev.csv\n"
     ]
    }
   ],
   "source": [
    "# fill in your code...\n",
    "Data = FileLoader('data_topic',names=['label','text'])\n",
    "\n",
    "data_tr = Data.train\n",
    "data_te = Data.test\n",
    "data_dev = Data.dev"
   ]
  },
  {
   "cell_type": "code",
   "execution_count": 45,
   "metadata": {
    "ExecuteTime": {
     "end_time": "2020-03-20T23:40:30.963283Z",
     "start_time": "2020-03-20T23:40:30.929808Z"
    },
    "cell_style": "center",
    "run_control": {
     "marked": false
    }
   },
   "outputs": [
    {
     "data": {
      "text/html": [
       "<div>\n",
       "<style scoped>\n",
       "    .dataframe tbody tr th:only-of-type {\n",
       "        vertical-align: middle;\n",
       "    }\n",
       "\n",
       "    .dataframe tbody tr th {\n",
       "        vertical-align: top;\n",
       "    }\n",
       "\n",
       "    .dataframe thead th {\n",
       "        text-align: right;\n",
       "    }\n",
       "</style>\n",
       "<table border=\"1\" class=\"dataframe\">\n",
       "  <thead>\n",
       "    <tr style=\"text-align: right;\">\n",
       "      <th></th>\n",
       "      <th>label</th>\n",
       "      <th>text</th>\n",
       "    </tr>\n",
       "  </thead>\n",
       "  <tbody>\n",
       "    <tr>\n",
       "      <th>0</th>\n",
       "      <td>1</td>\n",
       "      <td>Reuters - Venezuelans turned out early\\and in ...</td>\n",
       "    </tr>\n",
       "    <tr>\n",
       "      <th>1</th>\n",
       "      <td>1</td>\n",
       "      <td>Reuters - South Korean police used water canno...</td>\n",
       "    </tr>\n",
       "    <tr>\n",
       "      <th>2</th>\n",
       "      <td>1</td>\n",
       "      <td>Reuters - Thousands of Palestinian\\prisoners i...</td>\n",
       "    </tr>\n",
       "    <tr>\n",
       "      <th>3</th>\n",
       "      <td>1</td>\n",
       "      <td>AFP - Sporadic gunfire and shelling took place...</td>\n",
       "    </tr>\n",
       "    <tr>\n",
       "      <th>4</th>\n",
       "      <td>1</td>\n",
       "      <td>AP - Dozens of Rwandan soldiers flew into Suda...</td>\n",
       "    </tr>\n",
       "  </tbody>\n",
       "</table>\n",
       "</div>"
      ],
      "text/plain": [
       "   label                                               text\n",
       "0      1  Reuters - Venezuelans turned out early\\and in ...\n",
       "1      1  Reuters - South Korean police used water canno...\n",
       "2      1  Reuters - Thousands of Palestinian\\prisoners i...\n",
       "3      1  AFP - Sporadic gunfire and shelling took place...\n",
       "4      1  AP - Dozens of Rwandan soldiers flew into Suda..."
      ]
     },
     "execution_count": 45,
     "metadata": {},
     "output_type": "execute_result"
    }
   ],
   "source": [
    "data_tr.head()"
   ]
  },
  {
   "cell_type": "code",
   "execution_count": 46,
   "metadata": {
    "ExecuteTime": {
     "end_time": "2020-03-20T23:40:31.000707Z",
     "start_time": "2020-03-20T23:40:30.978659Z"
    },
    "run_control": {
     "marked": false
    }
   },
   "outputs": [],
   "source": [
    "# fill in your code...\n",
    "X_tr_raw, Y_tr = transform(data_tr)\n",
    "X_te_raw, Y_te = transform(data_te)\n",
    "X_dev_raw, Y_dev = transform(data_dev)"
   ]
  },
  {
   "cell_type": "code",
   "execution_count": 47,
   "metadata": {
    "ExecuteTime": {
     "end_time": "2020-03-20T23:40:31.035189Z",
     "start_time": "2020-03-20T23:40:31.008784Z"
    },
    "cell_style": "split",
    "run_control": {
     "marked": false
    }
   },
   "outputs": [
    {
     "data": {
      "text/plain": [
       "['Reuters - Venezuelans turned out early\\\\and in large numbers on Sunday to vote in a historic referendum\\\\that will either remove left-wing President Hugo Chavez from\\\\office or give him a new mandate to govern for the next two\\\\years.']"
      ]
     },
     "execution_count": 47,
     "metadata": {},
     "output_type": "execute_result"
    }
   ],
   "source": [
    "X_tr_raw[:1]"
   ]
  },
  {
   "cell_type": "code",
   "execution_count": 48,
   "metadata": {
    "ExecuteTime": {
     "end_time": "2020-03-20T23:40:31.061343Z",
     "start_time": "2020-03-20T23:40:31.040110Z"
    },
    "cell_style": "split",
    "run_control": {
     "marked": false
    }
   },
   "outputs": [
    {
     "data": {
      "text/plain": [
       "array([[1],\n",
       "       [1],\n",
       "       [1],\n",
       "       ...,\n",
       "       [3],\n",
       "       [3],\n",
       "       [3]])"
      ]
     },
     "execution_count": 48,
     "metadata": {},
     "output_type": "execute_result"
    }
   ],
   "source": [
    "Y_tr"
   ]
  },
  {
   "cell_type": "code",
   "execution_count": 49,
   "metadata": {
    "ExecuteTime": {
     "end_time": "2020-03-20T23:40:31.782287Z",
     "start_time": "2020-03-20T23:40:31.075270Z"
    },
    "run_control": {
     "marked": false
    }
   },
   "outputs": [
    {
     "name": "stdout",
     "output_type": "stream",
     "text": [
      "5000\n",
      "\n",
      "['reuters', 'said', 'tuesday', 'new', 'wednesday', 'after', 'athens', 'ap', 'monday', 'first', 'their', 'us', 'olympic', 'york', ('new', 'york'), 'two', 'over', 'but', 'oil', 'inc', 'more', 'prices', 'year', 'company', 'world', 'gt', 'lt', 'than', 'aug', 'about', 'had', 'one', 'united', 'out', 'sunday', 'against', 'up', 'quot', 'into', 'fullquote', 'second', 'last', 'stocks', 'team', 'president', 'gold', 'percent', 'iraq', 'three', 'when', 'greece', 'night', ('york', 'reuters'), ('new', 'york', 'reuters'), 'time', 'not', 'no', 'games', 'yesterday', 'home', 'olympics', 'washington', 'states', 'off', ('united', 'states'), 'google', ('oil', 'prices'), 'day', 'public', 'billion', 'record', ('athens', 'reuters'), 'week', 'win', 'all', 'men', 'government', 'won', ('said', 'tuesday'), 'najaf', 'american', 'years', 'officials', 'today', 'city', 'would', 'shares', 'offering', 'people', 'final', 'medal', 'minister', 'afp', 'corp', 'sales', 'million', 'back', 'four', 'investor', 'com']\n",
      "\n",
      "[('reuters', 631), ('said', 432), ('tuesday', 413), ('wednesday', 344), ('new', 325), ('after', 295), ('ap', 275), ('athens', 245), ('monday', 221), ('first', 210)]\n"
     ]
    }
   ],
   "source": [
    "vocab, df, ngram_counts = get_vocab(X_tr_raw, ngram_range=(1,3), keep_topN=5000, stop_words=stop_words)\n",
    "print(len(vocab))\n",
    "print()\n",
    "print(list(vocab)[:100])\n",
    "print()\n",
    "print(df.most_common()[:10])"
   ]
  },
  {
   "cell_type": "code",
   "execution_count": 50,
   "metadata": {
    "ExecuteTime": {
     "end_time": "2020-03-20T23:40:42.980272Z",
     "start_time": "2020-03-20T23:40:31.786996Z"
    },
    "run_control": {
     "marked": false
    }
   },
   "outputs": [],
   "source": [
    "# fill in your code...\n",
    "X_tr_ngram = [extract_ngrams(line,ngram_range=(1,3),stop_words=stop_words) for line in X_tr_raw]\n",
    "X_te_ngram = [extract_ngrams(line,ngram_range=(1,3),stop_words=stop_words) for line in X_te_raw]\n",
    "X_dev_ngram = [extract_ngrams(line,ngram_range=(1,3),stop_words=stop_words) for line in X_dev_raw]\n",
    "\n",
    "X_tr_count = vectorise(X_tr_ngram, vocab)\n",
    "X_te_count = vectorise(X_te_ngram, vocab)\n",
    "X_dev_count = vectorise(X_dev_ngram, vocab)"
   ]
  },
  {
   "cell_type": "markdown",
   "metadata": {},
   "source": [
    "Now you need to change `SGD` to support multiclass datasets. First you need to develop a `softmax` function. It takes as input:\n",
    "\n",
    "- `z`: array of real numbers \n",
    "\n",
    "and returns:\n",
    "\n",
    "- `smax`: the softmax of `z`"
   ]
  },
  {
   "cell_type": "code",
   "execution_count": 51,
   "metadata": {
    "ExecuteTime": {
     "end_time": "2020-03-20T23:40:42.999640Z",
     "start_time": "2020-03-20T23:40:42.984007Z"
    },
    "run_control": {
     "marked": false
    }
   },
   "outputs": [],
   "source": [
    "def softmax(z):\n",
    "    \n",
    "    # fill in your code...\n",
    "    z = z.copy()\n",
    "    #z -= np.max(z)\n",
    "    smax = np.exp(z) / np.sum(np.exp(z),axis=1,keepdims=True)\n",
    "    \n",
    "    return smax"
   ]
  },
  {
   "cell_type": "markdown",
   "metadata": {},
   "source": [
    "Then modify `predict_proba` and `predict_class` functions for the multiclass case:"
   ]
  },
  {
   "cell_type": "code",
   "execution_count": 52,
   "metadata": {
    "ExecuteTime": {
     "end_time": "2020-03-20T23:40:43.029102Z",
     "start_time": "2020-03-20T23:40:43.003540Z"
    },
    "run_control": {
     "marked": false
    }
   },
   "outputs": [],
   "source": [
    "def predict_proba(X, weights):\n",
    "    \n",
    "    # fill in your code...\n",
    "    preds_proba = X.dot(weights.T)\n",
    "    \n",
    "    assert preds_proba.shape == (X.shape[0],weights.shape[0])\n",
    "    return softmax(preds_proba)"
   ]
  },
  {
   "cell_type": "code",
   "execution_count": 53,
   "metadata": {
    "ExecuteTime": {
     "end_time": "2020-03-20T23:40:43.056556Z",
     "start_time": "2020-03-20T23:40:43.034946Z"
    },
    "run_control": {
     "marked": false
    }
   },
   "outputs": [],
   "source": [
    "def predict_class(X, weights):\n",
    "    \n",
    "    # fill in your code...\n",
    "    preds_class = np.argmax(predict_proba(X, weights),axis=1)+1\n",
    "    \n",
    "    assert preds_class.shape == (X.shape[0],)\n",
    "    return preds_class"
   ]
  },
  {
   "cell_type": "markdown",
   "metadata": {},
   "source": [
    "Toy example and expected functionality of the functions above:"
   ]
  },
  {
   "cell_type": "code",
   "execution_count": 54,
   "metadata": {
    "ExecuteTime": {
     "end_time": "2020-03-20T23:40:43.078388Z",
     "start_time": "2020-03-20T23:40:43.065089Z"
    },
    "run_control": {
     "marked": false
    }
   },
   "outputs": [],
   "source": [
    "X = np.array([[0.1,0.2],[0.2,0.1],[0.1,-0.2]])\n",
    "w = np.array([[2,-5],[-5,2]])"
   ]
  },
  {
   "cell_type": "code",
   "execution_count": 55,
   "metadata": {
    "ExecuteTime": {
     "end_time": "2020-03-20T23:40:43.107490Z",
     "start_time": "2020-03-20T23:40:43.085169Z"
    },
    "run_control": {
     "marked": false
    }
   },
   "outputs": [
    {
     "data": {
      "text/plain": [
       "array([[0.33181223, 0.66818777],\n",
       "       [0.66818777, 0.33181223],\n",
       "       [0.89090318, 0.10909682]])"
      ]
     },
     "execution_count": 55,
     "metadata": {},
     "output_type": "execute_result"
    }
   ],
   "source": [
    "predict_proba(X, w)"
   ]
  },
  {
   "cell_type": "code",
   "execution_count": 56,
   "metadata": {
    "ExecuteTime": {
     "end_time": "2020-03-20T23:40:43.141582Z",
     "start_time": "2020-03-20T23:40:43.118907Z"
    },
    "run_control": {
     "marked": false
    }
   },
   "outputs": [
    {
     "data": {
      "text/plain": [
       "array([2, 1, 1])"
      ]
     },
     "execution_count": 56,
     "metadata": {},
     "output_type": "execute_result"
    }
   ],
   "source": [
    "predict_class(X, w)"
   ]
  },
  {
   "cell_type": "markdown",
   "metadata": {},
   "source": [
    "Now you need to compute the categorical cross entropy loss (extending the binary loss to support multiple classes)."
   ]
  },
  {
   "cell_type": "code",
   "execution_count": 57,
   "metadata": {
    "ExecuteTime": {
     "end_time": "2020-03-20T23:40:43.171628Z",
     "start_time": "2020-03-20T23:40:43.149201Z"
    },
    "run_control": {
     "marked": false
    }
   },
   "outputs": [],
   "source": [
    "def categorical_loss(X, Y, weights, num_classes=5, alpha=0.00001):\n",
    "    assert Y.shape[0] == X.shape[0]\n",
    "    eps = np.finfo(np.float64).eps\n",
    "    preds_proba = predict_proba(X, weights)\n",
    "    Y = np.eye(weights.shape[0],weights.shape[0])[Y-1].reshape(X.shape[0],weights.shape[0])\n",
    "    l1 = -np.sum(Y*np.log(preds_proba+eps),1) \n",
    "    l2 = alpha*np.sum(np.multiply(weights,weights))\n",
    "    l=np.mean(l1)+l2/X.shape[0]\n",
    "\n",
    "    return l"
   ]
  },
  {
   "cell_type": "code",
   "execution_count": 58,
   "metadata": {
    "ExecuteTime": {
     "end_time": "2020-03-20T23:40:43.195179Z",
     "start_time": "2020-03-20T23:40:43.179029Z"
    },
    "run_control": {
     "marked": false
    }
   },
   "outputs": [],
   "source": [
    "def gradient(X, Y, weights, alpha=0.00001):\n",
    "    #m = len(X)\n",
    "    Y_c = Y.copy()\n",
    "    Y = np.eye(weights.shape[0],weights.shape[0])[Y-1].reshape(X.shape[0],weights.shape[0])\n",
    "    h = predict_proba(X, weights)\n",
    "    #raise\n",
    "    dw = -np.dot(np.sum(Y-Y*h,axis=1),X) + 2*alpha*weights[(Y_c-1).item()]\n",
    "    return dw#/m"
   ]
  },
  {
   "cell_type": "markdown",
   "metadata": {
    "ExecuteTime": {
     "end_time": "2020-02-15T14:08:59.937442Z",
     "start_time": "2020-02-15T14:08:59.932221Z"
    }
   },
   "source": [
    "Finally you need to modify SGD to support the categorical cross entropy loss:"
   ]
  },
  {
   "cell_type": "code",
   "execution_count": 59,
   "metadata": {
    "ExecuteTime": {
     "end_time": "2020-03-20T23:40:43.239331Z",
     "start_time": "2020-03-20T23:40:43.204672Z"
    },
    "run_control": {
     "marked": false
    }
   },
   "outputs": [],
   "source": [
    "def SGD(X_tr, Y_tr, X_dev=[], Y_dev=[], num_classes=5, lr=0.01, alpha=0.00001, epochs=5, tolerance=0.001, print_progress=True):\n",
    "    \n",
    "    cur_loss_tr = 1.\n",
    "    cur_loss_dev = 1.\n",
    "    training_loss_history = []\n",
    "    validation_loss_history = []\n",
    "    \n",
    "    # fill in your code...\n",
    "    # Stage 1: Init weights\n",
    "    weights = np.zeros((num_classes,X_tr.shape[1]))\n",
    "    \n",
    "    # Stage 2: Init stochastic value\n",
    "    idx_list = np.array(range(X_tr.shape[0]))\n",
    "    \n",
    "    # Stage 3: Training\n",
    "    for epoch in range(epochs):\n",
    "        np.random.shuffle(idx_list) # disorder dataset\n",
    "        for i in idx_list:\n",
    "            X_tr_i, Y_tr_i = X_tr[i].reshape(1,-1),Y_tr[i].reshape(1,-1) # get a single data pair\n",
    "            dw = gradient(X_tr_i, Y_tr_i, weights, alpha) # gradient\n",
    "            weights[(Y_tr_i-1).item()] -= lr*dw # update       \n",
    "        loss_dev = categorical_loss(X_dev_count, Y_dev, weights, alpha)\n",
    "        loss_tr = categorical_loss(X_tr_count, Y_tr, weights, alpha)\n",
    "\n",
    "        # Add history\n",
    "        if epoch != 0:\n",
    "            training_loss_history.append(loss_tr)\n",
    "            validation_loss_history.append(loss_dev)\n",
    "        if print_progress == True: \n",
    "            print(\"Epoch: %d| Training loss: %f| Validation loss: %f\"%(epoch,loss_tr,loss_dev))\n",
    "        if epoch >1 and abs(validation_loss_history[-2]-validation_loss_history[-1]) <= tolerance:\n",
    "            break\n",
    "\n",
    "    return weights, training_loss_history, validation_loss_history"
   ]
  },
  {
   "cell_type": "markdown",
   "metadata": {
    "ExecuteTime": {
     "end_time": "2020-02-15T14:10:15.772383Z",
     "start_time": "2020-02-15T14:10:15.767855Z"
    }
   },
   "source": [
    "Now you are ready to train and evaluate you MLR following the same steps as in Task 1 for both Count and tfidf features:"
   ]
  },
  {
   "cell_type": "code",
   "execution_count": 60,
   "metadata": {
    "ExecuteTime": {
     "end_time": "2020-03-20T23:41:54.315325Z",
     "start_time": "2020-03-20T23:40:43.244815Z"
    },
    "run_control": {
     "marked": false
    }
   },
   "outputs": [
    {
     "name": "stdout",
     "output_type": "stream",
     "text": [
      "Epoch: 0| Training loss: 1.078241| Validation loss: 1.088258\n",
      "Epoch: 1| Training loss: 1.059461| Validation loss: 1.078389\n",
      "Epoch: 2| Training loss: 1.042067| Validation loss: 1.068953\n",
      "Epoch: 3| Training loss: 1.025873| Validation loss: 1.059905\n",
      "Epoch: 4| Training loss: 1.010689| Validation loss: 1.051192\n",
      "Epoch: 5| Training loss: 0.996384| Validation loss: 1.042785\n",
      "Epoch: 6| Training loss: 0.982836| Validation loss: 1.034648\n",
      "Epoch: 7| Training loss: 0.969951| Validation loss: 1.026755\n",
      "Epoch: 8| Training loss: 0.957657| Validation loss: 1.019088\n",
      "Epoch: 9| Training loss: 0.945893| Validation loss: 1.011627\n",
      "Epoch: 10| Training loss: 0.934609| Validation loss: 1.004358\n",
      "Epoch: 11| Training loss: 0.923767| Validation loss: 0.997269\n",
      "Epoch: 12| Training loss: 0.913330| Validation loss: 0.990351\n",
      "Epoch: 13| Training loss: 0.903270| Validation loss: 0.983593\n",
      "Epoch: 14| Training loss: 0.893560| Validation loss: 0.976989\n",
      "Epoch: 15| Training loss: 0.884180| Validation loss: 0.970530\n",
      "Epoch: 16| Training loss: 0.875107| Validation loss: 0.964212\n",
      "Epoch: 17| Training loss: 0.866326| Validation loss: 0.958029\n",
      "Epoch: 18| Training loss: 0.857819| Validation loss: 0.951975\n",
      "Epoch: 19| Training loss: 0.849572| Validation loss: 0.946045\n",
      "Epoch: 20| Training loss: 0.841574| Validation loss: 0.940236\n",
      "Epoch: 21| Training loss: 0.833809| Validation loss: 0.934544\n",
      "Epoch: 22| Training loss: 0.826268| Validation loss: 0.928964\n",
      "Epoch: 23| Training loss: 0.818939| Validation loss: 0.923493\n",
      "Epoch: 24| Training loss: 0.811812| Validation loss: 0.918127\n",
      "Epoch: 25| Training loss: 0.804879| Validation loss: 0.912864\n",
      "Epoch: 26| Training loss: 0.798131| Validation loss: 0.907701\n",
      "Epoch: 27| Training loss: 0.791562| Validation loss: 0.902634\n",
      "Epoch: 28| Training loss: 0.785162| Validation loss: 0.897662\n",
      "Epoch: 29| Training loss: 0.778926| Validation loss: 0.892781\n",
      "Epoch: 30| Training loss: 0.772845| Validation loss: 0.887988\n",
      "Epoch: 31| Training loss: 0.766915| Validation loss: 0.883283\n",
      "Epoch: 32| Training loss: 0.761129| Validation loss: 0.878661\n",
      "Epoch: 33| Training loss: 0.755482| Validation loss: 0.874122\n",
      "Epoch: 34| Training loss: 0.749968| Validation loss: 0.869662\n",
      "Epoch: 35| Training loss: 0.744582| Validation loss: 0.865280\n",
      "Epoch: 36| Training loss: 0.739319| Validation loss: 0.860974\n",
      "Epoch: 37| Training loss: 0.734175| Validation loss: 0.856741\n",
      "Epoch: 38| Training loss: 0.729146| Validation loss: 0.852580\n",
      "Epoch: 39| Training loss: 0.724228| Validation loss: 0.848491\n",
      "Epoch: 40| Training loss: 0.719416| Validation loss: 0.844469\n",
      "Epoch: 41| Training loss: 0.714707| Validation loss: 0.840514\n",
      "Epoch: 42| Training loss: 0.710098| Validation loss: 0.836624\n",
      "Epoch: 43| Training loss: 0.705584| Validation loss: 0.832798\n",
      "Epoch: 44| Training loss: 0.701163| Validation loss: 0.829033\n",
      "Epoch: 45| Training loss: 0.696833| Validation loss: 0.825329\n",
      "Epoch: 46| Training loss: 0.692588| Validation loss: 0.821685\n",
      "Epoch: 47| Training loss: 0.688428| Validation loss: 0.818097\n",
      "Epoch: 48| Training loss: 0.684350| Validation loss: 0.814567\n",
      "Epoch: 49| Training loss: 0.680349| Validation loss: 0.811091\n",
      "Epoch: 50| Training loss: 0.676426| Validation loss: 0.807669\n",
      "Epoch: 51| Training loss: 0.672576| Validation loss: 0.804300\n",
      "Epoch: 52| Training loss: 0.668798| Validation loss: 0.800981\n",
      "Epoch: 53| Training loss: 0.665088| Validation loss: 0.797713\n",
      "Epoch: 54| Training loss: 0.661447| Validation loss: 0.794494\n",
      "Epoch: 55| Training loss: 0.657872| Validation loss: 0.791323\n",
      "Epoch: 56| Training loss: 0.654359| Validation loss: 0.788199\n",
      "Epoch: 57| Training loss: 0.650908| Validation loss: 0.785120\n",
      "Epoch: 58| Training loss: 0.647518| Validation loss: 0.782086\n",
      "Epoch: 59| Training loss: 0.644185| Validation loss: 0.779096\n",
      "Epoch: 60| Training loss: 0.640909| Validation loss: 0.776149\n",
      "Epoch: 61| Training loss: 0.637688| Validation loss: 0.773244\n",
      "Epoch: 62| Training loss: 0.634520| Validation loss: 0.770379\n",
      "Epoch: 63| Training loss: 0.631405| Validation loss: 0.767555\n",
      "Epoch: 64| Training loss: 0.628340| Validation loss: 0.764771\n",
      "Epoch: 65| Training loss: 0.625324| Validation loss: 0.762024\n",
      "Epoch: 66| Training loss: 0.622356| Validation loss: 0.759316\n",
      "Epoch: 67| Training loss: 0.619436| Validation loss: 0.756644\n",
      "Epoch: 68| Training loss: 0.616560| Validation loss: 0.754008\n",
      "Epoch: 69| Training loss: 0.613729| Validation loss: 0.751408\n",
      "Epoch: 70| Training loss: 0.610941| Validation loss: 0.748842\n",
      "Epoch: 71| Training loss: 0.608195| Validation loss: 0.746310\n",
      "Epoch: 72| Training loss: 0.605490| Validation loss: 0.743811\n",
      "Epoch: 73| Training loss: 0.602825| Validation loss: 0.741345\n",
      "Epoch: 74| Training loss: 0.600199| Validation loss: 0.738911\n",
      "Epoch: 75| Training loss: 0.597611| Validation loss: 0.736508\n",
      "Epoch: 76| Training loss: 0.595060| Validation loss: 0.734136\n",
      "Epoch: 77| Training loss: 0.592546| Validation loss: 0.731793\n",
      "Epoch: 78| Training loss: 0.590067| Validation loss: 0.729480\n",
      "Epoch: 79| Training loss: 0.587622| Validation loss: 0.727196\n",
      "Epoch: 80| Training loss: 0.585212| Validation loss: 0.724941\n",
      "Epoch: 81| Training loss: 0.582834| Validation loss: 0.722713\n",
      "Epoch: 82| Training loss: 0.580489| Validation loss: 0.720512\n",
      "Epoch: 83| Training loss: 0.578175| Validation loss: 0.718338\n",
      "Epoch: 84| Training loss: 0.575891| Validation loss: 0.716190\n",
      "Epoch: 85| Training loss: 0.573638| Validation loss: 0.714068\n",
      "Epoch: 86| Training loss: 0.571415| Validation loss: 0.711971\n",
      "Epoch: 87| Training loss: 0.569220| Validation loss: 0.709899\n",
      "Epoch: 88| Training loss: 0.567054| Validation loss: 0.707851\n",
      "Epoch: 89| Training loss: 0.564914| Validation loss: 0.705827\n",
      "Epoch: 90| Training loss: 0.562802| Validation loss: 0.703826\n",
      "Epoch: 91| Training loss: 0.560716| Validation loss: 0.701849\n",
      "Epoch: 92| Training loss: 0.558657| Validation loss: 0.699894\n",
      "Epoch: 93| Training loss: 0.556622| Validation loss: 0.697961\n",
      "Epoch: 94| Training loss: 0.554613| Validation loss: 0.696050\n",
      "Epoch: 95| Training loss: 0.552627| Validation loss: 0.694161\n",
      "Epoch: 96| Training loss: 0.550665| Validation loss: 0.692292\n",
      "Epoch: 97| Training loss: 0.548727| Validation loss: 0.690444\n",
      "Epoch: 98| Training loss: 0.546811| Validation loss: 0.688617\n",
      "Epoch: 99| Training loss: 0.544918| Validation loss: 0.686809\n",
      "Epoch: 100| Training loss: 0.543047| Validation loss: 0.685022\n",
      "Epoch: 101| Training loss: 0.541197| Validation loss: 0.683253\n",
      "Epoch: 102| Training loss: 0.539369| Validation loss: 0.681503\n",
      "Epoch: 103| Training loss: 0.537561| Validation loss: 0.679772\n",
      "Epoch: 104| Training loss: 0.535773| Validation loss: 0.678059\n",
      "Epoch: 105| Training loss: 0.534005| Validation loss: 0.676365\n",
      "Epoch: 106| Training loss: 0.532257| Validation loss: 0.674687\n",
      "Epoch: 107| Training loss: 0.530528| Validation loss: 0.673028\n",
      "Epoch: 108| Training loss: 0.528818| Validation loss: 0.671385\n",
      "Epoch: 109| Training loss: 0.527126| Validation loss: 0.669759\n",
      "Epoch: 110| Training loss: 0.525452| Validation loss: 0.668150\n",
      "Epoch: 111| Training loss: 0.523796| Validation loss: 0.666557\n",
      "Epoch: 112| Training loss: 0.522157| Validation loss: 0.664981\n",
      "Epoch: 113| Training loss: 0.520536| Validation loss: 0.663420\n",
      "Epoch: 114| Training loss: 0.518931| Validation loss: 0.661874\n",
      "Epoch: 115| Training loss: 0.517343| Validation loss: 0.660344\n",
      "Epoch: 116| Training loss: 0.515772| Validation loss: 0.658829\n",
      "Epoch: 117| Training loss: 0.514216| Validation loss: 0.657329\n",
      "Epoch: 118| Training loss: 0.512676| Validation loss: 0.655843\n",
      "Epoch: 119| Training loss: 0.511151| Validation loss: 0.654372\n",
      "Epoch: 120| Training loss: 0.509642| Validation loss: 0.652915\n",
      "Epoch: 121| Training loss: 0.508147| Validation loss: 0.651471\n",
      "Epoch: 122| Training loss: 0.506667| Validation loss: 0.650042\n",
      "Epoch: 123| Training loss: 0.505201| Validation loss: 0.648626\n",
      "Epoch: 124| Training loss: 0.503750| Validation loss: 0.647223\n",
      "Epoch: 125| Training loss: 0.502312| Validation loss: 0.645834\n",
      "Epoch: 126| Training loss: 0.500889| Validation loss: 0.644457\n",
      "Epoch: 127| Training loss: 0.499478| Validation loss: 0.643093\n",
      "Epoch: 128| Training loss: 0.498081| Validation loss: 0.641742\n",
      "Epoch: 129| Training loss: 0.496697| Validation loss: 0.640403\n",
      "Epoch: 130| Training loss: 0.495326| Validation loss: 0.639076\n",
      "Epoch: 131| Training loss: 0.493968| Validation loss: 0.637761\n"
     ]
    },
    {
     "name": "stdout",
     "output_type": "stream",
     "text": [
      "Epoch: 132| Training loss: 0.492622| Validation loss: 0.636458\n",
      "Epoch: 133| Training loss: 0.491288| Validation loss: 0.635167\n",
      "Epoch: 134| Training loss: 0.489966| Validation loss: 0.633887\n",
      "Epoch: 135| Training loss: 0.488656| Validation loss: 0.632618\n",
      "Epoch: 136| Training loss: 0.487357| Validation loss: 0.631361\n",
      "Epoch: 137| Training loss: 0.486071| Validation loss: 0.630114\n",
      "Epoch: 138| Training loss: 0.484795| Validation loss: 0.628879\n",
      "Epoch: 139| Training loss: 0.483531| Validation loss: 0.627654\n",
      "Epoch: 140| Training loss: 0.482278| Validation loss: 0.626440\n",
      "Epoch: 141| Training loss: 0.481035| Validation loss: 0.625236\n",
      "Epoch: 142| Training loss: 0.479803| Validation loss: 0.624042\n",
      "Epoch: 143| Training loss: 0.478581| Validation loss: 0.622858\n",
      "Epoch: 144| Training loss: 0.477370| Validation loss: 0.621684\n",
      "Epoch: 145| Training loss: 0.476169| Validation loss: 0.620520\n",
      "Epoch: 146| Training loss: 0.474978| Validation loss: 0.619366\n",
      "Epoch: 147| Training loss: 0.473797| Validation loss: 0.618221\n",
      "Epoch: 148| Training loss: 0.472626| Validation loss: 0.617086\n",
      "Epoch: 149| Training loss: 0.471465| Validation loss: 0.615960\n",
      "Epoch: 150| Training loss: 0.470313| Validation loss: 0.614844\n",
      "Epoch: 151| Training loss: 0.469170| Validation loss: 0.613737\n",
      "Epoch: 152| Training loss: 0.468037| Validation loss: 0.612638\n",
      "Epoch: 153| Training loss: 0.466912| Validation loss: 0.611549\n",
      "Epoch: 154| Training loss: 0.465797| Validation loss: 0.610468\n",
      "Epoch: 155| Training loss: 0.464690| Validation loss: 0.609396\n",
      "Epoch: 156| Training loss: 0.463592| Validation loss: 0.608332\n",
      "Epoch: 157| Training loss: 0.462503| Validation loss: 0.607277\n",
      "Epoch: 158| Training loss: 0.461422| Validation loss: 0.606230\n",
      "Epoch: 159| Training loss: 0.460350| Validation loss: 0.605192\n",
      "Epoch: 160| Training loss: 0.459286| Validation loss: 0.604161\n",
      "Epoch: 161| Training loss: 0.458230| Validation loss: 0.603138\n",
      "Epoch: 162| Training loss: 0.457182| Validation loss: 0.602124\n",
      "Epoch: 163| Training loss: 0.456142| Validation loss: 0.601117\n",
      "Epoch: 164| Training loss: 0.455110| Validation loss: 0.600118\n"
     ]
    }
   ],
   "source": [
    "w_count, loss_tr_count, dev_loss_count = SGD(X_tr_count, Y_tr, \n",
    "                                             X_dev=X_dev_count, \n",
    "                                             Y_dev=Y_dev,\n",
    "                                             num_classes=3,\n",
    "                                             lr=0.0001, \n",
    "                                             alpha=0.001, \n",
    "                                             epochs=200)"
   ]
  },
  {
   "cell_type": "markdown",
   "metadata": {},
   "source": [
    "Plot training and validation process and explain if your model overfit, underfit or is about right:"
   ]
  },
  {
   "cell_type": "code",
   "execution_count": 61,
   "metadata": {
    "ExecuteTime": {
     "end_time": "2020-03-20T23:41:54.711834Z",
     "start_time": "2020-03-20T23:41:54.322961Z"
    },
    "run_control": {
     "marked": false
    }
   },
   "outputs": [
    {
     "data": {
      "image/png": "[encoded data removed]",
      "text/plain": [
       "<Figure size 432x288 with 1 Axes>"
      ]
     },
     "metadata": {
      "needs_background": "light"
     },
     "output_type": "display_data"
    }
   ],
   "source": [
    "# fill in your code...\n",
    "%matplotlib inline\n",
    "fig = plt.figure()\n",
    "plt.plot(range(len(loss_tr_count)),loss_tr_count,label='training loss')\n",
    "plt.plot(range(len(dev_loss_count)),dev_loss_count,label='validation loss')\n",
    "\n",
    "plt.xlabel('Epochs')\n",
    "plt.ylabel('Loss')\n",
    "plt.title('Training Monitoring')\n",
    "\n",
    "plt.legend()\n",
    "plt.show()"
   ]
  },
  {
   "cell_type": "markdown",
   "metadata": {},
   "source": [
    "Compute accuracy, precision, recall and F1-scores:"
   ]
  },
  {
   "cell_type": "code",
   "execution_count": 62,
   "metadata": {
    "ExecuteTime": {
     "end_time": "2020-03-20T23:41:54.803713Z",
     "start_time": "2020-03-20T23:41:54.721180Z"
    },
    "run_control": {
     "marked": false
    }
   },
   "outputs": [
    {
     "name": "stdout",
     "output_type": "stream",
     "text": [
      "Accuracy: 0.8366666666666667\n",
      "Precision: 0.840344708396179\n",
      "Recall: 0.8366666666666666\n",
      "F1-Score: 0.8359703962026542\n"
     ]
    }
   ],
   "source": [
    "# fill in your code...\n",
    "preds_te = predict_class(X_te_count,w_count)\n",
    "\n",
    "print('Accuracy:', accuracy_score(Y_te.flatten(),preds_te))\n",
    "print('Precision:', precision_score(Y_te.flatten(),preds_te,average='macro'))\n",
    "print('Recall:', recall_score(Y_te.flatten(),preds_te,average='macro'))\n",
    "print('F1-Score:', f1_score(Y_te.flatten(),preds_te,average='macro'))"
   ]
  },
  {
   "cell_type": "markdown",
   "metadata": {},
   "source": [
    "Print the top-10 words for each class respectively."
   ]
  },
  {
   "cell_type": "code",
   "execution_count": 63,
   "metadata": {
    "ExecuteTime": {
     "end_time": "2020-03-20T23:41:54.840577Z",
     "start_time": "2020-03-20T23:41:54.807036Z"
    },
    "run_control": {
     "marked": false
    }
   },
   "outputs": [
    {
     "name": "stdout",
     "output_type": "stream",
     "text": [
      "['said', 'reuters', 'tuesday', 'ap', 'after', 'monday', 'new', 'wednesday', 'their', 'president']\n",
      "['athens', 'ap', 'reuters', 'olympic', 'tuesday', 'first', 'after', 'team', 'two', 'wednesday']\n",
      "['reuters', 'said', 'new', 'tuesday', 'company', 'oil', 'wednesday', 'prices', 'inc', 'after']\n"
     ]
    }
   ],
   "source": [
    "sorted_index = w_count.copy().argsort()[:,-10:][:,::-1]\n",
    "for class_i in range(len(sorted_index)):\n",
    "    top_neg_ngram = [vocab[i] for i in sorted_index[class_i]]\n",
    "    print(top_neg_ngram)"
   ]
  },
  {
   "cell_type": "markdown",
   "metadata": {},
   "source": [
    "### Discuss how did you choose model hyperparameters (e.g. learning rate and regularisation strength)? What is the relation between training epochs and learning rate? How the regularisation strength affects performance?"
   ]
  },
  {
   "cell_type": "markdown",
   "metadata": {
    "ExecuteTime": {
     "end_time": "2020-02-15T14:16:19.856538Z",
     "start_time": "2020-02-15T14:16:19.852547Z"
    }
   },
   "source": [
    "Explain here..."
   ]
  },
  {
   "cell_type": "code",
   "execution_count": 64,
   "metadata": {
    "ExecuteTime": {
     "end_time": "2020-03-20T23:45:52.263160Z",
     "start_time": "2020-03-20T23:41:54.851974Z"
    }
   },
   "outputs": [
    {
     "name": "stdout",
     "output_type": "stream",
     "text": [
      "lr: 0.000100, alpha: 0.000100 ---> score:0.880000\n",
      "lr: 0.000100, alpha: 0.100000 ---> score:0.860000\n",
      "lr: 0.000100, alpha: 10.000000 ---> score:0.833333\n",
      "lr: 0.000500, alpha: 0.000100 ---> score:0.886667\n",
      "lr: 0.000500, alpha: 0.100000 ---> score:0.873333\n",
      "lr: 0.000500, alpha: 10.000000 ---> score:0.800000\n",
      "lr: 0.001000, alpha: 0.000100 ---> score:0.886667\n",
      "lr: 0.001000, alpha: 0.100000 ---> score:0.880000\n",
      "lr: 0.001000, alpha: 10.000000 ---> score:0.813333\n",
      "=================Best Hyperparameters=================\n",
      "lr: 0.0005,\talpha: 0.0001,\tscore: 0.8866666666666667\n",
      "----------------set dataset evaluation----------------\n",
      "Accuracy: 0.8455555555555555\n",
      "Precision: 0.8503930523024751\n",
      "Recall: 0.8455555555555555\n",
      "F1-Score: 0.8450029165279874\n"
     ]
    }
   ],
   "source": [
    "def get_F1(lr,alpha):\n",
    "    w, trl, devl = SGD(X_tr_count, Y_tr, \n",
    "                         X_dev=X_dev_count, \n",
    "                         Y_dev=Y_dev, \n",
    "                         num_classes=3,\n",
    "                         lr=lr, \n",
    "                         alpha=alpha, \n",
    "                         epochs=200,\n",
    "                         print_progress=False)\n",
    "    preds_dev = predict_class(X_dev_count,w)\n",
    "    return accuracy_score(Y_dev,preds_dev)\n",
    "\n",
    "lrs = [0.0001,0.0005,0.001]\n",
    "alphas = [0.0001,0.1,10]\n",
    "\n",
    "import itertools\n",
    "record = list()\n",
    "for lr,alpha in itertools.product(lrs,alphas):\n",
    "    score = get_F1(lr, alpha)\n",
    "    print(\"lr: %f, alpha: %f ---> score:%f\"%(lr,alpha,score))\n",
    "    record.append([lr,alpha,score])\n",
    "best = sorted(record,key=lambda l:l[-1],reverse=-1)[0]\n",
    "print(\"=================Best Hyperparameters=================\")\n",
    "print(\"lr: {},\\talpha: {},\\tscore: {}\".format(*best))\n",
    "print(\"----------------set dataset evaluation----------------\")\n",
    "lr,alpha=best[:-1]\n",
    "w_count, loss_tr_count, dev_loss_count = SGD(X_tr_count, Y_tr, \n",
    "                                             X_dev=X_dev_count, \n",
    "                                             Y_dev=Y_dev,\n",
    "                                             num_classes=3,\n",
    "                                             lr=lr, \n",
    "                                             alpha=alpha, \n",
    "                                             epochs=200,\n",
    "                                             print_progress=False)\n",
    "\n",
    "preds_te = predict_class(X_te_count,w_count)\n",
    "\n",
    "print('Accuracy:', accuracy_score(Y_te.flatten(),preds_te))\n",
    "print('Precision:', precision_score(Y_te.flatten(),preds_te,average='macro'))\n",
    "print('Recall:', recall_score(Y_te.flatten(),preds_te,average='macro'))\n",
    "print('F1-Score:', f1_score(Y_te.flatten(),preds_te,average='macro'))"
   ]
  },
  {
   "cell_type": "markdown",
   "metadata": {},
   "source": [
    "### Now evaluate BOW-tfidf..."
   ]
  },
  {
   "cell_type": "code",
   "execution_count": 65,
   "metadata": {
    "ExecuteTime": {
     "end_time": "2020-03-20T23:45:52.287230Z",
     "start_time": "2020-03-20T23:45:52.268651Z"
    },
    "run_control": {
     "marked": false
    }
   },
   "outputs": [
    {
     "data": {
      "text/plain": [
       "array([0.58018188, 0.74472749, 0.76426119, ..., 2.77815125, 2.77815125,\n",
       "       2.77815125])"
      ]
     },
     "execution_count": 65,
     "metadata": {},
     "output_type": "execute_result"
    }
   ],
   "source": [
    "idfs = get_idfs(vocab,len(X_tr_raw))\n",
    "idfs"
   ]
  },
  {
   "cell_type": "code",
   "execution_count": 66,
   "metadata": {
    "ExecuteTime": {
     "end_time": "2020-03-20T23:45:52.390979Z",
     "start_time": "2020-03-20T23:45:52.296300Z"
    }
   },
   "outputs": [],
   "source": [
    "X_tr_tfidf = X_tr_count*idfs\n",
    "X_te_tfidf = X_te_count*idfs\n",
    "X_dev_tfidf = X_dev_count*idfs"
   ]
  },
  {
   "cell_type": "code",
   "execution_count": 67,
   "metadata": {
    "ExecuteTime": {
     "end_time": "2020-03-20T23:46:49.664750Z",
     "start_time": "2020-03-20T23:45:52.397513Z"
    },
    "run_control": {
     "marked": false
    }
   },
   "outputs": [
    {
     "name": "stdout",
     "output_type": "stream",
     "text": [
      "Epoch: 0| Training loss: 1.068237| Validation loss: 1.082842\n",
      "Epoch: 1| Training loss: 1.041725| Validation loss: 1.068350\n",
      "Epoch: 2| Training loss: 1.018067| Validation loss: 1.054869\n",
      "Epoch: 3| Training loss: 0.996636| Validation loss: 1.042240\n",
      "Epoch: 4| Training loss: 0.976935| Validation loss: 1.030316\n",
      "Epoch: 5| Training loss: 0.958684| Validation loss: 1.019014\n",
      "Epoch: 6| Training loss: 0.941681| Validation loss: 1.008263\n",
      "Epoch: 7| Training loss: 0.925759| Validation loss: 0.998016\n",
      "Epoch: 8| Training loss: 0.910801| Validation loss: 0.988232\n",
      "Epoch: 9| Training loss: 0.896711| Validation loss: 0.978873\n",
      "Epoch: 10| Training loss: 0.883403| Validation loss: 0.969905\n",
      "Epoch: 11| Training loss: 0.870800| Validation loss: 0.961305\n",
      "Epoch: 12| Training loss: 0.858846| Validation loss: 0.953043\n",
      "Epoch: 13| Training loss: 0.847488| Validation loss: 0.945103\n",
      "Epoch: 14| Training loss: 0.836673| Validation loss: 0.937460\n",
      "Epoch: 15| Training loss: 0.826356| Validation loss: 0.930096\n",
      "Epoch: 16| Training loss: 0.816501| Validation loss: 0.922993\n",
      "Epoch: 17| Training loss: 0.807078| Validation loss: 0.916138\n",
      "Epoch: 18| Training loss: 0.798051| Validation loss: 0.909516\n",
      "Epoch: 19| Training loss: 0.789394| Validation loss: 0.903112\n",
      "Epoch: 20| Training loss: 0.781084| Validation loss: 0.896917\n",
      "Epoch: 21| Training loss: 0.773094| Validation loss: 0.890918\n",
      "Epoch: 22| Training loss: 0.765408| Validation loss: 0.885108\n",
      "Epoch: 23| Training loss: 0.758003| Validation loss: 0.879472\n",
      "Epoch: 24| Training loss: 0.750867| Validation loss: 0.874006\n",
      "Epoch: 25| Training loss: 0.743979| Validation loss: 0.868700\n",
      "Epoch: 26| Training loss: 0.737324| Validation loss: 0.863544\n",
      "Epoch: 27| Training loss: 0.730893| Validation loss: 0.858533\n",
      "Epoch: 28| Training loss: 0.724673| Validation loss: 0.853660\n",
      "Epoch: 29| Training loss: 0.718648| Validation loss: 0.848919\n",
      "Epoch: 30| Training loss: 0.712809| Validation loss: 0.844302\n",
      "Epoch: 31| Training loss: 0.707149| Validation loss: 0.839806\n",
      "Epoch: 32| Training loss: 0.701657| Validation loss: 0.835423\n",
      "Epoch: 33| Training loss: 0.696325| Validation loss: 0.831152\n",
      "Epoch: 34| Training loss: 0.691145| Validation loss: 0.826986\n",
      "Epoch: 35| Training loss: 0.686111| Validation loss: 0.822921\n",
      "Epoch: 36| Training loss: 0.681213| Validation loss: 0.818953\n",
      "Epoch: 37| Training loss: 0.676447| Validation loss: 0.815077\n",
      "Epoch: 38| Training loss: 0.671807| Validation loss: 0.811292\n",
      "Epoch: 39| Training loss: 0.667285| Validation loss: 0.807592\n",
      "Epoch: 40| Training loss: 0.662879| Validation loss: 0.803974\n",
      "Epoch: 41| Training loss: 0.658582| Validation loss: 0.800435\n",
      "Epoch: 42| Training loss: 0.654389| Validation loss: 0.796973\n",
      "Epoch: 43| Training loss: 0.650299| Validation loss: 0.793586\n",
      "Epoch: 44| Training loss: 0.646304| Validation loss: 0.790270\n",
      "Epoch: 45| Training loss: 0.642402| Validation loss: 0.787022\n",
      "Epoch: 46| Training loss: 0.638590| Validation loss: 0.783840\n",
      "Epoch: 47| Training loss: 0.634861| Validation loss: 0.780721\n",
      "Epoch: 48| Training loss: 0.631215| Validation loss: 0.777665\n",
      "Epoch: 49| Training loss: 0.627649| Validation loss: 0.774668\n",
      "Epoch: 50| Training loss: 0.624158| Validation loss: 0.771728\n",
      "Epoch: 51| Training loss: 0.620742| Validation loss: 0.768846\n",
      "Epoch: 52| Training loss: 0.617395| Validation loss: 0.766016\n",
      "Epoch: 53| Training loss: 0.614117| Validation loss: 0.763239\n",
      "Epoch: 54| Training loss: 0.610904| Validation loss: 0.760512\n",
      "Epoch: 55| Training loss: 0.607755| Validation loss: 0.757835\n",
      "Epoch: 56| Training loss: 0.604667| Validation loss: 0.755204\n",
      "Epoch: 57| Training loss: 0.601639| Validation loss: 0.752621\n",
      "Epoch: 58| Training loss: 0.598669| Validation loss: 0.750083\n",
      "Epoch: 59| Training loss: 0.595753| Validation loss: 0.747588\n",
      "Epoch: 60| Training loss: 0.592891| Validation loss: 0.745134\n",
      "Epoch: 61| Training loss: 0.590080| Validation loss: 0.742721\n",
      "Epoch: 62| Training loss: 0.587320| Validation loss: 0.740348\n",
      "Epoch: 63| Training loss: 0.584609| Validation loss: 0.738013\n",
      "Epoch: 64| Training loss: 0.581946| Validation loss: 0.735717\n",
      "Epoch: 65| Training loss: 0.579328| Validation loss: 0.733457\n",
      "Epoch: 66| Training loss: 0.576754| Validation loss: 0.731232\n",
      "Epoch: 67| Training loss: 0.574224| Validation loss: 0.729042\n",
      "Epoch: 68| Training loss: 0.571735| Validation loss: 0.726885\n",
      "Epoch: 69| Training loss: 0.569288| Validation loss: 0.724762\n",
      "Epoch: 70| Training loss: 0.566880| Validation loss: 0.722670\n",
      "Epoch: 71| Training loss: 0.564512| Validation loss: 0.720611\n",
      "Epoch: 72| Training loss: 0.562180| Validation loss: 0.718581\n",
      "Epoch: 73| Training loss: 0.559884| Validation loss: 0.716580\n",
      "Epoch: 74| Training loss: 0.557624| Validation loss: 0.714609\n",
      "Epoch: 75| Training loss: 0.555399| Validation loss: 0.712665\n",
      "Epoch: 76| Training loss: 0.553206| Validation loss: 0.710749\n",
      "Epoch: 77| Training loss: 0.551047| Validation loss: 0.708860\n",
      "Epoch: 78| Training loss: 0.548919| Validation loss: 0.706997\n",
      "Epoch: 79| Training loss: 0.546823| Validation loss: 0.705159\n",
      "Epoch: 80| Training loss: 0.544757| Validation loss: 0.703347\n",
      "Epoch: 81| Training loss: 0.542721| Validation loss: 0.701560\n",
      "Epoch: 82| Training loss: 0.540712| Validation loss: 0.699795\n",
      "Epoch: 83| Training loss: 0.538733| Validation loss: 0.698053\n",
      "Epoch: 84| Training loss: 0.536780| Validation loss: 0.696335\n",
      "Epoch: 85| Training loss: 0.534856| Validation loss: 0.694639\n",
      "Epoch: 86| Training loss: 0.532956| Validation loss: 0.692964\n",
      "Epoch: 87| Training loss: 0.531082| Validation loss: 0.691311\n",
      "Epoch: 88| Training loss: 0.529233| Validation loss: 0.689679\n",
      "Epoch: 89| Training loss: 0.527408| Validation loss: 0.688066\n",
      "Epoch: 90| Training loss: 0.525607| Validation loss: 0.686475\n",
      "Epoch: 91| Training loss: 0.523830| Validation loss: 0.684902\n",
      "Epoch: 92| Training loss: 0.522075| Validation loss: 0.683348\n",
      "Epoch: 93| Training loss: 0.520342| Validation loss: 0.681813\n",
      "Epoch: 94| Training loss: 0.518630| Validation loss: 0.680296\n",
      "Epoch: 95| Training loss: 0.516941| Validation loss: 0.678797\n",
      "Epoch: 96| Training loss: 0.515272| Validation loss: 0.677316\n",
      "Epoch: 97| Training loss: 0.513623| Validation loss: 0.675852\n",
      "Epoch: 98| Training loss: 0.511994| Validation loss: 0.674405\n",
      "Epoch: 99| Training loss: 0.510385| Validation loss: 0.672974\n",
      "Epoch: 100| Training loss: 0.508795| Validation loss: 0.671560\n",
      "Epoch: 101| Training loss: 0.507223| Validation loss: 0.670161\n",
      "Epoch: 102| Training loss: 0.505670| Validation loss: 0.668778\n",
      "Epoch: 103| Training loss: 0.504134| Validation loss: 0.667410\n",
      "Epoch: 104| Training loss: 0.502617| Validation loss: 0.666058\n",
      "Epoch: 105| Training loss: 0.501117| Validation loss: 0.664720\n",
      "Epoch: 106| Training loss: 0.499634| Validation loss: 0.663398\n",
      "Epoch: 107| Training loss: 0.498167| Validation loss: 0.662089\n",
      "Epoch: 108| Training loss: 0.496717| Validation loss: 0.660793\n",
      "Epoch: 109| Training loss: 0.495283| Validation loss: 0.659511\n",
      "Epoch: 110| Training loss: 0.493864| Validation loss: 0.658243\n",
      "Epoch: 111| Training loss: 0.492461| Validation loss: 0.656989\n",
      "Epoch: 112| Training loss: 0.491072| Validation loss: 0.655747\n",
      "Epoch: 113| Training loss: 0.489698| Validation loss: 0.654518\n",
      "Epoch: 114| Training loss: 0.488339| Validation loss: 0.653301\n",
      "Epoch: 115| Training loss: 0.486995| Validation loss: 0.652097\n",
      "Epoch: 116| Training loss: 0.485664| Validation loss: 0.650905\n",
      "Epoch: 117| Training loss: 0.484347| Validation loss: 0.649725\n",
      "Epoch: 118| Training loss: 0.483044| Validation loss: 0.648557\n",
      "Epoch: 119| Training loss: 0.481753| Validation loss: 0.647400\n",
      "Epoch: 120| Training loss: 0.480477| Validation loss: 0.646255\n",
      "Epoch: 121| Training loss: 0.479212| Validation loss: 0.645121\n",
      "Epoch: 122| Training loss: 0.477960| Validation loss: 0.643997\n",
      "Epoch: 123| Training loss: 0.476721| Validation loss: 0.642884\n",
      "Epoch: 124| Training loss: 0.475493| Validation loss: 0.641782\n",
      "Epoch: 125| Training loss: 0.474278| Validation loss: 0.640689\n",
      "Epoch: 126| Training loss: 0.473074| Validation loss: 0.639608\n",
      "Epoch: 127| Training loss: 0.471882| Validation loss: 0.638536\n",
      "Epoch: 128| Training loss: 0.470701| Validation loss: 0.637475\n",
      "Epoch: 129| Training loss: 0.469531| Validation loss: 0.636422\n",
      "Epoch: 130| Training loss: 0.468371| Validation loss: 0.635379\n",
      "Epoch: 131| Training loss: 0.467224| Validation loss: 0.634346\n"
     ]
    },
    {
     "name": "stdout",
     "output_type": "stream",
     "text": [
      "Epoch: 132| Training loss: 0.466086| Validation loss: 0.633322\n",
      "Epoch: 133| Training loss: 0.464959| Validation loss: 0.632307\n",
      "Epoch: 134| Training loss: 0.463842| Validation loss: 0.631301\n",
      "Epoch: 135| Training loss: 0.462736| Validation loss: 0.630305\n"
     ]
    }
   ],
   "source": [
    "w_count, loss_tr_count, dev_loss_count = SGD(X_tr_tfidf, Y_tr, \n",
    "                                             X_dev=X_dev_tfidf, \n",
    "                                             Y_dev=Y_dev,\n",
    "                                             num_classes=3,\n",
    "                                             lr=0.0001, \n",
    "                                             alpha=0.001, \n",
    "                                             epochs=200)"
   ]
  },
  {
   "cell_type": "code",
   "execution_count": 68,
   "metadata": {
    "ExecuteTime": {
     "end_time": "2020-03-20T23:46:49.760755Z",
     "start_time": "2020-03-20T23:46:49.669988Z"
    },
    "run_control": {
     "marked": false
    },
    "scrolled": true
   },
   "outputs": [
    {
     "name": "stdout",
     "output_type": "stream",
     "text": [
      "Accuracy: 0.8777777777777778\n",
      "Precision: 0.8806469941082025\n",
      "Recall: 0.8777777777777779\n",
      "F1-Score: 0.877232813452245\n"
     ]
    }
   ],
   "source": [
    "# fill in your code...\n",
    "preds_te = predict_class(X_te_tfidf,w_count).reshape(-1,1)\n",
    "\n",
    "print('Accuracy:', accuracy_score(Y_te,preds_te))\n",
    "print('Precision:', precision_score(Y_te,preds_te,average='macro'))\n",
    "print('Recall:', recall_score(Y_te,preds_te,average='macro'))\n",
    "print('F1-Score:', f1_score(Y_te,preds_te,average='macro'))"
   ]
  },
  {
   "cell_type": "code",
   "execution_count": 69,
   "metadata": {
    "ExecuteTime": {
     "end_time": "2020-03-20T23:46:49.789506Z",
     "start_time": "2020-03-20T23:46:49.767070Z"
    },
    "run_control": {
     "marked": false
    }
   },
   "outputs": [
    {
     "name": "stdout",
     "output_type": "stream",
     "text": [
      "['said', 'tuesday', 'afp', 'ap', 'monday', 'president', 'their', 'after', 'new', 'reuters']\n",
      "['athens', 'ap', 'olympic', 'team', 'first', 'games', 'quot', 'olympics', 'two', 'night']\n",
      "['company', 'oil', 'new', 'said', 'prices', 'reuters', 'inc', 'us', 'tuesday', 'more']\n"
     ]
    }
   ],
   "source": [
    "sorted_index = w_count.copy().argsort()[:,-10:][:,::-1]\n",
    "for class_i in range(len(sorted_index)):\n",
    "    top_neg_ngram = [vocab[i] for i in sorted_index[class_i]]\n",
    "    print(top_neg_ngram)"
   ]
  },
  {
   "cell_type": "code",
   "execution_count": 70,
   "metadata": {
    "ExecuteTime": {
     "end_time": "2020-03-20T23:51:03.977880Z",
     "start_time": "2020-03-20T23:46:49.797481Z"
    }
   },
   "outputs": [
    {
     "name": "stdout",
     "output_type": "stream",
     "text": [
      "lr: 0.000100, alpha: 0.000100 ---> score:0.933333\n",
      "lr: 0.000100, alpha: 0.010000 ---> score:0.940000\n",
      "lr: 0.000100, alpha: 0.100000 ---> score:0.940000\n",
      "lr: 0.001000, alpha: 0.000100 ---> score:0.926667\n",
      "lr: 0.001000, alpha: 0.010000 ---> score:0.926667\n",
      "lr: 0.001000, alpha: 0.100000 ---> score:0.940000\n",
      "lr: 0.010000, alpha: 0.000100 ---> score:0.926667\n",
      "lr: 0.010000, alpha: 0.010000 ---> score:0.926667\n",
      "lr: 0.010000, alpha: 0.100000 ---> score:0.906667\n",
      "=================Best Hyperparameters=================\n",
      "lr: 0.0001,\talpha: 0.01,\tscore: 0.94\n",
      "----------------set dataset evaluation----------------\n",
      "Accuracy: 0.8788888888888889\n",
      "Precision: 0.8815954652603436\n",
      "Recall: 0.8788888888888889\n",
      "F1-Score: 0.8783657573979232\n"
     ]
    }
   ],
   "source": [
    "def get_F1(lr,alpha):\n",
    "    w, trl, devl = SGD(X_tr_tfidf, Y_tr, \n",
    "                         X_dev=X_dev_tfidf, \n",
    "                         Y_dev=Y_dev, \n",
    "                         num_classes=3,\n",
    "                         lr=lr, \n",
    "                         alpha=alpha, \n",
    "                         epochs=200,\n",
    "                         print_progress=False)\n",
    "    preds_dev = predict_class(X_dev_tfidf,w)\n",
    "    return accuracy_score(Y_dev,preds_dev)\n",
    "\n",
    "lrs = [0.0001,0.001,0.01]\n",
    "alphas = [0.0001,0.01,0.1]\n",
    "\n",
    "import itertools\n",
    "record = list()\n",
    "for lr,alpha in itertools.product(lrs,alphas):\n",
    "    score = get_F1(lr, alpha)\n",
    "    print(\"lr: %f, alpha: %f ---> score:%f\"%(lr,alpha,score))\n",
    "    record.append([lr,alpha,score])\n",
    "best = sorted(record,key=lambda l:l[-1],reverse=-1)[0]\n",
    "print(\"=================Best Hyperparameters=================\")\n",
    "print(\"lr: {},\\talpha: {},\\tscore: {}\".format(*best))\n",
    "print(\"----------------set dataset evaluation----------------\")\n",
    "lr,alpha=best[:-1]\n",
    "w_count, loss_tr_count, dev_loss_count = SGD(X_tr_tfidf, Y_tr, \n",
    "                                             X_dev=X_dev_tfidf, \n",
    "                                             Y_dev=Y_dev,\n",
    "                                             num_classes=3,\n",
    "                                             lr=lr, \n",
    "                                             alpha=alpha, \n",
    "                                             epochs=200,\n",
    "                                             print_progress=False)\n",
    "\n",
    "preds_te = predict_class(X_te_tfidf,w_count)\n",
    "\n",
    "print('Accuracy:', accuracy_score(Y_te.flatten(),preds_te))\n",
    "print('Precision:', precision_score(Y_te.flatten(),preds_te,average='macro'))\n",
    "print('Recall:', recall_score(Y_te.flatten(),preds_te,average='macro'))\n",
    "print('F1-Score:', f1_score(Y_te.flatten(),preds_te,average='macro'))"
   ]
  },
  {
   "cell_type": "markdown",
   "metadata": {
    "ExecuteTime": {
     "end_time": "2020-02-15T14:16:42.567569Z",
     "start_time": "2020-02-15T14:16:42.562560Z"
    }
   },
   "source": [
    "## Full Results\n",
    "\n",
    "Add here your results:\n",
    "\n",
    "| LR | Precision  | Recall  | F1-Score  |\n",
    "|:-:|:-:|:-:|:-:|\n",
    "| BOW-count  |0.840   |0.837   |0.837   |\n",
    "| BOW-tfidf  |0.880   |0.877   |0.877   |\n"
   ]
  }
 ],
 "metadata": {
  "kernelspec": {
   "display_name": "Python 3",
   "language": "python",
   "name": "python3"
  },
  "language_info": {
   "codemirror_mode": {
    "name": "ipython",
    "version": 3
   },
   "file_extension": ".py",
   "mimetype": "text/x-python",
   "name": "python",
   "nbconvert_exporter": "python",
   "pygments_lexer": "ipython3",
   "version": "3.7.3"
  },
  "latex_envs": {
   "LaTeX_envs_menu_present": true,
   "autoclose": false,
   "autocomplete": true,
   "bibliofile": "biblio.bib",
   "cite_by": "apalike",
   "current_citInitial": 1,
   "eqLabelWithNumbers": true,
   "eqNumInitial": 1,
   "hotkeys": {
    "equation": "Ctrl-E",
    "itemize": "Ctrl-I"
   },
   "labels_anchors": false,
   "latex_user_defs": false,
   "report_style_numbering": false,
   "user_envs_cfg": false
  },
  "nbTranslate": {
   "displayLangs": [
    "en"
   ],
   "hotkey": "alt-t",
   "langInMainMenu": true,
   "sourceLang": "en",
   "targetLang": "zh-cn",
   "useGoogleTranslate": true
  },
  "toc": {
   "base_numbering": 1,
   "nav_menu": {},
   "number_sections": false,
   "sideBar": true,
   "skip_h1_title": false,
   "title_cell": "Table of Contents",
   "title_sidebar": "Contents",
   "toc_cell": false,
   "toc_position": {
    "height": "calc(100% - 180px)",
    "left": "10px",
    "top": "150px",
    "width": "179px"
   },
   "toc_section_display": true,
   "toc_window_display": true
  },
  "varInspector": {
   "cols": {
    "lenName": 16,
    "lenType": 16,
    "lenVar": 40
   },
   "kernels_config": {
    "python": {
     "delete_cmd_postfix": "",
     "delete_cmd_prefix": "del ",
     "library": "var_list.py",
     "varRefreshCmd": "print(var_dic_list())"
    },
    "r": {
     "delete_cmd_postfix": ") ",
     "delete_cmd_prefix": "rm(",
     "library": "var_list.r",
     "varRefreshCmd": "cat(var_dic_list()) "
    }
   },
   "types_to_exclude": [
    "module",
    "function",
    "builtin_function_or_method",
    "instance",
    "_Feature"
   ],
   "window_display": false
  }
 },
 "nbformat": 4,
 "nbformat_minor": 2
}
