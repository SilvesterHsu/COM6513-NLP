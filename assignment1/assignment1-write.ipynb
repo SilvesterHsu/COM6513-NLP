{
 "cells": [
  {
   "cell_type": "markdown",
   "metadata": {},
   "source": [
    "# [COM4513-6513] Assignment 1: Text Classification with Logistic Regression\n",
    "\n",
    "### Instructor: Nikos Aletras\n",
    "\n",
    "\n",
    "The goal of this assignment is to develop and test two text classification systems: \n",
    "\n",
    "- **Task 1:** sentiment analysis, in particular to predict the sentiment of movie review, i.e. positive or negative (binary classification).\n",
    "- **Task 2:** topic classification, to predict whether a news article is about International issues, Sports or Business (multiclass classification).\n",
    "\n",
    "\n",
    "For that purpose, you will implement:\n",
    "\n",
    "- Text processing methods for extracting Bag-Of-Word features, using (1) unigrams, bigrams and trigrams to obtain vector representations of documents. Two vector weighting schemes should be tested: (1) raw frequencies (**3 marks; 1 for each ngram type**); (2) tf.idf (**1 marks**). \n",
    "- Binary Logistic Regression classifiers that will be able to accurately classify movie reviews trained with (1) BOW-count (raw frequencies); and (2) BOW-tfidf (tf.idf weighted) for Task 1. \n",
    "- Multiclass Logistic Regression classifiers that will be able to accurately classify news articles trained with (1) BOW-count (raw frequencies); and (2) BOW-tfidf (tf.idf weighted) for Task 2. \n",
    "- The Stochastic Gradient Descent (SGD) algorithm to estimate the parameters of your Logistic Regression models. Your SGD algorithm should:\n",
    "    - Minimise the Binary Cross-entropy loss function for Task 1 (**3 marks**)\n",
    "    - Minimise the Categorical Cross-entropy loss function for Task 2 (**3 marks**)\n",
    "    - Use L2 regularisation (both tasks) (**1 mark**)\n",
    "    - Perform multiple passes (epochs) over the training data (**1 mark**)\n",
    "    - Randomise the order of training data after each pass (**1 mark**)\n",
    "    - Stop training if the difference between the current and previous validation loss is smaller than a threshold (**1 mark**)\n",
    "    - After each epoch print the training and development loss (**1 mark**)\n",
    "- Discuss how did you choose hyperparameters (e.g. learning rate and regularisation strength)?  (**2 marks; 0.5 for each model in each task**).\n",
    "- After training the LR models, plot the learning process (i.e. training and validation loss in each epoch) using a line plot (**1 mark; 0.5 for both BOW-count and BOW-tfidf LR models in each task**) and discuss if your model overfits/underfits/is about right.\n",
    "- Model interpretability by showing the most important features for each class (i.e. most positive/negative weights). Give the top 10 for each class and comment on whether they make sense (if they don't you might have a bug!).  If we were to apply the classifier we've learned into a different domain such laptop reviews or restaurant reviews, do you think these features would generalise well? Can you propose what features the classifier could pick up as important in the new domain? (**2 marks; 0.5 for BOW-count and BOW-tfidf LR models respectively in each task**)\n",
    "\n",
    "\n",
    "### Data - Task 1 \n",
    "\n",
    "The data you will use for Task 1 are taken from here: [http://www.cs.cornell.edu/people/pabo/movie-review-data/](http://www.cs.cornell.edu/people/pabo/movie-review-data/) and you can find it in the `./data_sentiment` folder in CSV format:\n",
    "\n",
    "- `data_sentiment/train.csv`: contains 1,400 reviews, 700 positive (label: 1) and 700 negative (label: 0) to be used for training.\n",
    "- `data_sentiment/dev.csv`: contains 200 reviews, 100 positive and 100 negative to be used for hyperparameter selection and monitoring the training process.\n",
    "- `data_sentiment/test.csv`: contains 400 reviews, 200 positive and 200 negative to be used for testing.\n",
    "\n",
    "### Data - Task 2\n",
    "\n",
    "The data you will use for Task 2 is a subset of the [AG News Corpus](http://groups.di.unipi.it/~gulli/AG_corpus_of_news_articles.html) and you can find it in the `./data_topic` folder in CSV format:\n",
    "\n",
    "- `data_topic/train.csv`: contains 2,400 news articles, 800 for each class to be used for training.\n",
    "- `data_topic/dev.csv`: contains 150 news articles, 50 for each class to be used for hyperparameter selection and monitoring the training process.\n",
    "- `data_topic/test.csv`: contains 900 news articles, 300 for each class to be used for testing.\n",
    "\n",
    "\n",
    "### Submission Instructions\n",
    "\n",
    "You should submit a Jupyter Notebook file (assignment1.ipynb) and an exported PDF version (you can do it from Jupyter: `File->Download as->PDF via Latex`).\n",
    "\n",
    "You are advised to follow the code structure given in this notebook by completing all given funtions. You can also write any auxilliary/helper functions (and arguments for the functions) that you might need but note that you can provide a full solution without any such functions. Similarly, you can just use only the packages imported below but you are free to use any functionality from the [Python Standard Library](https://docs.python.org/2/library/index.html), NumPy, SciPy and Pandas. You are not allowed to use any third-party library such as Scikit-learn (apart from metric functions already provided), NLTK, Spacy, Keras etc..\n",
    "\n",
    "Please make sure to comment your code. You should also mention if you've used Windows (not recommended) to write and test your code. There is no single correct answer on what your accuracy should be, but correct implementations usually achieve F1-scores around 80\\% or higher. The quality of the analysis of the results is as important as the accuracy itself. \n",
    "\n",
    "This assignment will be marked out of 20. It is worth 20\\% of your final grade in the module.\n",
    "\n",
    "The deadline for this assignment is **23:59 on Fri, 20 Mar 2020** and it needs to be submitted via MOLE. Standard departmental penalties for lateness will be applied. We use a range of strategies to detect [unfair means](https://www.sheffield.ac.uk/ssid/unfair-means/index), including Turnitin which helps detect plagiarism, so make sure you do not plagiarise.\n",
    "\n"
   ]
  },
  {
   "cell_type": "code",
   "execution_count": 1,
   "metadata": {
    "ExecuteTime": {
     "end_time": "2020-03-17T02:48:25.356042Z",
     "start_time": "2020-03-17T02:48:23.700993Z"
    },
    "run_control": {
     "marked": true
    }
   },
   "outputs": [],
   "source": [
    "import pandas as pd\n",
    "import numpy as np\n",
    "from collections import Counter\n",
    "import re\n",
    "import matplotlib.pyplot as plt\n",
    "from sklearn.metrics import accuracy_score, precision_score, recall_score, f1_score\n",
    "import random\n",
    "\n",
    "# fixing random seed for reproducibility\n",
    "random.seed(123)\n",
    "np.random.seed(123)\n"
   ]
  },
  {
   "cell_type": "markdown",
   "metadata": {},
   "source": [
    "## Load Raw texts and labels into arrays\n",
    "\n",
    "First, you need to load the training, development and test sets from their corresponding CSV files (tip: you can use Pandas dataframes)."
   ]
  },
  {
   "cell_type": "code",
   "execution_count": 2,
   "metadata": {
    "ExecuteTime": {
     "end_time": "2020-03-17T02:48:25.576635Z",
     "start_time": "2020-03-17T02:48:25.379165Z"
    },
    "code_folding": [
     1
    ],
    "run_control": {
     "marked": true
    }
   },
   "outputs": [
    {
     "name": "stdout",
     "output_type": "stream",
     "text": [
      "Finish loading:\n",
      "\ttrain.csv\n",
      "\ttest.csv\n",
      "\tdev.csv\n"
     ]
    }
   ],
   "source": [
    "# fill in your code...\n",
    "class FileLoader:\n",
    "    def __init__(self,path,File=None,names=['text','label']):\n",
    "        self.path = self.__load_path(path)\n",
    "        self.names = names\n",
    "        self.__load_data(File)\n",
    "        \n",
    "    def __load_path(self,path):\n",
    "        import os\n",
    "        if os.path.exists(path):\n",
    "            return path\n",
    "        else:\n",
    "            print(\"Path not exist!\")\n",
    "    \n",
    "    def __load_datum(self,files_name):\n",
    "        import os\n",
    "        full_path = self.path +'/'+files_name.strip().strip('/')\n",
    "        if os.path.exists(full_path):\n",
    "            return pd.read_csv(full_path,header=None,names=self.names)\n",
    "        else:\n",
    "            print(\"File not exist!\")\n",
    "            \n",
    "    def __load_data(self,File):\n",
    "        if File==None:\n",
    "            self.train = self.__load_datum('train.csv')\n",
    "            self.test = self.__load_datum('test.csv')\n",
    "            self.dev = self.__load_datum('dev.csv')\n",
    "            print('Finish loading:\\n\\ttrain.csv\\n\\ttest.csv\\n\\tdev.csv')\n",
    "        else:\n",
    "            self.data = self.__load_datum(File)\n",
    "            print('Finish loading:\\n\\t'+File)\n",
    "\n",
    "Data = FileLoader('data_sentiment')\n",
    "\n",
    "data_tr = Data.train\n",
    "data_te = Data.test\n",
    "data_dev = Data.dev"
   ]
  },
  {
   "cell_type": "markdown",
   "metadata": {},
   "source": [
    "If you use Pandas you can see a sample of the data."
   ]
  },
  {
   "cell_type": "code",
   "execution_count": 3,
   "metadata": {
    "ExecuteTime": {
     "end_time": "2020-03-17T02:48:25.660091Z",
     "start_time": "2020-03-17T02:48:25.630742Z"
    },
    "run_control": {
     "marked": true
    }
   },
   "outputs": [
    {
     "data": {
      "text/html": [
       "<div>\n",
       "<style scoped>\n",
       "    .dataframe tbody tr th:only-of-type {\n",
       "        vertical-align: middle;\n",
       "    }\n",
       "\n",
       "    .dataframe tbody tr th {\n",
       "        vertical-align: top;\n",
       "    }\n",
       "\n",
       "    .dataframe thead th {\n",
       "        text-align: right;\n",
       "    }\n",
       "</style>\n",
       "<table border=\"1\" class=\"dataframe\">\n",
       "  <thead>\n",
       "    <tr style=\"text-align: right;\">\n",
       "      <th></th>\n",
       "      <th>text</th>\n",
       "      <th>label</th>\n",
       "    </tr>\n",
       "  </thead>\n",
       "  <tbody>\n",
       "    <tr>\n",
       "      <th>0</th>\n",
       "      <td>note : some may consider portions of the follo...</td>\n",
       "      <td>1</td>\n",
       "    </tr>\n",
       "    <tr>\n",
       "      <th>1</th>\n",
       "      <td>note : some may consider portions of the follo...</td>\n",
       "      <td>1</td>\n",
       "    </tr>\n",
       "    <tr>\n",
       "      <th>2</th>\n",
       "      <td>every once in a while you see a film that is s...</td>\n",
       "      <td>1</td>\n",
       "    </tr>\n",
       "    <tr>\n",
       "      <th>3</th>\n",
       "      <td>when i was growing up in 1970s , boys in my sc...</td>\n",
       "      <td>1</td>\n",
       "    </tr>\n",
       "    <tr>\n",
       "      <th>4</th>\n",
       "      <td>the muppet movie is the first , and the best m...</td>\n",
       "      <td>1</td>\n",
       "    </tr>\n",
       "  </tbody>\n",
       "</table>\n",
       "</div>"
      ],
      "text/plain": [
       "                                                text  label\n",
       "0  note : some may consider portions of the follo...      1\n",
       "1  note : some may consider portions of the follo...      1\n",
       "2  every once in a while you see a film that is s...      1\n",
       "3  when i was growing up in 1970s , boys in my sc...      1\n",
       "4  the muppet movie is the first , and the best m...      1"
      ]
     },
     "execution_count": 3,
     "metadata": {},
     "output_type": "execute_result"
    }
   ],
   "source": [
    "data_tr.head()"
   ]
  },
  {
   "cell_type": "code",
   "execution_count": 21,
   "metadata": {
    "ExecuteTime": {
     "end_time": "2020-03-15T22:53:49.731903Z",
     "start_time": "2020-03-15T22:53:49.720746Z"
    }
   },
   "outputs": [
    {
     "data": {
      "text/plain": [
       "1400"
      ]
     },
     "execution_count": 21,
     "metadata": {},
     "output_type": "execute_result"
    }
   ],
   "source": [
    "len(data_tr)"
   ]
  },
  {
   "cell_type": "markdown",
   "metadata": {},
   "source": [
    "The next step is to put the raw texts into Python lists and their corresponding labels into NumPy arrays:\n"
   ]
  },
  {
   "cell_type": "code",
   "execution_count": 4,
   "metadata": {
    "ExecuteTime": {
     "end_time": "2020-03-17T02:48:25.798942Z",
     "start_time": "2020-03-17T02:48:25.782888Z"
    },
    "run_control": {
     "marked": true
    }
   },
   "outputs": [],
   "source": [
    "# fill in your code...\n",
    "def transform(df):\n",
    "    return list(df['text']), df['label'].to_numpy().reshape(-1,1)\n",
    "\n",
    "X_tr_raw, Y_tr = transform(data_tr)\n",
    "X_te_raw, Y_te = transform(data_te)\n",
    "X_dev_raw, Y_dev = transform(data_dev)"
   ]
  },
  {
   "cell_type": "code",
   "execution_count": 5,
   "metadata": {
    "ExecuteTime": {
     "end_time": "2020-03-17T02:48:25.871515Z",
     "start_time": "2020-03-17T02:48:25.857457Z"
    },
    "cell_style": "split",
    "run_control": {
     "marked": true
    }
   },
   "outputs": [
    {
     "data": {
      "text/plain": [
       "['note : some may consider portions of the following text to be spoilers .  be forewarned .  it\\'s startling to consider that it was only a few years ago that film distributors would worriedly rearrange their summer release schedules in order to give the annual disney animated feature juggernaut a wide berth .  the lion king had just cracked $300 million domestic in gross to become one of the most profitable ventures in film history , continuing to build on a sturdy base left by prior flicks aladdin and beauty and the beast .  since then , though , disney\\'s animated features have shown an unbroken string of diminishing returns , with pocahontas , the hunchback of notre dame , and this year\\'s hercules successively proving less and less potent .  with the once seemingly-impregnable disney stranglehold on the market share suddenly looking mighty vulnerable , and faced with their first serious competition in the animated film market from fox\\'s anastasia , disney has brought xmas home early by dusting off the feature which sparked the modern revival of feature animation , the little mermaid .  while the animation for the film is , as is typically the case for disney films , unquestionably top-notch , the magic in the little mermaid is not its animation , but the wonderful innocence of its story and its rousingly superb music .  the film\\'s storyline is fairly straightforward -- young teen falls for handsome man , father disapproves and assigns hapless chaperone to his daughter , teen disobeys father and goes to desperate lengths to win her man -- except in this case , the chaperone is a crab , the teen is a young mermaid , and the object of her desire is a human prince .  what makes the little mermaid so affecting and so emotionally resonant is the richness and charm of its characters and the sheer clarity and honest simplicity of their emotions .  from the moment mermaid ariel lays her eyes on prince eric , she\\'s resolutely smitten , and she\\'s such a pure and endearing character that one can\\'t help but invest their heart with her .  this simple but touching love story , coupled with a healthy dose of smart humour , makes the little mermaid a remarkably captivating picture .  one of the interesting things about the little mermaid is something which now curiously dates it : the voices cast for its motley crew of characters .  this film was produced just before the distracting concept of using celebrity voices became in vogue , which started to a certain degree with beauty and the beast and was irrevocably exacerbated by robin williams\\' much-heralded turn in aladdin ; by the release of the lion king and henceforth , the majority of characters in the animated films were voiced by celebrities .  while it\\'s understandable that animated features lacking the name-recognition or drawing power of disney ( say , balto\\'s use of kevin bacon and bridget fonda , or even anastasia\\'s showcasing of meg ryan and john cusack ) would be forced to turn to this strategy in order to hype their products , it\\'s unfortunate that even disney has embraced this policy .  do we really need to hear , say , demi moore as esmerelda in the hunchback of notre dame ?  is the film\\'s entertainment value really augmented by hearing a recognizable voice , rather than a voice which best suits the role ?   ( i\\'m not exactly on the edge of my seat for eddie murphy in the upcoming mulan . )  fortunately , the performers who voice the characters in the little mermaid , although perhaps more obscure , are impeccably cast .  chief among them is jodi benson , a 1992 tony nominee for her stage work in crazy for you , who voices the film\\'s heroine ariel to perfection ; with a wonderfully expressive speaking voice full of youthful vigor , and gorgeous singing voice , ms . benson provides a most engaging anchor for the film .   ( she\\'s the only reason i\\'d even consider catching flubber . )  similarly , samuel e . wright is terrific in the showy role of sebastian , the weary guardian crab .  he easily milks his lovable character\\'s comic moments for all they\\'re worth , and his rendering of two of the little mermaid\\'s big tunes -- \" under the sea \" and \" kiss the girl \" -- have become the stuff of legend .  pat carrol is deliciously villainous and vampy as the evil sea-witch ursula , while kenneth mars\\' booming voice conveys the stern yet affectionate authority of ariel\\'s father , king triton .  in large roles and small ( edie mcclurg as dotting busybody carlotta is ideal , and rene auberjonois has great fun with his exuberant french chef ) , the little mermaid is impeccably cast .  of course , the little mermaid will probably be best remembered for its remarkable collection of songs composed by the songwriting team of alan menken ( music ) and howard ashman ( lyrics ) , who had created little shop of horrors and would go on to compose beauty and the beast and aladdin for disney before mr . ashman\\'s untimely death .  not only are mr . menken\\'s tunes unbearably catchy , but mr . ashman\\'s charming lyrics are fully integrated into the film\\'s storyline so that the songs are a virtual extension of the character\\'s dialogue , and consequently work wonderfully within the context of the film .  mr . menken\\'s score for the film is equally top-notch ; the sequence where eric ( voiced by christopher daniel barnes ) and ariel tour his kingdom in a horse-drawn carriage becomes magical and wondrous with mr . menken\\'s fine score .  it appears that most people prefer the delightfully colourful production number for the calypso-styled \" under the sea \" as joyfully crooned by mr . wright , which won the academy award and golden globe awards for best song -- indeed , one of the many little joys in screening the film during its re-release was listening to children scattered throughout the audience singing along with the tune -- but my favourite is ms . benson\\'s heartfelt rendition of the ballad \" part of your world \" , an achingly beautiful tune of yearning and hope ( wonderfully lyricized by mr . ashman ) which , accompanied by the film\\'s most dazzlingly polished animation sequence , packs an emotional wallop which literally brought tears to my eyes .  during the song\\'s reprise , which builds to a crescendo with ariel arching on a rock as a wave crashes in , the cumulative effect is nothing short of breathtaking , and one becomes acutely aware that this single instance is one of the finest in animation history .  as of this writing , november 1997 has come to an end , as has disney\\'s limited 17-day re-release of the little mermaid .  there\\'s no question that the primary motivation for , if not the film\\'s reissue itself , at least its timing , was to reinforce disney\\'s dominance in the animation market and provide direct competition to fox\\'s costly new upstart animation division and their first major venture , anastasia .  in every respect , the re-release of the little mermaid appears to be a success -- the film\\'s 1997 grosses have pushed its cumulative domestic gross over the magic $100 million mark ; the little mermaid proved to have remarkably strong drawing power for a film initially released only eight years ago and in many homes on video , pulling in close to $10 million in its opening weekend ; and although nobody could possibly expect the little mermaid to possibly defeat the aggressively-marketed anastasia in head-to-head competition , it siphoned enough from the fox film\\'s opening weekend totals to keep anastasia from the coveted weekend leader spot , allowing for disney\\'s odious flubber to sweep in on the subsequent week and wrestle the family demographic market share away .  but although disney\\'s motives in the reissue of the little mermaid were self-serving and protectionist , the real winner is the public .  any reason to put this film back into theatres is a good one , and it\\'s a true joy to see this heartwarming gem back on the silver screen .  the little mermaid is the best film to come out of the disney\\'s modern animation renaissance , and one of the greatest animated films ever made .  ']"
      ]
     },
     "execution_count": 5,
     "metadata": {},
     "output_type": "execute_result"
    }
   ],
   "source": [
    "X_tr_raw[:1]"
   ]
  },
  {
   "cell_type": "code",
   "execution_count": 6,
   "metadata": {
    "ExecuteTime": {
     "end_time": "2020-03-17T02:48:25.952365Z",
     "start_time": "2020-03-17T02:48:25.938997Z"
    },
    "cell_style": "split",
    "run_control": {
     "marked": true
    }
   },
   "outputs": [
    {
     "data": {
      "text/plain": [
       "array([[1],\n",
       "       [1],\n",
       "       [1],\n",
       "       ...,\n",
       "       [0],\n",
       "       [0],\n",
       "       [0]])"
      ]
     },
     "execution_count": 6,
     "metadata": {},
     "output_type": "execute_result"
    }
   ],
   "source": [
    "Y_tr"
   ]
  },
  {
   "cell_type": "markdown",
   "metadata": {},
   "source": [
    "# Bag-of-Words Representation \n",
    "\n",
    "\n",
    "To train and test Logisitc Regression models, you first need to obtain vector representations for all documents given a vocabulary of features (unigrams, bigrams, trigrams).\n",
    "\n",
    "\n",
    "## Text Pre-Processing Pipeline\n",
    "\n",
    "To obtain a vocabulary of features, you should: \n",
    "- tokenise all texts into a list of unigrams (tip: using a regular expression) \n",
    "- remove stop words (using the one provided or one of your preference) \n",
    "- compute bigrams, trigrams given the remaining unigrams\n",
    "- remove ngrams appearing in less than K documents\n",
    "- use the remaining to create a vocabulary of unigrams, bigrams and trigrams (you can keep top N if you encounter memory issues).\n"
   ]
  },
  {
   "cell_type": "code",
   "execution_count": 7,
   "metadata": {
    "ExecuteTime": {
     "end_time": "2020-03-17T02:48:26.124540Z",
     "start_time": "2020-03-17T02:48:26.106504Z"
    },
    "run_control": {
     "marked": true
    }
   },
   "outputs": [],
   "source": [
    "stop_words = ['a','in','on','at','and','or', \n",
    "              'to', 'the', 'of', 'an', 'by', \n",
    "              'as', 'is', 'was', 'were', 'been', 'be', \n",
    "              'are','for', 'this', 'that', 'these', 'those', 'you', 'i',\n",
    "             'it', 'he', 'she', 'we', 'they' 'will', 'have', 'has',\n",
    "              'do', 'did', 'can', 'could', 'who', 'which', 'what', \n",
    "             'his', 'her', 'they', 'them', 'from', 'with', 'its']"
   ]
  },
  {
   "cell_type": "markdown",
   "metadata": {},
   "source": [
    "### N-gram extraction from a document\n",
    "\n",
    "You first need to implement the `extract_ngrams` function. It takes as input:\n",
    "- `x_raw`: a string corresponding to the raw text of a document\n",
    "- `ngram_range`: a tuple of two integers denoting the type of ngrams you want to extract, e.g. (1,2) denotes extracting unigrams and bigrams.\n",
    "- `token_pattern`: a string to be used within a regular expression to extract all tokens. Note that data is already tokenised so you could opt for a simple white space tokenisation.\n",
    "- `stop_words`: a list of stop words\n",
    "- `vocab`: a given vocabulary. It should be used to extract specific features.\n",
    "\n",
    "and returns:\n",
    "\n",
    "- a list of all extracted features.\n",
    "\n",
    "See the examples below to see how this function should work."
   ]
  },
  {
   "cell_type": "code",
   "execution_count": 8,
   "metadata": {
    "ExecuteTime": {
     "end_time": "2020-03-15T01:53:20.746610Z",
     "start_time": "2020-03-15T01:53:20.732868Z"
    },
    "code_folding": [
     0,
     3,
     13
    ],
    "run_control": {
     "marked": false
    }
   },
   "outputs": [],
   "source": [
    "def extract_ngrams(x_raw, ngram_range=(1,3), token_pattern=r'\\b[A-Za-z][A-Za-z]+\\b', stop_words=[], vocab=set()):\n",
    "    \"\"\"N-gram extraction from a document.\n",
    "\n",
    "    Args:\n",
    "        x_raw: a string corresponding to the raw text of a document\n",
    "        ngram_range: a tuple of two integers denoting the type of ngrams you want\n",
    "            to extract, e.g. (1,2) denotes extracting unigrams and bigrams.\n",
    "        token_pattern: a string to be used within a regular expression to extract\n",
    "            all tokens. Note that data is already tokenised so you could opt for\n",
    "            a simple white space tokenisation.\n",
    "        stop_words: a list of stop words\n",
    "        vocab: a given vocabulary. It should be used to extract specific features.\n",
    "\n",
    "    Returns:\n",
    "        A list of terms to the corresponding N-gram. Each part fits one N-gram,\n",
    "        except 1-gramrow. For example:\n",
    "\n",
    "        ['great','movie','watch',\n",
    "        ('great', 'movie'),('movie', 'watch'),\n",
    "        ('great', 'movie', 'watch')]\n",
    "\n",
    "    \"\"\"\n",
    "    def finder(s,n,features = set()):\n",
    "        if n <= 0 or n > len(s):\n",
    "            raise Exception('n is out of range')\n",
    "        if len(features) == 0:\n",
    "            if n == 1:\n",
    "                return s\n",
    "            else:\n",
    "                return map(lambda i: tuple(s[i:i+n]),range(len(s)-n+1))\n",
    "        else:\n",
    "            if n == 1:\n",
    "                return [t for t in s if t in features]\n",
    "            else:\n",
    "                return [tuple(s[i:i+n]) for i in range(0,len(s)-n+1) if tuple(s[i:i+n]) in features]\n",
    "\n",
    "    # Find all words by condition\n",
    "    pattern = re.compile(token_pattern)\n",
    "    term_eligible = [term for term in pattern.findall(x_raw) if term not in stop_words]\n",
    "\n",
    "    # Find combinations of different N-grams\n",
    "    x = [term for n in range(ngram_range[0],ngram_range[1]+1) for term in finder(term_eligible,n,vocab)]\n",
    "        \n",
    "    return x"
   ]
  },
  {
   "cell_type": "code",
   "execution_count": 46,
   "metadata": {
    "ExecuteTime": {
     "end_time": "2020-03-17T01:20:39.799810Z",
     "start_time": "2020-03-17T01:20:39.789704Z"
    }
   },
   "outputs": [
    {
     "data": {
      "text/plain": [
       "'a'"
      ]
     },
     "execution_count": 46,
     "metadata": {},
     "output_type": "execute_result"
    }
   ],
   "source": [
    "\"a\""
   ]
  },
  {
   "cell_type": "code",
   "execution_count": 8,
   "metadata": {
    "ExecuteTime": {
     "end_time": "2020-03-17T02:48:26.205570Z",
     "start_time": "2020-03-17T02:48:26.175206Z"
    },
    "code_folding": [
     3,
     13
    ],
    "run_control": {
     "marked": true
    }
   },
   "outputs": [],
   "source": [
    "def extract_ngrams(x_raw, ngram_range=(1,3), token_pattern=r'\\b[A-Za-z][A-Za-z]+\\b', stop_words=[], vocab=set()):\n",
    "    \"\"\"N-gram extraction from a document.\n",
    "\n",
    "    Args:\n",
    "        x_raw: a string corresponding to the raw text of a document\n",
    "        ngram_range: a tuple of two integers denoting the type of ngrams you want\n",
    "            to extract, e.g. (1,2) denotes extracting unigrams and bigrams.\n",
    "        token_pattern: a string to be used within a regular expression to extract\n",
    "            all tokens. Note that data is already tokenised so you could opt for\n",
    "            a simple white space tokenisation.\n",
    "        stop_words: a list of stop words\n",
    "        vocab: a given vocabulary. It should be used to extract specific features.\n",
    "\n",
    "    Returns:\n",
    "        A list of terms to the corresponding N-gram. Each part fits one N-gram,\n",
    "        except 1-gramrow. For example:\n",
    "\n",
    "        ['great','movie','watch',\n",
    "        ('great', 'movie'),('movie', 'watch'),\n",
    "        ('great', 'movie', 'watch')]\n",
    "\n",
    "    \"\"\"\n",
    "    def finder(s,n):\n",
    "        if n <= 0 or n > len(s):\n",
    "            raise Exception('n is out of range')\n",
    "        if n == 1:\n",
    "            return s\n",
    "        else:\n",
    "            return map(lambda i: tuple(s[i:i+n]),range(len(s)-n+1))\n",
    "\n",
    "    # Find all words by condition\n",
    "    pattern = re.compile(token_pattern)\n",
    "    term_eligible = [term.lower() for term in pattern.findall(x_raw) if term.lower() not in stop_words]\n",
    "\n",
    "    # Find combinations of different N-grams\n",
    "    x = [term for n in range(ngram_range[0],ngram_range[1]+1) for term in finder(term_eligible,n)]\n",
    "    \n",
    "    if not vocab:    \n",
    "        return x\n",
    "    else:\n",
    "        return [term for term in x if term in vocab]"
   ]
  },
  {
   "cell_type": "code",
   "execution_count": 9,
   "metadata": {
    "ExecuteTime": {
     "end_time": "2020-03-17T02:48:26.269693Z",
     "start_time": "2020-03-17T02:48:26.254597Z"
    },
    "run_control": {
     "marked": true
    }
   },
   "outputs": [
    {
     "data": {
      "text/plain": [
       "['great',\n",
       " 'movie',\n",
       " 'watch',\n",
       " ('great', 'movie'),\n",
       " ('movie', 'watch'),\n",
       " ('great', 'movie', 'watch')]"
      ]
     },
     "execution_count": 9,
     "metadata": {},
     "output_type": "execute_result"
    }
   ],
   "source": [
    "extract_ngrams(\"this is a great movie to watch\", \n",
    "               ngram_range=(1,3), \n",
    "               stop_words=stop_words)"
   ]
  },
  {
   "cell_type": "code",
   "execution_count": 10,
   "metadata": {
    "ExecuteTime": {
     "end_time": "2020-03-17T02:48:26.394460Z",
     "start_time": "2020-03-17T02:48:26.373520Z"
    },
    "run_control": {
     "marked": true
    }
   },
   "outputs": [
    {
     "data": {
      "text/plain": [
       "['great', ('great', 'movie')]"
      ]
     },
     "execution_count": 10,
     "metadata": {},
     "output_type": "execute_result"
    }
   ],
   "source": [
    "extract_ngrams(\"this is a great movie to watch\", \n",
    "               ngram_range=(1,2), \n",
    "               stop_words=stop_words, \n",
    "               vocab=set(['great',  ('great','movie')]))"
   ]
  },
  {
   "cell_type": "markdown",
   "metadata": {},
   "source": [
    "Note that it is OK to represent n-grams using lists instead of tuples: e.g. `['great', ['great', 'movie']]`"
   ]
  },
  {
   "cell_type": "markdown",
   "metadata": {},
   "source": [
    "### Create a vocabulary of n-grams\n",
    "\n",
    "Then the `get_vocab` function will be used to (1) create a vocabulary of ngrams; (2) count the document frequencies of ngrams; (3) their raw frequency. It takes as input:\n",
    "- `X_raw`: a list of strings each corresponding to the raw text of a document\n",
    "- `ngram_range`: a tuple of two integers denoting the type of ngrams you want to extract, e.g. (1,2) denotes extracting unigrams and bigrams.\n",
    "- `token_pattern`: a string to be used within a regular expression to extract all tokens. Note that data is already tokenised so you could opt for a simple white space tokenisation.\n",
    "- `stop_words`: a list of stop words\n",
    "- `vocab`: a given vocabulary. It should be used to extract specific features.\n",
    "- `min_df`: keep ngrams with a minimum document frequency.\n",
    "- `keep_topN`: keep top-N more frequent ngrams.\n",
    "\n",
    "and returns:\n",
    "\n",
    "- `vocab`: a set of the n-grams that will be used as features.\n",
    "- `df`: a Counter (or dict) that contains ngrams as keys and their corresponding document frequency as values.\n",
    "- `ngram_counts`: counts of each ngram in vocab\n",
    "\n",
    "Hint: it should make use of the `extract_ngrams` function."
   ]
  },
  {
   "cell_type": "code",
   "execution_count": 11,
   "metadata": {
    "ExecuteTime": {
     "end_time": "2020-03-16T22:10:59.112634Z",
     "start_time": "2020-03-16T22:10:59.080514Z"
    },
    "code_folding": [
     0,
     1,
     5,
     16
    ],
    "run_control": {
     "marked": false
    }
   },
   "outputs": [],
   "source": [
    "def get_vocab(X_raw, ngram_range=(1,3), token_pattern=r'\\b[A-Za-z][A-Za-z]+\\b', min_df=0, keep_topN=0, stop_words=[]):\n",
    "    '''1. create a vocabulary of ngrams\n",
    "       2. count the document frequencies of ngrams\n",
    "       3. their raw frequency\n",
    "\n",
    "    Args:\n",
    "        X_raw: a list of strings each corresponding to the raw text of a document\n",
    "        ngram_range: a tuple of two integers denoting the type of ngrams you want\n",
    "            to extract, e.g. (1,2) denotes extracting unigrams and bigrams.\n",
    "        token_pattern: a string to be used within a regular expression to extract\n",
    "            all tokens. Note that data is already tokenised so you could opt for\n",
    "            a simple white space tokenisation.\n",
    "        stop_words: a list of stop words\n",
    "        min_df: keep ngrams with a minimum document frequency.\n",
    "        keep_topN: keep top-N more frequent ngrams.\n",
    "\n",
    "    Returns:\n",
    "        vocab: a set of the n-grams that will be used as features.\n",
    "        df: a Counter (or dict) that contains ngrams as keys and their corresponding\n",
    "            document frequency as values.\n",
    "        ngram_counts: counts of each ngram in vocab\n",
    "        For example,\n",
    "\n",
    "    '''\n",
    "    df = dict()\n",
    "    bag_of_ngrams = list()\n",
    "    for line in X_tr_raw:\n",
    "        ngrams = extract_ngrams(line,ngram_range=(1,3),token_pattern=token_pattern,stop_words=stop_words)\n",
    "        bag_of_ngrams += ngrams\n",
    "        for ngram in set(ngrams):\n",
    "            df[ngram] = df.get(ngram,0) + 1\n",
    "    vocab_df = {k:v for k,v in df.items() if v>=min_df}\n",
    "    ngram_counts = Counter(bag_of_ngrams)\n",
    "    vocab = list(set([ngram[0] for ngram in ngram_counts.most_common() if ngram[0] in vocab_df.keys()][:keep_topN]))\n",
    "\n",
    "    return vocab, Counter(df), ngram_counts"
   ]
  },
  {
   "cell_type": "code",
   "execution_count": 11,
   "metadata": {
    "ExecuteTime": {
     "end_time": "2020-03-16T21:08:34.661434Z",
     "start_time": "2020-03-16T21:08:34.645408Z"
    },
    "code_folding": [
     0,
     1,
     5,
     16
    ],
    "run_control": {
     "marked": false
    }
   },
   "outputs": [],
   "source": [
    "def get_vocab(X_raw, ngram_range=(1,3), token_pattern=r'\\b[A-Za-z][A-Za-z]+\\b', min_df=0, keep_topN=0, stop_words=[]):\n",
    "    '''1. create a vocabulary of ngrams\n",
    "       2. count the document frequencies of ngrams\n",
    "       3. their raw frequency\n",
    "\n",
    "    Args:\n",
    "        X_raw: a list of strings each corresponding to the raw text of a document\n",
    "        ngram_range: a tuple of two integers denoting the type of ngrams you want\n",
    "            to extract, e.g. (1,2) denotes extracting unigrams and bigrams.\n",
    "        token_pattern: a string to be used within a regular expression to extract\n",
    "            all tokens. Note that data is already tokenised so you could opt for\n",
    "            a simple white space tokenisation.\n",
    "        stop_words: a list of stop words\n",
    "        min_df: keep ngrams with a minimum document frequency.\n",
    "        keep_topN: keep top-N more frequent ngrams.\n",
    "\n",
    "    Returns:\n",
    "        vocab: a set of the n-grams that will be used as features.\n",
    "        df: a Counter (or dict) that contains ngrams as keys and their corresponding\n",
    "            document frequency as values.\n",
    "        ngram_counts: counts of each ngram in vocab\n",
    "        For example,\n",
    "\n",
    "    '''\n",
    "    bag_of_ngrams = list()\n",
    "    df = Counter()\n",
    "    for line in X_raw:\n",
    "        ngrams = extract_ngrams(line,ngram_range=(1,3),token_pattern=token_pattern,stop_words=stop_words)\n",
    "        bag_of_ngrams += ngrams\n",
    "        df.update(set(ngrams))\n",
    "    df = Counter({k:v for k,v in df.items() if v >=min_df})\n",
    "    ngram_counts = Counter(bag_of_ngrams)\n",
    "    \n",
    "    vocab = [items[0] for items in ngram_counts.most_common()[:keep_topN]]\n",
    "\n",
    "    return vocab, df, ngram_counts"
   ]
  },
  {
   "cell_type": "code",
   "execution_count": 11,
   "metadata": {
    "ExecuteTime": {
     "end_time": "2020-03-17T02:48:26.487870Z",
     "start_time": "2020-03-17T02:48:26.459427Z"
    },
    "code_folding": [
     1,
     5,
     16
    ],
    "run_control": {
     "marked": true
    }
   },
   "outputs": [],
   "source": [
    "def get_vocab(X_raw, ngram_range=(1,3), token_pattern=r'\\b[A-Za-z][A-Za-z]+\\b', min_df=0, keep_topN=0, stop_words=[]):\n",
    "    '''1. create a vocabulary of ngrams\n",
    "       2. count the document frequencies of ngrams\n",
    "       3. their raw frequency\n",
    "\n",
    "    Args:\n",
    "        X_raw: a list of strings each corresponding to the raw text of a document\n",
    "        ngram_range: a tuple of two integers denoting the type of ngrams you want\n",
    "            to extract, e.g. (1,2) denotes extracting unigrams and bigrams.\n",
    "        token_pattern: a string to be used within a regular expression to extract\n",
    "            all tokens. Note that data is already tokenised so you could opt for\n",
    "            a simple white space tokenisation.\n",
    "        stop_words: a list of stop words\n",
    "        min_df: keep ngrams with a minimum document frequency.\n",
    "        keep_topN: keep top-N more frequent ngrams.\n",
    "\n",
    "    Returns:\n",
    "        vocab: a set of the n-grams that will be used as features.\n",
    "        df: a Counter (or dict) that contains ngrams as keys and their corresponding\n",
    "            document frequency as values.\n",
    "        ngram_counts: counts of each ngram in vocab\n",
    "        For example,\n",
    "\n",
    "    '''\n",
    "    bag_of_ngrams = list()\n",
    "    df = Counter()\n",
    "    for line in X_raw:\n",
    "        ngrams = extract_ngrams(line,ngram_range=(1,3),token_pattern=token_pattern,stop_words=stop_words)\n",
    "        bag_of_ngrams += ngrams\n",
    "        df.update(set(ngrams))\n",
    "    df = Counter({k:v for k,v in df.items() if v >=min_df})\n",
    "    ngram_counts = Counter(bag_of_ngrams)\n",
    "    \n",
    "    vocab = [items[0] for items in ngram_counts.most_common() if items[0] in df.keys()][:keep_topN]\n",
    "\n",
    "    return vocab, df, ngram_counts"
   ]
  },
  {
   "cell_type": "markdown",
   "metadata": {},
   "source": [
    "Now you should use `get_vocab` to create your vocabulary and get document and raw frequencies of n-grams:"
   ]
  },
  {
   "cell_type": "code",
   "execution_count": 12,
   "metadata": {
    "ExecuteTime": {
     "end_time": "2020-03-17T02:48:32.627270Z",
     "start_time": "2020-03-17T02:48:26.558948Z"
    },
    "run_control": {
     "marked": true
    }
   },
   "outputs": [
    {
     "name": "stdout",
     "output_type": "stream",
     "text": [
      "5000\n",
      "\n",
      "['film', 'but', 'one', 'movie', 'not', 'all', 'there', 'like', 'so', 'out', 'about', 'more', 'up', 'when', 'their', 'some', 'just', 'if', 'into', 'him', 'even', 'only', 'no', 'than', 'time', 'good', 'most', 'story', 'will', 'would', 'much', 'character', 'also', 'get', 'two', 'well', 'characters', 'other', 'very', 'first', 'see', 'after', 'because', 'way', 'make', 'off', 'plot', 'while', 'had', 'any', 'too', 'little', 'life', 'films', 'does', 'where', 'people', 'then', 'how', 'me', 'really', 'man', 'scene', 'my', 'never', 'bad', 'being', 'over', 'best', 'don', 'scenes', 'doesn', 'many', 'new', 'know', 'director', 'here', 'action', 'such', 'great', 'through', 'movies', 're', 'love', 'another', 'made', 'go', 'big', 'end', 'seems', 'something', 'still', 'back', 'world', 'us', 'work', 'now', 'down', 'before', 'makes']\n",
      "\n",
      "[('but', 1334), ('one', 1247), ('film', 1231), ('not', 1170), ('all', 1117), ('movie', 1095), ('out', 1080), ('so', 1047), ('there', 1046), ('like', 1043)]\n"
     ]
    }
   ],
   "source": [
    "vocab, df, ngram_counts = get_vocab(X_tr_raw, ngram_range=(1,3), keep_topN=5000, stop_words=stop_words)\n",
    "print(len(vocab))\n",
    "print()\n",
    "print(list(vocab)[:100])\n",
    "print()\n",
    "print(df.most_common()[:10])"
   ]
  },
  {
   "cell_type": "code",
   "execution_count": 10,
   "metadata": {
    "ExecuteTime": {
     "end_time": "2020-02-15T14:17:39.319793Z",
     "start_time": "2020-02-15T14:17:36.836545Z"
    },
    "run_control": {
     "marked": false
    }
   },
   "outputs": [
    {
     "name": "stdout",
     "output_type": "stream",
     "text": [
      "5000\n",
      "\n",
      "['manages', 'questions', 'covered', 'body', 'ron', 'flair', 'drunken', 'approach', 'etc', 'allowing', 'lebowski', 'strong', 'model', 'category', 'family', 'couldn', 'argento', 'why', 'shown', ('doesn', 'work'), 'ocean', ('lot', 'more'), 'lou', 'attorney', 'kick', 'thinking', 'worth', 'larger', ('waste', 'time'), ('back', 'forth'), 'roles', 'adventures', ('million', 'dollars'), 'critics', 'according', ('ghost', 'dog'), 'outside', 'protect', ('last', 'time'), ('but', 'so'), 'creative', 'sell', 'pile', 'needless', 'immediately', 'screens', 'cards', 'blonde', 'meets', 'place', 'needs', 'needed', 'teacher', 'conceived', 'competition', 'powerful', 'expected', ('first', 'movie'), ('but', 'least'), 'gave', 'pleasures', 'spectacular', 'safe', 'wishes', 'stuff', ('there', 'something'), 'robert', 'kid', 'latest', ('bad', 'guy'), 'comet', 'street', 'intelligent', 'allow', ('tim', 'roth'), ('production', 'design'), 'living', 'abyss', 'clean', ('makes', 'him'), 'aware', 'footage', 'vicious', 'sharon', 'genuinely', 'south', 'draw', 'wall', ('will', 'smith'), 'romeo', ('scenes', 'but'), 'sometimes', 'friend', 'millionaire', 'families', 'technique', 'spirit', ('not', 'going'), 'horrifying', 'national']\n",
      "\n",
      "[('but', 1334), ('one', 1247), ('film', 1231), ('not', 1170), ('all', 1117), ('movie', 1095), ('out', 1080), ('so', 1047), ('there', 1046), ('like', 1043)]\n"
     ]
    }
   ],
   "source": [
    "vocab, df, ngram_counts = get_vocab(X_tr_raw, ngram_range=(1,3), keep_topN=5000, stop_words=stop_words)\n",
    "print(len(vocab))\n",
    "print()\n",
    "print(list(vocab)[:100])\n",
    "print()\n",
    "print(df.most_common()[:10])"
   ]
  },
  {
   "cell_type": "markdown",
   "metadata": {},
   "source": [
    "Then, you need to create vocabulary id -> word and id -> word dictionaries for reference:"
   ]
  },
  {
   "cell_type": "code",
   "execution_count": 13,
   "metadata": {
    "ExecuteTime": {
     "end_time": "2020-03-17T02:48:32.717993Z",
     "start_time": "2020-03-17T02:48:32.671972Z"
    },
    "cell_style": "center",
    "run_control": {
     "marked": true
    }
   },
   "outputs": [
    {
     "data": {
      "text/plain": [
       "{0: 'film',\n",
       " 1: 'but',\n",
       " 2: 'one',\n",
       " 3: 'movie',\n",
       " 4: 'not',\n",
       " 5: 'all',\n",
       " 6: 'there',\n",
       " 7: 'like',\n",
       " 8: 'so',\n",
       " 9: 'out',\n",
       " 10: 'about',\n",
       " 11: 'more',\n",
       " 12: 'up',\n",
       " 13: 'when',\n",
       " 14: 'their',\n",
       " 15: 'some',\n",
       " 16: 'just',\n",
       " 17: 'if',\n",
       " 18: 'into',\n",
       " 19: 'him',\n",
       " 20: 'even',\n",
       " 21: 'only',\n",
       " 22: 'no',\n",
       " 23: 'than',\n",
       " 24: 'time',\n",
       " 25: 'good',\n",
       " 26: 'most',\n",
       " 27: 'story',\n",
       " 28: 'will',\n",
       " 29: 'would',\n",
       " 30: 'much',\n",
       " 31: 'character',\n",
       " 32: 'also',\n",
       " 33: 'get',\n",
       " 34: 'two',\n",
       " 35: 'well',\n",
       " 36: 'characters',\n",
       " 37: 'other',\n",
       " 38: 'very',\n",
       " 39: 'first',\n",
       " 40: 'see',\n",
       " 41: 'after',\n",
       " 42: 'because',\n",
       " 43: 'way',\n",
       " 44: 'make',\n",
       " 45: 'off',\n",
       " 46: 'plot',\n",
       " 47: 'while',\n",
       " 48: 'had',\n",
       " 49: 'any',\n",
       " 50: 'too',\n",
       " 51: 'little',\n",
       " 52: 'life',\n",
       " 53: 'films',\n",
       " 54: 'does',\n",
       " 55: 'where',\n",
       " 56: 'people',\n",
       " 57: 'then',\n",
       " 58: 'how',\n",
       " 59: 'me',\n",
       " 60: 'really',\n",
       " 61: 'man',\n",
       " 62: 'scene',\n",
       " 63: 'my',\n",
       " 64: 'never',\n",
       " 65: 'bad',\n",
       " 66: 'being',\n",
       " 67: 'over',\n",
       " 68: 'best',\n",
       " 69: 'don',\n",
       " 70: 'scenes',\n",
       " 71: 'doesn',\n",
       " 72: 'many',\n",
       " 73: 'new',\n",
       " 74: 'know',\n",
       " 75: 'director',\n",
       " 76: 'here',\n",
       " 77: 'action',\n",
       " 78: 'such',\n",
       " 79: 'great',\n",
       " 80: 'through',\n",
       " 81: 'movies',\n",
       " 82: 're',\n",
       " 83: 'love',\n",
       " 84: 'another',\n",
       " 85: 'made',\n",
       " 86: 'go',\n",
       " 87: 'big',\n",
       " 88: 'end',\n",
       " 89: 'seems',\n",
       " 90: 'something',\n",
       " 91: 'still',\n",
       " 92: 'back',\n",
       " 93: 'world',\n",
       " 94: 'us',\n",
       " 95: 'work',\n",
       " 96: 'now',\n",
       " 97: 'down',\n",
       " 98: 'before',\n",
       " 99: 'makes',\n",
       " 100: 'however',\n",
       " 101: 'few',\n",
       " 102: 'every',\n",
       " 103: 'between',\n",
       " 104: 'seen',\n",
       " 105: 'better',\n",
       " 106: 'enough',\n",
       " 107: 'though',\n",
       " 108: 'real',\n",
       " 109: 'why',\n",
       " 110: 'things',\n",
       " 111: 'going',\n",
       " 112: 'around',\n",
       " 113: 'both',\n",
       " 114: 'year',\n",
       " 115: 'take',\n",
       " 116: 'audience',\n",
       " 117: 'your',\n",
       " 118: 'same',\n",
       " 119: 'role',\n",
       " 120: 'john',\n",
       " 121: 'gets',\n",
       " 122: 'should',\n",
       " 123: 'isn',\n",
       " 124: 'old',\n",
       " 125: 'think',\n",
       " 126: 've',\n",
       " 127: 'look',\n",
       " 128: 'performance',\n",
       " 129: 'long',\n",
       " 130: 'may',\n",
       " 131: 'nothing',\n",
       " 132: 'years',\n",
       " 133: 'actually',\n",
       " 134: 'comedy',\n",
       " 135: 'thing',\n",
       " 136: 'last',\n",
       " 137: 'fact',\n",
       " 138: 'right',\n",
       " 139: 'almost',\n",
       " 140: 'cast',\n",
       " 141: 'say',\n",
       " 142: 'own',\n",
       " 143: 'funny',\n",
       " 144: 'ever',\n",
       " 145: 'although',\n",
       " 146: 'come',\n",
       " 147: 'played',\n",
       " 148: 'script',\n",
       " 149: 'since',\n",
       " 150: 'young',\n",
       " 151: 'find',\n",
       " 152: 'star',\n",
       " 153: 'comes',\n",
       " 154: 'plays',\n",
       " 155: 'actors',\n",
       " 156: 'screen',\n",
       " 157: 'show',\n",
       " 158: 'part',\n",
       " 159: 'again',\n",
       " 160: 'original',\n",
       " 161: 'without',\n",
       " 162: 'effects',\n",
       " 163: 'lot',\n",
       " 164: 'takes',\n",
       " 165: 'day',\n",
       " 166: 'point',\n",
       " 167: 'acting',\n",
       " 168: 'guy',\n",
       " 169: 'interesting',\n",
       " 170: 'himself',\n",
       " 171: 'goes',\n",
       " 172: 'might',\n",
       " 173: 'least',\n",
       " 174: 'high',\n",
       " 175: 'quite',\n",
       " 176: 'during',\n",
       " 177: 'three',\n",
       " 178: 'each',\n",
       " 179: 'minutes',\n",
       " 180: 'far',\n",
       " 181: 'once',\n",
       " 182: 'away',\n",
       " 183: 'place',\n",
       " 184: 'course',\n",
       " 185: 'family',\n",
       " 186: 'set',\n",
       " 187: 'rather',\n",
       " 188: 'anything',\n",
       " 189: 'watch',\n",
       " 190: 'making',\n",
       " 191: 'fun',\n",
       " 192: 'must',\n",
       " 193: 'our',\n",
       " 194: 'special',\n",
       " 195: 'yet',\n",
       " 196: 'didn',\n",
       " 197: 'kind',\n",
       " 198: 'll',\n",
       " 199: 'bit',\n",
       " 200: 'always',\n",
       " 201: ('more', 'than'),\n",
       " 202: 'seem',\n",
       " 203: 'sense',\n",
       " 204: 'give',\n",
       " 205: 'picture',\n",
       " 206: 'series',\n",
       " 207: 'hard',\n",
       " 208: 'wife',\n",
       " 209: 'black',\n",
       " 210: 'want',\n",
       " 211: 'times',\n",
       " 212: 'home',\n",
       " 213: 'job',\n",
       " 214: 'hollywood',\n",
       " 215: 'along',\n",
       " 216: 'woman',\n",
       " 217: 'pretty',\n",
       " 218: 'actor',\n",
       " 219: 'trying',\n",
       " 220: 'instead',\n",
       " 221: 'dialogue',\n",
       " 222: 'everything',\n",
       " 223: 'probably',\n",
       " 224: 'sure',\n",
       " 225: 'help',\n",
       " 226: 'american',\n",
       " 227: 'having',\n",
       " 228: 'men',\n",
       " 229: 'half',\n",
       " 230: 'given',\n",
       " 231: 'becomes',\n",
       " 232: 'gives',\n",
       " 233: 'looking',\n",
       " 234: 'become',\n",
       " 235: 'feel',\n",
       " 236: 'money',\n",
       " 237: 'less',\n",
       " 238: 'horror',\n",
       " 239: 'wants',\n",
       " 240: 'done',\n",
       " 241: 'got',\n",
       " 242: 'together',\n",
       " 243: 'watching',\n",
       " 244: 'girl',\n",
       " 245: 'sex',\n",
       " 246: 'everyone',\n",
       " 247: 'music',\n",
       " 248: 'play',\n",
       " 249: 'whole',\n",
       " 250: 'perhaps',\n",
       " 251: 'father',\n",
       " 252: 'especially',\n",
       " 253: 'human',\n",
       " 254: 'completely',\n",
       " 255: 'moments',\n",
       " 256: 'whose',\n",
       " 257: 'put',\n",
       " 258: 'reason',\n",
       " 259: 'line',\n",
       " 260: 'james',\n",
       " 261: 'case',\n",
       " 262: 'death',\n",
       " 263: 'anyone',\n",
       " 264: 'next',\n",
       " 265: 'itself',\n",
       " 266: 'mind',\n",
       " 267: 'ending',\n",
       " 268: 'entire',\n",
       " 269: 'city',\n",
       " 270: 'true',\n",
       " 271: 'different',\n",
       " 272: 'looks',\n",
       " 273: 'rest',\n",
       " 274: 'until',\n",
       " 275: 'humor',\n",
       " 276: 'michael',\n",
       " 277: 'thought',\n",
       " 278: 'mother',\n",
       " 279: 'small',\n",
       " 280: 'let',\n",
       " 281: 'several',\n",
       " 282: 'simply',\n",
       " 283: 'lost',\n",
       " 284: 'problem',\n",
       " 285: 'soon',\n",
       " 286: 'based',\n",
       " 287: 'written',\n",
       " 288: 'else',\n",
       " 289: 'shows',\n",
       " 290: 'left',\n",
       " 291: 'called',\n",
       " 292: 'friend',\n",
       " 293: 'dead',\n",
       " 294: 'couple',\n",
       " 295: 'main',\n",
       " 296: 'getting',\n",
       " 297: 'performances',\n",
       " 298: 'second',\n",
       " 299: 'night',\n",
       " 300: 'use',\n",
       " 301: 'head',\n",
       " 302: ('special', 'effects'),\n",
       " 303: 'school',\n",
       " 304: 'idea',\n",
       " 305: 'tv',\n",
       " 306: 'evil',\n",
       " 307: 'house',\n",
       " 308: 'found',\n",
       " 309: 'top',\n",
       " 310: 'name',\n",
       " 311: 'comic',\n",
       " 312: 'named',\n",
       " 313: 'either',\n",
       " 314: 'wrong',\n",
       " 315: 'full',\n",
       " 316: 'stars',\n",
       " 317: 'alien',\n",
       " 318: 'often',\n",
       " 319: ('there', 'no'),\n",
       " 320: 'turns',\n",
       " 321: 'unfortunately',\n",
       " 322: 'david',\n",
       " 323: 'later',\n",
       " 324: 'final',\n",
       " 325: 'someone',\n",
       " 326: 'town',\n",
       " 327: 'believe',\n",
       " 328: 'works',\n",
       " 329: 'against',\n",
       " 330: 'begins',\n",
       " 331: 'person',\n",
       " 332: 'certainly',\n",
       " 333: 'sequence',\n",
       " 334: 'used',\n",
       " 335: 'behind',\n",
       " 336: 'live',\n",
       " 337: 'tries',\n",
       " 338: 'run',\n",
       " 339: 'group',\n",
       " 340: 'friends',\n",
       " 341: 'hand',\n",
       " 342: 'boy',\n",
       " 343: 'summer',\n",
       " 344: 'nice',\n",
       " 345: 'seeing',\n",
       " 346: 'game',\n",
       " 347: 'face',\n",
       " 348: 'war',\n",
       " 349: 'shot',\n",
       " 350: 'book',\n",
       " 351: 'turn',\n",
       " 352: 'playing',\n",
       " 353: 'tell',\n",
       " 354: 'despite',\n",
       " 355: 'kids',\n",
       " 356: 'maybe',\n",
       " 357: 'keep',\n",
       " 358: 'hour',\n",
       " 359: ('not', 'only'),\n",
       " 360: 'doing',\n",
       " 361: 'under',\n",
       " 362: 'style',\n",
       " 363: 'finally',\n",
       " 364: 'able',\n",
       " 365: 'relationship',\n",
       " 366: 'disney',\n",
       " 367: 'worth',\n",
       " 368: 'side',\n",
       " 369: 'past',\n",
       " 370: 'said',\n",
       " 371: 'children',\n",
       " 372: 'including',\n",
       " 373: 'days',\n",
       " 374: 'directed',\n",
       " 375: 'need',\n",
       " 376: 'won',\n",
       " 377: 'team',\n",
       " 378: 'short',\n",
       " 379: 'entertaining',\n",
       " 380: 'supposed',\n",
       " 381: 'earth',\n",
       " 382: 'lives',\n",
       " 383: 'starts',\n",
       " 384: 'lines',\n",
       " 385: 'perfect',\n",
       " 386: 'car',\n",
       " 387: 'finds',\n",
       " 388: 'white',\n",
       " 389: 'mr',\n",
       " 390: 'beautiful',\n",
       " 391: 'self',\n",
       " 392: 'running',\n",
       " 393: 'video',\n",
       " 394: 'dark',\n",
       " 395: ('but', 'not'),\n",
       " 396: 'camera',\n",
       " 397: 'early',\n",
       " 398: 'son',\n",
       " 399: 'voice',\n",
       " 400: 'opening',\n",
       " 401: 'joe',\n",
       " 402: 'nearly',\n",
       " 403: 'moment',\n",
       " 404: 'example',\n",
       " 405: 'writer',\n",
       " 406: 'exactly',\n",
       " 407: 'production',\n",
       " 408: 'version',\n",
       " 409: 'computer',\n",
       " 410: 'problems',\n",
       " 411: ('does', 'not'),\n",
       " 412: 'violence',\n",
       " 413: 'fine',\n",
       " 414: 'matter',\n",
       " 415: 'care',\n",
       " 416: 'fight',\n",
       " 417: 'kevin',\n",
       " 418: 'review',\n",
       " 419: 'five',\n",
       " 420: 'try',\n",
       " 421: 'daughter',\n",
       " 422: 'lee',\n",
       " 423: 'hit',\n",
       " 424: 'save',\n",
       " 425: 'heart',\n",
       " 426: 'throughout',\n",
       " 427: 'title',\n",
       " 428: 'simple',\n",
       " 429: 'known',\n",
       " 430: 'sequences',\n",
       " 431: 'eyes',\n",
       " 432: 'start',\n",
       " 433: 'worst',\n",
       " 434: 'coming',\n",
       " 435: 'themselves',\n",
       " 436: 'major',\n",
       " 437: 'obvious',\n",
       " 438: 'order',\n",
       " 439: 'kill',\n",
       " 440: 'deep',\n",
       " 441: 'beginning',\n",
       " 442: 'supporting',\n",
       " 443: 'drama',\n",
       " 444: ('so', 'much'),\n",
       " 445: 'jackie',\n",
       " 446: 'upon',\n",
       " 447: ('each', 'other'),\n",
       " 448: 'jack',\n",
       " 449: 'already',\n",
       " 450: 'robert',\n",
       " 451: 'aren',\n",
       " 452: 'space',\n",
       " 453: 'question',\n",
       " 454: 'guys',\n",
       " 455: 'screenplay',\n",
       " 456: 'killer',\n",
       " 457: 'classic',\n",
       " 458: 'truly',\n",
       " 459: 'sort',\n",
       " 460: 'boring',\n",
       " 461: 'thriller',\n",
       " 462: 'child',\n",
       " 463: 'close',\n",
       " 464: 'others',\n",
       " 465: 'saw',\n",
       " 466: 'women',\n",
       " 467: 'fiction',\n",
       " 468: 'dog',\n",
       " 469: 'act',\n",
       " 470: 'direction',\n",
       " 471: 'sets',\n",
       " 472: 'ship',\n",
       " 473: 'roles',\n",
       " 474: 'happens',\n",
       " 475: 'attempt',\n",
       " 476: 'room',\n",
       " 477: 'note',\n",
       " 478: 'genre',\n",
       " 479: 'tom',\n",
       " 480: 'body',\n",
       " 481: 'four',\n",
       " 482: 'yes',\n",
       " 483: 'wasn',\n",
       " 484: 'quickly',\n",
       " 485: 'stop',\n",
       " 486: 'husband',\n",
       " 487: 'knows',\n",
       " 488: 'laugh',\n",
       " 489: 'van',\n",
       " 490: 'worse',\n",
       " 491: 'novel',\n",
       " 492: 'level',\n",
       " 493: 'ends',\n",
       " 494: 'strong',\n",
       " 495: 'piece',\n",
       " 496: 'tells',\n",
       " 497: 'george',\n",
       " 498: 'hero',\n",
       " 499: 'murder',\n",
       " 500: 'brother',\n",
       " 501: 'god',\n",
       " 502: 'york',\n",
       " 503: 'wonder',\n",
       " 504: 'released',\n",
       " 505: 'particularly',\n",
       " 506: 'sometimes',\n",
       " 507: 'romantic',\n",
       " 508: 'says',\n",
       " 509: 'aliens',\n",
       " 510: 'wild',\n",
       " 511: 'hell',\n",
       " 512: 'fans',\n",
       " 513: 'involving',\n",
       " 514: 'single',\n",
       " 515: 'possible',\n",
       " 516: 'sound',\n",
       " 517: 'none',\n",
       " 518: 'manages',\n",
       " 519: 'feature',\n",
       " 520: 'hope',\n",
       " 521: 'stupid',\n",
       " 522: 'paul',\n",
       " 523: 'career',\n",
       " 524: 'king',\n",
       " 525: 'involved',\n",
       " 526: 'bring',\n",
       " 527: 'impressive',\n",
       " 528: 'attention',\n",
       " 529: 'living',\n",
       " 530: 'lead',\n",
       " 531: 'material',\n",
       " 532: 'planet',\n",
       " 533: 'fall',\n",
       " 534: 'seemed',\n",
       " 535: 'chris',\n",
       " 536: 'experience',\n",
       " 537: 'interest',\n",
       " 538: 'talk',\n",
       " 539: 'lack',\n",
       " 540: 'taking',\n",
       " 541: 'de',\n",
       " 542: 'taken',\n",
       " 543: 'appears',\n",
       " 544: 'basically',\n",
       " 545: 'elements',\n",
       " 546: 'extremely',\n",
       " 547: 'mostly',\n",
       " 548: ('new', 'york'),\n",
       " 549: 'except',\n",
       " 550: 'enjoy',\n",
       " 551: 'talent',\n",
       " 552: 'peter',\n",
       " 553: 'scream',\n",
       " 554: 'theater',\n",
       " 555: 'deal',\n",
       " 556: 'crew',\n",
       " 557: 'meet',\n",
       " 558: 'result',\n",
       " 559: 'recent',\n",
       " 560: 'feeling',\n",
       " 561: 'form',\n",
       " 562: 'power',\n",
       " 563: 'among',\n",
       " 564: 'emotional',\n",
       " 565: 'future',\n",
       " 566: 'usually',\n",
       " 567: 'police',\n",
       " 568: 'light',\n",
       " 569: 'falls',\n",
       " 570: 'success',\n",
       " 571: 'hours',\n",
       " 572: 'oscar',\n",
       " 573: 'across',\n",
       " 574: 'battle',\n",
       " 575: 'smith',\n",
       " 576: 'score',\n",
       " 577: 'late',\n",
       " 578: 'television',\n",
       " 579: 'entertainment',\n",
       " 580: 'parents',\n",
       " 581: 'obviously',\n",
       " 582: 'batman',\n",
       " 583: 'words',\n",
       " 584: 'science',\n",
       " 585: 'stuff',\n",
       " 586: 'cool',\n",
       " 587: 'ways',\n",
       " 588: 'alone',\n",
       " 589: 'mean',\n",
       " 590: 'giving',\n",
       " 591: 'release',\n",
       " 592: 'features',\n",
       " 593: 'number',\n",
       " 594: 'chance',\n",
       " 595: 'feels',\n",
       " 596: 'told',\n",
       " 597: 'tale',\n",
       " 598: 'co',\n",
       " 599: 'viewer',\n",
       " 600: 'important',\n",
       " 601: ('even', 'though'),\n",
       " 602: ('too', 'much'),\n",
       " 603: 'jones',\n",
       " 604: 'wonderful',\n",
       " 605: 'robin',\n",
       " 606: 'forced',\n",
       " 607: 'mission',\n",
       " 608: 'eventually',\n",
       " 609: 'type',\n",
       " 610: 'jokes',\n",
       " 611: 'suspense',\n",
       " 612: 'meets',\n",
       " 613: 'girls',\n",
       " 614: 'williams',\n",
       " 615: 'attempts',\n",
       " 616: 'killed',\n",
       " 617: 'history',\n",
       " 618: 'serious',\n",
       " 619: 'premise',\n",
       " 620: 'guess',\n",
       " 621: 'within',\n",
       " 622: 'needs',\n",
       " 623: 'william',\n",
       " 624: 'america',\n",
       " 625: 'apparently',\n",
       " 626: 'using',\n",
       " 627: 'due',\n",
       " 628: 'ben',\n",
       " 629: 'kid',\n",
       " 630: 'whether',\n",
       " 631: 'happy',\n",
       " 632: 'art',\n",
       " 633: 'middle',\n",
       " 634: 'credits',\n",
       " 635: 'wars',\n",
       " 636: 'expect',\n",
       " 637: 'presence',\n",
       " 638: 'girlfriend',\n",
       " 639: 'went',\n",
       " 640: 'change',\n",
       " 641: 'office',\n",
       " 642: 'easily',\n",
       " 643: 'somehow',\n",
       " 644: 'oh',\n",
       " 645: 'poor',\n",
       " 646: 'word',\n",
       " 647: 'flick',\n",
       " 648: 'wouldn',\n",
       " 649: 'eye',\n",
       " 650: 'laughs',\n",
       " 651: ('rather', 'than'),\n",
       " 652: 'working',\n",
       " 653: 'leads',\n",
       " 654: 'die',\n",
       " 655: 'straight',\n",
       " 656: 'surprise',\n",
       " 657: 'anyway',\n",
       " 658: 'dr',\n",
       " 659: 'easy',\n",
       " 660: 'happen',\n",
       " 661: 'am',\n",
       " 662: 'cop',\n",
       " 663: 'strange',\n",
       " 664: 'ago',\n",
       " 665: 'talking',\n",
       " 666: 'difficult',\n",
       " 667: 'cut',\n",
       " 668: 'remember',\n",
       " 669: 'quality',\n",
       " 670: ('star', 'wars'),\n",
       " 671: 'harry',\n",
       " 672: 'leave',\n",
       " 673: 'whom',\n",
       " 674: 'budget',\n",
       " 675: 'animated',\n",
       " 676: 'slow',\n",
       " 677: 'absolutely',\n",
       " 678: 'smart',\n",
       " 679: 'effective',\n",
       " 680: ('ve', 'seen'),\n",
       " 681: 'cinema',\n",
       " 682: 'crime',\n",
       " 683: 'minute',\n",
       " 684: 'million',\n",
       " 685: 'myself',\n",
       " 686: 'jim',\n",
       " 687: 'definitely',\n",
       " 688: ('year', 'old'),\n",
       " 689: 'surprisingly',\n",
       " 690: 'local',\n",
       " 691: 'runs',\n",
       " 692: 'business',\n",
       " 693: 'personal',\n",
       " 694: 'villain',\n",
       " 695: 'present',\n",
       " 696: 'visual',\n",
       " 697: 'mystery',\n",
       " 698: ('one', 'most'),\n",
       " 699: 'nature',\n",
       " 700: 'age',\n",
       " 701: 'reality',\n",
       " 702: 'return',\n",
       " 703: 'figure',\n",
       " 704: 'blood',\n",
       " 705: 'parts',\n",
       " 706: 'scary',\n",
       " 707: 'filmmakers',\n",
       " 708: 'sequel',\n",
       " 709: 'certain',\n",
       " 710: 'intelligent',\n",
       " 711: 'potential',\n",
       " 712: 'starring',\n",
       " 713: 'somewhat',\n",
       " 714: 'call',\n",
       " 715: 'annoying',\n",
       " 716: 'writing',\n",
       " 717: 'general',\n",
       " 718: 'begin',\n",
       " 719: 'hilarious',\n",
       " 720: 'read',\n",
       " 721: 'stories',\n",
       " 722: 'situation',\n",
       " 723: 'motion',\n",
       " 724: ('high', 'school'),\n",
       " 725: 'third',\n",
       " 726: 'carter',\n",
       " 727: 'uses',\n",
       " 728: 'complete',\n",
       " 729: 'towards',\n",
       " 730: ('but', 'also'),\n",
       " 731: 'fast',\n",
       " 732: 'low',\n",
       " 733: 'box',\n",
       " 734: 'brothers',\n",
       " 735: 'follow',\n",
       " 736: 'romance',\n",
       " 737: ('no', 'one'),\n",
       " 738: 'similar',\n",
       " 739: 'sexual',\n",
       " 740: 'decent',\n",
       " 741: 'rock',\n",
       " 742: 'learn',\n",
       " 743: 'red',\n",
       " 744: 'secret',\n",
       " 745: 'force',\n",
       " 746: 'couldn',\n",
       " 747: 'gone',\n",
       " 748: 'came',\n",
       " 749: 'familiar',\n",
       " 750: 'water',\n",
       " 751: 'actress',\n",
       " 752: 'create',\n",
       " 753: 'successful',\n",
       " 754: 'project',\n",
       " 755: 'add',\n",
       " 756: 'thinking',\n",
       " 757: 'latest',\n",
       " 758: 'dramatic',\n",
       " 759: 'popular',\n",
       " 760: 'shots',\n",
       " 761: 'predictable',\n",
       " 762: 'decides',\n",
       " 763: 'company',\n",
       " 764: 'previous',\n",
       " 765: 'herself',\n",
       " 766: 'near',\n",
       " 767: 'filled',\n",
       " 768: 'giant',\n",
       " 769: 'bill',\n",
       " 770: 'park',\n",
       " 771: 'following',\n",
       " 772: 'events',\n",
       " 773: 'law',\n",
       " 774: 'huge',\n",
       " 775: ('but', 'there'),\n",
       " 776: 'solid',\n",
       " 777: 'message',\n",
       " 778: 'leaving',\n",
       " 779: 'means',\n",
       " 780: 'murphy',\n",
       " 781: 'nor',\n",
       " 782: 'brings',\n",
       " 783: 'brilliant',\n",
       " 784: 'turned',\n",
       " 785: 'clear',\n",
       " 786: ('film', 'but'),\n",
       " 787: 'beyond',\n",
       " 788: 'large',\n",
       " 789: 'bruce',\n",
       " 790: 'former',\n",
       " 791: 'points',\n",
       " 792: 'effect',\n",
       " 793: 'mark',\n",
       " 794: 'clever',\n",
       " 795: 'immediately',\n",
       " 796: 'martin',\n",
       " 797: 'opens',\n",
       " 798: 'move',\n",
       " 799: 'tarzan',\n",
       " 800: 'brought',\n",
       " 801: 'cold',\n",
       " 802: ('even', 'more'),\n",
       " 803: 'rich',\n",
       " 804: 'bob',\n",
       " 805: 'ryan',\n",
       " 806: 'doubt',\n",
       " 807: 'ones',\n",
       " 808: 'woody',\n",
       " 809: 'perfectly',\n",
       " 810: ('much', 'more'),\n",
       " 811: 'amazing',\n",
       " 812: 'moving',\n",
       " 813: 'audiences',\n",
       " 814: 'questions',\n",
       " 815: 'bunch',\n",
       " 816: 'animation',\n",
       " 817: 'chan',\n",
       " 818: 'powerful',\n",
       " 819: 'break',\n",
       " 820: 'usual',\n",
       " 821: 'party',\n",
       " 822: 'merely',\n",
       " 823: 'society',\n",
       " 824: 'likely',\n",
       " 825: 'gun',\n",
       " 826: 'prison',\n",
       " 827: 'understand',\n",
       " 828: 'scott',\n",
       " 829: 'seriously',\n",
       " 830: 'plan',\n",
       " 831: 'sweet',\n",
       " 832: 'dream',\n",
       " 833: 'above',\n",
       " 834: 'mess',\n",
       " 835: 'mars',\n",
       " 836: 'appear',\n",
       " 837: 'steve',\n",
       " 838: 'country',\n",
       " 839: 'non',\n",
       " 840: 'chase',\n",
       " 841: 'viewers',\n",
       " 842: 'ultimately',\n",
       " 843: 'keeps',\n",
       " 844: 'enjoyable',\n",
       " 845: 'key',\n",
       " 846: 'class',\n",
       " 847: 'trouble',\n",
       " 848: 'fails',\n",
       " 849: 'favorite',\n",
       " 850: 'frank',\n",
       " 851: 'happened',\n",
       " 852: 'leaves',\n",
       " 853: 'free',\n",
       " 854: 'silly',\n",
       " 855: 'impossible',\n",
       " 856: 'trek',\n",
       " 857: ('better', 'than'),\n",
       " 858: 'created',\n",
       " 859: 'heard',\n",
       " 860: 'west',\n",
       " 861: 'english',\n",
       " 862: 'subject',\n",
       " 863: 'element',\n",
       " 864: ('very', 'good'),\n",
       " 865: 'view',\n",
       " 866: 'truth',\n",
       " 867: 'sam',\n",
       " 868: 'felt',\n",
       " 869: ('even', 'if'),\n",
       " 870: 'cameron',\n",
       " 871: 'focus',\n",
       " 872: 'excellent',\n",
       " 873: ('their', 'own'),\n",
       " 874: 'agent',\n",
       " 875: 'effort',\n",
       " 876: 'realize',\n",
       " 877: 'haven',\n",
       " 878: 'unlike',\n",
       " 879: 'wanted',\n",
       " 880: 'depth',\n",
       " 881: 'talented',\n",
       " 882: 'stay',\n",
       " 883: 'sit',\n",
       " 884: 'otherwise',\n",
       " 885: 'heavy',\n",
       " 886: 'today',\n",
       " 887: 'fan',\n",
       " 888: 'air',\n",
       " 889: 'escape',\n",
       " 890: 'follows',\n",
       " 891: 'state',\n",
       " 892: ('scene', 'where'),\n",
       " 893: 'complex',\n",
       " 894: 'richard',\n",
       " 895: 'ex',\n",
       " 896: ('so', 'many'),\n",
       " 897: 'vampire',\n",
       " 898: 'exciting',\n",
       " 899: ('there', 'some'),\n",
       " 900: 'neither',\n",
       " 901: 'particular',\n",
       " 902: 'liked',\n",
       " 903: 'showing',\n",
       " 904: 'spend',\n",
       " 905: 'open',\n",
       " 906: 'entirely',\n",
       " 907: 'saying',\n",
       " 908: 'queen',\n",
       " 909: 'studio',\n",
       " 910: 'subtle',\n",
       " 911: ('turns', 'out'),\n",
       " 912: 'ridiculous',\n",
       " 913: 'joke',\n",
       " 914: 'overall',\n",
       " 915: 'quick',\n",
       " 916: 'inside',\n",
       " 917: 'stand',\n",
       " 918: 'jackson',\n",
       " 919: 'tim',\n",
       " 920: 'background',\n",
       " 921: 'humans',\n",
       " 922: 'whatever',\n",
       " 923: 'slightly',\n",
       " 924: 'bond',\n",
       " 925: 'dumb',\n",
       " 926: 'took',\n",
       " 927: 'purpose',\n",
       " 928: 'ten',\n",
       " 929: 'allen',\n",
       " 930: 'wedding',\n",
       " 931: 'various',\n",
       " 932: 'sister',\n",
       " 933: 'drug',\n",
       " 934: 'spent',\n",
       " 935: 'memorable',\n",
       " 936: 'six',\n",
       " 937: 'female',\n",
       " 938: 'situations',\n",
       " 939: 'ability',\n",
       " 940: 'moves',\n",
       " 941: 'nick',\n",
       " 942: 'tone',\n",
       " 943: 'earlier',\n",
       " 944: 'ideas',\n",
       " 945: 'further',\n",
       " 946: 'rated',\n",
       " 947: 'amusing',\n",
       " 948: 'produced',\n",
       " 949: 'college',\n",
       " 950: 'stone',\n",
       " 951: 'dull',\n",
       " 952: 'cannot',\n",
       " 953: 'dreams',\n",
       " 954: 'married',\n",
       " 955: ('other', 'than'),\n",
       " 956: 'totally',\n",
       " 957: 'reasons',\n",
       " 958: 'cinematography',\n",
       " 959: 'british',\n",
       " 960: 'longer',\n",
       " 961: 'double',\n",
       " 962: 'sci',\n",
       " 963: 'fi',\n",
       " 964: ('sci', 'fi'),\n",
       " 965: 'max',\n",
       " 966: 'terrible',\n",
       " 967: 'government',\n",
       " 968: 'highly',\n",
       " 969: 'thin',\n",
       " 970: 'typical',\n",
       " 971: ('but', 'still'),\n",
       " 972: 'political',\n",
       " 973: 'climax',\n",
       " 974: ('science', 'fiction'),\n",
       " 975: 'setting',\n",
       " 976: 'suddenly',\n",
       " 977: 'fairly',\n",
       " 978: 'hear',\n",
       " 979: 'convincing',\n",
       " 980: 'street',\n",
       " 981: 'fire',\n",
       " 982: 'army',\n",
       " 983: 'ask',\n",
       " 984: 'brief',\n",
       " 985: 'actual',\n",
       " 986: 'expected',\n",
       " 987: 'hold',\n",
       " 988: 'hate',\n",
       " 989: ('one', 'best'),\n",
       " 990: 'waste',\n",
       " 991: 'modern',\n",
       " 992: 'central',\n",
       " 993: 'approach',\n",
       " 994: 'recently',\n",
       " 995: 'pay',\n",
       " 996: 'private',\n",
       " 997: 'rating',\n",
       " 998: 'minor',\n",
       " 999: 'atmosphere',\n",
       " ...}"
      ]
     },
     "execution_count": 13,
     "metadata": {},
     "output_type": "execute_result"
    }
   ],
   "source": [
    "reference_dict = dict(enumerate(vocab))\n",
    "reference_dict"
   ]
  },
  {
   "cell_type": "markdown",
   "metadata": {},
   "source": [
    "Now you should be able to extract n-grams for each text in the training, development and test sets:"
   ]
  },
  {
   "cell_type": "code",
   "execution_count": 14,
   "metadata": {
    "ExecuteTime": {
     "end_time": "2020-03-17T02:48:37.077216Z",
     "start_time": "2020-03-17T02:48:32.759257Z"
    },
    "run_control": {
     "marked": true
    }
   },
   "outputs": [],
   "source": [
    "X_tr_ngram = [extract_ngrams(line,ngram_range=(1,3),stop_words=stop_words) for line in X_tr_raw]\n",
    "X_te_ngram = [extract_ngrams(line,ngram_range=(1,3),stop_words=stop_words) for line in X_te_raw]\n",
    "X_dev_ngram = [extract_ngrams(line,ngram_range=(1,3),stop_words=stop_words) for line in X_dev_raw]"
   ]
  },
  {
   "cell_type": "markdown",
   "metadata": {},
   "source": [
    "## Vectorise documents "
   ]
  },
  {
   "cell_type": "markdown",
   "metadata": {},
   "source": [
    "Next, write a function `vectoriser` to obtain Bag-of-ngram representations for a list of documents. The function should take as input:\n",
    "- `X_ngram`: a list of texts (documents), where each text is represented as list of n-grams in the `vocab`\n",
    "- `vocab`: a set of n-grams to be used for representing the documents\n",
    "\n",
    "and return:\n",
    "- `X_vec`: an array with dimensionality Nx|vocab| where N is the number of documents and |vocab| is the size of the vocabulary. Each element of the array should represent the frequency of a given n-gram in a document.\n"
   ]
  },
  {
   "cell_type": "code",
   "execution_count": 59,
   "metadata": {
    "ExecuteTime": {
     "end_time": "2020-03-15T03:57:07.510223Z",
     "start_time": "2020-03-15T03:57:07.502317Z"
    },
    "code_folding": [
     0
    ]
   },
   "outputs": [],
   "source": [
    "def vectorise(X_ngram, vocab):\n",
    "    '''1. select the features of vocab from X_ngram.\n",
    "       2. convert X_ngram into matrix\n",
    "\n",
    "    Args:\n",
    "        X_ngram(list of list): a list of texts (documents) features(Bag-of-ngram)\n",
    "        vocab(list): a set of selected features(n-grams)\n",
    "\n",
    "    Returns:\n",
    "        X_vec: an array shapes (#document,#vocab), where document is a single line\n",
    "            in dataset.\n",
    "    '''\n",
    "\n",
    "    X_vec = np.zeros([len(X_ngram),len(vocab)])\n",
    "    for docs_index in range(len(X_ngram)):\n",
    "        for feature_index in range(len(vocab)):\n",
    "            X_vec[docs_index,feature_index] = Counter(X_ngram[docs_index]).get(reference_dict[feature_index],0)\n",
    "    return X_vec"
   ]
  },
  {
   "cell_type": "code",
   "execution_count": 15,
   "metadata": {
    "ExecuteTime": {
     "end_time": "2020-03-17T02:48:37.107530Z",
     "start_time": "2020-03-17T02:48:37.092033Z"
    },
    "code_folding": [
     0
    ],
    "run_control": {
     "marked": true
    }
   },
   "outputs": [],
   "source": [
    "def vectorise(X_ngram, vocab):\n",
    "    '''1. select the features of vocab from X_ngram.\n",
    "       2. convert X_ngram into matrix\n",
    "\n",
    "    Args:\n",
    "        X_ngram(list of list): a list of texts (documents) features(Bag-of-ngram)\n",
    "        vocab(list): a set of selected features(n-grams)\n",
    "\n",
    "    Returns:\n",
    "        X_vec: an array shapes (#document,#vocab), where document is a single line\n",
    "            in dataset.\n",
    "    '''\n",
    "\n",
    "    X_vec = np.zeros([len(X_ngram),len(vocab)])\n",
    "    for docs_index in range(len(X_ngram)):\n",
    "        temp = Counter(X_ngram[docs_index])\n",
    "        for feature_index in range(len(vocab)):\n",
    "            X_vec[docs_index,feature_index] = temp.get(vocab[feature_index],0)\n",
    "    return X_vec"
   ]
  },
  {
   "cell_type": "markdown",
   "metadata": {},
   "source": [
    "Finally, use `vectorise` to obtain document vectors for each document in the train, development and test set. You should extract both count and tf.idf vectors respectively:"
   ]
  },
  {
   "cell_type": "markdown",
   "metadata": {},
   "source": [
    "#### Count vectors"
   ]
  },
  {
   "cell_type": "code",
   "execution_count": 16,
   "metadata": {
    "ExecuteTime": {
     "end_time": "2020-03-17T02:48:47.782391Z",
     "start_time": "2020-03-17T02:48:37.173075Z"
    },
    "run_control": {
     "marked": true
    }
   },
   "outputs": [],
   "source": [
    "# fill in your code...\n",
    "X_tr_count = vectorise(X_tr_ngram, vocab)\n",
    "X_te_count = vectorise(X_te_ngram, vocab)\n",
    "X_dev_count = vectorise(X_dev_ngram, vocab)"
   ]
  },
  {
   "cell_type": "code",
   "execution_count": 17,
   "metadata": {
    "ExecuteTime": {
     "end_time": "2020-03-17T02:48:47.816073Z",
     "start_time": "2020-03-17T02:48:47.803938Z"
    },
    "run_control": {
     "marked": true
    }
   },
   "outputs": [
    {
     "data": {
      "text/plain": [
       "(1400, 5000)"
      ]
     },
     "execution_count": 17,
     "metadata": {},
     "output_type": "execute_result"
    }
   ],
   "source": [
    "X_tr_count.shape"
   ]
  },
  {
   "cell_type": "code",
   "execution_count": 18,
   "metadata": {
    "ExecuteTime": {
     "end_time": "2020-03-17T02:48:47.890540Z",
     "start_time": "2020-03-17T02:48:47.877781Z"
    },
    "run_control": {
     "marked": true
    }
   },
   "outputs": [
    {
     "data": {
      "text/plain": [
       "array([[20.,  6.,  8.,  0.,  4.,  1.,  1.,  0.,  3.,  1.,  1.,  1.,  0.,\n",
       "         0.,  6.,  1.,  2.,  1.,  2.,  0.,  3.,  4.,  1.,  1.,  0.,  1.,\n",
       "         4.,  2.,  1.,  3.,  1.,  3.,  0.,  0.,  1.,  0.,  4.,  0.,  0.,\n",
       "         2.,  1.,  0.,  0.,  0.,  0.,  1.,  0.,  3.,  2.,  1.],\n",
       "       [ 6.,  2.,  5.,  0.,  2.,  4.,  2.,  3.,  3.,  2.,  2.,  3.,  4.,\n",
       "         0.,  0.,  2.,  0.,  2.,  2.,  5.,  0.,  0.,  1.,  3.,  2.,  1.,\n",
       "         2.,  2.,  4.,  1.,  1.,  5.,  1.,  1.,  1.,  0.,  0.,  1.,  0.,\n",
       "         0.,  1.,  0.,  1.,  2.,  1.,  0.,  2.,  3.,  0.,  1.]])"
      ]
     },
     "execution_count": 18,
     "metadata": {},
     "output_type": "execute_result"
    }
   ],
   "source": [
    "X_tr_count[:2,:50]"
   ]
  },
  {
   "cell_type": "code",
   "execution_count": 16,
   "metadata": {
    "ExecuteTime": {
     "end_time": "2020-02-15T14:17:42.010525Z",
     "start_time": "2020-02-15T14:17:42.006309Z"
    },
    "run_control": {
     "marked": false
    }
   },
   "outputs": [
    {
     "data": {
      "text/plain": [
       "array([[0., 0., 0., 0., 0., 0., 0., 0., 0., 1., 0., 1., 0., 0., 1., 0.,\n",
       "        0., 0., 1., 0., 0., 0., 0., 0., 0., 0., 1., 0., 0., 0., 1., 0.,\n",
       "        0., 0., 0., 0., 0., 0., 0., 0., 0., 0., 0., 0., 0., 0., 0., 0.,\n",
       "        0., 0.],\n",
       "       [0., 0., 0., 1., 0., 0., 0., 2., 0., 0., 0., 0., 0., 0., 0., 1.,\n",
       "        0., 0., 0., 0., 0., 0., 0., 0., 0., 0., 0., 0., 0., 0., 0., 0.,\n",
       "        0., 0., 0., 0., 0., 0., 0., 0., 0., 0., 0., 0., 1., 0., 0., 0.,\n",
       "        0., 0.]])"
      ]
     },
     "execution_count": 16,
     "metadata": {},
     "output_type": "execute_result"
    }
   ],
   "source": [
    "X_tr_count[:2,:50]"
   ]
  },
  {
   "cell_type": "markdown",
   "metadata": {},
   "source": [
    "#### TF.IDF vectors\n",
    "\n",
    "First compute `idfs` an array containing inverted document frequencies (Note: its elements should correspond to your `vocab`)"
   ]
  },
  {
   "cell_type": "code",
   "execution_count": 19,
   "metadata": {
    "ExecuteTime": {
     "end_time": "2020-03-17T02:48:47.979135Z",
     "start_time": "2020-03-17T02:48:47.956713Z"
    },
    "run_control": {
     "marked": true
    }
   },
   "outputs": [],
   "source": [
    "def get_idfs(vocab,D):\n",
    "    idfs = np.zeros(len(vocab))\n",
    "    for i in range(len(vocab)):\n",
    "        idfs[i] = df[vocab[i]]\n",
    "    idfs = np.log10(D/idfs)\n",
    "    #idfs = np.log(D/idfs)\n",
    "    return idfs\n",
    "\n",
    "idfs = get_idfs(vocab,len(X_tr_raw))"
   ]
  },
  {
   "cell_type": "code",
   "execution_count": 19,
   "metadata": {
    "ExecuteTime": {
     "end_time": "2020-03-15T22:57:02.279064Z",
     "start_time": "2020-03-15T22:57:02.246949Z"
    },
    "run_control": {
     "marked": false
    }
   },
   "outputs": [],
   "source": [
    "idfs = np.zeros(len(vocab))\n",
    "for i in range(len(vocab)):\n",
    "    idfs[i] = df[vocab[i]]\n",
    "idfs = np.log10(len(X_tr_raw)/idfs)"
   ]
  },
  {
   "cell_type": "code",
   "execution_count": 20,
   "metadata": {
    "ExecuteTime": {
     "end_time": "2020-03-17T02:48:48.015105Z",
     "start_time": "2020-03-17T02:48:47.997630Z"
    },
    "run_control": {
     "marked": true
    }
   },
   "outputs": [
    {
     "data": {
      "text/plain": [
       "array([0.05586998, 0.02097221, 0.05026158, ..., 1.84509804, 1.84509804,\n",
       "       1.86737443])"
      ]
     },
     "execution_count": 20,
     "metadata": {},
     "output_type": "execute_result"
    }
   ],
   "source": [
    "idfs"
   ]
  },
  {
   "cell_type": "markdown",
   "metadata": {},
   "source": [
    "Then transform your count vectors to tf.idf vectors:"
   ]
  },
  {
   "cell_type": "code",
   "execution_count": 21,
   "metadata": {
    "ExecuteTime": {
     "end_time": "2020-03-16T01:04:37.761169Z",
     "start_time": "2020-03-16T01:04:37.695289Z"
    },
    "run_control": {
     "marked": false
    }
   },
   "outputs": [],
   "source": [
    "X_tr_tfidf = X_tr_count*idfs\n",
    "X_te_tfidf = X_te_count*get_idfs(vocab,len(X_te_raw))\n",
    "X_dev_tfidf = X_dev_count*get_idfs(vocab,len(X_dev_raw))"
   ]
  },
  {
   "cell_type": "code",
   "execution_count": 21,
   "metadata": {
    "ExecuteTime": {
     "end_time": "2020-03-17T02:48:48.132055Z",
     "start_time": "2020-03-17T02:48:48.079664Z"
    },
    "run_control": {
     "marked": true
    }
   },
   "outputs": [],
   "source": [
    "X_tr_tfidf = X_tr_count*idfs\n",
    "X_te_tfidf = X_te_count*idfs\n",
    "X_dev_tfidf = X_dev_count*idfs"
   ]
  },
  {
   "cell_type": "code",
   "execution_count": 22,
   "metadata": {
    "ExecuteTime": {
     "end_time": "2020-03-17T02:48:48.167968Z",
     "start_time": "2020-03-17T02:48:48.153291Z"
    },
    "run_control": {
     "marked": true
    }
   },
   "outputs": [
    {
     "data": {
      "text/plain": [
       "array([0.3352199 , 0.04194441, 0.25130791, 0.        , 0.15588435,\n",
       "       0.39229945, 0.2531927 , 0.38353118, 0.37854406, 0.22540856,\n",
       "       0.28361332, 0.38728409, 0.55011146, 0.        , 0.        ,\n",
       "       0.32320144, 0.        , 0.34692489, 0.36468042, 1.24525516,\n",
       "       0.        , 0.        , 0.21927133, 0.55839959, 0.40923321,\n",
       "       0.22967409, 0.43239695, 0.52266534, 1.06583532, 0.25626631,\n",
       "       0.24195367, 1.37569611, 0.26818108, 0.26076682, 0.2699102 ,\n",
       "       0.        , 0.        , 0.25794854, 0.        , 0.        ,\n",
       "       0.30664999, 0.        , 0.34472433, 0.59341724, 0.29609478,\n",
       "       0.        , 0.67313664, 0.94469503, 0.        , 0.32395996])"
      ]
     },
     "execution_count": 22,
     "metadata": {},
     "output_type": "execute_result"
    }
   ],
   "source": [
    "X_tr_tfidf[1,:50]"
   ]
  },
  {
   "cell_type": "code",
   "execution_count": 19,
   "metadata": {
    "ExecuteTime": {
     "end_time": "2020-02-15T14:17:43.211619Z",
     "start_time": "2020-02-15T14:17:43.207266Z"
    },
    "run_control": {
     "marked": false
    }
   },
   "outputs": [
    {
     "data": {
      "text/plain": [
       "array([0.        , 0.        , 0.        , 2.24028121, 0.        ,\n",
       "       0.        , 0.        , 5.67501654, 0.        , 0.        ,\n",
       "       0.        , 0.        , 0.        , 0.        , 0.        ,\n",
       "       2.47354289, 0.        , 0.        , 0.        , 0.        ,\n",
       "       0.        , 0.        , 0.        , 0.        , 0.        ,\n",
       "       0.        , 0.        , 0.        , 0.        , 0.        ,\n",
       "       0.        , 0.        , 0.        , 0.        , 0.        ,\n",
       "       0.        , 0.        , 0.        , 0.        , 0.        ,\n",
       "       0.        , 0.        , 0.        , 0.        , 2.56209629,\n",
       "       0.        , 0.        , 0.        , 0.        , 0.        ])"
      ]
     },
     "execution_count": 19,
     "metadata": {},
     "output_type": "execute_result"
    }
   ],
   "source": [
    "X_tr_tfidf[1,:50]"
   ]
  },
  {
   "cell_type": "markdown",
   "metadata": {},
   "source": [
    "# Binary Logistic Regression\n",
    "\n",
    "After obtaining vector representations of the data, now you are ready to implement Binary Logistic Regression for classifying sentiment."
   ]
  },
  {
   "cell_type": "markdown",
   "metadata": {},
   "source": [
    "First, you need to implement the `sigmoid` function. It takes as input:\n",
    "\n",
    "- `z`: a real number or an array of real numbers \n",
    "\n",
    "and returns:\n",
    "\n",
    "- `sig`: the sigmoid of `z`"
   ]
  },
  {
   "cell_type": "code",
   "execution_count": 23,
   "metadata": {
    "ExecuteTime": {
     "end_time": "2020-03-17T02:48:48.238087Z",
     "start_time": "2020-03-17T02:48:48.231106Z"
    },
    "run_control": {
     "marked": true
    }
   },
   "outputs": [],
   "source": [
    "def sigmoid(z):\n",
    "    \n",
    "    # fill in your code...\n",
    "    z = 1 / (1 + np.exp(-z))\n",
    "    \n",
    "    return z"
   ]
  },
  {
   "cell_type": "code",
   "execution_count": 24,
   "metadata": {
    "ExecuteTime": {
     "end_time": "2020-03-17T02:48:48.267799Z",
     "start_time": "2020-03-17T02:48:48.256855Z"
    },
    "run_control": {
     "marked": true
    }
   },
   "outputs": [
    {
     "name": "stdout",
     "output_type": "stream",
     "text": [
      "0.5\n",
      "[0.00669285 0.76852478]\n"
     ]
    }
   ],
   "source": [
    "print(sigmoid(0)) \n",
    "print(sigmoid(np.array([-5., 1.2])))"
   ]
  },
  {
   "cell_type": "code",
   "execution_count": 21,
   "metadata": {
    "ExecuteTime": {
     "end_time": "2020-02-15T14:17:44.351292Z",
     "start_time": "2020-02-15T14:17:44.346822Z"
    },
    "run_control": {
     "marked": false
    }
   },
   "outputs": [
    {
     "name": "stdout",
     "output_type": "stream",
     "text": [
      "0.5\n",
      "[0.00669285 0.76852478]\n"
     ]
    }
   ],
   "source": [
    "print(sigmoid(0)) \n",
    "print(sigmoid(np.array([-5., 1.2])))"
   ]
  },
  {
   "cell_type": "markdown",
   "metadata": {},
   "source": [
    "Then, implement the `predict_proba` function to obtain prediction probabilities. It takes as input:\n",
    "\n",
    "- `X`: an array of inputs, i.e. documents represented by bag-of-ngram vectors ($N \\times |vocab|$)\n",
    "- `weights`: a 1-D array of the model's weights $(1, |vocab|)$\n",
    "\n",
    "and returns:\n",
    "\n",
    "- `preds_proba`: the prediction probabilities of X given the weights"
   ]
  },
  {
   "cell_type": "code",
   "execution_count": 25,
   "metadata": {
    "ExecuteTime": {
     "end_time": "2020-03-15T22:58:47.408812Z",
     "start_time": "2020-03-15T22:58:47.391340Z"
    },
    "code_folding": [
     0
    ],
    "run_control": {
     "marked": false
    }
   },
   "outputs": [],
   "source": [
    "def predict_proba(X, weights):\n",
    "    \n",
    "    # fill in your code...\n",
    "    preds_proba = X.dot(weights.T)\n",
    "    \n",
    "    assert preds_proba.shape == (X.shape[0],1)\n",
    "    return preds_proba"
   ]
  },
  {
   "cell_type": "code",
   "execution_count": 25,
   "metadata": {
    "ExecuteTime": {
     "end_time": "2020-03-17T02:48:48.295944Z",
     "start_time": "2020-03-17T02:48:48.288586Z"
    },
    "run_control": {
     "marked": true
    }
   },
   "outputs": [],
   "source": [
    "def predict_proba(X, weights):\n",
    "    \n",
    "    # fill in your code...\n",
    "    preds_proba = X.dot(weights.T)\n",
    "    \n",
    "    assert preds_proba.shape == (X.shape[0],1)\n",
    "    return sigmoid(preds_proba)"
   ]
  },
  {
   "cell_type": "markdown",
   "metadata": {},
   "source": [
    "Then, implement the `predict_class` function to obtain the most probable class for each vector in an array of input vectors. It takes as input:\n",
    "\n",
    "- `X`: an array of documents represented by bag-of-ngram vectors ($N \\times |vocab|$)\n",
    "- `weights`: a 1-D array of the model's weights $(1, |vocab|)$\n",
    "\n",
    "and returns:\n",
    "\n",
    "- `preds_class`: the predicted class for each x in X given the weights"
   ]
  },
  {
   "cell_type": "code",
   "execution_count": 26,
   "metadata": {
    "ExecuteTime": {
     "end_time": "2020-03-15T22:59:05.008878Z",
     "start_time": "2020-03-15T22:59:04.992116Z"
    },
    "code_folding": [
     0
    ],
    "run_control": {
     "marked": false
    }
   },
   "outputs": [],
   "source": [
    "def predict_class(X, weights):\n",
    "    \n",
    "    # fill in your code...\n",
    "    preds_proba = predict_proba(X, weights)\n",
    "    preds_class = sigmoid(preds_proba)\n",
    "    \n",
    "    assert preds_proba.shape == (X.shape[0],1)\n",
    "    return preds_class"
   ]
  },
  {
   "cell_type": "code",
   "execution_count": 26,
   "metadata": {
    "ExecuteTime": {
     "end_time": "2020-03-17T02:48:48.321120Z",
     "start_time": "2020-03-17T02:48:48.314023Z"
    },
    "run_control": {
     "marked": true
    }
   },
   "outputs": [],
   "source": [
    "def predict_class(X, weights):\n",
    "    \n",
    "    # fill in your code...\n",
    "    preds_proba = predict_proba(X, weights)\n",
    "    preds_class = np.where(preds_proba>=0.5,1,0)\n",
    "    \n",
    "    assert preds_class.shape == (X.shape[0],1)\n",
    "    return preds_class"
   ]
  },
  {
   "cell_type": "markdown",
   "metadata": {},
   "source": [
    "To learn the weights from data, we need to minimise the binary cross-entropy loss. Implement `binary_loss` that takes as input:\n",
    "\n",
    "- `X`: input vectors\n",
    "- `Y`: labels\n",
    "- `weights`: model weights\n",
    "- `alpha`: regularisation strength\n",
    "\n",
    "and return:\n",
    "\n",
    "- `l`: the loss score"
   ]
  },
  {
   "cell_type": "code",
   "execution_count": 27,
   "metadata": {
    "ExecuteTime": {
     "end_time": "2020-03-17T02:48:48.398494Z",
     "start_time": "2020-03-17T02:48:48.381839Z"
    },
    "run_control": {
     "marked": true
    }
   },
   "outputs": [],
   "source": [
    "def binary_loss(X, Y, weights, alpha=0.00001):\n",
    "    \n",
    "    # fill in your code...\n",
    "    eps = np.finfo(np.float64).eps\n",
    "    preds_proba = predict_proba(X, weights)\n",
    "    l = -1*(Y*np.log(preds_proba+eps) + (1-Y)*np.log(1-preds_proba+eps)) + alpha*np.dot(weights, weights.T)\n",
    "    l = np.mean(l)\n",
    "    assert l.shape == (1,1) or type(l) == np.float64\n",
    "    return l#.item()"
   ]
  },
  {
   "cell_type": "code",
   "execution_count": 28,
   "metadata": {
    "ExecuteTime": {
     "end_time": "2020-03-17T02:48:48.463950Z",
     "start_time": "2020-03-17T02:48:48.454665Z"
    },
    "run_control": {
     "marked": true
    }
   },
   "outputs": [],
   "source": [
    "def gradient(X, y, weights, alpha=0.00001):\n",
    "    m = len(X)\n",
    "    h = predict_proba(X, weights)\n",
    "    dw = np.dot((h - y).T,X) + 2*alpha*weights\n",
    "    assert dw.shape == weights.shape\n",
    "    return dw/m"
   ]
  },
  {
   "cell_type": "markdown",
   "metadata": {},
   "source": [
    "Now, you can implement Stochastic Gradient Descent to learn the weights of your sentiment classifier. The `SGD` function takes as input:\n",
    "\n",
    "- `X_tr`: array of training data (vectors)\n",
    "- `Y_tr`: labels of `X_tr`\n",
    "- `X_dev`: array of development (i.e. validation) data (vectors)\n",
    "- `Y_dev`: labels of `X_dev`\n",
    "- `lr`: learning rate\n",
    "- `alpha`: regularisation strength\n",
    "- `epochs`: number of full passes over the training data\n",
    "- `tolerance`: stop training if the difference between the current and previous validation loss is smaller than a threshold\n",
    "- `print_progress`: flag for printing the training progress (train/validation loss)\n",
    "\n",
    "\n",
    "and returns:\n",
    "\n",
    "- `weights`: the weights learned\n",
    "- `training_loss_history`: an array with the average losses of the whole training set after each epoch\n",
    "- `validation_loss_history`: an array with the average losses of the whole development set after each epoch"
   ]
  },
  {
   "cell_type": "code",
   "execution_count": 29,
   "metadata": {
    "ExecuteTime": {
     "end_time": "2020-03-17T02:48:48.502936Z",
     "start_time": "2020-03-17T02:48:48.481703Z"
    },
    "run_control": {
     "marked": true
    }
   },
   "outputs": [],
   "source": [
    "def SGD(X_tr, Y_tr, X_dev=[], Y_dev=[], loss=\"binary\", lr=0.1, alpha=0.00001, epochs=5, tolerance=0.0001, print_progress=True):\n",
    "    \n",
    "    cur_loss_tr = 1.\n",
    "    cur_loss_dev = 1.\n",
    "    training_loss_history = []\n",
    "    validation_loss_history = []\n",
    "    \n",
    "    # fill in your code...\n",
    "    \n",
    "    # Stage 1: Init weights\n",
    "    #weights = np.random.rand(1,X_tr.shape[1])\n",
    "    weights = np.zeros((1,X_tr.shape[1]))\n",
    "    \n",
    "    # Stage 2: Init stochastic value\n",
    "    idx_list = np.array(range(X_tr.shape[0]))\n",
    "    \n",
    "    # Stage 3: Training\n",
    "    for epoch in range(epochs):\n",
    "        loss_tr = 0\n",
    "        np.random.shuffle(idx_list) # disorder dataset\n",
    "        for i in idx_list:\n",
    "            X_tr_i, Y_tr_i = X_tr[i].reshape(1,-1),Y_tr[i].reshape(1,-1) # get a single data pair\n",
    "            dw = gradient(X_tr_i, Y_tr_i, weights, alpha=0.00001) # gradient\n",
    "            weights -= lr*dw # update\n",
    "            loss_tr += binary_loss(X_tr_i, Y_tr_i, weights, alpha) # add loss\n",
    "        \n",
    "        loss_dev = binary_loss(X_dev_count, Y_dev, weights, alpha)\n",
    "        loss_tr /= len(idx_list)\n",
    "        # Add history\n",
    "        if epoch != 0:\n",
    "            training_loss_history.append(loss_tr)\n",
    "            validation_loss_history.append(loss_dev)\n",
    "        if print_progress == True: \n",
    "            print(\"Epoch: %d| Training loss: %f| Validation loss: %f\"%(epoch,loss_tr,loss_dev))\n",
    "        if epoch >1 and abs(validation_loss_history[-2]-validation_loss_history[-1]) <= tolerance:\n",
    "            break\n",
    "\n",
    "    return weights, training_loss_history, validation_loss_history"
   ]
  },
  {
   "cell_type": "markdown",
   "metadata": {},
   "source": [
    "## Train and Evaluate Logistic Regression with Count vectors\n",
    "\n",
    "First train the model using SGD:"
   ]
  },
  {
   "cell_type": "code",
   "execution_count": 30,
   "metadata": {
    "ExecuteTime": {
     "end_time": "2020-03-17T02:49:11.332405Z",
     "start_time": "2020-03-17T02:48:48.559472Z"
    },
    "run_control": {
     "marked": true
    },
    "scrolled": true
   },
   "outputs": [
    {
     "name": "stdout",
     "output_type": "stream",
     "text": [
      "Epoch: 0| Training loss: 0.647158| Validation loss: 0.645848\n",
      "Epoch: 1| Training loss: 0.595668| Validation loss: 0.615715\n",
      "Epoch: 2| Training loss: 0.557648| Validation loss: 0.591798\n",
      "Epoch: 3| Training loss: 0.528472| Validation loss: 0.573981\n",
      "Epoch: 4| Training loss: 0.503147| Validation loss: 0.559685\n",
      "Epoch: 5| Training loss: 0.483934| Validation loss: 0.548086\n",
      "Epoch: 6| Training loss: 0.465848| Validation loss: 0.536478\n",
      "Epoch: 7| Training loss: 0.450339| Validation loss: 0.529121\n",
      "Epoch: 8| Training loss: 0.436697| Validation loss: 0.519159\n",
      "Epoch: 9| Training loss: 0.423920| Validation loss: 0.512635\n",
      "Epoch: 10| Training loss: 0.412226| Validation loss: 0.507803\n",
      "Epoch: 11| Training loss: 0.402159| Validation loss: 0.499537\n",
      "Epoch: 12| Training loss: 0.392460| Validation loss: 0.493738\n",
      "Epoch: 13| Training loss: 0.383287| Validation loss: 0.489462\n",
      "Epoch: 14| Training loss: 0.374888| Validation loss: 0.483776\n",
      "Epoch: 15| Training loss: 0.367036| Validation loss: 0.479605\n",
      "Epoch: 16| Training loss: 0.359240| Validation loss: 0.475610\n",
      "Epoch: 17| Training loss: 0.353018| Validation loss: 0.472079\n",
      "Epoch: 18| Training loss: 0.346523| Validation loss: 0.467730\n",
      "Epoch: 19| Training loss: 0.340336| Validation loss: 0.464675\n",
      "Epoch: 20| Training loss: 0.334482| Validation loss: 0.461429\n",
      "Epoch: 21| Training loss: 0.328903| Validation loss: 0.458760\n",
      "Epoch: 22| Training loss: 0.323423| Validation loss: 0.456134\n",
      "Epoch: 23| Training loss: 0.318430| Validation loss: 0.452926\n",
      "Epoch: 24| Training loss: 0.313110| Validation loss: 0.452436\n",
      "Epoch: 25| Training loss: 0.308999| Validation loss: 0.448149\n",
      "Epoch: 26| Training loss: 0.304182| Validation loss: 0.445910\n",
      "Epoch: 27| Training loss: 0.300048| Validation loss: 0.443782\n",
      "Epoch: 28| Training loss: 0.295873| Validation loss: 0.441624\n",
      "Epoch: 29| Training loss: 0.291232| Validation loss: 0.441429\n",
      "Epoch: 30| Training loss: 0.288064| Validation loss: 0.437860\n",
      "Epoch: 31| Training loss: 0.284230| Validation loss: 0.436060\n",
      "Epoch: 32| Training loss: 0.280429| Validation loss: 0.435505\n",
      "Epoch: 33| Training loss: 0.277116| Validation loss: 0.432932\n",
      "Epoch: 34| Training loss: 0.273744| Validation loss: 0.431435\n",
      "Epoch: 35| Training loss: 0.270501| Validation loss: 0.429887\n",
      "Epoch: 36| Training loss: 0.267349| Validation loss: 0.428416\n",
      "Epoch: 37| Training loss: 0.264177| Validation loss: 0.427107\n",
      "Epoch: 38| Training loss: 0.261253| Validation loss: 0.425850\n",
      "Epoch: 39| Training loss: 0.258281| Validation loss: 0.424560\n",
      "Epoch: 40| Training loss: 0.255537| Validation loss: 0.423346\n",
      "Epoch: 41| Training loss: 0.252716| Validation loss: 0.422174\n",
      "Epoch: 42| Training loss: 0.250096| Validation loss: 0.421096\n",
      "Epoch: 43| Training loss: 0.247477| Validation loss: 0.420057\n",
      "Epoch: 44| Training loss: 0.244842| Validation loss: 0.419052\n",
      "Epoch: 45| Training loss: 0.242508| Validation loss: 0.418039\n",
      "Epoch: 46| Training loss: 0.239998| Validation loss: 0.417336\n",
      "Epoch: 47| Training loss: 0.237706| Validation loss: 0.416408\n",
      "Epoch: 48| Training loss: 0.235383| Validation loss: 0.415412\n",
      "Epoch: 49| Training loss: 0.233166| Validation loss: 0.414622\n",
      "Epoch: 50| Training loss: 0.231014| Validation loss: 0.413727\n",
      "Epoch: 51| Training loss: 0.228887| Validation loss: 0.412972\n",
      "Epoch: 52| Training loss: 0.226751| Validation loss: 0.412192\n",
      "Epoch: 53| Training loss: 0.224680| Validation loss: 0.411430\n",
      "Epoch: 54| Training loss: 0.222689| Validation loss: 0.410868\n",
      "Epoch: 55| Training loss: 0.220712| Validation loss: 0.410300\n",
      "Epoch: 56| Training loss: 0.218973| Validation loss: 0.409421\n",
      "Epoch: 57| Training loss: 0.217037| Validation loss: 0.408782\n",
      "Epoch: 58| Training loss: 0.215238| Validation loss: 0.408138\n",
      "Epoch: 59| Training loss: 0.213397| Validation loss: 0.407516\n",
      "Epoch: 60| Training loss: 0.211624| Validation loss: 0.407040\n",
      "Epoch: 61| Training loss: 0.209885| Validation loss: 0.406430\n",
      "Epoch: 62| Training loss: 0.208149| Validation loss: 0.405946\n",
      "Epoch: 63| Training loss: 0.206545| Validation loss: 0.405413\n",
      "Epoch: 64| Training loss: 0.204817| Validation loss: 0.404949\n",
      "Epoch: 65| Training loss: 0.203273| Validation loss: 0.404467\n",
      "Epoch: 66| Training loss: 0.201760| Validation loss: 0.404025\n",
      "Epoch: 67| Training loss: 0.200177| Validation loss: 0.403576\n",
      "Epoch: 68| Training loss: 0.198766| Validation loss: 0.403008\n",
      "Epoch: 69| Training loss: 0.197278| Validation loss: 0.402561\n",
      "Epoch: 70| Training loss: 0.195721| Validation loss: 0.402358\n",
      "Epoch: 71| Training loss: 0.194237| Validation loss: 0.401988\n",
      "Epoch: 72| Training loss: 0.193067| Validation loss: 0.401333\n",
      "Epoch: 73| Training loss: 0.191551| Validation loss: 0.401108\n",
      "Epoch: 74| Training loss: 0.190187| Validation loss: 0.400623\n",
      "Epoch: 75| Training loss: 0.188921| Validation loss: 0.400236\n",
      "Epoch: 76| Training loss: 0.187620| Validation loss: 0.399909\n",
      "Epoch: 77| Training loss: 0.186275| Validation loss: 0.399634\n",
      "Epoch: 78| Training loss: 0.185068| Validation loss: 0.399261\n",
      "Epoch: 79| Training loss: 0.183827| Validation loss: 0.398927\n",
      "Epoch: 80| Training loss: 0.182588| Validation loss: 0.398623\n",
      "Epoch: 81| Training loss: 0.181398| Validation loss: 0.398321\n",
      "Epoch: 82| Training loss: 0.180130| Validation loss: 0.398204\n",
      "Epoch: 83| Training loss: 0.178993| Validation loss: 0.397802\n",
      "Epoch: 84| Training loss: 0.177713| Validation loss: 0.397831\n"
     ]
    }
   ],
   "source": [
    "w_count, loss_tr_count, dev_loss_count = SGD(X_tr_count, Y_tr, \n",
    "                                             X_dev=X_dev_count, \n",
    "                                             Y_dev=Y_dev, \n",
    "                                             lr=0.0001, \n",
    "                                             alpha=0.001, \n",
    "                                             epochs=100)"
   ]
  },
  {
   "cell_type": "code",
   "execution_count": 26,
   "metadata": {
    "ExecuteTime": {
     "end_time": "2020-02-15T14:17:51.480197Z",
     "start_time": "2020-02-15T14:17:46.362729Z"
    },
    "run_control": {
     "marked": false
    },
    "scrolled": true
   },
   "outputs": [
    {
     "name": "stderr",
     "output_type": "stream",
     "text": [
      "/anaconda3/lib/python3.7/site-packages/ipykernel_launcher.py:50: DeprecationWarning: elementwise == comparison failed; this will raise an error in the future.\n"
     ]
    },
    {
     "name": "stdout",
     "output_type": "stream",
     "text": [
      "Epoch: 0| Training loss: 0.6281849626714022| Validation loss: 0.6459904270912492\n",
      "Epoch: 1| Training loss: 0.58394973349301| Validation loss: 0.615917609244642\n",
      "Epoch: 2| Training loss: 0.5505425987370951| Validation loss: 0.5920179207204117\n",
      "Epoch: 3| Training loss: 0.5239076409919164| Validation loss: 0.5742090121213917\n",
      "Epoch: 4| Training loss: 0.500731542158432| Validation loss: 0.5599256616458367\n",
      "Epoch: 5| Training loss: 0.481386614351927| Validation loss: 0.5483399203516909\n",
      "Epoch: 6| Training loss: 0.46462260481387196| Validation loss: 0.536726260641603\n",
      "Epoch: 7| Training loss: 0.4500982582962053| Validation loss: 0.5293935827417584\n",
      "Epoch: 8| Training loss: 0.4361300598154409| Validation loss: 0.5194135185643873\n",
      "Epoch: 9| Training loss: 0.42421092133995136| Validation loss: 0.5128852380111468\n",
      "Epoch: 10| Training loss: 0.41424666156856305| Validation loss: 0.5081058150491683\n",
      "Epoch: 11| Training loss: 0.40290405763261916| Validation loss: 0.4998331750481731\n",
      "Epoch: 12| Training loss: 0.39344726405965164| Validation loss: 0.4940158979403169\n",
      "Epoch: 13| Training loss: 0.38503789030766256| Validation loss: 0.48976802503845507\n",
      "Epoch: 14| Training loss: 0.37654890135179875| Validation loss: 0.484037098115325\n",
      "Epoch: 15| Training loss: 0.36894058100253413| Validation loss: 0.4798610532741002\n",
      "Epoch: 16| Training loss: 0.3617911351634668| Validation loss: 0.47588612765070365\n",
      "Epoch: 17| Training loss: 0.3551265404206662| Validation loss: 0.47234842804380855\n",
      "Epoch: 18| Training loss: 0.3486529010996841| Validation loss: 0.46797755621787246\n",
      "Epoch: 19| Training loss: 0.34244316989524753| Validation loss: 0.464938665019058\n",
      "Epoch: 20| Training loss: 0.3366343015770723| Validation loss: 0.4616842926731529\n",
      "Epoch: 21| Training loss: 0.3312023236130169| Validation loss: 0.4590262056110472\n",
      "Epoch: 22| Training loss: 0.3260007588631569| Validation loss: 0.4563979800942745\n",
      "Epoch: 23| Training loss: 0.32083959589960936| Validation loss: 0.45317017998003734\n",
      "Epoch: 24| Training loss: 0.31705059120551277| Validation loss: 0.4527182622861437\n",
      "Epoch: 25| Training loss: 0.31137245815884257| Validation loss: 0.4484012987783105\n",
      "Epoch: 26| Training loss: 0.3069467760380594| Validation loss: 0.4461629481765205\n",
      "Epoch: 27| Training loss: 0.30267985376747814| Validation loss: 0.4440273276849877\n",
      "Epoch: 28| Training loss: 0.298560387521571| Validation loss: 0.4418603123640002\n",
      "Epoch: 29| Training loss: 0.29558254986979837| Validation loss: 0.44172617207437204\n",
      "Epoch: 30| Training loss: 0.29078322582916094| Validation loss: 0.4380952460056868\n",
      "Epoch: 31| Training loss: 0.28718417285149966| Validation loss: 0.4362850387634425\n",
      "Epoch: 32| Training loss: 0.28408560988552123| Validation loss: 0.43577239283434904\n",
      "Epoch: 33| Training loss: 0.28009737012982255| Validation loss: 0.4331545678568254\n",
      "Epoch: 34| Training loss: 0.2767640337246711| Validation loss: 0.431657490301419\n",
      "Epoch: 35| Training loss: 0.27350820080571875| Validation loss: 0.43010420069230215\n",
      "Epoch: 36| Training loss: 0.27036735251938776| Validation loss: 0.42862832552853375\n",
      "Epoch: 37| Training loss: 0.2673211984298023| Validation loss: 0.42731624333970303\n",
      "Epoch: 38| Training loss: 0.2643682626690211| Validation loss: 0.4260636123942821\n",
      "Epoch: 39| Training loss: 0.2615143553313424| Validation loss: 0.4247602930846561\n",
      "Epoch: 40| Training loss: 0.25872058410623594| Validation loss: 0.4235425412009785\n",
      "Epoch: 41| Training loss: 0.2560177969586485| Validation loss: 0.42236637774851515\n",
      "Epoch: 42| Training loss: 0.2533546845784477| Validation loss: 0.42128448240471866\n",
      "Epoch: 43| Training loss: 0.2507883305559025| Validation loss: 0.4202410832783033\n",
      "Epoch: 44| Training loss: 0.24825701835297637| Validation loss: 0.41923554264174134\n",
      "Epoch: 45| Training loss: 0.2458218689350721| Validation loss: 0.41821537954238325\n",
      "Epoch: 46| Training loss: 0.2435181956552816| Validation loss: 0.4175138038837945\n",
      "Epoch: 47| Training loss: 0.241183986857215| Validation loss: 0.4165877792887614\n",
      "Epoch: 48| Training loss: 0.2389589545183026| Validation loss: 0.41557310746919895\n",
      "Epoch: 49| Training loss: 0.23680171011929335| Validation loss: 0.4147816507167802\n",
      "Epoch: 50| Training loss: 0.23450601755766678| Validation loss: 0.41387587000162357\n",
      "Epoch: 51| Training loss: 0.23247124983002218| Validation loss: 0.4131240893983248\n",
      "Epoch: 52| Training loss: 0.23033786650938054| Validation loss: 0.41233527047381\n",
      "Epoch: 53| Training loss: 0.2282567887396891| Validation loss: 0.41156614941290953\n",
      "Epoch: 54| Training loss: 0.22647270304097009| Validation loss: 0.41099267683408564\n",
      "Epoch: 55| Training loss: 0.2246358767100557| Validation loss: 0.41042708711540626\n",
      "Epoch: 56| Training loss: 0.22246017419395409| Validation loss: 0.40954002861607436\n",
      "Epoch: 57| Training loss: 0.22060668292241928| Validation loss: 0.40889556239058955\n",
      "Epoch: 58| Training loss: 0.2187885160668603| Validation loss: 0.4082432051363766\n",
      "Epoch: 59| Training loss: 0.2170224169340236| Validation loss: 0.4076163788242318\n",
      "Epoch: 60| Training loss: 0.21530320470315473| Validation loss: 0.40713880258386625\n",
      "Epoch: 61| Training loss: 0.21357932142988068| Validation loss: 0.4065210097418873\n",
      "Epoch: 62| Training loss: 0.21191185411079208| Validation loss: 0.4060224089558166\n",
      "Epoch: 63| Training loss: 0.21032271463596797| Validation loss: 0.4054921850332128\n",
      "Epoch: 64| Training loss: 0.2087609426053154| Validation loss: 0.40501547722330933\n",
      "Epoch: 65| Training loss: 0.2071890996095131| Validation loss: 0.4045265690542238\n",
      "Epoch: 66| Training loss: 0.20560751820427933| Validation loss: 0.4040820565490143\n",
      "Epoch: 67| Training loss: 0.20406864906806577| Validation loss: 0.40361262444820656\n",
      "Epoch: 68| Training loss: 0.2025156464996579| Validation loss: 0.4030518995290221\n",
      "Epoch: 69| Training loss: 0.2010378950218318| Validation loss: 0.4025949361740047\n",
      "Epoch: 70| Training loss: 0.1997728849127573| Validation loss: 0.4023991394978512\n",
      "Epoch: 71| Training loss: 0.19841801966004854| Validation loss: 0.40200966293582197\n",
      "Epoch: 72| Training loss: 0.1968157840876145| Validation loss: 0.4013443623862235\n",
      "Epoch: 73| Training loss: 0.19555410813697371| Validation loss: 0.4011169859186285\n",
      "Epoch: 74| Training loss: 0.19413924871716362| Validation loss: 0.4006309698407786\n",
      "Epoch: 75| Training loss: 0.19278085382790883| Validation loss: 0.40022613590881917\n",
      "Epoch: 76| Training loss: 0.1914947308475946| Validation loss: 0.3998871578256288\n",
      "Epoch: 77| Training loss: 0.190261922351623| Validation loss: 0.39960823107953586\n",
      "Epoch: 78| Training loss: 0.18896911417129283| Validation loss: 0.39922627783002923\n",
      "Epoch: 79| Training loss: 0.1877191702258717| Validation loss: 0.3988834207898679\n",
      "Epoch: 80| Training loss: 0.18650134006367705| Validation loss: 0.3985725136186029\n",
      "Epoch: 81| Training loss: 0.1853023306621783| Validation loss: 0.3982626757047629\n",
      "Epoch: 82| Training loss: 0.18425246300322776| Validation loss: 0.3981454498168277\n",
      "Epoch: 83| Training loss: 0.18298816020164818| Validation loss: 0.39772399858098695\n"
     ]
    }
   ],
   "source": [
    "w_count, loss_tr_count, dev_loss_count = SGD(X_tr_count, Y_tr, \n",
    "                                             X_dev=X_dev_count, \n",
    "                                             Y_dev=Y_dev, \n",
    "                                             lr=0.0001, \n",
    "                                             alpha=0.001, \n",
    "                                             epochs=100)"
   ]
  },
  {
   "cell_type": "markdown",
   "metadata": {},
   "source": [
    "Now plot the training and validation history per epoch. Does your model underfit, overfit or is it about right? Explain why."
   ]
  },
  {
   "cell_type": "code",
   "execution_count": 31,
   "metadata": {
    "ExecuteTime": {
     "end_time": "2020-03-17T02:49:11.621926Z",
     "start_time": "2020-03-17T02:49:11.350332Z"
    },
    "cell_style": "split",
    "run_control": {
     "marked": true
    }
   },
   "outputs": [
    {
     "data": {
      "image/png": "[encoded data removed]",
      "text/plain": [
       "<Figure size 432x288 with 1 Axes>"
      ]
     },
     "metadata": {
      "needs_background": "light"
     },
     "output_type": "display_data"
    }
   ],
   "source": [
    "%matplotlib inline\n",
    "fig = plt.figure()\n",
    "plt.plot(range(len(loss_tr_count)),loss_tr_count,label='training loss')\n",
    "plt.plot(range(len(dev_loss_count)),dev_loss_count,label='validation loss')\n",
    "\n",
    "plt.xlabel('Epochs')\n",
    "plt.ylabel('Loss')\n",
    "plt.title('Training Monitoring')\n",
    "\n",
    "plt.legend()\n",
    "plt.show()"
   ]
  },
  {
   "cell_type": "code",
   "execution_count": 27,
   "metadata": {
    "ExecuteTime": {
     "end_time": "2020-02-15T14:17:51.598911Z",
     "start_time": "2020-02-15T14:17:51.482307Z"
    },
    "cell_style": "split",
    "run_control": {
     "marked": false
    }
   },
   "outputs": [
    {
     "data": {
      "image/png": "[encoded data removed]",
      "text/plain": [
       "<Figure size 432x288 with 1 Axes>"
      ]
     },
     "metadata": {
      "needs_background": "light"
     },
     "output_type": "display_data"
    }
   ],
   "source": []
  },
  {
   "cell_type": "markdown",
   "metadata": {
    "ExecuteTime": {
     "end_time": "2020-01-21T16:52:26.583150Z",
     "start_time": "2020-01-21T16:52:26.578754Z"
    }
   },
   "source": [
    "Explain here..."
   ]
  },
  {
   "cell_type": "markdown",
   "metadata": {},
   "source": [
    "Compute accuracy, precision, recall and F1-scores:"
   ]
  },
  {
   "cell_type": "code",
   "execution_count": 32,
   "metadata": {
    "ExecuteTime": {
     "end_time": "2020-03-17T02:49:11.681583Z",
     "start_time": "2020-03-17T02:49:11.647803Z"
    },
    "code_folding": [],
    "run_control": {
     "marked": true
    }
   },
   "outputs": [
    {
     "name": "stdout",
     "output_type": "stream",
     "text": [
      "Accuracy: 0.835\n",
      "Precision: 0.8221153846153846\n",
      "Recall: 0.855\n",
      "F1-Score: 0.838235294117647\n"
     ]
    }
   ],
   "source": [
    "# fill in your code...\n",
    "preds_te_count = predict_class(X_te_count,w_count)\n",
    "\n",
    "print('Accuracy:', accuracy_score(Y_te,preds_te_count))\n",
    "print('Precision:', precision_score(Y_te,preds_te_count))\n",
    "print('Recall:', recall_score(Y_te,preds_te_count))\n",
    "print('F1-Score:', f1_score(Y_te,preds_te_count))"
   ]
  },
  {
   "cell_type": "markdown",
   "metadata": {},
   "source": [
    "Finally, print the top-10 words for the negative and positive class respectively."
   ]
  },
  {
   "cell_type": "code",
   "execution_count": 33,
   "metadata": {
    "ExecuteTime": {
     "end_time": "2020-03-17T02:49:11.752532Z",
     "start_time": "2020-03-17T02:49:11.739673Z"
    },
    "run_control": {
     "marked": true
    }
   },
   "outputs": [
    {
     "name": "stdout",
     "output_type": "stream",
     "text": [
      "['bad', 'unfortunately', 'only', 'script', 'worst', 'why', 'boring', 'plot', 'any', 'nothing']\n"
     ]
    }
   ],
   "source": [
    "# fill in your code...\n",
    "sorted_index = w_count.copy().flatten().argsort()\n",
    "top_neg_ngram = [vocab[i] for i in sorted_index[:10]]\n",
    "print(top_neg_ngram)"
   ]
  },
  {
   "cell_type": "code",
   "execution_count": 34,
   "metadata": {
    "ExecuteTime": {
     "end_time": "2020-03-17T02:49:11.843765Z",
     "start_time": "2020-03-17T02:49:11.828596Z"
    },
    "run_control": {
     "marked": true
    }
   },
   "outputs": [
    {
     "name": "stdout",
     "output_type": "stream",
     "text": [
      "['world', 'both', 'movies', 'life', 'many', 'also', 'fun', 'seen', 'well', 'great']\n"
     ]
    }
   ],
   "source": [
    "# fill in your code...\n",
    "top_pos_ngram = [vocab[i] for i in sorted_index[-10:]]\n",
    "print(top_pos_ngram)"
   ]
  },
  {
   "cell_type": "markdown",
   "metadata": {},
   "source": [
    "If we were to apply the classifier we've learned into a different domain such laptop reviews or restaurant reviews, do you think these features would generalise well? Can you propose what features the classifier could pick up as important in the new domain?"
   ]
  },
  {
   "cell_type": "markdown",
   "metadata": {},
   "source": [
    "Provide your answer here..."
   ]
  },
  {
   "cell_type": "markdown",
   "metadata": {},
   "source": [
    "## Train and Evaluate Logistic Regression with TF.IDF vectors\n",
    "\n",
    "Follow the same steps as above (i.e. evaluating count n-gram representations).\n"
   ]
  },
  {
   "cell_type": "code",
   "execution_count": 35,
   "metadata": {
    "ExecuteTime": {
     "end_time": "2020-03-17T02:49:24.808263Z",
     "start_time": "2020-03-17T02:49:11.910656Z"
    },
    "run_control": {
     "marked": true
    },
    "scrolled": true
   },
   "outputs": [
    {
     "name": "stdout",
     "output_type": "stream",
     "text": [
      "Epoch: 0| Training loss: 0.653642| Validation loss: 0.663066\n",
      "Epoch: 1| Training loss: 0.608030| Validation loss: 0.639611\n",
      "Epoch: 2| Training loss: 0.571176| Validation loss: 0.622584\n",
      "Epoch: 3| Training loss: 0.540431| Validation loss: 0.607222\n",
      "Epoch: 4| Training loss: 0.514026| Validation loss: 0.593081\n",
      "Epoch: 5| Training loss: 0.491017| Validation loss: 0.581390\n",
      "Epoch: 6| Training loss: 0.470833| Validation loss: 0.572181\n",
      "Epoch: 7| Training loss: 0.452772| Validation loss: 0.563780\n",
      "Epoch: 8| Training loss: 0.436503| Validation loss: 0.555586\n",
      "Epoch: 9| Training loss: 0.421777| Validation loss: 0.549104\n",
      "Epoch: 10| Training loss: 0.408304| Validation loss: 0.542270\n",
      "Epoch: 11| Training loss: 0.395902| Validation loss: 0.535561\n",
      "Epoch: 12| Training loss: 0.384459| Validation loss: 0.529559\n",
      "Epoch: 13| Training loss: 0.373820| Validation loss: 0.525842\n",
      "Epoch: 14| Training loss: 0.363925| Validation loss: 0.521522\n",
      "Epoch: 15| Training loss: 0.354639| Validation loss: 0.515795\n",
      "Epoch: 16| Training loss: 0.345950| Validation loss: 0.512209\n",
      "Epoch: 17| Training loss: 0.337742| Validation loss: 0.507650\n",
      "Epoch: 18| Training loss: 0.330027| Validation loss: 0.505104\n",
      "Epoch: 19| Training loss: 0.322706| Validation loss: 0.502374\n",
      "Epoch: 20| Training loss: 0.315752| Validation loss: 0.497696\n",
      "Epoch: 21| Training loss: 0.309197| Validation loss: 0.494817\n",
      "Epoch: 22| Training loss: 0.302920| Validation loss: 0.492743\n",
      "Epoch: 23| Training loss: 0.296933| Validation loss: 0.490446\n",
      "Epoch: 24| Training loss: 0.291232| Validation loss: 0.487381\n",
      "Epoch: 25| Training loss: 0.285770| Validation loss: 0.484517\n",
      "Epoch: 26| Training loss: 0.280537| Validation loss: 0.482828\n",
      "Epoch: 27| Training loss: 0.275498| Validation loss: 0.479296\n",
      "Epoch: 28| Training loss: 0.270704| Validation loss: 0.476748\n",
      "Epoch: 29| Training loss: 0.266088| Validation loss: 0.475731\n",
      "Epoch: 30| Training loss: 0.261632| Validation loss: 0.473523\n",
      "Epoch: 31| Training loss: 0.257350| Validation loss: 0.471577\n",
      "Epoch: 32| Training loss: 0.253219| Validation loss: 0.470371\n",
      "Epoch: 33| Training loss: 0.249234| Validation loss: 0.468850\n",
      "Epoch: 34| Training loss: 0.245345| Validation loss: 0.465633\n",
      "Epoch: 35| Training loss: 0.241666| Validation loss: 0.465136\n",
      "Epoch: 36| Training loss: 0.238070| Validation loss: 0.463393\n",
      "Epoch: 37| Training loss: 0.234590| Validation loss: 0.461963\n",
      "Epoch: 38| Training loss: 0.231222| Validation loss: 0.461020\n",
      "Epoch: 39| Training loss: 0.227952| Validation loss: 0.459924\n",
      "Epoch: 40| Training loss: 0.224792| Validation loss: 0.458145\n",
      "Epoch: 41| Training loss: 0.221720| Validation loss: 0.457005\n",
      "Epoch: 42| Training loss: 0.218736| Validation loss: 0.456319\n",
      "Epoch: 43| Training loss: 0.215844| Validation loss: 0.454859\n",
      "Epoch: 44| Training loss: 0.213017| Validation loss: 0.452886\n",
      "Epoch: 45| Training loss: 0.210291| Validation loss: 0.452299\n",
      "Epoch: 46| Training loss: 0.207628| Validation loss: 0.451424\n",
      "Epoch: 47| Training loss: 0.205042| Validation loss: 0.450489\n",
      "Epoch: 48| Training loss: 0.202506| Validation loss: 0.448603\n",
      "Epoch: 49| Training loss: 0.200060| Validation loss: 0.447433\n"
     ]
    }
   ],
   "source": [
    "w_tfidf, trl, devl = SGD(X_tr_tfidf, Y_tr, \n",
    "                         X_dev=X_dev_tfidf, \n",
    "                         Y_dev=Y_dev, \n",
    "                         lr=0.0001, \n",
    "                         alpha=0.00001, \n",
    "                         epochs=50)"
   ]
  },
  {
   "cell_type": "markdown",
   "metadata": {},
   "source": [
    "Now plot the training and validation history per epoch. Does your model underfit, overfit or is it about right? Explain why."
   ]
  },
  {
   "cell_type": "code",
   "execution_count": 36,
   "metadata": {
    "ExecuteTime": {
     "end_time": "2020-03-17T02:49:25.259150Z",
     "start_time": "2020-03-17T02:49:24.837179Z"
    },
    "cell_style": "split",
    "run_control": {
     "marked": true
    }
   },
   "outputs": [
    {
     "data": {
      "image/png": "[encoded data removed]",
      "text/plain": [
       "<Figure size 432x288 with 1 Axes>"
      ]
     },
     "metadata": {
      "needs_background": "light"
     },
     "output_type": "display_data"
    }
   ],
   "source": [
    "%matplotlib inline\n",
    "fig = plt.figure()\n",
    "plt.plot(range(len(trl)),trl,label='training loss')\n",
    "plt.plot(range(len(devl)),devl,label='validation loss')\n",
    "\n",
    "plt.xlabel('Epochs')\n",
    "plt.ylabel('Loss')\n",
    "plt.title('Training Monitoring')\n",
    "\n",
    "plt.legend()\n",
    "plt.show()"
   ]
  },
  {
   "cell_type": "code",
   "execution_count": 32,
   "metadata": {
    "ExecuteTime": {
     "end_time": "2020-02-15T14:17:54.517668Z",
     "start_time": "2020-02-15T14:17:54.417118Z"
    },
    "cell_style": "split",
    "run_control": {
     "marked": false
    }
   },
   "outputs": [
    {
     "data": {
      "image/png": "[encoded data removed]",
      "text/plain": [
       "<Figure size 432x288 with 1 Axes>"
      ]
     },
     "metadata": {
      "needs_background": "light"
     },
     "output_type": "display_data"
    }
   ],
   "source": [
    "# fill in your code..."
   ]
  },
  {
   "cell_type": "markdown",
   "metadata": {},
   "source": [
    "Compute accuracy, precision, recall and F1-scores:"
   ]
  },
  {
   "cell_type": "code",
   "execution_count": 37,
   "metadata": {
    "ExecuteTime": {
     "end_time": "2020-03-17T02:49:25.322341Z",
     "start_time": "2020-03-17T02:49:25.286678Z"
    },
    "run_control": {
     "marked": true
    }
   },
   "outputs": [
    {
     "name": "stdout",
     "output_type": "stream",
     "text": [
      "Accuracy: 0.8525\n",
      "Precision: 0.8472906403940886\n",
      "Recall: 0.86\n",
      "F1-Score: 0.8535980148883374\n"
     ]
    }
   ],
   "source": [
    "# fill in your code...\n",
    "preds_te = predict_class(X_te_tfidf,w_tfidf)\n",
    "\n",
    "print('Accuracy:', accuracy_score(Y_te,preds_te))\n",
    "print('Precision:', precision_score(Y_te,preds_te))\n",
    "print('Recall:', recall_score(Y_te,preds_te))\n",
    "print('F1-Score:', f1_score(Y_te,preds_te))"
   ]
  },
  {
   "cell_type": "markdown",
   "metadata": {},
   "source": [
    "Print top-10 most positive and negative words:"
   ]
  },
  {
   "cell_type": "code",
   "execution_count": 38,
   "metadata": {
    "ExecuteTime": {
     "end_time": "2020-03-17T02:49:25.401744Z",
     "start_time": "2020-03-17T02:49:25.374113Z"
    },
    "run_control": {
     "marked": true
    }
   },
   "outputs": [
    {
     "name": "stdout",
     "output_type": "stream",
     "text": [
      "['bad', 'worst', 'boring', 'supposed', 'why', 'unfortunately', 'stupid', 'harry', 'ridiculous', 'nothing']\n"
     ]
    }
   ],
   "source": [
    "# fill in your code...\n",
    "sorted_index = w_tfidf.copy().flatten().argsort()\n",
    "top_neg_ngram = [vocab[i] for i in sorted_index[:10]]\n",
    "print(top_neg_ngram)"
   ]
  },
  {
   "cell_type": "code",
   "execution_count": 39,
   "metadata": {
    "ExecuteTime": {
     "end_time": "2020-03-17T02:49:25.473484Z",
     "start_time": "2020-03-17T02:49:25.458203Z"
    },
    "run_control": {
     "marked": true
    }
   },
   "outputs": [
    {
     "name": "stdout",
     "output_type": "stream",
     "text": [
      "['world', 'memorable', 'excellent', 'perfect', 'terrific', 'hilarious', 'perfectly', 'life', 'truman', 'great']\n"
     ]
    }
   ],
   "source": [
    "# fill in your code...\n",
    "top_pos_ngram = [vocab[i] for i in sorted_index[-10:]]\n",
    "print(top_pos_ngram)"
   ]
  },
  {
   "cell_type": "markdown",
   "metadata": {},
   "source": [
    "### Discuss how did you choose model hyperparameters (e.g. learning rate and regularisation strength)? What is the relation between training epochs and learning rate? How the regularisation strength affects performance?"
   ]
  },
  {
   "cell_type": "markdown",
   "metadata": {},
   "source": [
    "Enter your answer here..."
   ]
  },
  {
   "cell_type": "markdown",
   "metadata": {},
   "source": [
    "\n",
    "\n",
    "## Full Results\n",
    "\n",
    "Add here your results:\n",
    "\n",
    "| LR | Precision  | Recall  | F1-Score  |\n",
    "|:-:|:-:|:-:|:-:|\n",
    "| BOW-count  |0.822   |0.855   |0.838   |\n",
    "| BOW-tfidf  |0.847   |0.860   |0.853   |\n"
   ]
  },
  {
   "cell_type": "markdown",
   "metadata": {},
   "source": [
    "# Multi-class Logistic Regression \n",
    "\n",
    "Now you need to train a Multiclass Logistic Regression (MLR) Classifier by extending the Binary model you developed above. You will use the MLR model to perform topic classification on the AG news dataset consisting of three classes:"
   ]
  },
  {
   "cell_type": "markdown",
   "metadata": {},
   "source": [
    "- Class 1: World\n",
    "- Class 2: Sports\n",
    "- Class 3: Business"
   ]
  },
  {
   "cell_type": "markdown",
   "metadata": {},
   "source": [
    "You need to follow the same process as in Task 1 for data processing and feature extraction by reusing the functions you wrote."
   ]
  },
  {
   "cell_type": "code",
   "execution_count": 40,
   "metadata": {
    "ExecuteTime": {
     "end_time": "2020-03-17T02:49:25.554475Z",
     "start_time": "2020-03-17T02:49:25.494161Z"
    },
    "run_control": {
     "marked": true
    }
   },
   "outputs": [
    {
     "name": "stdout",
     "output_type": "stream",
     "text": [
      "Finish loading:\n",
      "\ttrain.csv\n",
      "\ttest.csv\n",
      "\tdev.csv\n"
     ]
    }
   ],
   "source": [
    "# fill in your code...\n",
    "Data = FileLoader('data_topic',names=['label','text'])\n",
    "\n",
    "data_tr = Data.train\n",
    "data_te = Data.test\n",
    "data_dev = Data.dev"
   ]
  },
  {
   "cell_type": "code",
   "execution_count": 41,
   "metadata": {
    "ExecuteTime": {
     "end_time": "2020-03-17T02:49:25.592818Z",
     "start_time": "2020-03-17T02:49:25.573535Z"
    },
    "run_control": {
     "marked": true
    }
   },
   "outputs": [
    {
     "data": {
      "text/html": [
       "<div>\n",
       "<style scoped>\n",
       "    .dataframe tbody tr th:only-of-type {\n",
       "        vertical-align: middle;\n",
       "    }\n",
       "\n",
       "    .dataframe tbody tr th {\n",
       "        vertical-align: top;\n",
       "    }\n",
       "\n",
       "    .dataframe thead th {\n",
       "        text-align: right;\n",
       "    }\n",
       "</style>\n",
       "<table border=\"1\" class=\"dataframe\">\n",
       "  <thead>\n",
       "    <tr style=\"text-align: right;\">\n",
       "      <th></th>\n",
       "      <th>label</th>\n",
       "      <th>text</th>\n",
       "    </tr>\n",
       "  </thead>\n",
       "  <tbody>\n",
       "    <tr>\n",
       "      <th>0</th>\n",
       "      <td>1</td>\n",
       "      <td>Reuters - Venezuelans turned out early\\and in ...</td>\n",
       "    </tr>\n",
       "    <tr>\n",
       "      <th>1</th>\n",
       "      <td>1</td>\n",
       "      <td>Reuters - South Korean police used water canno...</td>\n",
       "    </tr>\n",
       "    <tr>\n",
       "      <th>2</th>\n",
       "      <td>1</td>\n",
       "      <td>Reuters - Thousands of Palestinian\\prisoners i...</td>\n",
       "    </tr>\n",
       "    <tr>\n",
       "      <th>3</th>\n",
       "      <td>1</td>\n",
       "      <td>AFP - Sporadic gunfire and shelling took place...</td>\n",
       "    </tr>\n",
       "    <tr>\n",
       "      <th>4</th>\n",
       "      <td>1</td>\n",
       "      <td>AP - Dozens of Rwandan soldiers flew into Suda...</td>\n",
       "    </tr>\n",
       "  </tbody>\n",
       "</table>\n",
       "</div>"
      ],
      "text/plain": [
       "   label                                               text\n",
       "0      1  Reuters - Venezuelans turned out early\\and in ...\n",
       "1      1  Reuters - South Korean police used water canno...\n",
       "2      1  Reuters - Thousands of Palestinian\\prisoners i...\n",
       "3      1  AFP - Sporadic gunfire and shelling took place...\n",
       "4      1  AP - Dozens of Rwandan soldiers flew into Suda..."
      ]
     },
     "execution_count": 41,
     "metadata": {},
     "output_type": "execute_result"
    }
   ],
   "source": [
    "data_tr.head()"
   ]
  },
  {
   "cell_type": "code",
   "execution_count": 37,
   "metadata": {
    "ExecuteTime": {
     "end_time": "2020-02-15T14:18:03.515585Z",
     "start_time": "2020-02-15T14:18:03.508299Z"
    },
    "run_control": {
     "marked": false
    }
   },
   "outputs": [
    {
     "data": {
      "text/html": [
       "<div>\n",
       "<style scoped>\n",
       "    .dataframe tbody tr th:only-of-type {\n",
       "        vertical-align: middle;\n",
       "    }\n",
       "\n",
       "    .dataframe tbody tr th {\n",
       "        vertical-align: top;\n",
       "    }\n",
       "\n",
       "    .dataframe thead th {\n",
       "        text-align: right;\n",
       "    }\n",
       "</style>\n",
       "<table border=\"1\" class=\"dataframe\">\n",
       "  <thead>\n",
       "    <tr style=\"text-align: right;\">\n",
       "      <th></th>\n",
       "      <th>label</th>\n",
       "      <th>text</th>\n",
       "    </tr>\n",
       "  </thead>\n",
       "  <tbody>\n",
       "    <tr>\n",
       "      <th>0</th>\n",
       "      <td>1</td>\n",
       "      <td>Reuters - Venezuelans turned out early\\and in ...</td>\n",
       "    </tr>\n",
       "    <tr>\n",
       "      <th>1</th>\n",
       "      <td>1</td>\n",
       "      <td>Reuters - South Korean police used water canno...</td>\n",
       "    </tr>\n",
       "    <tr>\n",
       "      <th>2</th>\n",
       "      <td>1</td>\n",
       "      <td>Reuters - Thousands of Palestinian\\prisoners i...</td>\n",
       "    </tr>\n",
       "    <tr>\n",
       "      <th>3</th>\n",
       "      <td>1</td>\n",
       "      <td>AFP - Sporadic gunfire and shelling took place...</td>\n",
       "    </tr>\n",
       "    <tr>\n",
       "      <th>4</th>\n",
       "      <td>1</td>\n",
       "      <td>AP - Dozens of Rwandan soldiers flew into Suda...</td>\n",
       "    </tr>\n",
       "  </tbody>\n",
       "</table>\n",
       "</div>"
      ],
      "text/plain": [
       "   label                                               text\n",
       "0      1  Reuters - Venezuelans turned out early\\and in ...\n",
       "1      1  Reuters - South Korean police used water canno...\n",
       "2      1  Reuters - Thousands of Palestinian\\prisoners i...\n",
       "3      1  AFP - Sporadic gunfire and shelling took place...\n",
       "4      1  AP - Dozens of Rwandan soldiers flew into Suda..."
      ]
     },
     "execution_count": 37,
     "metadata": {},
     "output_type": "execute_result"
    }
   ],
   "source": [
    "data_tr.head()"
   ]
  },
  {
   "cell_type": "code",
   "execution_count": 42,
   "metadata": {
    "ExecuteTime": {
     "end_time": "2020-03-17T02:49:25.665656Z",
     "start_time": "2020-03-17T02:49:25.653088Z"
    },
    "run_control": {
     "marked": true
    }
   },
   "outputs": [],
   "source": [
    "# fill in your code...\n",
    "X_tr_raw, Y_tr = transform(data_tr)\n",
    "X_te_raw, Y_te = transform(data_te)\n",
    "X_dev_raw, Y_dev = transform(data_dev)"
   ]
  },
  {
   "cell_type": "code",
   "execution_count": 43,
   "metadata": {
    "ExecuteTime": {
     "end_time": "2020-03-17T02:49:25.714286Z",
     "start_time": "2020-03-17T02:49:25.699561Z"
    },
    "cell_style": "split",
    "run_control": {
     "marked": true
    }
   },
   "outputs": [
    {
     "data": {
      "text/plain": [
       "['Reuters - Venezuelans turned out early\\\\and in large numbers on Sunday to vote in a historic referendum\\\\that will either remove left-wing President Hugo Chavez from\\\\office or give him a new mandate to govern for the next two\\\\years.']"
      ]
     },
     "execution_count": 43,
     "metadata": {},
     "output_type": "execute_result"
    }
   ],
   "source": [
    "X_tr_raw[:1]"
   ]
  },
  {
   "cell_type": "code",
   "execution_count": 44,
   "metadata": {
    "ExecuteTime": {
     "end_time": "2020-03-17T02:49:25.788887Z",
     "start_time": "2020-03-17T02:49:25.775963Z"
    },
    "cell_style": "split",
    "run_control": {
     "marked": true
    }
   },
   "outputs": [
    {
     "data": {
      "text/plain": [
       "array([[1],\n",
       "       [1],\n",
       "       [1],\n",
       "       ...,\n",
       "       [3],\n",
       "       [3],\n",
       "       [3]])"
      ]
     },
     "execution_count": 44,
     "metadata": {},
     "output_type": "execute_result"
    }
   ],
   "source": [
    "Y_tr"
   ]
  },
  {
   "cell_type": "code",
   "execution_count": 45,
   "metadata": {
    "ExecuteTime": {
     "end_time": "2020-03-17T02:49:26.435009Z",
     "start_time": "2020-03-17T02:49:25.814113Z"
    },
    "run_control": {
     "marked": true
    }
   },
   "outputs": [
    {
     "name": "stdout",
     "output_type": "stream",
     "text": [
      "5000\n",
      "\n",
      "['reuters', 'said', 'tuesday', 'new', 'wednesday', 'after', 'athens', 'ap', 'monday', 'first', 'their', 'us', 'olympic', 'york', ('new', 'york'), 'two', 'over', 'will', 'but', 'oil', 'inc', 'more', 'prices', 'year', 'company', 'world', 'gt', 'lt', 'than', 'aug', 'about', 'had', 'one', 'united', 'out', 'sunday', 'against', 'up', 'quot', 'into', 'fullquote', 'second', 'last', 'stocks', 'team', 'president', 'gold', 'percent', 'iraq', 'three', 'when', 'greece', 'night', ('york', 'reuters'), ('new', 'york', 'reuters'), 'time', 'not', 'no', 'games', 'yesterday', 'home', 'olympics', 'washington', 'states', 'off', ('united', 'states'), 'google', ('oil', 'prices'), 'day', 'public', 'billion', 'record', ('athens', 'reuters'), 'week', 'win', 'all', 'men', 'government', 'won', ('said', 'tuesday'), 'najaf', 'american', 'years', 'officials', 'today', 'city', 'would', 'shares', 'offering', 'people', 'final', 'medal', 'minister', 'afp', 'corp', 'sales', 'million', 'back', 'four', 'investor']\n",
      "\n",
      "[('reuters', 631), ('said', 432), ('tuesday', 413), ('wednesday', 344), ('new', 325), ('after', 295), ('ap', 275), ('athens', 245), ('monday', 221), ('first', 210)]\n"
     ]
    }
   ],
   "source": [
    "vocab, df, ngram_counts = get_vocab(X_tr_raw, ngram_range=(1,3), keep_topN=5000, stop_words=stop_words)\n",
    "print(len(vocab))\n",
    "print()\n",
    "print(list(vocab)[:100])\n",
    "print()\n",
    "print(df.most_common()[:10])"
   ]
  },
  {
   "cell_type": "code",
   "execution_count": 39,
   "metadata": {
    "ExecuteTime": {
     "end_time": "2020-02-15T14:18:04.508938Z",
     "start_time": "2020-02-15T14:18:04.171071Z"
    },
    "run_control": {
     "marked": false
    }
   },
   "outputs": [
    {
     "name": "stdout",
     "output_type": "stream",
     "text": [
      "5000\n",
      "\n",
      "['questions', ('exhibition', 'game'), ('computer', 'maker'), ('chavez', 'won'), ('invoices', 'halliburton'), ('den', 'hoogenband', 'netherlands'), 'body', ('anterior', 'cruciate'), ('billion', 'cash', 'stock'), ('nortel', 'networks', 'corp'), ('offering', 'nearly'), ('prime', 'minister'), ('july', 'first', 'time'), 'strong', ('hang', 'over'), 'model', 'ease', 'assets', 'category', 'family', 'disappeared', ('olympic', 'men'), 'couldn', 'why', 'shift', ('world', 'largest', 'food'), 'oust', ('settler', 'homes'), ('jerusalem', 'reuters'), ('wisconsin', 'reuters'), 'luis', 'bowl', ('monday', 'said', 'quarterly'), ('baltimore', 'orioles'), ('more', 'israeli'), ('army', 'had', 'decided'), 'economic', ('after', 'web', 'no'), 'lynn', ('defensive', 'end'), 'according', 'facilities', ('company', 'wednesday'), ('lt', 'gt', 'wednesday'), 'tutsi', ('dillard', 'inc'), 'outside', 'protect', 'uk', 'weather', 'sell', 'pile', 'immediately', 'senate', ('venus', 'williams'), ('four', 'months'), 'pope', ('assistant', 'manager'), 'nyse', 'place', 'needs', 'needed', 'competition', 'powerful', 'outlooks', 'expected', 'gave', ('holding', 'corp'), ('minister', 'alexander'), 'spectacular', ('world', 'biggest'), 'barrel', ('store', 'sales'), 'venezuela', 'groups', 'robert', 'calf', 'brokerage', ('fears', 'about', 'country'), ('retailer', 'behind'), 'kid', 'latest', 'street', 'allow', 'surge', 'living', ('aug', 'reuters'), 'aware', 'thens', 'stunned', 'sending', 'sharon', 'south', 'draw', 'wall', 'declare', ('inc', 'said'), 'lows', ('cincinnati', 'reds'), 'families']\n",
      "\n",
      "[('reuters', 631), ('said', 432), ('tuesday', 413), ('wednesday', 344), ('new', 325), ('after', 295), ('ap', 275), ('athens', 245), ('monday', 221), ('first', 210)]\n"
     ]
    }
   ],
   "source": [
    "vocab, df, ngram_counts = get_vocab(X_tr_raw, ngram_range=(1,3), keep_topN=5000, stop_words=stop_words)\n",
    "print(len(vocab))\n",
    "print()\n",
    "print(list(vocab)[:100])\n",
    "print()\n",
    "print(df.most_common()[:10])"
   ]
  },
  {
   "cell_type": "code",
   "execution_count": 46,
   "metadata": {
    "ExecuteTime": {
     "end_time": "2020-03-17T02:49:39.150679Z",
     "start_time": "2020-03-17T02:49:26.465780Z"
    },
    "run_control": {
     "marked": true
    }
   },
   "outputs": [],
   "source": [
    "# fill in your code...\n",
    "X_tr_ngram = [extract_ngrams(line,ngram_range=(1,3),stop_words=stop_words) for line in X_tr_raw]\n",
    "X_te_ngram = [extract_ngrams(line,ngram_range=(1,3),stop_words=stop_words) for line in X_te_raw]\n",
    "X_dev_ngram = [extract_ngrams(line,ngram_range=(1,3),stop_words=stop_words) for line in X_dev_raw]\n",
    "\n",
    "X_tr_count = vectorise(X_tr_ngram, vocab)\n",
    "X_te_count = vectorise(X_te_ngram, vocab)\n",
    "X_dev_count = vectorise(X_dev_ngram, vocab)"
   ]
  },
  {
   "cell_type": "markdown",
   "metadata": {},
   "source": [
    "Now you need to change `SGD` to support multiclass datasets. First you need to develop a `softmax` function. It takes as input:\n",
    "\n",
    "- `z`: array of real numbers \n",
    "\n",
    "and returns:\n",
    "\n",
    "- `smax`: the softmax of `z`"
   ]
  },
  {
   "cell_type": "code",
   "execution_count": 47,
   "metadata": {
    "ExecuteTime": {
     "end_time": "2020-03-17T02:49:39.178704Z",
     "start_time": "2020-03-17T02:49:39.165393Z"
    },
    "run_control": {
     "marked": true
    }
   },
   "outputs": [],
   "source": [
    "def softmax(z):\n",
    "    \n",
    "    # fill in your code...\n",
    "    z = z.copy()\n",
    "    #z -= np.max(z)\n",
    "    smax = np.exp(z) / np.sum(np.exp(z),axis=1,keepdims=True)\n",
    "    \n",
    "    return smax"
   ]
  },
  {
   "cell_type": "markdown",
   "metadata": {},
   "source": [
    "Then modify `predict_proba` and `predict_class` functions for the multiclass case:"
   ]
  },
  {
   "cell_type": "code",
   "execution_count": 97,
   "metadata": {
    "ExecuteTime": {
     "end_time": "2020-03-17T06:57:00.905818Z",
     "start_time": "2020-03-17T06:57:00.894712Z"
    },
    "run_control": {
     "marked": true
    }
   },
   "outputs": [],
   "source": [
    "def predict_proba(X, weights):\n",
    "    \n",
    "    # fill in your code...\n",
    "    preds_proba = X.dot(weights.T)\n",
    "    \n",
    "    assert preds_proba.shape == (X.shape[0],weights.shape[0])\n",
    "    return softmax(preds_proba)"
   ]
  },
  {
   "cell_type": "code",
   "execution_count": 49,
   "metadata": {
    "ExecuteTime": {
     "end_time": "2020-03-17T02:49:39.284546Z",
     "start_time": "2020-03-17T02:49:39.272949Z"
    },
    "run_control": {
     "marked": true
    }
   },
   "outputs": [],
   "source": [
    "def predict_class(X, weights):\n",
    "    \n",
    "    # fill in your code...\n",
    "    classes = np.array(range(X.shape[1]))+1\n",
    "    preds_proba = predict_proba(X, weights)\n",
    "    preds_class = preds_proba-preds_proba.max(axis=1,keepdims=True)\n",
    "    preds_class = np.where(preds_class==0,1,0).dot(classes).flatten()\n",
    "    \n",
    "    assert preds_class.shape == (X.shape[0],)\n",
    "    return preds_class"
   ]
  },
  {
   "cell_type": "code",
   "execution_count": 50,
   "metadata": {
    "ExecuteTime": {
     "end_time": "2020-03-17T02:49:39.307034Z",
     "start_time": "2020-03-17T02:49:39.300351Z"
    },
    "run_control": {
     "marked": true
    }
   },
   "outputs": [],
   "source": [
    "X = np.array([[0.1,0.2],[0.2,0.1],[0.1,-0.2]])\n",
    "w = np.array([[2,-5],[-5,2]])"
   ]
  },
  {
   "cell_type": "code",
   "execution_count": 51,
   "metadata": {
    "ExecuteTime": {
     "end_time": "2020-03-17T02:49:39.333728Z",
     "start_time": "2020-03-17T02:49:39.323641Z"
    },
    "run_control": {
     "marked": true
    }
   },
   "outputs": [
    {
     "data": {
      "text/plain": [
       "array([[-0.8, -0.1],\n",
       "       [-0.1, -0.8],\n",
       "       [ 1.2, -0.9]])"
      ]
     },
     "execution_count": 51,
     "metadata": {},
     "output_type": "execute_result"
    }
   ],
   "source": [
    "predict_proba(X, w)"
   ]
  },
  {
   "cell_type": "code",
   "execution_count": 52,
   "metadata": {
    "ExecuteTime": {
     "end_time": "2020-03-17T02:49:39.408585Z",
     "start_time": "2020-03-17T02:49:39.397761Z"
    },
    "run_control": {
     "marked": true
    }
   },
   "outputs": [
    {
     "data": {
      "text/plain": [
       "array([2, 1, 1])"
      ]
     },
     "execution_count": 52,
     "metadata": {},
     "output_type": "execute_result"
    }
   ],
   "source": [
    "predict_class(X, w)"
   ]
  },
  {
   "cell_type": "markdown",
   "metadata": {},
   "source": [
    "Toy example and expected functionality of the functions above:"
   ]
  },
  {
   "cell_type": "code",
   "execution_count": 151,
   "metadata": {
    "ExecuteTime": {
     "end_time": "2020-03-17T02:46:59.167879Z",
     "start_time": "2020-03-17T02:46:59.158214Z"
    },
    "run_control": {
     "marked": false
    }
   },
   "outputs": [],
   "source": [
    "X = np.array([[0.1,0.2],[0.2,0.1],[0.1,-0.2]])\n",
    "w = np.array([[2,-5],[-5,2]])"
   ]
  },
  {
   "cell_type": "code",
   "execution_count": 46,
   "metadata": {
    "ExecuteTime": {
     "end_time": "2020-02-15T14:18:08.495464Z",
     "start_time": "2020-02-15T14:18:08.491074Z"
    },
    "run_control": {
     "marked": false
    }
   },
   "outputs": [
    {
     "data": {
      "text/plain": [
       "array([[0.33181223, 0.66818777],\n",
       "       [0.66818777, 0.33181223],\n",
       "       [0.89090318, 0.10909682]])"
      ]
     },
     "execution_count": 46,
     "metadata": {},
     "output_type": "execute_result"
    }
   ],
   "source": [
    "predict_proba(X, w)"
   ]
  },
  {
   "cell_type": "code",
   "execution_count": 47,
   "metadata": {
    "ExecuteTime": {
     "end_time": "2020-02-15T14:18:08.714215Z",
     "start_time": "2020-02-15T14:18:08.710098Z"
    },
    "run_control": {
     "marked": false
    }
   },
   "outputs": [
    {
     "data": {
      "text/plain": [
       "array([2, 1, 1])"
      ]
     },
     "execution_count": 47,
     "metadata": {},
     "output_type": "execute_result"
    }
   ],
   "source": [
    "predict_class(X, w)"
   ]
  },
  {
   "cell_type": "markdown",
   "metadata": {},
   "source": [
    "Now you need to compute the categorical cross entropy loss (extending the binary loss to support multiple classes)."
   ]
  },
  {
   "cell_type": "code",
   "execution_count": 111,
   "metadata": {
    "ExecuteTime": {
     "end_time": "2020-03-17T07:07:08.781278Z",
     "start_time": "2020-03-17T07:07:08.765617Z"
    },
    "run_control": {
     "marked": true
    }
   },
   "outputs": [],
   "source": [
    "def categorical_loss(X, Y, weights, num_classes=5, alpha=0.00001):\n",
    "    \n",
    "    # fill in your code...\n",
    "    assert Y.shape[0] == X.shape[0]\n",
    "    #assert num_classes == weights.shape[0]\n",
    "    eps = np.finfo(np.float64).eps\n",
    "    preds_proba = predict_proba(X, weights)\n",
    "    \n",
    "    Y = np.eye(X.shape[0],weights.shape[0])[Y-1].reshape(X.shape[0],weights.shape[0])\n",
    "    l = -np.sum(Y*np.log(predict_proba(X,weights)+eps),1) + alpha*np.dot(weights, weights.T)\n",
    "    l=np.mean(l)\n",
    "    return l\n",
    "    "
   ]
  },
  {
   "cell_type": "code",
   "execution_count": 130,
   "metadata": {
    "ExecuteTime": {
     "end_time": "2020-03-17T07:42:30.992418Z",
     "start_time": "2020-03-17T07:42:30.977033Z"
    },
    "run_control": {
     "marked": true
    }
   },
   "outputs": [],
   "source": [
    "def gradient(X, Y, weights, alpha=0.00001):\n",
    "    m = len(X)\n",
    "    Y = np.eye(X.shape[0],weights.shape[0])[Y-1].reshape(X.shape[0],weights.shape[0])\n",
    "    h = predict_proba(X, weights)\n",
    "    dw = -np.dot((Y-Y*h).T,X) + 2*alpha*weights\n",
    "    assert dw.shape == weights.shape\n",
    "    return dw/m"
   ]
  },
  {
   "cell_type": "code",
   "execution_count": 159,
   "metadata": {
    "ExecuteTime": {
     "end_time": "2020-03-17T07:48:55.493854Z",
     "start_time": "2020-03-17T07:48:55.477378Z"
    }
   },
   "outputs": [],
   "source": [
    "X = np.array([[0.1,0.2],[0.2,0.1],[0.1,-0.2]])\n",
    "w = np.array([[2.0,-5.0],[-5.0,2.0]])\n",
    "Y = np.array([[1],[2],[1]])\n",
    "pre_loss = categorical_loss(X,Y,w)"
   ]
  },
  {
   "cell_type": "code",
   "execution_count": 160,
   "metadata": {
    "ExecuteTime": {
     "end_time": "2020-03-17T07:48:59.824501Z",
     "start_time": "2020-03-17T07:48:59.790639Z"
    }
   },
   "outputs": [
    {
     "name": "stdout",
     "output_type": "stream",
     "text": [
      "0.7627377308595852\n"
     ]
    }
   ],
   "source": [
    "for i in range(9999):\n",
    "    w -= 20*gradient(X,Y,w)\n",
    "    now_loss = categorical_loss(X,Y,w)\n",
    "    if i%199 == 0:\n",
    "        print(now_loss)\n",
    "    if now_loss > pre_loss:\n",
    "        break\n",
    "    else:\n",
    "        pre_loss = now_loss"
   ]
  },
  {
   "cell_type": "code",
   "execution_count": 161,
   "metadata": {
    "ExecuteTime": {
     "end_time": "2020-03-17T07:49:19.540777Z",
     "start_time": "2020-03-17T07:49:19.528576Z"
    }
   },
   "outputs": [
    {
     "data": {
      "text/plain": [
       "0.6729259065275066"
      ]
     },
     "execution_count": 161,
     "metadata": {},
     "output_type": "execute_result"
    }
   ],
   "source": [
    "now_loss"
   ]
  },
  {
   "cell_type": "markdown",
   "metadata": {
    "ExecuteTime": {
     "end_time": "2020-02-15T14:08:59.937442Z",
     "start_time": "2020-02-15T14:08:59.932221Z"
    }
   },
   "source": [
    "Finally you need to modify SGD to support the categorical cross entropy loss:"
   ]
  },
  {
   "cell_type": "code",
   "execution_count": 49,
   "metadata": {
    "ExecuteTime": {
     "end_time": "2020-02-15T14:18:10.176885Z",
     "start_time": "2020-02-15T14:18:10.165021Z"
    },
    "run_control": {
     "marked": false
    }
   },
   "outputs": [],
   "source": [
    "def SGD(X_tr, Y_tr, X_dev=[], Y_dev=[], num_classes=5, lr=0.01, alpha=0.00001, epochs=5, tolerance=0.001, print_progress=True):\n",
    "    \n",
    "    # fill in your code...\n",
    "\n",
    "    return weights, training_loss_history, validation_loss_history"
   ]
  },
  {
   "cell_type": "code",
   "execution_count": null,
   "metadata": {},
   "outputs": [],
   "source": [
    "def SGD(X_tr, Y_tr, X_dev=[], Y_dev=[], loss=\"binary\", lr=0.1, alpha=0.00001, epochs=5, tolerance=0.0001, print_progress=True):\n",
    "    \n",
    "    cur_loss_tr = 1.\n",
    "    cur_loss_dev = 1.\n",
    "    training_loss_history = []\n",
    "    validation_loss_history = []\n",
    "    \n",
    "    # fill in your code...\n",
    "    \n",
    "    # Stage 1: Init weights\n",
    "    #weights = np.random.rand(1,X_tr.shape[1])\n",
    "    weights = np.zeros((1,X_tr.shape[1]))\n",
    "    \n",
    "    # Stage 2: Init stochastic value\n",
    "    idx_list = np.array(range(X_tr.shape[0]))\n",
    "    \n",
    "    # Stage 3: Training\n",
    "    for epoch in range(epochs):\n",
    "        loss_tr = 0\n",
    "        np.random.shuffle(idx_list) # disorder dataset\n",
    "        for i in idx_list:\n",
    "            X_tr_i, Y_tr_i = X_tr[i].reshape(1,-1),Y_tr[i].reshape(1,-1) # get a single data pair\n",
    "            dw = gradient(X_tr_i, Y_tr_i, weights, alpha=0.00001) # gradient\n",
    "            weights -= lr*dw # update\n",
    "            loss_tr += binary_loss(X_tr_i, Y_tr_i, weights, alpha) # add loss\n",
    "        \n",
    "        loss_dev = binary_loss(X_dev_count, Y_dev, weights, alpha)\n",
    "        loss_tr /= len(idx_list)\n",
    "        # Add history\n",
    "        if epoch != 0:\n",
    "            training_loss_history.append(loss_tr)\n",
    "            validation_loss_history.append(loss_dev)\n",
    "        if print_progress == True: \n",
    "            print(\"Epoch: %d| Training loss: %f| Validation loss: %f\"%(epoch,loss_tr,loss_dev))\n",
    "        if epoch >1 and abs(validation_loss_history[-2]-validation_loss_history[-1]) <= tolerance:\n",
    "            break\n",
    "\n",
    "    return weights, training_loss_history, validation_loss_history"
   ]
  },
  {
   "cell_type": "markdown",
   "metadata": {
    "ExecuteTime": {
     "end_time": "2020-02-15T14:10:15.772383Z",
     "start_time": "2020-02-15T14:10:15.767855Z"
    }
   },
   "source": [
    "Now you are ready to train and evaluate you MLR following the same steps as in Task 1 for both Count and tfidf features:"
   ]
  },
  {
   "cell_type": "code",
   "execution_count": 50,
   "metadata": {
    "ExecuteTime": {
     "end_time": "2020-02-15T14:18:55.324956Z",
     "start_time": "2020-02-15T14:18:11.720952Z"
    },
    "run_control": {
     "marked": false
    }
   },
   "outputs": [
    {
     "name": "stderr",
     "output_type": "stream",
     "text": [
      "/anaconda3/lib/python3.7/site-packages/ipykernel_launcher.py:55: DeprecationWarning: elementwise == comparison failed; this will raise an error in the future.\n"
     ]
    },
    {
     "name": "stdout",
     "output_type": "stream",
     "text": [
      "Epoch: 0| Training loss: 1.0797445295473487| Validation loss: 1.081372090349833\n",
      "Epoch: 1| Training loss: 1.079316160352198| Validation loss: 1.0640685482079149\n",
      "Epoch: 2| Training loss: 1.0560473439817515| Validation loss: 1.0466716664674833\n",
      "Epoch: 3| Training loss: 1.0823272116547453| Validation loss: 1.0293144599016153\n",
      "Epoch: 4| Training loss: 1.0541411400498168| Validation loss: 1.0120430537618956\n",
      "Epoch: 5| Training loss: 0.6018201485747277| Validation loss: 0.9949501699020834\n",
      "Epoch: 6| Training loss: 0.9408020769124341| Validation loss: 0.9780518842493735\n",
      "Epoch: 7| Training loss: 0.9785218029526777| Validation loss: 0.961399507260303\n",
      "Epoch: 8| Training loss: 1.105504123262664| Validation loss: 0.945017429821232\n",
      "Epoch: 9| Training loss: 0.9330426453622344| Validation loss: 0.9289397744769093\n",
      "Epoch: 10| Training loss: 0.7202271854150083| Validation loss: 0.9131712383598369\n",
      "Epoch: 11| Training loss: 0.980165568395653| Validation loss: 0.8977588631301825\n",
      "Epoch: 12| Training loss: 0.9350596877302814| Validation loss: 0.8826257874396408\n",
      "Epoch: 13| Training loss: 1.015964417226491| Validation loss: 0.8678640000045689\n",
      "Epoch: 14| Training loss: 0.7853481727623568| Validation loss: 0.8534092079475973\n",
      "Epoch: 15| Training loss: 1.1280839072469695| Validation loss: 0.8392859262760239\n",
      "Epoch: 16| Training loss: 0.45596125168525925| Validation loss: 0.8254557688887008\n",
      "Epoch: 17| Training loss: 1.0070191455181927| Validation loss: 0.8120053087983156\n",
      "Epoch: 18| Training loss: 0.9938827745552048| Validation loss: 0.7989146470042358\n",
      "Epoch: 19| Training loss: 0.5941619165230784| Validation loss: 0.7861148779646865\n",
      "Epoch: 20| Training loss: 0.347645483062249| Validation loss: 0.773639617757056\n",
      "Epoch: 21| Training loss: 0.8615779910495689| Validation loss: 0.7614413103814573\n",
      "Epoch: 22| Training loss: 0.8559620095999312| Validation loss: 0.7495740843572936\n",
      "Epoch: 23| Training loss: 0.7123026165421295| Validation loss: 0.7380118770283757\n",
      "Epoch: 24| Training loss: 0.628420348319027| Validation loss: 0.7267497405327836\n",
      "Epoch: 25| Training loss: 1.1143453645268255| Validation loss: 0.7157650456550849\n",
      "Epoch: 26| Training loss: 0.5053554837538091| Validation loss: 0.7050752398160355\n",
      "Epoch: 27| Training loss: 0.8580561710864723| Validation loss: 0.6946265481406195\n",
      "Epoch: 28| Training loss: 1.0145821027394442| Validation loss: 0.6844644903515154\n",
      "Epoch: 29| Training loss: 0.889803100593025| Validation loss: 0.6745416521972386\n",
      "Epoch: 30| Training loss: 0.3512373705994844| Validation loss: 0.6649076709998702\n",
      "Epoch: 31| Training loss: 0.6946077278013651| Validation loss: 0.6554896489368593\n",
      "Epoch: 32| Training loss: 0.5721038746595615| Validation loss: 0.6463159196618706\n",
      "Epoch: 33| Training loss: 0.9286421195752351| Validation loss: 0.6374037446331372\n",
      "Epoch: 34| Training loss: 0.3043301520488227| Validation loss: 0.6286933702647342\n",
      "Epoch: 35| Training loss: 0.8412715058863925| Validation loss: 0.6201950715638889\n",
      "Epoch: 36| Training loss: 1.0162421996444875| Validation loss: 0.6119312128918258\n",
      "Epoch: 37| Training loss: 0.9800875509382644| Validation loss: 0.6038364508265476\n",
      "Epoch: 38| Training loss: 0.2529787526410042| Validation loss: 0.5959680427407086\n",
      "Epoch: 39| Training loss: 0.5204508487025243| Validation loss: 0.5882845644274958\n",
      "Epoch: 40| Training loss: 0.663760559879069| Validation loss: 0.5807678321194896\n",
      "Epoch: 41| Training loss: 0.15865889006553835| Validation loss: 0.5734687699728561\n",
      "Epoch: 42| Training loss: 0.6408607725036662| Validation loss: 0.5663184689700342\n",
      "Epoch: 43| Training loss: 0.2797611441024611| Validation loss: 0.5593606258380786\n",
      "Epoch: 44| Training loss: 0.7852857528209075| Validation loss: 0.552554302011612\n",
      "Epoch: 45| Training loss: 1.006186400841472| Validation loss: 0.5459031927551995\n",
      "Epoch: 46| Training loss: 1.121242812418955| Validation loss: 0.5394152242463135\n",
      "Epoch: 47| Training loss: 0.45275382650303764| Validation loss: 0.5330716806209664\n",
      "Epoch: 48| Training loss: 0.5002302346473977| Validation loss: 0.5268516486205744\n",
      "Epoch: 49| Training loss: 0.2927756479030764| Validation loss: 0.520796556633722\n",
      "Epoch: 50| Training loss: 0.5815213659515958| Validation loss: 0.514875429745833\n",
      "Epoch: 51| Training loss: 0.43511107264972204| Validation loss: 0.509093372083549\n",
      "Epoch: 52| Training loss: 0.2004456471210612| Validation loss: 0.5034369186797815\n",
      "Epoch: 53| Training loss: 0.6927294724851424| Validation loss: 0.4978805528962536\n",
      "Epoch: 54| Training loss: 0.22762255875684806| Validation loss: 0.49248110263913736\n",
      "Epoch: 55| Training loss: 0.41286842099956444| Validation loss: 0.4871768560097116\n",
      "Epoch: 56| Training loss: 0.2858867912825694| Validation loss: 0.4820023098168036\n",
      "Epoch: 57| Training loss: 1.07945594292479| Validation loss: 0.4769355688611146\n",
      "Epoch: 58| Training loss: 0.08632099484327364| Validation loss: 0.4719707627364577\n",
      "Epoch: 59| Training loss: 0.4380467526003749| Validation loss: 0.4671259629523961\n",
      "Epoch: 60| Training loss: 0.4504033371479604| Validation loss: 0.4623682646862233\n",
      "Epoch: 61| Training loss: 0.8991535203093632| Validation loss: 0.45772777193305997\n",
      "Epoch: 62| Training loss: 0.37976053429018847| Validation loss: 0.453170172687834\n",
      "Epoch: 63| Training loss: 0.6690249969029779| Validation loss: 0.4487003465696454\n",
      "Epoch: 64| Training loss: 0.12214122740982129| Validation loss: 0.4443374960034709\n",
      "Epoch: 65| Training loss: 0.6816289535486254| Validation loss: 0.4400584436398409\n",
      "Epoch: 66| Training loss: 0.18194708158942638| Validation loss: 0.4358569111132549\n",
      "Epoch: 67| Training loss: 0.5175968359577696| Validation loss: 0.4317374156856518\n",
      "Epoch: 68| Training loss: 0.2748850713851889| Validation loss: 0.42768780305615756\n",
      "Epoch: 69| Training loss: 0.47027298142101503| Validation loss: 0.42374507168474584\n",
      "Epoch: 70| Training loss: 0.19929430369829634| Validation loss: 0.4198554513354222\n",
      "Epoch: 71| Training loss: 0.3119339792974164| Validation loss: 0.4160593000805275\n",
      "Epoch: 72| Training loss: 0.2802330752147449| Validation loss: 0.4123300080340496\n",
      "Epoch: 73| Training loss: 1.4068722074169777| Validation loss: 0.4086685670109219\n",
      "Epoch: 74| Training loss: 1.2289700039889522| Validation loss: 0.4050692506591351\n",
      "Epoch: 75| Training loss: 0.5879134607806588| Validation loss: 0.4015404749982959\n",
      "Epoch: 76| Training loss: 0.5598034047715446| Validation loss: 0.3980768791999669\n",
      "Epoch: 77| Training loss: 0.4072390166320532| Validation loss: 0.3946781657347487\n",
      "Epoch: 78| Training loss: 0.4720387020720993| Validation loss: 0.39135074144554305\n",
      "Epoch: 79| Training loss: 0.8652127247147093| Validation loss: 0.3880767411953969\n",
      "Epoch: 80| Training loss: 0.49502493338551296| Validation loss: 0.38485336346274324\n",
      "Epoch: 81| Training loss: 0.8478719397159928| Validation loss: 0.3816873793123302\n",
      "Epoch: 82| Training loss: 0.5769432672302212| Validation loss: 0.3785768379529342\n",
      "Epoch: 83| Training loss: 0.25865075231928386| Validation loss: 0.37552080913970615\n",
      "Epoch: 84| Training loss: 0.6780205857236974| Validation loss: 0.37251982296888037\n",
      "Epoch: 85| Training loss: 0.5717729327147981| Validation loss: 0.36958152892125545\n",
      "Epoch: 86| Training loss: 0.7185798657407652| Validation loss: 0.36668874595841955\n",
      "Epoch: 87| Training loss: 0.32730720069458585| Validation loss: 0.3638467143325988\n",
      "Epoch: 88| Training loss: 0.9394375601966297| Validation loss: 0.3610402229621626\n",
      "Epoch: 89| Training loss: 0.5314941113071576| Validation loss: 0.3582963265282113\n",
      "Epoch: 90| Training loss: 0.9159430629959491| Validation loss: 0.3556047452606419\n",
      "Epoch: 91| Training loss: 0.27830594341362347| Validation loss: 0.3529452396878083\n",
      "Epoch: 92| Training loss: 0.08922609875671272| Validation loss: 0.3503285390711649\n",
      "Epoch: 93| Training loss: 0.5109477286610166| Validation loss: 0.34776466510396653\n",
      "Epoch: 94| Training loss: 0.8247015373951916| Validation loss: 0.34523113629834656\n",
      "Epoch: 95| Training loss: 1.4111970700349956| Validation loss: 0.3427459408526143\n",
      "Epoch: 96| Training loss: 0.9973410892711908| Validation loss: 0.3403031775623844\n",
      "Epoch: 97| Training loss: 0.9298826919970149| Validation loss: 0.3378961810444463\n",
      "Epoch: 98| Training loss: 0.14036615190332108| Validation loss: 0.33552333229158426\n",
      "Epoch: 99| Training loss: 0.42857059017867416| Validation loss: 0.3331908153000918\n"
     ]
    },
    {
     "name": "stdout",
     "output_type": "stream",
     "text": [
      "Epoch: 100| Training loss: 0.5909452468922335| Validation loss: 0.3308943792523601\n",
      "Epoch: 101| Training loss: 0.0582537404726638| Validation loss: 0.3286410364885621\n",
      "Epoch: 102| Training loss: 0.8460500582683682| Validation loss: 0.32641969802577286\n",
      "Epoch: 103| Training loss: 0.5298538159246153| Validation loss: 0.324225708977352\n",
      "Epoch: 104| Training loss: 0.3002611196487631| Validation loss: 0.3220709147432522\n",
      "Epoch: 105| Training loss: 0.6857676458335961| Validation loss: 0.31995106501678755\n",
      "Epoch: 106| Training loss: 0.5195060392225062| Validation loss: 0.31785403975508386\n",
      "Epoch: 107| Training loss: 0.6192846034415994| Validation loss: 0.3157920207863501\n",
      "Epoch: 108| Training loss: 0.09917322459957126| Validation loss: 0.31376264796419107\n",
      "Epoch: 109| Training loss: 0.3136491065708976| Validation loss: 0.3117644717911298\n",
      "Epoch: 110| Training loss: 0.2961228303588815| Validation loss: 0.30979000698586306\n",
      "Epoch: 111| Training loss: 0.028415357821764815| Validation loss: 0.30785497759094477\n",
      "Epoch: 112| Training loss: 0.3321063258469021| Validation loss: 0.3059320900816925\n",
      "Epoch: 113| Training loss: 0.2679899421174463| Validation loss: 0.30404511603354395\n",
      "Epoch: 114| Training loss: 0.8990533088234927| Validation loss: 0.30218664002975204\n",
      "Epoch: 115| Training loss: 0.12905768556887146| Validation loss: 0.3003505904610916\n",
      "Epoch: 116| Training loss: 0.4506684356556081| Validation loss: 0.2985291037359777\n",
      "Epoch: 117| Training loss: 0.844468526893116| Validation loss: 0.29674277317528236\n",
      "Epoch: 118| Training loss: 0.6767336880461876| Validation loss: 0.2949822521732923\n",
      "Epoch: 119| Training loss: 0.01799443908408846| Validation loss: 0.29324461004936575\n",
      "Epoch: 120| Training loss: 0.3418078466994673| Validation loss: 0.2915307136152019\n",
      "Epoch: 121| Training loss: 0.6270705561081482| Validation loss: 0.28984127182168334\n",
      "Epoch: 122| Training loss: 1.1478485044448523| Validation loss: 0.2881789628649678\n",
      "Epoch: 123| Training loss: 0.2949766090593473| Validation loss: 0.2865338197457586\n",
      "Epoch: 124| Training loss: 1.4238940813590628| Validation loss: 0.2849148292705895\n",
      "Epoch: 125| Training loss: 0.5994789520817773| Validation loss: 0.28331862128435503\n",
      "Epoch: 126| Training loss: 0.24891273419811613| Validation loss: 0.2817370423727986\n",
      "Epoch: 127| Training loss: 0.39238436079518574| Validation loss: 0.2801812115027427\n",
      "Epoch: 128| Training loss: 1.5600414187349476| Validation loss: 0.27864540709644464\n",
      "Epoch: 129| Training loss: 0.9472198772310756| Validation loss: 0.27712518454869994\n",
      "Epoch: 130| Training loss: 0.1584699773317698| Validation loss: 0.2756290475247621\n",
      "Epoch: 131| Training loss: 0.20644196621222938| Validation loss: 0.2741530162974089\n",
      "Epoch: 132| Training loss: 0.18215283594621412| Validation loss: 0.2726944798834253\n",
      "Epoch: 133| Training loss: 0.8414874757451525| Validation loss: 0.2712551700923043\n",
      "Epoch: 134| Training loss: 0.37457828472756166| Validation loss: 0.269827937621642\n",
      "Epoch: 135| Training loss: 0.00774395687073208| Validation loss: 0.26842030110408316\n",
      "Epoch: 136| Training loss: 0.75978129405607| Validation loss: 0.2670359677369942\n",
      "Epoch: 137| Training loss: 0.04094798273170632| Validation loss: 0.2656598668535911\n",
      "Epoch: 138| Training loss: 1.1939040225650244| Validation loss: 0.2642977146554992\n",
      "Epoch: 139| Training loss: 0.2706364434128102| Validation loss: 0.26296275384475015\n",
      "Epoch: 140| Training loss: 0.4041706720632301| Validation loss: 0.2616457843006157\n",
      "Epoch: 141| Training loss: 0.3930983060172604| Validation loss: 0.2603420380125703\n",
      "Epoch: 142| Training loss: 0.08588635860652719| Validation loss: 0.2590556686494602\n",
      "Epoch: 143| Training loss: 0.24441280871964122| Validation loss: 0.25778064807349627\n",
      "Epoch: 144| Training loss: 0.8777114045822041| Validation loss: 0.25652165984926234\n",
      "Epoch: 145| Training loss: 0.8194686345456902| Validation loss: 0.25528228171012946\n",
      "Epoch: 146| Training loss: 0.5319086987289504| Validation loss: 0.2540533247787649\n",
      "Epoch: 147| Training loss: 0.09005366358246589| Validation loss: 0.2528353480461422\n",
      "Epoch: 148| Training loss: 0.21640847881454545| Validation loss: 0.251638801334596\n",
      "Epoch: 149| Training loss: 0.14749728182299668| Validation loss: 0.2504513185602062\n",
      "Epoch: 150| Training loss: 0.9646686003838391| Validation loss: 0.249274942485048\n",
      "Epoch: 151| Training loss: 0.8459778376210175| Validation loss: 0.24811939173669992\n",
      "Epoch: 152| Training loss: 0.3289512046629609| Validation loss: 0.24697182796581005\n",
      "Epoch: 153| Training loss: 0.010146911359652084| Validation loss: 0.2458389491289637\n",
      "Epoch: 154| Training loss: 0.08495971132730216| Validation loss: 0.244718975192335\n",
      "Epoch: 155| Training loss: 0.5977737889322374| Validation loss: 0.24360572221188478\n",
      "Epoch: 156| Training loss: 0.0851881124765378| Validation loss: 0.24251352180512406\n",
      "Epoch: 157| Training loss: 0.8071434173631403| Validation loss: 0.2414341422328391\n",
      "Epoch: 158| Training loss: 0.16374943118546553| Validation loss: 0.24036653931680665\n",
      "Epoch: 159| Training loss: 0.19922472773981986| Validation loss: 0.23930460979725618\n",
      "Epoch: 160| Training loss: 0.2204896358048265| Validation loss: 0.23826151753367814\n",
      "Epoch: 161| Training loss: 0.4573968802025281| Validation loss: 0.23722811498264912\n",
      "Epoch: 162| Training loss: 0.1810635314345012| Validation loss: 0.23620717993755244\n",
      "Epoch: 163| Training loss: 0.5517398742853074| Validation loss: 0.2351936795375895\n",
      "Epoch: 164| Training loss: 0.061671999023491436| Validation loss: 0.234190439908011\n"
     ]
    }
   ],
   "source": [
    "w_count, loss_tr_count, dev_loss_count = SGD(X_tr_count, Y_tr, \n",
    "                                             X_dev=X_dev_count, \n",
    "                                             Y_dev=Y_dev,\n",
    "                                             num_classes=3,\n",
    "                                             lr=0.0001, \n",
    "                                             alpha=0.001, \n",
    "                                             epochs=200)"
   ]
  },
  {
   "cell_type": "markdown",
   "metadata": {},
   "source": [
    "Plot training and validation process and explain if your model overfit, underfit or is about right:"
   ]
  },
  {
   "cell_type": "code",
   "execution_count": 2,
   "metadata": {
    "ExecuteTime": {
     "end_time": "2020-02-15T14:31:09.903453Z",
     "start_time": "2020-02-15T14:31:09.901360Z"
    },
    "run_control": {
     "marked": false
    }
   },
   "outputs": [],
   "source": [
    "# fill in your code..."
   ]
  },
  {
   "cell_type": "markdown",
   "metadata": {},
   "source": [
    "Compute accuracy, precision, recall and F1-scores:"
   ]
  },
  {
   "cell_type": "code",
   "execution_count": 6,
   "metadata": {
    "ExecuteTime": {
     "end_time": "2020-02-15T14:32:12.606498Z",
     "start_time": "2020-02-15T14:32:12.604164Z"
    },
    "run_control": {
     "marked": false
    }
   },
   "outputs": [],
   "source": [
    "# fill in your code...\n",
    "\n",
    "print('Accuracy:', accuracy_score(Y_te,preds_te))\n",
    "print('Precision:', precision_score(Y_te,preds_te,average='macro'))\n",
    "print('Recall:', recall_score(Y_te,preds_te,average='macro'))\n",
    "print('F1-Score:', f1_score(Y_te,preds_te,average='macro'))"
   ]
  },
  {
   "cell_type": "markdown",
   "metadata": {},
   "source": [
    "Print the top-10 words for each class respectively."
   ]
  },
  {
   "cell_type": "code",
   "execution_count": 7,
   "metadata": {
    "ExecuteTime": {
     "end_time": "2020-02-15T14:32:26.224693Z",
     "start_time": "2020-02-15T14:32:26.221886Z"
    },
    "run_control": {
     "marked": false
    }
   },
   "outputs": [],
   "source": [
    "# fill in your code..."
   ]
  },
  {
   "cell_type": "markdown",
   "metadata": {},
   "source": [
    "### Discuss how did you choose model hyperparameters (e.g. learning rate and regularisation strength)? What is the relation between training epochs and learning rate? How the regularisation strength affects performance?"
   ]
  },
  {
   "cell_type": "markdown",
   "metadata": {
    "ExecuteTime": {
     "end_time": "2020-02-15T14:16:19.856538Z",
     "start_time": "2020-02-15T14:16:19.852547Z"
    }
   },
   "source": [
    "Explain here..."
   ]
  },
  {
   "cell_type": "markdown",
   "metadata": {},
   "source": [
    "### Now evaluate BOW-tfidf..."
   ]
  },
  {
   "cell_type": "markdown",
   "metadata": {
    "ExecuteTime": {
     "end_time": "2020-02-15T14:16:42.567569Z",
     "start_time": "2020-02-15T14:16:42.562560Z"
    }
   },
   "source": [
    "## Full Results\n",
    "\n",
    "Add here your results:\n",
    "\n",
    "| LR | Precision  | Recall  | F1-Score  |\n",
    "|:-:|:-:|:-:|:-:|\n",
    "| BOW-count  |   |   |   |\n",
    "| BOW-tfidf  |   |   |   |\n"
   ]
  },
  {
   "cell_type": "code",
   "execution_count": null,
   "metadata": {
    "run_control": {
     "marked": false
    }
   },
   "outputs": [],
   "source": []
  }
 ],
 "metadata": {
  "kernelspec": {
   "display_name": "Python 3",
   "language": "python",
   "name": "python3"
  },
  "language_info": {
   "codemirror_mode": {
    "name": "ipython",
    "version": 3
   },
   "file_extension": ".py",
   "mimetype": "text/x-python",
   "name": "python",
   "nbconvert_exporter": "python",
   "pygments_lexer": "ipython3",
   "version": "3.7.3"
  },
  "latex_envs": {
   "LaTeX_envs_menu_present": true,
   "autoclose": false,
   "autocomplete": true,
   "bibliofile": "biblio.bib",
   "cite_by": "apalike",
   "current_citInitial": 1,
   "eqLabelWithNumbers": true,
   "eqNumInitial": 1,
   "hotkeys": {
    "equation": "Ctrl-E",
    "itemize": "Ctrl-I"
   },
   "labels_anchors": false,
   "latex_user_defs": false,
   "report_style_numbering": false,
   "user_envs_cfg": false
  },
  "nbTranslate": {
   "displayLangs": [
    "en"
   ],
   "hotkey": "alt-t",
   "langInMainMenu": true,
   "sourceLang": "en",
   "targetLang": "zh-cn",
   "useGoogleTranslate": true
  },
  "toc": {
   "base_numbering": 1,
   "nav_menu": {},
   "number_sections": false,
   "sideBar": true,
   "skip_h1_title": false,
   "title_cell": "Table of Contents",
   "title_sidebar": "Contents",
   "toc_cell": false,
   "toc_position": {
    "height": "calc(100% - 180px)",
    "left": "10px",
    "top": "150px",
    "width": "179px"
   },
   "toc_section_display": true,
   "toc_window_display": true
  },
  "varInspector": {
   "cols": {
    "lenName": 16,
    "lenType": 16,
    "lenVar": 40
   },
   "kernels_config": {
    "python": {
     "delete_cmd_postfix": "",
     "delete_cmd_prefix": "del ",
     "library": "var_list.py",
     "varRefreshCmd": "print(var_dic_list())"
    },
    "r": {
     "delete_cmd_postfix": ") ",
     "delete_cmd_prefix": "rm(",
     "library": "var_list.r",
     "varRefreshCmd": "cat(var_dic_list()) "
    }
   },
   "types_to_exclude": [
    "module",
    "function",
    "builtin_function_or_method",
    "instance",
    "_Feature"
   ],
   "window_display": false
  }
 },
 "nbformat": 4,
 "nbformat_minor": 2
}
