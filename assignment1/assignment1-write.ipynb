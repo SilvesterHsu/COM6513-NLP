{
 "cells": [
  {
   "cell_type": "markdown",
   "metadata": {},
   "source": [
    "# [COM4513-6513] Assignment 1: Text Classification with Logistic Regression\n",
    "\n",
    "### Instructor: Nikos Aletras\n",
    "\n",
    "\n",
    "The goal of this assignment is to develop and test two text classification systems: \n",
    "\n",
    "- **Task 1:** sentiment analysis, in particular to predict the sentiment of movie review, i.e. positive or negative (binary classification).\n",
    "- **Task 2:** topic classification, to predict whether a news article is about International issues, Sports or Business (multiclass classification).\n",
    "\n",
    "\n",
    "For that purpose, you will implement:\n",
    "\n",
    "- Text processing methods for extracting Bag-Of-Word features, using (1) unigrams, bigrams and trigrams to obtain vector representations of documents. Two vector weighting schemes should be tested: (1) raw frequencies (**3 marks; 1 for each ngram type**); (2) tf.idf (**1 marks**). \n",
    "- Binary Logistic Regression classifiers that will be able to accurately classify movie reviews trained with (1) BOW-count (raw frequencies); and (2) BOW-tfidf (tf.idf weighted) for Task 1. \n",
    "- Multiclass Logistic Regression classifiers that will be able to accurately classify news articles trained with (1) BOW-count (raw frequencies); and (2) BOW-tfidf (tf.idf weighted) for Task 2. \n",
    "- The Stochastic Gradient Descent (SGD) algorithm to estimate the parameters of your Logistic Regression models. Your SGD algorithm should:\n",
    "    - Minimise the Binary Cross-entropy loss function for Task 1 (**3 marks**)\n",
    "    - Minimise the Categorical Cross-entropy loss function for Task 2 (**3 marks**)\n",
    "    - Use L2 regularisation (both tasks) (**1 mark**)\n",
    "    - Perform multiple passes (epochs) over the training data (**1 mark**)\n",
    "    - Randomise the order of training data after each pass (**1 mark**)\n",
    "    - Stop training if the difference between the current and previous validation loss is smaller than a threshold (**1 mark**)\n",
    "    - After each epoch print the training and development loss (**1 mark**)\n",
    "- Discuss how did you choose hyperparameters (e.g. learning rate and regularisation strength)?  (**2 marks; 0.5 for each model in each task**).\n",
    "- After training the LR models, plot the learning process (i.e. training and validation loss in each epoch) using a line plot (**1 mark; 0.5 for both BOW-count and BOW-tfidf LR models in each task**) and discuss if your model overfits/underfits/is about right.\n",
    "- Model interpretability by showing the most important features for each class (i.e. most positive/negative weights). Give the top 10 for each class and comment on whether they make sense (if they don't you might have a bug!).  If we were to apply the classifier we've learned into a different domain such laptop reviews or restaurant reviews, do you think these features would generalise well? Can you propose what features the classifier could pick up as important in the new domain? (**2 marks; 0.5 for BOW-count and BOW-tfidf LR models respectively in each task**)\n",
    "\n",
    "\n",
    "### Data - Task 1 \n",
    "\n",
    "The data you will use for Task 1 are taken from here: [http://www.cs.cornell.edu/people/pabo/movie-review-data/](http://www.cs.cornell.edu/people/pabo/movie-review-data/) and you can find it in the `./data_sentiment` folder in CSV format:\n",
    "\n",
    "- `data_sentiment/train.csv`: contains 1,400 reviews, 700 positive (label: 1) and 700 negative (label: 0) to be used for training.\n",
    "- `data_sentiment/dev.csv`: contains 200 reviews, 100 positive and 100 negative to be used for hyperparameter selection and monitoring the training process.\n",
    "- `data_sentiment/test.csv`: contains 400 reviews, 200 positive and 200 negative to be used for testing.\n",
    "\n",
    "### Data - Task 2\n",
    "\n",
    "The data you will use for Task 2 is a subset of the [AG News Corpus](http://groups.di.unipi.it/~gulli/AG_corpus_of_news_articles.html) and you can find it in the `./data_topic` folder in CSV format:\n",
    "\n",
    "- `data_topic/train.csv`: contains 2,400 news articles, 800 for each class to be used for training.\n",
    "- `data_topic/dev.csv`: contains 150 news articles, 50 for each class to be used for hyperparameter selection and monitoring the training process.\n",
    "- `data_topic/test.csv`: contains 900 news articles, 300 for each class to be used for testing.\n",
    "\n",
    "\n",
    "### Submission Instructions\n",
    "\n",
    "You should submit a Jupyter Notebook file (assignment1.ipynb) and an exported PDF version (you can do it from Jupyter: `File->Download as->PDF via Latex`).\n",
    "\n",
    "You are advised to follow the code structure given in this notebook by completing all given funtions. You can also write any auxilliary/helper functions (and arguments for the functions) that you might need but note that you can provide a full solution without any such functions. Similarly, you can just use only the packages imported below but you are free to use any functionality from the [Python Standard Library](https://docs.python.org/2/library/index.html), NumPy, SciPy and Pandas. You are not allowed to use any third-party library such as Scikit-learn (apart from metric functions already provided), NLTK, Spacy, Keras etc..\n",
    "\n",
    "Please make sure to comment your code. You should also mention if you've used Windows (not recommended) to write and test your code. There is no single correct answer on what your accuracy should be, but correct implementations usually achieve F1-scores around 80\\% or higher. The quality of the analysis of the results is as important as the accuracy itself. \n",
    "\n",
    "This assignment will be marked out of 20. It is worth 20\\% of your final grade in the module.\n",
    "\n",
    "The deadline for this assignment is **23:59 on Fri, 20 Mar 2020** and it needs to be submitted via MOLE. Standard departmental penalties for lateness will be applied. We use a range of strategies to detect [unfair means](https://www.sheffield.ac.uk/ssid/unfair-means/index), including Turnitin which helps detect plagiarism, so make sure you do not plagiarise.\n",
    "\n"
   ]
  },
  {
   "cell_type": "code",
   "execution_count": 1,
   "metadata": {
    "ExecuteTime": {
     "end_time": "2020-03-20T14:19:22.151344Z",
     "start_time": "2020-03-20T14:19:20.414397Z"
    },
    "run_control": {
     "marked": true
    }
   },
   "outputs": [],
   "source": [
    "import pandas as pd\n",
    "import numpy as np\n",
    "from collections import Counter\n",
    "import re\n",
    "import matplotlib.pyplot as plt\n",
    "from sklearn.metrics import accuracy_score, precision_score, recall_score, f1_score\n",
    "import random\n",
    "\n",
    "# fixing random seed for reproducibility\n",
    "random.seed(123)\n",
    "np.random.seed(123)\n"
   ]
  },
  {
   "cell_type": "markdown",
   "metadata": {},
   "source": [
    "## Load Raw texts and labels into arrays\n",
    "\n",
    "First, you need to load the training, development and test sets from their corresponding CSV files (tip: you can use Pandas dataframes)."
   ]
  },
  {
   "cell_type": "code",
   "execution_count": 2,
   "metadata": {
    "ExecuteTime": {
     "end_time": "2020-03-20T14:19:22.203476Z",
     "start_time": "2020-03-20T14:19:22.172534Z"
    },
    "code_folding": [
     1
    ],
    "run_control": {
     "marked": true
    }
   },
   "outputs": [],
   "source": [
    "# fill in your code...\n",
    "class FileLoader:\n",
    "    def __init__(self,path,File=None,names=['text','label']):\n",
    "        self.path = self.__load_path(path)\n",
    "        self.names = names\n",
    "        self.__load_data(File)\n",
    "        \n",
    "    def __load_path(self,path):\n",
    "        import os\n",
    "        if os.path.exists(path):\n",
    "            return path\n",
    "        else:\n",
    "            print(\"Path not exist!\")\n",
    "    \n",
    "    def __load_datum(self,files_name):\n",
    "        import os\n",
    "        full_path = self.path +'/'+files_name.strip().strip('/')\n",
    "        if os.path.exists(full_path):\n",
    "            return pd.read_csv(full_path,header=None,names=self.names)\n",
    "        else:\n",
    "            print(\"File not exist!\")\n",
    "            \n",
    "    def __load_data(self,File):\n",
    "        if File==None:\n",
    "            self.train = self.__load_datum('train.csv')\n",
    "            self.test = self.__load_datum('test.csv')\n",
    "            self.dev = self.__load_datum('dev.csv')\n",
    "            print('Finish loading:\\n\\ttrain.csv\\n\\ttest.csv\\n\\tdev.csv')\n",
    "        else:\n",
    "            self.data = self.__load_datum(File)\n",
    "            print('Finish loading:\\n\\t'+File)"
   ]
  },
  {
   "cell_type": "code",
   "execution_count": 3,
   "metadata": {
    "ExecuteTime": {
     "end_time": "2020-03-20T14:19:22.476823Z",
     "start_time": "2020-03-20T14:19:22.260975Z"
    },
    "run_control": {
     "marked": true
    }
   },
   "outputs": [
    {
     "name": "stdout",
     "output_type": "stream",
     "text": [
      "Finish loading:\n",
      "\ttrain.csv\n",
      "\ttest.csv\n",
      "\tdev.csv\n"
     ]
    }
   ],
   "source": [
    "Data = FileLoader('data_sentiment')\n",
    "data_tr = Data.train\n",
    "data_te = Data.test\n",
    "data_dev = Data.dev"
   ]
  },
  {
   "cell_type": "markdown",
   "metadata": {},
   "source": [
    "If you use Pandas you can see a sample of the data."
   ]
  },
  {
   "cell_type": "code",
   "execution_count": 4,
   "metadata": {
    "ExecuteTime": {
     "end_time": "2020-03-20T14:19:22.579973Z",
     "start_time": "2020-03-20T14:19:22.552016Z"
    },
    "run_control": {
     "marked": true
    }
   },
   "outputs": [
    {
     "data": {
      "text/html": [
       "<div>\n",
       "<style scoped>\n",
       "    .dataframe tbody tr th:only-of-type {\n",
       "        vertical-align: middle;\n",
       "    }\n",
       "\n",
       "    .dataframe tbody tr th {\n",
       "        vertical-align: top;\n",
       "    }\n",
       "\n",
       "    .dataframe thead th {\n",
       "        text-align: right;\n",
       "    }\n",
       "</style>\n",
       "<table border=\"1\" class=\"dataframe\">\n",
       "  <thead>\n",
       "    <tr style=\"text-align: right;\">\n",
       "      <th></th>\n",
       "      <th>text</th>\n",
       "      <th>label</th>\n",
       "    </tr>\n",
       "  </thead>\n",
       "  <tbody>\n",
       "    <tr>\n",
       "      <th>0</th>\n",
       "      <td>note : some may consider portions of the follo...</td>\n",
       "      <td>1</td>\n",
       "    </tr>\n",
       "    <tr>\n",
       "      <th>1</th>\n",
       "      <td>note : some may consider portions of the follo...</td>\n",
       "      <td>1</td>\n",
       "    </tr>\n",
       "    <tr>\n",
       "      <th>2</th>\n",
       "      <td>every once in a while you see a film that is s...</td>\n",
       "      <td>1</td>\n",
       "    </tr>\n",
       "    <tr>\n",
       "      <th>3</th>\n",
       "      <td>when i was growing up in 1970s , boys in my sc...</td>\n",
       "      <td>1</td>\n",
       "    </tr>\n",
       "    <tr>\n",
       "      <th>4</th>\n",
       "      <td>the muppet movie is the first , and the best m...</td>\n",
       "      <td>1</td>\n",
       "    </tr>\n",
       "  </tbody>\n",
       "</table>\n",
       "</div>"
      ],
      "text/plain": [
       "                                                text  label\n",
       "0  note : some may consider portions of the follo...      1\n",
       "1  note : some may consider portions of the follo...      1\n",
       "2  every once in a while you see a film that is s...      1\n",
       "3  when i was growing up in 1970s , boys in my sc...      1\n",
       "4  the muppet movie is the first , and the best m...      1"
      ]
     },
     "execution_count": 4,
     "metadata": {},
     "output_type": "execute_result"
    }
   ],
   "source": [
    "data_tr.head()"
   ]
  },
  {
   "cell_type": "code",
   "execution_count": 5,
   "metadata": {
    "ExecuteTime": {
     "end_time": "2020-03-20T14:19:22.655982Z",
     "start_time": "2020-03-20T14:19:22.640016Z"
    },
    "run_control": {
     "marked": true
    }
   },
   "outputs": [
    {
     "data": {
      "text/plain": [
       "1400"
      ]
     },
     "execution_count": 5,
     "metadata": {},
     "output_type": "execute_result"
    }
   ],
   "source": [
    "len(data_tr)"
   ]
  },
  {
   "cell_type": "markdown",
   "metadata": {},
   "source": [
    "The next step is to put the raw texts into Python lists and their corresponding labels into NumPy arrays:\n"
   ]
  },
  {
   "cell_type": "code",
   "execution_count": 6,
   "metadata": {
    "ExecuteTime": {
     "end_time": "2020-03-20T14:19:22.754145Z",
     "start_time": "2020-03-20T14:19:22.740450Z"
    },
    "run_control": {
     "marked": true
    }
   },
   "outputs": [],
   "source": [
    "# fill in your code...\n",
    "def transform(df):\n",
    "    return list(df['text']), df['label'].to_numpy().reshape(-1,1)"
   ]
  },
  {
   "cell_type": "code",
   "execution_count": 7,
   "metadata": {
    "ExecuteTime": {
     "end_time": "2020-03-20T14:19:22.837572Z",
     "start_time": "2020-03-20T14:19:22.822165Z"
    },
    "run_control": {
     "marked": true
    }
   },
   "outputs": [],
   "source": [
    "X_tr_raw, Y_tr = transform(data_tr)\n",
    "X_te_raw, Y_te = transform(data_te)\n",
    "X_dev_raw, Y_dev = transform(data_dev)"
   ]
  },
  {
   "cell_type": "code",
   "execution_count": 8,
   "metadata": {
    "ExecuteTime": {
     "end_time": "2020-03-20T14:19:22.895160Z",
     "start_time": "2020-03-20T14:19:22.875776Z"
    },
    "cell_style": "split",
    "run_control": {
     "marked": true
    },
    "scrolled": true
   },
   "outputs": [
    {
     "data": {
      "text/plain": [
       "['note : some may consider portions of the following text to be spoilers .  be forewarned .  it\\'s startling to consider that it was only a few years ago that film distributors would worriedly rearrange their summer release schedules in order to give the annual disney animated feature juggernaut a wide berth .  the lion king had just cracked $300 million domestic in gross to become one of the most profitable ventures in film history , continuing to build on a sturdy base left by prior flicks aladdin and beauty and the beast .  since then , though , disney\\'s animated features have shown an unbroken string of diminishing returns , with pocahontas , the hunchback of notre dame , and this year\\'s hercules successively proving less and less potent .  with the once seemingly-impregnable disney stranglehold on the market share suddenly looking mighty vulnerable , and faced with their first serious competition in the animated film market from fox\\'s anastasia , disney has brought xmas home early by dusting off the feature which sparked the modern revival of feature animation , the little mermaid .  while the animation for the film is , as is typically the case for disney films , unquestionably top-notch , the magic in the little mermaid is not its animation , but the wonderful innocence of its story and its rousingly superb music .  the film\\'s storyline is fairly straightforward -- young teen falls for handsome man , father disapproves and assigns hapless chaperone to his daughter , teen disobeys father and goes to desperate lengths to win her man -- except in this case , the chaperone is a crab , the teen is a young mermaid , and the object of her desire is a human prince .  what makes the little mermaid so affecting and so emotionally resonant is the richness and charm of its characters and the sheer clarity and honest simplicity of their emotions .  from the moment mermaid ariel lays her eyes on prince eric , she\\'s resolutely smitten , and she\\'s such a pure and endearing character that one can\\'t help but invest their heart with her .  this simple but touching love story , coupled with a healthy dose of smart humour , makes the little mermaid a remarkably captivating picture .  one of the interesting things about the little mermaid is something which now curiously dates it : the voices cast for its motley crew of characters .  this film was produced just before the distracting concept of using celebrity voices became in vogue , which started to a certain degree with beauty and the beast and was irrevocably exacerbated by robin williams\\' much-heralded turn in aladdin ; by the release of the lion king and henceforth , the majority of characters in the animated films were voiced by celebrities .  while it\\'s understandable that animated features lacking the name-recognition or drawing power of disney ( say , balto\\'s use of kevin bacon and bridget fonda , or even anastasia\\'s showcasing of meg ryan and john cusack ) would be forced to turn to this strategy in order to hype their products , it\\'s unfortunate that even disney has embraced this policy .  do we really need to hear , say , demi moore as esmerelda in the hunchback of notre dame ?  is the film\\'s entertainment value really augmented by hearing a recognizable voice , rather than a voice which best suits the role ?   ( i\\'m not exactly on the edge of my seat for eddie murphy in the upcoming mulan . )  fortunately , the performers who voice the characters in the little mermaid , although perhaps more obscure , are impeccably cast .  chief among them is jodi benson , a 1992 tony nominee for her stage work in crazy for you , who voices the film\\'s heroine ariel to perfection ; with a wonderfully expressive speaking voice full of youthful vigor , and gorgeous singing voice , ms . benson provides a most engaging anchor for the film .   ( she\\'s the only reason i\\'d even consider catching flubber . )  similarly , samuel e . wright is terrific in the showy role of sebastian , the weary guardian crab .  he easily milks his lovable character\\'s comic moments for all they\\'re worth , and his rendering of two of the little mermaid\\'s big tunes -- \" under the sea \" and \" kiss the girl \" -- have become the stuff of legend .  pat carrol is deliciously villainous and vampy as the evil sea-witch ursula , while kenneth mars\\' booming voice conveys the stern yet affectionate authority of ariel\\'s father , king triton .  in large roles and small ( edie mcclurg as dotting busybody carlotta is ideal , and rene auberjonois has great fun with his exuberant french chef ) , the little mermaid is impeccably cast .  of course , the little mermaid will probably be best remembered for its remarkable collection of songs composed by the songwriting team of alan menken ( music ) and howard ashman ( lyrics ) , who had created little shop of horrors and would go on to compose beauty and the beast and aladdin for disney before mr . ashman\\'s untimely death .  not only are mr . menken\\'s tunes unbearably catchy , but mr . ashman\\'s charming lyrics are fully integrated into the film\\'s storyline so that the songs are a virtual extension of the character\\'s dialogue , and consequently work wonderfully within the context of the film .  mr . menken\\'s score for the film is equally top-notch ; the sequence where eric ( voiced by christopher daniel barnes ) and ariel tour his kingdom in a horse-drawn carriage becomes magical and wondrous with mr . menken\\'s fine score .  it appears that most people prefer the delightfully colourful production number for the calypso-styled \" under the sea \" as joyfully crooned by mr . wright , which won the academy award and golden globe awards for best song -- indeed , one of the many little joys in screening the film during its re-release was listening to children scattered throughout the audience singing along with the tune -- but my favourite is ms . benson\\'s heartfelt rendition of the ballad \" part of your world \" , an achingly beautiful tune of yearning and hope ( wonderfully lyricized by mr . ashman ) which , accompanied by the film\\'s most dazzlingly polished animation sequence , packs an emotional wallop which literally brought tears to my eyes .  during the song\\'s reprise , which builds to a crescendo with ariel arching on a rock as a wave crashes in , the cumulative effect is nothing short of breathtaking , and one becomes acutely aware that this single instance is one of the finest in animation history .  as of this writing , november 1997 has come to an end , as has disney\\'s limited 17-day re-release of the little mermaid .  there\\'s no question that the primary motivation for , if not the film\\'s reissue itself , at least its timing , was to reinforce disney\\'s dominance in the animation market and provide direct competition to fox\\'s costly new upstart animation division and their first major venture , anastasia .  in every respect , the re-release of the little mermaid appears to be a success -- the film\\'s 1997 grosses have pushed its cumulative domestic gross over the magic $100 million mark ; the little mermaid proved to have remarkably strong drawing power for a film initially released only eight years ago and in many homes on video , pulling in close to $10 million in its opening weekend ; and although nobody could possibly expect the little mermaid to possibly defeat the aggressively-marketed anastasia in head-to-head competition , it siphoned enough from the fox film\\'s opening weekend totals to keep anastasia from the coveted weekend leader spot , allowing for disney\\'s odious flubber to sweep in on the subsequent week and wrestle the family demographic market share away .  but although disney\\'s motives in the reissue of the little mermaid were self-serving and protectionist , the real winner is the public .  any reason to put this film back into theatres is a good one , and it\\'s a true joy to see this heartwarming gem back on the silver screen .  the little mermaid is the best film to come out of the disney\\'s modern animation renaissance , and one of the greatest animated films ever made .  ']"
      ]
     },
     "execution_count": 8,
     "metadata": {},
     "output_type": "execute_result"
    }
   ],
   "source": [
    "X_tr_raw[:1]"
   ]
  },
  {
   "cell_type": "code",
   "execution_count": 9,
   "metadata": {
    "ExecuteTime": {
     "end_time": "2020-03-20T14:19:23.022302Z",
     "start_time": "2020-03-20T14:19:23.006314Z"
    },
    "cell_style": "split",
    "run_control": {
     "marked": true
    }
   },
   "outputs": [
    {
     "data": {
      "text/plain": [
       "array([[1],\n",
       "       [1],\n",
       "       [1],\n",
       "       ...,\n",
       "       [0],\n",
       "       [0],\n",
       "       [0]])"
      ]
     },
     "execution_count": 9,
     "metadata": {},
     "output_type": "execute_result"
    }
   ],
   "source": [
    "Y_tr"
   ]
  },
  {
   "cell_type": "markdown",
   "metadata": {},
   "source": [
    "# Bag-of-Words Representation \n",
    "\n",
    "\n",
    "To train and test Logisitc Regression models, you first need to obtain vector representations for all documents given a vocabulary of features (unigrams, bigrams, trigrams).\n",
    "\n",
    "\n",
    "## Text Pre-Processing Pipeline\n",
    "\n",
    "To obtain a vocabulary of features, you should: \n",
    "- tokenise all texts into a list of unigrams (tip: using a regular expression) \n",
    "- remove stop words (using the one provided or one of your preference) \n",
    "- compute bigrams, trigrams given the remaining unigrams\n",
    "- remove ngrams appearing in less than K documents\n",
    "- use the remaining to create a vocabulary of unigrams, bigrams and trigrams (you can keep top N if you encounter memory issues).\n"
   ]
  },
  {
   "cell_type": "code",
   "execution_count": 10,
   "metadata": {
    "ExecuteTime": {
     "end_time": "2020-03-20T14:19:23.129976Z",
     "start_time": "2020-03-20T14:19:23.112033Z"
    },
    "run_control": {
     "marked": true
    }
   },
   "outputs": [],
   "source": [
    "stop_words = ['a','in','on','at','and','or', \n",
    "              'to', 'the', 'of', 'an', 'by', \n",
    "              'as', 'is', 'was', 'were', 'been', 'be', \n",
    "              'are','for', 'this', 'that', 'these', 'those', 'you', 'i',\n",
    "             'it', 'he', 'she', 'we', 'they', 'will', 'have', 'has',\n",
    "              'do', 'did', 'can', 'could', 'who', 'which', 'what', \n",
    "             'his', 'her', 'they', 'them', 'from', 'with', 'its']"
   ]
  },
  {
   "cell_type": "markdown",
   "metadata": {},
   "source": [
    "### N-gram extraction from a document\n",
    "\n",
    "You first need to implement the `extract_ngrams` function. It takes as input:\n",
    "- `x_raw`: a string corresponding to the raw text of a document\n",
    "- `ngram_range`: a tuple of two integers denoting the type of ngrams you want to extract, e.g. (1,2) denotes extracting unigrams and bigrams.\n",
    "- `token_pattern`: a string to be used within a regular expression to extract all tokens. Note that data is already tokenised so you could opt for a simple white space tokenisation.\n",
    "- `stop_words`: a list of stop words\n",
    "- `vocab`: a given vocabulary. It should be used to extract specific features.\n",
    "\n",
    "and returns:\n",
    "\n",
    "- a list of all extracted features.\n",
    "\n",
    "See the examples below to see how this function should work."
   ]
  },
  {
   "cell_type": "code",
   "execution_count": 11,
   "metadata": {
    "ExecuteTime": {
     "end_time": "2020-03-20T14:19:23.203832Z",
     "start_time": "2020-03-20T14:19:23.170941Z"
    },
    "code_folding": [
     3,
     13
    ],
    "run_control": {
     "marked": true
    }
   },
   "outputs": [],
   "source": [
    "def extract_ngrams(x_raw, ngram_range=(1,3), token_pattern=r'\\b[A-Za-z][A-Za-z]+\\b', stop_words=[], vocab=set()):\n",
    "    \"\"\"N-gram extraction from a document.\n",
    "\n",
    "    Args:\n",
    "        x_raw: a string corresponding to the raw text of a document\n",
    "        ngram_range: a tuple of two integers denoting the type of ngrams you want\n",
    "            to extract, e.g. (1,2) denotes extracting unigrams and bigrams.\n",
    "        token_pattern: a string to be used within a regular expression to extract\n",
    "            all tokens. Note that data is already tokenised so you could opt for\n",
    "            a simple white space tokenisation.\n",
    "        stop_words: a list of stop words\n",
    "        vocab: a given vocabulary. It should be used to extract specific features.\n",
    "\n",
    "    Returns:\n",
    "        A list of terms to the corresponding N-gram. Each part fits one N-gram,\n",
    "        except 1-gramrow. For example:\n",
    "\n",
    "        ['great','movie','watch',\n",
    "        ('great', 'movie'),('movie', 'watch'),\n",
    "        ('great', 'movie', 'watch')]\n",
    "\n",
    "    \"\"\"\n",
    "    def finder(s,n):\n",
    "        if n <= 0 or n > len(s):\n",
    "            raise Exception('n is out of range')\n",
    "        if n == 1:\n",
    "            return s\n",
    "        else:\n",
    "            return map(lambda i: tuple(s[i:i+n]),range(len(s)-n+1))\n",
    "\n",
    "    # Find all words by condition\n",
    "    pattern = re.compile(token_pattern)\n",
    "    term_eligible = [term.lower() for term in pattern.findall(x_raw) if term.lower() not in stop_words]\n",
    "\n",
    "    # Find combinations of different N-grams\n",
    "    x = [term for n in range(ngram_range[0],ngram_range[1]+1) for term in finder(term_eligible,n)]\n",
    "    \n",
    "    if not vocab:    \n",
    "        return x\n",
    "    else:\n",
    "        return [term for term in x if term in vocab]"
   ]
  },
  {
   "cell_type": "code",
   "execution_count": 12,
   "metadata": {
    "ExecuteTime": {
     "end_time": "2020-03-20T14:19:23.281497Z",
     "start_time": "2020-03-20T14:19:23.256442Z"
    },
    "run_control": {
     "marked": true
    }
   },
   "outputs": [
    {
     "data": {
      "text/plain": [
       "['great',\n",
       " 'movie',\n",
       " 'watch',\n",
       " ('great', 'movie'),\n",
       " ('movie', 'watch'),\n",
       " ('great', 'movie', 'watch')]"
      ]
     },
     "execution_count": 12,
     "metadata": {},
     "output_type": "execute_result"
    }
   ],
   "source": [
    "extract_ngrams(\"this is a great movie to watch\", \n",
    "               ngram_range=(1,3), \n",
    "               stop_words=stop_words)"
   ]
  },
  {
   "cell_type": "code",
   "execution_count": 13,
   "metadata": {
    "ExecuteTime": {
     "end_time": "2020-03-20T14:19:23.355283Z",
     "start_time": "2020-03-20T14:19:23.341132Z"
    },
    "run_control": {
     "marked": true
    }
   },
   "outputs": [
    {
     "data": {
      "text/plain": [
       "['great', ('great', 'movie')]"
      ]
     },
     "execution_count": 13,
     "metadata": {},
     "output_type": "execute_result"
    }
   ],
   "source": [
    "extract_ngrams(\"this is a great movie to watch\", \n",
    "               ngram_range=(1,2), \n",
    "               stop_words=stop_words, \n",
    "               vocab=set(['great',  ('great','movie')]))"
   ]
  },
  {
   "cell_type": "markdown",
   "metadata": {},
   "source": [
    "Note that it is OK to represent n-grams using lists instead of tuples: e.g. `['great', ['great', 'movie']]`"
   ]
  },
  {
   "cell_type": "markdown",
   "metadata": {},
   "source": [
    "### Create a vocabulary of n-grams\n",
    "\n",
    "Then the `get_vocab` function will be used to (1) create a vocabulary of ngrams; (2) count the document frequencies of ngrams; (3) their raw frequency. It takes as input:\n",
    "- `X_raw`: a list of strings each corresponding to the raw text of a document\n",
    "- `ngram_range`: a tuple of two integers denoting the type of ngrams you want to extract, e.g. (1,2) denotes extracting unigrams and bigrams.\n",
    "- `token_pattern`: a string to be used within a regular expression to extract all tokens. Note that data is already tokenised so you could opt for a simple white space tokenisation.\n",
    "- `stop_words`: a list of stop words\n",
    "- `vocab`: a given vocabulary. It should be used to extract specific features.\n",
    "- `min_df`: keep ngrams with a minimum document frequency.\n",
    "- `keep_topN`: keep top-N more frequent ngrams.\n",
    "\n",
    "and returns:\n",
    "\n",
    "- `vocab`: a set of the n-grams that will be used as features.\n",
    "- `df`: a Counter (or dict) that contains ngrams as keys and their corresponding document frequency as values.\n",
    "- `ngram_counts`: counts of each ngram in vocab\n",
    "\n",
    "Hint: it should make use of the `extract_ngrams` function."
   ]
  },
  {
   "cell_type": "code",
   "execution_count": 14,
   "metadata": {
    "ExecuteTime": {
     "end_time": "2020-03-20T14:19:23.448482Z",
     "start_time": "2020-03-20T14:19:23.428656Z"
    },
    "code_folding": [
     1,
     5,
     16
    ],
    "run_control": {
     "marked": true
    }
   },
   "outputs": [],
   "source": [
    "def get_vocab(X_raw, ngram_range=(1,3), token_pattern=r'\\b[A-Za-z][A-Za-z]+\\b', min_df=0, keep_topN=0, stop_words=[]):\n",
    "    '''1. create a vocabulary of ngrams\n",
    "       2. count the document frequencies of ngrams\n",
    "       3. their raw frequency\n",
    "\n",
    "    Args:\n",
    "        X_raw: a list of strings each corresponding to the raw text of a document\n",
    "        ngram_range: a tuple of two integers denoting the type of ngrams you want\n",
    "            to extract, e.g. (1,2) denotes extracting unigrams and bigrams.\n",
    "        token_pattern: a string to be used within a regular expression to extract\n",
    "            all tokens. Note that data is already tokenised so you could opt for\n",
    "            a simple white space tokenisation.\n",
    "        stop_words: a list of stop words\n",
    "        min_df: keep ngrams with a minimum document frequency.\n",
    "        keep_topN: keep top-N more frequent ngrams.\n",
    "\n",
    "    Returns:\n",
    "        vocab: a set of the n-grams that will be used as features.\n",
    "        df: a Counter (or dict) that contains ngrams as keys and their corresponding\n",
    "            document frequency as values.\n",
    "        ngram_counts: counts of each ngram in vocab\n",
    "        For example,\n",
    "\n",
    "    '''\n",
    "    bag_of_ngrams = list()\n",
    "    df = Counter()\n",
    "    for line in X_raw:\n",
    "        ngrams = extract_ngrams(line,ngram_range=(1,3),token_pattern=token_pattern,stop_words=stop_words)\n",
    "        bag_of_ngrams += ngrams\n",
    "        df.update(set(ngrams))\n",
    "    df = Counter({k:v for k,v in df.items() if v >=min_df})\n",
    "    ngram_counts = Counter(bag_of_ngrams)\n",
    "    \n",
    "    vocab = [items[0] for items in ngram_counts.most_common() if items[0] in df.keys()][:keep_topN]\n",
    "\n",
    "    return vocab, df, ngram_counts"
   ]
  },
  {
   "cell_type": "markdown",
   "metadata": {},
   "source": [
    "Now you should use `get_vocab` to create your vocabulary and get document and raw frequencies of n-grams:"
   ]
  },
  {
   "cell_type": "code",
   "execution_count": 15,
   "metadata": {
    "ExecuteTime": {
     "end_time": "2020-03-20T14:19:29.787084Z",
     "start_time": "2020-03-20T14:19:23.513484Z"
    },
    "run_control": {
     "marked": true
    }
   },
   "outputs": [
    {
     "name": "stdout",
     "output_type": "stream",
     "text": [
      "5000\n",
      "\n",
      "['film', 'but', 'one', 'movie', 'not', 'all', 'there', 'like', 'so', 'out', 'about', 'more', 'up', 'when', 'their', 'some', 'just', 'if', 'into', 'him', 'even', 'only', 'no', 'than', 'time', 'good', 'most', 'story', 'would', 'much', 'character', 'also', 'get', 'two', 'well', 'characters', 'other', 'very', 'first', 'see', 'after', 'because', 'way', 'make', 'off', 'plot', 'while', 'had', 'any', 'too', 'little', 'life', 'films', 'does', 'where', 'people', 'then', 'how', 'me', 'really', 'man', 'scene', 'my', 'never', 'bad', 'being', 'over', 'best', 'don', 'scenes', 'doesn', 'many', 'new', 'know', 'director', 'here', 'action', 'such', 'great', 'through', 'movies', 're', 'love', 'another', 'made', 'go', 'big', 'end', 'seems', 'something', 'still', 'back', 'world', 'us', 'work', 'now', 'down', 'before', 'makes', 'however']\n",
      "\n",
      "[('but', 1334), ('one', 1247), ('film', 1231), ('not', 1170), ('all', 1117), ('movie', 1095), ('out', 1080), ('so', 1047), ('there', 1046), ('like', 1043)]\n"
     ]
    }
   ],
   "source": [
    "vocab, df, ngram_counts = get_vocab(X_tr_raw, ngram_range=(1,3), keep_topN=5000, stop_words=stop_words)\n",
    "print(len(vocab))\n",
    "print()\n",
    "print(list(vocab)[:100])\n",
    "print()\n",
    "print(df.most_common()[:10])"
   ]
  },
  {
   "cell_type": "code",
   "execution_count": 10,
   "metadata": {
    "ExecuteTime": {
     "end_time": "2020-02-15T14:17:39.319793Z",
     "start_time": "2020-02-15T14:17:36.836545Z"
    },
    "run_control": {
     "marked": false
    }
   },
   "outputs": [
    {
     "name": "stdout",
     "output_type": "stream",
     "text": [
      "5000\n",
      "\n",
      "['manages', 'questions', 'covered', 'body', 'ron', 'flair', 'drunken', 'approach', 'etc', 'allowing', 'lebowski', 'strong', 'model', 'category', 'family', 'couldn', 'argento', 'why', 'shown', ('doesn', 'work'), 'ocean', ('lot', 'more'), 'lou', 'attorney', 'kick', 'thinking', 'worth', 'larger', ('waste', 'time'), ('back', 'forth'), 'roles', 'adventures', ('million', 'dollars'), 'critics', 'according', ('ghost', 'dog'), 'outside', 'protect', ('last', 'time'), ('but', 'so'), 'creative', 'sell', 'pile', 'needless', 'immediately', 'screens', 'cards', 'blonde', 'meets', 'place', 'needs', 'needed', 'teacher', 'conceived', 'competition', 'powerful', 'expected', ('first', 'movie'), ('but', 'least'), 'gave', 'pleasures', 'spectacular', 'safe', 'wishes', 'stuff', ('there', 'something'), 'robert', 'kid', 'latest', ('bad', 'guy'), 'comet', 'street', 'intelligent', 'allow', ('tim', 'roth'), ('production', 'design'), 'living', 'abyss', 'clean', ('makes', 'him'), 'aware', 'footage', 'vicious', 'sharon', 'genuinely', 'south', 'draw', 'wall', ('will', 'smith'), 'romeo', ('scenes', 'but'), 'sometimes', 'friend', 'millionaire', 'families', 'technique', 'spirit', ('not', 'going'), 'horrifying', 'national']\n",
      "\n",
      "[('but', 1334), ('one', 1247), ('film', 1231), ('not', 1170), ('all', 1117), ('movie', 1095), ('out', 1080), ('so', 1047), ('there', 1046), ('like', 1043)]\n"
     ]
    }
   ],
   "source": [
    "vocab, df, ngram_counts = get_vocab(X_tr_raw, ngram_range=(1,3), keep_topN=5000, stop_words=stop_words)\n",
    "print(len(vocab))\n",
    "print()\n",
    "print(list(vocab)[:100])\n",
    "print()\n",
    "print(df.most_common()[:10])"
   ]
  },
  {
   "cell_type": "markdown",
   "metadata": {},
   "source": [
    "Then, you need to create vocabulary id -> word and id -> word dictionaries for reference:"
   ]
  },
  {
   "cell_type": "code",
   "execution_count": 16,
   "metadata": {
    "ExecuteTime": {
     "end_time": "2020-03-20T14:19:29.920230Z",
     "start_time": "2020-03-20T14:19:29.853310Z"
    },
    "cell_style": "center",
    "run_control": {
     "marked": true
    }
   },
   "outputs": [
    {
     "data": {
      "text/plain": [
       "{0: 'film',\n",
       " 1: 'but',\n",
       " 2: 'one',\n",
       " 3: 'movie',\n",
       " 4: 'not',\n",
       " 5: 'all',\n",
       " 6: 'there',\n",
       " 7: 'like',\n",
       " 8: 'so',\n",
       " 9: 'out',\n",
       " 10: 'about',\n",
       " 11: 'more',\n",
       " 12: 'up',\n",
       " 13: 'when',\n",
       " 14: 'their',\n",
       " 15: 'some',\n",
       " 16: 'just',\n",
       " 17: 'if',\n",
       " 18: 'into',\n",
       " 19: 'him',\n",
       " 20: 'even',\n",
       " 21: 'only',\n",
       " 22: 'no',\n",
       " 23: 'than',\n",
       " 24: 'time',\n",
       " 25: 'good',\n",
       " 26: 'most',\n",
       " 27: 'story',\n",
       " 28: 'would',\n",
       " 29: 'much',\n",
       " 30: 'character',\n",
       " 31: 'also',\n",
       " 32: 'get',\n",
       " 33: 'two',\n",
       " 34: 'well',\n",
       " 35: 'characters',\n",
       " 36: 'other',\n",
       " 37: 'very',\n",
       " 38: 'first',\n",
       " 39: 'see',\n",
       " 40: 'after',\n",
       " 41: 'because',\n",
       " 42: 'way',\n",
       " 43: 'make',\n",
       " 44: 'off',\n",
       " 45: 'plot',\n",
       " 46: 'while',\n",
       " 47: 'had',\n",
       " 48: 'any',\n",
       " 49: 'too',\n",
       " 50: 'little',\n",
       " 51: 'life',\n",
       " 52: 'films',\n",
       " 53: 'does',\n",
       " 54: 'where',\n",
       " 55: 'people',\n",
       " 56: 'then',\n",
       " 57: 'how',\n",
       " 58: 'me',\n",
       " 59: 'really',\n",
       " 60: 'man',\n",
       " 61: 'scene',\n",
       " 62: 'my',\n",
       " 63: 'never',\n",
       " 64: 'bad',\n",
       " 65: 'being',\n",
       " 66: 'over',\n",
       " 67: 'best',\n",
       " 68: 'don',\n",
       " 69: 'scenes',\n",
       " 70: 'doesn',\n",
       " 71: 'many',\n",
       " 72: 'new',\n",
       " 73: 'know',\n",
       " 74: 'director',\n",
       " 75: 'here',\n",
       " 76: 'action',\n",
       " 77: 'such',\n",
       " 78: 'great',\n",
       " 79: 'through',\n",
       " 80: 'movies',\n",
       " 81: 're',\n",
       " 82: 'love',\n",
       " 83: 'another',\n",
       " 84: 'made',\n",
       " 85: 'go',\n",
       " 86: 'big',\n",
       " 87: 'end',\n",
       " 88: 'seems',\n",
       " 89: 'something',\n",
       " 90: 'still',\n",
       " 91: 'back',\n",
       " 92: 'world',\n",
       " 93: 'us',\n",
       " 94: 'work',\n",
       " 95: 'now',\n",
       " 96: 'down',\n",
       " 97: 'before',\n",
       " 98: 'makes',\n",
       " 99: 'however',\n",
       " 100: 'few',\n",
       " 101: 'every',\n",
       " 102: 'between',\n",
       " 103: 'seen',\n",
       " 104: 'better',\n",
       " 105: 'enough',\n",
       " 106: 'though',\n",
       " 107: 'real',\n",
       " 108: 'why',\n",
       " 109: 'things',\n",
       " 110: 'going',\n",
       " 111: 'around',\n",
       " 112: 'both',\n",
       " 113: 'year',\n",
       " 114: 'take',\n",
       " 115: 'audience',\n",
       " 116: 'your',\n",
       " 117: 'same',\n",
       " 118: 'role',\n",
       " 119: 'john',\n",
       " 120: 'gets',\n",
       " 121: 'should',\n",
       " 122: 'isn',\n",
       " 123: 'old',\n",
       " 124: 'think',\n",
       " 125: 've',\n",
       " 126: 'look',\n",
       " 127: 'performance',\n",
       " 128: 'long',\n",
       " 129: 'may',\n",
       " 130: 'nothing',\n",
       " 131: 'years',\n",
       " 132: 'actually',\n",
       " 133: 'comedy',\n",
       " 134: 'thing',\n",
       " 135: 'last',\n",
       " 136: 'fact',\n",
       " 137: 'right',\n",
       " 138: 'almost',\n",
       " 139: 'cast',\n",
       " 140: 'say',\n",
       " 141: 'own',\n",
       " 142: 'funny',\n",
       " 143: 'ever',\n",
       " 144: 'although',\n",
       " 145: 'come',\n",
       " 146: 'played',\n",
       " 147: 'script',\n",
       " 148: 'since',\n",
       " 149: 'young',\n",
       " 150: 'find',\n",
       " 151: 'star',\n",
       " 152: 'comes',\n",
       " 153: 'plays',\n",
       " 154: 'actors',\n",
       " 155: 'screen',\n",
       " 156: 'show',\n",
       " 157: 'part',\n",
       " 158: 'again',\n",
       " 159: 'original',\n",
       " 160: 'without',\n",
       " 161: 'effects',\n",
       " 162: 'lot',\n",
       " 163: 'takes',\n",
       " 164: 'day',\n",
       " 165: 'point',\n",
       " 166: 'acting',\n",
       " 167: 'guy',\n",
       " 168: 'interesting',\n",
       " 169: 'himself',\n",
       " 170: 'goes',\n",
       " 171: 'might',\n",
       " 172: 'least',\n",
       " 173: 'high',\n",
       " 174: 'quite',\n",
       " 175: 'during',\n",
       " 176: 'three',\n",
       " 177: 'each',\n",
       " 178: 'minutes',\n",
       " 179: 'far',\n",
       " 180: 'once',\n",
       " 181: 'away',\n",
       " 182: 'place',\n",
       " 183: 'course',\n",
       " 184: 'family',\n",
       " 185: 'set',\n",
       " 186: 'rather',\n",
       " 187: 'anything',\n",
       " 188: 'watch',\n",
       " 189: 'making',\n",
       " 190: 'fun',\n",
       " 191: 'must',\n",
       " 192: 'our',\n",
       " 193: 'special',\n",
       " 194: 'yet',\n",
       " 195: 'didn',\n",
       " 196: 'kind',\n",
       " 197: 'll',\n",
       " 198: 'bit',\n",
       " 199: 'always',\n",
       " 200: ('more', 'than'),\n",
       " 201: 'seem',\n",
       " 202: 'sense',\n",
       " 203: 'give',\n",
       " 204: 'picture',\n",
       " 205: 'series',\n",
       " 206: 'hard',\n",
       " 207: 'wife',\n",
       " 208: 'black',\n",
       " 209: 'want',\n",
       " 210: 'times',\n",
       " 211: 'home',\n",
       " 212: 'job',\n",
       " 213: 'hollywood',\n",
       " 214: 'along',\n",
       " 215: 'woman',\n",
       " 216: 'pretty',\n",
       " 217: 'actor',\n",
       " 218: 'trying',\n",
       " 219: 'instead',\n",
       " 220: 'dialogue',\n",
       " 221: 'everything',\n",
       " 222: 'probably',\n",
       " 223: 'sure',\n",
       " 224: 'help',\n",
       " 225: 'american',\n",
       " 226: 'having',\n",
       " 227: 'men',\n",
       " 228: 'half',\n",
       " 229: 'given',\n",
       " 230: 'becomes',\n",
       " 231: 'gives',\n",
       " 232: 'looking',\n",
       " 233: 'become',\n",
       " 234: 'feel',\n",
       " 235: 'money',\n",
       " 236: 'less',\n",
       " 237: 'horror',\n",
       " 238: 'wants',\n",
       " 239: 'done',\n",
       " 240: 'got',\n",
       " 241: 'together',\n",
       " 242: 'watching',\n",
       " 243: 'girl',\n",
       " 244: 'sex',\n",
       " 245: 'everyone',\n",
       " 246: 'music',\n",
       " 247: 'play',\n",
       " 248: 'whole',\n",
       " 249: 'perhaps',\n",
       " 250: 'father',\n",
       " 251: 'especially',\n",
       " 252: 'human',\n",
       " 253: 'completely',\n",
       " 254: 'moments',\n",
       " 255: 'whose',\n",
       " 256: 'put',\n",
       " 257: 'reason',\n",
       " 258: 'line',\n",
       " 259: 'james',\n",
       " 260: 'case',\n",
       " 261: 'death',\n",
       " 262: 'anyone',\n",
       " 263: 'next',\n",
       " 264: 'itself',\n",
       " 265: 'mind',\n",
       " 266: 'ending',\n",
       " 267: 'entire',\n",
       " 268: 'city',\n",
       " 269: 'true',\n",
       " 270: 'different',\n",
       " 271: 'looks',\n",
       " 272: 'rest',\n",
       " 273: 'until',\n",
       " 274: 'humor',\n",
       " 275: 'michael',\n",
       " 276: 'thought',\n",
       " 277: 'mother',\n",
       " 278: 'small',\n",
       " 279: 'let',\n",
       " 280: 'several',\n",
       " 281: 'simply',\n",
       " 282: 'lost',\n",
       " 283: 'problem',\n",
       " 284: 'soon',\n",
       " 285: 'based',\n",
       " 286: 'written',\n",
       " 287: 'else',\n",
       " 288: 'shows',\n",
       " 289: 'left',\n",
       " 290: 'called',\n",
       " 291: 'friend',\n",
       " 292: 'dead',\n",
       " 293: 'couple',\n",
       " 294: 'main',\n",
       " 295: 'getting',\n",
       " 296: 'performances',\n",
       " 297: 'second',\n",
       " 298: 'night',\n",
       " 299: 'use',\n",
       " 300: 'head',\n",
       " 301: ('special', 'effects'),\n",
       " 302: 'school',\n",
       " 303: 'idea',\n",
       " 304: 'tv',\n",
       " 305: 'evil',\n",
       " 306: 'house',\n",
       " 307: 'found',\n",
       " 308: 'top',\n",
       " 309: 'name',\n",
       " 310: 'comic',\n",
       " 311: 'named',\n",
       " 312: 'either',\n",
       " 313: 'wrong',\n",
       " 314: 'full',\n",
       " 315: 'stars',\n",
       " 316: 'alien',\n",
       " 317: ('there', 'no'),\n",
       " 318: 'often',\n",
       " 319: 'turns',\n",
       " 320: 'unfortunately',\n",
       " 321: 'david',\n",
       " 322: 'later',\n",
       " 323: 'final',\n",
       " 324: 'someone',\n",
       " 325: 'town',\n",
       " 326: 'believe',\n",
       " 327: 'works',\n",
       " 328: 'against',\n",
       " 329: 'begins',\n",
       " 330: 'person',\n",
       " 331: 'certainly',\n",
       " 332: 'sequence',\n",
       " 333: 'used',\n",
       " 334: 'behind',\n",
       " 335: 'live',\n",
       " 336: 'tries',\n",
       " 337: 'run',\n",
       " 338: 'group',\n",
       " 339: 'friends',\n",
       " 340: 'hand',\n",
       " 341: 'boy',\n",
       " 342: 'summer',\n",
       " 343: 'nice',\n",
       " 344: 'seeing',\n",
       " 345: 'game',\n",
       " 346: 'face',\n",
       " 347: 'war',\n",
       " 348: 'shot',\n",
       " 349: 'book',\n",
       " 350: 'turn',\n",
       " 351: 'playing',\n",
       " 352: 'tell',\n",
       " 353: 'despite',\n",
       " 354: 'kids',\n",
       " 355: 'maybe',\n",
       " 356: 'keep',\n",
       " 357: 'hour',\n",
       " 358: ('not', 'only'),\n",
       " 359: 'doing',\n",
       " 360: 'under',\n",
       " 361: 'style',\n",
       " 362: 'finally',\n",
       " 363: 'able',\n",
       " 364: 'relationship',\n",
       " 365: 'disney',\n",
       " 366: 'worth',\n",
       " 367: 'side',\n",
       " 368: 'past',\n",
       " 369: 'said',\n",
       " 370: 'children',\n",
       " 371: 'including',\n",
       " 372: 'days',\n",
       " 373: 'directed',\n",
       " 374: 'need',\n",
       " 375: 'won',\n",
       " 376: 'team',\n",
       " 377: 'short',\n",
       " 378: 'entertaining',\n",
       " 379: 'supposed',\n",
       " 380: 'earth',\n",
       " 381: 'lives',\n",
       " 382: 'starts',\n",
       " 383: 'lines',\n",
       " 384: 'perfect',\n",
       " 385: 'car',\n",
       " 386: 'finds',\n",
       " 387: 'white',\n",
       " 388: 'mr',\n",
       " 389: 'beautiful',\n",
       " 390: 'self',\n",
       " 391: 'running',\n",
       " 392: 'video',\n",
       " 393: ('but', 'not'),\n",
       " 394: 'dark',\n",
       " 395: 'camera',\n",
       " 396: 'early',\n",
       " 397: 'son',\n",
       " 398: 'voice',\n",
       " 399: 'opening',\n",
       " 400: 'joe',\n",
       " 401: 'nearly',\n",
       " 402: 'moment',\n",
       " 403: 'example',\n",
       " 404: 'writer',\n",
       " 405: 'exactly',\n",
       " 406: 'production',\n",
       " 407: 'version',\n",
       " 408: 'computer',\n",
       " 409: 'problems',\n",
       " 410: ('does', 'not'),\n",
       " 411: 'violence',\n",
       " 412: 'fine',\n",
       " 413: 'matter',\n",
       " 414: 'care',\n",
       " 415: 'fight',\n",
       " 416: 'kevin',\n",
       " 417: 'review',\n",
       " 418: 'five',\n",
       " 419: 'try',\n",
       " 420: 'daughter',\n",
       " 421: 'lee',\n",
       " 422: 'hit',\n",
       " 423: 'save',\n",
       " 424: 'heart',\n",
       " 425: 'throughout',\n",
       " 426: 'title',\n",
       " 427: 'simple',\n",
       " 428: 'known',\n",
       " 429: 'sequences',\n",
       " 430: 'eyes',\n",
       " 431: 'start',\n",
       " 432: 'worst',\n",
       " 433: 'coming',\n",
       " 434: 'themselves',\n",
       " 435: 'major',\n",
       " 436: 'obvious',\n",
       " 437: 'order',\n",
       " 438: 'kill',\n",
       " 439: 'deep',\n",
       " 440: 'beginning',\n",
       " 441: 'supporting',\n",
       " 442: 'drama',\n",
       " 443: ('so', 'much'),\n",
       " 444: 'jackie',\n",
       " 445: 'upon',\n",
       " 446: ('each', 'other'),\n",
       " 447: 'jack',\n",
       " 448: 'already',\n",
       " 449: 'robert',\n",
       " 450: 'aren',\n",
       " 451: 'space',\n",
       " 452: 'question',\n",
       " 453: 'guys',\n",
       " 454: 'screenplay',\n",
       " 455: 'killer',\n",
       " 456: 'classic',\n",
       " 457: 'truly',\n",
       " 458: 'sort',\n",
       " 459: 'boring',\n",
       " 460: 'thriller',\n",
       " 461: 'child',\n",
       " 462: 'close',\n",
       " 463: 'others',\n",
       " 464: 'saw',\n",
       " 465: 'women',\n",
       " 466: 'fiction',\n",
       " 467: 'dog',\n",
       " 468: 'act',\n",
       " 469: 'direction',\n",
       " 470: 'sets',\n",
       " 471: 'ship',\n",
       " 472: 'roles',\n",
       " 473: 'happens',\n",
       " 474: 'attempt',\n",
       " 475: 'room',\n",
       " 476: 'note',\n",
       " 477: 'genre',\n",
       " 478: 'tom',\n",
       " 479: 'body',\n",
       " 480: 'four',\n",
       " 481: 'yes',\n",
       " 482: 'wasn',\n",
       " 483: 'quickly',\n",
       " 484: 'stop',\n",
       " 485: 'husband',\n",
       " 486: 'knows',\n",
       " 487: 'laugh',\n",
       " 488: 'van',\n",
       " 489: 'worse',\n",
       " 490: 'novel',\n",
       " 491: 'level',\n",
       " 492: 'ends',\n",
       " 493: 'strong',\n",
       " 494: 'piece',\n",
       " 495: 'tells',\n",
       " 496: 'george',\n",
       " 497: 'hero',\n",
       " 498: 'murder',\n",
       " 499: 'brother',\n",
       " 500: 'god',\n",
       " 501: 'york',\n",
       " 502: 'wonder',\n",
       " 503: 'released',\n",
       " 504: 'particularly',\n",
       " 505: 'sometimes',\n",
       " 506: 'romantic',\n",
       " 507: 'says',\n",
       " 508: 'aliens',\n",
       " 509: 'wild',\n",
       " 510: 'hell',\n",
       " 511: 'fans',\n",
       " 512: 'involving',\n",
       " 513: 'single',\n",
       " 514: 'possible',\n",
       " 515: 'sound',\n",
       " 516: 'none',\n",
       " 517: 'manages',\n",
       " 518: 'feature',\n",
       " 519: 'hope',\n",
       " 520: 'stupid',\n",
       " 521: 'paul',\n",
       " 522: 'career',\n",
       " 523: 'king',\n",
       " 524: 'involved',\n",
       " 525: 'bring',\n",
       " 526: 'impressive',\n",
       " 527: 'attention',\n",
       " 528: 'living',\n",
       " 529: 'lead',\n",
       " 530: 'material',\n",
       " 531: 'planet',\n",
       " 532: 'fall',\n",
       " 533: 'seemed',\n",
       " 534: 'chris',\n",
       " 535: 'experience',\n",
       " 536: 'interest',\n",
       " 537: 'talk',\n",
       " 538: 'lack',\n",
       " 539: 'taking',\n",
       " 540: 'de',\n",
       " 541: 'taken',\n",
       " 542: 'appears',\n",
       " 543: 'basically',\n",
       " 544: 'elements',\n",
       " 545: 'extremely',\n",
       " 546: 'mostly',\n",
       " 547: ('new', 'york'),\n",
       " 548: 'except',\n",
       " 549: 'enjoy',\n",
       " 550: 'talent',\n",
       " 551: 'peter',\n",
       " 552: 'scream',\n",
       " 553: 'theater',\n",
       " 554: 'deal',\n",
       " 555: 'crew',\n",
       " 556: 'meet',\n",
       " 557: 'result',\n",
       " 558: 'recent',\n",
       " 559: 'feeling',\n",
       " 560: 'form',\n",
       " 561: 'power',\n",
       " 562: 'among',\n",
       " 563: 'emotional',\n",
       " 564: 'future',\n",
       " 565: 'usually',\n",
       " 566: 'police',\n",
       " 567: 'light',\n",
       " 568: 'falls',\n",
       " 569: 'success',\n",
       " 570: 'hours',\n",
       " 571: 'oscar',\n",
       " 572: 'across',\n",
       " 573: 'battle',\n",
       " 574: 'smith',\n",
       " 575: 'score',\n",
       " 576: 'late',\n",
       " 577: 'television',\n",
       " 578: 'entertainment',\n",
       " 579: 'parents',\n",
       " 580: 'obviously',\n",
       " 581: 'batman',\n",
       " 582: 'words',\n",
       " 583: 'science',\n",
       " 584: 'stuff',\n",
       " 585: 'cool',\n",
       " 586: 'ways',\n",
       " 587: 'alone',\n",
       " 588: 'mean',\n",
       " 589: 'giving',\n",
       " 590: 'release',\n",
       " 591: 'features',\n",
       " 592: 'number',\n",
       " 593: 'chance',\n",
       " 594: 'feels',\n",
       " 595: 'told',\n",
       " 596: 'tale',\n",
       " 597: 'co',\n",
       " 598: 'viewer',\n",
       " 599: 'important',\n",
       " 600: ('even', 'though'),\n",
       " 601: ('too', 'much'),\n",
       " 602: 'jones',\n",
       " 603: 'wonderful',\n",
       " 604: 'robin',\n",
       " 605: 'forced',\n",
       " 606: 'mission',\n",
       " 607: 'eventually',\n",
       " 608: 'type',\n",
       " 609: 'jokes',\n",
       " 610: 'suspense',\n",
       " 611: 'meets',\n",
       " 612: 'girls',\n",
       " 613: 'williams',\n",
       " 614: 'attempts',\n",
       " 615: 'killed',\n",
       " 616: 'history',\n",
       " 617: 'serious',\n",
       " 618: 'premise',\n",
       " 619: 'guess',\n",
       " 620: 'within',\n",
       " 621: 'needs',\n",
       " 622: 'william',\n",
       " 623: 'america',\n",
       " 624: 'apparently',\n",
       " 625: 'using',\n",
       " 626: 'due',\n",
       " 627: 'ben',\n",
       " 628: 'kid',\n",
       " 629: 'whether',\n",
       " 630: 'happy',\n",
       " 631: 'art',\n",
       " 632: 'middle',\n",
       " 633: 'credits',\n",
       " 634: 'wars',\n",
       " 635: 'expect',\n",
       " 636: 'presence',\n",
       " 637: 'girlfriend',\n",
       " 638: 'went',\n",
       " 639: 'change',\n",
       " 640: 'office',\n",
       " 641: 'easily',\n",
       " 642: 'somehow',\n",
       " 643: 'oh',\n",
       " 644: 'poor',\n",
       " 645: 'word',\n",
       " 646: 'flick',\n",
       " 647: 'wouldn',\n",
       " 648: 'eye',\n",
       " 649: 'laughs',\n",
       " 650: ('rather', 'than'),\n",
       " 651: 'working',\n",
       " 652: 'leads',\n",
       " 653: 'die',\n",
       " 654: 'straight',\n",
       " 655: 'surprise',\n",
       " 656: 'anyway',\n",
       " 657: 'dr',\n",
       " 658: 'easy',\n",
       " 659: 'happen',\n",
       " 660: 'am',\n",
       " 661: 'cop',\n",
       " 662: 'strange',\n",
       " 663: 'ago',\n",
       " 664: 'talking',\n",
       " 665: 'difficult',\n",
       " 666: 'cut',\n",
       " 667: 'remember',\n",
       " 668: 'quality',\n",
       " 669: ('star', 'wars'),\n",
       " 670: 'harry',\n",
       " 671: 'leave',\n",
       " 672: 'whom',\n",
       " 673: 'budget',\n",
       " 674: 'animated',\n",
       " 675: 'slow',\n",
       " 676: 'absolutely',\n",
       " 677: 'smart',\n",
       " 678: 'effective',\n",
       " 679: ('ve', 'seen'),\n",
       " 680: 'cinema',\n",
       " 681: 'crime',\n",
       " 682: 'minute',\n",
       " 683: 'million',\n",
       " 684: ('one', 'most'),\n",
       " 685: 'myself',\n",
       " 686: 'jim',\n",
       " 687: 'definitely',\n",
       " 688: ('year', 'old'),\n",
       " 689: 'surprisingly',\n",
       " 690: 'local',\n",
       " 691: 'runs',\n",
       " 692: 'business',\n",
       " 693: 'personal',\n",
       " 694: 'villain',\n",
       " 695: 'present',\n",
       " 696: 'visual',\n",
       " 697: 'mystery',\n",
       " 698: 'nature',\n",
       " 699: 'age',\n",
       " 700: 'reality',\n",
       " 701: 'return',\n",
       " 702: 'figure',\n",
       " 703: 'blood',\n",
       " 704: 'parts',\n",
       " 705: 'scary',\n",
       " 706: 'filmmakers',\n",
       " 707: 'sequel',\n",
       " 708: 'certain',\n",
       " 709: 'intelligent',\n",
       " 710: 'potential',\n",
       " 711: 'starring',\n",
       " 712: 'somewhat',\n",
       " 713: 'call',\n",
       " 714: 'annoying',\n",
       " 715: 'writing',\n",
       " 716: 'general',\n",
       " 717: 'begin',\n",
       " 718: 'hilarious',\n",
       " 719: 'read',\n",
       " 720: 'stories',\n",
       " 721: 'situation',\n",
       " 722: 'motion',\n",
       " 723: ('high', 'school'),\n",
       " 724: 'third',\n",
       " 725: 'carter',\n",
       " 726: 'uses',\n",
       " 727: 'complete',\n",
       " 728: 'towards',\n",
       " 729: ('but', 'also'),\n",
       " 730: 'fast',\n",
       " 731: 'low',\n",
       " 732: 'box',\n",
       " 733: 'brothers',\n",
       " 734: 'follow',\n",
       " 735: 'romance',\n",
       " 736: ('no', 'one'),\n",
       " 737: 'similar',\n",
       " 738: 'sexual',\n",
       " 739: 'decent',\n",
       " 740: 'rock',\n",
       " 741: 'learn',\n",
       " 742: 'red',\n",
       " 743: 'secret',\n",
       " 744: 'force',\n",
       " 745: 'couldn',\n",
       " 746: 'gone',\n",
       " 747: 'came',\n",
       " 748: 'familiar',\n",
       " 749: 'water',\n",
       " 750: 'actress',\n",
       " 751: 'create',\n",
       " 752: 'successful',\n",
       " 753: 'project',\n",
       " 754: 'add',\n",
       " 755: 'thinking',\n",
       " 756: 'latest',\n",
       " 757: 'dramatic',\n",
       " 758: 'popular',\n",
       " 759: 'shots',\n",
       " 760: 'predictable',\n",
       " 761: 'decides',\n",
       " 762: 'company',\n",
       " 763: 'previous',\n",
       " 764: 'herself',\n",
       " 765: 'near',\n",
       " 766: 'filled',\n",
       " 767: 'giant',\n",
       " 768: 'bill',\n",
       " 769: 'park',\n",
       " 770: 'following',\n",
       " 771: 'events',\n",
       " 772: 'law',\n",
       " 773: 'huge',\n",
       " 774: ('but', 'there'),\n",
       " 775: 'solid',\n",
       " 776: 'message',\n",
       " 777: 'leaving',\n",
       " 778: 'means',\n",
       " 779: 'murphy',\n",
       " 780: 'nor',\n",
       " 781: 'brings',\n",
       " 782: 'brilliant',\n",
       " 783: 'turned',\n",
       " 784: 'clear',\n",
       " 785: ('film', 'but'),\n",
       " 786: 'beyond',\n",
       " 787: 'large',\n",
       " 788: 'bruce',\n",
       " 789: 'former',\n",
       " 790: 'points',\n",
       " 791: 'effect',\n",
       " 792: 'mark',\n",
       " 793: 'clever',\n",
       " 794: 'immediately',\n",
       " 795: 'martin',\n",
       " 796: 'opens',\n",
       " 797: 'move',\n",
       " 798: 'tarzan',\n",
       " 799: 'brought',\n",
       " 800: 'cold',\n",
       " 801: ('even', 'more'),\n",
       " 802: 'rich',\n",
       " 803: 'bob',\n",
       " 804: 'ryan',\n",
       " 805: 'doubt',\n",
       " 806: 'ones',\n",
       " 807: 'woody',\n",
       " 808: 'perfectly',\n",
       " 809: ('much', 'more'),\n",
       " 810: 'amazing',\n",
       " 811: 'moving',\n",
       " 812: 'audiences',\n",
       " 813: 'questions',\n",
       " 814: 'bunch',\n",
       " 815: 'animation',\n",
       " 816: 'chan',\n",
       " 817: 'powerful',\n",
       " 818: 'break',\n",
       " 819: 'usual',\n",
       " 820: 'party',\n",
       " 821: 'merely',\n",
       " 822: 'society',\n",
       " 823: 'likely',\n",
       " 824: 'gun',\n",
       " 825: 'prison',\n",
       " 826: 'understand',\n",
       " 827: 'scott',\n",
       " 828: 'seriously',\n",
       " 829: 'plan',\n",
       " 830: 'sweet',\n",
       " 831: 'dream',\n",
       " 832: 'above',\n",
       " 833: 'mess',\n",
       " 834: 'mars',\n",
       " 835: 'appear',\n",
       " 836: 'steve',\n",
       " 837: 'country',\n",
       " 838: 'non',\n",
       " 839: 'chase',\n",
       " 840: 'viewers',\n",
       " 841: 'ultimately',\n",
       " 842: 'keeps',\n",
       " 843: 'enjoyable',\n",
       " 844: 'key',\n",
       " 845: 'class',\n",
       " 846: 'trouble',\n",
       " 847: 'fails',\n",
       " 848: 'favorite',\n",
       " 849: 'frank',\n",
       " 850: 'happened',\n",
       " 851: 'leaves',\n",
       " 852: 'free',\n",
       " 853: 'silly',\n",
       " 854: 'impossible',\n",
       " 855: 'trek',\n",
       " 856: ('better', 'than'),\n",
       " 857: 'created',\n",
       " 858: 'heard',\n",
       " 859: 'west',\n",
       " 860: 'english',\n",
       " 861: 'subject',\n",
       " 862: 'element',\n",
       " 863: ('very', 'good'),\n",
       " 864: 'view',\n",
       " 865: 'truth',\n",
       " 866: 'sam',\n",
       " 867: 'felt',\n",
       " 868: ('even', 'if'),\n",
       " 869: 'cameron',\n",
       " 870: 'focus',\n",
       " 871: 'excellent',\n",
       " 872: ('their', 'own'),\n",
       " 873: 'agent',\n",
       " 874: 'effort',\n",
       " 875: 'realize',\n",
       " 876: 'haven',\n",
       " 877: 'unlike',\n",
       " 878: 'wanted',\n",
       " 879: 'depth',\n",
       " 880: 'talented',\n",
       " 881: 'stay',\n",
       " 882: 'sit',\n",
       " 883: 'otherwise',\n",
       " 884: 'heavy',\n",
       " 885: 'today',\n",
       " 886: 'fan',\n",
       " 887: 'air',\n",
       " 888: 'escape',\n",
       " 889: 'follows',\n",
       " 890: 'state',\n",
       " 891: ('scene', 'where'),\n",
       " 892: ('there', 'some'),\n",
       " 893: 'complex',\n",
       " 894: 'richard',\n",
       " 895: 'ex',\n",
       " 896: ('so', 'many'),\n",
       " 897: 'vampire',\n",
       " 898: 'exciting',\n",
       " 899: 'neither',\n",
       " 900: 'particular',\n",
       " 901: 'liked',\n",
       " 902: 'showing',\n",
       " 903: 'spend',\n",
       " 904: 'open',\n",
       " 905: 'entirely',\n",
       " 906: 'saying',\n",
       " 907: 'queen',\n",
       " 908: 'studio',\n",
       " 909: 'subtle',\n",
       " 910: ('turns', 'out'),\n",
       " 911: 'ridiculous',\n",
       " 912: 'joke',\n",
       " 913: 'overall',\n",
       " 914: 'quick',\n",
       " 915: 'inside',\n",
       " 916: 'stand',\n",
       " 917: 'jackson',\n",
       " 918: 'tim',\n",
       " 919: 'background',\n",
       " 920: 'humans',\n",
       " 921: 'whatever',\n",
       " 922: 'slightly',\n",
       " 923: 'bond',\n",
       " 924: 'dumb',\n",
       " 925: 'took',\n",
       " 926: 'purpose',\n",
       " 927: 'ten',\n",
       " 928: 'allen',\n",
       " 929: 'wedding',\n",
       " 930: 'various',\n",
       " 931: 'sister',\n",
       " 932: 'drug',\n",
       " 933: 'spent',\n",
       " 934: 'memorable',\n",
       " 935: 'six',\n",
       " 936: 'female',\n",
       " 937: 'situations',\n",
       " 938: 'ability',\n",
       " 939: 'moves',\n",
       " 940: 'nick',\n",
       " 941: 'tone',\n",
       " 942: 'earlier',\n",
       " 943: 'ideas',\n",
       " 944: 'further',\n",
       " 945: 'rated',\n",
       " 946: 'amusing',\n",
       " 947: 'produced',\n",
       " 948: 'college',\n",
       " 949: 'stone',\n",
       " 950: 'dull',\n",
       " 951: 'cannot',\n",
       " 952: 'dreams',\n",
       " 953: 'married',\n",
       " 954: ('other', 'than'),\n",
       " 955: 'totally',\n",
       " 956: 'reasons',\n",
       " 957: 'cinematography',\n",
       " 958: 'british',\n",
       " 959: 'longer',\n",
       " 960: 'double',\n",
       " 961: 'sci',\n",
       " 962: 'fi',\n",
       " 963: ('sci', 'fi'),\n",
       " 964: 'max',\n",
       " 965: 'terrible',\n",
       " 966: 'government',\n",
       " 967: 'highly',\n",
       " 968: 'thin',\n",
       " 969: 'typical',\n",
       " 970: ('but', 'still'),\n",
       " 971: 'political',\n",
       " 972: 'climax',\n",
       " 973: ('science', 'fiction'),\n",
       " 974: 'setting',\n",
       " 975: 'suddenly',\n",
       " 976: 'fairly',\n",
       " 977: 'hear',\n",
       " 978: 'convincing',\n",
       " 979: 'street',\n",
       " 980: 'fire',\n",
       " 981: 'army',\n",
       " 982: 'ask',\n",
       " 983: 'brief',\n",
       " 984: 'actual',\n",
       " 985: 'expected',\n",
       " 986: 'hold',\n",
       " 987: 'hate',\n",
       " 988: ('one', 'best'),\n",
       " 989: 'waste',\n",
       " 990: 'modern',\n",
       " 991: 'central',\n",
       " 992: 'approach',\n",
       " 993: 'recently',\n",
       " 994: 'pay',\n",
       " 995: 'private',\n",
       " 996: 'rating',\n",
       " 997: 'minor',\n",
       " 998: 'atmosphere',\n",
       " 999: 'intelligence',\n",
       " ...}"
      ]
     },
     "execution_count": 16,
     "metadata": {},
     "output_type": "execute_result"
    }
   ],
   "source": [
    "reference_dict = dict(enumerate(vocab))\n",
    "reference_dict"
   ]
  },
  {
   "cell_type": "markdown",
   "metadata": {},
   "source": [
    "Now you should be able to extract n-grams for each text in the training, development and test sets:"
   ]
  },
  {
   "cell_type": "code",
   "execution_count": 17,
   "metadata": {
    "ExecuteTime": {
     "end_time": "2020-03-20T14:19:33.290163Z",
     "start_time": "2020-03-20T14:19:30.006534Z"
    },
    "run_control": {
     "marked": true
    }
   },
   "outputs": [],
   "source": [
    "X_tr_ngram = [extract_ngrams(line,ngram_range=(1,3),stop_words=stop_words) for line in X_tr_raw]\n",
    "X_te_ngram = [extract_ngrams(line,ngram_range=(1,3),stop_words=stop_words) for line in X_te_raw]\n",
    "X_dev_ngram = [extract_ngrams(line,ngram_range=(1,3),stop_words=stop_words) for line in X_dev_raw]"
   ]
  },
  {
   "cell_type": "markdown",
   "metadata": {},
   "source": [
    "## Vectorise documents "
   ]
  },
  {
   "cell_type": "markdown",
   "metadata": {},
   "source": [
    "Next, write a function `vectoriser` to obtain Bag-of-ngram representations for a list of documents. The function should take as input:\n",
    "- `X_ngram`: a list of texts (documents), where each text is represented as list of n-grams in the `vocab`\n",
    "- `vocab`: a set of n-grams to be used for representing the documents\n",
    "\n",
    "and return:\n",
    "- `X_vec`: an array with dimensionality Nx|vocab| where N is the number of documents and |vocab| is the size of the vocabulary. Each element of the array should represent the frequency of a given n-gram in a document.\n"
   ]
  },
  {
   "cell_type": "code",
   "execution_count": 18,
   "metadata": {
    "ExecuteTime": {
     "end_time": "2020-03-20T14:19:33.350363Z",
     "start_time": "2020-03-20T14:19:33.334148Z"
    },
    "code_folding": [
     0
    ],
    "run_control": {
     "marked": true
    }
   },
   "outputs": [],
   "source": [
    "def vectorise(X_ngram, vocab):\n",
    "    '''1. select the features of vocab from X_ngram.\n",
    "       2. convert X_ngram into matrix\n",
    "\n",
    "    Args:\n",
    "        X_ngram(list of list): a list of texts (documents) features(Bag-of-ngram)\n",
    "        vocab(list): a set of selected features(n-grams)\n",
    "\n",
    "    Returns:\n",
    "        X_vec: an array shapes (#document,#vocab), where document is a single line\n",
    "            in dataset.\n",
    "    '''\n",
    "\n",
    "    X_vec = np.zeros([len(X_ngram),len(vocab)])\n",
    "    for docs_index in range(len(X_ngram)):\n",
    "        temp = Counter(X_ngram[docs_index])\n",
    "        for feature_index in range(len(vocab)):\n",
    "            X_vec[docs_index,feature_index] = temp.get(vocab[feature_index],0)\n",
    "    return X_vec"
   ]
  },
  {
   "cell_type": "markdown",
   "metadata": {},
   "source": [
    "Finally, use `vectorise` to obtain document vectors for each document in the train, development and test set. You should extract both count and tf.idf vectors respectively:"
   ]
  },
  {
   "cell_type": "markdown",
   "metadata": {},
   "source": [
    "#### Count vectors"
   ]
  },
  {
   "cell_type": "code",
   "execution_count": 19,
   "metadata": {
    "ExecuteTime": {
     "end_time": "2020-03-20T14:19:40.346956Z",
     "start_time": "2020-03-20T14:19:33.415520Z"
    },
    "run_control": {
     "marked": true
    }
   },
   "outputs": [],
   "source": [
    "# fill in your code...\n",
    "X_tr_count = vectorise(X_tr_ngram, vocab)\n",
    "X_te_count = vectorise(X_te_ngram, vocab)\n",
    "X_dev_count = vectorise(X_dev_ngram, vocab)"
   ]
  },
  {
   "cell_type": "code",
   "execution_count": 20,
   "metadata": {
    "ExecuteTime": {
     "end_time": "2020-03-20T14:19:40.377890Z",
     "start_time": "2020-03-20T14:19:40.363498Z"
    },
    "run_control": {
     "marked": true
    }
   },
   "outputs": [
    {
     "data": {
      "text/plain": [
       "(1400, 5000)"
      ]
     },
     "execution_count": 20,
     "metadata": {},
     "output_type": "execute_result"
    }
   ],
   "source": [
    "X_tr_count.shape"
   ]
  },
  {
   "cell_type": "code",
   "execution_count": 21,
   "metadata": {
    "ExecuteTime": {
     "end_time": "2020-03-20T14:19:40.473378Z",
     "start_time": "2020-03-20T14:19:40.460329Z"
    },
    "run_control": {
     "marked": true
    }
   },
   "outputs": [
    {
     "data": {
      "text/plain": [
       "array([[20.,  6.,  8.,  0.,  4.,  1.,  1.,  0.,  3.,  1.,  1.,  1.,  0.,\n",
       "         0.,  6.,  1.,  2.,  1.,  2.,  0.,  3.,  4.,  1.,  1.,  0.,  1.,\n",
       "         4.,  2.,  3.,  1.,  3.,  0.,  0.,  1.,  0.,  4.,  0.,  0.,  2.,\n",
       "         1.,  0.,  0.,  0.,  0.,  1.,  0.,  3.,  2.,  1.,  0.],\n",
       "       [ 6.,  2.,  5.,  0.,  2.,  4.,  2.,  3.,  3.,  2.,  2.,  3.,  4.,\n",
       "         0.,  0.,  2.,  0.,  2.,  2.,  5.,  0.,  0.,  1.,  3.,  2.,  1.,\n",
       "         2.,  2.,  1.,  1.,  5.,  1.,  1.,  1.,  0.,  0.,  1.,  0.,  0.,\n",
       "         1.,  0.,  1.,  2.,  1.,  0.,  2.,  3.,  0.,  1.,  0.]])"
      ]
     },
     "execution_count": 21,
     "metadata": {},
     "output_type": "execute_result"
    }
   ],
   "source": [
    "X_tr_count[:2,:50]"
   ]
  },
  {
   "cell_type": "code",
   "execution_count": 16,
   "metadata": {
    "ExecuteTime": {
     "end_time": "2020-02-15T14:17:42.010525Z",
     "start_time": "2020-02-15T14:17:42.006309Z"
    },
    "run_control": {
     "marked": false
    }
   },
   "outputs": [
    {
     "data": {
      "text/plain": [
       "array([[0., 0., 0., 0., 0., 0., 0., 0., 0., 1., 0., 1., 0., 0., 1., 0.,\n",
       "        0., 0., 1., 0., 0., 0., 0., 0., 0., 0., 1., 0., 0., 0., 1., 0.,\n",
       "        0., 0., 0., 0., 0., 0., 0., 0., 0., 0., 0., 0., 0., 0., 0., 0.,\n",
       "        0., 0.],\n",
       "       [0., 0., 0., 1., 0., 0., 0., 2., 0., 0., 0., 0., 0., 0., 0., 1.,\n",
       "        0., 0., 0., 0., 0., 0., 0., 0., 0., 0., 0., 0., 0., 0., 0., 0.,\n",
       "        0., 0., 0., 0., 0., 0., 0., 0., 0., 0., 0., 0., 1., 0., 0., 0.,\n",
       "        0., 0.]])"
      ]
     },
     "execution_count": 16,
     "metadata": {},
     "output_type": "execute_result"
    }
   ],
   "source": [
    "X_tr_count[:2,:50]"
   ]
  },
  {
   "cell_type": "markdown",
   "metadata": {},
   "source": [
    "#### TF.IDF vectors\n",
    "\n",
    "First compute `idfs` an array containing inverted document frequencies (Note: its elements should correspond to your `vocab`)"
   ]
  },
  {
   "cell_type": "code",
   "execution_count": 22,
   "metadata": {
    "ExecuteTime": {
     "end_time": "2020-03-20T14:19:40.590223Z",
     "start_time": "2020-03-20T14:19:40.574463Z"
    },
    "run_control": {
     "marked": true
    }
   },
   "outputs": [],
   "source": [
    "def get_idfs(vocab,D):\n",
    "    idfs = np.zeros(len(vocab))\n",
    "    for i in range(len(vocab)):\n",
    "        idfs[i] = df[vocab[i]]\n",
    "    idfs = np.log10(D/idfs)\n",
    "    #idfs = np.log(D/idfs)\n",
    "    return idfs"
   ]
  },
  {
   "cell_type": "code",
   "execution_count": 23,
   "metadata": {
    "ExecuteTime": {
     "end_time": "2020-03-20T14:19:40.664857Z",
     "start_time": "2020-03-20T14:19:40.641304Z"
    },
    "run_control": {
     "marked": true
    }
   },
   "outputs": [
    {
     "data": {
      "text/plain": [
       "array([0.05586998, 0.02097221, 0.05026158, ..., 1.84509804, 1.82390874,\n",
       "       1.86737443])"
      ]
     },
     "execution_count": 23,
     "metadata": {},
     "output_type": "execute_result"
    }
   ],
   "source": [
    "idfs = get_idfs(vocab,len(X_tr_raw))\n",
    "idfs"
   ]
  },
  {
   "cell_type": "markdown",
   "metadata": {},
   "source": [
    "Then transform your count vectors to tf.idf vectors:"
   ]
  },
  {
   "cell_type": "code",
   "execution_count": 24,
   "metadata": {
    "ExecuteTime": {
     "end_time": "2020-03-20T14:19:40.785996Z",
     "start_time": "2020-03-20T14:19:40.713051Z"
    },
    "run_control": {
     "marked": true
    }
   },
   "outputs": [],
   "source": [
    "X_tr_tfidf = X_tr_count*idfs\n",
    "X_te_tfidf = X_te_count*idfs\n",
    "X_dev_tfidf = X_dev_count*idfs"
   ]
  },
  {
   "cell_type": "code",
   "execution_count": 25,
   "metadata": {
    "ExecuteTime": {
     "end_time": "2020-03-20T14:19:40.859317Z",
     "start_time": "2020-03-20T14:19:40.842835Z"
    },
    "run_control": {
     "marked": true
    }
   },
   "outputs": [
    {
     "data": {
      "text/plain": [
       "array([0.3352199 , 0.04194441, 0.25130791, 0.        , 0.15588435,\n",
       "       0.39229945, 0.2531927 , 0.38353118, 0.37854406, 0.22540856,\n",
       "       0.28361332, 0.38728409, 0.55011146, 0.        , 0.        ,\n",
       "       0.32320144, 0.        , 0.34692489, 0.36468042, 1.24525516,\n",
       "       0.        , 0.        , 0.21927133, 0.55839959, 0.40923321,\n",
       "       0.22967409, 0.43239695, 0.52266534, 0.25626631, 0.24195367,\n",
       "       1.37569611, 0.26818108, 0.26076682, 0.2699102 , 0.        ,\n",
       "       0.        , 0.25794854, 0.        , 0.        , 0.30664999,\n",
       "       0.        , 0.34472433, 0.59341724, 0.29609478, 0.        ,\n",
       "       0.67313664, 0.94469503, 0.        , 0.32395996, 0.        ])"
      ]
     },
     "execution_count": 25,
     "metadata": {},
     "output_type": "execute_result"
    }
   ],
   "source": [
    "X_tr_tfidf[1,:50]"
   ]
  },
  {
   "cell_type": "code",
   "execution_count": 19,
   "metadata": {
    "ExecuteTime": {
     "end_time": "2020-02-15T14:17:43.211619Z",
     "start_time": "2020-02-15T14:17:43.207266Z"
    },
    "run_control": {
     "marked": false
    }
   },
   "outputs": [
    {
     "data": {
      "text/plain": [
       "array([0.        , 0.        , 0.        , 2.24028121, 0.        ,\n",
       "       0.        , 0.        , 5.67501654, 0.        , 0.        ,\n",
       "       0.        , 0.        , 0.        , 0.        , 0.        ,\n",
       "       2.47354289, 0.        , 0.        , 0.        , 0.        ,\n",
       "       0.        , 0.        , 0.        , 0.        , 0.        ,\n",
       "       0.        , 0.        , 0.        , 0.        , 0.        ,\n",
       "       0.        , 0.        , 0.        , 0.        , 0.        ,\n",
       "       0.        , 0.        , 0.        , 0.        , 0.        ,\n",
       "       0.        , 0.        , 0.        , 0.        , 2.56209629,\n",
       "       0.        , 0.        , 0.        , 0.        , 0.        ])"
      ]
     },
     "execution_count": 19,
     "metadata": {},
     "output_type": "execute_result"
    }
   ],
   "source": [
    "X_tr_tfidf[1,:50]"
   ]
  },
  {
   "cell_type": "markdown",
   "metadata": {},
   "source": [
    "# Binary Logistic Regression\n",
    "\n",
    "After obtaining vector representations of the data, now you are ready to implement Binary Logistic Regression for classifying sentiment."
   ]
  },
  {
   "cell_type": "markdown",
   "metadata": {},
   "source": [
    "First, you need to implement the `sigmoid` function. It takes as input:\n",
    "\n",
    "- `z`: a real number or an array of real numbers \n",
    "\n",
    "and returns:\n",
    "\n",
    "- `sig`: the sigmoid of `z`"
   ]
  },
  {
   "cell_type": "code",
   "execution_count": 73,
   "metadata": {
    "ExecuteTime": {
     "end_time": "2020-03-20T14:51:45.886218Z",
     "start_time": "2020-03-20T14:51:45.877802Z"
    },
    "run_control": {
     "marked": true
    }
   },
   "outputs": [],
   "source": [
    "def sigmoid(z):\n",
    "    \n",
    "    # fill in your code...\n",
    "    z = 1 / (1 + np.exp(np.minimum(-z,709.782)))\n",
    "    \n",
    "    return z"
   ]
  },
  {
   "cell_type": "code",
   "execution_count": 27,
   "metadata": {
    "ExecuteTime": {
     "end_time": "2020-03-20T14:19:41.043428Z",
     "start_time": "2020-03-20T14:19:41.027396Z"
    },
    "run_control": {
     "marked": true
    }
   },
   "outputs": [
    {
     "name": "stdout",
     "output_type": "stream",
     "text": [
      "0.5\n",
      "[0.00669285 0.76852478]\n"
     ]
    }
   ],
   "source": [
    "print(sigmoid(0)) \n",
    "print(sigmoid(np.array([-5., 1.2])))"
   ]
  },
  {
   "cell_type": "code",
   "execution_count": 21,
   "metadata": {
    "ExecuteTime": {
     "end_time": "2020-02-15T14:17:44.351292Z",
     "start_time": "2020-02-15T14:17:44.346822Z"
    },
    "run_control": {
     "marked": false
    }
   },
   "outputs": [
    {
     "name": "stdout",
     "output_type": "stream",
     "text": [
      "0.5\n",
      "[0.00669285 0.76852478]\n"
     ]
    }
   ],
   "source": [
    "print(sigmoid(0)) \n",
    "print(sigmoid(np.array([-5., 1.2])))"
   ]
  },
  {
   "cell_type": "markdown",
   "metadata": {},
   "source": [
    "Then, implement the `predict_proba` function to obtain prediction probabilities. It takes as input:\n",
    "\n",
    "- `X`: an array of inputs, i.e. documents represented by bag-of-ngram vectors ($N \\times |vocab|$)\n",
    "- `weights`: a 1-D array of the model's weights $(1, |vocab|)$\n",
    "\n",
    "and returns:\n",
    "\n",
    "- `preds_proba`: the prediction probabilities of X given the weights"
   ]
  },
  {
   "cell_type": "code",
   "execution_count": 28,
   "metadata": {
    "ExecuteTime": {
     "end_time": "2020-03-20T14:19:41.137080Z",
     "start_time": "2020-03-20T14:19:41.114142Z"
    },
    "run_control": {
     "marked": true
    }
   },
   "outputs": [],
   "source": [
    "def predict_proba(X, weights):\n",
    "    \n",
    "    # fill in your code...\n",
    "    preds_proba = X.dot(weights.T)\n",
    "    \n",
    "    assert preds_proba.shape == (X.shape[0],1)\n",
    "    return sigmoid(preds_proba)"
   ]
  },
  {
   "cell_type": "markdown",
   "metadata": {},
   "source": [
    "Then, implement the `predict_class` function to obtain the most probable class for each vector in an array of input vectors. It takes as input:\n",
    "\n",
    "- `X`: an array of documents represented by bag-of-ngram vectors ($N \\times |vocab|$)\n",
    "- `weights`: a 1-D array of the model's weights $(1, |vocab|)$\n",
    "\n",
    "and returns:\n",
    "\n",
    "- `preds_class`: the predicted class for each x in X given the weights"
   ]
  },
  {
   "cell_type": "code",
   "execution_count": 29,
   "metadata": {
    "ExecuteTime": {
     "end_time": "2020-03-20T14:19:41.209991Z",
     "start_time": "2020-03-20T14:19:41.200665Z"
    },
    "run_control": {
     "marked": true
    }
   },
   "outputs": [],
   "source": [
    "def predict_class(X, weights):\n",
    "    \n",
    "    # fill in your code...\n",
    "    preds_proba = predict_proba(X, weights)\n",
    "    preds_class = np.where(preds_proba>=0.5,1,0)\n",
    "    \n",
    "    assert preds_class.shape == (X.shape[0],1)\n",
    "    return preds_class"
   ]
  },
  {
   "cell_type": "markdown",
   "metadata": {},
   "source": [
    "To learn the weights from data, we need to minimise the binary cross-entropy loss. Implement `binary_loss` that takes as input:\n",
    "\n",
    "- `X`: input vectors\n",
    "- `Y`: labels\n",
    "- `weights`: model weights\n",
    "- `alpha`: regularisation strength\n",
    "\n",
    "and return:\n",
    "\n",
    "- `l`: the loss score"
   ]
  },
  {
   "cell_type": "code",
   "execution_count": 142,
   "metadata": {
    "ExecuteTime": {
     "end_time": "2020-03-20T19:44:40.156013Z",
     "start_time": "2020-03-20T19:44:40.139534Z"
    },
    "run_control": {
     "marked": true
    }
   },
   "outputs": [],
   "source": [
    "def binary_loss(X, Y, weights, alpha=0.00001):\n",
    "    \n",
    "    # fill in your code...\n",
    "    eps = np.finfo(np.float64).eps\n",
    "    preds_proba = predict_proba(X, weights)\n",
    "    l = -1*(Y*np.log(preds_proba+eps) + (1-Y)*np.log(1-preds_proba+eps)) + alpha*np.multiply(weights, weights)\n",
    "    l = np.mean(l)\n",
    "    assert l.shape == (1,1) or type(l) == np.float64\n",
    "    return l#.item()"
   ]
  },
  {
   "cell_type": "code",
   "execution_count": 143,
   "metadata": {
    "ExecuteTime": {
     "end_time": "2020-03-20T19:44:41.197628Z",
     "start_time": "2020-03-20T19:44:41.183193Z"
    },
    "run_control": {
     "marked": true
    }
   },
   "outputs": [],
   "source": [
    "def gradient(X, y, weights, alpha=0.00001):\n",
    "    m = len(X)\n",
    "    h = predict_proba(X, weights)\n",
    "    dw = np.dot((h - y).T,X) + 2*alpha*weights\n",
    "    assert dw.shape == weights.shape\n",
    "    return dw/m"
   ]
  },
  {
   "cell_type": "markdown",
   "metadata": {},
   "source": [
    "Now, you can implement Stochastic Gradient Descent to learn the weights of your sentiment classifier. The `SGD` function takes as input:\n",
    "\n",
    "- `X_tr`: array of training data (vectors)\n",
    "- `Y_tr`: labels of `X_tr`\n",
    "- `X_dev`: array of development (i.e. validation) data (vectors)\n",
    "- `Y_dev`: labels of `X_dev`\n",
    "- `lr`: learning rate\n",
    "- `alpha`: regularisation strength\n",
    "- `epochs`: number of full passes over the training data\n",
    "- `tolerance`: stop training if the difference between the current and previous validation loss is smaller than a threshold\n",
    "- `print_progress`: flag for printing the training progress (train/validation loss)\n",
    "\n",
    "\n",
    "and returns:\n",
    "\n",
    "- `weights`: the weights learned\n",
    "- `training_loss_history`: an array with the average losses of the whole training set after each epoch\n",
    "- `validation_loss_history`: an array with the average losses of the whole development set after each epoch"
   ]
  },
  {
   "cell_type": "code",
   "execution_count": 144,
   "metadata": {
    "ExecuteTime": {
     "end_time": "2020-03-20T19:44:43.716441Z",
     "start_time": "2020-03-20T19:44:43.692784Z"
    },
    "run_control": {
     "marked": true
    }
   },
   "outputs": [],
   "source": [
    "def SGD(X_tr, Y_tr, X_dev=[], Y_dev=[], loss=\"binary\", lr=0.1, alpha=0.00001, epochs=5, tolerance=0.0001, print_progress=True):\n",
    "    \n",
    "    cur_loss_tr = 1.\n",
    "    cur_loss_dev = 1.\n",
    "    training_loss_history = []\n",
    "    validation_loss_history = []\n",
    "    \n",
    "    # fill in your code...\n",
    "    \n",
    "    # Stage 1: Init weights\n",
    "    #weights = np.random.rand(1,X_tr.shape[1])\n",
    "    weights = np.zeros((1,X_tr.shape[1]))\n",
    "    \n",
    "    # Stage 2: Init stochastic value\n",
    "    idx_list = np.array(range(X_tr.shape[0]))\n",
    "    \n",
    "    # Stage 3: Training\n",
    "    for epoch in range(epochs):\n",
    "        loss_tr = 0\n",
    "        np.random.shuffle(idx_list) # disorder dataset\n",
    "        for i in idx_list:\n",
    "            X_tr_i, Y_tr_i = X_tr[i].reshape(1,-1),Y_tr[i].reshape(1,-1) # get a single data pair\n",
    "            dw = gradient(X_tr_i, Y_tr_i, weights, alpha=0.00001) # gradient\n",
    "            weights -= lr*dw # update\n",
    "            loss_tr += binary_loss(X_tr_i, Y_tr_i, weights, alpha) # add loss\n",
    "        \n",
    "        loss_dev = binary_loss(X_dev_count, Y_dev, weights, alpha)\n",
    "        loss_tr /= len(idx_list)\n",
    "        # Add history\n",
    "        if epoch != 0:\n",
    "            training_loss_history.append(loss_tr)\n",
    "            validation_loss_history.append(loss_dev)\n",
    "        if print_progress == True: \n",
    "            print(\"Epoch: %d| Training loss: %f| Validation loss: %f\"%(epoch,loss_tr,loss_dev))\n",
    "        if epoch >1 and (validation_loss_history[-2]-validation_loss_history[-1]) <= tolerance:\n",
    "            break\n",
    "\n",
    "    return weights, training_loss_history, validation_loss_history"
   ]
  },
  {
   "cell_type": "markdown",
   "metadata": {},
   "source": [
    "## Train and Evaluate Logistic Regression with Count vectors\n",
    "\n",
    "First train the model using SGD:"
   ]
  },
  {
   "cell_type": "code",
   "execution_count": 145,
   "metadata": {
    "ExecuteTime": {
     "end_time": "2020-03-20T19:45:14.672327Z",
     "start_time": "2020-03-20T19:44:46.056178Z"
    },
    "run_control": {
     "marked": true
    },
    "scrolled": true
   },
   "outputs": [
    {
     "name": "stdout",
     "output_type": "stream",
     "text": [
      "Epoch: 0| Training loss: 0.647303| Validation loss: 0.645417\n",
      "Epoch: 1| Training loss: 0.595981| Validation loss: 0.615768\n",
      "Epoch: 2| Training loss: 0.558654| Validation loss: 0.590865\n",
      "Epoch: 3| Training loss: 0.528645| Validation loss: 0.575250\n",
      "Epoch: 4| Training loss: 0.504916| Validation loss: 0.558154\n",
      "Epoch: 5| Training loss: 0.484111| Validation loss: 0.549614\n",
      "Epoch: 6| Training loss: 0.466935| Validation loss: 0.535087\n",
      "Epoch: 7| Training loss: 0.451036| Validation loss: 0.527059\n",
      "Epoch: 8| Training loss: 0.437212| Validation loss: 0.517422\n",
      "Epoch: 9| Training loss: 0.424649| Validation loss: 0.509991\n",
      "Epoch: 10| Training loss: 0.413002| Validation loss: 0.503301\n",
      "Epoch: 11| Training loss: 0.402659| Validation loss: 0.498103\n",
      "Epoch: 12| Training loss: 0.392886| Validation loss: 0.492030\n",
      "Epoch: 13| Training loss: 0.383841| Validation loss: 0.487491\n",
      "Epoch: 14| Training loss: 0.375349| Validation loss: 0.482561\n",
      "Epoch: 15| Training loss: 0.367532| Validation loss: 0.477540\n",
      "Epoch: 16| Training loss: 0.360110| Validation loss: 0.473772\n",
      "Epoch: 17| Training loss: 0.353229| Validation loss: 0.469617\n",
      "Epoch: 18| Training loss: 0.346046| Validation loss: 0.467599\n",
      "Epoch: 19| Training loss: 0.339993| Validation loss: 0.462453\n",
      "Epoch: 20| Training loss: 0.334312| Validation loss: 0.459714\n",
      "Epoch: 21| Training loss: 0.328653| Validation loss: 0.456414\n",
      "Epoch: 22| Training loss: 0.323099| Validation loss: 0.454385\n",
      "Epoch: 23| Training loss: 0.317974| Validation loss: 0.450968\n",
      "Epoch: 24| Training loss: 0.312765| Validation loss: 0.449383\n",
      "Epoch: 25| Training loss: 0.308366| Validation loss: 0.446106\n",
      "Epoch: 26| Training loss: 0.303821| Validation loss: 0.443805\n",
      "Epoch: 27| Training loss: 0.299338| Validation loss: 0.442109\n",
      "Epoch: 28| Training loss: 0.295232| Validation loss: 0.440060\n",
      "Epoch: 29| Training loss: 0.291023| Validation loss: 0.437790\n",
      "Epoch: 30| Training loss: 0.287273| Validation loss: 0.435772\n",
      "Epoch: 31| Training loss: 0.283474| Validation loss: 0.433955\n",
      "Epoch: 32| Training loss: 0.279683| Validation loss: 0.432240\n",
      "Epoch: 33| Training loss: 0.276182| Validation loss: 0.430618\n",
      "Epoch: 34| Training loss: 0.272754| Validation loss: 0.429073\n",
      "Epoch: 35| Training loss: 0.269108| Validation loss: 0.428271\n",
      "Epoch: 36| Training loss: 0.266190| Validation loss: 0.426621\n",
      "Epoch: 37| Training loss: 0.263071| Validation loss: 0.424923\n",
      "Epoch: 38| Training loss: 0.259966| Validation loss: 0.423409\n",
      "Epoch: 39| Training loss: 0.257066| Validation loss: 0.422122\n",
      "Epoch: 40| Training loss: 0.254177| Validation loss: 0.420863\n",
      "Epoch: 41| Training loss: 0.251250| Validation loss: 0.419720\n",
      "Epoch: 42| Training loss: 0.248591| Validation loss: 0.418706\n",
      "Epoch: 43| Training loss: 0.245982| Validation loss: 0.417605\n",
      "Epoch: 44| Training loss: 0.243378| Validation loss: 0.416396\n",
      "Epoch: 45| Training loss: 0.240809| Validation loss: 0.415415\n",
      "Epoch: 46| Training loss: 0.238280| Validation loss: 0.414731\n",
      "Epoch: 47| Training loss: 0.235955| Validation loss: 0.413528\n",
      "Epoch: 48| Training loss: 0.233646| Validation loss: 0.412529\n",
      "Epoch: 49| Training loss: 0.231238| Validation loss: 0.411674\n",
      "Epoch: 50| Training loss: 0.229062| Validation loss: 0.410819\n",
      "Epoch: 51| Training loss: 0.226884| Validation loss: 0.409994\n",
      "Epoch: 52| Training loss: 0.224648| Validation loss: 0.409204\n",
      "Epoch: 53| Training loss: 0.222656| Validation loss: 0.408451\n",
      "Epoch: 54| Training loss: 0.220564| Validation loss: 0.407708\n",
      "Epoch: 55| Training loss: 0.218640| Validation loss: 0.406875\n",
      "Epoch: 56| Training loss: 0.216686| Validation loss: 0.406153\n",
      "Epoch: 57| Training loss: 0.214680| Validation loss: 0.405640\n",
      "Epoch: 58| Training loss: 0.212863| Validation loss: 0.404818\n",
      "Epoch: 59| Training loss: 0.210950| Validation loss: 0.404183\n",
      "Epoch: 60| Training loss: 0.209114| Validation loss: 0.403582\n",
      "Epoch: 61| Training loss: 0.207390| Validation loss: 0.403062\n",
      "Epoch: 62| Training loss: 0.205667| Validation loss: 0.402393\n",
      "Epoch: 63| Training loss: 0.203948| Validation loss: 0.401828\n",
      "Epoch: 64| Training loss: 0.202288| Validation loss: 0.401235\n",
      "Epoch: 65| Training loss: 0.200637| Validation loss: 0.400721\n",
      "Epoch: 66| Training loss: 0.198974| Validation loss: 0.400193\n",
      "Epoch: 67| Training loss: 0.197402| Validation loss: 0.399763\n",
      "Epoch: 68| Training loss: 0.195632| Validation loss: 0.399212\n",
      "Epoch: 69| Training loss: 0.194357| Validation loss: 0.398747\n",
      "Epoch: 70| Training loss: 0.192766| Validation loss: 0.398398\n",
      "Epoch: 71| Training loss: 0.191136| Validation loss: 0.398338\n"
     ]
    }
   ],
   "source": [
    "w_count, loss_tr_count, dev_loss_count = SGD(X_tr_count, Y_tr, \n",
    "                                             X_dev=X_dev_count, \n",
    "                                             Y_dev=Y_dev, \n",
    "                                             lr=0.0001, \n",
    "                                             alpha=0.001, \n",
    "                                             epochs=100)"
   ]
  },
  {
   "cell_type": "markdown",
   "metadata": {},
   "source": [
    "Now plot the training and validation history per epoch. Does your model underfit, overfit or is it about right? Explain why."
   ]
  },
  {
   "cell_type": "code",
   "execution_count": 146,
   "metadata": {
    "ExecuteTime": {
     "end_time": "2020-03-20T19:45:19.612152Z",
     "start_time": "2020-03-20T19:45:19.261131Z"
    },
    "cell_style": "split",
    "run_control": {
     "marked": true
    }
   },
   "outputs": [
    {
     "data": {
      "image/png": "[encoded data removed]",
      "text/plain": [
       "<Figure size 432x288 with 1 Axes>"
      ]
     },
     "metadata": {
      "needs_background": "light"
     },
     "output_type": "display_data"
    }
   ],
   "source": [
    "%matplotlib inline\n",
    "fig = plt.figure()\n",
    "plt.plot(range(len(loss_tr_count)),loss_tr_count,label='training loss')\n",
    "plt.plot(range(len(dev_loss_count)),dev_loss_count,label='validation loss')\n",
    "\n",
    "plt.xlabel('Epochs')\n",
    "plt.ylabel('Loss')\n",
    "plt.title('Training Monitoring')\n",
    "\n",
    "plt.legend()\n",
    "plt.show()"
   ]
  },
  {
   "cell_type": "code",
   "execution_count": 27,
   "metadata": {
    "ExecuteTime": {
     "end_time": "2020-02-15T14:17:51.598911Z",
     "start_time": "2020-02-15T14:17:51.482307Z"
    },
    "cell_style": "split",
    "run_control": {
     "marked": false
    }
   },
   "outputs": [
    {
     "data": {
      "image/png": "[encoded data removed]",
      "text/plain": [
       "<Figure size 432x288 with 1 Axes>"
      ]
     },
     "metadata": {
      "needs_background": "light"
     },
     "output_type": "display_data"
    }
   ],
   "source": []
  },
  {
   "cell_type": "markdown",
   "metadata": {
    "ExecuteTime": {
     "end_time": "2020-01-21T16:52:26.583150Z",
     "start_time": "2020-01-21T16:52:26.578754Z"
    }
   },
   "source": [
    "Explain here...\n",
    "\n",
    "**Conclusion:** No overfitting or underfitting. \n",
    "\n",
    "* **Discuss Overfitting:** epochs have not been completed, and learning stopped about 93 epochs, because it stopped before the loss of validation had increased. \n",
    "\n",
    "* **Discuss Underfitting:** Before stopping learning, the loss of validation continues to decrease, and stop learning when the difference in loss reduction of validation is below a threshold."
   ]
  },
  {
   "cell_type": "markdown",
   "metadata": {},
   "source": [
    "Compute accuracy, precision, recall and F1-scores:"
   ]
  },
  {
   "cell_type": "code",
   "execution_count": 35,
   "metadata": {
    "ExecuteTime": {
     "end_time": "2020-03-20T14:20:05.347225Z",
     "start_time": "2020-03-20T14:20:05.305475Z"
    },
    "code_folding": [],
    "run_control": {
     "marked": true
    }
   },
   "outputs": [
    {
     "name": "stdout",
     "output_type": "stream",
     "text": [
      "Accuracy: 0.835\n",
      "Precision: 0.8316831683168316\n",
      "Recall: 0.84\n",
      "F1-Score: 0.835820895522388\n"
     ]
    }
   ],
   "source": [
    "# fill in your code...\n",
    "preds_te_count = predict_class(X_te_count,w_count)\n",
    "\n",
    "print('Accuracy:', accuracy_score(Y_te,preds_te_count))\n",
    "print('Precision:', precision_score(Y_te,preds_te_count))\n",
    "print('Recall:', recall_score(Y_te,preds_te_count))\n",
    "print('F1-Score:', f1_score(Y_te,preds_te_count))"
   ]
  },
  {
   "cell_type": "markdown",
   "metadata": {},
   "source": [
    "Finally, print the top-10 words for the negative and positive class respectively."
   ]
  },
  {
   "cell_type": "code",
   "execution_count": 36,
   "metadata": {
    "ExecuteTime": {
     "end_time": "2020-03-20T14:20:05.449823Z",
     "start_time": "2020-03-20T14:20:05.428764Z"
    },
    "run_control": {
     "marked": true
    }
   },
   "outputs": [
    {
     "name": "stdout",
     "output_type": "stream",
     "text": [
      "['bad', 'unfortunately', 'only', 'worst', 'script', 'boring', 'why', 'plot', 'nothing', 'any']\n"
     ]
    }
   ],
   "source": [
    "# fill in your code...\n",
    "sorted_index = w_count.copy().flatten().argsort()\n",
    "top_neg_ngram = [vocab[i] for i in sorted_index[:10]]\n",
    "print(top_neg_ngram)"
   ]
  },
  {
   "cell_type": "code",
   "execution_count": 37,
   "metadata": {
    "ExecuteTime": {
     "end_time": "2020-03-20T14:20:05.577266Z",
     "start_time": "2020-03-20T14:20:05.564424Z"
    },
    "run_control": {
     "marked": true
    }
   },
   "outputs": [
    {
     "name": "stdout",
     "output_type": "stream",
     "text": [
      "['great', 'well', 'seen', 'fun', 'also', 'many', 'both', 'life', 'movies', 'world']\n"
     ]
    }
   ],
   "source": [
    "# fill in your code...\n",
    "top_pos_ngram = [vocab[i] for i in sorted_index[-10:][::-1]]\n",
    "print(top_pos_ngram)"
   ]
  },
  {
   "cell_type": "markdown",
   "metadata": {},
   "source": [
    "If we were to apply the classifier we've learned into a different domain such laptop reviews or restaurant reviews, do you think these features would generalise well? Can you propose what features the classifier could pick up as important in the new domain?"
   ]
  },
  {
   "cell_type": "markdown",
   "metadata": {},
   "source": [
    "Provide your answer here...\n",
    "\n",
    "**Conclusion:** No, it can't. \n",
    "* **Data distribution:** Although the model can be used in other domain, the learned parameters are not. The data in the training set should be independent and identically distributed. However, after switching domains, the data may never appear in the training set, which means that the data set in this field is distributed in the training set as 0. This can lead to poor performance.\n",
    "* **Vocabulary Corpus:** New words appearing in different domain can also lead to poor performance.\n",
    "\n",
    "According to the existing training models and parameters, the classifier can only extract as important features the same as the training set. Extracting new features can be obtained by retraining the classifier"
   ]
  },
  {
   "cell_type": "markdown",
   "metadata": {},
   "source": [
    "## Train and Evaluate Logistic Regression with TF.IDF vectors\n",
    "\n",
    "Follow the same steps as above (i.e. evaluating count n-gram representations).\n"
   ]
  },
  {
   "cell_type": "code",
   "execution_count": 139,
   "metadata": {
    "ExecuteTime": {
     "end_time": "2020-03-20T17:34:19.969658Z",
     "start_time": "2020-03-20T17:34:03.372117Z"
    },
    "run_control": {
     "marked": true
    },
    "scrolled": true
   },
   "outputs": [
    {
     "name": "stdout",
     "output_type": "stream",
     "text": [
      "Epoch: 0| Training loss: 0.653627| Validation loss: 0.663167\n",
      "Epoch: 1| Training loss: 0.608093| Validation loss: 0.640910\n",
      "Epoch: 2| Training loss: 0.571218| Validation loss: 0.621034\n",
      "Epoch: 3| Training loss: 0.540434| Validation loss: 0.606293\n",
      "Epoch: 4| Training loss: 0.514053| Validation loss: 0.593730\n",
      "Epoch: 5| Training loss: 0.491076| Validation loss: 0.581932\n",
      "Epoch: 6| Training loss: 0.470653| Validation loss: 0.574876\n",
      "Epoch: 7| Training loss: 0.452818| Validation loss: 0.563921\n",
      "Epoch: 8| Training loss: 0.436517| Validation loss: 0.554476\n",
      "Epoch: 9| Training loss: 0.421803| Validation loss: 0.548115\n",
      "Epoch: 10| Training loss: 0.408313| Validation loss: 0.541370\n",
      "Epoch: 11| Training loss: 0.395926| Validation loss: 0.535494\n",
      "Epoch: 12| Training loss: 0.384458| Validation loss: 0.529587\n",
      "Epoch: 13| Training loss: 0.373820| Validation loss: 0.526259\n",
      "Epoch: 14| Training loss: 0.363947| Validation loss: 0.521361\n",
      "Epoch: 15| Training loss: 0.354670| Validation loss: 0.517039\n",
      "Epoch: 16| Training loss: 0.345925| Validation loss: 0.514241\n",
      "Epoch: 17| Training loss: 0.337772| Validation loss: 0.508728\n",
      "Epoch: 18| Training loss: 0.330055| Validation loss: 0.506132\n",
      "Epoch: 19| Training loss: 0.322748| Validation loss: 0.502331\n",
      "Epoch: 20| Training loss: 0.315812| Validation loss: 0.499181\n",
      "Epoch: 21| Training loss: 0.309226| Validation loss: 0.495680\n",
      "Epoch: 22| Training loss: 0.302943| Validation loss: 0.491844\n",
      "Epoch: 23| Training loss: 0.296988| Validation loss: 0.489038\n",
      "Epoch: 24| Training loss: 0.291293| Validation loss: 0.487248\n",
      "Epoch: 25| Training loss: 0.285827| Validation loss: 0.485774\n",
      "Epoch: 26| Training loss: 0.280596| Validation loss: 0.482697\n",
      "Epoch: 27| Training loss: 0.275597| Validation loss: 0.481002\n",
      "Epoch: 28| Training loss: 0.270777| Validation loss: 0.478119\n",
      "Epoch: 29| Training loss: 0.266166| Validation loss: 0.476771\n",
      "Epoch: 30| Training loss: 0.261721| Validation loss: 0.475108\n",
      "Epoch: 31| Training loss: 0.257424| Validation loss: 0.472100\n",
      "Epoch: 32| Training loss: 0.253320| Validation loss: 0.470355\n",
      "Epoch: 33| Training loss: 0.249334| Validation loss: 0.469227\n",
      "Epoch: 34| Training loss: 0.245492| Validation loss: 0.467739\n",
      "Epoch: 35| Training loss: 0.241781| Validation loss: 0.466041\n",
      "Epoch: 36| Training loss: 0.238188| Validation loss: 0.464622\n",
      "Epoch: 37| Training loss: 0.234717| Validation loss: 0.462917\n",
      "Epoch: 38| Training loss: 0.231353| Validation loss: 0.461714\n",
      "Epoch: 39| Training loss: 0.228091| Validation loss: 0.460496\n",
      "Epoch: 40| Training loss: 0.224913| Validation loss: 0.458084\n",
      "Epoch: 41| Training loss: 0.221867| Validation loss: 0.457167\n",
      "Epoch: 42| Training loss: 0.218894| Validation loss: 0.456454\n",
      "Epoch: 43| Training loss: 0.216002| Validation loss: 0.454963\n",
      "Epoch: 44| Training loss: 0.213195| Validation loss: 0.453741\n",
      "Epoch: 45| Training loss: 0.210458| Validation loss: 0.452308\n",
      "Epoch: 46| Training loss: 0.207808| Validation loss: 0.451542\n",
      "Epoch: 47| Training loss: 0.205222| Validation loss: 0.450887\n",
      "Epoch: 48| Training loss: 0.202703| Validation loss: 0.450192\n",
      "Epoch: 49| Training loss: 0.200256| Validation loss: 0.449001\n"
     ]
    }
   ],
   "source": [
    "w_tfidf, trl, devl = SGD(X_tr_tfidf, Y_tr, \n",
    "                         X_dev=X_dev_tfidf, \n",
    "                         Y_dev=Y_dev, \n",
    "                         lr=0.0001, \n",
    "                         alpha=0.0001, \n",
    "                         epochs=50)"
   ]
  },
  {
   "cell_type": "markdown",
   "metadata": {},
   "source": [
    "Now plot the training and validation history per epoch. Does your model underfit, overfit or is it about right? Explain why."
   ]
  },
  {
   "cell_type": "code",
   "execution_count": 140,
   "metadata": {
    "ExecuteTime": {
     "end_time": "2020-03-20T17:34:23.629863Z",
     "start_time": "2020-03-20T17:34:23.267422Z"
    },
    "cell_style": "split",
    "run_control": {
     "marked": true
    }
   },
   "outputs": [
    {
     "data": {
      "image/png": "[encoded data removed]",
      "text/plain": [
       "<Figure size 432x288 with 1 Axes>"
      ]
     },
     "metadata": {
      "needs_background": "light"
     },
     "output_type": "display_data"
    }
   ],
   "source": [
    "%matplotlib inline\n",
    "fig = plt.figure()\n",
    "plt.plot(range(len(trl)),trl,label='training loss')\n",
    "plt.plot(range(len(devl)),devl,label='validation loss')\n",
    "\n",
    "plt.xlabel('Epochs')\n",
    "plt.ylabel('Loss')\n",
    "plt.title('Training Monitoring')\n",
    "\n",
    "plt.legend()\n",
    "plt.show()"
   ]
  },
  {
   "cell_type": "code",
   "execution_count": 32,
   "metadata": {
    "ExecuteTime": {
     "end_time": "2020-02-15T14:17:54.517668Z",
     "start_time": "2020-02-15T14:17:54.417118Z"
    },
    "cell_style": "split",
    "run_control": {
     "marked": false
    }
   },
   "outputs": [
    {
     "data": {
      "image/png": "[encoded data removed]",
      "text/plain": [
       "<Figure size 432x288 with 1 Axes>"
      ]
     },
     "metadata": {
      "needs_background": "light"
     },
     "output_type": "display_data"
    }
   ],
   "source": [
    "# fill in your code..."
   ]
  },
  {
   "cell_type": "markdown",
   "metadata": {},
   "source": [
    "Compute accuracy, precision, recall and F1-scores:"
   ]
  },
  {
   "cell_type": "code",
   "execution_count": 141,
   "metadata": {
    "ExecuteTime": {
     "end_time": "2020-03-20T17:34:30.863747Z",
     "start_time": "2020-03-20T17:34:30.823963Z"
    },
    "run_control": {
     "marked": true
    }
   },
   "outputs": [
    {
     "name": "stdout",
     "output_type": "stream",
     "text": [
      "Accuracy: 0.8525\n",
      "Precision: 0.8472906403940886\n",
      "Recall: 0.86\n",
      "F1-Score: 0.8535980148883374\n"
     ]
    }
   ],
   "source": [
    "# fill in your code...\n",
    "preds_te = predict_class(X_te_tfidf,w_tfidf)\n",
    "\n",
    "print('Accuracy:', accuracy_score(Y_te,preds_te))\n",
    "print('Precision:', precision_score(Y_te,preds_te))\n",
    "print('Recall:', recall_score(Y_te,preds_te))\n",
    "print('F1-Score:', f1_score(Y_te,preds_te))"
   ]
  },
  {
   "cell_type": "markdown",
   "metadata": {},
   "source": [
    "Print top-10 most positive and negative words:"
   ]
  },
  {
   "cell_type": "code",
   "execution_count": 109,
   "metadata": {
    "ExecuteTime": {
     "end_time": "2020-03-20T15:58:28.985299Z",
     "start_time": "2020-03-20T15:58:28.966320Z"
    },
    "run_control": {
     "marked": true
    }
   },
   "outputs": [
    {
     "name": "stdout",
     "output_type": "stream",
     "text": [
      "['bad', 'boring', 'worst', 'unfortunately', 'supposed', 'waste', 'script', 'poor', 'plot', 'nothing']\n"
     ]
    }
   ],
   "source": [
    "# fill in your code...\n",
    "sorted_index = w_tfidf.copy().flatten().argsort()\n",
    "top_neg_ngram = [vocab[i] for i in sorted_index[:10]]\n",
    "print(top_neg_ngram)"
   ]
  },
  {
   "cell_type": "code",
   "execution_count": 110,
   "metadata": {
    "ExecuteTime": {
     "end_time": "2020-03-20T15:58:31.228446Z",
     "start_time": "2020-03-20T15:58:31.211203Z"
    },
    "run_control": {
     "marked": true
    }
   },
   "outputs": [
    {
     "name": "stdout",
     "output_type": "stream",
     "text": [
      "['great', 'fun', 'hilarious', 'memorable', 'overall', 'terrific', 'perfectly', 'seen', 'definitely', 'pulp']\n"
     ]
    }
   ],
   "source": [
    "# fill in your code...\n",
    "top_pos_ngram = [vocab[i] for i in sorted_index[-10:][::-1]]\n",
    "print(top_pos_ngram)"
   ]
  },
  {
   "cell_type": "markdown",
   "metadata": {},
   "source": [
    "### Discuss how did you choose model hyperparameters (e.g. learning rate and regularisation strength)? What is the relation between training epochs and learning rate? How the regularisation strength affects performance?"
   ]
  },
  {
   "cell_type": "markdown",
   "metadata": {},
   "source": [
    "Enter your answer here...\n",
    "\n",
    "**Hyperparameters:** Use grid search to find the optimal hyperparameters. This method is simple but time-consuming. Ideally, cross-validation should be used to screen the optimal hyperparameters, but because the training and validation sets have been divided, cross-validation is not very convenient.(Code of grid search is given below)\n",
    "\n",
    "**Relationship:** In simple terms, the smaller the learning rate, the more epochs are needed. But there are some special cases. **Epoch:** If there are too few epochs, there may be insufficient training, resulting in underfitting. If there are too many epochs, the loss may have already converged, and the extra epochs are too wasteful of time.\n",
    "**Learning rate:** Too large a learning rate will not only cause data overflow, but also cause the loss function to fail to converge. Too small a learning rate will consume training time. At the same time, the convex optimization problem should also be considered, otherwise, the loss function may fall into a local minimum.\n",
    "\n",
    "**Regularisation Strength:** Regularization prevents the classifier from overfitting by limiting the number of parameters. The regularization intensity refers to the size of the penalty. The higher the regularization intensity, the more limited the number of parameters. However, when the regularization intensity is too high, the loss function may not converge."
   ]
  },
  {
   "cell_type": "code",
   "execution_count": 138,
   "metadata": {
    "ExecuteTime": {
     "end_time": "2020-03-20T17:32:55.151860Z",
     "start_time": "2020-03-20T17:32:12.617048Z"
    },
    "scrolled": true
   },
   "outputs": [
    {
     "name": "stdout",
     "output_type": "stream",
     "text": [
      "lr: 0.000100, alpha: 0.000100 ---> score:0.830000\n",
      "lr: 0.000100, alpha: 0.000500 ---> score:0.825000\n",
      "lr: 0.000500, alpha: 0.000100 ---> score:0.815000\n",
      "lr: 0.000500, alpha: 0.000500 ---> score:0.810000\n",
      "lr: 0.001000, alpha: 0.000100 ---> score:0.830000\n",
      "lr: 0.001000, alpha: 0.000500 ---> score:0.825000\n",
      "=================Best Hyperparameters=================\n",
      "lr: 0.0001,\talpha: 0.0001,\tscore: 0.83\n"
     ]
    }
   ],
   "source": [
    "def get_F1(lr,alpha):\n",
    "    w_tfidf, trl, devl = SGD(X_tr_tfidf, Y_tr, \n",
    "                         X_dev=X_dev_tfidf, \n",
    "                         Y_dev=Y_dev, \n",
    "                         lr=lr, \n",
    "                         alpha=alpha, \n",
    "                         epochs=100,\n",
    "                         print_progress=False)\n",
    "    preds_dev = predict_class(X_dev_tfidf,w_tfidf)\n",
    "    return accuracy_score(Y_dev,preds_dev)\n",
    "\n",
    "lrs = [0.0001,0.0005,0.001]\n",
    "alphas = [0.0001,0.0005]\n",
    "\n",
    "import itertools\n",
    "record = list()\n",
    "for lr,alpha in itertools.product(lrs,alphas):\n",
    "    score = get_F1(lr, alpha)\n",
    "    print(\"lr: %f, alpha: %f ---> score:%f\"%(lr,alpha,score))\n",
    "    record.append([lr,alpha,score])\n",
    "best = sorted(record,key=lambda l:l[-1],reverse=-1)[0]\n",
    "print(\"=================Best Hyperparameters=================\")\n",
    "print(\"lr: {},\\talpha: {},\\tscore: {}\".format(*best))"
   ]
  },
  {
   "cell_type": "markdown",
   "metadata": {},
   "source": [
    "\n",
    "\n",
    "## Full Results\n",
    "\n",
    "Add here your results:\n",
    "\n",
    "| LR | Precision  | Recall  | F1-Score  |\n",
    "|:-:|:-:|:-:|:-:|\n",
    "| BOW-count  |0.822   |0.855   |0.838   |\n",
    "| BOW-tfidf  |0.847   |0.860   |0.853   |\n"
   ]
  },
  {
   "cell_type": "markdown",
   "metadata": {},
   "source": [
    "# Multi-class Logistic Regression \n",
    "\n",
    "Now you need to train a Multiclass Logistic Regression (MLR) Classifier by extending the Binary model you developed above. You will use the MLR model to perform topic classification on the AG news dataset consisting of three classes:"
   ]
  },
  {
   "cell_type": "markdown",
   "metadata": {},
   "source": [
    "- Class 1: World\n",
    "- Class 2: Sports\n",
    "- Class 3: Business"
   ]
  },
  {
   "cell_type": "markdown",
   "metadata": {},
   "source": [
    "You need to follow the same process as in Task 1 for data processing and feature extraction by reusing the functions you wrote."
   ]
  },
  {
   "cell_type": "code",
   "execution_count": 147,
   "metadata": {
    "ExecuteTime": {
     "end_time": "2020-03-20T20:32:04.694634Z",
     "start_time": "2020-03-20T20:32:04.620566Z"
    },
    "run_control": {
     "marked": false
    }
   },
   "outputs": [
    {
     "name": "stdout",
     "output_type": "stream",
     "text": [
      "Finish loading:\n",
      "\ttrain.csv\n",
      "\ttest.csv\n",
      "\tdev.csv\n"
     ]
    }
   ],
   "source": [
    "# fill in your code...\n",
    "Data = FileLoader('data_topic',names=['label','text'])\n",
    "\n",
    "data_tr = Data.train\n",
    "data_te = Data.test\n",
    "data_dev = Data.dev"
   ]
  },
  {
   "cell_type": "code",
   "execution_count": 148,
   "metadata": {
    "ExecuteTime": {
     "end_time": "2020-03-20T20:32:05.384392Z",
     "start_time": "2020-03-20T20:32:05.359292Z"
    },
    "cell_style": "center",
    "run_control": {
     "marked": false
    }
   },
   "outputs": [
    {
     "data": {
      "text/html": [
       "<div>\n",
       "<style scoped>\n",
       "    .dataframe tbody tr th:only-of-type {\n",
       "        vertical-align: middle;\n",
       "    }\n",
       "\n",
       "    .dataframe tbody tr th {\n",
       "        vertical-align: top;\n",
       "    }\n",
       "\n",
       "    .dataframe thead th {\n",
       "        text-align: right;\n",
       "    }\n",
       "</style>\n",
       "<table border=\"1\" class=\"dataframe\">\n",
       "  <thead>\n",
       "    <tr style=\"text-align: right;\">\n",
       "      <th></th>\n",
       "      <th>label</th>\n",
       "      <th>text</th>\n",
       "    </tr>\n",
       "  </thead>\n",
       "  <tbody>\n",
       "    <tr>\n",
       "      <th>0</th>\n",
       "      <td>1</td>\n",
       "      <td>Reuters - Venezuelans turned out early\\and in ...</td>\n",
       "    </tr>\n",
       "    <tr>\n",
       "      <th>1</th>\n",
       "      <td>1</td>\n",
       "      <td>Reuters - South Korean police used water canno...</td>\n",
       "    </tr>\n",
       "    <tr>\n",
       "      <th>2</th>\n",
       "      <td>1</td>\n",
       "      <td>Reuters - Thousands of Palestinian\\prisoners i...</td>\n",
       "    </tr>\n",
       "    <tr>\n",
       "      <th>3</th>\n",
       "      <td>1</td>\n",
       "      <td>AFP - Sporadic gunfire and shelling took place...</td>\n",
       "    </tr>\n",
       "    <tr>\n",
       "      <th>4</th>\n",
       "      <td>1</td>\n",
       "      <td>AP - Dozens of Rwandan soldiers flew into Suda...</td>\n",
       "    </tr>\n",
       "  </tbody>\n",
       "</table>\n",
       "</div>"
      ],
      "text/plain": [
       "   label                                               text\n",
       "0      1  Reuters - Venezuelans turned out early\\and in ...\n",
       "1      1  Reuters - South Korean police used water canno...\n",
       "2      1  Reuters - Thousands of Palestinian\\prisoners i...\n",
       "3      1  AFP - Sporadic gunfire and shelling took place...\n",
       "4      1  AP - Dozens of Rwandan soldiers flew into Suda..."
      ]
     },
     "execution_count": 148,
     "metadata": {},
     "output_type": "execute_result"
    }
   ],
   "source": [
    "data_tr.head()"
   ]
  },
  {
   "cell_type": "code",
   "execution_count": 149,
   "metadata": {
    "ExecuteTime": {
     "end_time": "2020-03-20T20:32:07.045611Z",
     "start_time": "2020-03-20T20:32:07.022970Z"
    },
    "run_control": {
     "marked": false
    }
   },
   "outputs": [],
   "source": [
    "# fill in your code...\n",
    "X_tr_raw, Y_tr = transform(data_tr)\n",
    "X_te_raw, Y_te = transform(data_te)\n",
    "X_dev_raw, Y_dev = transform(data_dev)"
   ]
  },
  {
   "cell_type": "code",
   "execution_count": 150,
   "metadata": {
    "ExecuteTime": {
     "end_time": "2020-03-20T20:32:07.532268Z",
     "start_time": "2020-03-20T20:32:07.516467Z"
    },
    "cell_style": "split",
    "run_control": {
     "marked": false
    }
   },
   "outputs": [
    {
     "data": {
      "text/plain": [
       "['Reuters - Venezuelans turned out early\\\\and in large numbers on Sunday to vote in a historic referendum\\\\that will either remove left-wing President Hugo Chavez from\\\\office or give him a new mandate to govern for the next two\\\\years.']"
      ]
     },
     "execution_count": 150,
     "metadata": {},
     "output_type": "execute_result"
    }
   ],
   "source": [
    "X_tr_raw[:1]"
   ]
  },
  {
   "cell_type": "code",
   "execution_count": 151,
   "metadata": {
    "ExecuteTime": {
     "end_time": "2020-03-20T20:32:07.973587Z",
     "start_time": "2020-03-20T20:32:07.952258Z"
    },
    "cell_style": "split",
    "run_control": {
     "marked": false
    }
   },
   "outputs": [
    {
     "data": {
      "text/plain": [
       "array([[1],\n",
       "       [1],\n",
       "       [1],\n",
       "       ...,\n",
       "       [3],\n",
       "       [3],\n",
       "       [3]])"
      ]
     },
     "execution_count": 151,
     "metadata": {},
     "output_type": "execute_result"
    }
   ],
   "source": [
    "Y_tr"
   ]
  },
  {
   "cell_type": "code",
   "execution_count": 152,
   "metadata": {
    "ExecuteTime": {
     "end_time": "2020-03-20T20:32:09.486587Z",
     "start_time": "2020-03-20T20:32:08.637268Z"
    },
    "run_control": {
     "marked": false
    }
   },
   "outputs": [
    {
     "name": "stdout",
     "output_type": "stream",
     "text": [
      "5000\n",
      "\n",
      "['reuters', 'said', 'tuesday', 'new', 'wednesday', 'after', 'athens', 'ap', 'monday', 'first', 'their', 'us', 'olympic', 'york', ('new', 'york'), 'two', 'over', 'but', 'oil', 'inc', 'more', 'prices', 'year', 'company', 'world', 'gt', 'lt', 'than', 'aug', 'about', 'had', 'one', 'united', 'out', 'sunday', 'against', 'up', 'quot', 'into', 'fullquote', 'second', 'last', 'stocks', 'team', 'president', 'gold', 'percent', 'iraq', 'three', 'when', 'greece', 'night', ('york', 'reuters'), ('new', 'york', 'reuters'), 'time', 'not', 'no', 'games', 'yesterday', 'home', 'olympics', 'washington', 'states', 'off', ('united', 'states'), 'google', ('oil', 'prices'), 'day', 'public', 'billion', 'record', ('athens', 'reuters'), 'week', 'win', 'all', 'men', 'government', 'won', ('said', 'tuesday'), 'najaf', 'american', 'years', 'officials', 'today', 'city', 'would', 'shares', 'offering', 'people', 'final', 'medal', 'minister', 'afp', 'corp', 'sales', 'million', 'back', 'four', 'investor', 'com']\n",
      "\n",
      "[('reuters', 631), ('said', 432), ('tuesday', 413), ('wednesday', 344), ('new', 325), ('after', 295), ('ap', 275), ('athens', 245), ('monday', 221), ('first', 210)]\n"
     ]
    }
   ],
   "source": [
    "vocab, df, ngram_counts = get_vocab(X_tr_raw, ngram_range=(1,3), keep_topN=5000, stop_words=stop_words)\n",
    "print(len(vocab))\n",
    "print()\n",
    "print(list(vocab)[:100])\n",
    "print()\n",
    "print(df.most_common()[:10])"
   ]
  },
  {
   "cell_type": "code",
   "execution_count": 39,
   "metadata": {
    "ExecuteTime": {
     "end_time": "2020-02-15T14:18:04.508938Z",
     "start_time": "2020-02-15T14:18:04.171071Z"
    },
    "run_control": {
     "marked": false
    }
   },
   "outputs": [
    {
     "name": "stdout",
     "output_type": "stream",
     "text": [
      "5000\n",
      "\n",
      "['questions', ('exhibition', 'game'), ('computer', 'maker'), ('chavez', 'won'), ('invoices', 'halliburton'), ('den', 'hoogenband', 'netherlands'), 'body', ('anterior', 'cruciate'), ('billion', 'cash', 'stock'), ('nortel', 'networks', 'corp'), ('offering', 'nearly'), ('prime', 'minister'), ('july', 'first', 'time'), 'strong', ('hang', 'over'), 'model', 'ease', 'assets', 'category', 'family', 'disappeared', ('olympic', 'men'), 'couldn', 'why', 'shift', ('world', 'largest', 'food'), 'oust', ('settler', 'homes'), ('jerusalem', 'reuters'), ('wisconsin', 'reuters'), 'luis', 'bowl', ('monday', 'said', 'quarterly'), ('baltimore', 'orioles'), ('more', 'israeli'), ('army', 'had', 'decided'), 'economic', ('after', 'web', 'no'), 'lynn', ('defensive', 'end'), 'according', 'facilities', ('company', 'wednesday'), ('lt', 'gt', 'wednesday'), 'tutsi', ('dillard', 'inc'), 'outside', 'protect', 'uk', 'weather', 'sell', 'pile', 'immediately', 'senate', ('venus', 'williams'), ('four', 'months'), 'pope', ('assistant', 'manager'), 'nyse', 'place', 'needs', 'needed', 'competition', 'powerful', 'outlooks', 'expected', 'gave', ('holding', 'corp'), ('minister', 'alexander'), 'spectacular', ('world', 'biggest'), 'barrel', ('store', 'sales'), 'venezuela', 'groups', 'robert', 'calf', 'brokerage', ('fears', 'about', 'country'), ('retailer', 'behind'), 'kid', 'latest', 'street', 'allow', 'surge', 'living', ('aug', 'reuters'), 'aware', 'thens', 'stunned', 'sending', 'sharon', 'south', 'draw', 'wall', 'declare', ('inc', 'said'), 'lows', ('cincinnati', 'reds'), 'families']\n",
      "\n",
      "[('reuters', 631), ('said', 432), ('tuesday', 413), ('wednesday', 344), ('new', 325), ('after', 295), ('ap', 275), ('athens', 245), ('monday', 221), ('first', 210)]\n"
     ]
    }
   ],
   "source": [
    "vocab, df, ngram_counts = get_vocab(X_tr_raw, ngram_range=(1,3), keep_topN=5000, stop_words=stop_words)\n",
    "print(len(vocab))\n",
    "print()\n",
    "print(list(vocab)[:100])\n",
    "print()\n",
    "print(df.most_common()[:10])"
   ]
  },
  {
   "cell_type": "code",
   "execution_count": 153,
   "metadata": {
    "ExecuteTime": {
     "end_time": "2020-03-20T20:32:25.930687Z",
     "start_time": "2020-03-20T20:32:11.610730Z"
    },
    "run_control": {
     "marked": false
    }
   },
   "outputs": [],
   "source": [
    "# fill in your code...\n",
    "X_tr_ngram = [extract_ngrams(line,ngram_range=(1,3),stop_words=stop_words) for line in X_tr_raw]\n",
    "X_te_ngram = [extract_ngrams(line,ngram_range=(1,3),stop_words=stop_words) for line in X_te_raw]\n",
    "X_dev_ngram = [extract_ngrams(line,ngram_range=(1,3),stop_words=stop_words) for line in X_dev_raw]\n",
    "\n",
    "X_tr_count = vectorise(X_tr_ngram, vocab)\n",
    "X_te_count = vectorise(X_te_ngram, vocab)\n",
    "X_dev_count = vectorise(X_dev_ngram, vocab)"
   ]
  },
  {
   "cell_type": "markdown",
   "metadata": {},
   "source": [
    "Now you need to change `SGD` to support multiclass datasets. First you need to develop a `softmax` function. It takes as input:\n",
    "\n",
    "- `z`: array of real numbers \n",
    "\n",
    "and returns:\n",
    "\n",
    "- `smax`: the softmax of `z`"
   ]
  },
  {
   "cell_type": "code",
   "execution_count": 154,
   "metadata": {
    "ExecuteTime": {
     "end_time": "2020-03-20T20:32:25.948998Z",
     "start_time": "2020-03-20T20:32:25.934736Z"
    },
    "run_control": {
     "marked": false
    }
   },
   "outputs": [],
   "source": [
    "def softmax(z):\n",
    "    \n",
    "    # fill in your code...\n",
    "    z = z.copy()\n",
    "    #z -= np.max(z)\n",
    "    smax = np.exp(z) / np.sum(np.exp(z),axis=1,keepdims=True)\n",
    "    \n",
    "    return smax"
   ]
  },
  {
   "cell_type": "markdown",
   "metadata": {},
   "source": [
    "Then modify `predict_proba` and `predict_class` functions for the multiclass case:"
   ]
  },
  {
   "cell_type": "code",
   "execution_count": 155,
   "metadata": {
    "ExecuteTime": {
     "end_time": "2020-03-20T20:32:25.980556Z",
     "start_time": "2020-03-20T20:32:25.958511Z"
    },
    "run_control": {
     "marked": false
    }
   },
   "outputs": [],
   "source": [
    "def predict_proba(X, weights):\n",
    "    \n",
    "    # fill in your code...\n",
    "    preds_proba = X.dot(weights.T)\n",
    "    \n",
    "    assert preds_proba.shape == (X.shape[0],weights.shape[0])\n",
    "    return softmax(preds_proba)"
   ]
  },
  {
   "cell_type": "code",
   "execution_count": 156,
   "metadata": {
    "ExecuteTime": {
     "end_time": "2020-03-20T20:32:26.009920Z",
     "start_time": "2020-03-20T20:32:25.990643Z"
    },
    "run_control": {
     "marked": false
    }
   },
   "outputs": [],
   "source": [
    "def predict_class(X, weights):\n",
    "    \n",
    "    # fill in your code...\n",
    "    preds_class = np.argmax(predict_proba(X, weights),axis=1)+1\n",
    "    \n",
    "    assert preds_class.shape == (X.shape[0],)\n",
    "    return preds_class"
   ]
  },
  {
   "cell_type": "markdown",
   "metadata": {},
   "source": [
    "Toy example and expected functionality of the functions above:"
   ]
  },
  {
   "cell_type": "code",
   "execution_count": 157,
   "metadata": {
    "ExecuteTime": {
     "end_time": "2020-03-20T20:32:26.037919Z",
     "start_time": "2020-03-20T20:32:26.015232Z"
    },
    "run_control": {
     "marked": false
    }
   },
   "outputs": [],
   "source": [
    "X = np.array([[0.1,0.2],[0.2,0.1],[0.1,-0.2]])\n",
    "w = np.array([[2,-5],[-5,2]])"
   ]
  },
  {
   "cell_type": "code",
   "execution_count": 158,
   "metadata": {
    "ExecuteTime": {
     "end_time": "2020-03-20T20:32:26.068031Z",
     "start_time": "2020-03-20T20:32:26.045380Z"
    },
    "run_control": {
     "marked": false
    }
   },
   "outputs": [
    {
     "data": {
      "text/plain": [
       "array([[0.33181223, 0.66818777],\n",
       "       [0.66818777, 0.33181223],\n",
       "       [0.89090318, 0.10909682]])"
      ]
     },
     "execution_count": 158,
     "metadata": {},
     "output_type": "execute_result"
    }
   ],
   "source": [
    "predict_proba(X, w)"
   ]
  },
  {
   "cell_type": "code",
   "execution_count": 159,
   "metadata": {
    "ExecuteTime": {
     "end_time": "2020-03-20T20:32:26.110940Z",
     "start_time": "2020-03-20T20:32:26.088573Z"
    },
    "run_control": {
     "marked": false
    }
   },
   "outputs": [
    {
     "data": {
      "text/plain": [
       "array([2, 1, 1])"
      ]
     },
     "execution_count": 159,
     "metadata": {},
     "output_type": "execute_result"
    }
   ],
   "source": [
    "predict_class(X, w)"
   ]
  },
  {
   "cell_type": "markdown",
   "metadata": {},
   "source": [
    "Now you need to compute the categorical cross entropy loss (extending the binary loss to support multiple classes)."
   ]
  },
  {
   "cell_type": "code",
   "execution_count": 176,
   "metadata": {
    "ExecuteTime": {
     "end_time": "2020-03-20T20:55:02.639875Z",
     "start_time": "2020-03-20T20:55:02.603340Z"
    },
    "run_control": {
     "marked": false
    }
   },
   "outputs": [],
   "source": [
    "def categorical_loss(X, Y, weights, num_classes=5, alpha=0.00001):\n",
    "    assert Y.shape[0] == X.shape[0]\n",
    "    eps = np.finfo(np.float64).eps\n",
    "    preds_proba = predict_proba(X, weights)\n",
    "    Y = np.eye(weights.shape[0],weights.shape[0])[Y-1].reshape(X.shape[0],weights.shape[0])\n",
    "    l1 = -np.sum(Y*np.log(preds_proba+eps),1) \n",
    "    l2 = alpha*np.sum(np.multiply(weights,weights))\n",
    "    l=np.mean(l1)+l2/X.shape[0]\n",
    "\n",
    "    return l"
   ]
  },
  {
   "cell_type": "code",
   "execution_count": 177,
   "metadata": {
    "ExecuteTime": {
     "end_time": "2020-03-20T20:55:02.683375Z",
     "start_time": "2020-03-20T20:55:02.658348Z"
    },
    "run_control": {
     "marked": false
    }
   },
   "outputs": [],
   "source": [
    "def gradient(X, Y, weights, alpha=0.00001):\n",
    "    #m = len(X)\n",
    "    Y_c = Y.copy()\n",
    "    Y = np.eye(weights.shape[0],weights.shape[0])[Y-1].reshape(X.shape[0],weights.shape[0])\n",
    "    h = predict_proba(X, weights)\n",
    "    #raise\n",
    "    dw = -np.dot(np.sum(Y-Y*h,axis=1),X) + 2*alpha*weights[(Y_c-1).item()]\n",
    "    return dw#/m"
   ]
  },
  {
   "cell_type": "markdown",
   "metadata": {
    "ExecuteTime": {
     "end_time": "2020-02-15T14:08:59.937442Z",
     "start_time": "2020-02-15T14:08:59.932221Z"
    }
   },
   "source": [
    "Finally you need to modify SGD to support the categorical cross entropy loss:"
   ]
  },
  {
   "cell_type": "code",
   "execution_count": 162,
   "metadata": {
    "ExecuteTime": {
     "end_time": "2020-03-20T20:32:26.255251Z",
     "start_time": "2020-03-20T20:32:26.227750Z"
    },
    "run_control": {
     "marked": false
    }
   },
   "outputs": [],
   "source": [
    "def SGD(X_tr, Y_tr, X_dev=[], Y_dev=[], num_classes=5, lr=0.01, alpha=0.00001, epochs=5, tolerance=0.001, print_progress=True):\n",
    "    \n",
    "    cur_loss_tr = 1.\n",
    "    cur_loss_dev = 1.\n",
    "    training_loss_history = []\n",
    "    validation_loss_history = []\n",
    "    \n",
    "    # fill in your code...\n",
    "    # Stage 1: Init weights\n",
    "    weights = np.zeros((num_classes,X_tr.shape[1]))\n",
    "    \n",
    "    # Stage 2: Init stochastic value\n",
    "    idx_list = np.array(range(X_tr.shape[0]))\n",
    "    \n",
    "    # Stage 3: Training\n",
    "    for epoch in range(epochs):\n",
    "        np.random.shuffle(idx_list) # disorder dataset\n",
    "        for i in idx_list:\n",
    "            X_tr_i, Y_tr_i = X_tr[i].reshape(1,-1),Y_tr[i].reshape(1,-1) # get a single data pair\n",
    "            dw = gradient(X_tr_i, Y_tr_i, weights, alpha) # gradient\n",
    "            weights[(Y_tr_i-1).item()] -= lr*dw # update       \n",
    "        loss_dev = categorical_loss(X_dev_count, Y_dev, weights, alpha)\n",
    "        loss_tr = categorical_loss(X_tr_count, Y_tr, weights, alpha)\n",
    "\n",
    "        # Add history\n",
    "        if epoch != 0:\n",
    "            training_loss_history.append(loss_tr)\n",
    "            validation_loss_history.append(loss_dev)\n",
    "        if print_progress == True: \n",
    "            print(\"Epoch: %d| Training loss: %f| Validation loss: %f\"%(epoch,loss_tr,loss_dev))\n",
    "        if epoch >1 and abs(validation_loss_history[-2]-validation_loss_history[-1]) <= tolerance:\n",
    "            break\n",
    "\n",
    "    return weights, training_loss_history, validation_loss_history"
   ]
  },
  {
   "cell_type": "code",
   "execution_count": 163,
   "metadata": {
    "ExecuteTime": {
     "end_time": "2020-03-20T20:33:50.353809Z",
     "start_time": "2020-03-20T20:32:26.262746Z"
    },
    "run_control": {
     "marked": false
    },
    "scrolled": true
   },
   "outputs": [
    {
     "name": "stdout",
     "output_type": "stream",
     "text": [
      "Epoch: 0| Training loss: 1.078261| Validation loss: 1.088265\n",
      "Epoch: 1| Training loss: 1.059473| Validation loss: 1.078394\n",
      "Epoch: 2| Training loss: 1.042086| Validation loss: 1.068960\n",
      "Epoch: 3| Training loss: 1.025884| Validation loss: 1.059909\n",
      "Epoch: 4| Training loss: 1.010702| Validation loss: 1.051197\n",
      "Epoch: 5| Training loss: 0.996394| Validation loss: 1.042788\n",
      "Epoch: 6| Training loss: 0.982840| Validation loss: 1.034649\n",
      "Epoch: 7| Training loss: 0.969954| Validation loss: 1.026756\n",
      "Epoch: 8| Training loss: 0.957659| Validation loss: 1.019088\n",
      "Epoch: 9| Training loss: 0.945895| Validation loss: 1.011627\n",
      "Epoch: 10| Training loss: 0.934611| Validation loss: 1.004357\n",
      "Epoch: 11| Training loss: 0.923766| Validation loss: 0.997267\n",
      "Epoch: 12| Training loss: 0.913327| Validation loss: 0.990349\n",
      "Epoch: 13| Training loss: 0.903269| Validation loss: 0.983591\n",
      "Epoch: 14| Training loss: 0.893559| Validation loss: 0.976986\n",
      "Epoch: 15| Training loss: 0.884179| Validation loss: 0.970529\n",
      "Epoch: 16| Training loss: 0.875109| Validation loss: 0.964211\n",
      "Epoch: 17| Training loss: 0.866327| Validation loss: 0.958028\n",
      "Epoch: 18| Training loss: 0.857820| Validation loss: 0.951973\n",
      "Epoch: 19| Training loss: 0.849573| Validation loss: 0.946044\n",
      "Epoch: 20| Training loss: 0.841572| Validation loss: 0.940235\n",
      "Epoch: 21| Training loss: 0.833807| Validation loss: 0.934542\n",
      "Epoch: 22| Training loss: 0.826265| Validation loss: 0.928961\n",
      "Epoch: 23| Training loss: 0.818936| Validation loss: 0.923490\n",
      "Epoch: 24| Training loss: 0.811810| Validation loss: 0.918124\n",
      "Epoch: 25| Training loss: 0.804879| Validation loss: 0.912862\n",
      "Epoch: 26| Training loss: 0.798131| Validation loss: 0.907699\n",
      "Epoch: 27| Training loss: 0.791561| Validation loss: 0.902632\n",
      "Epoch: 28| Training loss: 0.785163| Validation loss: 0.897660\n",
      "Epoch: 29| Training loss: 0.778926| Validation loss: 0.892779\n",
      "Epoch: 30| Training loss: 0.772846| Validation loss: 0.887987\n",
      "Epoch: 31| Training loss: 0.766915| Validation loss: 0.883282\n",
      "Epoch: 32| Training loss: 0.761129| Validation loss: 0.878660\n",
      "Epoch: 33| Training loss: 0.755481| Validation loss: 0.874121\n",
      "Epoch: 34| Training loss: 0.749967| Validation loss: 0.869661\n",
      "Epoch: 35| Training loss: 0.744581| Validation loss: 0.865279\n",
      "Epoch: 36| Training loss: 0.739318| Validation loss: 0.860973\n",
      "Epoch: 37| Training loss: 0.734174| Validation loss: 0.856740\n",
      "Epoch: 38| Training loss: 0.729146| Validation loss: 0.852580\n",
      "Epoch: 39| Training loss: 0.724227| Validation loss: 0.848490\n",
      "Epoch: 40| Training loss: 0.719415| Validation loss: 0.844468\n",
      "Epoch: 41| Training loss: 0.714706| Validation loss: 0.840512\n",
      "Epoch: 42| Training loss: 0.710096| Validation loss: 0.836622\n",
      "Epoch: 43| Training loss: 0.705583| Validation loss: 0.832796\n",
      "Epoch: 44| Training loss: 0.701162| Validation loss: 0.829031\n",
      "Epoch: 45| Training loss: 0.696831| Validation loss: 0.825328\n",
      "Epoch: 46| Training loss: 0.692587| Validation loss: 0.821683\n",
      "Epoch: 47| Training loss: 0.688427| Validation loss: 0.818096\n",
      "Epoch: 48| Training loss: 0.684348| Validation loss: 0.814565\n",
      "Epoch: 49| Training loss: 0.680349| Validation loss: 0.811089\n",
      "Epoch: 50| Training loss: 0.676425| Validation loss: 0.807668\n",
      "Epoch: 51| Training loss: 0.672575| Validation loss: 0.804298\n",
      "Epoch: 52| Training loss: 0.668797| Validation loss: 0.800980\n",
      "Epoch: 53| Training loss: 0.665088| Validation loss: 0.797712\n",
      "Epoch: 54| Training loss: 0.661447| Validation loss: 0.794493\n",
      "Epoch: 55| Training loss: 0.657871| Validation loss: 0.791322\n",
      "Epoch: 56| Training loss: 0.654358| Validation loss: 0.788197\n",
      "Epoch: 57| Training loss: 0.650908| Validation loss: 0.785119\n",
      "Epoch: 58| Training loss: 0.647517| Validation loss: 0.782085\n",
      "Epoch: 59| Training loss: 0.644184| Validation loss: 0.779095\n",
      "Epoch: 60| Training loss: 0.640908| Validation loss: 0.776148\n",
      "Epoch: 61| Training loss: 0.637686| Validation loss: 0.773243\n",
      "Epoch: 62| Training loss: 0.634518| Validation loss: 0.770378\n",
      "Epoch: 63| Training loss: 0.631403| Validation loss: 0.767554\n",
      "Epoch: 64| Training loss: 0.628338| Validation loss: 0.764770\n",
      "Epoch: 65| Training loss: 0.625322| Validation loss: 0.762023\n",
      "Epoch: 66| Training loss: 0.622354| Validation loss: 0.759314\n",
      "Epoch: 67| Training loss: 0.619433| Validation loss: 0.756642\n",
      "Epoch: 68| Training loss: 0.616558| Validation loss: 0.754007\n",
      "Epoch: 69| Training loss: 0.613726| Validation loss: 0.751406\n",
      "Epoch: 70| Training loss: 0.610938| Validation loss: 0.748840\n",
      "Epoch: 71| Training loss: 0.608192| Validation loss: 0.746308\n",
      "Epoch: 72| Training loss: 0.605487| Validation loss: 0.743810\n",
      "Epoch: 73| Training loss: 0.602822| Validation loss: 0.741343\n",
      "Epoch: 74| Training loss: 0.600196| Validation loss: 0.738909\n",
      "Epoch: 75| Training loss: 0.597608| Validation loss: 0.736505\n",
      "Epoch: 76| Training loss: 0.595058| Validation loss: 0.734133\n",
      "Epoch: 77| Training loss: 0.592543| Validation loss: 0.731791\n",
      "Epoch: 78| Training loss: 0.590064| Validation loss: 0.729478\n",
      "Epoch: 79| Training loss: 0.587620| Validation loss: 0.727194\n",
      "Epoch: 80| Training loss: 0.585209| Validation loss: 0.724938\n",
      "Epoch: 81| Training loss: 0.582831| Validation loss: 0.722710\n",
      "Epoch: 82| Training loss: 0.580486| Validation loss: 0.720509\n",
      "Epoch: 83| Training loss: 0.578172| Validation loss: 0.718335\n",
      "Epoch: 84| Training loss: 0.575889| Validation loss: 0.716188\n",
      "Epoch: 85| Training loss: 0.573636| Validation loss: 0.714065\n",
      "Epoch: 86| Training loss: 0.571412| Validation loss: 0.711968\n",
      "Epoch: 87| Training loss: 0.569217| Validation loss: 0.709896\n",
      "Epoch: 88| Training loss: 0.567051| Validation loss: 0.707848\n",
      "Epoch: 89| Training loss: 0.564912| Validation loss: 0.705824\n",
      "Epoch: 90| Training loss: 0.562800| Validation loss: 0.703824\n",
      "Epoch: 91| Training loss: 0.560714| Validation loss: 0.701846\n",
      "Epoch: 92| Training loss: 0.558654| Validation loss: 0.699891\n",
      "Epoch: 93| Training loss: 0.556620| Validation loss: 0.697959\n",
      "Epoch: 94| Training loss: 0.554610| Validation loss: 0.696048\n",
      "Epoch: 95| Training loss: 0.552625| Validation loss: 0.694158\n",
      "Epoch: 96| Training loss: 0.550663| Validation loss: 0.692290\n",
      "Epoch: 97| Training loss: 0.548725| Validation loss: 0.690442\n",
      "Epoch: 98| Training loss: 0.546809| Validation loss: 0.688615\n",
      "Epoch: 99| Training loss: 0.544916| Validation loss: 0.686807\n",
      "Epoch: 100| Training loss: 0.543045| Validation loss: 0.685019\n",
      "Epoch: 101| Training loss: 0.541196| Validation loss: 0.683251\n",
      "Epoch: 102| Training loss: 0.539367| Validation loss: 0.681501\n",
      "Epoch: 103| Training loss: 0.537559| Validation loss: 0.679770\n",
      "Epoch: 104| Training loss: 0.535771| Validation loss: 0.678057\n",
      "Epoch: 105| Training loss: 0.534003| Validation loss: 0.676362\n",
      "Epoch: 106| Training loss: 0.532255| Validation loss: 0.674685\n",
      "Epoch: 107| Training loss: 0.530526| Validation loss: 0.673025\n",
      "Epoch: 108| Training loss: 0.528816| Validation loss: 0.671383\n",
      "Epoch: 109| Training loss: 0.527124| Validation loss: 0.669757\n",
      "Epoch: 110| Training loss: 0.525450| Validation loss: 0.668148\n",
      "Epoch: 111| Training loss: 0.523794| Validation loss: 0.666555\n",
      "Epoch: 112| Training loss: 0.522156| Validation loss: 0.664979\n",
      "Epoch: 113| Training loss: 0.520534| Validation loss: 0.663418\n",
      "Epoch: 114| Training loss: 0.518930| Validation loss: 0.661873\n",
      "Epoch: 115| Training loss: 0.517342| Validation loss: 0.660343\n",
      "Epoch: 116| Training loss: 0.515770| Validation loss: 0.658828\n",
      "Epoch: 117| Training loss: 0.514214| Validation loss: 0.657327\n",
      "Epoch: 118| Training loss: 0.512674| Validation loss: 0.655842\n",
      "Epoch: 119| Training loss: 0.511149| Validation loss: 0.654370\n",
      "Epoch: 120| Training loss: 0.509640| Validation loss: 0.652913\n",
      "Epoch: 121| Training loss: 0.508145| Validation loss: 0.651470\n",
      "Epoch: 122| Training loss: 0.506665| Validation loss: 0.650040\n",
      "Epoch: 123| Training loss: 0.505199| Validation loss: 0.648624\n",
      "Epoch: 124| Training loss: 0.503748| Validation loss: 0.647221\n",
      "Epoch: 125| Training loss: 0.502311| Validation loss: 0.645832\n",
      "Epoch: 126| Training loss: 0.500887| Validation loss: 0.644455\n",
      "Epoch: 127| Training loss: 0.499477| Validation loss: 0.643091\n",
      "Epoch: 128| Training loss: 0.498080| Validation loss: 0.641740\n",
      "Epoch: 129| Training loss: 0.496695| Validation loss: 0.640401\n",
      "Epoch: 130| Training loss: 0.495324| Validation loss: 0.639074\n",
      "Epoch: 131| Training loss: 0.493966| Validation loss: 0.637758\n"
     ]
    },
    {
     "name": "stdout",
     "output_type": "stream",
     "text": [
      "Epoch: 132| Training loss: 0.492619| Validation loss: 0.636455\n",
      "Epoch: 133| Training loss: 0.491285| Validation loss: 0.635163\n",
      "Epoch: 134| Training loss: 0.489963| Validation loss: 0.633883\n",
      "Epoch: 135| Training loss: 0.488653| Validation loss: 0.632615\n",
      "Epoch: 136| Training loss: 0.487355| Validation loss: 0.631357\n",
      "Epoch: 137| Training loss: 0.486068| Validation loss: 0.630110\n",
      "Epoch: 138| Training loss: 0.484793| Validation loss: 0.628875\n",
      "Epoch: 139| Training loss: 0.483528| Validation loss: 0.627650\n",
      "Epoch: 140| Training loss: 0.482275| Validation loss: 0.626435\n",
      "Epoch: 141| Training loss: 0.481032| Validation loss: 0.625232\n",
      "Epoch: 142| Training loss: 0.479801| Validation loss: 0.624038\n",
      "Epoch: 143| Training loss: 0.478579| Validation loss: 0.622854\n",
      "Epoch: 144| Training loss: 0.477368| Validation loss: 0.621680\n",
      "Epoch: 145| Training loss: 0.476167| Validation loss: 0.620516\n",
      "Epoch: 146| Training loss: 0.474976| Validation loss: 0.619362\n",
      "Epoch: 147| Training loss: 0.473795| Validation loss: 0.618218\n",
      "Epoch: 148| Training loss: 0.472624| Validation loss: 0.617083\n",
      "Epoch: 149| Training loss: 0.471463| Validation loss: 0.615958\n",
      "Epoch: 150| Training loss: 0.470311| Validation loss: 0.614841\n",
      "Epoch: 151| Training loss: 0.469168| Validation loss: 0.613734\n",
      "Epoch: 152| Training loss: 0.468034| Validation loss: 0.612635\n",
      "Epoch: 153| Training loss: 0.466910| Validation loss: 0.611546\n",
      "Epoch: 154| Training loss: 0.465795| Validation loss: 0.610466\n",
      "Epoch: 155| Training loss: 0.464688| Validation loss: 0.609393\n",
      "Epoch: 156| Training loss: 0.463591| Validation loss: 0.608330\n",
      "Epoch: 157| Training loss: 0.462501| Validation loss: 0.607275\n",
      "Epoch: 158| Training loss: 0.461421| Validation loss: 0.606228\n",
      "Epoch: 159| Training loss: 0.460348| Validation loss: 0.605189\n",
      "Epoch: 160| Training loss: 0.459284| Validation loss: 0.604159\n",
      "Epoch: 161| Training loss: 0.458229| Validation loss: 0.603136\n",
      "Epoch: 162| Training loss: 0.457181| Validation loss: 0.602121\n",
      "Epoch: 163| Training loss: 0.456141| Validation loss: 0.601115\n",
      "Epoch: 164| Training loss: 0.455109| Validation loss: 0.600115\n"
     ]
    }
   ],
   "source": [
    "w_count, loss_tr_count, dev_loss_count = SGD(X_tr_count, Y_tr, \n",
    "                                             X_dev=X_dev_count, \n",
    "                                             Y_dev=Y_dev,\n",
    "                                             num_classes=3,\n",
    "                                             lr=0.0001, \n",
    "                                             alpha=0.001, \n",
    "                                             epochs=200)"
   ]
  },
  {
   "cell_type": "markdown",
   "metadata": {
    "ExecuteTime": {
     "end_time": "2020-02-15T14:10:15.772383Z",
     "start_time": "2020-02-15T14:10:15.767855Z"
    }
   },
   "source": [
    "Now you are ready to train and evaluate you MLR following the same steps as in Task 1 for both Count and tfidf features:"
   ]
  },
  {
   "cell_type": "code",
   "execution_count": 50,
   "metadata": {
    "ExecuteTime": {
     "end_time": "2020-02-15T14:18:55.324956Z",
     "start_time": "2020-02-15T14:18:11.720952Z"
    },
    "run_control": {
     "marked": false
    }
   },
   "outputs": [
    {
     "name": "stderr",
     "output_type": "stream",
     "text": [
      "/anaconda3/lib/python3.7/site-packages/ipykernel_launcher.py:55: DeprecationWarning: elementwise == comparison failed; this will raise an error in the future.\n"
     ]
    },
    {
     "name": "stdout",
     "output_type": "stream",
     "text": [
      "Epoch: 0| Training loss: 1.0797445295473487| Validation loss: 1.081372090349833\n",
      "Epoch: 1| Training loss: 1.079316160352198| Validation loss: 1.0640685482079149\n",
      "Epoch: 2| Training loss: 1.0560473439817515| Validation loss: 1.0466716664674833\n",
      "Epoch: 3| Training loss: 1.0823272116547453| Validation loss: 1.0293144599016153\n",
      "Epoch: 4| Training loss: 1.0541411400498168| Validation loss: 1.0120430537618956\n",
      "Epoch: 5| Training loss: 0.6018201485747277| Validation loss: 0.9949501699020834\n",
      "Epoch: 6| Training loss: 0.9408020769124341| Validation loss: 0.9780518842493735\n",
      "Epoch: 7| Training loss: 0.9785218029526777| Validation loss: 0.961399507260303\n",
      "Epoch: 8| Training loss: 1.105504123262664| Validation loss: 0.945017429821232\n",
      "Epoch: 9| Training loss: 0.9330426453622344| Validation loss: 0.9289397744769093\n",
      "Epoch: 10| Training loss: 0.7202271854150083| Validation loss: 0.9131712383598369\n",
      "Epoch: 11| Training loss: 0.980165568395653| Validation loss: 0.8977588631301825\n",
      "Epoch: 12| Training loss: 0.9350596877302814| Validation loss: 0.8826257874396408\n",
      "Epoch: 13| Training loss: 1.015964417226491| Validation loss: 0.8678640000045689\n",
      "Epoch: 14| Training loss: 0.7853481727623568| Validation loss: 0.8534092079475973\n",
      "Epoch: 15| Training loss: 1.1280839072469695| Validation loss: 0.8392859262760239\n",
      "Epoch: 16| Training loss: 0.45596125168525925| Validation loss: 0.8254557688887008\n",
      "Epoch: 17| Training loss: 1.0070191455181927| Validation loss: 0.8120053087983156\n",
      "Epoch: 18| Training loss: 0.9938827745552048| Validation loss: 0.7989146470042358\n",
      "Epoch: 19| Training loss: 0.5941619165230784| Validation loss: 0.7861148779646865\n",
      "Epoch: 20| Training loss: 0.347645483062249| Validation loss: 0.773639617757056\n",
      "Epoch: 21| Training loss: 0.8615779910495689| Validation loss: 0.7614413103814573\n",
      "Epoch: 22| Training loss: 0.8559620095999312| Validation loss: 0.7495740843572936\n",
      "Epoch: 23| Training loss: 0.7123026165421295| Validation loss: 0.7380118770283757\n",
      "Epoch: 24| Training loss: 0.628420348319027| Validation loss: 0.7267497405327836\n",
      "Epoch: 25| Training loss: 1.1143453645268255| Validation loss: 0.7157650456550849\n",
      "Epoch: 26| Training loss: 0.5053554837538091| Validation loss: 0.7050752398160355\n",
      "Epoch: 27| Training loss: 0.8580561710864723| Validation loss: 0.6946265481406195\n",
      "Epoch: 28| Training loss: 1.0145821027394442| Validation loss: 0.6844644903515154\n",
      "Epoch: 29| Training loss: 0.889803100593025| Validation loss: 0.6745416521972386\n",
      "Epoch: 30| Training loss: 0.3512373705994844| Validation loss: 0.6649076709998702\n",
      "Epoch: 31| Training loss: 0.6946077278013651| Validation loss: 0.6554896489368593\n",
      "Epoch: 32| Training loss: 0.5721038746595615| Validation loss: 0.6463159196618706\n",
      "Epoch: 33| Training loss: 0.9286421195752351| Validation loss: 0.6374037446331372\n",
      "Epoch: 34| Training loss: 0.3043301520488227| Validation loss: 0.6286933702647342\n",
      "Epoch: 35| Training loss: 0.8412715058863925| Validation loss: 0.6201950715638889\n",
      "Epoch: 36| Training loss: 1.0162421996444875| Validation loss: 0.6119312128918258\n",
      "Epoch: 37| Training loss: 0.9800875509382644| Validation loss: 0.6038364508265476\n",
      "Epoch: 38| Training loss: 0.2529787526410042| Validation loss: 0.5959680427407086\n",
      "Epoch: 39| Training loss: 0.5204508487025243| Validation loss: 0.5882845644274958\n",
      "Epoch: 40| Training loss: 0.663760559879069| Validation loss: 0.5807678321194896\n",
      "Epoch: 41| Training loss: 0.15865889006553835| Validation loss: 0.5734687699728561\n",
      "Epoch: 42| Training loss: 0.6408607725036662| Validation loss: 0.5663184689700342\n",
      "Epoch: 43| Training loss: 0.2797611441024611| Validation loss: 0.5593606258380786\n",
      "Epoch: 44| Training loss: 0.7852857528209075| Validation loss: 0.552554302011612\n",
      "Epoch: 45| Training loss: 1.006186400841472| Validation loss: 0.5459031927551995\n",
      "Epoch: 46| Training loss: 1.121242812418955| Validation loss: 0.5394152242463135\n",
      "Epoch: 47| Training loss: 0.45275382650303764| Validation loss: 0.5330716806209664\n",
      "Epoch: 48| Training loss: 0.5002302346473977| Validation loss: 0.5268516486205744\n",
      "Epoch: 49| Training loss: 0.2927756479030764| Validation loss: 0.520796556633722\n",
      "Epoch: 50| Training loss: 0.5815213659515958| Validation loss: 0.514875429745833\n",
      "Epoch: 51| Training loss: 0.43511107264972204| Validation loss: 0.509093372083549\n",
      "Epoch: 52| Training loss: 0.2004456471210612| Validation loss: 0.5034369186797815\n",
      "Epoch: 53| Training loss: 0.6927294724851424| Validation loss: 0.4978805528962536\n",
      "Epoch: 54| Training loss: 0.22762255875684806| Validation loss: 0.49248110263913736\n",
      "Epoch: 55| Training loss: 0.41286842099956444| Validation loss: 0.4871768560097116\n",
      "Epoch: 56| Training loss: 0.2858867912825694| Validation loss: 0.4820023098168036\n",
      "Epoch: 57| Training loss: 1.07945594292479| Validation loss: 0.4769355688611146\n",
      "Epoch: 58| Training loss: 0.08632099484327364| Validation loss: 0.4719707627364577\n",
      "Epoch: 59| Training loss: 0.4380467526003749| Validation loss: 0.4671259629523961\n",
      "Epoch: 60| Training loss: 0.4504033371479604| Validation loss: 0.4623682646862233\n",
      "Epoch: 61| Training loss: 0.8991535203093632| Validation loss: 0.45772777193305997\n",
      "Epoch: 62| Training loss: 0.37976053429018847| Validation loss: 0.453170172687834\n",
      "Epoch: 63| Training loss: 0.6690249969029779| Validation loss: 0.4487003465696454\n",
      "Epoch: 64| Training loss: 0.12214122740982129| Validation loss: 0.4443374960034709\n",
      "Epoch: 65| Training loss: 0.6816289535486254| Validation loss: 0.4400584436398409\n",
      "Epoch: 66| Training loss: 0.18194708158942638| Validation loss: 0.4358569111132549\n",
      "Epoch: 67| Training loss: 0.5175968359577696| Validation loss: 0.4317374156856518\n",
      "Epoch: 68| Training loss: 0.2748850713851889| Validation loss: 0.42768780305615756\n",
      "Epoch: 69| Training loss: 0.47027298142101503| Validation loss: 0.42374507168474584\n",
      "Epoch: 70| Training loss: 0.19929430369829634| Validation loss: 0.4198554513354222\n",
      "Epoch: 71| Training loss: 0.3119339792974164| Validation loss: 0.4160593000805275\n",
      "Epoch: 72| Training loss: 0.2802330752147449| Validation loss: 0.4123300080340496\n",
      "Epoch: 73| Training loss: 1.4068722074169777| Validation loss: 0.4086685670109219\n",
      "Epoch: 74| Training loss: 1.2289700039889522| Validation loss: 0.4050692506591351\n",
      "Epoch: 75| Training loss: 0.5879134607806588| Validation loss: 0.4015404749982959\n",
      "Epoch: 76| Training loss: 0.5598034047715446| Validation loss: 0.3980768791999669\n",
      "Epoch: 77| Training loss: 0.4072390166320532| Validation loss: 0.3946781657347487\n",
      "Epoch: 78| Training loss: 0.4720387020720993| Validation loss: 0.39135074144554305\n",
      "Epoch: 79| Training loss: 0.8652127247147093| Validation loss: 0.3880767411953969\n",
      "Epoch: 80| Training loss: 0.49502493338551296| Validation loss: 0.38485336346274324\n",
      "Epoch: 81| Training loss: 0.8478719397159928| Validation loss: 0.3816873793123302\n",
      "Epoch: 82| Training loss: 0.5769432672302212| Validation loss: 0.3785768379529342\n",
      "Epoch: 83| Training loss: 0.25865075231928386| Validation loss: 0.37552080913970615\n",
      "Epoch: 84| Training loss: 0.6780205857236974| Validation loss: 0.37251982296888037\n",
      "Epoch: 85| Training loss: 0.5717729327147981| Validation loss: 0.36958152892125545\n",
      "Epoch: 86| Training loss: 0.7185798657407652| Validation loss: 0.36668874595841955\n",
      "Epoch: 87| Training loss: 0.32730720069458585| Validation loss: 0.3638467143325988\n",
      "Epoch: 88| Training loss: 0.9394375601966297| Validation loss: 0.3610402229621626\n",
      "Epoch: 89| Training loss: 0.5314941113071576| Validation loss: 0.3582963265282113\n",
      "Epoch: 90| Training loss: 0.9159430629959491| Validation loss: 0.3556047452606419\n",
      "Epoch: 91| Training loss: 0.27830594341362347| Validation loss: 0.3529452396878083\n",
      "Epoch: 92| Training loss: 0.08922609875671272| Validation loss: 0.3503285390711649\n",
      "Epoch: 93| Training loss: 0.5109477286610166| Validation loss: 0.34776466510396653\n",
      "Epoch: 94| Training loss: 0.8247015373951916| Validation loss: 0.34523113629834656\n",
      "Epoch: 95| Training loss: 1.4111970700349956| Validation loss: 0.3427459408526143\n",
      "Epoch: 96| Training loss: 0.9973410892711908| Validation loss: 0.3403031775623844\n",
      "Epoch: 97| Training loss: 0.9298826919970149| Validation loss: 0.3378961810444463\n",
      "Epoch: 98| Training loss: 0.14036615190332108| Validation loss: 0.33552333229158426\n",
      "Epoch: 99| Training loss: 0.42857059017867416| Validation loss: 0.3331908153000918\n"
     ]
    },
    {
     "name": "stdout",
     "output_type": "stream",
     "text": [
      "Epoch: 100| Training loss: 0.5909452468922335| Validation loss: 0.3308943792523601\n",
      "Epoch: 101| Training loss: 0.0582537404726638| Validation loss: 0.3286410364885621\n",
      "Epoch: 102| Training loss: 0.8460500582683682| Validation loss: 0.32641969802577286\n",
      "Epoch: 103| Training loss: 0.5298538159246153| Validation loss: 0.324225708977352\n",
      "Epoch: 104| Training loss: 0.3002611196487631| Validation loss: 0.3220709147432522\n",
      "Epoch: 105| Training loss: 0.6857676458335961| Validation loss: 0.31995106501678755\n",
      "Epoch: 106| Training loss: 0.5195060392225062| Validation loss: 0.31785403975508386\n",
      "Epoch: 107| Training loss: 0.6192846034415994| Validation loss: 0.3157920207863501\n",
      "Epoch: 108| Training loss: 0.09917322459957126| Validation loss: 0.31376264796419107\n",
      "Epoch: 109| Training loss: 0.3136491065708976| Validation loss: 0.3117644717911298\n",
      "Epoch: 110| Training loss: 0.2961228303588815| Validation loss: 0.30979000698586306\n",
      "Epoch: 111| Training loss: 0.028415357821764815| Validation loss: 0.30785497759094477\n",
      "Epoch: 112| Training loss: 0.3321063258469021| Validation loss: 0.3059320900816925\n",
      "Epoch: 113| Training loss: 0.2679899421174463| Validation loss: 0.30404511603354395\n",
      "Epoch: 114| Training loss: 0.8990533088234927| Validation loss: 0.30218664002975204\n",
      "Epoch: 115| Training loss: 0.12905768556887146| Validation loss: 0.3003505904610916\n",
      "Epoch: 116| Training loss: 0.4506684356556081| Validation loss: 0.2985291037359777\n",
      "Epoch: 117| Training loss: 0.844468526893116| Validation loss: 0.29674277317528236\n",
      "Epoch: 118| Training loss: 0.6767336880461876| Validation loss: 0.2949822521732923\n",
      "Epoch: 119| Training loss: 0.01799443908408846| Validation loss: 0.29324461004936575\n",
      "Epoch: 120| Training loss: 0.3418078466994673| Validation loss: 0.2915307136152019\n",
      "Epoch: 121| Training loss: 0.6270705561081482| Validation loss: 0.28984127182168334\n",
      "Epoch: 122| Training loss: 1.1478485044448523| Validation loss: 0.2881789628649678\n",
      "Epoch: 123| Training loss: 0.2949766090593473| Validation loss: 0.2865338197457586\n",
      "Epoch: 124| Training loss: 1.4238940813590628| Validation loss: 0.2849148292705895\n",
      "Epoch: 125| Training loss: 0.5994789520817773| Validation loss: 0.28331862128435503\n",
      "Epoch: 126| Training loss: 0.24891273419811613| Validation loss: 0.2817370423727986\n",
      "Epoch: 127| Training loss: 0.39238436079518574| Validation loss: 0.2801812115027427\n",
      "Epoch: 128| Training loss: 1.5600414187349476| Validation loss: 0.27864540709644464\n",
      "Epoch: 129| Training loss: 0.9472198772310756| Validation loss: 0.27712518454869994\n",
      "Epoch: 130| Training loss: 0.1584699773317698| Validation loss: 0.2756290475247621\n",
      "Epoch: 131| Training loss: 0.20644196621222938| Validation loss: 0.2741530162974089\n",
      "Epoch: 132| Training loss: 0.18215283594621412| Validation loss: 0.2726944798834253\n",
      "Epoch: 133| Training loss: 0.8414874757451525| Validation loss: 0.2712551700923043\n",
      "Epoch: 134| Training loss: 0.37457828472756166| Validation loss: 0.269827937621642\n",
      "Epoch: 135| Training loss: 0.00774395687073208| Validation loss: 0.26842030110408316\n",
      "Epoch: 136| Training loss: 0.75978129405607| Validation loss: 0.2670359677369942\n",
      "Epoch: 137| Training loss: 0.04094798273170632| Validation loss: 0.2656598668535911\n",
      "Epoch: 138| Training loss: 1.1939040225650244| Validation loss: 0.2642977146554992\n",
      "Epoch: 139| Training loss: 0.2706364434128102| Validation loss: 0.26296275384475015\n",
      "Epoch: 140| Training loss: 0.4041706720632301| Validation loss: 0.2616457843006157\n",
      "Epoch: 141| Training loss: 0.3930983060172604| Validation loss: 0.2603420380125703\n",
      "Epoch: 142| Training loss: 0.08588635860652719| Validation loss: 0.2590556686494602\n",
      "Epoch: 143| Training loss: 0.24441280871964122| Validation loss: 0.25778064807349627\n",
      "Epoch: 144| Training loss: 0.8777114045822041| Validation loss: 0.25652165984926234\n",
      "Epoch: 145| Training loss: 0.8194686345456902| Validation loss: 0.25528228171012946\n",
      "Epoch: 146| Training loss: 0.5319086987289504| Validation loss: 0.2540533247787649\n",
      "Epoch: 147| Training loss: 0.09005366358246589| Validation loss: 0.2528353480461422\n",
      "Epoch: 148| Training loss: 0.21640847881454545| Validation loss: 0.251638801334596\n",
      "Epoch: 149| Training loss: 0.14749728182299668| Validation loss: 0.2504513185602062\n",
      "Epoch: 150| Training loss: 0.9646686003838391| Validation loss: 0.249274942485048\n",
      "Epoch: 151| Training loss: 0.8459778376210175| Validation loss: 0.24811939173669992\n",
      "Epoch: 152| Training loss: 0.3289512046629609| Validation loss: 0.24697182796581005\n",
      "Epoch: 153| Training loss: 0.010146911359652084| Validation loss: 0.2458389491289637\n",
      "Epoch: 154| Training loss: 0.08495971132730216| Validation loss: 0.244718975192335\n",
      "Epoch: 155| Training loss: 0.5977737889322374| Validation loss: 0.24360572221188478\n",
      "Epoch: 156| Training loss: 0.0851881124765378| Validation loss: 0.24251352180512406\n",
      "Epoch: 157| Training loss: 0.8071434173631403| Validation loss: 0.2414341422328391\n",
      "Epoch: 158| Training loss: 0.16374943118546553| Validation loss: 0.24036653931680665\n",
      "Epoch: 159| Training loss: 0.19922472773981986| Validation loss: 0.23930460979725618\n",
      "Epoch: 160| Training loss: 0.2204896358048265| Validation loss: 0.23826151753367814\n",
      "Epoch: 161| Training loss: 0.4573968802025281| Validation loss: 0.23722811498264912\n",
      "Epoch: 162| Training loss: 0.1810635314345012| Validation loss: 0.23620717993755244\n",
      "Epoch: 163| Training loss: 0.5517398742853074| Validation loss: 0.2351936795375895\n",
      "Epoch: 164| Training loss: 0.061671999023491436| Validation loss: 0.234190439908011\n"
     ]
    }
   ],
   "source": [
    "w_count, loss_tr_count, dev_loss_count = SGD(X_tr_count, Y_tr, \n",
    "                                             X_dev=X_dev_count, \n",
    "                                             Y_dev=Y_dev,\n",
    "                                             num_classes=3,\n",
    "                                             lr=0.0001, \n",
    "                                             alpha=0.001, \n",
    "                                             epochs=200)"
   ]
  },
  {
   "cell_type": "markdown",
   "metadata": {},
   "source": [
    "Plot training and validation process and explain if your model overfit, underfit or is about right:"
   ]
  },
  {
   "cell_type": "code",
   "execution_count": 164,
   "metadata": {
    "ExecuteTime": {
     "end_time": "2020-03-20T20:33:50.983087Z",
     "start_time": "2020-03-20T20:33:50.362670Z"
    },
    "run_control": {
     "marked": false
    }
   },
   "outputs": [
    {
     "data": {
      "image/png": "[encoded data removed]",
      "text/plain": [
       "<Figure size 432x288 with 1 Axes>"
      ]
     },
     "metadata": {
      "needs_background": "light"
     },
     "output_type": "display_data"
    }
   ],
   "source": [
    "# fill in your code...\n",
    "%matplotlib inline\n",
    "fig = plt.figure()\n",
    "plt.plot(range(len(loss_tr_count)),loss_tr_count,label='training loss')\n",
    "plt.plot(range(len(dev_loss_count)),dev_loss_count,label='validation loss')\n",
    "\n",
    "plt.xlabel('Epochs')\n",
    "plt.ylabel('Loss')\n",
    "plt.title('Training Monitoring')\n",
    "\n",
    "plt.legend()\n",
    "plt.show()"
   ]
  },
  {
   "cell_type": "markdown",
   "metadata": {},
   "source": [
    "Compute accuracy, precision, recall and F1-scores:"
   ]
  },
  {
   "cell_type": "code",
   "execution_count": 165,
   "metadata": {
    "ExecuteTime": {
     "end_time": "2020-03-20T20:33:51.052842Z",
     "start_time": "2020-03-20T20:33:50.995475Z"
    },
    "run_control": {
     "marked": false
    }
   },
   "outputs": [
    {
     "name": "stdout",
     "output_type": "stream",
     "text": [
      "Accuracy: 0.8366666666666667\n",
      "Precision: 0.840344708396179\n",
      "Recall: 0.8366666666666666\n",
      "F1-Score: 0.8359703962026542\n"
     ]
    }
   ],
   "source": [
    "# fill in your code...\n",
    "preds_te = predict_class(X_te_count,w_count)\n",
    "\n",
    "print('Accuracy:', accuracy_score(Y_te.flatten(),preds_te))\n",
    "print('Precision:', precision_score(Y_te.flatten(),preds_te,average='macro'))\n",
    "print('Recall:', recall_score(Y_te.flatten(),preds_te,average='macro'))\n",
    "print('F1-Score:', f1_score(Y_te.flatten(),preds_te,average='macro'))"
   ]
  },
  {
   "cell_type": "markdown",
   "metadata": {},
   "source": [
    "Print the top-10 words for each class respectively."
   ]
  },
  {
   "cell_type": "code",
   "execution_count": 166,
   "metadata": {
    "ExecuteTime": {
     "end_time": "2020-03-20T20:33:51.101394Z",
     "start_time": "2020-03-20T20:33:51.061508Z"
    },
    "run_control": {
     "marked": false
    }
   },
   "outputs": [
    {
     "name": "stdout",
     "output_type": "stream",
     "text": [
      "['said', 'reuters', 'tuesday', 'ap', 'after', 'monday', 'new', 'wednesday', 'their', 'president']\n",
      "['athens', 'ap', 'reuters', 'olympic', 'tuesday', 'first', 'after', 'team', 'two', 'wednesday']\n",
      "['reuters', 'said', 'new', 'tuesday', 'company', 'oil', 'wednesday', 'prices', 'inc', 'after']\n"
     ]
    }
   ],
   "source": [
    "sorted_index = w_count.copy().argsort()[:,-10:][:,::-1]\n",
    "for class_i in range(len(sorted_index)):\n",
    "    top_neg_ngram = [vocab[i] for i in sorted_index[class_i]]\n",
    "    print(top_neg_ngram)"
   ]
  },
  {
   "cell_type": "markdown",
   "metadata": {},
   "source": [
    "### Discuss how did you choose model hyperparameters (e.g. learning rate and regularisation strength)? What is the relation between training epochs and learning rate? How the regularisation strength affects performance?"
   ]
  },
  {
   "cell_type": "markdown",
   "metadata": {
    "ExecuteTime": {
     "end_time": "2020-02-15T14:16:19.856538Z",
     "start_time": "2020-02-15T14:16:19.852547Z"
    }
   },
   "source": [
    "Explain here..."
   ]
  },
  {
   "cell_type": "code",
   "execution_count": 181,
   "metadata": {
    "ExecuteTime": {
     "end_time": "2020-03-20T21:08:57.504294Z",
     "start_time": "2020-03-20T21:05:59.266102Z"
    }
   },
   "outputs": [
    {
     "name": "stdout",
     "output_type": "stream",
     "text": [
      "lr: 0.000100, alpha: 0.000100 ---> score:0.873333\n",
      "lr: 0.000100, alpha: 0.100000 ---> score:0.860000\n",
      "lr: 0.000100, alpha: 10.000000 ---> score:0.833333\n",
      "lr: 0.000500, alpha: 0.000100 ---> score:0.893333\n",
      "lr: 0.000500, alpha: 0.100000 ---> score:0.873333\n",
      "lr: 0.000500, alpha: 10.000000 ---> score:0.793333\n",
      "lr: 0.001000, alpha: 0.000100 ---> score:0.886667\n",
      "lr: 0.001000, alpha: 0.100000 ---> score:0.880000\n",
      "lr: 0.001000, alpha: 10.000000 ---> score:0.740000\n",
      "=================Best Hyperparameters=================\n",
      "lr: 0.0005,\talpha: 0.0001,\tscore: 0.8933333333333333\n",
      "----------------set dataset evaluation----------------\n",
      "Accuracy: 0.8455555555555555\n",
      "Precision: 0.8503930523024751\n",
      "Recall: 0.8455555555555555\n",
      "F1-Score: 0.8450029165279874\n"
     ]
    }
   ],
   "source": [
    "def get_F1(lr,alpha):\n",
    "    w, trl, devl = SGD(X_tr_count, Y_tr, \n",
    "                         X_dev=X_dev_count, \n",
    "                         Y_dev=Y_dev, \n",
    "                         num_classes=3,\n",
    "                         lr=lr, \n",
    "                         alpha=alpha, \n",
    "                         epochs=200,\n",
    "                         print_progress=False)\n",
    "    preds_dev = predict_class(X_dev_count,w)\n",
    "    return accuracy_score(Y_dev,preds_dev)\n",
    "\n",
    "lrs = [0.0001,0.0005,0.001]\n",
    "alphas = [0.0001,0.1,10]\n",
    "\n",
    "import itertools\n",
    "record = list()\n",
    "for lr,alpha in itertools.product(lrs,alphas):\n",
    "    score = get_F1(lr, alpha)\n",
    "    print(\"lr: %f, alpha: %f ---> score:%f\"%(lr,alpha,score))\n",
    "    record.append([lr,alpha,score])\n",
    "best = sorted(record,key=lambda l:l[-1],reverse=-1)[0]\n",
    "print(\"=================Best Hyperparameters=================\")\n",
    "print(\"lr: {},\\talpha: {},\\tscore: {}\".format(*best))\n",
    "print(\"----------------set dataset evaluation----------------\")\n",
    "lr,alpha=best[:-1]\n",
    "w_count, loss_tr_count, dev_loss_count = SGD(X_tr_count, Y_tr, \n",
    "                                             X_dev=X_dev_count, \n",
    "                                             Y_dev=Y_dev,\n",
    "                                             num_classes=3,\n",
    "                                             lr=lr, \n",
    "                                             alpha=alpha, \n",
    "                                             epochs=200,\n",
    "                                             print_progress=False)\n",
    "\n",
    "preds_te = predict_class(X_te_count,w_count)\n",
    "\n",
    "print('Accuracy:', accuracy_score(Y_te.flatten(),preds_te))\n",
    "print('Precision:', precision_score(Y_te.flatten(),preds_te,average='macro'))\n",
    "print('Recall:', recall_score(Y_te.flatten(),preds_te,average='macro'))\n",
    "print('F1-Score:', f1_score(Y_te.flatten(),preds_te,average='macro'))"
   ]
  },
  {
   "cell_type": "markdown",
   "metadata": {},
   "source": [
    "### Now evaluate BOW-tfidf..."
   ]
  },
  {
   "cell_type": "code",
   "execution_count": 182,
   "metadata": {
    "ExecuteTime": {
     "end_time": "2020-03-20T21:08:57.532497Z",
     "start_time": "2020-03-20T21:08:57.509993Z"
    },
    "run_control": {
     "marked": false
    }
   },
   "outputs": [
    {
     "data": {
      "text/plain": [
       "array([0.58018188, 0.74472749, 0.76426119, ..., 2.77815125, 2.77815125,\n",
       "       2.77815125])"
      ]
     },
     "execution_count": 182,
     "metadata": {},
     "output_type": "execute_result"
    }
   ],
   "source": [
    "idfs = get_idfs(vocab,len(X_tr_raw))\n",
    "idfs"
   ]
  },
  {
   "cell_type": "code",
   "execution_count": 183,
   "metadata": {
    "ExecuteTime": {
     "end_time": "2020-03-20T21:08:57.683368Z",
     "start_time": "2020-03-20T21:08:57.537407Z"
    }
   },
   "outputs": [],
   "source": [
    "X_tr_tfidf = X_tr_count*idfs\n",
    "X_te_tfidf = X_te_count*idfs\n",
    "X_dev_tfidf = X_dev_count*idfs"
   ]
  },
  {
   "cell_type": "code",
   "execution_count": 184,
   "metadata": {
    "ExecuteTime": {
     "end_time": "2020-03-20T21:09:45.804591Z",
     "start_time": "2020-03-20T21:08:57.689765Z"
    },
    "run_control": {
     "marked": false
    }
   },
   "outputs": [
    {
     "name": "stdout",
     "output_type": "stream",
     "text": [
      "Epoch: 0| Training loss: 1.068274| Validation loss: 1.082855\n",
      "Epoch: 1| Training loss: 1.041761| Validation loss: 1.068361\n",
      "Epoch: 2| Training loss: 1.018132| Validation loss: 1.054893\n",
      "Epoch: 3| Training loss: 0.996665| Validation loss: 1.042252\n",
      "Epoch: 4| Training loss: 0.976956| Validation loss: 1.030324\n",
      "Epoch: 5| Training loss: 0.958697| Validation loss: 1.019015\n",
      "Epoch: 6| Training loss: 0.941685| Validation loss: 1.008264\n",
      "Epoch: 7| Training loss: 0.925767| Validation loss: 0.998020\n",
      "Epoch: 8| Training loss: 0.910811| Validation loss: 0.988234\n",
      "Epoch: 9| Training loss: 0.896721| Validation loss: 0.978874\n",
      "Epoch: 10| Training loss: 0.883409| Validation loss: 0.969906\n",
      "Epoch: 11| Training loss: 0.870811| Validation loss: 0.961309\n",
      "Epoch: 12| Training loss: 0.858860| Validation loss: 0.953050\n",
      "Epoch: 13| Training loss: 0.847500| Validation loss: 0.945109\n",
      "Epoch: 14| Training loss: 0.836682| Validation loss: 0.937465\n",
      "Epoch: 15| Training loss: 0.826364| Validation loss: 0.930102\n",
      "Epoch: 16| Training loss: 0.816510| Validation loss: 0.922999\n",
      "Epoch: 17| Training loss: 0.807085| Validation loss: 0.916144\n",
      "Epoch: 18| Training loss: 0.798058| Validation loss: 0.909521\n",
      "Epoch: 19| Training loss: 0.789401| Validation loss: 0.903118\n",
      "Epoch: 20| Training loss: 0.781089| Validation loss: 0.896922\n",
      "Epoch: 21| Training loss: 0.773098| Validation loss: 0.890923\n",
      "Epoch: 22| Training loss: 0.765411| Validation loss: 0.885111\n",
      "Epoch: 23| Training loss: 0.758007| Validation loss: 0.879476\n",
      "Epoch: 24| Training loss: 0.750868| Validation loss: 0.874009\n",
      "Epoch: 25| Training loss: 0.743980| Validation loss: 0.868703\n",
      "Epoch: 26| Training loss: 0.737325| Validation loss: 0.863546\n",
      "Epoch: 27| Training loss: 0.730894| Validation loss: 0.858535\n",
      "Epoch: 28| Training loss: 0.724673| Validation loss: 0.853662\n",
      "Epoch: 29| Training loss: 0.718649| Validation loss: 0.848921\n",
      "Epoch: 30| Training loss: 0.712811| Validation loss: 0.844304\n",
      "Epoch: 31| Training loss: 0.707151| Validation loss: 0.839808\n",
      "Epoch: 32| Training loss: 0.701658| Validation loss: 0.835426\n",
      "Epoch: 33| Training loss: 0.696326| Validation loss: 0.831155\n",
      "Epoch: 34| Training loss: 0.691147| Validation loss: 0.826989\n",
      "Epoch: 35| Training loss: 0.686112| Validation loss: 0.822924\n",
      "Epoch: 36| Training loss: 0.681214| Validation loss: 0.818955\n",
      "Epoch: 37| Training loss: 0.676449| Validation loss: 0.815081\n",
      "Epoch: 38| Training loss: 0.671809| Validation loss: 0.811295\n",
      "Epoch: 39| Training loss: 0.667288| Validation loss: 0.807596\n",
      "Epoch: 40| Training loss: 0.662883| Validation loss: 0.803979\n",
      "Epoch: 41| Training loss: 0.658587| Validation loss: 0.800441\n",
      "Epoch: 42| Training loss: 0.654394| Validation loss: 0.796979\n",
      "Epoch: 43| Training loss: 0.650303| Validation loss: 0.793591\n",
      "Epoch: 44| Training loss: 0.646310| Validation loss: 0.790276\n",
      "Epoch: 45| Training loss: 0.642407| Validation loss: 0.787027\n",
      "Epoch: 46| Training loss: 0.638593| Validation loss: 0.783845\n",
      "Epoch: 47| Training loss: 0.634865| Validation loss: 0.780726\n",
      "Epoch: 48| Training loss: 0.631219| Validation loss: 0.777669\n",
      "Epoch: 49| Training loss: 0.627652| Validation loss: 0.774672\n",
      "Epoch: 50| Training loss: 0.624162| Validation loss: 0.771733\n",
      "Epoch: 51| Training loss: 0.620746| Validation loss: 0.768850\n",
      "Epoch: 52| Training loss: 0.617398| Validation loss: 0.766020\n",
      "Epoch: 53| Training loss: 0.614120| Validation loss: 0.763243\n",
      "Epoch: 54| Training loss: 0.610908| Validation loss: 0.760516\n",
      "Epoch: 55| Training loss: 0.607758| Validation loss: 0.757839\n",
      "Epoch: 56| Training loss: 0.604671| Validation loss: 0.755209\n",
      "Epoch: 57| Training loss: 0.601642| Validation loss: 0.752625\n",
      "Epoch: 58| Training loss: 0.598670| Validation loss: 0.750085\n",
      "Epoch: 59| Training loss: 0.595755| Validation loss: 0.747590\n",
      "Epoch: 60| Training loss: 0.592893| Validation loss: 0.745137\n",
      "Epoch: 61| Training loss: 0.590083| Validation loss: 0.742724\n",
      "Epoch: 62| Training loss: 0.587323| Validation loss: 0.740352\n",
      "Epoch: 63| Training loss: 0.584611| Validation loss: 0.738017\n",
      "Epoch: 64| Training loss: 0.581947| Validation loss: 0.735721\n",
      "Epoch: 65| Training loss: 0.579330| Validation loss: 0.733461\n",
      "Epoch: 66| Training loss: 0.576756| Validation loss: 0.731237\n",
      "Epoch: 67| Training loss: 0.574226| Validation loss: 0.729047\n",
      "Epoch: 68| Training loss: 0.571739| Validation loss: 0.726891\n",
      "Epoch: 69| Training loss: 0.569292| Validation loss: 0.724767\n",
      "Epoch: 70| Training loss: 0.566884| Validation loss: 0.722676\n",
      "Epoch: 71| Training loss: 0.564515| Validation loss: 0.720615\n",
      "Epoch: 72| Training loss: 0.562184| Validation loss: 0.718586\n",
      "Epoch: 73| Training loss: 0.559889| Validation loss: 0.716586\n",
      "Epoch: 74| Training loss: 0.557629| Validation loss: 0.714616\n",
      "Epoch: 75| Training loss: 0.555404| Validation loss: 0.712672\n",
      "Epoch: 76| Training loss: 0.553211| Validation loss: 0.710756\n",
      "Epoch: 77| Training loss: 0.551052| Validation loss: 0.708866\n",
      "Epoch: 78| Training loss: 0.548924| Validation loss: 0.707003\n",
      "Epoch: 79| Training loss: 0.546828| Validation loss: 0.705166\n",
      "Epoch: 80| Training loss: 0.544761| Validation loss: 0.703354\n",
      "Epoch: 81| Training loss: 0.542725| Validation loss: 0.701565\n",
      "Epoch: 82| Training loss: 0.540717| Validation loss: 0.699800\n",
      "Epoch: 83| Training loss: 0.538737| Validation loss: 0.698059\n",
      "Epoch: 84| Training loss: 0.536784| Validation loss: 0.696341\n",
      "Epoch: 85| Training loss: 0.534859| Validation loss: 0.694645\n",
      "Epoch: 86| Training loss: 0.532959| Validation loss: 0.692970\n",
      "Epoch: 87| Training loss: 0.531085| Validation loss: 0.691317\n",
      "Epoch: 88| Training loss: 0.529236| Validation loss: 0.689684\n",
      "Epoch: 89| Training loss: 0.527411| Validation loss: 0.688072\n",
      "Epoch: 90| Training loss: 0.525611| Validation loss: 0.686480\n",
      "Epoch: 91| Training loss: 0.523833| Validation loss: 0.684906\n",
      "Epoch: 92| Training loss: 0.522078| Validation loss: 0.683353\n",
      "Epoch: 93| Training loss: 0.520345| Validation loss: 0.681819\n",
      "Epoch: 94| Training loss: 0.518634| Validation loss: 0.680302\n",
      "Epoch: 95| Training loss: 0.516944| Validation loss: 0.678803\n",
      "Epoch: 96| Training loss: 0.515275| Validation loss: 0.677321\n",
      "Epoch: 97| Training loss: 0.513626| Validation loss: 0.675857\n",
      "Epoch: 98| Training loss: 0.511998| Validation loss: 0.674410\n",
      "Epoch: 99| Training loss: 0.510388| Validation loss: 0.672979\n",
      "Epoch: 100| Training loss: 0.508798| Validation loss: 0.671564\n",
      "Epoch: 101| Training loss: 0.507227| Validation loss: 0.670165\n",
      "Epoch: 102| Training loss: 0.505674| Validation loss: 0.668783\n",
      "Epoch: 103| Training loss: 0.504139| Validation loss: 0.667416\n",
      "Epoch: 104| Training loss: 0.502622| Validation loss: 0.666063\n",
      "Epoch: 105| Training loss: 0.501121| Validation loss: 0.664725\n",
      "Epoch: 106| Training loss: 0.499638| Validation loss: 0.663401\n",
      "Epoch: 107| Training loss: 0.498171| Validation loss: 0.662092\n",
      "Epoch: 108| Training loss: 0.496721| Validation loss: 0.660797\n",
      "Epoch: 109| Training loss: 0.495286| Validation loss: 0.659516\n",
      "Epoch: 110| Training loss: 0.493867| Validation loss: 0.658247\n",
      "Epoch: 111| Training loss: 0.492464| Validation loss: 0.656992\n",
      "Epoch: 112| Training loss: 0.491075| Validation loss: 0.655750\n",
      "Epoch: 113| Training loss: 0.489702| Validation loss: 0.654521\n",
      "Epoch: 114| Training loss: 0.488343| Validation loss: 0.653305\n",
      "Epoch: 115| Training loss: 0.486998| Validation loss: 0.652101\n",
      "Epoch: 116| Training loss: 0.485667| Validation loss: 0.650909\n",
      "Epoch: 117| Training loss: 0.484349| Validation loss: 0.649729\n",
      "Epoch: 118| Training loss: 0.483045| Validation loss: 0.648560\n",
      "Epoch: 119| Training loss: 0.481754| Validation loss: 0.647403\n",
      "Epoch: 120| Training loss: 0.480477| Validation loss: 0.646256\n",
      "Epoch: 121| Training loss: 0.479212| Validation loss: 0.645121\n",
      "Epoch: 122| Training loss: 0.477961| Validation loss: 0.643998\n",
      "Epoch: 123| Training loss: 0.476721| Validation loss: 0.642885\n",
      "Epoch: 124| Training loss: 0.475494| Validation loss: 0.641783\n",
      "Epoch: 125| Training loss: 0.474278| Validation loss: 0.640690\n",
      "Epoch: 126| Training loss: 0.473074| Validation loss: 0.639608\n",
      "Epoch: 127| Training loss: 0.471882| Validation loss: 0.638536\n",
      "Epoch: 128| Training loss: 0.470701| Validation loss: 0.637475\n",
      "Epoch: 129| Training loss: 0.469532| Validation loss: 0.636423\n",
      "Epoch: 130| Training loss: 0.468373| Validation loss: 0.635380\n",
      "Epoch: 131| Training loss: 0.467225| Validation loss: 0.634347\n"
     ]
    },
    {
     "name": "stdout",
     "output_type": "stream",
     "text": [
      "Epoch: 132| Training loss: 0.466088| Validation loss: 0.633323\n",
      "Epoch: 133| Training loss: 0.464960| Validation loss: 0.632309\n",
      "Epoch: 134| Training loss: 0.463843| Validation loss: 0.631303\n",
      "Epoch: 135| Training loss: 0.462737| Validation loss: 0.630307\n"
     ]
    }
   ],
   "source": [
    "w_count, loss_tr_count, dev_loss_count = SGD(X_tr_tfidf, Y_tr, \n",
    "                                             X_dev=X_dev_tfidf, \n",
    "                                             Y_dev=Y_dev,\n",
    "                                             num_classes=3,\n",
    "                                             lr=0.0001, \n",
    "                                             alpha=0.001, \n",
    "                                             epochs=200)"
   ]
  },
  {
   "cell_type": "code",
   "execution_count": 185,
   "metadata": {
    "ExecuteTime": {
     "end_time": "2020-03-20T21:09:45.859542Z",
     "start_time": "2020-03-20T21:09:45.809786Z"
    },
    "run_control": {
     "marked": false
    },
    "scrolled": true
   },
   "outputs": [
    {
     "name": "stdout",
     "output_type": "stream",
     "text": [
      "Accuracy: 0.8777777777777778\n",
      "Precision: 0.8806469941082025\n",
      "Recall: 0.8777777777777779\n",
      "F1-Score: 0.877232813452245\n"
     ]
    }
   ],
   "source": [
    "# fill in your code...\n",
    "preds_te = predict_class(X_te_tfidf,w_count).reshape(-1,1)\n",
    "\n",
    "print('Accuracy:', accuracy_score(Y_te,preds_te))\n",
    "print('Precision:', precision_score(Y_te,preds_te,average='macro'))\n",
    "print('Recall:', recall_score(Y_te,preds_te,average='macro'))\n",
    "print('F1-Score:', f1_score(Y_te,preds_te,average='macro'))"
   ]
  },
  {
   "cell_type": "code",
   "execution_count": 186,
   "metadata": {
    "ExecuteTime": {
     "end_time": "2020-03-20T21:09:45.899405Z",
     "start_time": "2020-03-20T21:09:45.870382Z"
    },
    "run_control": {
     "marked": false
    }
   },
   "outputs": [
    {
     "name": "stdout",
     "output_type": "stream",
     "text": [
      "['said', 'tuesday', 'afp', 'ap', 'monday', 'president', 'their', 'after', 'new', 'reuters']\n",
      "['athens', 'ap', 'olympic', 'team', 'first', 'games', 'quot', 'olympics', 'two', 'night']\n",
      "['company', 'oil', 'new', 'said', 'prices', 'reuters', 'inc', 'us', 'tuesday', 'more']\n"
     ]
    }
   ],
   "source": [
    "sorted_index = w_count.copy().argsort()[:,-10:][:,::-1]\n",
    "for class_i in range(len(sorted_index)):\n",
    "    top_neg_ngram = [vocab[i] for i in sorted_index[class_i]]\n",
    "    print(top_neg_ngram)"
   ]
  },
  {
   "cell_type": "code",
   "execution_count": 191,
   "metadata": {
    "ExecuteTime": {
     "end_time": "2020-03-20T22:05:35.106867Z",
     "start_time": "2020-03-20T22:02:01.519533Z"
    }
   },
   "outputs": [
    {
     "name": "stdout",
     "output_type": "stream",
     "text": [
      "lr: 0.000100, alpha: 0.000100 ---> score:0.933333\n",
      "lr: 0.000100, alpha: 0.010000 ---> score:0.940000\n",
      "lr: 0.000100, alpha: 0.100000 ---> score:0.940000\n",
      "lr: 0.001000, alpha: 0.000100 ---> score:0.926667\n",
      "lr: 0.001000, alpha: 0.010000 ---> score:0.926667\n",
      "lr: 0.001000, alpha: 0.100000 ---> score:0.940000\n",
      "lr: 0.010000, alpha: 0.000100 ---> score:0.933333\n",
      "lr: 0.010000, alpha: 0.010000 ---> score:0.926667\n",
      "lr: 0.010000, alpha: 0.100000 ---> score:0.920000\n",
      "=================Best Hyperparameters=================\n",
      "lr: 0.0001,\talpha: 0.01,\tscore: 0.94\n",
      "----------------set dataset evaluation----------------\n",
      "Accuracy: 0.8788888888888889\n",
      "Precision: 0.8815954652603436\n",
      "Recall: 0.8788888888888889\n",
      "F1-Score: 0.8783657573979232\n"
     ]
    }
   ],
   "source": [
    "def get_F1(lr,alpha):\n",
    "    w, trl, devl = SGD(X_tr_tfidf, Y_tr, \n",
    "                         X_dev=X_dev_tfidf, \n",
    "                         Y_dev=Y_dev, \n",
    "                         num_classes=3,\n",
    "                         lr=lr, \n",
    "                         alpha=alpha, \n",
    "                         epochs=200,\n",
    "                         print_progress=False)\n",
    "    preds_dev = predict_class(X_dev_tfidf,w)\n",
    "    return accuracy_score(Y_dev,preds_dev)\n",
    "\n",
    "lrs = [0.0001,0.001,0.01]\n",
    "alphas = [0.0001,0.01,0.1]\n",
    "\n",
    "import itertools\n",
    "record = list()\n",
    "for lr,alpha in itertools.product(lrs,alphas):\n",
    "    score = get_F1(lr, alpha)\n",
    "    print(\"lr: %f, alpha: %f ---> score:%f\"%(lr,alpha,score))\n",
    "    record.append([lr,alpha,score])\n",
    "best = sorted(record,key=lambda l:l[-1],reverse=-1)[0]\n",
    "print(\"=================Best Hyperparameters=================\")\n",
    "print(\"lr: {},\\talpha: {},\\tscore: {}\".format(*best))\n",
    "print(\"----------------set dataset evaluation----------------\")\n",
    "lr,alpha=best[:-1]\n",
    "w_count, loss_tr_count, dev_loss_count = SGD(X_tr_tfidf, Y_tr, \n",
    "                                             X_dev=X_dev_tfidf, \n",
    "                                             Y_dev=Y_dev,\n",
    "                                             num_classes=3,\n",
    "                                             lr=lr, \n",
    "                                             alpha=alpha, \n",
    "                                             epochs=200,\n",
    "                                             print_progress=False)\n",
    "\n",
    "preds_te = predict_class(X_te_tfidf,w_count)\n",
    "\n",
    "print('Accuracy:', accuracy_score(Y_te.flatten(),preds_te))\n",
    "print('Precision:', precision_score(Y_te.flatten(),preds_te,average='macro'))\n",
    "print('Recall:', recall_score(Y_te.flatten(),preds_te,average='macro'))\n",
    "print('F1-Score:', f1_score(Y_te.flatten(),preds_te,average='macro'))"
   ]
  },
  {
   "cell_type": "markdown",
   "metadata": {
    "ExecuteTime": {
     "end_time": "2020-02-15T14:16:42.567569Z",
     "start_time": "2020-02-15T14:16:42.562560Z"
    }
   },
   "source": [
    "## Full Results\n",
    "\n",
    "Add here your results:\n",
    "\n",
    "| LR | Precision  | Recall  | F1-Score  |\n",
    "|:-:|:-:|:-:|:-:|\n",
    "| BOW-count  |0.840   |0.837   |0.837   |\n",
    "| BOW-tfidf  |0.880   |0.877   |0.877   |\n"
   ]
  }
 ],
 "metadata": {
  "kernelspec": {
   "display_name": "Python 3",
   "language": "python",
   "name": "python3"
  },
  "language_info": {
   "codemirror_mode": {
    "name": "ipython",
    "version": 3
   },
   "file_extension": ".py",
   "mimetype": "text/x-python",
   "name": "python",
   "nbconvert_exporter": "python",
   "pygments_lexer": "ipython3",
   "version": "3.7.3"
  },
  "latex_envs": {
   "LaTeX_envs_menu_present": true,
   "autoclose": false,
   "autocomplete": true,
   "bibliofile": "biblio.bib",
   "cite_by": "apalike",
   "current_citInitial": 1,
   "eqLabelWithNumbers": true,
   "eqNumInitial": 1,
   "hotkeys": {
    "equation": "Ctrl-E",
    "itemize": "Ctrl-I"
   },
   "labels_anchors": false,
   "latex_user_defs": false,
   "report_style_numbering": false,
   "user_envs_cfg": false
  },
  "nbTranslate": {
   "displayLangs": [
    "en"
   ],
   "hotkey": "alt-t",
   "langInMainMenu": true,
   "sourceLang": "en",
   "targetLang": "zh-cn",
   "useGoogleTranslate": true
  },
  "toc": {
   "base_numbering": 1,
   "nav_menu": {},
   "number_sections": false,
   "sideBar": true,
   "skip_h1_title": false,
   "title_cell": "Table of Contents",
   "title_sidebar": "Contents",
   "toc_cell": false,
   "toc_position": {
    "height": "calc(100% - 180px)",
    "left": "10px",
    "top": "150px",
    "width": "179px"
   },
   "toc_section_display": true,
   "toc_window_display": true
  },
  "varInspector": {
   "cols": {
    "lenName": 16,
    "lenType": 16,
    "lenVar": 40
   },
   "kernels_config": {
    "python": {
     "delete_cmd_postfix": "",
     "delete_cmd_prefix": "del ",
     "library": "var_list.py",
     "varRefreshCmd": "print(var_dic_list())"
    },
    "r": {
     "delete_cmd_postfix": ") ",
     "delete_cmd_prefix": "rm(",
     "library": "var_list.r",
     "varRefreshCmd": "cat(var_dic_list()) "
    }
   },
   "types_to_exclude": [
    "module",
    "function",
    "builtin_function_or_method",
    "instance",
    "_Feature"
   ],
   "window_display": false
  }
 },
 "nbformat": 4,
 "nbformat_minor": 2
}
