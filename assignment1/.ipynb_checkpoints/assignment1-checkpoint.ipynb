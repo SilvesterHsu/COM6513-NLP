{
 "cells": [
  {
   "cell_type": "markdown",
   "metadata": {},
   "source": [
    "# [COM4513-6513] Assignment 1: Text Classification with Logistic Regression\n",
    "\n",
    "### Instructor: Nikos Aletras\n",
    "\n",
    "\n",
    "The goal of this assignment is to develop and test two text classification systems: \n",
    "\n",
    "- **Task 1:** sentiment analysis, in particular to predict the sentiment of movie review, i.e. positive or negative (binary classification).\n",
    "- **Task 2:** topic classification, to predict whether a news article is about International issues, Sports or Business (multiclass classification).\n",
    "\n",
    "\n",
    "For that purpose, you will implement:\n",
    "\n",
    "- Text processing methods for extracting Bag-Of-Word features, using (1) unigrams, bigrams and trigrams to obtain vector representations of documents. Two vector weighting schemes should be tested: (1) raw frequencies (**3 marks; 1 for each ngram type**); (2) tf.idf (**1 marks**). \n",
    "- Binary Logistic Regression classifiers that will be able to accurately classify movie reviews trained with (1) BOW-count (raw frequencies); and (2) BOW-tfidf (tf.idf weighted) for Task 1. \n",
    "- Multiclass Logistic Regression classifiers that will be able to accurately classify news articles trained with (1) BOW-count (raw frequencies); and (2) BOW-tfidf (tf.idf weighted) for Task 2. \n",
    "- The Stochastic Gradient Descent (SGD) algorithm to estimate the parameters of your Logistic Regression models. Your SGD algorithm should:\n",
    "    - Minimise the Binary Cross-entropy loss function for Task 1 (**3 marks**)\n",
    "    - Minimise the Categorical Cross-entropy loss function for Task 2 (**3 marks**)\n",
    "    - Use L2 regularisation (both tasks) (**1 mark**)\n",
    "    - Perform multiple passes (epochs) over the training data (**1 mark**)\n",
    "    - Randomise the order of training data after each pass (**1 mark**)\n",
    "    - Stop training if the difference between the current and previous validation loss is smaller than a threshold (**1 mark**)\n",
    "    - After each epoch print the training and development loss (**1 mark**)\n",
    "- Discuss how did you choose hyperparameters (e.g. learning rate and regularisation strength)?  (**2 marks; 0.5 for each model in each task**).\n",
    "- After training the LR models, plot the learning process (i.e. training and validation loss in each epoch) using a line plot (**1 mark; 0.5 for both BOW-count and BOW-tfidf LR models in each task**) and discuss if your model overfits/underfits/is about right.\n",
    "- Model interpretability by showing the most important features for each class (i.e. most positive/negative weights). Give the top 10 for each class and comment on whether they make sense (if they don't you might have a bug!).  If we were to apply the classifier we've learned into a different domain such laptop reviews or restaurant reviews, do you think these features would generalise well? Can you propose what features the classifier could pick up as important in the new domain? (**2 marks; 0.5 for BOW-count and BOW-tfidf LR models respectively in each task**)\n",
    "\n",
    "\n",
    "### Data - Task 1 \n",
    "\n",
    "The data you will use for Task 1 are taken from here: [http://www.cs.cornell.edu/people/pabo/movie-review-data/](http://www.cs.cornell.edu/people/pabo/movie-review-data/) and you can find it in the `./data_sentiment` folder in CSV format:\n",
    "\n",
    "- `data_sentiment/train.csv`: contains 1,400 reviews, 700 positive (label: 1) and 700 negative (label: 0) to be used for training.\n",
    "- `data_sentiment/dev.csv`: contains 200 reviews, 100 positive and 100 negative to be used for hyperparameter selection and monitoring the training process.\n",
    "- `data_sentiment/test.csv`: contains 400 reviews, 200 positive and 200 negative to be used for testing.\n",
    "\n",
    "### Data - Task 2\n",
    "\n",
    "The data you will use for Task 2 is a subset of the [AG News Corpus](http://groups.di.unipi.it/~gulli/AG_corpus_of_news_articles.html) and you can find it in the `./data_topic` folder in CSV format:\n",
    "\n",
    "- `data_topic/train.csv`: contains 2,400 news articles, 800 for each class to be used for training.\n",
    "- `data_topic/dev.csv`: contains 150 news articles, 50 for each class to be used for hyperparameter selection and monitoring the training process.\n",
    "- `data_topic/test.csv`: contains 900 news articles, 300 for each class to be used for testing.\n",
    "\n",
    "\n",
    "### Submission Instructions\n",
    "\n",
    "You should submit a Jupyter Notebook file (assignment1.ipynb) and an exported PDF version (you can do it from Jupyter: `File->Download as->PDF via Latex`).\n",
    "\n",
    "You are advised to follow the code structure given in this notebook by completing all given funtions. You can also write any auxilliary/helper functions (and arguments for the functions) that you might need but note that you can provide a full solution without any such functions. Similarly, you can just use only the packages imported below but you are free to use any functionality from the [Python Standard Library](https://docs.python.org/2/library/index.html), NumPy, SciPy and Pandas. You are not allowed to use any third-party library such as Scikit-learn (apart from metric functions already provided), NLTK, Spacy, Keras etc..\n",
    "\n",
    "Please make sure to comment your code. You should also mention if you've used Windows (not recommended) to write and test your code. There is no single correct answer on what your accuracy should be, but correct implementations usually achieve F1-scores around 80\\% or higher. The quality of the analysis of the results is as important as the accuracy itself. \n",
    "\n",
    "This assignment will be marked out of 20. It is worth 20\\% of your final grade in the module.\n",
    "\n",
    "The deadline for this assignment is **23:59 on Fri, 20 Mar 2020** and it needs to be submitted via MOLE. Standard departmental penalties for lateness will be applied. We use a range of strategies to detect [unfair means](https://www.sheffield.ac.uk/ssid/unfair-means/index), including Turnitin which helps detect plagiarism, so make sure you do not plagiarise.\n",
    "\n"
   ]
  },
  {
   "cell_type": "code",
   "execution_count": 1,
   "metadata": {
    "ExecuteTime": {
     "end_time": "2020-04-19T09:53:00.693914Z",
     "start_time": "2020-04-19T09:53:00.144627Z"
    }
   },
   "outputs": [],
   "source": [
    "import pandas as pd\n",
    "import numpy as np\n",
    "from collections import Counter\n",
    "import re\n",
    "import matplotlib.pyplot as plt\n",
    "from sklearn.metrics import accuracy_score, precision_score, recall_score, f1_score\n",
    "import random\n",
    "\n",
    "# fixing random seed for reproducibility\n",
    "random.seed(123)\n",
    "np.random.seed(123)\n"
   ]
  },
  {
   "cell_type": "markdown",
   "metadata": {},
   "source": [
    "## Load Raw texts and labels into arrays\n",
    "\n",
    "First, you need to load the training, development and test sets from their corresponding CSV files (tip: you can use Pandas dataframes)."
   ]
  },
  {
   "cell_type": "code",
   "execution_count": 2,
   "metadata": {
    "ExecuteTime": {
     "end_time": "2020-04-19T09:53:00.745758Z",
     "start_time": "2020-04-19T09:53:00.695398Z"
    }
   },
   "outputs": [],
   "source": [
    "# Load dataset\n",
    "data_tr = pd.read_csv(\"./data_sentiment/train.csv\", header=None, names=[\"text\",\"label\"])\n",
    "data_te = pd.read_csv(\"./data_sentiment/test.csv\", header=None, names=[\"text\",\"label\"])\n",
    "data_dev = pd.read_csv(\"./data_sentiment/dev.csv\", header=None, names=[\"text\",\"label\"])"
   ]
  },
  {
   "cell_type": "markdown",
   "metadata": {},
   "source": [
    "If you use Pandas you can see a sample of the data."
   ]
  },
  {
   "cell_type": "code",
   "execution_count": 3,
   "metadata": {
    "ExecuteTime": {
     "end_time": "2020-04-19T09:53:00.754764Z",
     "start_time": "2020-04-19T09:53:00.747479Z"
    }
   },
   "outputs": [
    {
     "data": {
      "text/html": [
       "<div>\n",
       "<style scoped>\n",
       "    .dataframe tbody tr th:only-of-type {\n",
       "        vertical-align: middle;\n",
       "    }\n",
       "\n",
       "    .dataframe tbody tr th {\n",
       "        vertical-align: top;\n",
       "    }\n",
       "\n",
       "    .dataframe thead th {\n",
       "        text-align: right;\n",
       "    }\n",
       "</style>\n",
       "<table border=\"1\" class=\"dataframe\">\n",
       "  <thead>\n",
       "    <tr style=\"text-align: right;\">\n",
       "      <th></th>\n",
       "      <th>text</th>\n",
       "      <th>label</th>\n",
       "    </tr>\n",
       "  </thead>\n",
       "  <tbody>\n",
       "    <tr>\n",
       "      <th>0</th>\n",
       "      <td>note : some may consider portions of the follo...</td>\n",
       "      <td>1</td>\n",
       "    </tr>\n",
       "    <tr>\n",
       "      <th>1</th>\n",
       "      <td>note : some may consider portions of the follo...</td>\n",
       "      <td>1</td>\n",
       "    </tr>\n",
       "    <tr>\n",
       "      <th>2</th>\n",
       "      <td>every once in a while you see a film that is s...</td>\n",
       "      <td>1</td>\n",
       "    </tr>\n",
       "    <tr>\n",
       "      <th>3</th>\n",
       "      <td>when i was growing up in 1970s , boys in my sc...</td>\n",
       "      <td>1</td>\n",
       "    </tr>\n",
       "    <tr>\n",
       "      <th>4</th>\n",
       "      <td>the muppet movie is the first , and the best m...</td>\n",
       "      <td>1</td>\n",
       "    </tr>\n",
       "  </tbody>\n",
       "</table>\n",
       "</div>"
      ],
      "text/plain": [
       "                                                text  label\n",
       "0  note : some may consider portions of the follo...      1\n",
       "1  note : some may consider portions of the follo...      1\n",
       "2  every once in a while you see a film that is s...      1\n",
       "3  when i was growing up in 1970s , boys in my sc...      1\n",
       "4  the muppet movie is the first , and the best m...      1"
      ]
     },
     "execution_count": 3,
     "metadata": {},
     "output_type": "execute_result"
    }
   ],
   "source": [
    "data_tr.head()"
   ]
  },
  {
   "cell_type": "markdown",
   "metadata": {},
   "source": [
    "The next step is to put the raw texts into Python lists and their corresponding labels into NumPy arrays:\n"
   ]
  },
  {
   "cell_type": "code",
   "execution_count": 4,
   "metadata": {
    "ExecuteTime": {
     "end_time": "2020-04-19T09:53:00.761133Z",
     "start_time": "2020-04-19T09:53:00.756108Z"
    }
   },
   "outputs": [],
   "source": [
    "# transform test to list, and label to numpy arrays\n",
    "def transform(df):\n",
    "    return list(df['text']), df['label'].to_numpy().reshape(-1,1)\n",
    "\n",
    "X_tr_raw, Y_tr = transform(data_tr)\n",
    "X_te_raw, Y_te = transform(data_te)\n",
    "X_dev_raw, Y_dev = transform(data_dev)"
   ]
  },
  {
   "cell_type": "markdown",
   "metadata": {},
   "source": [
    "# Bag-of-Words Representation \n",
    "\n",
    "\n",
    "To train and test Logisitc Regression models, you first need to obtain vector representations for all documents given a vocabulary of features (unigrams, bigrams, trigrams).\n",
    "\n",
    "\n",
    "## Text Pre-Processing Pipeline\n",
    "\n",
    "To obtain a vocabulary of features, you should: \n",
    "- tokenise all texts into a list of unigrams (tip: using a regular expression) \n",
    "- remove stop words (using the one provided or one of your preference) \n",
    "- compute bigrams, trigrams given the remaining unigrams\n",
    "- remove ngrams appearing in less than K documents\n",
    "- use the remaining to create a vocabulary of unigrams, bigrams and trigrams (you can keep top N if you encounter memory issues).\n"
   ]
  },
  {
   "cell_type": "code",
   "execution_count": 5,
   "metadata": {
    "ExecuteTime": {
     "end_time": "2020-04-19T09:53:00.767429Z",
     "start_time": "2020-04-19T09:53:00.762173Z"
    }
   },
   "outputs": [],
   "source": [
    "stop_words = ['a','in','on','at','and','or', \n",
    "              'to', 'the', 'of', 'an', 'by', \n",
    "              'as', 'is', 'was', 'were', 'been', 'be', \n",
    "              'are','for', 'this', 'that', 'these', 'those', 'you', 'i',\n",
    "             'it', 'he', 'she', 'we', 'they', 'will', 'have', 'has',\n",
    "              'do', 'did', 'can', 'could', 'who', 'which', 'what', \n",
    "             'his', 'her', 'they', 'them', 'from', 'with', 'its']"
   ]
  },
  {
   "cell_type": "markdown",
   "metadata": {},
   "source": [
    "### N-gram extraction from a document\n",
    "\n",
    "You first need to implement the `extract_ngrams` function. It takes as input:\n",
    "- `x_raw`: a string corresponding to the raw text of a document\n",
    "- `ngram_range`: a tuple of two integers denoting the type of ngrams you want to extract, e.g. (1,2) denotes extracting unigrams and bigrams.\n",
    "- `token_pattern`: a string to be used within a regular expression to extract all tokens. Note that data is already tokenised so you could opt for a simple white space tokenisation.\n",
    "- `stop_words`: a list of stop words\n",
    "- `vocab`: a given vocabulary. It should be used to extract specific features.\n",
    "\n",
    "and returns:\n",
    "\n",
    "- a list of all extracted features.\n",
    "\n",
    "See the examples below to see how this function should work."
   ]
  },
  {
   "cell_type": "code",
   "execution_count": 6,
   "metadata": {
    "ExecuteTime": {
     "end_time": "2020-04-19T09:53:00.786580Z",
     "start_time": "2020-04-19T09:53:00.770988Z"
    }
   },
   "outputs": [],
   "source": [
    "def extract_ngrams(x_raw, ngram_range=(1,3), token_pattern=r'\\b[A-Za-z][A-Za-z]+\\b', stop_words=[], vocab=set()):\n",
    "    \n",
    "    \"\"\"N-gram extraction from a document.\n",
    "\n",
    "    Args:\n",
    "        x_raw: a string corresponding to the raw text of a document\n",
    "        ngram_range: a tuple of two integers denoting the type of ngrams you want\n",
    "            to extract, e.g. (1,2) denotes extracting unigrams and bigrams.\n",
    "        token_pattern: a string to be used within a regular expression to extract\n",
    "            all tokens. Note that data is already tokenised so you could opt for\n",
    "            a simple white space tokenisation.\n",
    "        stop_words: a list of stop words\n",
    "        vocab: a given vocabulary. It should be used to extract specific features.\n",
    "\n",
    "    Returns:\n",
    "        A list of terms to the corresponding N-gram. Each part fits one N-gram,\n",
    "        except 1-gramrow. For example:\n",
    "\n",
    "        ['great','movie','watch',\n",
    "        ('great', 'movie'),('movie', 'watch'),\n",
    "        ('great', 'movie', 'watch')]\n",
    "\n",
    "    \"\"\"\n",
    "    \n",
    "    def finder(s,n):\n",
    "        if n <= 0 or n > len(s):\n",
    "            raise Exception('n is out of range')\n",
    "        if n == 1:\n",
    "            return s\n",
    "        else:\n",
    "            return map(lambda i: tuple(s[i:i+n]),range(len(s)-n+1))\n",
    "\n",
    "    # Find all words by condition\n",
    "    pattern = re.compile(token_pattern)\n",
    "    term_eligible = [term.lower() for term in pattern.findall(x_raw) if term.lower() not in stop_words]\n",
    "\n",
    "    # Find combinations of different N-grams\n",
    "    x = [term for n in range(ngram_range[0],ngram_range[1]+1) for term in finder(term_eligible,n)]\n",
    "    \n",
    "    if not vocab:    \n",
    "        return x\n",
    "    else:\n",
    "        return [term for term in x if term in vocab]"
   ]
  },
  {
   "cell_type": "code",
   "execution_count": 7,
   "metadata": {
    "ExecuteTime": {
     "end_time": "2020-04-19T09:53:00.796681Z",
     "start_time": "2020-04-19T09:53:00.788221Z"
    }
   },
   "outputs": [
    {
     "data": {
      "text/plain": [
       "['great',\n",
       " 'movie',\n",
       " 'watch',\n",
       " ('great', 'movie'),\n",
       " ('movie', 'watch'),\n",
       " ('great', 'movie', 'watch')]"
      ]
     },
     "execution_count": 7,
     "metadata": {},
     "output_type": "execute_result"
    }
   ],
   "source": [
    "extract_ngrams(\"this is a great movie to watch\", \n",
    "               ngram_range=(1,3), \n",
    "               stop_words=stop_words)"
   ]
  },
  {
   "cell_type": "code",
   "execution_count": 8,
   "metadata": {
    "ExecuteTime": {
     "end_time": "2020-04-19T09:53:00.803360Z",
     "start_time": "2020-04-19T09:53:00.797879Z"
    }
   },
   "outputs": [
    {
     "data": {
      "text/plain": [
       "['great', ('great', 'movie')]"
      ]
     },
     "execution_count": 8,
     "metadata": {},
     "output_type": "execute_result"
    }
   ],
   "source": [
    "extract_ngrams(\"this is a great movie to watch\", \n",
    "               ngram_range=(1,2), \n",
    "               stop_words=stop_words, \n",
    "               vocab=set(['great',  ('great','movie')]))"
   ]
  },
  {
   "cell_type": "markdown",
   "metadata": {},
   "source": [
    "Note that it is OK to represent n-grams using lists instead of tuples: e.g. `['great', ['great', 'movie']]`"
   ]
  },
  {
   "cell_type": "markdown",
   "metadata": {},
   "source": [
    "### Create a vocabulary of n-grams\n",
    "\n",
    "Then the `get_vocab` function will be used to (1) create a vocabulary of ngrams; (2) count the document frequencies of ngrams; (3) their raw frequency. It takes as input:\n",
    "- `X_raw`: a list of strings each corresponding to the raw text of a document\n",
    "- `ngram_range`: a tuple of two integers denoting the type of ngrams you want to extract, e.g. (1,2) denotes extracting unigrams and bigrams.\n",
    "- `token_pattern`: a string to be used within a regular expression to extract all tokens. Note that data is already tokenised so you could opt for a simple white space tokenisation.\n",
    "- `stop_words`: a list of stop words\n",
    "- `vocab`: a given vocabulary. It should be used to extract specific features.\n",
    "- `min_df`: keep ngrams with a minimum document frequency.\n",
    "- `keep_topN`: keep top-N more frequent ngrams.\n",
    "\n",
    "and returns:\n",
    "\n",
    "- `vocab`: a set of the n-grams that will be used as features.\n",
    "- `df`: a Counter (or dict) that contains ngrams as keys and their corresponding document frequency as values.\n",
    "- `ngram_counts`: counts of each ngram in vocab\n",
    "\n",
    "Hint: it should make use of the `extract_ngrams` function."
   ]
  },
  {
   "cell_type": "code",
   "execution_count": 9,
   "metadata": {
    "ExecuteTime": {
     "end_time": "2020-04-19T09:53:00.812145Z",
     "start_time": "2020-04-19T09:53:00.805590Z"
    }
   },
   "outputs": [],
   "source": [
    "def get_vocab(X_raw, ngram_range=(1,3), token_pattern=r'\\b[A-Za-z][A-Za-z]+\\b', min_df=0, keep_topN=0, stop_words=[]):\n",
    "    \n",
    "    '''1. create a vocabulary of ngrams\n",
    "       2. count the document frequencies of ngrams\n",
    "       3. their raw frequency\n",
    "\n",
    "    Args:\n",
    "        X_raw: a list of strings each corresponding to the raw text of a document\n",
    "        ngram_range: a tuple of two integers denoting the type of ngrams you want\n",
    "            to extract, e.g. (1,2) denotes extracting unigrams and bigrams.\n",
    "        token_pattern: a string to be used within a regular expression to extract\n",
    "            all tokens. Note that data is already tokenised so you could opt for\n",
    "            a simple white space tokenisation.\n",
    "        stop_words: a list of stop words\n",
    "        min_df: keep ngrams with a minimum document frequency.\n",
    "        keep_topN: keep top-N more frequent ngrams.\n",
    "\n",
    "    Returns:\n",
    "        vocab: a set of the n-grams that will be used as features.\n",
    "        df: a Counter (or dict) that contains ngrams as keys and their corresponding\n",
    "            document frequency as values.\n",
    "        ngram_counts: counts of each ngram in vocab\n",
    "\n",
    "    '''\n",
    "    \n",
    "    bag_of_ngrams = list()\n",
    "    df = Counter()\n",
    "    for line in X_raw:\n",
    "        ngrams = extract_ngrams(line,ngram_range=(1,3),token_pattern=token_pattern,stop_words=stop_words)\n",
    "        bag_of_ngrams += ngrams\n",
    "        df.update(set(ngrams))\n",
    "    df = Counter({k:v for k,v in df.items() if v >=min_df})\n",
    "    ngram_counts = Counter(bag_of_ngrams)\n",
    "    \n",
    "    vocab = [items[0] for items in ngram_counts.most_common() if items[0] in df.keys()][:keep_topN]\n",
    "\n",
    "    return vocab, df, ngram_counts"
   ]
  },
  {
   "cell_type": "markdown",
   "metadata": {},
   "source": [
    "Now you should use `get_vocab` to create your vocabulary and get document and raw frequencies of n-grams:"
   ]
  },
  {
   "cell_type": "code",
   "execution_count": 10,
   "metadata": {
    "ExecuteTime": {
     "end_time": "2020-04-19T09:53:03.795287Z",
     "start_time": "2020-04-19T09:53:00.813720Z"
    }
   },
   "outputs": [
    {
     "name": "stdout",
     "output_type": "stream",
     "text": [
      "5000\n",
      "\n",
      "['film', 'but', 'one', 'movie', 'not', 'all', 'there', 'like', 'so', 'out', 'about', 'more', 'up', 'when', 'their', 'some', 'just', 'if', 'into', 'him', 'even', 'only', 'no', 'than', 'time', 'good', 'most', 'story', 'would', 'much', 'character', 'also', 'get', 'two', 'well', 'characters', 'other', 'very', 'first', 'see', 'after', 'because', 'way', 'make', 'off', 'plot', 'while', 'had', 'any', 'too', 'little', 'life', 'films', 'does', 'where', 'people', 'then', 'how', 'me', 'really', 'man', 'scene', 'my', 'never', 'bad', 'being', 'over', 'best', 'don', 'scenes', 'doesn', 'many', 'new', 'know', 'director', 'here', 'action', 'such', 'great', 'through', 'movies', 're', 'love', 'another', 'made', 'go', 'big', 'end', 'seems', 'something', 'still', 'back', 'world', 'us', 'work', 'now', 'down', 'before', 'makes', 'however']\n",
      "\n",
      "[('but', 1334), ('one', 1247), ('film', 1231), ('not', 1170), ('all', 1117), ('movie', 1095), ('out', 1080), ('so', 1047), ('there', 1046), ('like', 1043)]\n"
     ]
    }
   ],
   "source": [
    "vocab, df, ngram_counts = get_vocab(X_tr_raw, ngram_range=(1,3), keep_topN=5000, stop_words=stop_words)\n",
    "print(len(vocab))\n",
    "print()\n",
    "print(list(vocab)[:100])\n",
    "print()\n",
    "print(df.most_common()[:10])"
   ]
  },
  {
   "cell_type": "markdown",
   "metadata": {},
   "source": [
    "Then, you need to create vocabulary id -> word and id -> word dictionaries for reference:"
   ]
  },
  {
   "cell_type": "code",
   "execution_count": 11,
   "metadata": {
    "ExecuteTime": {
     "end_time": "2020-04-19T09:53:07.679853Z",
     "start_time": "2020-04-19T09:53:03.796625Z"
    }
   },
   "outputs": [],
   "source": [
    "# Calculate the vocab and df of different data sets\n",
    "vocab_tr, df_tr, ngram_counts_tr = get_vocab(X_tr_raw, ngram_range=(1,3), keep_topN=5000, stop_words=stop_words)\n",
    "vocab_te, df_te, ngram_counts_te = get_vocab(X_te_raw, ngram_range=(1,3), keep_topN=5000, stop_words=stop_words)\n",
    "vocab_dev, df_dev, ngram_counts_dev = get_vocab(X_dev_raw, ngram_range=(1,3), keep_topN=5000, stop_words=stop_words)\n",
    "# create reference\n",
    "id2vocab_tr = dict(enumerate(vocab_tr))\n",
    "vocab2id_tr = dict(zip(id2vocab_tr.values(),id2vocab_tr.keys()))"
   ]
  },
  {
   "cell_type": "markdown",
   "metadata": {},
   "source": [
    "Now you should be able to extract n-grams for each text in the training, development and test sets:"
   ]
  },
  {
   "cell_type": "code",
   "execution_count": 12,
   "metadata": {
    "ExecuteTime": {
     "end_time": "2020-04-19T09:53:09.366473Z",
     "start_time": "2020-04-19T09:53:07.681039Z"
    }
   },
   "outputs": [],
   "source": [
    "# extract n-grams\n",
    "X_tr_ngram = [extract_ngrams(line,ngram_range=(1,3),stop_words=stop_words) for line in X_tr_raw]\n",
    "X_te_ngram = [extract_ngrams(line,ngram_range=(1,3),stop_words=stop_words) for line in X_te_raw]\n",
    "X_dev_ngram = [extract_ngrams(line,ngram_range=(1,3),stop_words=stop_words) for line in X_dev_raw]"
   ]
  },
  {
   "cell_type": "markdown",
   "metadata": {},
   "source": [
    "## Vectorise documents "
   ]
  },
  {
   "cell_type": "markdown",
   "metadata": {},
   "source": [
    "Next, write a function `vectoriser` to obtain Bag-of-ngram representations for a list of documents. The function should take as input:\n",
    "- `X_ngram`: a list of texts (documents), where each text is represented as list of n-grams in the `vocab`\n",
    "- `vocab`: a set of n-grams to be used for representing the documents\n",
    "\n",
    "and return:\n",
    "- `X_vec`: an array with dimensionality Nx|vocab| where N is the number of documents and |vocab| is the size of the vocabulary. Each element of the array should represent the frequency of a given n-gram in a document.\n"
   ]
  },
  {
   "cell_type": "code",
   "execution_count": 13,
   "metadata": {
    "ExecuteTime": {
     "end_time": "2020-04-19T09:53:09.371913Z",
     "start_time": "2020-04-19T09:53:09.367684Z"
    }
   },
   "outputs": [],
   "source": [
    "def vectorise(X_ngram, vocab):\n",
    "    \n",
    "    '''1. select the features of vocab from X_ngram.\n",
    "       2. convert X_ngram into matrix\n",
    "\n",
    "    Args:\n",
    "        X_ngram(list of list): a list of texts (documents) features(Bag-of-ngram)\n",
    "        vocab(list): a set of selected features(n-grams)\n",
    "\n",
    "    Returns:\n",
    "        X_vec: an array shapes (#document,#vocab), where document is a single line\n",
    "            in dataset.\n",
    "    '''\n",
    "\n",
    "    X_vec = np.zeros([len(X_ngram),len(vocab)])\n",
    "    for docs_index in range(len(X_ngram)):\n",
    "        temp = Counter(X_ngram[docs_index])\n",
    "        for feature_index in range(len(vocab)):\n",
    "            X_vec[docs_index,feature_index] = temp.get(vocab[feature_index],0)\n",
    "    return X_vec"
   ]
  },
  {
   "cell_type": "markdown",
   "metadata": {},
   "source": [
    "Finally, use `vectorise` to obtain document vectors for each document in the train, development and test set. You should extract both count and tf.idf vectors respectively:"
   ]
  },
  {
   "cell_type": "markdown",
   "metadata": {},
   "source": [
    "#### Count vectors"
   ]
  },
  {
   "cell_type": "code",
   "execution_count": 14,
   "metadata": {
    "ExecuteTime": {
     "end_time": "2020-04-19T09:53:12.959021Z",
     "start_time": "2020-04-19T09:53:09.372888Z"
    }
   },
   "outputs": [],
   "source": [
    "X_tr_count = vectorise(X_tr_ngram, vocab_tr)\n",
    "X_te_count = vectorise(X_te_ngram, vocab_tr)\n",
    "X_dev_count = vectorise(X_dev_ngram, vocab_tr)"
   ]
  },
  {
   "cell_type": "code",
   "execution_count": 15,
   "metadata": {
    "ExecuteTime": {
     "end_time": "2020-04-19T09:53:12.963528Z",
     "start_time": "2020-04-19T09:53:12.960222Z"
    }
   },
   "outputs": [
    {
     "data": {
      "text/plain": [
       "(1400, 5000)"
      ]
     },
     "execution_count": 15,
     "metadata": {},
     "output_type": "execute_result"
    }
   ],
   "source": [
    "X_tr_count.shape"
   ]
  },
  {
   "cell_type": "code",
   "execution_count": 16,
   "metadata": {
    "ExecuteTime": {
     "end_time": "2020-04-19T09:53:12.973547Z",
     "start_time": "2020-04-19T09:53:12.964891Z"
    }
   },
   "outputs": [
    {
     "data": {
      "text/plain": [
       "array([[20.,  6.,  8.,  0.,  4.,  1.,  1.,  0.,  3.,  1.,  1.,  1.,  0.,\n",
       "         0.,  6.,  1.,  2.,  1.,  2.,  0.,  3.,  4.,  1.,  1.,  0.,  1.,\n",
       "         4.,  2.,  3.,  1.,  3.,  0.,  0.,  1.,  0.,  4.,  0.,  0.,  2.,\n",
       "         1.,  0.,  0.,  0.,  0.,  1.,  0.,  3.,  2.,  1.,  0.],\n",
       "       [ 6.,  2.,  5.,  0.,  2.,  4.,  2.,  3.,  3.,  2.,  2.,  3.,  4.,\n",
       "         0.,  0.,  2.,  0.,  2.,  2.,  5.,  0.,  0.,  1.,  3.,  2.,  1.,\n",
       "         2.,  2.,  1.,  1.,  5.,  1.,  1.,  1.,  0.,  0.,  1.,  0.,  0.,\n",
       "         1.,  0.,  1.,  2.,  1.,  0.,  2.,  3.,  0.,  1.,  0.]])"
      ]
     },
     "execution_count": 16,
     "metadata": {},
     "output_type": "execute_result"
    }
   ],
   "source": [
    "X_tr_count[:2,:50]"
   ]
  },
  {
   "cell_type": "markdown",
   "metadata": {},
   "source": [
    "#### TF.IDF vectors\n",
    "\n",
    "First compute `idfs` an array containing inverted document frequencies (Note: its elements should correspond to your `vocab`)"
   ]
  },
  {
   "cell_type": "code",
   "execution_count": 17,
   "metadata": {
    "ExecuteTime": {
     "end_time": "2020-04-19T09:53:12.990333Z",
     "start_time": "2020-04-19T09:53:12.974723Z"
    }
   },
   "outputs": [],
   "source": [
    "def get_idfs(vocab,df,D):\n",
    "    \n",
    "    '''1. Accumulate the df of each word\n",
    "       2. Calculate the corresponding idf by formula\n",
    "       \n",
    "    Returns:\n",
    "        idfs: an array shapes #vocab\n",
    "    '''\n",
    "    \n",
    "    idfs = np.zeros(len(vocab))\n",
    "    for i in range(len(vocab)):\n",
    "        idfs[i] = max(df[vocab[i]],1)\n",
    "    idfs = np.log10(D/idfs)\n",
    "    #idfs = np.log(D/idfs)\n",
    "    return idfs\n",
    "\n",
    "idfs_tr = get_idfs(vocab_tr,df_tr,len(X_tr_raw))\n",
    "idfs_te = get_idfs(vocab_tr,df_te,len(X_te_raw))\n",
    "idfs_dev = get_idfs(vocab_tr,df_dev,len(X_dev_raw))"
   ]
  },
  {
   "cell_type": "markdown",
   "metadata": {},
   "source": [
    "Then transform your count vectors to tf.idf vectors:"
   ]
  },
  {
   "cell_type": "code",
   "execution_count": 18,
   "metadata": {
    "ExecuteTime": {
     "end_time": "2020-04-19T09:53:13.007639Z",
     "start_time": "2020-04-19T09:53:12.991617Z"
    }
   },
   "outputs": [],
   "source": [
    "X_tr_tfidf = X_tr_count*idfs_tr\n",
    "X_te_tfidf = X_te_count*idfs_te\n",
    "X_dev_tfidf = X_dev_count*idfs_dev"
   ]
  },
  {
   "cell_type": "code",
   "execution_count": 19,
   "metadata": {
    "ExecuteTime": {
     "end_time": "2020-04-19T09:53:13.012666Z",
     "start_time": "2020-04-19T09:53:13.008905Z"
    }
   },
   "outputs": [
    {
     "data": {
      "text/plain": [
       "array([0.3352199 , 0.04194441, 0.25130791, 0.        , 0.15588435,\n",
       "       0.39229945, 0.2531927 , 0.38353118, 0.37854406, 0.22540856,\n",
       "       0.28361332, 0.38728409, 0.55011146, 0.        , 0.        ,\n",
       "       0.32320144, 0.        , 0.34692489, 0.36468042, 1.24525516,\n",
       "       0.        , 0.        , 0.21927133, 0.55839959, 0.40923321,\n",
       "       0.22967409, 0.43239695, 0.52266534, 0.25626631, 0.24195367,\n",
       "       1.37569611, 0.26818108, 0.26076682, 0.2699102 , 0.        ,\n",
       "       0.        , 0.25794854, 0.        , 0.        , 0.30664999,\n",
       "       0.        , 0.34472433, 0.59341724, 0.29609478, 0.        ,\n",
       "       0.67313664, 0.94469503, 0.        , 0.32395996, 0.        ])"
      ]
     },
     "execution_count": 19,
     "metadata": {},
     "output_type": "execute_result"
    }
   ],
   "source": [
    "X_tr_tfidf[1,:50]"
   ]
  },
  {
   "cell_type": "markdown",
   "metadata": {},
   "source": [
    "# Binary Logistic Regression\n",
    "\n",
    "After obtaining vector representations of the data, now you are ready to implement Binary Logistic Regression for classifying sentiment."
   ]
  },
  {
   "cell_type": "markdown",
   "metadata": {},
   "source": [
    "First, you need to implement the `sigmoid` function. It takes as input:\n",
    "\n",
    "- `z`: a real number or an array of real numbers \n",
    "\n",
    "and returns:\n",
    "\n",
    "- `sig`: the sigmoid of `z`"
   ]
  },
  {
   "cell_type": "code",
   "execution_count": 20,
   "metadata": {
    "ExecuteTime": {
     "end_time": "2020-04-19T09:53:13.017865Z",
     "start_time": "2020-04-19T09:53:13.013636Z"
    }
   },
   "outputs": [],
   "source": [
    "def sigmoid(z):\n",
    "    \n",
    "    '''Calculate sigmod results\n",
    "    \n",
    "    In order to avoid data overflow, the corresponding data boundary is added.\n",
    "    Since np.exp() is a `np.float64` operation function, so we need to avoid overflow.\n",
    "    It is easy to find out the boundary of `np.float64` by calling np.finfo(np.float64).\n",
    "    Usually, it should be written as `np.minimum(np.exp(z),np.finfo(np.float64).max)`,\n",
    "    but I prefer to written inside the exp function, since it somehow can be faster.\n",
    "    For the input of np.exp(), it should not be greater than 709.782 to ensure that the\n",
    "    output will not overflow.\n",
    "    \n",
    "    Returns:\n",
    "        z: the same size of z.\n",
    "    '''\n",
    "    \n",
    "    # z = 1 / (1+ np.minimum(np.exp(z),np.finfo(np.float64).max))\n",
    "    z = 1 / (1 + np.exp(np.minimum(-z,709.782)))\n",
    "    \n",
    "    return z"
   ]
  },
  {
   "cell_type": "code",
   "execution_count": 21,
   "metadata": {
    "ExecuteTime": {
     "end_time": "2020-04-19T09:53:13.024377Z",
     "start_time": "2020-04-19T09:53:13.018890Z"
    }
   },
   "outputs": [
    {
     "name": "stdout",
     "output_type": "stream",
     "text": [
      "0.5\n",
      "[0.00669285 0.76852478]\n"
     ]
    }
   ],
   "source": [
    "print(sigmoid(0)) \n",
    "print(sigmoid(np.array([-5., 1.2])))"
   ]
  },
  {
   "cell_type": "markdown",
   "metadata": {},
   "source": [
    "Then, implement the `predict_proba` function to obtain prediction probabilities. It takes as input:\n",
    "\n",
    "- `X`: an array of inputs, i.e. documents represented by bag-of-ngram vectors ($N \\times |vocab|$)\n",
    "- `weights`: a 1-D array of the model's weights $(1, |vocab|)$\n",
    "\n",
    "and returns:\n",
    "\n",
    "- `preds_proba`: the prediction probabilities of X given the weights"
   ]
  },
  {
   "cell_type": "code",
   "execution_count": 22,
   "metadata": {
    "ExecuteTime": {
     "end_time": "2020-04-19T09:53:13.029914Z",
     "start_time": "2020-04-19T09:53:13.025322Z"
    }
   },
   "outputs": [],
   "source": [
    "def predict_proba(X, weights):\n",
    "    \n",
    "    # Get the output by mutipling x * w.T\n",
    "    preds_proba = X.dot(weights.T)\n",
    "    \n",
    "    # Verify the size of the data\n",
    "    assert preds_proba.shape == (X.shape[0],1)\n",
    "    \n",
    "    return sigmoid(preds_proba)"
   ]
  },
  {
   "cell_type": "markdown",
   "metadata": {},
   "source": [
    "Then, implement the `predict_class` function to obtain the most probable class for each vector in an array of input vectors. It takes as input:\n",
    "\n",
    "- `X`: an array of documents represented by bag-of-ngram vectors ($N \\times |vocab|$)\n",
    "- `weights`: a 1-D array of the model's weights $(1, |vocab|)$\n",
    "\n",
    "and returns:\n",
    "\n",
    "- `preds_class`: the predicted class for each x in X given the weights"
   ]
  },
  {
   "cell_type": "code",
   "execution_count": 23,
   "metadata": {
    "ExecuteTime": {
     "end_time": "2020-04-19T09:53:13.035607Z",
     "start_time": "2020-04-19T09:53:13.030977Z"
    }
   },
   "outputs": [],
   "source": [
    "def predict_class(X, weights):\n",
    "    \n",
    "    '''1. Calculate the probability\n",
    "       2. Classify according to probability\n",
    "        \n",
    "    Args:\n",
    "        preds_proba: Probability of each data, the same\n",
    "            size of input data.(X.shape[0])\n",
    "\n",
    "    Returns:\n",
    "        preds_class: The classification corresponding\n",
    "            to the input data, the size is consistent\n",
    "            with the amount of input data.(X.shape[0])\n",
    "    '''\n",
    "    \n",
    "    preds_proba = predict_proba(X, weights)\n",
    "    preds_class = np.where(preds_proba>=0.5,1,0)\n",
    "    \n",
    "    # Verify the size of the data\n",
    "    assert preds_class.shape == (X.shape[0],1)\n",
    "    \n",
    "    return preds_class"
   ]
  },
  {
   "cell_type": "markdown",
   "metadata": {},
   "source": [
    "To learn the weights from data, we need to minimise the binary cross-entropy loss. Implement `binary_loss` that takes as input:\n",
    "\n",
    "- `X`: input vectors\n",
    "- `Y`: labels\n",
    "- `weights`: model weights\n",
    "- `alpha`: regularisation strength\n",
    "\n",
    "and return:\n",
    "\n",
    "- `l`: the loss score"
   ]
  },
  {
   "cell_type": "code",
   "execution_count": 24,
   "metadata": {
    "ExecuteTime": {
     "end_time": "2020-04-19T09:53:13.043874Z",
     "start_time": "2020-04-19T09:53:13.036599Z"
    }
   },
   "outputs": [],
   "source": [
    "def binary_loss(X, Y, weights, alpha=0.00001):\n",
    "    \n",
    "    '''1. Calculate the probability\n",
    "       2. Calculate the Euclidean distance between label and probability\n",
    "       3. Calculate the average distance\n",
    "       \n",
    "    Here I use `esp` to represent the smallest data unit of the data type. \n",
    "    The main function of `esp` is to ensure the rationality of arithmetic \n",
    "    operations. For example, in the division operation, add `esp` to the \n",
    "    denominator to ensure that the denominator is not 0, and it does not \n",
    "    affect the data result. This is the habit I developed when I wrote Matlab\n",
    "    in my undergraduate period. `esp` is more common in Matlab.\n",
    "    \n",
    "    Args:\n",
    "        eps: the minimum value in the current data type. Used to ensure\n",
    "            that the input of the log function is greater than 0.\n",
    "        preds_proba: Probability of each data, the same\n",
    "            size of input data.(X.shape[0])\n",
    "\n",
    "    Returns:\n",
    "        l: Used to save losses and calculate the average at the end\n",
    "    '''\n",
    "    \n",
    "    eps = np.finfo(np.float64).eps\n",
    "    preds_proba = predict_proba(X, weights)\n",
    "    l = -1*(Y*np.log10(preds_proba+eps) + (1-Y)*np.log10(1-preds_proba+eps)) + alpha*np.multiply(weights, weights)\n",
    "    l = np.mean(l)\n",
    "    # Verify the size of the data\n",
    "    assert l.shape == (1,1) or type(l) == np.float64\n",
    "\n",
    "    return l"
   ]
  },
  {
   "cell_type": "code",
   "execution_count": 25,
   "metadata": {
    "ExecuteTime": {
     "end_time": "2020-04-19T09:53:13.049772Z",
     "start_time": "2020-04-19T09:53:13.044859Z"
    }
   },
   "outputs": [],
   "source": [
    "def gradient(X, y, weights, alpha=0.00001):\n",
    "    \n",
    "    '''Only calculate the gradient of the corresponding position\n",
    "    \n",
    "    Args: \n",
    "        m: the total number of the dataset sample.\n",
    "        h: an numpy array of prediction corresponding to the\n",
    "            dataset points. Shape (#dataset,1)\n",
    "            \n",
    "    Returns:\n",
    "        dw: the corresponding gradient. Shape the same with \n",
    "            weight.\n",
    "    '''\n",
    "    \n",
    "    m = len(X)\n",
    "    h = predict_proba(X, weights)\n",
    "    dw = np.dot((h - y).T,X) + 2*alpha*weights\n",
    "    # Verify the size of the data\n",
    "    assert dw.shape == weights.shape\n",
    "    return dw/m"
   ]
  },
  {
   "cell_type": "markdown",
   "metadata": {},
   "source": [
    "Now, you can implement Stochastic Gradient Descent to learn the weights of your sentiment classifier. The `SGD` function takes as input:\n",
    "\n",
    "- `X_tr`: array of training data (vectors)\n",
    "- `Y_tr`: labels of `X_tr`\n",
    "- `X_dev`: array of development (i.e. validation) data (vectors)\n",
    "- `Y_dev`: labels of `X_dev`\n",
    "- `lr`: learning rate\n",
    "- `alpha`: regularisation strength\n",
    "- `epochs`: number of full passes over the training data\n",
    "- `tolerance`: stop training if the difference between the current and previous validation loss is smaller than a threshold\n",
    "- `print_progress`: flag for printing the training progress (train/validation loss)\n",
    "\n",
    "\n",
    "and returns:\n",
    "\n",
    "- `weights`: the weights learned\n",
    "- `training_loss_history`: an array with the average losses of the whole training set after each epoch\n",
    "- `validation_loss_history`: an array with the average losses of the whole development set after each epoch"
   ]
  },
  {
   "cell_type": "code",
   "execution_count": 26,
   "metadata": {
    "ExecuteTime": {
     "end_time": "2020-04-19T09:53:13.059715Z",
     "start_time": "2020-04-19T09:53:13.050795Z"
    }
   },
   "outputs": [],
   "source": [
    "def SGD(X_tr, Y_tr, X_dev=[], Y_dev=[], loss=\"binary\", lr=0.1, alpha=0.00001, epochs=5, tolerance=0.0001, print_progress=True):\n",
    "    \n",
    "    cur_loss_tr = 1.\n",
    "    cur_loss_dev = 1.\n",
    "    training_loss_history = []\n",
    "    validation_loss_history = []\n",
    "    \n",
    "    # Stage 1: Init weights\n",
    "    weights = np.zeros((1,X_tr.shape[1]))\n",
    "    \n",
    "    # Stage 2: Init stochastic index\n",
    "    idx_list = np.array(range(X_tr.shape[0]))\n",
    "    \n",
    "    # Stage 3: Training\n",
    "    for epoch in range(epochs):\n",
    "        loss_tr = 0\n",
    "        np.random.shuffle(idx_list) # disorder dataset\n",
    "        \n",
    "        for i in idx_list:\n",
    "            X_tr_i, Y_tr_i = X_tr[i].reshape(1,-1),Y_tr[i].reshape(1,-1) # get a single data pair\n",
    "            dw = gradient(X_tr_i, Y_tr_i, weights, alpha) # gradient\n",
    "            weights -= lr*dw # update\n",
    "            loss_tr += binary_loss(X_tr_i, Y_tr_i, weights, alpha) # add loss\n",
    "            \n",
    "        # calculate loss\n",
    "        loss_dev = binary_loss(X_dev, Y_dev, weights, alpha)\n",
    "        loss_tr /= len(idx_list)\n",
    "        \n",
    "        # Add to history\n",
    "        training_loss_history.append(loss_tr)\n",
    "        validation_loss_history.append(loss_dev)\n",
    "        \n",
    "        # print function\n",
    "        if print_progress == True: \n",
    "            print(\"Epoch: %d| Training loss: %f| Validation loss: %f\"%(epoch,loss_tr,loss_dev))\n",
    "            \n",
    "        # check tolerance to break\n",
    "        if epoch >1 and (validation_loss_history[-2]-validation_loss_history[-1]) <= tolerance:\n",
    "            break\n",
    "\n",
    "    return weights, training_loss_history, validation_loss_history"
   ]
  },
  {
   "cell_type": "markdown",
   "metadata": {},
   "source": [
    "## Train and Evaluate Logistic Regression with Count vectors\n",
    "\n",
    "First train the model using SGD:"
   ]
  },
  {
   "cell_type": "code",
   "execution_count": 27,
   "metadata": {
    "ExecuteTime": {
     "end_time": "2020-04-19T09:53:27.708483Z",
     "start_time": "2020-04-19T09:53:13.064062Z"
    },
    "scrolled": true
   },
   "outputs": [
    {
     "name": "stdout",
     "output_type": "stream",
     "text": [
      "Epoch: 0| Training loss: 0.281198| Validation loss: 0.280390\n",
      "Epoch: 1| Training loss: 0.258984| Validation loss: 0.267200\n",
      "Epoch: 2| Training loss: 0.242545| Validation loss: 0.256740\n",
      "Epoch: 3| Training loss: 0.229901| Validation loss: 0.248940\n",
      "Epoch: 4| Training loss: 0.218922| Validation loss: 0.242651\n",
      "Epoch: 5| Training loss: 0.210565| Validation loss: 0.237559\n",
      "Epoch: 6| Training loss: 0.202685| Validation loss: 0.232486\n",
      "Epoch: 7| Training loss: 0.195936| Validation loss: 0.229208\n",
      "Epoch: 8| Training loss: 0.189990| Validation loss: 0.224886\n",
      "Epoch: 9| Training loss: 0.184416| Validation loss: 0.222042\n",
      "Epoch: 10| Training loss: 0.179316| Validation loss: 0.219922\n",
      "Epoch: 11| Training loss: 0.174928| Validation loss: 0.216306\n",
      "Epoch: 12| Training loss: 0.170694| Validation loss: 0.213822\n",
      "Epoch: 13| Training loss: 0.166703| Validation loss: 0.211881\n",
      "Epoch: 14| Training loss: 0.163014| Validation loss: 0.209455\n",
      "Epoch: 15| Training loss: 0.159598| Validation loss: 0.207629\n",
      "Epoch: 16| Training loss: 0.156189| Validation loss: 0.205890\n",
      "Epoch: 17| Training loss: 0.153474| Validation loss: 0.204341\n",
      "Epoch: 18| Training loss: 0.150632| Validation loss: 0.202479\n",
      "Epoch: 19| Training loss: 0.147939| Validation loss: 0.201133\n",
      "Epoch: 20| Training loss: 0.145376| Validation loss: 0.199716\n",
      "Epoch: 21| Training loss: 0.142932| Validation loss: 0.198529\n",
      "Epoch: 22| Training loss: 0.140548| Validation loss: 0.197355\n",
      "Epoch: 23| Training loss: 0.138346| Validation loss: 0.196000\n",
      "Epoch: 24| Training loss: 0.136033| Validation loss: 0.195695\n",
      "Epoch: 25| Training loss: 0.134227| Validation loss: 0.193908\n",
      "Epoch: 26| Training loss: 0.132114| Validation loss: 0.192935\n",
      "Epoch: 27| Training loss: 0.130310| Validation loss: 0.191987\n",
      "Epoch: 28| Training loss: 0.128483| Validation loss: 0.191048\n",
      "Epoch: 29| Training loss: 0.126455| Validation loss: 0.190900\n",
      "Epoch: 30| Training loss: 0.125059| Validation loss: 0.189396\n",
      "Epoch: 31| Training loss: 0.123383| Validation loss: 0.188613\n",
      "Epoch: 32| Training loss: 0.121719| Validation loss: 0.188297\n",
      "Epoch: 33| Training loss: 0.120255| Validation loss: 0.187205\n",
      "Epoch: 34| Training loss: 0.118783| Validation loss: 0.186540\n",
      "Epoch: 35| Training loss: 0.117360| Validation loss: 0.185867\n",
      "Epoch: 36| Training loss: 0.115978| Validation loss: 0.185224\n",
      "Epoch: 37| Training loss: 0.114585| Validation loss: 0.184636\n",
      "Epoch: 38| Training loss: 0.113304| Validation loss: 0.184078\n",
      "Epoch: 39| Training loss: 0.112001| Validation loss: 0.183510\n",
      "Epoch: 40| Training loss: 0.110790| Validation loss: 0.182968\n",
      "Epoch: 41| Training loss: 0.109556| Validation loss: 0.182445\n",
      "Epoch: 42| Training loss: 0.108398| Validation loss: 0.181960\n",
      "Epoch: 43| Training loss: 0.107248| Validation loss: 0.181496\n",
      "Epoch: 44| Training loss: 0.106090| Validation loss: 0.181031\n",
      "Epoch: 45| Training loss: 0.105063| Validation loss: 0.180584\n",
      "Epoch: 46| Training loss: 0.103959| Validation loss: 0.180237\n",
      "Epoch: 47| Training loss: 0.102945| Validation loss: 0.179825\n",
      "Epoch: 48| Training loss: 0.101922| Validation loss: 0.179404\n",
      "Epoch: 49| Training loss: 0.100949| Validation loss: 0.179044\n",
      "Epoch: 50| Training loss: 0.099997| Validation loss: 0.178630\n",
      "Epoch: 51| Training loss: 0.099058| Validation loss: 0.178292\n",
      "Epoch: 52| Training loss: 0.098120| Validation loss: 0.177929\n",
      "Epoch: 53| Training loss: 0.097208| Validation loss: 0.177572\n",
      "Epoch: 54| Training loss: 0.096327| Validation loss: 0.177324\n",
      "Epoch: 55| Training loss: 0.095451| Validation loss: 0.177059\n",
      "Epoch: 56| Training loss: 0.094682| Validation loss: 0.176641\n",
      "Epoch: 57| Training loss: 0.093828| Validation loss: 0.176345\n",
      "Epoch: 58| Training loss: 0.093032| Validation loss: 0.176051\n",
      "Epoch: 59| Training loss: 0.092221| Validation loss: 0.175765\n",
      "Epoch: 60| Training loss: 0.091432| Validation loss: 0.175528\n",
      "Epoch: 61| Training loss: 0.090661| Validation loss: 0.175256\n",
      "Epoch: 62| Training loss: 0.089896| Validation loss: 0.175012\n",
      "Epoch: 63| Training loss: 0.089182| Validation loss: 0.174785\n",
      "Epoch: 64| Training loss: 0.088416| Validation loss: 0.174578\n",
      "Epoch: 65| Training loss: 0.087736| Validation loss: 0.174342\n",
      "Epoch: 66| Training loss: 0.087064| Validation loss: 0.174092\n",
      "Epoch: 67| Training loss: 0.086364| Validation loss: 0.173871\n",
      "Epoch: 68| Training loss: 0.085735| Validation loss: 0.173618\n",
      "Epoch: 69| Training loss: 0.085073| Validation loss: 0.173407\n",
      "Epoch: 70| Training loss: 0.084381| Validation loss: 0.173288\n",
      "Epoch: 71| Training loss: 0.083721| Validation loss: 0.173147\n",
      "Epoch: 72| Training loss: 0.083203| Validation loss: 0.172822\n",
      "Epoch: 73| Training loss: 0.082528| Validation loss: 0.172679\n",
      "Epoch: 74| Training loss: 0.081920| Validation loss: 0.172473\n",
      "Epoch: 75| Training loss: 0.081358| Validation loss: 0.172270\n",
      "Epoch: 76| Training loss: 0.080778| Validation loss: 0.172105\n",
      "Epoch: 77| Training loss: 0.080182| Validation loss: 0.171957\n",
      "Epoch: 78| Training loss: 0.079640| Validation loss: 0.171783\n",
      "Epoch: 79| Training loss: 0.079087| Validation loss: 0.171620\n",
      "Epoch: 80| Training loss: 0.078536| Validation loss: 0.171466\n",
      "Epoch: 81| Training loss: 0.078002| Validation loss: 0.171317\n",
      "Epoch: 82| Training loss: 0.077440| Validation loss: 0.171229\n"
     ]
    }
   ],
   "source": [
    "w_count, loss_tr_count, dev_loss_count = SGD(X_tr_count, Y_tr, \n",
    "                                             X_dev=X_dev_count, \n",
    "                                             Y_dev=Y_dev, \n",
    "                                             lr=0.0001, \n",
    "                                             alpha=0.001, \n",
    "                                             epochs=100)"
   ]
  },
  {
   "cell_type": "markdown",
   "metadata": {},
   "source": [
    "Now plot the training and validation history per epoch. Does your model underfit, overfit or is it about right? Explain why."
   ]
  },
  {
   "cell_type": "code",
   "execution_count": 28,
   "metadata": {
    "ExecuteTime": {
     "end_time": "2020-04-19T09:53:27.892815Z",
     "start_time": "2020-04-19T09:53:27.712606Z"
    }
   },
   "outputs": [
    {
     "data": {
      "image/png": "[encoded data removed]",
      "text/plain": [
       "<Figure size 432x288 with 1 Axes>"
      ]
     },
     "metadata": {
      "needs_background": "light"
     },
     "output_type": "display_data"
    }
   ],
   "source": [
    "%matplotlib inline\n",
    "fig = plt.figure()\n",
    "plt.plot(range(len(loss_tr_count)),loss_tr_count,label='training loss')\n",
    "plt.plot(range(len(dev_loss_count)),dev_loss_count,label='validation loss')\n",
    "\n",
    "plt.xlabel('Epochs')\n",
    "plt.ylabel('Loss')\n",
    "plt.title('Training Monitoring')\n",
    "\n",
    "plt.legend()\n",
    "plt.show()"
   ]
  },
  {
   "cell_type": "markdown",
   "metadata": {},
   "source": [
    "**Conclusion:** Overfitting\n",
    "* **Discuss Overfitting:** The loss on the validation set is twice the loss on the training set, which indicates that the model overfits the training set.\n",
    "* **Discuss Underfitting:** Both the loss on the validation set and the loss on the training set are kept at very small values. Thus there is no underfit."
   ]
  },
  {
   "cell_type": "markdown",
   "metadata": {},
   "source": [
    "Compute accuracy, precision, recall and F1-scores:"
   ]
  },
  {
   "cell_type": "code",
   "execution_count": 29,
   "metadata": {
    "ExecuteTime": {
     "end_time": "2020-04-19T09:53:27.907926Z",
     "start_time": "2020-04-19T09:53:27.894143Z"
    }
   },
   "outputs": [
    {
     "name": "stdout",
     "output_type": "stream",
     "text": [
      "Accuracy: 0.835\n",
      "Precision: 0.8316831683168316\n",
      "Recall: 0.84\n",
      "F1-Score: 0.835820895522388\n"
     ]
    }
   ],
   "source": [
    "# Get test output from the model\n",
    "preds_te_count = predict_class(X_te_count,w_count)\n",
    "\n",
    "print('Accuracy:', accuracy_score(Y_te,preds_te_count))\n",
    "print('Precision:', precision_score(Y_te,preds_te_count))\n",
    "print('Recall:', recall_score(Y_te,preds_te_count))\n",
    "print('F1-Score:', f1_score(Y_te,preds_te_count))"
   ]
  },
  {
   "cell_type": "markdown",
   "metadata": {},
   "source": [
    "Finally, print the top-10 words for the negative and positive class respectively."
   ]
  },
  {
   "cell_type": "code",
   "execution_count": 30,
   "metadata": {
    "ExecuteTime": {
     "end_time": "2020-04-19T09:53:27.916647Z",
     "start_time": "2020-04-19T09:53:27.910308Z"
    }
   },
   "outputs": [
    {
     "name": "stdout",
     "output_type": "stream",
     "text": [
      "Top-10 negative words:\n",
      "['bad', 'only', 'unfortunately', 'worst', 'script', 'why', 'boring', 'plot', 'any', 'nothing']\n"
     ]
    }
   ],
   "source": [
    "# Stort the index by weight parameters \n",
    "sorted_index = w_count.copy().flatten().argsort()\n",
    "top_neg_ngram = [vocab[i] for i in sorted_index[:10]]\n",
    "print(\"Top-10 negative words:\")\n",
    "print(top_neg_ngram)"
   ]
  },
  {
   "cell_type": "code",
   "execution_count": 31,
   "metadata": {
    "ExecuteTime": {
     "end_time": "2020-04-19T09:53:27.924322Z",
     "start_time": "2020-04-19T09:53:27.918834Z"
    }
   },
   "outputs": [
    {
     "name": "stdout",
     "output_type": "stream",
     "text": [
      "Top-10 positive words:\n",
      "['great', 'well', 'seen', 'fun', 'also', 'many', 'life', 'both', 'world', 'movies']\n"
     ]
    }
   ],
   "source": [
    "# Stort the index by weight parameters\n",
    "top_pos_ngram = [vocab[i] for i in sorted_index[-10:][::-1]]\n",
    "print(\"Top-10 positive words:\")\n",
    "print(top_pos_ngram)"
   ]
  },
  {
   "cell_type": "markdown",
   "metadata": {},
   "source": [
    "If we were to apply the classifier we've learned into a different domain such laptop reviews or restaurant reviews, do you think these features would generalise well? Can you propose what features the classifier could pick up as important in the new domain?"
   ]
  },
  {
   "cell_type": "markdown",
   "metadata": {},
   "source": [
    "**Conclusion:** No, although it works, it may not work well.. \n",
    "* **Data distribution:** Although the model can be used in other domain, the learned parameters are not. The data in the training set should be independent and identically distributed. However, after switching domains, the data may never appear in the training set, which means that the data set in this field is distributed in the training set as 0. This can lead to poor performance.\n",
    "* **Vocabulary Corpus:** New words appearing in different domain can also lead to poor performance.\n",
    "\n",
    "According to the existing training models and parameters, the classifier can only extract as important features the same as the training set. Extracting new features can be obtained by retraining the classifier. However, there are many words that have positive or negative emotional color. These words are especially important for classifiers even in different domain. For example, ‘great’ itself means positive, ‘bad’ itself means negative"
   ]
  },
  {
   "cell_type": "markdown",
   "metadata": {},
   "source": [
    "## Train and Evaluate Logistic Regression with TF.IDF vectors\n",
    "\n",
    "Follow the same steps as above (i.e. evaluating count n-gram representations).\n"
   ]
  },
  {
   "cell_type": "code",
   "execution_count": 32,
   "metadata": {
    "ExecuteTime": {
     "end_time": "2020-04-19T09:53:34.753778Z",
     "start_time": "2020-04-19T09:53:27.926486Z"
    },
    "scrolled": true
   },
   "outputs": [
    {
     "name": "stdout",
     "output_type": "stream",
     "text": [
      "Epoch: 0| Training loss: 0.224120| Validation loss: 0.252379\n",
      "Epoch: 1| Training loss: 0.173527| Validation loss: 0.231832\n",
      "Epoch: 2| Training loss: 0.146122| Validation loss: 0.218790\n",
      "Epoch: 3| Training loss: 0.127485| Validation loss: 0.210185\n",
      "Epoch: 4| Training loss: 0.113679| Validation loss: 0.202728\n",
      "Epoch: 5| Training loss: 0.103069| Validation loss: 0.197134\n",
      "Epoch: 6| Training loss: 0.094403| Validation loss: 0.192620\n",
      "Epoch: 7| Training loss: 0.087173| Validation loss: 0.189145\n",
      "Epoch: 8| Training loss: 0.081058| Validation loss: 0.186442\n",
      "Epoch: 9| Training loss: 0.075826| Validation loss: 0.182934\n",
      "Epoch: 10| Training loss: 0.071235| Validation loss: 0.180977\n",
      "Epoch: 11| Training loss: 0.067270| Validation loss: 0.178854\n",
      "Epoch: 12| Training loss: 0.063653| Validation loss: 0.177424\n",
      "Epoch: 13| Training loss: 0.060475| Validation loss: 0.175679\n",
      "Epoch: 14| Training loss: 0.057581| Validation loss: 0.174263\n",
      "Epoch: 15| Training loss: 0.054981| Validation loss: 0.172982\n",
      "Epoch: 16| Training loss: 0.052593| Validation loss: 0.172125\n",
      "Epoch: 17| Training loss: 0.050424| Validation loss: 0.171028\n",
      "Epoch: 18| Training loss: 0.048402| Validation loss: 0.170069\n",
      "Epoch: 19| Training loss: 0.046570| Validation loss: 0.169303\n",
      "Epoch: 20| Training loss: 0.044854| Validation loss: 0.168428\n",
      "Epoch: 21| Training loss: 0.043269| Validation loss: 0.167827\n",
      "Epoch: 22| Training loss: 0.041794| Validation loss: 0.167227\n",
      "Epoch: 23| Training loss: 0.040390| Validation loss: 0.166867\n",
      "Epoch: 24| Training loss: 0.039114| Validation loss: 0.166081\n",
      "Epoch: 25| Training loss: 0.037906| Validation loss: 0.165673\n",
      "Epoch: 26| Training loss: 0.036772| Validation loss: 0.165164\n",
      "Epoch: 27| Training loss: 0.035698| Validation loss: 0.164713\n",
      "Epoch: 28| Training loss: 0.034687| Validation loss: 0.164539\n",
      "Epoch: 29| Training loss: 0.033736| Validation loss: 0.164133\n",
      "Epoch: 30| Training loss: 0.032833| Validation loss: 0.163937\n",
      "Epoch: 31| Training loss: 0.031974| Validation loss: 0.163667\n",
      "Epoch: 32| Training loss: 0.031172| Validation loss: 0.163343\n",
      "Epoch: 33| Training loss: 0.030399| Validation loss: 0.163104\n",
      "Epoch: 34| Training loss: 0.029662| Validation loss: 0.162953\n",
      "Epoch: 35| Training loss: 0.028957| Validation loss: 0.162770\n",
      "Epoch: 36| Training loss: 0.028295| Validation loss: 0.162397\n",
      "Epoch: 37| Training loss: 0.027656| Validation loss: 0.162318\n"
     ]
    }
   ],
   "source": [
    "w_tfidf, trl, devl = SGD(X_tr_tfidf, Y_tr, \n",
    "                         X_dev=X_dev_tfidf, \n",
    "                         Y_dev=Y_dev, \n",
    "                         lr=0.0006, \n",
    "                         alpha=0.0001, \n",
    "                         epochs=50)"
   ]
  },
  {
   "cell_type": "markdown",
   "metadata": {},
   "source": [
    "Now plot the training and validation history per epoch. Does your model underfit, overfit or is it about right? Explain why."
   ]
  },
  {
   "cell_type": "code",
   "execution_count": 33,
   "metadata": {
    "ExecuteTime": {
     "end_time": "2020-04-19T09:53:34.925488Z",
     "start_time": "2020-04-19T09:53:34.755926Z"
    }
   },
   "outputs": [
    {
     "data": {
      "image/png": "[encoded data removed]",
      "text/plain": [
       "<Figure size 432x288 with 1 Axes>"
      ]
     },
     "metadata": {
      "needs_background": "light"
     },
     "output_type": "display_data"
    }
   ],
   "source": [
    "# Plot loss\n",
    "%matplotlib inline\n",
    "fig = plt.figure()\n",
    "plt.plot(range(len(trl)),trl,label='training loss')\n",
    "plt.plot(range(len(devl)),devl,label='validation loss')\n",
    "\n",
    "plt.xlabel('Epochs')\n",
    "plt.ylabel('Loss')\n",
    "plt.title('Training Monitoring')\n",
    "\n",
    "plt.legend()\n",
    "plt.show()"
   ]
  },
  {
   "cell_type": "markdown",
   "metadata": {},
   "source": [
    "**Conclusion:** Overfitting\n",
    "* **Discuss Overfitting:** The loss on the validation set is 8 times larger than the loss on the training set, which indicates that the model overfits the training set.\n",
    "* **Discuss Underfitting:** Both the loss on the validation set and the loss on the training set are kept at very small values. Thus there is no underfit."
   ]
  },
  {
   "cell_type": "markdown",
   "metadata": {},
   "source": [
    "Compute accuracy, precision, recall and F1-scores:"
   ]
  },
  {
   "cell_type": "code",
   "execution_count": 34,
   "metadata": {
    "ExecuteTime": {
     "end_time": "2020-04-19T09:53:34.939819Z",
     "start_time": "2020-04-19T09:53:34.926594Z"
    }
   },
   "outputs": [
    {
     "name": "stdout",
     "output_type": "stream",
     "text": [
      "Accuracy: 0.855\n",
      "Precision: 0.855\n",
      "Recall: 0.855\n",
      "F1-Score: 0.855\n"
     ]
    }
   ],
   "source": [
    "# Evaluate on test dataset\n",
    "preds_te = predict_class(X_te_tfidf,w_tfidf)\n",
    "\n",
    "print('Accuracy:', accuracy_score(Y_te,preds_te))\n",
    "print('Precision:', precision_score(Y_te,preds_te))\n",
    "print('Recall:', recall_score(Y_te,preds_te))\n",
    "print('F1-Score:', f1_score(Y_te,preds_te))"
   ]
  },
  {
   "cell_type": "markdown",
   "metadata": {},
   "source": [
    "Print top-10 most positive and negative words:"
   ]
  },
  {
   "cell_type": "code",
   "execution_count": 35,
   "metadata": {
    "ExecuteTime": {
     "end_time": "2020-04-19T09:53:34.949145Z",
     "start_time": "2020-04-19T09:53:34.943438Z"
    }
   },
   "outputs": [
    {
     "name": "stdout",
     "output_type": "stream",
     "text": [
      "Top-10 negative words:\n",
      "['bad', 'worst', 'boring', 'supposed', 'unfortunately', 'script', 'nothing', 'why', 'waste', 'plot']\n"
     ]
    }
   ],
   "source": [
    "# Stort the index by weight parameters \n",
    "sorted_index = w_tfidf.copy().flatten().argsort()\n",
    "top_neg_ngram = [vocab[i] for i in sorted_index[:10]]\n",
    "print(\"Top-10 negative words:\")\n",
    "print(top_neg_ngram)"
   ]
  },
  {
   "cell_type": "code",
   "execution_count": 36,
   "metadata": {
    "ExecuteTime": {
     "end_time": "2020-04-19T09:53:34.955995Z",
     "start_time": "2020-04-19T09:53:34.950904Z"
    }
   },
   "outputs": [
    {
     "name": "stdout",
     "output_type": "stream",
     "text": [
      "Top-10 positive words:\n",
      "['great', 'fun', 'hilarious', 'terrific', 'memorable', 'perfectly', 'overall', 'truman', 'definitely', 'seen']\n"
     ]
    }
   ],
   "source": [
    "# Stort the index by weight parameters \n",
    "top_pos_ngram = [vocab[i] for i in sorted_index[-10:][::-1]]\n",
    "print(\"Top-10 positive words:\")\n",
    "print(top_pos_ngram)"
   ]
  },
  {
   "cell_type": "markdown",
   "metadata": {},
   "source": [
    "### Discuss how did you choose model hyperparameters (e.g. learning rate and regularisation strength)? What is the relation between training epochs and learning rate? How the regularisation strength affects performance?"
   ]
  },
  {
   "cell_type": "markdown",
   "metadata": {},
   "source": [
    "**1. Choose Model Hyperparameters:**\n",
    "\n",
    "To choose hyperparameters, like learning rate and regularisation strength alpha, thay can be found by drawing a line chart. Basically, use grid search to find the optimal hyperparameters. This method is simple but time-consuming. Ideally, cross-validation should be used to screen the optimal hyperparameters, but because the training and validation sets have been divided, cross-validation is not very convenient.(Code of grid search is given below)\n",
    "\n",
    "**note:** The following hyperparameter optimization has limitations. Only a fixed training set and verification set are used. Ideally, it should be divided into multiple groups and cross-validation should be used. Specifically, Leave-One-Out Cross-Validation ([LOOCV](https://en.wikipedia.org/wiki/Cross-validation_(statistics)#Leave-one-out_cross-validation)) is used when drawing."
   ]
  },
  {
   "cell_type": "code",
   "execution_count": 37,
   "metadata": {
    "ExecuteTime": {
     "end_time": "2020-04-19T09:54:36.306047Z",
     "start_time": "2020-04-19T09:53:34.957878Z"
    }
   },
   "outputs": [
    {
     "data": {
      "image/png": "[encoded data removed]",
      "text/plain": [
       "<Figure size 432x288 with 1 Axes>"
      ]
     },
     "metadata": {
      "needs_background": "light"
     },
     "output_type": "display_data"
    }
   ],
   "source": [
    "# Run a training on a set of hyperparameters\n",
    "def get_score(lr,alpha):\n",
    "    w_tfidf, trl, devl = SGD(X_tr_tfidf, Y_tr, \n",
    "                         X_dev=X_dev_tfidf, \n",
    "                         Y_dev=Y_dev, \n",
    "                         lr=lr, \n",
    "                         alpha=alpha, \n",
    "                         epochs=100,\n",
    "                         print_progress=False)\n",
    "    preds_dev = predict_class(X_dev_tfidf,w_tfidf)\n",
    "    return accuracy_score(Y_dev,preds_dev)\n",
    "\n",
    "# Initial hyperparameters\n",
    "fig = plt.figure()\n",
    "lrs_num = 4\n",
    "alphas_num = 3\n",
    "lrs = np.linspace(0.0001,0.1,lrs_num)\n",
    "alphas = np.linspace(0.,0.01,alphas_num)\n",
    "\n",
    "# Run trainings on different sets of hyperparameters\n",
    "for i in range(alphas_num):\n",
    "    alpha = alphas[i]\n",
    "    tmp = list()\n",
    "    for j in range(lrs_num):\n",
    "        lr = lrs[j]\n",
    "        score = get_score(lr, alpha)\n",
    "        tmp.append(score)\n",
    "    plt.plot(lrs,tmp,label='alpha: {}'.format(alpha))\n",
    "\n",
    "plt.xlabel('Learning rate')\n",
    "plt.ylabel('Accuracy Score')\n",
    "plt.title('Hyperparameters: learning_rate & alpha')\n",
    "\n",
    "plt.legend()\n",
    "plt.show()"
   ]
  },
  {
   "cell_type": "markdown",
   "metadata": {},
   "source": [
    "As shown in the figure above, the X axis represents the learning rate, and the Y axis refers to the accuracy rate. And different colored polylines indicate different regularisation strength. \n",
    "\n",
    "When the learning rate is increased, the model will not fully converge, and it will continue to oscillate around the lowest point. The performance of the model will also decrease. As shown in the above figure, after the three polylines increase the learning rate, the accuracy of the model will be different decline. \n",
    "\n",
    "However, as the learning rate continues to increase again, the performance of the model will increase, mainly because there are other local minimum points in the direction of the gradient, and the model will converge to other local minimum values. (Think of the existence of many low-lying areas in the valley--the local minimum points, although the optimal solution is the global minimum point)."
   ]
  },
  {
   "cell_type": "markdown",
   "metadata": {},
   "source": [
    "**2. Relationship between training epochs and learning rate:** \n",
    "\n",
    "In simple terms, the smaller the learning rate, the more epochs are needed. But there are some special cases. **Epoch:** If there are too few epochs, there may be insufficient training, resulting in underfitting. If there are too many epochs, the loss may have already converged, and the extra epochs are too wasteful of time.\n",
    "**Learning rate:** Too large a learning rate will not only cause data overflow, but also cause the loss function to fail to converge. Too small a learning rate will consume training time. At the same time, the convex optimization problem should also be considered, otherwise, the loss function may fall into a local minimum. It can also be observed from the line chart below."
   ]
  },
  {
   "cell_type": "code",
   "execution_count": 38,
   "metadata": {
    "ExecuteTime": {
     "end_time": "2020-04-19T09:55:29.988181Z",
     "start_time": "2020-04-19T09:54:36.307183Z"
    }
   },
   "outputs": [
    {
     "data": {
      "image/png": "[encoded data removed]",
      "text/plain": [
       "<Figure size 432x288 with 1 Axes>"
      ]
     },
     "metadata": {
      "needs_background": "light"
     },
     "output_type": "display_data"
    }
   ],
   "source": [
    "# Run a training on a set of hyperparameters\n",
    "def get_score(lr,epoch):\n",
    "    w_tfidf, trl, devl = SGD(X_tr_tfidf, Y_tr, \n",
    "                         X_dev=X_dev_tfidf, \n",
    "                         Y_dev=Y_dev, \n",
    "                         lr=lr, \n",
    "                         alpha=0.0001, \n",
    "                         epochs=epoch,\n",
    "                         print_progress=False)\n",
    "    preds_dev = predict_class(X_dev_tfidf,w_tfidf)\n",
    "    return accuracy_score(Y_dev,preds_dev)\n",
    "\n",
    "# Initial hyperparameters\n",
    "fig = plt.figure()\n",
    "lrs_num = 5\n",
    "epochs_num = 3\n",
    "lrs = np.linspace(0.0001,1,lrs_num)\n",
    "epochs = np.linspace(10,200,epochs_num,dtype=int)\n",
    "\n",
    "# Run trainings on different sets of hyperparameters\n",
    "for i in range(epochs_num):\n",
    "    epoch = epochs[i]\n",
    "    tmp = list()\n",
    "    for j in range(lrs_num):\n",
    "        lr = lrs[j]\n",
    "        score = get_score(lr,epoch)\n",
    "        tmp.append(score)\n",
    "    plt.plot(lrs,tmp,label='epochs: {}'.format(epoch))\n",
    "    \n",
    "plt.xlabel('Learning rate')\n",
    "plt.ylabel('Accuracy Score')\n",
    "plt.title('Hyperparameters: learning_rate & epochs')\n",
    "\n",
    "plt.legend()\n",
    "plt.show()"
   ]
  },
  {
   "cell_type": "markdown",
   "metadata": {},
   "source": [
    "Observing the above figure, when the epochs is not enough which refers to underfitting, such as the start of the blue polyline, increasing the learning rate can greatly help the model to converge, thereby improving the model performance (accuracy). Increasing the learning rate may not converge to the lowest point, as shown by the green and orange lines in the figure. However, when it is increased again, it may converge to the new local minimum point, just like the orange and blue lines whose accuracy started to increase again with the learning rate around 0.7."
   ]
  },
  {
   "cell_type": "markdown",
   "metadata": {},
   "source": [
    "**3. Regularisation Strength:** \n",
    "\n",
    "Regularization prevents the classifier from overfitting by limiting the number of parameters. The regularization intensity refers to the size of the penalty. The higher the regularization intensity, the more limited the number of parameters. However, when the regularization intensity is too high, the loss function may not converge."
   ]
  },
  {
   "cell_type": "markdown",
   "metadata": {},
   "source": [
    "\n",
    "\n",
    "## Full Results\n",
    "\n",
    "Add here your results:\n",
    "\n",
    "| LR | Precision  | Recall  | F1-Score  |\n",
    "|:-:|:-:|:-:|:-:|\n",
    "| BOW-count  |0.831   |0.840   |0.835   |\n",
    "| BOW-tfidf  |0.855   |0.855   |0.855   |\n",
    "\n",
    "\n"
   ]
  },
  {
   "cell_type": "markdown",
   "metadata": {},
   "source": [
    "# Multi-class Logistic Regression \n",
    "\n",
    "Now you need to train a Multiclass Logistic Regression (MLR) Classifier by extending the Binary model you developed above. You will use the MLR model to perform topic classification on the AG news dataset consisting of three classes:"
   ]
  },
  {
   "cell_type": "markdown",
   "metadata": {},
   "source": [
    "- Class 1: World\n",
    "- Class 2: Sports\n",
    "- Class 3: Business"
   ]
  },
  {
   "cell_type": "markdown",
   "metadata": {},
   "source": [
    "You need to follow the same process as in Task 1 for data processing and feature extraction by reusing the functions you wrote."
   ]
  },
  {
   "cell_type": "code",
   "execution_count": 39,
   "metadata": {
    "ExecuteTime": {
     "end_time": "2020-04-19T09:55:30.000900Z",
     "start_time": "2020-04-19T09:55:29.989442Z"
    }
   },
   "outputs": [],
   "source": [
    "# Load dateset\n",
    "data_tr = pd.read_csv(\"./data_topic/train.csv\", header=None, names=['label','text'])\n",
    "data_te = pd.read_csv(\"./data_topic/test.csv\", header=None, names=['label','text'])\n",
    "data_dev = pd.read_csv(\"./data_topic/dev.csv\", header=None, names=['label','text'])"
   ]
  },
  {
   "cell_type": "code",
   "execution_count": 40,
   "metadata": {
    "ExecuteTime": {
     "end_time": "2020-04-19T09:55:30.009827Z",
     "start_time": "2020-04-19T09:55:30.002217Z"
    }
   },
   "outputs": [
    {
     "data": {
      "text/html": [
       "<div>\n",
       "<style scoped>\n",
       "    .dataframe tbody tr th:only-of-type {\n",
       "        vertical-align: middle;\n",
       "    }\n",
       "\n",
       "    .dataframe tbody tr th {\n",
       "        vertical-align: top;\n",
       "    }\n",
       "\n",
       "    .dataframe thead th {\n",
       "        text-align: right;\n",
       "    }\n",
       "</style>\n",
       "<table border=\"1\" class=\"dataframe\">\n",
       "  <thead>\n",
       "    <tr style=\"text-align: right;\">\n",
       "      <th></th>\n",
       "      <th>label</th>\n",
       "      <th>text</th>\n",
       "    </tr>\n",
       "  </thead>\n",
       "  <tbody>\n",
       "    <tr>\n",
       "      <th>0</th>\n",
       "      <td>1</td>\n",
       "      <td>Reuters - Venezuelans turned out early\\and in ...</td>\n",
       "    </tr>\n",
       "    <tr>\n",
       "      <th>1</th>\n",
       "      <td>1</td>\n",
       "      <td>Reuters - South Korean police used water canno...</td>\n",
       "    </tr>\n",
       "    <tr>\n",
       "      <th>2</th>\n",
       "      <td>1</td>\n",
       "      <td>Reuters - Thousands of Palestinian\\prisoners i...</td>\n",
       "    </tr>\n",
       "    <tr>\n",
       "      <th>3</th>\n",
       "      <td>1</td>\n",
       "      <td>AFP - Sporadic gunfire and shelling took place...</td>\n",
       "    </tr>\n",
       "    <tr>\n",
       "      <th>4</th>\n",
       "      <td>1</td>\n",
       "      <td>AP - Dozens of Rwandan soldiers flew into Suda...</td>\n",
       "    </tr>\n",
       "  </tbody>\n",
       "</table>\n",
       "</div>"
      ],
      "text/plain": [
       "   label                                               text\n",
       "0      1  Reuters - Venezuelans turned out early\\and in ...\n",
       "1      1  Reuters - South Korean police used water canno...\n",
       "2      1  Reuters - Thousands of Palestinian\\prisoners i...\n",
       "3      1  AFP - Sporadic gunfire and shelling took place...\n",
       "4      1  AP - Dozens of Rwandan soldiers flew into Suda..."
      ]
     },
     "execution_count": 40,
     "metadata": {},
     "output_type": "execute_result"
    }
   ],
   "source": [
    "data_tr.head()"
   ]
  },
  {
   "cell_type": "code",
   "execution_count": 41,
   "metadata": {
    "ExecuteTime": {
     "end_time": "2020-04-19T09:55:30.015979Z",
     "start_time": "2020-04-19T09:55:30.011187Z"
    }
   },
   "outputs": [],
   "source": [
    "X_tr_raw, Y_tr = transform(data_tr)\n",
    "X_te_raw, Y_te = transform(data_te)\n",
    "X_dev_raw, Y_dev = transform(data_dev)"
   ]
  },
  {
   "cell_type": "code",
   "execution_count": 42,
   "metadata": {
    "ExecuteTime": {
     "end_time": "2020-04-19T09:55:30.299513Z",
     "start_time": "2020-04-19T09:55:30.017044Z"
    }
   },
   "outputs": [
    {
     "name": "stdout",
     "output_type": "stream",
     "text": [
      "5000\n",
      "\n",
      "['reuters', 'said', 'tuesday', 'new', 'wednesday', 'after', 'athens', 'ap', 'monday', 'first', 'their', 'us', 'olympic', 'york', ('new', 'york'), 'two', 'over', 'but', 'oil', 'inc', 'more', 'prices', 'year', 'company', 'world', 'gt', 'lt', 'than', 'aug', 'about', 'had', 'one', 'united', 'out', 'sunday', 'against', 'up', 'quot', 'into', 'fullquote', 'second', 'last', 'stocks', 'team', 'president', 'gold', 'percent', 'iraq', 'three', 'when', 'greece', 'night', ('york', 'reuters'), ('new', 'york', 'reuters'), 'time', 'not', 'no', 'games', 'yesterday', 'home', 'olympics', 'washington', 'states', 'off', ('united', 'states'), 'google', ('oil', 'prices'), 'day', 'public', 'billion', 'record', ('athens', 'reuters'), 'week', 'win', 'all', 'men', 'government', 'won', ('said', 'tuesday'), 'najaf', 'american', 'years', 'officials', 'today', 'city', 'would', 'shares', 'offering', 'people', 'final', 'medal', 'minister', 'afp', 'corp', 'sales', 'million', 'back', 'four', 'investor', 'com']\n",
      "\n",
      "[('reuters', 631), ('said', 432), ('tuesday', 413), ('wednesday', 344), ('new', 325), ('after', 295), ('ap', 275), ('athens', 245), ('monday', 221), ('first', 210)]\n"
     ]
    }
   ],
   "source": [
    "vocab, df, ngram_counts = get_vocab(X_tr_raw, ngram_range=(1,3), keep_topN=5000, stop_words=stop_words)\n",
    "print(len(vocab))\n",
    "print()\n",
    "print(list(vocab)[:100])\n",
    "print()\n",
    "print(df.most_common()[:10])"
   ]
  },
  {
   "cell_type": "code",
   "execution_count": 43,
   "metadata": {
    "ExecuteTime": {
     "end_time": "2020-04-19T09:55:36.558940Z",
     "start_time": "2020-04-19T09:55:30.300673Z"
    }
   },
   "outputs": [],
   "source": [
    "vocab_tr, df_tr, ngram_counts_tr = get_vocab(X_tr_raw, ngram_range=(1,3), keep_topN=5000, stop_words=stop_words)\n",
    "vocab_dev, df_dev, ngram_counts_dev = get_vocab(X_dev_raw, ngram_range=(1,3), keep_topN=5000, stop_words=stop_words)\n",
    "vocab_te, df_te, ngram_counts_te = get_vocab(X_te_raw, ngram_range=(1,3), keep_topN=5000, stop_words=stop_words)\n",
    "\n",
    "X_tr_ngram = [extract_ngrams(line,ngram_range=(1,3),stop_words=stop_words) for line in X_tr_raw]\n",
    "X_te_ngram = [extract_ngrams(line,ngram_range=(1,3),stop_words=stop_words) for line in X_te_raw]\n",
    "X_dev_ngram = [extract_ngrams(line,ngram_range=(1,3),stop_words=stop_words) for line in X_dev_raw]\n",
    "\n",
    "X_tr_count = vectorise(X_tr_ngram, vocab_tr)\n",
    "X_te_count = vectorise(X_te_ngram, vocab_tr)\n",
    "X_dev_count = vectorise(X_dev_ngram, vocab_tr)"
   ]
  },
  {
   "cell_type": "markdown",
   "metadata": {},
   "source": [
    "Now you need to change `SGD` to support multiclass datasets. First you need to develop a `softmax` function. It takes as input:\n",
    "\n",
    "- `z`: array of real numbers \n",
    "\n",
    "and returns:\n",
    "\n",
    "- `smax`: the softmax of `z`"
   ]
  },
  {
   "cell_type": "code",
   "execution_count": 44,
   "metadata": {
    "ExecuteTime": {
     "end_time": "2020-04-19T09:55:36.563982Z",
     "start_time": "2020-04-19T09:55:36.560202Z"
    }
   },
   "outputs": [],
   "source": [
    "def softmax(z):\n",
    "    \n",
    "    '''Calculate softmax results\n",
    "    \n",
    "    In order to avoid data overflow, the corresponding data boundary is added.\n",
    "    Since np.exp() is a `np.float64` operation function, so we need to avoid overflow.\n",
    "    It is easy to find out the boundary of `np.float64` by calling np.finfo(np.float64).\n",
    "    Usually, it should be written as `np.minimum(np.exp(z),np.finfo(np.float64).max)`,\n",
    "    but I prefer to written inside the exp function, since it somehow can be faster.\n",
    "    For the input of np.exp(), it should not be greater than 709.782 to ensure that the\n",
    "    output will not overflow.\n",
    "    \n",
    "    Returns:\n",
    "        z: the same size of z.\n",
    "    '''\n",
    "    \n",
    "    z = z.copy()\n",
    "    z = np.minimum(z,709.782)\n",
    "    smax = np.exp(z) / np.sum(np.exp(z),axis=1,keepdims=True)\n",
    "    \n",
    "    return smax"
   ]
  },
  {
   "cell_type": "markdown",
   "metadata": {},
   "source": [
    "Then modify `predict_proba` and `predict_class` functions for the multiclass case:"
   ]
  },
  {
   "cell_type": "code",
   "execution_count": 45,
   "metadata": {
    "ExecuteTime": {
     "end_time": "2020-04-19T09:55:36.572608Z",
     "start_time": "2020-04-19T09:55:36.565103Z"
    }
   },
   "outputs": [],
   "source": [
    "def predict_proba(X, weights):\n",
    "    \n",
    "    preds_proba = X.dot(weights.T)\n",
    "    assert preds_proba.shape == (X.shape[0],weights.shape[0])\n",
    "    \n",
    "    return softmax(preds_proba)"
   ]
  },
  {
   "cell_type": "code",
   "execution_count": 46,
   "metadata": {
    "ExecuteTime": {
     "end_time": "2020-04-19T09:55:36.578587Z",
     "start_time": "2020-04-19T09:55:36.573805Z"
    }
   },
   "outputs": [],
   "source": [
    "def predict_class(X, weights):\n",
    "    \n",
    "    preds_class = np.argmax(predict_proba(X, weights),axis=1)+1\n",
    "    \n",
    "    assert preds_class.shape == (X.shape[0],)\n",
    "    \n",
    "    return preds_class"
   ]
  },
  {
   "cell_type": "markdown",
   "metadata": {},
   "source": [
    "Toy example and expected functionality of the functions above:"
   ]
  },
  {
   "cell_type": "code",
   "execution_count": 47,
   "metadata": {
    "ExecuteTime": {
     "end_time": "2020-04-19T09:55:36.588083Z",
     "start_time": "2020-04-19T09:55:36.579837Z"
    }
   },
   "outputs": [],
   "source": [
    "X = np.array([[0.1,0.2],[0.2,0.1],[0.1,-0.2]])\n",
    "w = np.array([[2,-5],[-5,2]])"
   ]
  },
  {
   "cell_type": "code",
   "execution_count": 48,
   "metadata": {
    "ExecuteTime": {
     "end_time": "2020-04-19T09:55:36.600258Z",
     "start_time": "2020-04-19T09:55:36.591613Z"
    }
   },
   "outputs": [
    {
     "data": {
      "text/plain": [
       "array([[0.33181223, 0.66818777],\n",
       "       [0.66818777, 0.33181223],\n",
       "       [0.89090318, 0.10909682]])"
      ]
     },
     "execution_count": 48,
     "metadata": {},
     "output_type": "execute_result"
    }
   ],
   "source": [
    "predict_proba(X, w)"
   ]
  },
  {
   "cell_type": "code",
   "execution_count": 49,
   "metadata": {
    "ExecuteTime": {
     "end_time": "2020-04-19T09:55:36.609080Z",
     "start_time": "2020-04-19T09:55:36.601636Z"
    }
   },
   "outputs": [
    {
     "data": {
      "text/plain": [
       "array([2, 1, 1])"
      ]
     },
     "execution_count": 49,
     "metadata": {},
     "output_type": "execute_result"
    }
   ],
   "source": [
    "predict_class(X, w)"
   ]
  },
  {
   "cell_type": "markdown",
   "metadata": {},
   "source": [
    "Now you need to compute the categorical cross entropy loss (extending the binary loss to support multiple classes)."
   ]
  },
  {
   "cell_type": "code",
   "execution_count": 50,
   "metadata": {
    "ExecuteTime": {
     "end_time": "2020-04-19T09:55:36.616450Z",
     "start_time": "2020-04-19T09:55:36.610129Z"
    }
   },
   "outputs": [],
   "source": [
    "def categorical_loss(X, Y, weights, num_classes=5, alpha=0.00001):\n",
    "    \n",
    "    '''1. Calculate the probability\n",
    "       2. Calculate the Euclidean distance between label and probability\n",
    "       3. Calculate the average distance\n",
    "       \n",
    "    Here I use `esp` to represent the smallest data unit of the data type. \n",
    "    The main function of `esp` is to ensure the rationality of arithmetic \n",
    "    operations. For example, in the division operation, add `esp` to the \n",
    "    denominator to ensure that the denominator is not 0, and it does not \n",
    "    affect the data result. This is the habit I developed when I wrote Matlab\n",
    "    in my undergraduate period. `esp` is more common in Matlab.\n",
    "    \n",
    "    Args:\n",
    "        eps: the minimum value in the current data type. Used to ensure\n",
    "            that the input of the log function is greater than 0.\n",
    "        preds_proba: Probability of each data, the same\n",
    "            size of input data.(X.shape[0])\n",
    "\n",
    "    Returns:\n",
    "        l: Used to save losses and calculate the average at the end\n",
    "    '''\n",
    "    \n",
    "    assert Y.shape[0] == X.shape[0]\n",
    "    eps = np.finfo(np.float64).eps\n",
    "    preds_proba = predict_proba(X, weights)\n",
    "    Y = np.eye(weights.shape[0],weights.shape[0])[Y-1].reshape(X.shape[0],weights.shape[0])\n",
    "    l1 = -np.sum(Y*np.log10(preds_proba+eps),1) \n",
    "    l2 = alpha*np.sum(np.multiply(weights,weights))\n",
    "    l=np.mean(l1)+l2/X.shape[0]\n",
    "    \n",
    "    return l"
   ]
  },
  {
   "cell_type": "code",
   "execution_count": 51,
   "metadata": {
    "ExecuteTime": {
     "end_time": "2020-04-19T09:55:36.622560Z",
     "start_time": "2020-04-19T09:55:36.617543Z"
    }
   },
   "outputs": [],
   "source": [
    "def gradient(X, Y, weights, alpha=0.00001):\n",
    "    \n",
    "    '''Only calculate the gradient of the corresponding position\n",
    "    \n",
    "    Args: \n",
    "        m: the total number of the dataset sample.\n",
    "        h: an numpy array of prediction corresponding to the\n",
    "            dataset points. Shape (#dataset,1)\n",
    "            \n",
    "    Returns:\n",
    "        dw: the corresponding gradient. Shape the same with \n",
    "            weight.\n",
    "    '''\n",
    "    \n",
    "    m = len(X)\n",
    "    Y_c = Y.copy()\n",
    "    Y = np.eye(weights.shape[0],weights.shape[0])[Y-1].reshape(X.shape[0],weights.shape[0])\n",
    "    h = predict_proba(X, weights)\n",
    "    dw = -np.dot(np.sum(Y-Y*h,axis=1),X) + 2*alpha*weights[(Y_c-1).item()]\n",
    "    \n",
    "    return dw/m"
   ]
  },
  {
   "cell_type": "markdown",
   "metadata": {},
   "source": [
    "Finally you need to modify SGD to support the categorical cross entropy loss:"
   ]
  },
  {
   "cell_type": "code",
   "execution_count": 52,
   "metadata": {
    "ExecuteTime": {
     "end_time": "2020-04-19T09:55:36.632588Z",
     "start_time": "2020-04-19T09:55:36.623738Z"
    }
   },
   "outputs": [],
   "source": [
    "def SGD(X_tr, Y_tr, X_dev=[], Y_dev=[], num_classes=5, lr=0.01, alpha=0.00001, epochs=5, tolerance=0.001, print_progress=True):\n",
    "    \n",
    "    cur_loss_tr = 1.\n",
    "    cur_loss_dev = 1.\n",
    "    training_loss_history = []\n",
    "    validation_loss_history = []\n",
    "    \n",
    "    # Stage 1: Init weights\n",
    "    weights = np.zeros((num_classes,X_tr.shape[1]))\n",
    "    \n",
    "    # Stage 2: Init stochastic value\n",
    "    idx_list = np.array(range(X_tr.shape[0]))\n",
    "    \n",
    "    # Stage 3: Training\n",
    "    for epoch in range(epochs):\n",
    "        np.random.shuffle(idx_list) # disorder dataset\n",
    "        for i in idx_list:\n",
    "            X_tr_i, Y_tr_i = X_tr[i].reshape(1,-1),Y_tr[i].reshape(1,-1) # get a single data pair\n",
    "            dw = gradient(X_tr_i, Y_tr_i, weights, alpha) # gradient\n",
    "            weights[(Y_tr_i-1).item()] -= lr*dw # update       \n",
    "        loss_dev = categorical_loss(X_dev, Y_dev, weights, num_classes, alpha)\n",
    "        loss_tr = categorical_loss(X_tr, Y_tr, weights, num_classes, alpha)\n",
    "\n",
    "        # Add history\n",
    "        training_loss_history.append(loss_tr)\n",
    "        validation_loss_history.append(loss_dev)\n",
    "        \n",
    "        if print_progress == True: \n",
    "            print(\"Epoch: %d| Training loss: %f| Validation loss: %f\"%(epoch,loss_tr,loss_dev))\n",
    "            \n",
    "        if epoch >1 and abs(validation_loss_history[-2]-validation_loss_history[-1]) <= tolerance:\n",
    "            break\n",
    "\n",
    "    return weights, training_loss_history, validation_loss_history"
   ]
  },
  {
   "cell_type": "markdown",
   "metadata": {},
   "source": [
    "Now you are ready to train and evaluate you MLR following the same steps as in Task 1 for both Count and tfidf features:"
   ]
  },
  {
   "cell_type": "code",
   "execution_count": 53,
   "metadata": {
    "ExecuteTime": {
     "end_time": "2020-04-19T09:55:47.689905Z",
     "start_time": "2020-04-19T09:55:36.633720Z"
    },
    "scrolled": true
   },
   "outputs": [
    {
     "name": "stdout",
     "output_type": "stream",
     "text": [
      "Epoch: 0| Training loss: 0.410661| Validation loss: 0.439247\n",
      "Epoch: 1| Training loss: 0.368637| Validation loss: 0.410634\n",
      "Epoch: 2| Training loss: 0.337847| Validation loss: 0.387376\n",
      "Epoch: 3| Training loss: 0.313983| Validation loss: 0.368050\n",
      "Epoch: 4| Training loss: 0.294851| Validation loss: 0.351723\n",
      "Epoch: 5| Training loss: 0.279054| Validation loss: 0.337735\n",
      "Epoch: 6| Training loss: 0.265740| Validation loss: 0.325617\n",
      "Epoch: 7| Training loss: 0.254328| Validation loss: 0.315016\n",
      "Epoch: 8| Training loss: 0.244400| Validation loss: 0.305661\n",
      "Epoch: 9| Training loss: 0.235646| Validation loss: 0.297329\n",
      "Epoch: 10| Training loss: 0.227854| Validation loss: 0.289844\n",
      "Epoch: 11| Training loss: 0.220857| Validation loss: 0.283103\n",
      "Epoch: 12| Training loss: 0.214522| Validation loss: 0.276969\n",
      "Epoch: 13| Training loss: 0.208742| Validation loss: 0.271358\n",
      "Epoch: 14| Training loss: 0.203437| Validation loss: 0.266208\n",
      "Epoch: 15| Training loss: 0.198552| Validation loss: 0.261471\n",
      "Epoch: 16| Training loss: 0.194028| Validation loss: 0.257085\n",
      "Epoch: 17| Training loss: 0.189822| Validation loss: 0.253016\n",
      "Epoch: 18| Training loss: 0.185897| Validation loss: 0.249232\n",
      "Epoch: 19| Training loss: 0.182211| Validation loss: 0.245674\n",
      "Epoch: 20| Training loss: 0.178755| Validation loss: 0.242354\n",
      "Epoch: 21| Training loss: 0.175495| Validation loss: 0.239230\n",
      "Epoch: 22| Training loss: 0.172410| Validation loss: 0.236284\n",
      "Epoch: 23| Training loss: 0.169492| Validation loss: 0.233508\n",
      "Epoch: 24| Training loss: 0.166720| Validation loss: 0.230878\n",
      "Epoch: 25| Training loss: 0.164091| Validation loss: 0.228403\n",
      "Epoch: 26| Training loss: 0.161585| Validation loss: 0.226052\n",
      "Epoch: 27| Training loss: 0.159193| Validation loss: 0.223813\n",
      "Epoch: 28| Training loss: 0.156909| Validation loss: 0.221685\n",
      "Epoch: 29| Training loss: 0.154721| Validation loss: 0.219655\n",
      "Epoch: 30| Training loss: 0.152625| Validation loss: 0.217726\n",
      "Epoch: 31| Training loss: 0.150611| Validation loss: 0.215872\n",
      "Epoch: 32| Training loss: 0.148680| Validation loss: 0.214112\n",
      "Epoch: 33| Training loss: 0.146817| Validation loss: 0.212414\n",
      "Epoch: 34| Training loss: 0.145027| Validation loss: 0.210791\n",
      "Epoch: 35| Training loss: 0.143300| Validation loss: 0.209239\n",
      "Epoch: 36| Training loss: 0.141633| Validation loss: 0.207742\n",
      "Epoch: 37| Training loss: 0.140026| Validation loss: 0.206313\n",
      "Epoch: 38| Training loss: 0.138469| Validation loss: 0.204927\n",
      "Epoch: 39| Training loss: 0.136965| Validation loss: 0.203602\n",
      "Epoch: 40| Training loss: 0.135509| Validation loss: 0.202320\n",
      "Epoch: 41| Training loss: 0.134096| Validation loss: 0.201081\n",
      "Epoch: 42| Training loss: 0.132730| Validation loss: 0.199895\n",
      "Epoch: 43| Training loss: 0.131402| Validation loss: 0.198746\n",
      "Epoch: 44| Training loss: 0.130109| Validation loss: 0.197624\n",
      "Epoch: 45| Training loss: 0.128856| Validation loss: 0.196546\n",
      "Epoch: 46| Training loss: 0.127639| Validation loss: 0.195505\n",
      "Epoch: 47| Training loss: 0.126453| Validation loss: 0.194496\n",
      "Epoch: 48| Training loss: 0.125298| Validation loss: 0.193514\n"
     ]
    }
   ],
   "source": [
    "w_count, loss_tr_count, dev_loss_count = SGD(X_tr_count, Y_tr, \n",
    "                                             X_dev=X_dev_count, \n",
    "                                             Y_dev=Y_dev,\n",
    "                                             num_classes=3,\n",
    "                                             lr=0.001, \n",
    "                                             alpha=0.0001, \n",
    "                                             epochs=200)"
   ]
  },
  {
   "cell_type": "markdown",
   "metadata": {},
   "source": [
    "Plot training and validation process and explain if your model overfit, underfit or is about right:"
   ]
  },
  {
   "cell_type": "code",
   "execution_count": 54,
   "metadata": {
    "ExecuteTime": {
     "end_time": "2020-04-19T09:55:47.867394Z",
     "start_time": "2020-04-19T09:55:47.692182Z"
    }
   },
   "outputs": [
    {
     "data": {
      "image/png": "[encoded data removed]",
      "text/plain": [
       "<Figure size 432x288 with 1 Axes>"
      ]
     },
     "metadata": {
      "needs_background": "light"
     },
     "output_type": "display_data"
    }
   ],
   "source": [
    "# Plot loss\n",
    "%matplotlib inline\n",
    "fig = plt.figure()\n",
    "plt.plot(range(len(loss_tr_count)),loss_tr_count,label='training loss')\n",
    "plt.plot(range(len(dev_loss_count)),dev_loss_count,label='validation loss')\n",
    "\n",
    "plt.xlabel('Epochs')\n",
    "plt.ylabel('Loss')\n",
    "plt.title('Training Monitoring')\n",
    "\n",
    "plt.legend()\n",
    "plt.show()"
   ]
  },
  {
   "cell_type": "markdown",
   "metadata": {},
   "source": [
    "Compute accuracy, precision, recall and F1-scores:"
   ]
  },
  {
   "cell_type": "code",
   "execution_count": 55,
   "metadata": {
    "ExecuteTime": {
     "end_time": "2020-04-19T09:55:47.886239Z",
     "start_time": "2020-04-19T09:55:47.868729Z"
    }
   },
   "outputs": [
    {
     "name": "stdout",
     "output_type": "stream",
     "text": [
      "Accuracy: 0.8466666666666667\n",
      "Precision: 0.8508050575599119\n",
      "Recall: 0.8466666666666667\n",
      "F1-Score: 0.8459211261526534\n"
     ]
    }
   ],
   "source": [
    "# Evaluate on test dataset\n",
    "preds_te = predict_class(X_te_count,w_count)\n",
    "\n",
    "print('Accuracy:', accuracy_score(Y_te,preds_te))\n",
    "print('Precision:', precision_score(Y_te,preds_te,average='macro'))\n",
    "print('Recall:', recall_score(Y_te,preds_te,average='macro'))\n",
    "print('F1-Score:', f1_score(Y_te,preds_te,average='macro'))"
   ]
  },
  {
   "cell_type": "markdown",
   "metadata": {},
   "source": [
    "Print the top-10 words for each class respectively."
   ]
  },
  {
   "cell_type": "code",
   "execution_count": 56,
   "metadata": {
    "ExecuteTime": {
     "end_time": "2020-04-19T09:55:47.897131Z",
     "start_time": "2020-04-19T09:55:47.888240Z"
    }
   },
   "outputs": [
    {
     "name": "stdout",
     "output_type": "stream",
     "text": [
      "Class 1:\n",
      "['said', 'tuesday', 'reuters', 'new', 'ap', 'after', 'monday', 'wednesday', 'athens', 'their'] \n",
      "\n",
      "Class 2:\n",
      "['athens', 'ap', 'reuters', 'tuesday', 'olympic', 'after', 'first', 'team', 'new', 'wednesday'] \n",
      "\n",
      "Class 3:\n",
      "['reuters', 'said', 'new', 'tuesday', 'oil', 'company', 'after', 'wednesday', 'prices', 'us'] \n",
      "\n"
     ]
    }
   ],
   "source": [
    "# Stort the index by weight parameters \n",
    "sorted_index = w_count.copy().argsort()[:,-10:][:,::-1]\n",
    "for class_i in range(len(sorted_index)):\n",
    "    print(\"Class {}:\".format(class_i+1))\n",
    "    top_neg_ngram = [vocab[i] for i in sorted_index[class_i]]\n",
    "    print(top_neg_ngram,'\\n')"
   ]
  },
  {
   "cell_type": "markdown",
   "metadata": {},
   "source": [
    "### Discuss how did you choose model hyperparameters (e.g. learning rate and regularisation strength)? What is the relation between training epochs and learning rate? How the regularisation strength affects performance?"
   ]
  },
  {
   "cell_type": "markdown",
   "metadata": {},
   "source": [
    "**1. Choose Model Hyperparameters:**\n",
    "\n",
    "To choose hyperparameters, like learning rate and regularisation strength alpha, thay can be found by drawing a line chart. Basically, use grid search to find the optimal hyperparameters. This method is simple but time-consuming. Ideally, cross-validation should be used to screen the optimal hyperparameters, but because the training and validation sets have been divided, cross-validation is not very convenient.(Code of grid search is given below)\n",
    "\n",
    "**note:** The following hyperparameter optimization has limitations. Only a fixed training set and verification set are used. Ideally, it should be divided into multiple groups and cross-validation should be used. Specifically, Leave-One-Out Cross-Validation ([LOOCV](https://en.wikipedia.org/wiki/Cross-validation_(statistics)#Leave-one-out_cross-validation)) is used when drawing."
   ]
  },
  {
   "cell_type": "code",
   "execution_count": 57,
   "metadata": {
    "ExecuteTime": {
     "end_time": "2020-04-19T09:57:01.455567Z",
     "start_time": "2020-04-19T09:55:47.899300Z"
    }
   },
   "outputs": [
    {
     "data": {
      "image/png": "[encoded data removed]",
      "text/plain": [
       "<Figure size 432x288 with 1 Axes>"
      ]
     },
     "metadata": {
      "needs_background": "light"
     },
     "output_type": "display_data"
    }
   ],
   "source": [
    "# Run a training on a set of hyperparameters\n",
    "def get_score(lr,alpha):\n",
    "    w, trl, devl = SGD(X_tr_count, Y_tr, \n",
    "                         X_dev=X_dev_count, \n",
    "                         Y_dev=Y_dev, \n",
    "                         num_classes=3,\n",
    "                         lr=lr, \n",
    "                         alpha=alpha, \n",
    "                         epochs=200,\n",
    "                         print_progress=False)\n",
    "    preds_dev = predict_class(X_dev_count,w)\n",
    "    return accuracy_score(Y_dev,preds_dev)\n",
    "\n",
    "# Initial hyperparameters\n",
    "fig = plt.figure()\n",
    "lrs_num = 4\n",
    "alphas_num = 3\n",
    "lrs = np.linspace(0.0001,0.1,lrs_num)\n",
    "alphas = np.linspace(0.,0.01,alphas_num)\n",
    "\n",
    "# Run trainings on different sets of hyperparameters\n",
    "for i in range(alphas_num):\n",
    "    alpha = alphas[i]\n",
    "    tmp = list()\n",
    "    for j in range(lrs_num):\n",
    "        lr = lrs[j]\n",
    "        score = get_score(lr, alpha)\n",
    "        tmp.append(score)\n",
    "    plt.plot(lrs,tmp,label='alpha: {}'.format(alpha))\n",
    "\n",
    "plt.xlabel('Learning rate')\n",
    "plt.ylabel('Accuracy Score')\n",
    "plt.title('Hyperparameters: learning_rate & alpha')\n",
    "\n",
    "plt.legend()\n",
    "plt.show()"
   ]
  },
  {
   "cell_type": "markdown",
   "metadata": {},
   "source": [
    "As can be seen from the above figure, appropriately increasing the learning rate can make the model converge better and the model effect is better. After the three polylines increase the learning rate, they all reach their peak accuracy rates. \n",
    "\n",
    "However, when the learning rate is increased again, the effectiveness of the model is reduced. This is mainly because the excessive learning rate will cause the value of the loss function to continuously oscillate around the local minimum point and fail to converge to a lower point.\n",
    "\n",
    "As for the regularisation strength, there is little difference before the model has converged to the lowest point. When the learning rate reaches about 0.03, the effect of regularization begins to appear. Compared with the binary classification problem, the regularization effect is more obvious in the case of multiple classifications. For example, in the figure above, when the learning rate is around 0.07, the accuracy of the orange and green polylines is higher than that of the blue polylines, where the regularization coefficient of the blue polylines is 0. In addition, the model corresponding to the orange line performs better than the model corresponding to the green line. This shows that the regularization coefficient needs to be appropriate. If it is too large or too small, it will reduce the generalization ability of the model."
   ]
  },
  {
   "cell_type": "markdown",
   "metadata": {
    "ExecuteTime": {
     "end_time": "2020-04-18T10:47:49.337519Z",
     "start_time": "2020-04-18T10:47:49.329092Z"
    }
   },
   "source": [
    "**2. Relationship between training epochs and learning rate:** \n",
    "\n",
    "In simple terms, the smaller the learning rate, the more epochs are needed. But there are some special cases. **Epoch:** If there are too few epochs, there may be insufficient training, resulting in underfitting. If there are too many epochs, the loss may have already converged, and the extra epochs are too wasteful of time.\n",
    "**Learning rate:** Too large a learning rate will not only cause data overflow, but also cause the loss function to fail to converge. Too small a learning rate will consume training time. At the same time, the convex optimization problem should also be considered, otherwise, the loss function may fall into a local minimum. It can also be observed from the line chart below."
   ]
  },
  {
   "cell_type": "code",
   "execution_count": 58,
   "metadata": {
    "ExecuteTime": {
     "end_time": "2020-04-19T09:57:56.461820Z",
     "start_time": "2020-04-19T09:57:01.456928Z"
    }
   },
   "outputs": [
    {
     "data": {
      "image/png": "[encoded data removed]",
      "text/plain": [
       "<Figure size 432x288 with 1 Axes>"
      ]
     },
     "metadata": {
      "needs_background": "light"
     },
     "output_type": "display_data"
    }
   ],
   "source": [
    "# Run a training on a set of hyperparameters\n",
    "def get_score(lr,epoch):\n",
    "    w, trl, devl = SGD(X_tr_count, Y_tr, \n",
    "                         X_dev=X_dev_count, \n",
    "                         Y_dev=Y_dev, \n",
    "                         num_classes=3,\n",
    "                         lr=lr, \n",
    "                         alpha=0.005, \n",
    "                         epochs=epoch,\n",
    "                         print_progress=False)\n",
    "    preds_dev = predict_class(X_dev_count,w)\n",
    "    return accuracy_score(Y_dev,preds_dev)\n",
    "\n",
    "# Initial hyperparameters\n",
    "fig = plt.figure()\n",
    "lrs_num = 5\n",
    "epochs_num = 3\n",
    "lrs = np.linspace(0.0001,0.1,lrs_num)\n",
    "epochs = np.linspace(10,200,epochs_num,dtype=int)\n",
    "\n",
    "# Run trainings on different sets of hyperparameters\n",
    "for i in range(epochs_num):\n",
    "    epoch = epochs[i]\n",
    "    tmp = list()\n",
    "    for j in range(lrs_num):\n",
    "        lr = lrs[j]\n",
    "        score = get_score(lr,epoch)\n",
    "        tmp.append(score)\n",
    "    plt.plot(lrs,tmp,label='epochs: {}'.format(epoch))\n",
    "    \n",
    "plt.xlabel('Learning rate')\n",
    "plt.ylabel('Accuracy Score')\n",
    "plt.title('Hyperparameters: learning_rate & epochs')\n",
    "\n",
    "plt.legend()\n",
    "plt.show()"
   ]
  },
  {
   "cell_type": "markdown",
   "metadata": {},
   "source": [
    "Observing the above figure, when the epochs is not enough which refers to underfitting, such as the start of all three polylines, increasing the learning rate can greatly help the model to converge, thereby improving the model performance (accuracy). Increasing the learning rate may not converge to the lowest point, as shown by all three lines in the figure. After continuing to increase the learning rate, the performance of all the models corresponding to the line has decreased to varying degrees. However, when it is increased again, it may converge to the new local minimum point, just like the orange line whose accuracy started to increase again with the learning rate around 0.1 and reach the performance peak again."
   ]
  },
  {
   "cell_type": "markdown",
   "metadata": {},
   "source": [
    "**3. Regularisation Strength:** \n",
    "\n",
    "Regularization prevents the classifier from overfitting by limiting the number of parameters. The regularization intensity refers to the size of the penalty. The higher the regularization intensity, the more limited the number of parameters. However, when the regularization intensity is too high, the loss function may not converge."
   ]
  },
  {
   "cell_type": "markdown",
   "metadata": {},
   "source": [
    "### Now evaluate BOW-tfidf..."
   ]
  },
  {
   "cell_type": "code",
   "execution_count": 59,
   "metadata": {
    "ExecuteTime": {
     "end_time": "2020-04-19T09:57:56.475716Z",
     "start_time": "2020-04-19T09:57:56.463030Z"
    }
   },
   "outputs": [],
   "source": [
    "idfs_tr = get_idfs(vocab_tr,df_tr,len(X_tr_raw))\n",
    "idfs_te = get_idfs(vocab_tr,df_te,len(X_te_raw))\n",
    "idfs_dev = get_idfs(vocab_tr,df_dev,len(X_dev_raw))"
   ]
  },
  {
   "cell_type": "code",
   "execution_count": 60,
   "metadata": {
    "ExecuteTime": {
     "end_time": "2020-04-19T09:57:56.503760Z",
     "start_time": "2020-04-19T09:57:56.476959Z"
    }
   },
   "outputs": [],
   "source": [
    "X_tr_tfidf = X_tr_count*idfs_tr\n",
    "X_te_tfidf = X_te_count*idfs_te\n",
    "X_dev_tfidf = X_dev_count*idfs_dev"
   ]
  },
  {
   "cell_type": "code",
   "execution_count": 61,
   "metadata": {
    "ExecuteTime": {
     "end_time": "2020-04-19T09:58:13.311413Z",
     "start_time": "2020-04-19T09:57:56.505071Z"
    },
    "scrolled": true
   },
   "outputs": [
    {
     "name": "stdout",
     "output_type": "stream",
     "text": [
      "Epoch: 0| Training loss: 0.455029| Validation loss: 0.466185\n",
      "Epoch: 1| Training loss: 0.436180| Validation loss: 0.456380\n",
      "Epoch: 2| Training loss: 0.419637| Validation loss: 0.447402\n",
      "Epoch: 3| Training loss: 0.404834| Validation loss: 0.439071\n",
      "Epoch: 4| Training loss: 0.391402| Validation loss: 0.431271\n",
      "Epoch: 5| Training loss: 0.379117| Validation loss: 0.423931\n",
      "Epoch: 6| Training loss: 0.367810| Validation loss: 0.416998\n",
      "Epoch: 7| Training loss: 0.357359| Validation loss: 0.410435\n",
      "Epoch: 8| Training loss: 0.347663| Validation loss: 0.404208\n",
      "Epoch: 9| Training loss: 0.338640| Validation loss: 0.398290\n",
      "Epoch: 10| Training loss: 0.330215| Validation loss: 0.392653\n",
      "Epoch: 11| Training loss: 0.322334| Validation loss: 0.387282\n",
      "Epoch: 12| Training loss: 0.314941| Validation loss: 0.382153\n",
      "Epoch: 13| Training loss: 0.307993| Validation loss: 0.377252\n",
      "Epoch: 14| Training loss: 0.301448| Validation loss: 0.372562\n",
      "Epoch: 15| Training loss: 0.295273| Validation loss: 0.368071\n",
      "Epoch: 16| Training loss: 0.289435| Validation loss: 0.363763\n",
      "Epoch: 17| Training loss: 0.283906| Validation loss: 0.359629\n",
      "Epoch: 18| Training loss: 0.278661| Validation loss: 0.355658\n",
      "Epoch: 19| Training loss: 0.273678| Validation loss: 0.351838\n",
      "Epoch: 20| Training loss: 0.268937| Validation loss: 0.348161\n",
      "Epoch: 21| Training loss: 0.264421| Validation loss: 0.344621\n",
      "Epoch: 22| Training loss: 0.260113| Validation loss: 0.341207\n",
      "Epoch: 23| Training loss: 0.255996| Validation loss: 0.337914\n",
      "Epoch: 24| Training loss: 0.252060| Validation loss: 0.334735\n",
      "Epoch: 25| Training loss: 0.248290| Validation loss: 0.331663\n",
      "Epoch: 26| Training loss: 0.244677| Validation loss: 0.328693\n",
      "Epoch: 27| Training loss: 0.241209| Validation loss: 0.325819\n",
      "Epoch: 28| Training loss: 0.237878| Validation loss: 0.323038\n",
      "Epoch: 29| Training loss: 0.234674| Validation loss: 0.320343\n",
      "Epoch: 30| Training loss: 0.231592| Validation loss: 0.317730\n",
      "Epoch: 31| Training loss: 0.228622| Validation loss: 0.315197\n",
      "Epoch: 32| Training loss: 0.225759| Validation loss: 0.312739\n",
      "Epoch: 33| Training loss: 0.222996| Validation loss: 0.310353\n",
      "Epoch: 34| Training loss: 0.220327| Validation loss: 0.308034\n",
      "Epoch: 35| Training loss: 0.217748| Validation loss: 0.305781\n",
      "Epoch: 36| Training loss: 0.215255| Validation loss: 0.303590\n",
      "Epoch: 37| Training loss: 0.212840| Validation loss: 0.301458\n",
      "Epoch: 38| Training loss: 0.210502| Validation loss: 0.299383\n",
      "Epoch: 39| Training loss: 0.208236| Validation loss: 0.297363\n",
      "Epoch: 40| Training loss: 0.206039| Validation loss: 0.295395\n",
      "Epoch: 41| Training loss: 0.203906| Validation loss: 0.293476\n",
      "Epoch: 42| Training loss: 0.201836| Validation loss: 0.291606\n",
      "Epoch: 43| Training loss: 0.199825| Validation loss: 0.289783\n",
      "Epoch: 44| Training loss: 0.197869| Validation loss: 0.288003\n",
      "Epoch: 45| Training loss: 0.195968| Validation loss: 0.286266\n",
      "Epoch: 46| Training loss: 0.194119| Validation loss: 0.284569\n",
      "Epoch: 47| Training loss: 0.192318| Validation loss: 0.282912\n",
      "Epoch: 48| Training loss: 0.190564| Validation loss: 0.281293\n",
      "Epoch: 49| Training loss: 0.188856| Validation loss: 0.279711\n",
      "Epoch: 50| Training loss: 0.187190| Validation loss: 0.278164\n",
      "Epoch: 51| Training loss: 0.185566| Validation loss: 0.276652\n",
      "Epoch: 52| Training loss: 0.183981| Validation loss: 0.275172\n",
      "Epoch: 53| Training loss: 0.182434| Validation loss: 0.273723\n",
      "Epoch: 54| Training loss: 0.180924| Validation loss: 0.272306\n",
      "Epoch: 55| Training loss: 0.179449| Validation loss: 0.270917\n",
      "Epoch: 56| Training loss: 0.178007| Validation loss: 0.269557\n",
      "Epoch: 57| Training loss: 0.176598| Validation loss: 0.268225\n",
      "Epoch: 58| Training loss: 0.175220| Validation loss: 0.266919\n",
      "Epoch: 59| Training loss: 0.173873| Validation loss: 0.265639\n",
      "Epoch: 60| Training loss: 0.172554| Validation loss: 0.264384\n",
      "Epoch: 61| Training loss: 0.171264| Validation loss: 0.263154\n",
      "Epoch: 62| Training loss: 0.170000| Validation loss: 0.261947\n",
      "Epoch: 63| Training loss: 0.168763| Validation loss: 0.260762\n",
      "Epoch: 64| Training loss: 0.167550| Validation loss: 0.259600\n",
      "Epoch: 65| Training loss: 0.166362| Validation loss: 0.258459\n",
      "Epoch: 66| Training loss: 0.165198| Validation loss: 0.257339\n",
      "Epoch: 67| Training loss: 0.164056| Validation loss: 0.256239\n",
      "Epoch: 68| Training loss: 0.162936| Validation loss: 0.255158\n",
      "Epoch: 69| Training loss: 0.161838| Validation loss: 0.254097\n",
      "Epoch: 70| Training loss: 0.160760| Validation loss: 0.253054\n",
      "Epoch: 71| Training loss: 0.159702| Validation loss: 0.252029\n",
      "Epoch: 72| Training loss: 0.158664| Validation loss: 0.251021\n",
      "Epoch: 73| Training loss: 0.157644| Validation loss: 0.250030\n"
     ]
    }
   ],
   "source": [
    "w_count, loss_tr_count, dev_loss_count = SGD(X_tr_tfidf, Y_tr, \n",
    "                                             X_dev=X_dev_tfidf, \n",
    "                                             Y_dev=Y_dev,\n",
    "                                             num_classes=3,\n",
    "                                             lr=0.0001, \n",
    "                                             alpha=0.001, \n",
    "                                             epochs=200)"
   ]
  },
  {
   "cell_type": "code",
   "execution_count": 62,
   "metadata": {
    "ExecuteTime": {
     "end_time": "2020-04-19T09:58:13.333427Z",
     "start_time": "2020-04-19T09:58:13.313482Z"
    }
   },
   "outputs": [
    {
     "name": "stdout",
     "output_type": "stream",
     "text": [
      "Accuracy: 0.8855555555555555\n",
      "Precision: 0.8872497496851856\n",
      "Recall: 0.8855555555555555\n",
      "F1-Score: 0.884978503362328\n"
     ]
    }
   ],
   "source": [
    "# Evaluate on test dataset\n",
    "preds_te = predict_class(X_te_tfidf,w_count).reshape(-1,1)\n",
    "\n",
    "print('Accuracy:', accuracy_score(Y_te,preds_te))\n",
    "print('Precision:', precision_score(Y_te,preds_te,average='macro'))\n",
    "print('Recall:', recall_score(Y_te,preds_te,average='macro'))\n",
    "print('F1-Score:', f1_score(Y_te,preds_te,average='macro'))"
   ]
  },
  {
   "cell_type": "code",
   "execution_count": 63,
   "metadata": {
    "ExecuteTime": {
     "end_time": "2020-04-19T09:58:13.348849Z",
     "start_time": "2020-04-19T09:58:13.335429Z"
    }
   },
   "outputs": [
    {
     "name": "stdout",
     "output_type": "stream",
     "text": [
      "Class 1:\n",
      "['said', 'tuesday', 'afp', 'ap', 'monday', 'president', 'reuters', 'after', 'their', 'people'] \n",
      "\n",
      "Class 2:\n",
      "['athens', 'olympic', 'ap', 'team', 'first', 'games', 'olympics', 'quot', 'night', 'two'] \n",
      "\n",
      "Class 3:\n",
      "['company', 'oil', 'new', 'reuters', 'said', 'prices', 'inc', 'us', 'tuesday', 'billion'] \n",
      "\n"
     ]
    }
   ],
   "source": [
    "# Stort the index by weight parameters \n",
    "sorted_index = w_count.copy().argsort()[:,-10:][:,::-1]\n",
    "for class_i in range(len(sorted_index)):\n",
    "    print(\"Class {}:\".format(class_i+1))\n",
    "    top_neg_ngram = [vocab[i] for i in sorted_index[class_i]]\n",
    "    print(top_neg_ngram, '\\n')"
   ]
  },
  {
   "cell_type": "markdown",
   "metadata": {},
   "source": [
    "## Full Results\n",
    "\n",
    "Add here your results:\n",
    "\n",
    "| LR | Precision  | Recall  | F1-Score  |\n",
    "|:-:|:-:|:-:|:-:|\n",
    "| BOW-count  |0.850   |0.846   |0.845   |\n",
    "| BOW-tfidf  |0.887   |0.885   |0.884   |\n"
   ]
  }
 ],
 "metadata": {
  "kernelspec": {
   "display_name": "Python 3",
   "language": "python",
   "name": "python3"
  },
  "language_info": {
   "codemirror_mode": {
    "name": "ipython",
    "version": 3
   },
   "file_extension": ".py",
   "mimetype": "text/x-python",
   "name": "python",
   "nbconvert_exporter": "python",
   "pygments_lexer": "ipython3",
   "version": "3.7.3"
  },
  "latex_envs": {
   "LaTeX_envs_menu_present": true,
   "autoclose": false,
   "autocomplete": true,
   "bibliofile": "biblio.bib",
   "cite_by": "apalike",
   "current_citInitial": 1,
   "eqLabelWithNumbers": true,
   "eqNumInitial": 1,
   "hotkeys": {
    "equation": "Ctrl-E",
    "itemize": "Ctrl-I"
   },
   "labels_anchors": false,
   "latex_user_defs": false,
   "report_style_numbering": false,
   "user_envs_cfg": false
  },
  "nbTranslate": {
   "displayLangs": [
    "en"
   ],
   "hotkey": "alt-t",
   "langInMainMenu": true,
   "sourceLang": "en",
   "targetLang": "zh-cn",
   "useGoogleTranslate": true
  },
  "toc": {
   "base_numbering": 1,
   "nav_menu": {},
   "number_sections": true,
   "sideBar": true,
   "skip_h1_title": false,
   "title_cell": "Table of Contents",
   "title_sidebar": "Contents",
   "toc_cell": false,
   "toc_position": {},
   "toc_section_display": true,
   "toc_window_display": false
  },
  "varInspector": {
   "cols": {
    "lenName": 16,
    "lenType": 16,
    "lenVar": 40
   },
   "kernels_config": {
    "python": {
     "delete_cmd_postfix": "",
     "delete_cmd_prefix": "del ",
     "library": "var_list.py",
     "varRefreshCmd": "print(var_dic_list())"
    },
    "r": {
     "delete_cmd_postfix": ") ",
     "delete_cmd_prefix": "rm(",
     "library": "var_list.r",
     "varRefreshCmd": "cat(var_dic_list()) "
    }
   },
   "types_to_exclude": [
    "module",
    "function",
    "builtin_function_or_method",
    "instance",
    "_Feature"
   ],
   "window_display": false
  }
 },
 "nbformat": 4,
 "nbformat_minor": 2
}
