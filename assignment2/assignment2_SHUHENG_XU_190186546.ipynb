{
 "cells": [
  {
   "cell_type": "markdown",
   "metadata": {},
   "source": [
    "# [COM4513-6513] Assignment 2: Text Classification with a Feedforward Network\n",
    "\n",
    "\n",
    "### Instructor: Nikos Aletras\n",
    "\n",
    "\n",
    "The goal of this assignment is to develop a Feedforward network for text classification. \n",
    "\n",
    "\n",
    "\n",
    "For that purpose, you will implement:\n",
    "\n",
    "- Text processing methods for transforming raw text data into input vectors for your network  (**1 mark**)\n",
    "- A Feedforward network consisting of:\n",
    "    - **One-hot** input layer mapping words into an **Embedding weight matrix** (**1 mark**)\n",
    "    - **One hidden layer** computing the mean embedding vector of all words in input followed by a **ReLU activation function** (**1 mark**)\n",
    "    - **Output layer** with a **softmax** activation. (**1 mark**)\n",
    "- The Stochastic Gradient Descent (SGD) algorithm with **back-propagation** to learn the weights of your Neural network. Your algorithm should:\n",
    "    - Use (and minimise) the **Categorical Cross-entropy loss** function (**1 mark**)\n",
    "    - Perform a **Forward pass** to compute intermediate outputs (**4 marks**)\n",
    "    - Perform a **Backward pass** to compute gradients and update all sets of weights (**4 marks**)\n",
    "    - Implement and use **Dropout** after each hidden layer for regularisation (**2 marks**)\n",
    "- Discuss how did you choose hyperparameters? You can tune the learning rate (hint: choose small values), embedding size {e.g. 50, 300, 500}, the dropout rate {e.g. 0.2, 0.5} and the learning rate. Please use tables or graphs to show training and validation performance for each hyperparam combination  (**2 marks**). \n",
    "- After training the model, plot the learning process (i.e. training and validation loss in each epoch) using a line plot and report accuracy.\n",
    "- Re-train your network by using pre-trained embeddings ([GloVe](https://nlp.stanford.edu/projects/glove/)) trained on large corpora. Instead of randomly initialising the embedding weights matrix, you should initialise it with the pre-trained weights. During training, you should not update them (i.e. weight freezing) and backprop should stop before computing gradients for updating embedding weights. Report results by performing hyperparameter tuning and plotting the learning process. Do you get better performance? (**3 marks**).\n",
    "\n",
    "- **BONUS:** Extend you Feedforward network by adding more hidden layers (e.g. one more). How does it affect the performance? Note: You need to repeat hyperparameter tuning, but the number of combinations grows exponentially. Therefore, you need to choose a subset of all possible combinations (**+2 extra marks**)\n",
    "\n",
    "\n",
    "\n",
    "### Data \n",
    "\n",
    "The data you will use for Task 2 is a subset of the [AG News Corpus](http://groups.di.unipi.it/~gulli/AG_corpus_of_news_articles.html) and you can find it in the `./data_topic` folder in CSV format:\n",
    "\n",
    "- `data_topic/train.csv`: contains 2,400 news articles, 800 for each class to be used for training.\n",
    "- `data_topic/dev.csv`: contains 150 news articles, 50 for each class to be used for hyperparameter selection and monitoring the training process.\n",
    "- `data_topic/test.csv`: contains 900 news articles, 300 for each class to be used for testing.\n",
    "\n",
    "### Pre-trained Embeddings\n",
    "\n",
    "You can download pre-trained GloVe embeddings trained on Common Crawl (840B tokens, 2.2M vocab, cased, 300d vectors, 2.03 GB download) from [here](http://nlp.stanford.edu/data/glove.840B.300d.zip). No need to unzip, the file is large.\n",
    "\n",
    "### Save Memory\n",
    "\n",
    "To save RAM, when you finish each experiment you can delete the weights of your network using `del W` followed by Python's garbage collector `gc.collect()`\n",
    "\n",
    "\n",
    "\n",
    "\n",
    "### Submission Instructions\n",
    "\n",
    "You should submit a Jupyter Notebook file (assignment2.ipynb) and an exported PDF version (you can do it from Jupyter: `File->Download as->PDF via Latex`).\n",
    "\n",
    "You are advised to follow the code structure given in this notebook by completing all given funtions. You can also write any auxilliary/helper functions (and arguments for the functions) that you might need but note that you can provide a full solution without any such functions. Similarly, you can just use only the packages imported below but you are free to use any functionality from the [Python Standard Library](https://docs.python.org/2/library/index.html), NumPy, SciPy and Pandas. You are not allowed to use any third-party library such as Scikit-learn (apart from metric functions already provided), NLTK, Spacy, Keras etc.. You are allowed to re-use your code from Assignment 1.\n",
    "\n",
    "Please make sure to comment your code. You should also mention if you've used Windows to write and test your code. There is no single correct answer on what your accuracy should be, but correct implementations usually achieve F1 of ~75-80% and ~85% without and with using pre-trained embeddings respectively. \n",
    "\n",
    "This assignment will be marked out of 20. It is worth 20\\% of your final grade in the module. If you implement the bonus question you can get up to 2 extra points but your final grade will be capped at 20.\n",
    "\n",
    "The deadline for this assignment is **23:59 on Mon, 18 May 2020** and it needs to be submitted via Blackboard (MOLE). Standard departmental penalties for lateness will be applied. We use a range of strategies to detect [unfair means](https://www.sheffield.ac.uk/ssid/unfair-means/index), including Turnitin which helps detect plagiarism, so make sure you do not plagiarise.\n",
    "\n"
   ]
  },
  {
   "cell_type": "code",
   "execution_count": 1,
   "metadata": {
    "ExecuteTime": {
     "end_time": "2020-05-20T21:49:01.760670Z",
     "start_time": "2020-05-20T21:49:01.170867Z"
    }
   },
   "outputs": [],
   "source": [
    "import pandas as pd\n",
    "import numpy as np\n",
    "from collections import Counter\n",
    "import re\n",
    "import matplotlib.pyplot as plt\n",
    "from sklearn.metrics import accuracy_score, precision_score, recall_score, f1_score\n",
    "import random\n",
    "from time import localtime, strftime\n",
    "from scipy.stats import spearmanr,pearsonr\n",
    "import zipfile\n",
    "import gc\n",
    "\n",
    "# fixing random seed for reproducibility\n",
    "random.seed(123)\n",
    "np.random.seed(123)\n"
   ]
  },
  {
   "cell_type": "markdown",
   "metadata": {},
   "source": [
    "## Transform Raw texts into training and development data\n",
    "\n",
    "First, you need to load the training, development and test sets from their corresponding CSV files (tip: you can use Pandas dataframes)."
   ]
  },
  {
   "cell_type": "code",
   "execution_count": 2,
   "metadata": {
    "ExecuteTime": {
     "end_time": "2020-05-20T21:49:01.775934Z",
     "start_time": "2020-05-20T21:49:01.762159Z"
    }
   },
   "outputs": [],
   "source": [
    "# Load dateset\n",
    "data_tr = pd.read_csv(\"./data_topic/train.csv\", header=None, names=['label','text'])\n",
    "data_te = pd.read_csv(\"./data_topic/test.csv\", header=None, names=['label','text'])\n",
    "data_dev = pd.read_csv(\"./data_topic/dev.csv\", header=None, names=['label','text'])"
   ]
  },
  {
   "cell_type": "code",
   "execution_count": 3,
   "metadata": {
    "ExecuteTime": {
     "end_time": "2020-05-20T21:49:01.782288Z",
     "start_time": "2020-05-20T21:49:01.777684Z"
    }
   },
   "outputs": [],
   "source": [
    "# transform test to list, and label to numpy arrays\n",
    "def transform(df):\n",
    "    return list(df['text']), df['label'].to_numpy().reshape(-1,1)-1\n",
    "\n",
    "X_tr_raw, Y_tr = transform(data_tr)\n",
    "X_te_raw, Y_te = transform(data_te)\n",
    "X_dev_raw, Y_dev = transform(data_dev)"
   ]
  },
  {
   "cell_type": "markdown",
   "metadata": {},
   "source": [
    "# Create input representations\n",
    "\n",
    "\n",
    "To train your Feedforward network, you first need to obtain input representations given a vocabulary. One-hot encoding requires large memory capacity. Therefore, we will instead represent documents as lists of vocabulary indices (each word corresponds to a vocabulary index). \n",
    "\n",
    "\n",
    "## Text Pre-Processing Pipeline\n",
    "\n",
    "To obtain a vocabulary of words. You should: \n",
    "- tokenise all texts into a list of unigrams (tip: you can re-use the functions from Assignment 1) \n",
    "- remove stop words (using the one provided or one of your preference) \n",
    "- remove unigrams appearing in less than K documents\n",
    "- use the remaining to create a vocabulary of the top-N most frequent unigrams in the entire corpus.\n"
   ]
  },
  {
   "cell_type": "code",
   "execution_count": 4,
   "metadata": {
    "ExecuteTime": {
     "end_time": "2020-05-20T21:49:01.791254Z",
     "start_time": "2020-05-20T21:49:01.783583Z"
    }
   },
   "outputs": [],
   "source": [
    "stop_words = ['a','in','on','at','and','or', \n",
    "              'to', 'the', 'of', 'an', 'by', \n",
    "              'as', 'is', 'was', 'were', 'been', 'be', \n",
    "              'are','for', 'this', 'that', 'these', 'those', 'you', 'i', 'if',\n",
    "             'it', 'he', 'she', 'we', 'they', 'will', 'have', 'has',\n",
    "              'do', 'did', 'can', 'could', 'who', 'which', 'what',\n",
    "              'but', 'not', 'there', 'no', 'does', 'not', 'so', 've', 'their',\n",
    "             'his', 'her', 'they', 'them', 'from', 'with', 'its']\n"
   ]
  },
  {
   "cell_type": "markdown",
   "metadata": {},
   "source": [
    "### Unigram extraction from a document\n",
    "\n",
    "You first need to implement the `extract_ngrams` function. It takes as input:\n",
    "- `x_raw`: a string corresponding to the raw text of a document\n",
    "- `ngram_range`: a tuple of two integers denoting the type of ngrams you want to extract, e.g. (1,2) denotes extracting unigrams and bigrams.\n",
    "- `token_pattern`: a string to be used within a regular expression to extract all tokens. Note that data is already tokenised so you could opt for a simple white space tokenisation.\n",
    "- `stop_words`: a list of stop words\n",
    "- `vocab`: a given vocabulary. It should be used to extract specific features.\n",
    "\n",
    "and returns:\n",
    "\n",
    "- a list of all extracted features.\n"
   ]
  },
  {
   "cell_type": "code",
   "execution_count": 5,
   "metadata": {
    "ExecuteTime": {
     "end_time": "2020-05-20T21:49:01.800481Z",
     "start_time": "2020-05-20T21:49:01.792474Z"
    }
   },
   "outputs": [],
   "source": [
    "def extract_ngrams(x_raw, ngram_range=(1,3), token_pattern=r'\\b[A-Za-z][A-Za-z]+\\b', stop_words=[], vocab=set()):\n",
    "    \n",
    "    tokenRE = re.compile(token_pattern)\n",
    "    \n",
    "    # first extract all unigrams by tokenising\n",
    "    x_uni = [w for w in tokenRE.findall(str(x_raw).lower(),) if w not in stop_words]\n",
    "    \n",
    "    # this is to store the ngrams to be returned\n",
    "    x = []\n",
    "    \n",
    "    if ngram_range[0]==1:\n",
    "        x = x_uni\n",
    "    \n",
    "    # generate n-grams from the available unigrams x_uni\n",
    "    ngrams = []\n",
    "    for n in range(ngram_range[0], ngram_range[1]+1):\n",
    "        \n",
    "        # ignore unigrams\n",
    "        if n==1: continue\n",
    "        \n",
    "        # pass a list of lists as an argument for zip\n",
    "        arg_list = [x_uni]+[x_uni[i:] for i in range(1, n)]\n",
    "\n",
    "        # extract tuples of n-grams using zip\n",
    "        # for bigram this should look: list(zip(x_uni, x_uni[1:]))\n",
    "        # align each item x[i] in x_uni with the next one x[i+1]. \n",
    "        # Note that x_uni and x_uni[1:] have different lenghts\n",
    "        # but zip ignores redundant elements at the end of the second list\n",
    "        # Alternativel, this could be done with for loops\n",
    "        x_ngram = list(zip(*arg_list))\n",
    "        ngrams.append(x_ngram)\n",
    "    \n",
    "        \n",
    "    for n in ngrams:\n",
    "        for t in n:\n",
    "            x.append(t)\n",
    "        \n",
    "    if len(vocab)>0:\n",
    "        x = [w for w in x if w in vocab]\n",
    "        \n",
    "    return x"
   ]
  },
  {
   "cell_type": "markdown",
   "metadata": {},
   "source": [
    "### Create a vocabulary of n-grams\n",
    "\n",
    "Then the `get_vocab` function will be used to (1) create a vocabulary of ngrams; (2) count the document frequencies of ngrams; (3) their raw frequency. It takes as input:\n",
    "- `X_raw`: a list of strings each corresponding to the raw text of a document\n",
    "- `ngram_range`: a tuple of two integers denoting the type of ngrams you want to extract, e.g. (1,2) denotes extracting unigrams and bigrams.\n",
    "- `token_pattern`: a string to be used within a regular expression to extract all tokens. Note that data is already tokenised so you could opt for a simple white space tokenisation.\n",
    "- `stop_words`: a list of stop words\n",
    "- `min_df`: keep ngrams with a minimum document frequency.\n",
    "- `keep_topN`: keep top-N more frequent ngrams.\n",
    "\n",
    "and returns:\n",
    "\n",
    "- `vocab`: a set of the n-grams that will be used as features.\n",
    "- `df`: a Counter (or dict) that contains ngrams as keys and their corresponding document frequency as values.\n",
    "- `ngram_counts`: counts of each ngram in vocab\n"
   ]
  },
  {
   "cell_type": "code",
   "execution_count": 6,
   "metadata": {
    "ExecuteTime": {
     "end_time": "2020-05-20T21:49:01.809105Z",
     "start_time": "2020-05-20T21:49:01.801745Z"
    },
    "code_folding": []
   },
   "outputs": [],
   "source": [
    "def get_vocab(X_raw, ngram_range=(1,3), token_pattern=r'\\b[A-Za-z][A-Za-z]+\\b', \n",
    "              min_df=0, keep_topN=0, stop_words=[]):\n",
    "    \n",
    "    \n",
    "    tokenRE = re.compile(token_pattern)\n",
    "    \n",
    "    df = Counter()\n",
    "    ngram_counts = Counter()\n",
    "    vocab = set()\n",
    "    \n",
    "    # interate through each raw text\n",
    "    for x in X_raw:\n",
    "        \n",
    "        x_ngram = extract_ngrams(x, ngram_range=ngram_range, token_pattern=token_pattern, stop_words=stop_words)\n",
    "        \n",
    "        #update doc and ngram frequencies \n",
    "        df.update(list(set(x_ngram)))\n",
    "        ngram_counts.update(x_ngram)\n",
    "\n",
    "    # obtain a vocabulary as a set. \n",
    "    # Keep elements with doc frequency > minimum doc freq (min_df)\n",
    "    # Note that df contains all te\n",
    "    vocab = set([w for w in df if df[w]>=min_df])\n",
    "    \n",
    "    # keep the top N most freqent \n",
    "    if keep_topN>0:\n",
    "        vocab = set([w[0] for w in ngram_counts.most_common(keep_topN) if w[0] in vocab])\n",
    "    \n",
    "    \n",
    "    return vocab, df, ngram_counts"
   ]
  },
  {
   "cell_type": "markdown",
   "metadata": {},
   "source": [
    "Now you should use `get_vocab` to create your vocabulary and get document and raw frequencies of unigrams:"
   ]
  },
  {
   "cell_type": "code",
   "execution_count": 7,
   "metadata": {
    "ExecuteTime": {
     "end_time": "2020-05-20T21:49:01.932826Z",
     "start_time": "2020-05-20T21:49:01.810413Z"
    }
   },
   "outputs": [
    {
     "name": "stdout",
     "output_type": "stream",
     "text": [
      "5000\n",
      "\n",
      "['orioles', 'burks', 'enforcement', 'records', 'contractor', 'kuwait', 'utilities', 'shows', 'banned', 'sporadic', 'bus', 'freezing', 'jonathan', 'musa', 'oil', 'miles', 'begins', 'role', 'rafael', 'philadelphia', 'fasher', 'weightlifting', 'dwindling', 'slip', 'visit', 'witnesses', 'detroit', 'rampage', 'optimism', 'ancient', 'english', 'judge', 'amanda', 'gunmen', 'site', 'powder', 'also', 'mena', 'estimates', 'posed', 'update', 'jazeera', 'ny', 'thin', 'zina', 'tensions', 'blamed', 'appeared', 'benefited', 'sizzling', 'insurgency', 'miracle', 'grove', 'controversy', 'eliminated', 'fear', 'topped', 'qualities', 'shareholder', 'trustworthy', 'abuja', 'packard', 'jumped', 'finance', 'bosnia', 'basketball', 'islamic', 'fed', 'tomko', 'vote', 'cutter', 'malaysian', 'bandanna', 'madrid', 'engine', 'giant', 'accept', 'mohl', 'brett', 'fatal', 'mistake', 'modern', 'overcame', 'hammer', 'problems', 'christmas', 'fixed', 'publicly', 'sorting', 'regulations', 'intc', 'fired', 'activists', 'bargain', 'treat', 'landmark', 'choppy', 'politics', 'airlines', 'managing']\n",
      "\n",
      "[('reuters', 631), ('said', 432), ('tuesday', 413), ('wednesday', 344), ('new', 325), ('after', 295), ('ap', 275), ('athens', 245), ('monday', 221), ('first', 210)]\n"
     ]
    }
   ],
   "source": [
    "vocab, df, ngram_counts = get_vocab(X_tr_raw, ngram_range=(1,1), keep_topN=5000, stop_words=stop_words)\n",
    "print(len(vocab))\n",
    "print()\n",
    "print(list(vocab)[:100])\n",
    "print()\n",
    "print(df.most_common()[:10])"
   ]
  },
  {
   "cell_type": "markdown",
   "metadata": {},
   "source": [
    "Then, you need to create vocabulary id -> word and id -> word dictionaries for reference:"
   ]
  },
  {
   "cell_type": "code",
   "execution_count": 8,
   "metadata": {
    "ExecuteTime": {
     "end_time": "2020-05-20T21:49:02.099982Z",
     "start_time": "2020-05-20T21:49:01.934139Z"
    }
   },
   "outputs": [],
   "source": [
    "# Calculate the vocab and df of different data sets\n",
    "vocab_tr, df_tr, ngram_counts_tr = get_vocab(X_tr_raw, ngram_range=(1,1), keep_topN=5000, stop_words=stop_words)\n",
    "vocab_te, df_te, ngram_counts_te = get_vocab(X_te_raw, ngram_range=(1,1), keep_topN=5000, stop_words=stop_words)\n",
    "vocab_dev, df_dev, ngram_counts_dev = get_vocab(X_dev_raw, ngram_range=(1,1), keep_topN=5000, stop_words=stop_words)\n",
    "# create reference\n",
    "id2vocab = dict(enumerate(vocab_tr))\n",
    "vocab2id = dict(zip(id2vocab.values(),id2vocab.keys()))"
   ]
  },
  {
   "cell_type": "markdown",
   "metadata": {},
   "source": [
    "### Convert the list of unigrams  into a list of vocabulary indices"
   ]
  },
  {
   "cell_type": "markdown",
   "metadata": {},
   "source": [
    "Storing actual one-hot vectors into memory for all words in the entire data set is prohibitive. Instead, we will store word indices in the vocabulary and look-up the weight matrix. This is equivalent of doing a dot product between an one-hot vector and the weight matrix. \n",
    "\n",
    "First, represent documents in train, dev and test sets as lists of words in the vocabulary:"
   ]
  },
  {
   "cell_type": "code",
   "execution_count": 9,
   "metadata": {
    "ExecuteTime": {
     "end_time": "2020-05-20T21:49:02.214740Z",
     "start_time": "2020-05-20T21:49:02.102515Z"
    }
   },
   "outputs": [],
   "source": [
    "# extract n-grams\n",
    "X_uni_tr = [extract_ngrams(line,ngram_range=(1,1),stop_words=stop_words) for line in X_tr_raw]\n",
    "X_uni_te = [extract_ngrams(line,ngram_range=(1,1),stop_words=stop_words) for line in X_te_raw]\n",
    "X_uni_dev = [extract_ngrams(line,ngram_range=(1,1),stop_words=stop_words) for line in X_dev_raw]"
   ]
  },
  {
   "cell_type": "code",
   "execution_count": 10,
   "metadata": {
    "ExecuteTime": {
     "end_time": "2020-05-20T21:49:02.220917Z",
     "start_time": "2020-05-20T21:49:02.216534Z"
    }
   },
   "outputs": [
    {
     "data": {
      "text/plain": [
       "['reuters',\n",
       " 'venezuelans',\n",
       " 'turned',\n",
       " 'out',\n",
       " 'early',\n",
       " 'large',\n",
       " 'numbers',\n",
       " 'sunday',\n",
       " 'vote',\n",
       " 'historic',\n",
       " 'referendum',\n",
       " 'either',\n",
       " 'remove',\n",
       " 'left',\n",
       " 'wing',\n",
       " 'president',\n",
       " 'hugo',\n",
       " 'chavez',\n",
       " 'office',\n",
       " 'give',\n",
       " 'him',\n",
       " 'new',\n",
       " 'mandate',\n",
       " 'govern',\n",
       " 'next',\n",
       " 'two',\n",
       " 'years']"
      ]
     },
     "execution_count": 10,
     "metadata": {},
     "output_type": "execute_result"
    }
   ],
   "source": [
    "X_uni_tr[0]"
   ]
  },
  {
   "cell_type": "markdown",
   "metadata": {},
   "source": [
    "Then convert them into lists of indices in the vocabulary:"
   ]
  },
  {
   "cell_type": "code",
   "execution_count": 11,
   "metadata": {
    "ExecuteTime": {
     "end_time": "2020-05-20T21:49:02.251699Z",
     "start_time": "2020-05-20T21:49:02.222225Z"
    }
   },
   "outputs": [],
   "source": [
    "def words2indices(words,index = vocab2id):\n",
    "    '''Convert a list of words to a list of index\n",
    "    \n",
    "    Args:\n",
    "        words: a list of words\n",
    "        index: a dictionart, each key is a word, and value is the index\n",
    "    Return:\n",
    "        a list of index\n",
    "    '''\n",
    "    #words = set(words)&set(vocab2id.keys())\n",
    "    words = [word for word in words if word in index.keys()]\n",
    "    return list(map(lambda x:index[x],words))\n",
    "\n",
    "X_tr = [words2indices(line) for line in X_uni_tr]\n",
    "X_te = [words2indices(line) for line in X_uni_te]\n",
    "X_dev = [words2indices(line) for line in X_uni_dev]"
   ]
  },
  {
   "cell_type": "code",
   "execution_count": 12,
   "metadata": {
    "ExecuteTime": {
     "end_time": "2020-05-20T21:49:02.264670Z",
     "start_time": "2020-05-20T21:49:02.252936Z"
    }
   },
   "outputs": [
    {
     "data": {
      "text/plain": [
       "[3322,\n",
       " 3476,\n",
       " 2403,\n",
       " 340,\n",
       " 2234,\n",
       " 885,\n",
       " 2871,\n",
       " 1361,\n",
       " 69,\n",
       " 2014,\n",
       " 4832,\n",
       " 864,\n",
       " 2743,\n",
       " 4813,\n",
       " 880,\n",
       " 553,\n",
       " 999,\n",
       " 3056,\n",
       " 3373,\n",
       " 2981,\n",
       " 4956,\n",
       " 4704,\n",
       " 1969,\n",
       " 1804,\n",
       " 3406,\n",
       " 1256,\n",
       " 187]"
      ]
     },
     "execution_count": 12,
     "metadata": {},
     "output_type": "execute_result"
    }
   ],
   "source": [
    "X_tr[0]"
   ]
  },
  {
   "cell_type": "markdown",
   "metadata": {},
   "source": [
    "Put the labels `Y` for train, dev and test sets into arrays: "
   ]
  },
  {
   "cell_type": "code",
   "execution_count": 13,
   "metadata": {
    "ExecuteTime": {
     "end_time": "2020-05-20T21:49:02.272859Z",
     "start_time": "2020-05-20T21:49:02.267053Z"
    }
   },
   "outputs": [],
   "source": [
    "# Already transform to numpy at the beginning of reading CSV\n",
    "_, Y_tr = transform(data_tr)\n",
    "_, Y_te = transform(data_te)\n",
    "_, Y_dev = transform(data_dev)"
   ]
  },
  {
   "cell_type": "markdown",
   "metadata": {},
   "source": [
    "# Network Architecture\n",
    "\n",
    "Your network should pass each word index into its corresponding embedding by looking-up on the embedding matrix and then compute the first hidden layer $\\mathbf{h}_1$:\n",
    "\n",
    "$$\\mathbf{h}_1 = \\frac{1}{|x|}\\sum_i W^e_i, i \\in x$$\n",
    "\n",
    "where $|x|$ is the number of words in the document and $W^e$ is an embedding matrix $|V|\\times d$, $|V|$ is the size of the vocabulary and $d$ the embedding size.\n",
    "\n",
    "Then $\\mathbf{h}_1$ should be passed through a ReLU activation function:\n",
    "\n",
    "$$\\mathbf{a}_1 = relu(\\mathbf{h}_1)$$\n",
    "\n",
    "Finally the hidden layer is passed to the output layer:\n",
    "\n",
    "\n",
    "$$\\mathbf{y} = \\text{softmax}(\\mathbf{a}_1W^T) $$ \n",
    "where $W$ is a matrix $d \\times |{\\cal Y}|$, $|{\\cal Y}|$ is the number of classes.\n",
    "\n",
    "During training, $\\mathbf{a}_1$ should be multiplied with a dropout mask vector (elementwise) for regularisation before it is passed to the output layer.\n",
    "\n",
    "You can extend to a deeper architecture by passing a hidden layer to another one:\n",
    "\n",
    "$$\\mathbf{h_i} = \\mathbf{a}_{i-1}W_i^T $$\n",
    "\n",
    "$$\\mathbf{a_i} = relu(\\mathbf{h_i}) $$\n",
    "\n",
    "\n",
    "\n",
    "# Network Training\n",
    "\n",
    "First we need to define the parameters of our network by initiliasing the weight matrices. For that purpose, you should implement the `network_weights` function that takes as input:\n",
    "\n",
    "- `vocab_size`: the size of the vocabulary\n",
    "- `embedding_dim`: the size of the word embeddings\n",
    "- `hidden_dim`: a list of the sizes of any subsequent hidden layers (for the Bonus). Empty if there are no hidden layers between the average embedding and the output layer \n",
    "- `num_clusses`: the number of the classes for the output layer\n",
    "\n",
    "and returns:\n",
    "\n",
    "- `W`: a dictionary mapping from layer index (e.g. 0 for the embedding matrix) to the corresponding weight matrix initialised with small random numbers (hint: use numpy.random.uniform with from -0.1 to 0.1)\n",
    "\n",
    "See the examples below for expected outputs. Make sure that the dimensionality of each weight matrix is compatible with the previous and next weight matrix, otherwise you won't be able to perform forward and backward passes. Consider also using np.float32 precision to save memory."
   ]
  },
  {
   "cell_type": "code",
   "execution_count": 14,
   "metadata": {
    "ExecuteTime": {
     "end_time": "2020-05-20T21:49:02.282903Z",
     "start_time": "2020-05-20T21:49:02.274728Z"
    }
   },
   "outputs": [],
   "source": [
    "def network_weights(vocab_size=1000, embedding_dim=300, \n",
    "                    hidden_dim=[], num_classes=3, init_val = 0.5):\n",
    "    W_emb = np.random.uniform(low = -1*init_val, high = init_val, size = (vocab_size,embedding_dim))\n",
    "    \n",
    "    W_h = list()\n",
    "    pt = embedding_dim\n",
    "    for layer in hidden_dim:\n",
    "        W_h.append(np.random.uniform(low = -1*init_val, high = init_val, size = (pt,layer)))\n",
    "        pt = layer\n",
    "    W_out = np.random.uniform(low = -1*init_val, high = init_val, size = (pt,num_classes))\n",
    "    W = [W_emb,*W_h,W_out]\n",
    "\n",
    "    return W"
   ]
  },
  {
   "cell_type": "code",
   "execution_count": 15,
   "metadata": {
    "ExecuteTime": {
     "end_time": "2020-05-20T21:49:02.289385Z",
     "start_time": "2020-05-20T21:49:02.284219Z"
    }
   },
   "outputs": [
    {
     "name": "stdout",
     "output_type": "stream",
     "text": [
      "W_emb: (5, 10)\n",
      "W_out: (10, 2)\n"
     ]
    }
   ],
   "source": [
    "W = network_weights(vocab_size=5,embedding_dim=10,hidden_dim=[], num_classes=2)\n",
    "\n",
    "print('W_emb:', W[0].shape)\n",
    "print('W_out:', W[1].shape)"
   ]
  },
  {
   "cell_type": "code",
   "execution_count": 16,
   "metadata": {
    "ExecuteTime": {
     "end_time": "2020-05-20T21:49:02.294811Z",
     "start_time": "2020-05-20T21:49:02.290560Z"
    }
   },
   "outputs": [],
   "source": [
    "W = network_weights(vocab_size=3,embedding_dim=4,hidden_dim=[2], num_classes=2)"
   ]
  },
  {
   "cell_type": "code",
   "execution_count": 17,
   "metadata": {
    "ExecuteTime": {
     "end_time": "2020-05-20T21:49:02.301888Z",
     "start_time": "2020-05-20T21:49:02.295943Z"
    }
   },
   "outputs": [
    {
     "name": "stdout",
     "output_type": "stream",
     "text": [
      "W_emb: (3, 4)\n",
      "W_h1: (4, 2)\n",
      "W_out: (2, 2)\n"
     ]
    }
   ],
   "source": [
    "print('W_emb:', W[0].shape)\n",
    "print('W_h1:', W[1].shape)\n",
    "print('W_out:', W[2].shape)"
   ]
  },
  {
   "cell_type": "code",
   "execution_count": 18,
   "metadata": {
    "ExecuteTime": {
     "end_time": "2020-05-20T21:49:02.308068Z",
     "start_time": "2020-05-20T21:49:02.302955Z"
    }
   },
   "outputs": [
    {
     "data": {
      "text/plain": [
       "array([[-0.40428748,  0.38532683,  0.12724897,  0.22341636],\n",
       "       [-0.48387079,  0.09443188,  0.05678519, -0.34104036],\n",
       "       [-0.34692948,  0.19552953, -0.18123357,  0.1919703 ]])"
      ]
     },
     "execution_count": 18,
     "metadata": {},
     "output_type": "execute_result"
    }
   ],
   "source": [
    "W[0]"
   ]
  },
  {
   "cell_type": "markdown",
   "metadata": {
    "ExecuteTime": {
     "end_time": "2020-04-01T10:31:57.970152Z",
     "start_time": "2020-04-01T10:31:57.966123Z"
    }
   },
   "source": [
    "Then you need to develop a `softmax` function (same as in Assignment 1) to be used in the output layer. It takes as input:\n",
    "\n",
    "- `z`: array of real numbers \n",
    "\n",
    "and returns:\n",
    "\n",
    "- `sig`: the softmax of `z`"
   ]
  },
  {
   "cell_type": "code",
   "execution_count": 19,
   "metadata": {
    "ExecuteTime": {
     "end_time": "2020-05-20T21:49:02.313743Z",
     "start_time": "2020-05-20T21:49:02.309117Z"
    }
   },
   "outputs": [],
   "source": [
    "def softmax(z):\n",
    "    \n",
    "    '''Calculate softmax results\n",
    "    \n",
    "    In order to avoid data overflow, the corresponding data boundary is added.\n",
    "    Since np.exp() is a `np.float64` operation function, so we need to avoid overflow.\n",
    "    It is easy to find out the boundary of `np.float64` by calling np.finfo(np.float64).\n",
    "    Usually, it should be written as `np.minimum(np.exp(z),np.finfo(np.float64).max)`,\n",
    "    but I prefer to written inside the exp function, since it somehow can be faster.\n",
    "    For the input of np.exp(), it should not be greater than 709.782 to ensure that the\n",
    "    output will not overflow.\n",
    "    \n",
    "    Returns:\n",
    "        z: the same size of z.\n",
    "    '''\n",
    "    \n",
    "    z = np.minimum(z,709.782)\n",
    "    smax = np.exp(z) / np.sum(np.exp(z),axis=z.ndim-1,keepdims=True)\n",
    "    \n",
    "    return smax"
   ]
  },
  {
   "cell_type": "markdown",
   "metadata": {},
   "source": [
    "Now you need to implement the categorical cross entropy loss by slightly modifying the function from Assignment 1 to depend only on the true label `y` and the class probabilities vector `y_preds`:"
   ]
  },
  {
   "cell_type": "code",
   "execution_count": 20,
   "metadata": {
    "ExecuteTime": {
     "end_time": "2020-05-20T21:49:02.322608Z",
     "start_time": "2020-05-20T21:49:02.314860Z"
    }
   },
   "outputs": [],
   "source": [
    "def categorical_loss(y, y_preds):\n",
    "    \n",
    "    '''1. Calculate the Euclidean distance between label and probability\n",
    "       2. Calculate the average distance\n",
    "       \n",
    "    Here I use `esp` to represent the smallest data unit of the data type. \n",
    "    The main function of `esp` is to ensure the rationality of arithmetic \n",
    "    operations. For example, in the division operation, add `esp` to the \n",
    "    denominator to ensure that the denominator is not 0, and it does not \n",
    "    affect the data result. This is the habit I developed when I wrote Matlab\n",
    "    in my undergraduate period. `esp` is more common in Matlab.\n",
    "    Input:\n",
    "        y->int/list: 2;[2],[[2],[2]]\n",
    "        y_preds->np.ndarry: [1,0,0];[[1,0,0]];[[1,0,0],[1,0,0]]\n",
    "    Args:\n",
    "        eps: the minimum value in the current data type. Used to ensure\n",
    "            that the input of the log function is greater than 0.\n",
    "        preds_proba: Probability of each data, the same\n",
    "            size of input data.(X.shape[0])\n",
    "\n",
    "    Returns:\n",
    "        l: Used to save losses and calculate the average at the end\n",
    "    '''\n",
    "    \n",
    "    Y = np.array(y)\n",
    "    assert type(y_preds) == np.ndarray\n",
    "    try:\n",
    "        n,d = y_preds.shape\n",
    "    except:\n",
    "        n=1\n",
    "        d = y_preds.shape[0]\n",
    "    #eps = np.finfo(np.float64).eps\n",
    "    Y = np.eye(d,d)[Y].reshape(n,d)\n",
    "    #l1 = -np.sum(Y*np.log(y_preds+eps),1) \n",
    "    y_preds = np.maximum(y_preds,np.finfo(np.float64).eps)\n",
    "    assert np.all(y_preds>0)\n",
    "    l1 = -np.sum(Y*np.log(y_preds),1) \n",
    "    l=np.mean(l1)\n",
    "    assert l>=0\n",
    "    return l"
   ]
  },
  {
   "cell_type": "code",
   "execution_count": 21,
   "metadata": {
    "ExecuteTime": {
     "end_time": "2020-05-20T21:49:02.331602Z",
     "start_time": "2020-05-20T21:49:02.323741Z"
    }
   },
   "outputs": [
    {
     "name": "stdout",
     "output_type": "stream",
     "text": [
      "y_preds:  [0.01217919 0.27035308 0.24462558 0.02710529 0.44573687]\n",
      "loss: 1.40802648485675\n"
     ]
    }
   ],
   "source": [
    "# example for 5 classes\n",
    "\n",
    "y = 2 #true label\n",
    "y_preds = softmax(np.array([[-2.1,1.,0.9,-1.3,1.5]]))[0]\n",
    "\n",
    "print('y_preds: ',y_preds)\n",
    "print('loss:', categorical_loss(y, y_preds))"
   ]
  },
  {
   "cell_type": "markdown",
   "metadata": {
    "ExecuteTime": {
     "end_time": "2020-03-31T15:02:56.149535Z",
     "start_time": "2020-03-31T15:02:56.145738Z"
    }
   },
   "source": [
    "Then, implement the `relu` function to introduce non-linearity after each hidden layer of your network (during the forward pass): \n",
    "\n",
    "$$relu(z_i)= max(z_i,0)$$\n",
    "\n",
    "and the `relu_derivative` function to compute its derivative (used in the backward pass):\n",
    "\n",
    "\\begin{equation}\n",
    "  \\text{relu_derivative}(z_i)=\\begin{cases}\n",
    "    0, & \\text{if $z_i<=0$}.\\\\\n",
    "    1, & \\text{otherwise}.\n",
    "  \\end{cases}\n",
    "\\end{equation}\n",
    "\n",
    "Note that both functions take as input a vector $z$ \n",
    "\n",
    "Hint use .copy() to avoid in place changes in array z"
   ]
  },
  {
   "cell_type": "code",
   "execution_count": 22,
   "metadata": {
    "ExecuteTime": {
     "end_time": "2020-05-20T21:49:02.337215Z",
     "start_time": "2020-05-20T21:49:02.332689Z"
    }
   },
   "outputs": [],
   "source": [
    "def relu(z):\n",
    "    \n",
    "    '''ReLu activation function\n",
    "    Input: \n",
    "        z->np.ndarry: array([-1,1,0,-2,2])\n",
    "    \n",
    "    Return:\n",
    "        a->np.ndarry: array([0,1,0,0,2])\n",
    "    '''\n",
    "    \n",
    "    a = np.fmax(z, 0)\n",
    "    return a\n",
    "    \n",
    "def relu_derivative(z):\n",
    "    \n",
    "    '''Derivative of ReLu activation function\n",
    "    Input: \n",
    "        z->np.ndarry: array([-0.5,0.5,0,-2,2])\n",
    "    \n",
    "    Return:\n",
    "        dz->np.ndarry: array([0,1,0,0,1])\n",
    "    '''\n",
    "    \n",
    "    dz = np.fmax(z,0)\n",
    "    np.sign(dz,out=dz)\n",
    "    return dz"
   ]
  },
  {
   "cell_type": "markdown",
   "metadata": {},
   "source": [
    "During training you should also apply a dropout mask element-wise after the activation function (i.e. vector of ones with a random percentage set to zero). The `dropout_mask` function takes as input:\n",
    "\n",
    "- `size`: the size of the vector that we want to apply dropout\n",
    "- `dropout_rate`: the percentage of elements that will be randomly set to zeros\n",
    "\n",
    "and returns:\n",
    "\n",
    "- `dropout_vec`: a vector with binary values (0 or 1)"
   ]
  },
  {
   "cell_type": "code",
   "execution_count": 23,
   "metadata": {
    "ExecuteTime": {
     "end_time": "2020-05-20T21:49:02.345490Z",
     "start_time": "2020-05-20T21:49:02.338424Z"
    }
   },
   "outputs": [],
   "source": [
    "def dropout_mask(size, dropout_rate):\n",
    "    \n",
    "    '''Dropout matrix\n",
    "    Input: \n",
    "        size->np.shape\n",
    "        dropout_rate->int: 0.0~1,0\n",
    "    \n",
    "    Return:\n",
    "        dropout_vec->np.ndarry: if p =0.2, array([1,0,1,1,1])\n",
    "    '''\n",
    "    \n",
    "    dropout_vec = np.full(size,1.0)\n",
    "    index = np.arange(size)\n",
    "    np.random.shuffle(index)\n",
    "    dropout_vec[index[:int(size*dropout_rate)]]=0\n",
    "    \n",
    "    return dropout_vec"
   ]
  },
  {
   "cell_type": "code",
   "execution_count": 24,
   "metadata": {
    "ExecuteTime": {
     "end_time": "2020-05-20T21:49:02.352396Z",
     "start_time": "2020-05-20T21:49:02.346462Z"
    }
   },
   "outputs": [
    {
     "name": "stdout",
     "output_type": "stream",
     "text": [
      "[1. 1. 0. 1. 1. 1. 1. 1. 0. 1.]\n",
      "[1. 1. 1. 1. 0. 1. 1. 0. 1. 1.]\n"
     ]
    }
   ],
   "source": [
    "print(dropout_mask(10, 0.2))\n",
    "print(dropout_mask(10, 0.2))"
   ]
  },
  {
   "cell_type": "markdown",
   "metadata": {},
   "source": [
    "Now you need to implement the `forward_pass` function that passes the input x through the network up to the output layer for computing the probability for each class using the weight matrices in `W`. The ReLU activation function should be applied on each hidden layer. \n",
    "\n",
    "- `x`: a list of vocabulary indices each corresponding to a word in the document (input)\n",
    "- `W`: a list of weight matrices connecting each part of the network, e.g. for a network with a hidden and an output layer: W[0] is the weight matrix that connects the input to the first hidden layer, W[1] is the weight matrix that connects the hidden layer to the output layer.\n",
    "- `dropout_rate`: the dropout rate that is used to generate a random dropout mask vector applied after each hidden layer for regularisation.\n",
    "\n",
    "and returns:\n",
    "\n",
    "- `out_vals`: a dictionary of output values from each layer: h (the vector before the activation function), a (the resulting vector after passing h from the activation function), its dropout mask vector; and the prediction vector (probability for each class) from the output layer."
   ]
  },
  {
   "cell_type": "code",
   "execution_count": 25,
   "metadata": {
    "ExecuteTime": {
     "end_time": "2020-05-20T21:49:02.369397Z",
     "start_time": "2020-05-20T21:49:02.353485Z"
    }
   },
   "outputs": [],
   "source": [
    "def initial_h0(x,W):\n",
    "    \n",
    "    '''mapping words' index into an Embedding weight matrix\n",
    "    Input: \n",
    "        x->list: a list of words' index\n",
    "        W->np.ndarry: embedding weight matrix\n",
    "    Returns:\n",
    "        h->np.ndarry: mapping index and compute the first hidden layer\n",
    "    \n",
    "    '''\n",
    "    \n",
    "    if type(x[0])!=list:\n",
    "        h = np.zeros(W.shape[1])\n",
    "        for index in range(len(x)):\n",
    "            np.add(W[x[index]]/len(x),h,out=h) # with mean value\n",
    "    else:\n",
    "        h = np.zeros((len(x),W.shape[1]))\n",
    "        for i in range(len(x)):\n",
    "            for index in range(len(x[i])):\n",
    "                h[i,:] += W[x[i][index]]/len(x[i])\n",
    "    return h\n",
    "\n",
    "def forward_linear(A_prev, W, dropout_rate):\n",
    "    \n",
    "    '''Linear forward:\n",
    "        1. h = a*W\n",
    "        2. a = relu(h)    \n",
    "    '''\n",
    "    \n",
    "    h = np.dot(A_prev, W)\n",
    "    a = relu(h)\n",
    "    dropout = dropout_mask(a.shape[a.ndim-1],dropout_rate)\n",
    "    return h,a,dropout\n",
    "\n",
    "def forward_pass(x, W, dropout_rate=0.2):\n",
    "    ''' Feed forward network\n",
    "    '''\n",
    "    out_vals = {}\n",
    "    \n",
    "    h_vecs = []\n",
    "    a_vecs = []\n",
    "    dropout_vecs = []\n",
    "    \n",
    "    # one-hot input layer to embedding weight matrix (with mean)\n",
    "    h = initial_h0(x,W[0])\n",
    "    A = relu(h) # ReLu activation\n",
    "    dropout = dropout_mask(A.shape[A.ndim-1],dropout_rate) # Dropout\n",
    "    h_vecs.append(h);a_vecs.append(A);dropout_vecs.append(dropout)\n",
    "    A = np.multiply(A,dropout)\n",
    "    \n",
    "    # Hidden layers\n",
    "    L = len(W)\n",
    "    for l in range(1,L-1):\n",
    "        A_prev = A \n",
    "        # Activation, dropout\n",
    "        h,A,dropout = forward_linear(A_prev,W[l],dropout_rate)\n",
    "        h_vecs.append(h);a_vecs.append(A);dropout_vecs.append(dropout)\n",
    "        A = np.multiply(A,dropout)\n",
    "        \n",
    "    # Output layer\n",
    "    A_prev = A \n",
    "    h,A,dropout = forward_linear(A_prev,W[-1],dropout_rate)\n",
    "    np.multiply(A,dropout,out=A)\n",
    "    y = softmax(A) # softmax function mapping vector to probability\n",
    "    \n",
    "    out_vals['h'] = h_vecs\n",
    "    out_vals['a'] = a_vecs\n",
    "    out_vals['dropout_vec'] = dropout_vecs\n",
    "    out_vals['y'] = y\n",
    "    \n",
    "    return out_vals"
   ]
  },
  {
   "cell_type": "code",
   "execution_count": 26,
   "metadata": {
    "ExecuteTime": {
     "end_time": "2020-05-20T21:49:02.379547Z",
     "start_time": "2020-05-20T21:49:02.370541Z"
    }
   },
   "outputs": [
    {
     "name": "stdout",
     "output_type": "stream",
     "text": [
      "Shape W0 (3, 4)\n",
      "Shape W1 (4, 5)\n",
      "Shape W2 (5, 2)\n",
      "\n",
      "{'h': [array([-0.04668262, -0.12518335,  0.17532285, -0.32932054]), array([0., 0., 0., 0., 0.])], 'a': [array([0.        , 0.        , 0.17532285, 0.        ]), array([0., 0., 0., 0., 0.])], 'dropout_vec': [array([1., 0., 0., 1.]), array([0., 0., 1., 1., 1.])], 'y': array([0.5, 0.5])}\n"
     ]
    }
   ],
   "source": [
    "W = network_weights(vocab_size=3,embedding_dim=4,hidden_dim=[5], num_classes=2)\n",
    "\n",
    "for i in range(len(W)):\n",
    "    print('Shape W'+str(i), W[i].shape)\n",
    "\n",
    "print()\n",
    "print(forward_pass([2,1], W, dropout_rate=0.5))"
   ]
  },
  {
   "cell_type": "markdown",
   "metadata": {},
   "source": [
    "The `backward_pass` function computes the gradients and update the weights for each matrix in the network from the output to the input. It takes as input \n",
    "\n",
    "- `x`: a list of vocabulary indices each corresponding to a word in the document (input)\n",
    "- `y`: the true label\n",
    "- `W`: a list of weight matrices connecting each part of the network, e.g. for a network with a hidden and an output layer: W[0] is the weight matrix that connects the input to the first hidden layer, W[1] is the weight matrix that connects the hidden layer to the output layer.\n",
    "- `out_vals`: a dictionary of output values from a forward pass.\n",
    "- `learning_rate`: the learning rate for updating the weights.\n",
    "- `freeze_emb`: boolean value indicating whether the embedding weights will be updated.\n",
    "\n",
    "and returns:\n",
    "\n",
    "- `W`: the updated weights of the network.\n",
    "\n",
    "Hint: the gradients on the output layer are similar to the multiclass logistic regression."
   ]
  },
  {
   "cell_type": "code",
   "execution_count": 27,
   "metadata": {
    "ExecuteTime": {
     "end_time": "2020-05-20T21:49:02.393353Z",
     "start_time": "2020-05-20T21:49:02.381898Z"
    }
   },
   "outputs": [],
   "source": [
    "def backward_linear(dh,A_prev,W):\n",
    "    ''' linear back-propagation\n",
    "    '''\n",
    "    A_prev = A_prev.reshape(1,-1)\n",
    "    dW = np.dot(A_prev.T, dh)\n",
    "    dA_prev = np.dot(dh, W.T)\n",
    "    return dW,dA_prev\n",
    "\n",
    "def backward_dropout(dA, A_prev, W, dropout):\n",
    "    ''' dropout back-propagation\n",
    "    '''\n",
    "    dW,dA_prev = backward_linear(dA, A_prev,W)\n",
    "    np.multiply(dA_prev,dropout,out=dA_prev) \n",
    "    return dW,dA_prev\n",
    "\n",
    "def backward_activation(dA, h):\n",
    "    ''' ReLu back-propagation\n",
    "    '''\n",
    "    dh = relu_derivative(h)*dA\n",
    "    return dh\n",
    "\n",
    "def backward_pass(x, Y, W, out_vals, lr=0.001, freeze_emb=False):\n",
    "    ''' Back-propagation\n",
    "    '''\n",
    "    # output layer\n",
    "    y_preds = out_vals['y']\n",
    "    dh = y_preds-Y # gradient dL/dh\n",
    "    dh = backward_activation(dh,y_preds)\n",
    "    \n",
    "    # hidden layers\n",
    "    L = len(W)\n",
    "    for l in range(1,L):\n",
    "        A_prev = out_vals['a'][-1*l]\n",
    "        # Gradient, Dropout\n",
    "        dW,dA_prev = backward_dropout(dh, A_prev,W[-1*l],out_vals['dropout_vec'][-1*l])\n",
    "        # Activation\n",
    "        dh = backward_activation(dA_prev,out_vals['h'][-1*l])\n",
    "\n",
    "        np.multiply(lr,dW,out = dW)\n",
    "        np.subtract(W[-1*l],dW,out = W[-1*l])\n",
    "    \n",
    "    # input layers\n",
    "    if not freeze_emb:\n",
    "        X = np.array(x).reshape(-1,1)/len(x)\n",
    "        dW = np.dot(X,dh)\n",
    "\n",
    "        np.multiply(lr,dW,out=dW)\n",
    "        for index in range(len(x)):\n",
    "            W[0][x[index]] -= dW[index]\n",
    "      \n",
    "    return W"
   ]
  },
  {
   "cell_type": "markdown",
   "metadata": {
    "ExecuteTime": {
     "end_time": "2020-02-15T14:08:59.937442Z",
     "start_time": "2020-02-15T14:08:59.932221Z"
    }
   },
   "source": [
    "Finally you need to modify SGD to support back-propagation by using the `forward_pass` and `backward_pass` functions.\n",
    "\n",
    "The `SGD` function takes as input:\n",
    "\n",
    "- `X_tr`: array of training data (vectors)\n",
    "- `Y_tr`: labels of `X_tr`\n",
    "- `W`: the weights of the network (dictionary)\n",
    "- `X_dev`: array of development (i.e. validation) data (vectors)\n",
    "- `Y_dev`: labels of `X_dev`\n",
    "- `lr`: learning rate\n",
    "- `dropout`: regularisation strength\n",
    "- `epochs`: number of full passes over the training data\n",
    "- `tolerance`: stop training if the difference between the current and previous validation loss is smaller than a threshold\n",
    "- `freeze_emb`: boolean value indicating whether the embedding weights will be updated (to be used by the backward pass function).\n",
    "- `print_progress`: flag for printing the training progress (train/validation loss)\n",
    "\n",
    "\n",
    "and returns:\n",
    "\n",
    "- `weights`: the weights learned\n",
    "- `training_loss_history`: an array with the average losses of the whole training set after each epoch\n",
    "- `validation_loss_history`: an array with the average losses of the whole development set after each epoch"
   ]
  },
  {
   "cell_type": "code",
   "execution_count": 28,
   "metadata": {
    "ExecuteTime": {
     "end_time": "2020-05-20T21:49:02.404456Z",
     "start_time": "2020-05-20T21:49:02.394539Z"
    },
    "code_folding": []
   },
   "outputs": [],
   "source": [
    "def SGD(X_tr, Y_tr, W, X_dev=[], Y_dev=[], lr=0.001, \n",
    "        dropout=0.2, epochs=5, tolerance=0.001, freeze_emb=False, print_progress=True):\n",
    "    \n",
    "    training_loss_history = []\n",
    "    validation_loss_history = []\n",
    "    \n",
    "    # Stage 1: transform label into vector\n",
    "    num_classes = W[-1].shape[1]\n",
    "    Y_tr_pre = np.eye(num_classes,num_classes)[Y_tr].reshape(len(Y_tr),-1)\n",
    "    \n",
    "    # Stage 2: Init stochastic value\n",
    "    idx_list = np.array(range(len(X_tr)))\n",
    "    \n",
    "    t_forward = 0\n",
    "    t_backward = 0\n",
    "    for epoch in range(epochs):\n",
    "        np.random.shuffle(idx_list) # disorder dataset\n",
    "        for i in idx_list:\n",
    "            # get single data\n",
    "            X_tr_i, Y_tr_i = X_tr[i],Y_tr_pre[i]\n",
    "            # Forward pass\n",
    "            out_vals = forward_pass(X_tr_i, W, dropout_rate=dropout)\n",
    "            # Backward pass\n",
    "            W = backward_pass(X_tr_i, Y_tr_i.reshape(1,-1), W, out_vals, lr=lr, freeze_emb=False)\n",
    "        \n",
    "        # training loss\n",
    "        y_preds = forward_pass(X_tr, W, dropout_rate=0)['y']\n",
    "        loss_tr = categorical_loss(Y_tr, y_preds)\n",
    "        # evaluation loss\n",
    "        y_preds = forward_pass(X_dev, W, dropout_rate=0)['y']\n",
    "        loss_dev = categorical_loss(Y_dev, y_preds)\n",
    "\n",
    "        # Add history\n",
    "        training_loss_history.append(loss_tr)\n",
    "        validation_loss_history.append(loss_dev)\n",
    "        \n",
    "        if print_progress == True: \n",
    "            print(\"Epoch: %d| Training loss: %f| Validation loss: %f\"%(epoch+1,loss_tr,loss_dev))\n",
    "            \n",
    "        if epoch >1 and (validation_loss_history[-2]-validation_loss_history[-1]) <= tolerance:\n",
    "            break\n",
    "    \n",
    "    return W, training_loss_history, validation_loss_history"
   ]
  },
  {
   "cell_type": "markdown",
   "metadata": {
    "ExecuteTime": {
     "end_time": "2020-02-15T14:10:15.772383Z",
     "start_time": "2020-02-15T14:10:15.767855Z"
    }
   },
   "source": [
    "Now you are ready to train and evaluate you neural net. First, you need to define your network using the `network_weights` function followed by SGD with backprop:"
   ]
  },
  {
   "cell_type": "code",
   "execution_count": 29,
   "metadata": {
    "ExecuteTime": {
     "end_time": "2020-05-20T21:49:25.103125Z",
     "start_time": "2020-05-20T21:49:02.405566Z"
    }
   },
   "outputs": [
    {
     "name": "stdout",
     "output_type": "stream",
     "text": [
      "Shape W0 (5000, 300)\n",
      "Shape W1 (300, 3)\n",
      "Epoch: 1| Training loss: 1.054929| Validation loss: 1.058958\n",
      "Epoch: 2| Training loss: 1.008315| Validation loss: 1.027526\n",
      "Epoch: 3| Training loss: 0.965575| Validation loss: 0.998296\n",
      "Epoch: 4| Training loss: 0.925864| Validation loss: 0.970511\n",
      "Epoch: 5| Training loss: 0.888951| Validation loss: 0.943728\n",
      "Epoch: 6| Training loss: 0.854548| Validation loss: 0.918253\n",
      "Epoch: 7| Training loss: 0.822345| Validation loss: 0.894002\n",
      "Epoch: 8| Training loss: 0.792326| Validation loss: 0.871088\n",
      "Epoch: 9| Training loss: 0.764303| Validation loss: 0.849147\n",
      "Epoch: 10| Training loss: 0.737963| Validation loss: 0.828149\n",
      "Epoch: 11| Training loss: 0.713255| Validation loss: 0.807997\n",
      "Epoch: 12| Training loss: 0.690119| Validation loss: 0.788818\n",
      "Epoch: 13| Training loss: 0.668344| Validation loss: 0.770632\n",
      "Epoch: 14| Training loss: 0.647915| Validation loss: 0.753052\n",
      "Epoch: 15| Training loss: 0.628591| Validation loss: 0.736090\n",
      "Epoch: 16| Training loss: 0.610489| Validation loss: 0.719984\n",
      "Epoch: 17| Training loss: 0.593531| Validation loss: 0.704810\n",
      "Epoch: 18| Training loss: 0.577490| Validation loss: 0.690396\n",
      "Epoch: 19| Training loss: 0.562430| Validation loss: 0.676829\n",
      "Epoch: 20| Training loss: 0.548128| Validation loss: 0.663818\n",
      "Epoch: 21| Training loss: 0.534638| Validation loss: 0.651469\n",
      "Epoch: 22| Training loss: 0.521871| Validation loss: 0.639819\n",
      "Epoch: 23| Training loss: 0.509742| Validation loss: 0.628726\n",
      "Epoch: 24| Training loss: 0.498188| Validation loss: 0.618134\n",
      "Epoch: 25| Training loss: 0.487215| Validation loss: 0.608167\n"
     ]
    }
   ],
   "source": [
    "W = network_weights(vocab_size=len(vocab),embedding_dim=300,hidden_dim=[], num_classes=3)\n",
    "\n",
    "for i in range(len(W)):\n",
    "    print('Shape W'+str(i), W[i].shape)\n",
    "\n",
    "W, loss_tr, dev_loss = SGD(X_tr, Y_tr,\n",
    "                            W,\n",
    "                            X_dev=X_dev, \n",
    "                            Y_dev=Y_dev,\n",
    "                            lr=0.00001, \n",
    "                            dropout=0.2,\n",
    "                            freeze_emb=False,\n",
    "                            tolerance=0.01,\n",
    "                            epochs=50)\n"
   ]
  },
  {
   "cell_type": "markdown",
   "metadata": {},
   "source": [
    "Plot the learning process:"
   ]
  },
  {
   "cell_type": "code",
   "execution_count": 30,
   "metadata": {
    "ExecuteTime": {
     "end_time": "2020-05-20T21:49:25.245199Z",
     "start_time": "2020-05-20T21:49:25.104393Z"
    }
   },
   "outputs": [
    {
     "data": {
      "image/png": "[encoded data removed]",
      "text/plain": [
       "<Figure size 432x288 with 1 Axes>"
      ]
     },
     "metadata": {
      "needs_background": "light"
     },
     "output_type": "display_data"
    }
   ],
   "source": [
    "%matplotlib inline\n",
    "fig = plt.figure()\n",
    "plt.plot(range(len(loss_tr)),loss_tr,label='training loss')\n",
    "plt.plot(range(len(dev_loss)),dev_loss,label='validation loss')\n",
    "\n",
    "plt.xlabel('Epochs')\n",
    "plt.ylabel('Loss')\n",
    "plt.title('Training Monitoring')\n",
    "\n",
    "plt.legend()\n",
    "plt.show()"
   ]
  },
  {
   "cell_type": "markdown",
   "metadata": {},
   "source": [
    "Compute accuracy, precision, recall and F1-Score:"
   ]
  },
  {
   "cell_type": "code",
   "execution_count": 31,
   "metadata": {
    "ExecuteTime": {
     "end_time": "2020-05-20T21:49:25.386374Z",
     "start_time": "2020-05-20T21:49:25.246307Z"
    }
   },
   "outputs": [
    {
     "name": "stdout",
     "output_type": "stream",
     "text": [
      "Accuracy: 0.8177777777777778\n",
      "Precision: 0.8174437765948438\n",
      "Recall: 0.8177777777777778\n",
      "F1-Score: 0.8164168081508762\n"
     ]
    }
   ],
   "source": [
    "preds_te = [np.argmax(forward_pass(x, W, dropout_rate=0.0)['y']) for x,y in zip(X_te,Y_te)]\n",
    "print('Accuracy:', accuracy_score(Y_te,preds_te))\n",
    "print('Precision:', precision_score(Y_te,preds_te,average='macro'))\n",
    "print('Recall:', recall_score(Y_te,preds_te,average='macro'))\n",
    "print('F1-Score:', f1_score(Y_te,preds_te,average='macro'))"
   ]
  },
  {
   "cell_type": "markdown",
   "metadata": {},
   "source": [
    "### Discuss how did you choose model hyperparameters ? "
   ]
  },
  {
   "cell_type": "markdown",
   "metadata": {},
   "source": [
    "**Choose Model Hyperparameters:**\n",
    "\n",
    "To choose hyperparameters, like dropout and embedding size, they can be found by drawing a line chart. Basically, use a grid search to find the optimal hyperparameters. This method is simple but time-consuming. Ideally, cross-validation should be used to screen the optimal hyperparameters, but because the training and validation sets have been divided, cross-validation is not very convenient.(Code of grid search is given below)\n",
    "\n",
    "**note:** The following hyperparameter optimization has limitations. Only a fixed training set and verification set are used. Ideally, it should be divided into multiple groups and cross-validation should be used. See, [Leave-One-Out Cross-Validation](https://en.wikipedia.org/wiki/Cross-validation_(statistics)#Leave-one-out_cross-validation)."
   ]
  },
  {
   "cell_type": "code",
   "execution_count": 32,
   "metadata": {
    "ExecuteTime": {
     "end_time": "2020-05-20T21:53:12.667541Z",
     "start_time": "2020-05-20T21:49:25.387472Z"
    }
   },
   "outputs": [
    {
     "data": {
      "image/png": "[encoded data removed]",
      "text/plain": [
       "<Figure size 432x288 with 1 Axes>"
      ]
     },
     "metadata": {
      "needs_background": "light"
     },
     "output_type": "display_data"
    }
   ],
   "source": [
    "# Initial hyperparameters\n",
    "fig = plt.figure()\n",
    "embeddings = [50,350,650,950]\n",
    "dropouts = [0.2,0.4,0.6]\n",
    "embeddings_num = len(embeddings)\n",
    "dropouts_num = len(dropouts)\n",
    "\n",
    "# Run trainings on different sets of hyperparameters\n",
    "for i in range(dropouts_num):\n",
    "    # Dropout Tune\n",
    "    dropout = dropouts[i]\n",
    "    tmp = list()\n",
    "    for j in range(embeddings_num):\n",
    "        # Embedding Tune\n",
    "        embedding = embeddings[j]\n",
    "        W = network_weights(vocab_size=len(vocab),embedding_dim=embedding,hidden_dim=[], num_classes=3)\n",
    "        W, _, _ = SGD(X_tr, Y_tr,\n",
    "                            W,\n",
    "                            X_dev=X_dev, \n",
    "                            Y_dev=Y_dev,\n",
    "                            lr=0.0001, \n",
    "                            dropout=dropout,\n",
    "                            freeze_emb=False,\n",
    "                            tolerance=0.001,\n",
    "                            epochs=50,\n",
    "                            print_progress=False)\n",
    "        preds_dev = [np.argmax(forward_pass(x, W, dropout_rate=0.0)['y']) for x,y in zip(X_dev,Y_dev)]\n",
    "        score = f1_score(Y_dev,preds_dev,average='macro')\n",
    "        tmp.append(score)\n",
    "    plt.plot(embeddings,tmp,label='dropout: {}'.format(dropout))\n",
    "    \n",
    "plt.xlabel('Embedding Size')\n",
    "plt.ylabel('F1 Score')\n",
    "plt.title('Hyperparameters: embedding & dropout')\n",
    "\n",
    "plt.legend()\n",
    "plt.show()"
   ]
  },
  {
   "cell_type": "markdown",
   "metadata": {},
   "source": [
    "**Chart description:**\n",
    "\n",
    "As shown in the figure above, the X axis represents the embedding size, and the Y axis refers to the accuracy rate. And different colored polylines indicate different dropout.\n",
    "\n",
    "**Embedding:** When the embedding size increases, the performance on the verification set gradually decreases. This may indicate that too large an embedding size is not necessarily good.\n",
    "\n",
    "**Dropout:** At the same time, it is worth noting that as the dropout increases, the performance also gradually declines."
   ]
  },
  {
   "cell_type": "markdown",
   "metadata": {},
   "source": [
    "**After Tuning, and set to best hyperparameters:**\n",
    "* Dropout: 0.2\n",
    "* Embedding Size: 650"
   ]
  },
  {
   "cell_type": "code",
   "execution_count": 37,
   "metadata": {
    "ExecuteTime": {
     "end_time": "2020-05-20T21:55:54.961631Z",
     "start_time": "2020-05-20T21:55:31.829295Z"
    }
   },
   "outputs": [
    {
     "data": {
      "image/png": "[encoded data removed]",
      "text/plain": [
       "<Figure size 432x288 with 1 Axes>"
      ]
     },
     "metadata": {
      "needs_background": "light"
     },
     "output_type": "display_data"
    },
    {
     "name": "stdout",
     "output_type": "stream",
     "text": [
      "Accuracy: 0.8111111111111111\n",
      "Precision: 0.8121017577078377\n",
      "Recall: 0.811111111111111\n",
      "F1-Score: 0.8100213844625325\n"
     ]
    }
   ],
   "source": [
    "W = network_weights(vocab_size=len(vocab),embedding_dim=650,hidden_dim=[], num_classes=3)\n",
    "\n",
    "W, loss_tr, dev_loss = SGD(X_tr, Y_tr,\n",
    "                            W,\n",
    "                            X_dev=X_dev, \n",
    "                            Y_dev=Y_dev,\n",
    "                            lr=0.00001, \n",
    "                            dropout=0.2,\n",
    "                            freeze_emb=False,\n",
    "                            tolerance=0.01,\n",
    "                            epochs=50,\n",
    "                            print_progress=False)\n",
    "\n",
    "fig = plt.figure()\n",
    "plt.plot(range(len(loss_tr)),loss_tr,label='training loss')\n",
    "plt.plot(range(len(dev_loss)),dev_loss,label='validation loss')\n",
    "\n",
    "plt.xlabel('Epochs')\n",
    "plt.ylabel('Loss')\n",
    "plt.title('Training Monitoring')\n",
    "\n",
    "plt.legend()\n",
    "plt.show()\n",
    "\n",
    "preds_te = [np.argmax(forward_pass(x, W, dropout_rate=0.0)['y']) for x,y in zip(X_te,Y_te)]\n",
    "print('Accuracy:', accuracy_score(Y_te,preds_te))\n",
    "print('Precision:', precision_score(Y_te,preds_te,average='macro'))\n",
    "print('Recall:', recall_score(Y_te,preds_te,average='macro'))\n",
    "print('F1-Score:', f1_score(Y_te,preds_te,average='macro'))"
   ]
  },
  {
   "cell_type": "markdown",
   "metadata": {},
   "source": [
    "# Use Pre-trained Embeddings\n",
    "\n",
    "Now re-train the network using GloVe pre-trained embeddings. You need to modify the `backward_pass` function above to stop computing gradients and updating weights of the embedding matrix.\n",
    "\n",
    "Use the function below to obtain the embedding martix for your vocabulary."
   ]
  },
  {
   "cell_type": "code",
   "execution_count": 38,
   "metadata": {
    "ExecuteTime": {
     "end_time": "2020-05-20T21:56:07.315975Z",
     "start_time": "2020-05-20T21:56:07.310356Z"
    }
   },
   "outputs": [],
   "source": [
    "def get_glove_embeddings(f_zip, f_txt, word2id, emb_size=300):\n",
    "    \n",
    "    w_emb = np.zeros((len(word2id), emb_size))\n",
    "    \n",
    "    with zipfile.ZipFile(f_zip) as z:\n",
    "        with z.open(f_txt) as f:\n",
    "            for line in f:\n",
    "                line = line.decode('utf-8')\n",
    "                word = line.split()[0]\n",
    "                     \n",
    "                if word in vocab:\n",
    "                    emb = np.array(line.strip('\\n').split()[1:]).astype(np.float32)\n",
    "                    w_emb[word2id[word]] +=emb\n",
    "    return w_emb"
   ]
  },
  {
   "cell_type": "code",
   "execution_count": 39,
   "metadata": {
    "ExecuteTime": {
     "end_time": "2020-05-20T21:57:52.139580Z",
     "start_time": "2020-05-20T21:56:09.101161Z"
    }
   },
   "outputs": [],
   "source": [
    "w_glove = get_glove_embeddings(\"glove.840B.300d.zip\",\"glove.840B.300d.txt\",vocab2id)"
   ]
  },
  {
   "cell_type": "markdown",
   "metadata": {},
   "source": [
    "First, initialise the weights of your network using the `network_weights` function. Second, replace the weigths of the embedding matrix with `w_glove`. Finally, train the network by freezing the embedding weights: "
   ]
  },
  {
   "cell_type": "code",
   "execution_count": 40,
   "metadata": {
    "ExecuteTime": {
     "end_time": "2020-05-20T21:58:20.299802Z",
     "start_time": "2020-05-20T21:57:52.141216Z"
    }
   },
   "outputs": [
    {
     "name": "stdout",
     "output_type": "stream",
     "text": [
      "Epoch: 1| Training loss: 0.742232| Validation loss: 0.848288\n",
      "Epoch: 2| Training loss: 0.553284| Validation loss: 0.705833\n",
      "Epoch: 3| Training loss: 0.449172| Validation loss: 0.622520\n",
      "Epoch: 4| Training loss: 0.381603| Validation loss: 0.563187\n",
      "Epoch: 5| Training loss: 0.333123| Validation loss: 0.521103\n",
      "Epoch: 6| Training loss: 0.295180| Validation loss: 0.488474\n",
      "Epoch: 7| Training loss: 0.265242| Validation loss: 0.462202\n",
      "Epoch: 8| Training loss: 0.240493| Validation loss: 0.442782\n",
      "Epoch: 9| Training loss: 0.219987| Validation loss: 0.424984\n",
      "Epoch: 10| Training loss: 0.202043| Validation loss: 0.411479\n",
      "Epoch: 11| Training loss: 0.185942| Validation loss: 0.399799\n",
      "Epoch: 12| Training loss: 0.172182| Validation loss: 0.390815\n",
      "Epoch: 13| Training loss: 0.159965| Validation loss: 0.382011\n",
      "Epoch: 14| Training loss: 0.148822| Validation loss: 0.375543\n",
      "Epoch: 15| Training loss: 0.139095| Validation loss: 0.369182\n",
      "Epoch: 16| Training loss: 0.130418| Validation loss: 0.362481\n",
      "Epoch: 17| Training loss: 0.122403| Validation loss: 0.356168\n",
      "Epoch: 18| Training loss: 0.115197| Validation loss: 0.352008\n",
      "Epoch: 19| Training loss: 0.108486| Validation loss: 0.348140\n",
      "Epoch: 20| Training loss: 0.102775| Validation loss: 0.343803\n",
      "Epoch: 21| Training loss: 0.097428| Validation loss: 0.341177\n",
      "Epoch: 22| Training loss: 0.092419| Validation loss: 0.337802\n",
      "Epoch: 23| Training loss: 0.087588| Validation loss: 0.336658\n",
      "Epoch: 24| Training loss: 0.083422| Validation loss: 0.333302\n",
      "Epoch: 25| Training loss: 0.079332| Validation loss: 0.331343\n",
      "Epoch: 26| Training loss: 0.075498| Validation loss: 0.329968\n",
      "Epoch: 27| Training loss: 0.072146| Validation loss: 0.328237\n",
      "Epoch: 28| Training loss: 0.069067| Validation loss: 0.326645\n",
      "Epoch: 29| Training loss: 0.066163| Validation loss: 0.324488\n",
      "Epoch: 30| Training loss: 0.063433| Validation loss: 0.323250\n",
      "Epoch: 31| Training loss: 0.060667| Validation loss: 0.323653\n"
     ]
    }
   ],
   "source": [
    "W = network_weights(vocab_size=len(vocab),embedding_dim=300,hidden_dim=[], num_classes=3)\n",
    "W[0] = w_glove\n",
    "W, loss_tr, dev_loss = SGD(X_tr, Y_tr,\n",
    "                            W,\n",
    "                            X_dev=X_dev, \n",
    "                            Y_dev=Y_dev,\n",
    "                            lr=0.0001, \n",
    "                            dropout=0.2,\n",
    "                            freeze_emb=True,\n",
    "                            tolerance=0.001,\n",
    "                            epochs=50)"
   ]
  },
  {
   "cell_type": "code",
   "execution_count": 41,
   "metadata": {
    "ExecuteTime": {
     "end_time": "2020-05-20T21:58:20.462426Z",
     "start_time": "2020-05-20T21:58:20.301246Z"
    }
   },
   "outputs": [
    {
     "name": "stdout",
     "output_type": "stream",
     "text": [
      "Accuracy: 0.8411111111111111\n",
      "Precision: 0.8498343733441617\n",
      "Recall: 0.8411111111111111\n",
      "F1-Score: 0.841701026388176\n"
     ]
    }
   ],
   "source": [
    "preds_te = [np.argmax(forward_pass(x, W, dropout_rate=0.0)['y']) for x,y in zip(X_te,Y_te)]\n",
    "print('Accuracy:', accuracy_score(Y_te,preds_te))\n",
    "print('Precision:', precision_score(Y_te,preds_te,average='macro'))\n",
    "print('Recall:', recall_score(Y_te,preds_te,average='macro'))\n",
    "print('F1-Score:', f1_score(Y_te,preds_te,average='macro'))"
   ]
  },
  {
   "cell_type": "markdown",
   "metadata": {},
   "source": [
    "**Comparison of results:**\n",
    "\n",
    "By comparing the pre-trained and untrained embedding results, we can find that the pre-trained embedding model performs better, but this is also limited. Using a pre-trained embedding model can slightly improve the performance of the model."
   ]
  },
  {
   "cell_type": "markdown",
   "metadata": {},
   "source": [
    "### Discuss how did you choose model hyperparameters ? "
   ]
  },
  {
   "cell_type": "markdown",
   "metadata": {},
   "source": [
    "**Choose Model Hyperparameters:**\n",
    "\n",
    "To choose hyperparameters, like dropout and embedding size, they can be found by drawing a line chart. Basically, use a grid search to find the optimal hyperparameters. This method is simple but time-consuming. Ideally, cross-validation should be used to screen the optimal hyperparameters, but because the training and validation sets have been divided, cross-validation is not very convenient.(Code of grid search is given below)\n",
    "\n",
    "**note:** The following hyperparameter optimization has limitations. Only a fixed training set and verification set are used. Ideally, it should be divided into multiple groups and cross-validation should be used. See, [Leave-One-Out Cross-Validation](https://en.wikipedia.org/wiki/Cross-validation_(statistics)#Leave-one-out_cross-validation)."
   ]
  },
  {
   "cell_type": "code",
   "execution_count": 42,
   "metadata": {
    "ExecuteTime": {
     "end_time": "2020-05-20T22:01:45.884694Z",
     "start_time": "2020-05-20T21:59:19.158441Z"
    }
   },
   "outputs": [
    {
     "data": {
      "image/png": "[encoded data removed]",
      "text/plain": [
       "<Figure size 432x288 with 1 Axes>"
      ]
     },
     "metadata": {
      "needs_background": "light"
     },
     "output_type": "display_data"
    }
   ],
   "source": [
    "# Initial hyperparameters\n",
    "fig = plt.figure()\n",
    "lrs = [0.001,0.0001,0.00001]\n",
    "dropouts = [0.2,0.4,0.6]\n",
    "lr_num = len(lrs)\n",
    "dropouts_num = len(dropouts)\n",
    "\n",
    "# Run trainings on different sets of hyperparameters\n",
    "for i in range(dropouts_num):\n",
    "    # Dropout Tune\n",
    "    dropout = dropouts[i]\n",
    "    tmp = list()\n",
    "    for j in range(lr_num):\n",
    "        # Embedding Tune\n",
    "        lr = lrs[j]\n",
    "        W = network_weights(vocab_size=len(vocab),embedding_dim=300,hidden_dim=[], num_classes=3)\n",
    "        W[0] = w_glove\n",
    "        W, _, _ = SGD(X_tr, Y_tr,\n",
    "                            W,\n",
    "                            X_dev=X_dev, \n",
    "                            Y_dev=Y_dev,\n",
    "                            lr=lr, \n",
    "                            dropout=dropout,\n",
    "                            freeze_emb=True,\n",
    "                            tolerance=0.001,\n",
    "                            epochs=50,\n",
    "                            print_progress=False)\n",
    "        preds_dev = [np.argmax(forward_pass(x, W, dropout_rate=0.0)['y']) for x,y in zip(X_dev,Y_dev)]\n",
    "        score = f1_score(Y_dev,preds_dev,average='macro')\n",
    "        tmp.append(score)\n",
    "    plt.plot(lrs,tmp,label='dropout: {}'.format(dropout))\n",
    "    \n",
    "plt.xlabel('Learning Rate')\n",
    "plt.ylabel('F1 Score')\n",
    "plt.title('Hyperparameters: learning rate & dropout')\n",
    "\n",
    "plt.legend()\n",
    "plt.show()"
   ]
  },
  {
   "cell_type": "markdown",
   "metadata": {},
   "source": [
    "**Chart description:**\n",
    "\n",
    "As shown in the figure above, the X axis represents the embedding size, and the Y axis refers to the accuracy rate. And different colored polylines indicate different dropout.\n",
    "\n",
    "**Dropout:** At the same time, it is worth noting that as the dropout increases, the performance also gradually declines.\n",
    "\n",
    "**Learning rate:** When the learning rate is large, it will not be able to converge to the lowest point, making the model performance worse."
   ]
  },
  {
   "cell_type": "markdown",
   "metadata": {},
   "source": [
    "**After Tuning, and set to best hyperparameters:**\n",
    "* Dropout: 0.2\n",
    "* Learning rate: 0.001"
   ]
  },
  {
   "cell_type": "code",
   "execution_count": 44,
   "metadata": {
    "ExecuteTime": {
     "end_time": "2020-05-20T22:03:23.202737Z",
     "start_time": "2020-05-20T22:02:55.221088Z"
    }
   },
   "outputs": [
    {
     "data": {
      "image/png": "[encoded data removed]",
      "text/plain": [
       "<Figure size 432x288 with 1 Axes>"
      ]
     },
     "metadata": {
      "needs_background": "light"
     },
     "output_type": "display_data"
    },
    {
     "name": "stdout",
     "output_type": "stream",
     "text": [
      "Accuracy: 0.8411111111111111\n",
      "Precision: 0.8457026908834138\n",
      "Recall: 0.8411111111111111\n",
      "F1-Score: 0.8412613813013546\n"
     ]
    }
   ],
   "source": [
    "W = network_weights(vocab_size=len(vocab),embedding_dim=300,hidden_dim=[], num_classes=3)\n",
    "W[0] = w_glove\n",
    "W, loss_tr, dev_loss = SGD(X_tr, Y_tr,\n",
    "                            W,\n",
    "                            X_dev=X_dev, \n",
    "                            Y_dev=Y_dev,\n",
    "                            lr=0.001, \n",
    "                            dropout=0.2,\n",
    "                            freeze_emb=True,\n",
    "                            tolerance=0.0001,\n",
    "                            epochs=50,\n",
    "                            print_progress=False)\n",
    "\n",
    "fig = plt.figure()\n",
    "plt.plot(range(len(loss_tr)),loss_tr,label='training loss')\n",
    "plt.plot(range(len(dev_loss)),dev_loss,label='validation loss')\n",
    "\n",
    "plt.xlabel('Epochs')\n",
    "plt.ylabel('Loss')\n",
    "plt.title('Training Monitoring')\n",
    "\n",
    "plt.legend()\n",
    "plt.show()\n",
    "\n",
    "preds_te = [np.argmax(forward_pass(x, W, dropout_rate=0.0)['y']) for x,y in zip(X_te,Y_te)]\n",
    "print('Accuracy:', accuracy_score(Y_te,preds_te))\n",
    "print('Precision:', precision_score(Y_te,preds_te,average='macro'))\n",
    "print('Recall:', recall_score(Y_te,preds_te,average='macro'))\n",
    "print('F1-Score:', f1_score(Y_te,preds_te,average='macro'))"
   ]
  },
  {
   "cell_type": "markdown",
   "metadata": {},
   "source": [
    "# Extend to support deeper architectures (Bonus)\n",
    "\n",
    "Extend the network to support back-propagation for more hidden layers. You need to modify the `backward_pass` function above to compute gradients and update the weights between intermediate hidden layers. Finally, train and evaluate a network with a deeper architecture. "
   ]
  },
  {
   "cell_type": "code",
   "execution_count": 45,
   "metadata": {
    "ExecuteTime": {
     "end_time": "2020-05-20T22:04:54.883628Z",
     "start_time": "2020-05-20T22:03:47.344446Z"
    }
   },
   "outputs": [
    {
     "name": "stdout",
     "output_type": "stream",
     "text": [
      "Epoch: 1| Training loss: 10.850649| Validation loss: 8.606941\n",
      "Epoch: 2| Training loss: 9.671159| Validation loss: 7.509455\n",
      "Epoch: 3| Training loss: 8.553329| Validation loss: 6.514850\n",
      "Epoch: 4| Training loss: 7.578110| Validation loss: 5.673981\n",
      "Epoch: 5| Training loss: 6.751562| Validation loss: 4.979463\n",
      "Epoch: 6| Training loss: 6.032103| Validation loss: 4.397106\n",
      "Epoch: 7| Training loss: 5.408632| Validation loss: 3.915014\n",
      "Epoch: 8| Training loss: 4.890166| Validation loss: 3.535966\n",
      "Epoch: 9| Training loss: 4.412994| Validation loss: 3.198515\n",
      "Epoch: 10| Training loss: 3.969365| Validation loss: 2.886754\n",
      "Epoch: 11| Training loss: 3.547853| Validation loss: 2.598655\n",
      "Epoch: 12| Training loss: 3.097134| Validation loss: 2.308672\n",
      "Epoch: 13| Training loss: 2.668030| Validation loss: 2.049226\n",
      "Epoch: 14| Training loss: 2.233956| Validation loss: 1.798375\n",
      "Epoch: 15| Training loss: 1.835578| Validation loss: 1.579538\n",
      "Epoch: 16| Training loss: 1.506585| Validation loss: 1.409317\n",
      "Epoch: 17| Training loss: 1.222506| Validation loss: 1.261316\n",
      "Epoch: 18| Training loss: 0.997873| Validation loss: 1.147018\n",
      "Epoch: 19| Training loss: 0.819297| Validation loss: 1.051116\n",
      "Epoch: 20| Training loss: 0.680879| Validation loss: 0.968654\n",
      "Epoch: 21| Training loss: 0.593396| Validation loss: 0.906882\n",
      "Epoch: 22| Training loss: 0.535688| Validation loss: 0.854946\n",
      "Epoch: 23| Training loss: 0.498724| Validation loss: 0.811772\n",
      "Epoch: 24| Training loss: 0.475904| Validation loss: 0.778658\n",
      "Epoch: 25| Training loss: 0.459931| Validation loss: 0.751107\n",
      "Epoch: 26| Training loss: 0.448274| Validation loss: 0.725784\n",
      "Epoch: 27| Training loss: 0.439644| Validation loss: 0.705715\n",
      "Epoch: 28| Training loss: 0.433539| Validation loss: 0.686698\n",
      "Epoch: 29| Training loss: 0.428488| Validation loss: 0.671209\n",
      "Epoch: 30| Training loss: 0.423912| Validation loss: 0.656977\n",
      "Epoch: 31| Training loss: 0.420141| Validation loss: 0.644936\n",
      "Epoch: 32| Training loss: 0.416949| Validation loss: 0.633897\n",
      "Epoch: 33| Training loss: 0.415274| Validation loss: 0.626195\n",
      "Epoch: 34| Training loss: 0.412913| Validation loss: 0.617324\n",
      "Epoch: 35| Training loss: 0.410287| Validation loss: 0.610145\n",
      "Epoch: 36| Training loss: 0.409861| Validation loss: 0.602611\n",
      "Epoch: 37| Training loss: 0.406816| Validation loss: 0.596222\n",
      "Epoch: 38| Training loss: 0.404621| Validation loss: 0.591118\n",
      "Epoch: 39| Training loss: 0.402985| Validation loss: 0.586074\n",
      "Epoch: 40| Training loss: 0.402771| Validation loss: 0.580460\n",
      "Epoch: 41| Training loss: 0.399679| Validation loss: 0.574765\n",
      "Epoch: 42| Training loss: 0.398220| Validation loss: 0.568758\n",
      "Epoch: 43| Training loss: 0.397479| Validation loss: 0.565183\n",
      "Epoch: 44| Training loss: 0.395852| Validation loss: 0.560612\n",
      "Epoch: 45| Training loss: 0.394580| Validation loss: 0.556673\n",
      "Epoch: 46| Training loss: 0.393858| Validation loss: 0.553509\n",
      "Epoch: 47| Training loss: 0.393765| Validation loss: 0.548294\n",
      "Epoch: 48| Training loss: 0.393349| Validation loss: 0.544951\n",
      "Epoch: 49| Training loss: 0.391396| Validation loss: 0.541920\n",
      "Epoch: 50| Training loss: 0.389531| Validation loss: 0.539692\n"
     ]
    }
   ],
   "source": [
    "W = network_weights(vocab_size=len(vocab),embedding_dim=300,hidden_dim=[100,30], num_classes=3)\n",
    "W[0] = w_glove\n",
    "W, loss_tr, dev_loss = SGD(X_tr, Y_tr,\n",
    "                            W,\n",
    "                            X_dev=X_dev, \n",
    "                            Y_dev=Y_dev,\n",
    "                            lr=0.000001, \n",
    "                            dropout=0.2,\n",
    "                            freeze_emb=True,\n",
    "                            tolerance=0.001,\n",
    "                            epochs=50)"
   ]
  },
  {
   "cell_type": "code",
   "execution_count": 46,
   "metadata": {
    "ExecuteTime": {
     "end_time": "2020-05-20T22:05:08.874849Z",
     "start_time": "2020-05-20T22:05:08.752200Z"
    }
   },
   "outputs": [
    {
     "data": {
      "image/png": "[encoded data removed]",
      "text/plain": [
       "<Figure size 432x288 with 1 Axes>"
      ]
     },
     "metadata": {
      "needs_background": "light"
     },
     "output_type": "display_data"
    }
   ],
   "source": [
    "fig = plt.figure()\n",
    "plt.plot(range(len(loss_tr)),loss_tr,label='training loss')\n",
    "plt.plot(range(len(dev_loss)),dev_loss,label='validation loss')\n",
    "\n",
    "plt.xlabel('Epochs')\n",
    "plt.ylabel('Loss')\n",
    "plt.title('Training Monitoring')\n",
    "\n",
    "plt.legend()\n",
    "plt.show()"
   ]
  },
  {
   "cell_type": "code",
   "execution_count": 47,
   "metadata": {
    "ExecuteTime": {
     "end_time": "2020-05-20T22:05:13.540076Z",
     "start_time": "2020-05-20T22:05:13.332848Z"
    }
   },
   "outputs": [
    {
     "name": "stdout",
     "output_type": "stream",
     "text": [
      "Accuracy: 0.8044444444444444\n",
      "Precision: 0.8036439607706726\n",
      "Recall: 0.8044444444444445\n",
      "F1-Score: 0.8030810897033458\n"
     ]
    }
   ],
   "source": [
    "preds_te = [np.argmax(forward_pass(x, W, dropout_rate=0.0)['y']) for x,y in zip(X_te,Y_te)]\n",
    "print('Accuracy:', accuracy_score(Y_te,preds_te))\n",
    "print('Precision:', precision_score(Y_te,preds_te,average='macro'))\n",
    "print('Recall:', recall_score(Y_te,preds_te,average='macro'))\n",
    "print('F1-Score:', f1_score(Y_te,preds_te,average='macro'))"
   ]
  },
  {
   "cell_type": "markdown",
   "metadata": {
    "ExecuteTime": {
     "end_time": "2020-05-20T21:45:21.086905Z",
     "start_time": "2020-05-20T21:45:21.084222Z"
    }
   },
   "source": [
    "**Use tuning to choose model hyperparameters:**"
   ]
  },
  {
   "cell_type": "code",
   "execution_count": 48,
   "metadata": {
    "ExecuteTime": {
     "end_time": "2020-05-20T22:11:03.749226Z",
     "start_time": "2020-05-20T22:06:19.409400Z"
    }
   },
   "outputs": [
    {
     "data": {
      "image/png": "[encoded data removed]",
      "text/plain": [
       "<Figure size 432x288 with 1 Axes>"
      ]
     },
     "metadata": {
      "needs_background": "light"
     },
     "output_type": "display_data"
    }
   ],
   "source": [
    "# Initial hyperparameters\n",
    "fig = plt.figure()\n",
    "lrs = [0.0001,0.00001,0.000001]\n",
    "dropouts = [0.2,0.4,0.6]\n",
    "lr_num = len(lrs)\n",
    "dropouts_num = len(dropouts)\n",
    "\n",
    "# Run trainings on different sets of hyperparameters\n",
    "for i in range(dropouts_num):\n",
    "    # Dropout Tune\n",
    "    dropout = dropouts[i]\n",
    "    tmp = list()\n",
    "    for j in range(lr_num):\n",
    "        # Embedding Tune\n",
    "        lr = lrs[j]\n",
    "        W = network_weights(vocab_size=len(vocab),embedding_dim=300,hidden_dim=[100,30], num_classes=3)\n",
    "        W[0] = w_glove\n",
    "        W, _, _ = SGD(X_tr, Y_tr,\n",
    "                            W,\n",
    "                            X_dev=X_dev, \n",
    "                            Y_dev=Y_dev,\n",
    "                            lr=lr, \n",
    "                            dropout=dropout,\n",
    "                            freeze_emb=True,\n",
    "                            tolerance=0.001,\n",
    "                            epochs=50,\n",
    "                            print_progress=False)\n",
    "        preds_dev = [np.argmax(forward_pass(x, W, dropout_rate=0.0)['y']) for x,y in zip(X_dev,Y_dev)]\n",
    "        score = f1_score(Y_dev,preds_dev,average='macro')\n",
    "        tmp.append(score)\n",
    "    plt.plot(lrs,tmp,label='dropout: {}'.format(dropout))\n",
    "    \n",
    "plt.xlabel('Learning Rate')\n",
    "plt.ylabel('F1 Score')\n",
    "plt.title('Hyperparameters: learning rate & dropout')\n",
    "\n",
    "plt.legend()\n",
    "plt.show()"
   ]
  },
  {
   "cell_type": "markdown",
   "metadata": {},
   "source": [
    "**After Tuning, and set to best hyperparameters:**\n",
    "* Dropout: 0.2\n",
    "* Learning rate: 0.0001"
   ]
  },
  {
   "cell_type": "code",
   "execution_count": 55,
   "metadata": {
    "ExecuteTime": {
     "end_time": "2020-05-20T22:18:47.068991Z",
     "start_time": "2020-05-20T22:16:57.672952Z"
    }
   },
   "outputs": [
    {
     "data": {
      "image/png": "[encoded data removed]",
      "text/plain": [
       "<Figure size 432x288 with 1 Axes>"
      ]
     },
     "metadata": {
      "needs_background": "light"
     },
     "output_type": "display_data"
    },
    {
     "name": "stdout",
     "output_type": "stream",
     "text": [
      "Accuracy: 0.8122222222222222\n",
      "Precision: 0.8248228309127356\n",
      "Recall: 0.8122222222222222\n",
      "F1-Score: 0.813196611152632\n"
     ]
    }
   ],
   "source": [
    "W = network_weights(vocab_size=len(vocab),embedding_dim=300,hidden_dim=[100,30], num_classes=3)\n",
    "W[0] = w_glove\n",
    "W, loss_tr, dev_loss = SGD(X_tr, Y_tr,\n",
    "                            W,\n",
    "                            X_dev=X_dev, \n",
    "                            Y_dev=Y_dev,\n",
    "                            lr=0.000001, \n",
    "                            dropout=0.2,\n",
    "                            freeze_emb=True,\n",
    "                            tolerance=-0.01,\n",
    "                            epochs=80,\n",
    "                            print_progress=False)\n",
    "\n",
    "fig = plt.figure()\n",
    "plt.plot(range(len(loss_tr)),loss_tr,label='training loss')\n",
    "plt.plot(range(len(dev_loss)),dev_loss,label='validation loss')\n",
    "\n",
    "plt.xlabel('Epochs')\n",
    "plt.ylabel('Loss')\n",
    "plt.title('Training Monitoring')\n",
    "\n",
    "plt.legend()\n",
    "plt.show()\n",
    "\n",
    "preds_te = [np.argmax(forward_pass(x, W, dropout_rate=0.0)['y']) for x,y in zip(X_te,Y_te)]\n",
    "print('Accuracy:', accuracy_score(Y_te,preds_te))\n",
    "print('Precision:', precision_score(Y_te,preds_te,average='macro'))\n",
    "print('Recall:', recall_score(Y_te,preds_te,average='macro'))\n",
    "print('F1-Score:', f1_score(Y_te,preds_te,average='macro'))"
   ]
  },
  {
   "cell_type": "markdown",
   "metadata": {},
   "source": [
    "## Full Results\n",
    "\n",
    "Add your final results here:\n",
    "\n",
    "| Model | Precision  | Recall  | F1-Score  | Accuracy\n",
    "|:-:|:-:|:-:|:-:|:-:|\n",
    "| Average Embedding  | 0.812  |  0.811 |  0.810 |  0.811 |\n",
    "| Average Embedding (Pre-trained)  |  0.845 | 0.841  | 0.841  |   0.841|\n",
    "| Average Embedding (Pre-trained) + X hidden layers (BONUS)   | 0.824  | 0.812  |  0.813 |  0.812 |\n"
   ]
  },
  {
   "cell_type": "markdown",
   "metadata": {},
   "source": [
    "**Performance:** \n",
    "\n",
    "Pre-trained Embedding > Pre-trained Embedding + hidden layers > Embedding\n",
    "\n",
    "* It may be because there are many parameters in the multilayer neural network, and it is more difficult to converge to the global lowest point. So the final F1 score is not particularly high. \n",
    "\n",
    "* Another reason is that because SGD is used instead of GD, the gradient in SGD does not necessarily point to the global lowest point, but to the lower point under the current data point.\n",
    "\n",
    "But overall, the three models have achieved good performance levels, all exceeding 80%."
   ]
  },
  {
   "cell_type": "code",
   "execution_count": null,
   "metadata": {},
   "outputs": [],
   "source": []
  }
 ],
 "metadata": {
  "kernelspec": {
   "display_name": "Python 3",
   "language": "python",
   "name": "python3"
  },
  "language_info": {
   "codemirror_mode": {
    "name": "ipython",
    "version": 3
   },
   "file_extension": ".py",
   "mimetype": "text/x-python",
   "name": "python",
   "nbconvert_exporter": "python",
   "pygments_lexer": "ipython3",
   "version": "3.7.3"
  },
  "latex_envs": {
   "LaTeX_envs_menu_present": true,
   "autoclose": false,
   "autocomplete": true,
   "bibliofile": "biblio.bib",
   "cite_by": "apalike",
   "current_citInitial": 1,
   "eqLabelWithNumbers": true,
   "eqNumInitial": 1,
   "hotkeys": {
    "equation": "Ctrl-E",
    "itemize": "Ctrl-I"
   },
   "labels_anchors": false,
   "latex_user_defs": false,
   "report_style_numbering": false,
   "user_envs_cfg": false
  },
  "varInspector": {
   "cols": {
    "lenName": 16,
    "lenType": 16,
    "lenVar": 40
   },
   "kernels_config": {
    "python": {
     "delete_cmd_postfix": "",
     "delete_cmd_prefix": "del ",
     "library": "var_list.py",
     "varRefreshCmd": "print(var_dic_list())"
    },
    "r": {
     "delete_cmd_postfix": ") ",
     "delete_cmd_prefix": "rm(",
     "library": "var_list.r",
     "varRefreshCmd": "cat(var_dic_list()) "
    }
   },
   "types_to_exclude": [
    "module",
    "function",
    "builtin_function_or_method",
    "instance",
    "_Feature"
   ],
   "window_display": false
  }
 },
 "nbformat": 4,
 "nbformat_minor": 2
}
