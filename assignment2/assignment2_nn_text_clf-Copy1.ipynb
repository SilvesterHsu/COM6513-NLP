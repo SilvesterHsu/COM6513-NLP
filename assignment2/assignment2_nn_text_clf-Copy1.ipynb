{
 "cells": [
  {
   "cell_type": "markdown",
   "metadata": {},
   "source": [
    "# [COM4513-6513] Assignment 2: Text Classification with a Feedforward Network\n",
    "\n",
    "\n",
    "### Instructor: Nikos Aletras\n",
    "\n",
    "\n",
    "The goal of this assignment is to develop a Feedforward network for text classification. \n",
    "\n",
    "\n",
    "\n",
    "For that purpose, you will implement:\n",
    "\n",
    "- Text processing methods for transforming raw text data into input vectors for your network  (**1 mark**)\n",
    "- A Feedforward network consisting of:\n",
    "    - **One-hot** input layer mapping words into an **Embedding weight matrix** (**1 mark**)\n",
    "    - **One hidden layer** computing the mean embedding vector of all words in input followed by a **ReLU activation function** (**1 mark**)\n",
    "    - **Output layer** with a **softmax** activation. (**1 mark**)\n",
    "- The Stochastic Gradient Descent (SGD) algorithm with **back-propagation** to learn the weights of your Neural network. Your algorithm should:\n",
    "    - Use (and minimise) the **Categorical Cross-entropy loss** function (**1 mark**)\n",
    "    - Perform a **Forward pass** to compute intermediate outputs (**4 marks**)\n",
    "    - Perform a **Backward pass** to compute gradients and update all sets of weights (**4 marks**)\n",
    "    - Implement and use **Dropout** after each hidden layer for regularisation (**2 marks**)\n",
    "- Discuss how did you choose hyperparameters? You can tune the learning rate (hint: choose small values), embedding size {e.g. 50, 300, 500}, the dropout rate {e.g. 0.2, 0.5} and the learning rate. Please use tables or graphs to show training and validation performance for each hyperparam combination  (**2 marks**). \n",
    "- After training the model, plot the learning process (i.e. training and validation loss in each epoch) using a line plot and report accuracy.\n",
    "- Re-train your network by using pre-trained embeddings ([GloVe](https://nlp.stanford.edu/projects/glove/)) trained on large corpora. Instead of randomly initialising the embedding weights matrix, you should initialise it with the pre-trained weights. During training, you should not update them (i.e. weight freezing) and backprop should stop before computing gradients for updating embedding weights. Report results by performing hyperparameter tuning and plotting the learning process. Do you get better performance? (**3 marks**).\n",
    "\n",
    "- **BONUS:** Extend you Feedforward network by adding more hidden layers (e.g. one more). How does it affect the performance? Note: You need to repeat hyperparameter tuning, but the number of combinations grows exponentially. Therefore, you need to choose a subset of all possible combinations (**+2 extra marks**)\n",
    "\n",
    "\n",
    "\n",
    "### Data \n",
    "\n",
    "The data you will use for Task 2 is a subset of the [AG News Corpus](http://groups.di.unipi.it/~gulli/AG_corpus_of_news_articles.html) and you can find it in the `./data_topic` folder in CSV format:\n",
    "\n",
    "- `data_topic/train.csv`: contains 2,400 news articles, 800 for each class to be used for training.\n",
    "- `data_topic/dev.csv`: contains 150 news articles, 50 for each class to be used for hyperparameter selection and monitoring the training process.\n",
    "- `data_topic/test.csv`: contains 900 news articles, 300 for each class to be used for testing.\n",
    "\n",
    "### Pre-trained Embeddings\n",
    "\n",
    "You can download pre-trained GloVe embeddings trained on Common Crawl (840B tokens, 2.2M vocab, cased, 300d vectors, 2.03 GB download) from [here](http://nlp.stanford.edu/data/glove.840B.300d.zip). No need to unzip, the file is large.\n",
    "\n",
    "### Save Memory\n",
    "\n",
    "To save RAM, when you finish each experiment you can delete the weights of your network using `del W` followed by Python's garbage collector `gc.collect()`\n",
    "\n",
    "\n",
    "\n",
    "\n",
    "### Submission Instructions\n",
    "\n",
    "You should submit a Jupyter Notebook file (assignment2.ipynb) and an exported PDF version (you can do it from Jupyter: `File->Download as->PDF via Latex`).\n",
    "\n",
    "You are advised to follow the code structure given in this notebook by completing all given funtions. You can also write any auxilliary/helper functions (and arguments for the functions) that you might need but note that you can provide a full solution without any such functions. Similarly, you can just use only the packages imported below but you are free to use any functionality from the [Python Standard Library](https://docs.python.org/2/library/index.html), NumPy, SciPy and Pandas. You are not allowed to use any third-party library such as Scikit-learn (apart from metric functions already provided), NLTK, Spacy, Keras etc.. You are allowed to re-use your code from Assignment 1.\n",
    "\n",
    "Please make sure to comment your code. You should also mention if you've used Windows to write and test your code. There is no single correct answer on what your accuracy should be, but correct implementations usually achieve F1 of ~75-80% and ~85% without and with using pre-trained embeddings respectively. \n",
    "\n",
    "This assignment will be marked out of 20. It is worth 20\\% of your final grade in the module. If you implement the bonus question you can get up to 2 extra points but your final grade will be capped at 20.\n",
    "\n",
    "The deadline for this assignment is **23:59 on Mon, 18 May 2020** and it needs to be submitted via Blackboard (MOLE). Standard departmental penalties for lateness will be applied. We use a range of strategies to detect [unfair means](https://www.sheffield.ac.uk/ssid/unfair-means/index), including Turnitin which helps detect plagiarism, so make sure you do not plagiarise.\n",
    "\n"
   ]
  },
  {
   "cell_type": "code",
   "execution_count": 1,
   "metadata": {
    "ExecuteTime": {
     "end_time": "2020-05-19T10:30:16.912889Z",
     "start_time": "2020-05-19T10:30:16.329670Z"
    }
   },
   "outputs": [],
   "source": [
    "import pandas as pd\n",
    "import numpy as np\n",
    "from collections import Counter\n",
    "import re\n",
    "import matplotlib.pyplot as plt\n",
    "from sklearn.metrics import accuracy_score, precision_score, recall_score, f1_score\n",
    "import random\n",
    "from time import localtime, strftime\n",
    "from scipy.stats import spearmanr,pearsonr\n",
    "import zipfile\n",
    "import gc\n",
    "\n",
    "# fixing random seed for reproducibility\n",
    "random.seed(123)\n",
    "np.random.seed(123)\n"
   ]
  },
  {
   "cell_type": "markdown",
   "metadata": {},
   "source": [
    "## Transform Raw texts into training and development data\n",
    "\n",
    "First, you need to load the training, development and test sets from their corresponding CSV files (tip: you can use Pandas dataframes)."
   ]
  },
  {
   "cell_type": "code",
   "execution_count": 2,
   "metadata": {
    "ExecuteTime": {
     "end_time": "2020-05-19T10:30:16.941294Z",
     "start_time": "2020-05-19T10:30:16.917271Z"
    }
   },
   "outputs": [],
   "source": [
    "# Load dateset\n",
    "data_tr = pd.read_csv(\"./data_topic/train.csv\", header=None, names=['label','text'])\n",
    "data_te = pd.read_csv(\"./data_topic/test.csv\", header=None, names=['label','text'])\n",
    "data_dev = pd.read_csv(\"./data_topic/dev.csv\", header=None, names=['label','text'])"
   ]
  },
  {
   "cell_type": "code",
   "execution_count": 3,
   "metadata": {
    "ExecuteTime": {
     "end_time": "2020-05-19T10:30:16.947644Z",
     "start_time": "2020-05-19T10:30:16.943131Z"
    }
   },
   "outputs": [],
   "source": [
    "# transform test to list, and label to numpy arrays\n",
    "def transform(df):\n",
    "    return list(df['text']), df['label'].to_numpy().reshape(-1,1)\n",
    "\n",
    "X_tr_raw, Y_tr = transform(data_tr)\n",
    "X_te_raw, Y_te = transform(data_te)\n",
    "X_dev_raw, Y_dev = transform(data_dev)"
   ]
  },
  {
   "cell_type": "markdown",
   "metadata": {},
   "source": [
    "# Create input representations\n",
    "\n",
    "\n",
    "To train your Feedforward network, you first need to obtain input representations given a vocabulary. One-hot encoding requires large memory capacity. Therefore, we will instead represent documents as lists of vocabulary indices (each word corresponds to a vocabulary index). \n",
    "\n",
    "\n",
    "## Text Pre-Processing Pipeline\n",
    "\n",
    "To obtain a vocabulary of words. You should: \n",
    "- tokenise all texts into a list of unigrams (tip: you can re-use the functions from Assignment 1) \n",
    "- remove stop words (using the one provided or one of your preference) \n",
    "- remove unigrams appearing in less than K documents\n",
    "- use the remaining to create a vocabulary of the top-N most frequent unigrams in the entire corpus.\n"
   ]
  },
  {
   "cell_type": "code",
   "execution_count": 4,
   "metadata": {
    "ExecuteTime": {
     "end_time": "2020-05-19T10:30:16.953563Z",
     "start_time": "2020-05-19T10:30:16.948957Z"
    }
   },
   "outputs": [],
   "source": [
    "stop_words = ['a','in','on','at','and','or', \n",
    "              'to', 'the', 'of', 'an', 'by', \n",
    "              'as', 'is', 'was', 'were', 'been', 'be', \n",
    "              'are','for', 'this', 'that', 'these', 'those', 'you', 'i', 'if',\n",
    "             'it', 'he', 'she', 'we', 'they', 'will', 'have', 'has',\n",
    "              'do', 'did', 'can', 'could', 'who', 'which', 'what',\n",
    "              'but', 'not', 'there', 'no', 'does', 'not', 'so', 've', 'their',\n",
    "             'his', 'her', 'they', 'them', 'from', 'with', 'its']\n"
   ]
  },
  {
   "cell_type": "markdown",
   "metadata": {},
   "source": [
    "### Unigram extraction from a document\n",
    "\n",
    "You first need to implement the `extract_ngrams` function. It takes as input:\n",
    "- `x_raw`: a string corresponding to the raw text of a document\n",
    "- `ngram_range`: a tuple of two integers denoting the type of ngrams you want to extract, e.g. (1,2) denotes extracting unigrams and bigrams.\n",
    "- `token_pattern`: a string to be used within a regular expression to extract all tokens. Note that data is already tokenised so you could opt for a simple white space tokenisation.\n",
    "- `stop_words`: a list of stop words\n",
    "- `vocab`: a given vocabulary. It should be used to extract specific features.\n",
    "\n",
    "and returns:\n",
    "\n",
    "- a list of all extracted features.\n"
   ]
  },
  {
   "cell_type": "code",
   "execution_count": 5,
   "metadata": {
    "ExecuteTime": {
     "end_time": "2020-05-19T10:30:16.968158Z",
     "start_time": "2020-05-19T10:30:16.954730Z"
    },
    "code_folding": [
     0,
     44
    ]
   },
   "outputs": [],
   "source": [
    "def extract_ngrams(x_raw, ngram_range=(1,3), token_pattern=r'\\b[A-Za-z][A-Za-z]+\\b', stop_words=[], vocab=set()):\n",
    "    \n",
    "    \"\"\"N-gram extraction from a document.\n",
    "\n",
    "    Args:\n",
    "        x_raw: a string corresponding to the raw text of a document\n",
    "        ngram_range: a tuple of two integers denoting the type of ngrams you want\n",
    "            to extract, e.g. (1,2) denotes extracting unigrams and bigrams.\n",
    "        token_pattern: a string to be used within a regular expression to extract\n",
    "            all tokens. Note that data is already tokenised so you could opt for\n",
    "            a simple white space tokenisation.\n",
    "        stop_words: a list of stop words\n",
    "        vocab: a given vocabulary. It should be used to extract specific features.\n",
    "\n",
    "    Returns:\n",
    "        A list of terms to the corresponding N-gram. Each part fits one N-gram,\n",
    "        except 1-gramrow. For example:\n",
    "\n",
    "        ['great','movie','watch',\n",
    "        ('great', 'movie'),('movie', 'watch'),\n",
    "        ('great', 'movie', 'watch')]\n",
    "\n",
    "    \"\"\"\n",
    "    \n",
    "    def finder(s,n):\n",
    "        if n <= 0 or n > len(s):\n",
    "            raise Exception('n is out of range')\n",
    "        if n == 1:\n",
    "            return s\n",
    "        else:\n",
    "            return map(lambda i: tuple(s[i:i+n]),range(len(s)-n+1))\n",
    "\n",
    "    # Find all words by condition\n",
    "    pattern = re.compile(token_pattern)\n",
    "    term_eligible = [term.lower() for term in pattern.findall(x_raw) if term.lower() not in stop_words]\n",
    "\n",
    "    # Find combinations of different N-grams\n",
    "    x = [term for n in range(ngram_range[0],ngram_range[1]+1) for term in finder(term_eligible,n)]\n",
    "    \n",
    "    if not vocab:    \n",
    "        return x\n",
    "    else:\n",
    "        return [term for term in x if term in vocab]\n",
    "\n",
    "def extract_ngrams(x_raw, ngram_range=(1,3), token_pattern=r'\\b[A-Za-z][A-Za-z]+\\b', stop_words=[], vocab=set()):\n",
    "    \n",
    "    tokenRE = re.compile(token_pattern)\n",
    "    \n",
    "    # first extract all unigrams by tokenising\n",
    "    x_uni = [w for w in tokenRE.findall(str(x_raw).lower(),) if w not in stop_words]\n",
    "    \n",
    "    # this is to store the ngrams to be returned\n",
    "    x = []\n",
    "    \n",
    "    if ngram_range[0]==1:\n",
    "        x = x_uni\n",
    "    \n",
    "    # generate n-grams from the available unigrams x_uni\n",
    "    ngrams = []\n",
    "    for n in range(ngram_range[0], ngram_range[1]+1):\n",
    "        \n",
    "        # ignore unigrams\n",
    "        if n==1: continue\n",
    "        \n",
    "        # pass a list of lists as an argument for zip\n",
    "        arg_list = [x_uni]+[x_uni[i:] for i in range(1, n)]\n",
    "\n",
    "        # extract tuples of n-grams using zip\n",
    "        # for bigram this should look: list(zip(x_uni, x_uni[1:]))\n",
    "        # align each item x[i] in x_uni with the next one x[i+1]. \n",
    "        # Note that x_uni and x_uni[1:] have different lenghts\n",
    "        # but zip ignores redundant elements at the end of the second list\n",
    "        # Alternativel, this could be done with for loops\n",
    "        x_ngram = list(zip(*arg_list))\n",
    "        ngrams.append(x_ngram)\n",
    "    \n",
    "        \n",
    "    for n in ngrams:\n",
    "        for t in n:\n",
    "            x.append(t)\n",
    "        \n",
    "    if len(vocab)>0:\n",
    "        x = [w for w in x if w in vocab]\n",
    "        \n",
    "    return x\n"
   ]
  },
  {
   "cell_type": "markdown",
   "metadata": {},
   "source": [
    "### Create a vocabulary of n-grams\n",
    "\n",
    "Then the `get_vocab` function will be used to (1) create a vocabulary of ngrams; (2) count the document frequencies of ngrams; (3) their raw frequency. It takes as input:\n",
    "- `X_raw`: a list of strings each corresponding to the raw text of a document\n",
    "- `ngram_range`: a tuple of two integers denoting the type of ngrams you want to extract, e.g. (1,2) denotes extracting unigrams and bigrams.\n",
    "- `token_pattern`: a string to be used within a regular expression to extract all tokens. Note that data is already tokenised so you could opt for a simple white space tokenisation.\n",
    "- `stop_words`: a list of stop words\n",
    "- `min_df`: keep ngrams with a minimum document frequency.\n",
    "- `keep_topN`: keep top-N more frequent ngrams.\n",
    "\n",
    "and returns:\n",
    "\n",
    "- `vocab`: a set of the n-grams that will be used as features.\n",
    "- `df`: a Counter (or dict) that contains ngrams as keys and their corresponding document frequency as values.\n",
    "- `ngram_counts`: counts of each ngram in vocab\n"
   ]
  },
  {
   "cell_type": "code",
   "execution_count": 6,
   "metadata": {
    "ExecuteTime": {
     "end_time": "2020-05-19T10:30:16.980203Z",
     "start_time": "2020-05-19T10:30:16.969349Z"
    },
    "code_folding": [
     0,
     38
    ]
   },
   "outputs": [],
   "source": [
    "def get_vocab(X_raw, ngram_range=(1,3), token_pattern=r'\\b[A-Za-z][A-Za-z]+\\b', min_df=0, keep_topN=0, stop_words=[]):\n",
    "    \n",
    "    '''1. create a vocabulary of ngrams\n",
    "       2. count the document frequencies of ngrams\n",
    "       3. their raw frequency\n",
    "\n",
    "    Args:\n",
    "        X_raw: a list of strings each corresponding to the raw text of a document\n",
    "        ngram_range: a tuple of two integers denoting the type of ngrams you want\n",
    "            to extract, e.g. (1,2) denotes extracting unigrams and bigrams.\n",
    "        token_pattern: a string to be used within a regular expression to extract\n",
    "            all tokens. Note that data is already tokenised so you could opt for\n",
    "            a simple white space tokenisation.\n",
    "        stop_words: a list of stop words\n",
    "        min_df: keep ngrams with a minimum document frequency.\n",
    "        keep_topN: keep top-N more frequent ngrams.\n",
    "\n",
    "    Returns:\n",
    "        vocab: a set of the n-grams that will be used as features.\n",
    "        df: a Counter (or dict) that contains ngrams as keys and their corresponding\n",
    "            document frequency as values.\n",
    "        ngram_counts: counts of each ngram in vocab\n",
    "\n",
    "    '''\n",
    "    \n",
    "    bag_of_ngrams = list()\n",
    "    df = Counter()\n",
    "    for line in X_raw:\n",
    "        ngrams = extract_ngrams(line,ngram_range=ngram_range,token_pattern=token_pattern,stop_words=stop_words)\n",
    "        bag_of_ngrams += ngrams\n",
    "        df.update(set(ngrams))\n",
    "    df = Counter({k:v for k,v in df.items() if v >=min_df})\n",
    "    ngram_counts = Counter(bag_of_ngrams)\n",
    "    \n",
    "    vocab = [items[0] for items in ngram_counts.most_common() if items[0] in df.keys()][:keep_topN]\n",
    "\n",
    "    return vocab, df, ngram_counts\n",
    "\n",
    "def get_vocab(X_raw, ngram_range=(1,3), token_pattern=r'\\b[A-Za-z][A-Za-z]+\\b', \n",
    "              min_df=0, keep_topN=0, stop_words=[]):\n",
    "    \n",
    "    \n",
    "    tokenRE = re.compile(token_pattern)\n",
    "    \n",
    "    df = Counter()\n",
    "    ngram_counts = Counter()\n",
    "    vocab = set()\n",
    "    \n",
    "    # interate through each raw text\n",
    "    for x in X_raw:\n",
    "        \n",
    "        x_ngram = extract_ngrams(x, ngram_range=ngram_range, token_pattern=token_pattern, stop_words=stop_words)\n",
    "        \n",
    "        #update doc and ngram frequencies \n",
    "        df.update(list(set(x_ngram)))\n",
    "        ngram_counts.update(x_ngram)\n",
    "\n",
    "    # obtain a vocabulary as a set. \n",
    "    # Keep elements with doc frequency > minimum doc freq (min_df)\n",
    "    # Note that df contains all te\n",
    "    vocab = set([w for w in df if df[w]>=min_df])\n",
    "    \n",
    "    # keep the top N most freqent \n",
    "    if keep_topN>0:\n",
    "        vocab = set([w[0] for w in ngram_counts.most_common(keep_topN) if w[0] in vocab])\n",
    "    \n",
    "    \n",
    "    return vocab, df, ngram_counts"
   ]
  },
  {
   "cell_type": "markdown",
   "metadata": {},
   "source": [
    "Now you should use `get_vocab` to create your vocabulary and get document and raw frequencies of unigrams:"
   ]
  },
  {
   "cell_type": "code",
   "execution_count": 7,
   "metadata": {
    "ExecuteTime": {
     "end_time": "2020-05-19T10:30:17.100349Z",
     "start_time": "2020-05-19T10:30:16.981453Z"
    }
   },
   "outputs": [
    {
     "name": "stdout",
     "output_type": "stream",
     "text": [
      "5000\n",
      "\n",
      "['disappointed', 'taxes', 'erick', 'travelers', 'provide', 'disturbed', 'linked', 'expecting', 'endless', 'detainees', 'own', 'activities', 'theft', 'mission', 'wis', 'counted', 'training', 'purchased', 'fixed', 'people', 'would', 'george', 'involved', 'gear', 'flag', 'refusing', 'disrupting', 'bullet', 'yards', 'handful', 'hoogenband', 'brett', 'nld', 'gtw', 'hands', 'abu', 'dawn', 'concerned', 'try', 'mutiny', 'topple', 'georgia', 'objections', 'settled', 'bowa', 'ariel', 'confirmed', 'pinch', 'hopes', 'ferrari', 'victories', 'seattle', 'maoist', 'see', 'payments', 'shrine', 'economy', 'james', 'bicycle', 'idema', 'decline', 'leaders', 'dye', 'cbc', 'elections', 'managed', 'pretty', 'bracing', 'donations', 'qaeda', 'interview', 'pharmacare', 'access', 'shell', 'crossing', 'denied', 'withholding', 'sales', 'starting', 'lack', 'clashes', 'reactors', 'survive', 'totaling', 'requirements', 'upheld', 'fair', 'etched', 'fractured', 'ready', 'floods', 'allows', 'ramallah', 'cloud', 'alter', 'royals', 'innocence', 'mixed', 'doubleheader', 'believe']\n",
      "\n",
      "[('reuters', 631), ('said', 432), ('tuesday', 413), ('wednesday', 344), ('new', 325), ('after', 295), ('ap', 275), ('athens', 245), ('monday', 221), ('first', 210)]\n"
     ]
    }
   ],
   "source": [
    "vocab, df, ngram_counts = get_vocab(X_tr_raw, ngram_range=(1,1), keep_topN=5000, stop_words=stop_words)\n",
    "print(len(vocab))\n",
    "print()\n",
    "print(list(vocab)[:100])\n",
    "print()\n",
    "print(df.most_common()[:10])"
   ]
  },
  {
   "cell_type": "markdown",
   "metadata": {},
   "source": [
    "Then, you need to create vocabulary id -> word and id -> word dictionaries for reference:"
   ]
  },
  {
   "cell_type": "code",
   "execution_count": 8,
   "metadata": {
    "ExecuteTime": {
     "end_time": "2020-05-19T10:30:17.264928Z",
     "start_time": "2020-05-19T10:30:17.101470Z"
    }
   },
   "outputs": [],
   "source": [
    "# Calculate the vocab and df of different data sets\n",
    "vocab_tr, df_tr, ngram_counts_tr = get_vocab(X_tr_raw, ngram_range=(1,1), keep_topN=5000, stop_words=stop_words)\n",
    "vocab_te, df_te, ngram_counts_te = get_vocab(X_te_raw, ngram_range=(1,1), keep_topN=5000, stop_words=stop_words)\n",
    "vocab_dev, df_dev, ngram_counts_dev = get_vocab(X_dev_raw, ngram_range=(1,1), keep_topN=5000, stop_words=stop_words)\n",
    "# create reference\n",
    "id2vocab = dict(enumerate(vocab_tr))\n",
    "vocab2id = dict(zip(id2vocab.values(),id2vocab.keys()))"
   ]
  },
  {
   "cell_type": "markdown",
   "metadata": {},
   "source": [
    "### Convert the list of unigrams  into a list of vocabulary indices"
   ]
  },
  {
   "cell_type": "markdown",
   "metadata": {},
   "source": [
    "Storing actual one-hot vectors into memory for all words in the entire data set is prohibitive. Instead, we will store word indices in the vocabulary and look-up the weight matrix. This is equivalent of doing a dot product between an one-hot vector and the weight matrix. \n",
    "\n",
    "First, represent documents in train, dev and test sets as lists of words in the vocabulary:"
   ]
  },
  {
   "cell_type": "code",
   "execution_count": 9,
   "metadata": {
    "ExecuteTime": {
     "end_time": "2020-05-19T10:30:17.379963Z",
     "start_time": "2020-05-19T10:30:17.267494Z"
    }
   },
   "outputs": [],
   "source": [
    "# extract n-grams\n",
    "X_uni_tr = [extract_ngrams(line,ngram_range=(1,1),stop_words=stop_words) for line in X_tr_raw]\n",
    "X_uni_te = [extract_ngrams(line,ngram_range=(1,1),stop_words=stop_words) for line in X_te_raw]\n",
    "X_uni_dev = [extract_ngrams(line,ngram_range=(1,1),stop_words=stop_words) for line in X_dev_raw]"
   ]
  },
  {
   "cell_type": "code",
   "execution_count": 10,
   "metadata": {
    "ExecuteTime": {
     "end_time": "2020-05-19T10:30:17.385784Z",
     "start_time": "2020-05-19T10:30:17.381649Z"
    }
   },
   "outputs": [
    {
     "data": {
      "text/plain": [
       "['reuters',\n",
       " 'venezuelans',\n",
       " 'turned',\n",
       " 'out',\n",
       " 'early',\n",
       " 'large',\n",
       " 'numbers',\n",
       " 'sunday',\n",
       " 'vote',\n",
       " 'historic',\n",
       " 'referendum',\n",
       " 'either',\n",
       " 'remove',\n",
       " 'left',\n",
       " 'wing',\n",
       " 'president',\n",
       " 'hugo',\n",
       " 'chavez',\n",
       " 'office',\n",
       " 'give',\n",
       " 'him',\n",
       " 'new',\n",
       " 'mandate',\n",
       " 'govern',\n",
       " 'next',\n",
       " 'two',\n",
       " 'years']"
      ]
     },
     "execution_count": 10,
     "metadata": {},
     "output_type": "execute_result"
    }
   ],
   "source": [
    "X_uni_tr[0]"
   ]
  },
  {
   "cell_type": "markdown",
   "metadata": {},
   "source": [
    "Then convert them into lists of indices in the vocabulary:"
   ]
  },
  {
   "cell_type": "code",
   "execution_count": 11,
   "metadata": {
    "ExecuteTime": {
     "end_time": "2020-05-19T10:30:17.434026Z",
     "start_time": "2020-05-19T10:30:17.387013Z"
    }
   },
   "outputs": [],
   "source": [
    "def words2indices(words,index = vocab2id):\n",
    "    '''Convert a list of words to a list of index\n",
    "    \n",
    "    Args:\n",
    "        words: a list of words\n",
    "        index: a dictionart, each key is a word, and value is the index\n",
    "    Return:\n",
    "        a list of index\n",
    "    '''\n",
    "    #words = set(words)&set(vocab2id.keys())\n",
    "    words = [word for word in words if word in index.keys()]\n",
    "    return list(map(lambda x:index[x],words))\n",
    "\n",
    "X_tr = [words2indices(line) for line in X_uni_tr]\n",
    "X_te = [words2indices(line) for line in X_uni_te]\n",
    "X_dev = [words2indices(line) for line in X_uni_dev]"
   ]
  },
  {
   "cell_type": "code",
   "execution_count": 12,
   "metadata": {
    "ExecuteTime": {
     "end_time": "2020-05-19T10:30:17.438498Z",
     "start_time": "2020-05-19T10:30:17.435219Z"
    }
   },
   "outputs": [
    {
     "data": {
      "text/plain": [
       "['reuters',\n",
       " 'venezuelans',\n",
       " 'turned',\n",
       " 'out',\n",
       " 'early',\n",
       " 'large',\n",
       " 'numbers',\n",
       " 'sunday',\n",
       " 'vote',\n",
       " 'historic',\n",
       " 'referendum',\n",
       " 'either',\n",
       " 'remove',\n",
       " 'left',\n",
       " 'wing',\n",
       " 'president',\n",
       " 'hugo',\n",
       " 'chavez',\n",
       " 'office',\n",
       " 'give',\n",
       " 'him',\n",
       " 'new',\n",
       " 'mandate',\n",
       " 'govern',\n",
       " 'next',\n",
       " 'two',\n",
       " 'years']"
      ]
     },
     "execution_count": 12,
     "metadata": {},
     "output_type": "execute_result"
    }
   ],
   "source": [
    "X_uni_tr[0]"
   ]
  },
  {
   "cell_type": "code",
   "execution_count": 13,
   "metadata": {
    "ExecuteTime": {
     "end_time": "2020-05-19T10:30:17.444229Z",
     "start_time": "2020-05-19T10:30:17.439757Z"
    }
   },
   "outputs": [
    {
     "data": {
      "text/plain": [
       "[2721,\n",
       " 1762,\n",
       " 3950,\n",
       " 3790,\n",
       " 2835,\n",
       " 1708,\n",
       " 2004,\n",
       " 3370,\n",
       " 4638,\n",
       " 1481,\n",
       " 1577,\n",
       " 3204,\n",
       " 3747,\n",
       " 1751,\n",
       " 2071,\n",
       " 2975,\n",
       " 2308,\n",
       " 2252,\n",
       " 4176,\n",
       " 3463,\n",
       " 1196,\n",
       " 789,\n",
       " 3376,\n",
       " 1620,\n",
       " 3537,\n",
       " 4334,\n",
       " 1337]"
      ]
     },
     "execution_count": 13,
     "metadata": {},
     "output_type": "execute_result"
    }
   ],
   "source": [
    "X_tr[0]"
   ]
  },
  {
   "cell_type": "markdown",
   "metadata": {},
   "source": [
    "Put the labels `Y` for train, dev and test sets into arrays: "
   ]
  },
  {
   "cell_type": "code",
   "execution_count": 14,
   "metadata": {
    "ExecuteTime": {
     "end_time": "2020-05-19T10:30:17.449753Z",
     "start_time": "2020-05-19T10:30:17.445394Z"
    }
   },
   "outputs": [],
   "source": [
    "# Already transform at the beginning of reading CSV\n",
    "Y_tr = Y_tr - 1\n",
    "Y_te = Y_te - 1\n",
    "Y_dev = Y_dev - 1"
   ]
  },
  {
   "cell_type": "markdown",
   "metadata": {},
   "source": [
    "# Network Architecture\n",
    "\n",
    "Your network should pass each word index into its corresponding embedding by looking-up on the embedding matrix and then compute the first hidden layer $\\mathbf{h}_1$:\n",
    "\n",
    "$$\\mathbf{h}_1 = \\frac{1}{|x|}\\sum_i W^e_i, i \\in x$$\n",
    "\n",
    "where $|x|$ is the number of words in the document and $W^e$ is an embedding matrix $|V|\\times d$, $|V|$ is the size of the vocabulary and $d$ the embedding size.\n",
    "\n",
    "Then $\\mathbf{h}_1$ should be passed through a ReLU activation function:\n",
    "\n",
    "$$\\mathbf{a}_1 = relu(\\mathbf{h}_1)$$\n",
    "\n",
    "Finally the hidden layer is passed to the output layer:\n",
    "\n",
    "\n",
    "$$\\mathbf{y} = \\text{softmax}(\\mathbf{a}_1W^T) $$ \n",
    "where $W$ is a matrix $d \\times |{\\cal Y}|$, $|{\\cal Y}|$ is the number of classes.\n",
    "\n",
    "During training, $\\mathbf{a}_1$ should be multiplied with a dropout mask vector (elementwise) for regularisation before it is passed to the output layer.\n",
    "\n",
    "You can extend to a deeper architecture by passing a hidden layer to another one:\n",
    "\n",
    "$$\\mathbf{h_i} = \\mathbf{a}_{i-1}W_i^T $$\n",
    "\n",
    "$$\\mathbf{a_i} = relu(\\mathbf{h_i}) $$\n",
    "\n",
    "\n",
    "\n",
    "# Network Training\n",
    "\n",
    "First we need to define the parameters of our network by initiliasing the weight matrices. For that purpose, you should implement the `network_weights` function that takes as input:\n",
    "\n",
    "- `vocab_size`: the size of the vocabulary\n",
    "- `embedding_dim`: the size of the word embeddings\n",
    "- `hidden_dim`: a list of the sizes of any subsequent hidden layers (for the Bonus). Empty if there are no hidden layers between the average embedding and the output layer \n",
    "- `num_clusses`: the number of the classes for the output layer\n",
    "\n",
    "and returns:\n",
    "\n",
    "- `W`: a dictionary mapping from layer index (e.g. 0 for the embedding matrix) to the corresponding weight matrix initialised with small random numbers (hint: use numpy.random.uniform with from -0.1 to 0.1)\n",
    "\n",
    "See the examples below for expected outputs. Make sure that the dimensionality of each weight matrix is compatible with the previous and next weight matrix, otherwise you won't be able to perform forward and backward passes. Consider also using np.float32 precision to save memory."
   ]
  },
  {
   "cell_type": "code",
   "execution_count": 15,
   "metadata": {
    "ExecuteTime": {
     "end_time": "2020-05-19T10:30:17.456458Z",
     "start_time": "2020-05-19T10:30:17.450893Z"
    }
   },
   "outputs": [],
   "source": [
    "def network_weights(vocab_size=1000, embedding_dim=300, \n",
    "                    hidden_dim=[], num_classes=3, init_val = 0.5):\n",
    "    W_emb = np.random.uniform(low = -1*init_val, high = init_val, size = (vocab_size,embedding_dim))\n",
    "    \n",
    "    W_h = list()\n",
    "    pt = embedding_dim\n",
    "    for layer in hidden_dim:\n",
    "        W_h.append(np.random.uniform(low = -1*init_val, high = init_val, size = (pt,layer)))\n",
    "        pt = layer\n",
    "    W_out = np.random.uniform(low = -1*init_val, high = init_val, size = (pt,num_classes))\n",
    "    W = [W_emb,*W_h,W_out]\n",
    "\n",
    "    return W"
   ]
  },
  {
   "cell_type": "code",
   "execution_count": 16,
   "metadata": {
    "ExecuteTime": {
     "end_time": "2020-05-19T10:30:17.469393Z",
     "start_time": "2020-05-19T10:30:17.457587Z"
    }
   },
   "outputs": [
    {
     "name": "stdout",
     "output_type": "stream",
     "text": [
      "W_emb: (5, 10)\n",
      "W_out: (10, 2)\n"
     ]
    }
   ],
   "source": [
    "W = network_weights(vocab_size=5,embedding_dim=10,hidden_dim=[], num_classes=2)\n",
    "\n",
    "print('W_emb:', W[0].shape)\n",
    "print('W_out:', W[1].shape)"
   ]
  },
  {
   "cell_type": "code",
   "execution_count": 17,
   "metadata": {
    "ExecuteTime": {
     "end_time": "2020-05-19T10:30:17.479651Z",
     "start_time": "2020-05-19T10:30:17.472862Z"
    }
   },
   "outputs": [],
   "source": [
    "W = network_weights(vocab_size=3,embedding_dim=4,hidden_dim=[2], num_classes=2)"
   ]
  },
  {
   "cell_type": "code",
   "execution_count": 18,
   "metadata": {
    "ExecuteTime": {
     "end_time": "2020-05-19T10:30:17.493973Z",
     "start_time": "2020-05-19T10:30:17.483332Z"
    }
   },
   "outputs": [
    {
     "name": "stdout",
     "output_type": "stream",
     "text": [
      "W_emb: (3, 4)\n",
      "W_h1: (4, 2)\n",
      "W_out: (2, 2)\n"
     ]
    }
   ],
   "source": [
    "print('W_emb:', W[0].shape)\n",
    "print('W_h1:', W[1].shape)\n",
    "print('W_out:', W[2].shape)"
   ]
  },
  {
   "cell_type": "code",
   "execution_count": 19,
   "metadata": {
    "ExecuteTime": {
     "end_time": "2020-05-19T10:30:17.504262Z",
     "start_time": "2020-05-19T10:30:17.497885Z"
    }
   },
   "outputs": [
    {
     "data": {
      "text/plain": [
       "array([[-0.40428748,  0.38532683,  0.12724897,  0.22341636],\n",
       "       [-0.48387079,  0.09443188,  0.05678519, -0.34104036],\n",
       "       [-0.34692948,  0.19552953, -0.18123357,  0.1919703 ]])"
      ]
     },
     "execution_count": 19,
     "metadata": {},
     "output_type": "execute_result"
    }
   ],
   "source": [
    "W[0]"
   ]
  },
  {
   "cell_type": "markdown",
   "metadata": {
    "ExecuteTime": {
     "end_time": "2020-04-01T10:31:57.970152Z",
     "start_time": "2020-04-01T10:31:57.966123Z"
    }
   },
   "source": [
    "Then you need to develop a `softmax` function (same as in Assignment 1) to be used in the output layer. It takes as input:\n",
    "\n",
    "- `z`: array of real numbers \n",
    "\n",
    "and returns:\n",
    "\n",
    "- `sig`: the softmax of `z`"
   ]
  },
  {
   "cell_type": "code",
   "execution_count": 20,
   "metadata": {
    "ExecuteTime": {
     "end_time": "2020-05-19T10:30:17.512510Z",
     "start_time": "2020-05-19T10:30:17.506341Z"
    }
   },
   "outputs": [],
   "source": [
    "def softmax(z):\n",
    "    \n",
    "    '''Calculate softmax results\n",
    "    \n",
    "    In order to avoid data overflow, the corresponding data boundary is added.\n",
    "    Since np.exp() is a `np.float64` operation function, so we need to avoid overflow.\n",
    "    It is easy to find out the boundary of `np.float64` by calling np.finfo(np.float64).\n",
    "    Usually, it should be written as `np.minimum(np.exp(z),np.finfo(np.float64).max)`,\n",
    "    but I prefer to written inside the exp function, since it somehow can be faster.\n",
    "    For the input of np.exp(), it should not be greater than 709.782 to ensure that the\n",
    "    output will not overflow.\n",
    "    \n",
    "    Returns:\n",
    "        z: the same size of z.\n",
    "    '''\n",
    "    \n",
    "    z = z.copy()\n",
    "    z = np.minimum(z,709.782)\n",
    "    smax = np.exp(z) / np.sum(np.exp(z),axis=z.ndim-1,keepdims=True)\n",
    "    \n",
    "    return smax"
   ]
  },
  {
   "cell_type": "markdown",
   "metadata": {},
   "source": [
    "Now you need to implement the categorical cross entropy loss by slightly modifying the function from Assignment 1 to depend only on the true label `y` and the class probabilities vector `y_preds`:"
   ]
  },
  {
   "cell_type": "code",
   "execution_count": 21,
   "metadata": {
    "ExecuteTime": {
     "end_time": "2020-05-19T10:30:17.521308Z",
     "start_time": "2020-05-19T10:30:17.513842Z"
    }
   },
   "outputs": [],
   "source": [
    "def categorical_loss(y, y_preds):\n",
    "    \n",
    "    '''1. Calculate the Euclidean distance between label and probability\n",
    "       2. Calculate the average distance\n",
    "       \n",
    "    Here I use `esp` to represent the smallest data unit of the data type. \n",
    "    The main function of `esp` is to ensure the rationality of arithmetic \n",
    "    operations. For example, in the division operation, add `esp` to the \n",
    "    denominator to ensure that the denominator is not 0, and it does not \n",
    "    affect the data result. This is the habit I developed when I wrote Matlab\n",
    "    in my undergraduate period. `esp` is more common in Matlab.\n",
    "    Input:\n",
    "        y->int/list: 2;[2],[[2],[2]]\n",
    "        y_preds->np.ndarry: [1,0,0];[[1,0,0]];[[1,0,0],[1,0,0]]\n",
    "    Args:\n",
    "        eps: the minimum value in the current data type. Used to ensure\n",
    "            that the input of the log function is greater than 0.\n",
    "        preds_proba: Probability of each data, the same\n",
    "            size of input data.(X.shape[0])\n",
    "\n",
    "    Returns:\n",
    "        l: Used to save losses and calculate the average at the end\n",
    "    '''\n",
    "    \n",
    "    Y = np.array(y)\n",
    "    assert type(y_preds) == np.ndarray\n",
    "    try:\n",
    "        n,d = y_preds.shape\n",
    "    except:\n",
    "        n=1\n",
    "        d = y_preds.shape[0]\n",
    "    #eps = np.finfo(np.float64).eps\n",
    "    Y = np.eye(d,d)[Y].reshape(n,d)\n",
    "    assert np.all(y_preds>0)\n",
    "    #l1 = -np.sum(Y*np.log(y_preds+eps),1) \n",
    "    l1 = -np.sum(Y*np.log(y_preds),1) \n",
    "    l=np.mean(l1)\n",
    "    assert l>=0\n",
    "    return l\n"
   ]
  },
  {
   "cell_type": "code",
   "execution_count": 22,
   "metadata": {
    "ExecuteTime": {
     "end_time": "2020-05-19T10:30:17.530737Z",
     "start_time": "2020-05-19T10:30:17.522619Z"
    }
   },
   "outputs": [
    {
     "name": "stdout",
     "output_type": "stream",
     "text": [
      "y_preds:  [0.01217919 0.27035308 0.24462558 0.02710529 0.44573687]\n",
      "loss: 1.40802648485675\n"
     ]
    }
   ],
   "source": [
    "# example for 5 classes\n",
    "\n",
    "y = 2 #true label\n",
    "y_preds = softmax(np.array([[-2.1,1.,0.9,-1.3,1.5]]))[0]\n",
    "\n",
    "print('y_preds: ',y_preds)\n",
    "print('loss:', categorical_loss(y, y_preds))"
   ]
  },
  {
   "cell_type": "markdown",
   "metadata": {
    "ExecuteTime": {
     "end_time": "2020-03-31T15:02:56.149535Z",
     "start_time": "2020-03-31T15:02:56.145738Z"
    }
   },
   "source": [
    "Then, implement the `relu` function to introduce non-linearity after each hidden layer of your network (during the forward pass): \n",
    "\n",
    "$$relu(z_i)= max(z_i,0)$$\n",
    "\n",
    "and the `relu_derivative` function to compute its derivative (used in the backward pass):\n",
    "\n",
    "\\begin{equation}\n",
    "  \\text{relu_derivative}(z_i)=\\begin{cases}\n",
    "    0, & \\text{if $z_i<=0$}.\\\\\n",
    "    1, & \\text{otherwise}.\n",
    "  \\end{cases}\n",
    "\\end{equation}\n",
    "\n",
    "Note that both functions take as input a vector $z$ \n",
    "\n",
    "Hint use .copy() to avoid in place changes in array z"
   ]
  },
  {
   "cell_type": "code",
   "execution_count": 23,
   "metadata": {
    "ExecuteTime": {
     "end_time": "2020-05-19T10:30:17.536475Z",
     "start_time": "2020-05-19T10:30:17.531725Z"
    }
   },
   "outputs": [],
   "source": [
    "def relu(z):\n",
    "    a = np.fmax(z, 0)\n",
    "    assert (a.shape == z.shape)\n",
    "    return a\n",
    "    \n",
    "def relu_derivative(z):\n",
    "    dz = np.fmax(z,0)\n",
    "    dz = np.sign(dz)\n",
    "    assert (dz.shape == z.shape)\n",
    "    return dz"
   ]
  },
  {
   "cell_type": "markdown",
   "metadata": {},
   "source": [
    "During training you should also apply a dropout mask element-wise after the activation function (i.e. vector of ones with a random percentage set to zero). The `dropout_mask` function takes as input:\n",
    "\n",
    "- `size`: the size of the vector that we want to apply dropout\n",
    "- `dropout_rate`: the percentage of elements that will be randomly set to zeros\n",
    "\n",
    "and returns:\n",
    "\n",
    "- `dropout_vec`: a vector with binary values (0 or 1)"
   ]
  },
  {
   "cell_type": "code",
   "execution_count": 24,
   "metadata": {
    "ExecuteTime": {
     "end_time": "2020-05-19T10:30:17.542560Z",
     "start_time": "2020-05-19T10:30:17.537520Z"
    }
   },
   "outputs": [],
   "source": [
    "def dropout_mask(size, dropout_rate):\n",
    "    \n",
    "    #dropout_vec = np.random.uniform(0,1,size)>dropout_rate\n",
    "    #dropout_vec = np.random.rand(size)>dropout_rate\n",
    "    \n",
    "    dropout_vec = np.full(size,1.0)\n",
    "    index = np.arange(size)\n",
    "    np.random.shuffle(index)\n",
    "    dropout_vec[index[:int(size*dropout_rate)]]=0\n",
    "    \n",
    "    return dropout_vec"
   ]
  },
  {
   "cell_type": "code",
   "execution_count": 25,
   "metadata": {
    "ExecuteTime": {
     "end_time": "2020-05-19T10:30:17.551497Z",
     "start_time": "2020-05-19T10:30:17.543622Z"
    }
   },
   "outputs": [
    {
     "name": "stdout",
     "output_type": "stream",
     "text": [
      "[1. 1. 0. 1. 1. 1. 1. 1. 0. 1.]\n",
      "[1. 1. 1. 1. 0. 1. 1. 0. 1. 1.]\n"
     ]
    }
   ],
   "source": [
    "print(dropout_mask(10, 0.2))\n",
    "print(dropout_mask(10, 0.2))"
   ]
  },
  {
   "cell_type": "markdown",
   "metadata": {},
   "source": [
    "Now you need to implement the `forward_pass` function that passes the input x through the network up to the output layer for computing the probability for each class using the weight matrices in `W`. The ReLU activation function should be applied on each hidden layer. \n",
    "\n",
    "- `x`: a list of vocabulary indices each corresponding to a word in the document (input)\n",
    "- `W`: a list of weight matrices connecting each part of the network, e.g. for a network with a hidden and an output layer: W[0] is the weight matrix that connects the input to the first hidden layer, W[1] is the weight matrix that connects the hidden layer to the output layer.\n",
    "- `dropout_rate`: the dropout rate that is used to generate a random dropout mask vector applied after each hidden layer for regularisation.\n",
    "\n",
    "and returns:\n",
    "\n",
    "- `out_vals`: a dictionary of output values from each layer: h (the vector before the activation function), a (the resulting vector after passing h from the activation function), its dropout mask vector; and the prediction vector (probability for each class) from the output layer."
   ]
  },
  {
   "cell_type": "code",
   "execution_count": 26,
   "metadata": {
    "ExecuteTime": {
     "end_time": "2020-05-19T10:30:17.574223Z",
     "start_time": "2020-05-19T10:30:17.552500Z"
    },
    "code_folding": [
     0,
     41
    ]
   },
   "outputs": [],
   "source": [
    "def forward_pass_v0(x, W, dropout_rate=0.2):\n",
    "    \n",
    "    \n",
    "    out_vals = {}\n",
    "    \n",
    "    h_vecs = []\n",
    "    a_vecs = []\n",
    "    dropout_vecs = []\n",
    "    \n",
    "    w_0 = W[0]\n",
    "    x_0 = np.eye(w_0.shape[0],w_0.shape[0])[x].sum(axis = 0)\n",
    "    h_0 = 1/x_0.sum()*x_0.dot(w_0)\n",
    "    a_0 = relu(h_0)\n",
    "    dropout = dropout_mask(h_0.shape[0], dropout_rate)\n",
    "    \n",
    "    h_vecs.append(h_0);a_vecs.append(a_0);dropout_vecs.append(dropout)\n",
    "\n",
    "    for i in range(len(W)):\n",
    "        if i==0:\n",
    "            a = a_0\n",
    "            continue\n",
    "        if i == len(W)-1:\n",
    "            continue\n",
    "        a = np.multiply(a,dropout)/(1-dropout_rate)\n",
    "        h = np.dot(a,W[i])\n",
    "        h_vecs.append(h)\n",
    "        a = relu(h)\n",
    "        a_vecs.append(a)\n",
    "        dropout = dropout_mask(a.shape[0], dropout_rate)\n",
    "        dropout_vecs.append(dropout)\n",
    "\n",
    "    a = np.multiply(a,dropout)/(1-dropout_rate)\n",
    "    y = softmax(np.dot(a,W[-1]))\n",
    "\n",
    "    out_vals['h'] = h_vecs\n",
    "    out_vals['a'] = a_vecs\n",
    "    out_vals['dropout_vec'] = dropout_vecs\n",
    "    out_vals['y'] = y\n",
    "    \n",
    "    return out_vals\n",
    "\n",
    "def forward_pass_v1(x, W, dropout_rate=0.2):\n",
    "    \n",
    "    out_vals = {}\n",
    "    \n",
    "    h_vecs = []\n",
    "    a_vecs = []\n",
    "    dropout_vecs = []\n",
    "    \n",
    "    \n",
    "    try:\n",
    "        x[0][0]\n",
    "        n = len(x)\n",
    "        x_dim = 2\n",
    "    except:\n",
    "        n = 1\n",
    "        x_dim = 1\n",
    "        \n",
    "    #x = np.array(x)\n",
    "    #x_dim = 2\n",
    "    \n",
    "    w_0 = W[0]\n",
    "    #x_0 = np.eye(w_0.shape[0],w_0.shape[0])[x].sum(axis = x_dim-1)\n",
    "    if x_dim == 2:\n",
    "        x_0 = np.array([np.eye(w_0.shape[0],w_0.shape[0])[x_i].sum(axis = 0) for x_i in x])\n",
    "    else:\n",
    "        #x_0 = np.eye(w_0.shape[0],w_0.shape[0])[x].sum(axis = x_dim-1)\n",
    "        x_0 = np.zeros(w_0.shape[0])\n",
    "        x_0[x] = 1\n",
    "    h_0 = 1/x_0.sum()*x_0.dot(w_0)\n",
    "    a_0 = relu(h_0)\n",
    "    dropout = dropout_mask(h_0.shape[x_dim-1], dropout_rate)\n",
    "    \n",
    "    h_vecs.append(h_0);a_vecs.append(a_0);dropout_vecs.append(dropout)\n",
    "\n",
    "    a = a_0\n",
    "    for i in range(len(W)):\n",
    "        if i==0 or i == len(W)-1:\n",
    "            continue\n",
    "        a = np.multiply(a,dropout)/(1-dropout_rate)\n",
    "        h = np.dot(a,W[i])\n",
    "        a = relu(h)\n",
    "        dropout = dropout_mask(a.shape[x_dim-1], dropout_rate)\n",
    "        h_vecs.append(h);a_vecs.append(a);dropout_vecs.append(dropout)\n",
    "\n",
    "    a = np.multiply(a,dropout)/(1-dropout_rate)\n",
    "    h = np.dot(a,W[-1])\n",
    "    a = relu(h)\n",
    "    y = softmax(a)\n",
    "\n",
    "    out_vals['h'] = h_vecs\n",
    "    out_vals['a'] = a_vecs\n",
    "    out_vals['dropout_vec'] = dropout_vecs\n",
    "    out_vals['y'] = y\n",
    "    \n",
    "    return out_vals\n"
   ]
  },
  {
   "cell_type": "code",
   "execution_count": 27,
   "metadata": {
    "ExecuteTime": {
     "end_time": "2020-05-19T10:30:17.588145Z",
     "start_time": "2020-05-19T10:30:17.576606Z"
    },
    "code_folding": [
     0,
     13,
     20
    ]
   },
   "outputs": [],
   "source": [
    "def initial_a0(x,W):\n",
    "    if type(x[0])!=list:\n",
    "        a=np.zeros(W.shape[0])\n",
    "        a[x]=1/len(x)\n",
    "    else:\n",
    "        n = len(x)\n",
    "        d = W.shape[0]\n",
    "        a = np.zeros((n,d))\n",
    "        I = np.eye(d,d)\n",
    "        for i in range(n):\n",
    "            a[i,:] = I[x[i]].sum(axis = 0)/len(x[i])\n",
    "    return a\n",
    "\n",
    "def forward_linear(A_prev, W, dropout_rate):\n",
    "    assert (type(A_prev)==np.ndarray)\n",
    "    h = np.dot(A_prev,W)\n",
    "    a = relu(h)\n",
    "    dropout = dropout_mask(a.shape[a.ndim-1],dropout_rate)\n",
    "    return h,a,dropout\n",
    "\n",
    "def forward_pass(x, W, dropout_rate=0.2):\n",
    "    out_vals = {}\n",
    "    \n",
    "    h_vecs = []\n",
    "    a_vecs = []\n",
    "    dropout_vecs = []\n",
    "    \n",
    "    A = initial_a0(x,W[0])\n",
    "    \n",
    "    L = len(W)\n",
    "    for l in range(L-1):\n",
    "        A_prev = A \n",
    "        h,A,dropout = forward_linear(A_prev,W[l],dropout_rate)\n",
    "        h_vecs.append(h);a_vecs.append(A);dropout_vecs.append(dropout)\n",
    "        A = np.multiply(A,dropout)#/(1-dropout_rate)\n",
    "        \n",
    "    # Last layer don't record\n",
    "    A_prev = A \n",
    "    h,A,dropout = forward_linear(A_prev,W[l+1],dropout_rate)\n",
    "    A = np.multiply(A,dropout)#/(1-dropout_rate)\n",
    "    y = softmax(A)\n",
    "    \n",
    "    out_vals['h'] = h_vecs\n",
    "    out_vals['a'] = a_vecs\n",
    "    out_vals['dropout_vec'] = dropout_vecs\n",
    "    out_vals['y'] = y\n",
    "    \n",
    "    return out_vals"
   ]
  },
  {
   "cell_type": "code",
   "execution_count": null,
   "metadata": {},
   "outputs": [],
   "source": []
  },
  {
   "cell_type": "code",
   "execution_count": 28,
   "metadata": {
    "ExecuteTime": {
     "end_time": "2020-05-19T10:30:17.598568Z",
     "start_time": "2020-05-19T10:30:17.589333Z"
    }
   },
   "outputs": [
    {
     "name": "stdout",
     "output_type": "stream",
     "text": [
      "Shape W0 (3, 4)\n",
      "Shape W1 (4, 5)\n",
      "Shape W2 (5, 2)\n",
      "\n",
      "{'h': [array([-0.04668262, -0.12518335,  0.17532285, -0.32932054]), array([0., 0., 0., 0., 0.])], 'a': [array([0.        , 0.        , 0.17532285, 0.        ]), array([0., 0., 0., 0., 0.])], 'dropout_vec': [array([1., 0., 0., 1.]), array([0., 0., 1., 1., 1.])], 'y': array([0.5, 0.5])}\n"
     ]
    }
   ],
   "source": [
    "W = network_weights(vocab_size=3,embedding_dim=4,hidden_dim=[5], num_classes=2)\n",
    "\n",
    "for i in range(len(W)):\n",
    "    print('Shape W'+str(i), W[i].shape)\n",
    "\n",
    "print()\n",
    "print(forward_pass([2,1], W, dropout_rate=0.5))"
   ]
  },
  {
   "cell_type": "markdown",
   "metadata": {},
   "source": [
    "The `backward_pass` function computes the gradients and update the weights for each matrix in the network from the output to the input. It takes as input \n",
    "\n",
    "- `x`: a list of vocabulary indices each corresponding to a word in the document (input)\n",
    "- `y`: the true label\n",
    "- `W`: a list of weight matrices connecting each part of the network, e.g. for a network with a hidden and an output layer: W[0] is the weight matrix that connects the input to the first hidden layer, W[1] is the weight matrix that connects the hidden layer to the output layer.\n",
    "- `out_vals`: a dictionary of output values from a forward pass.\n",
    "- `learning_rate`: the learning rate for updating the weights.\n",
    "- `freeze_emb`: boolean value indicating whether the embedding weights will be updated.\n",
    "\n",
    "and returns:\n",
    "\n",
    "- `W`: the updated weights of the network.\n",
    "\n",
    "Hint: the gradients on the output layer are similar to the multiclass logistic regression."
   ]
  },
  {
   "cell_type": "code",
   "execution_count": 29,
   "metadata": {
    "ExecuteTime": {
     "end_time": "2020-05-19T10:30:17.605392Z",
     "start_time": "2020-05-19T10:30:17.599545Z"
    }
   },
   "outputs": [],
   "source": [
    "def backward_linear(dh,A_prev,W):\n",
    "    A_prev = A_prev.reshape(1,-1)\n",
    "    dW = np.dot(A_prev.T, dh)\n",
    "    dA_prev = np.dot(dh, W.T)\n",
    "    return dW,dA_prev\n",
    "\n",
    "def backward_activation_linear(dA, A_prev, W):\n",
    "    dh = relu_derivative(A_prev @ W)*dA\n",
    "    #dh = dA\n",
    "    dW,dA_prev = backward_linear(dh, A_prev,W)\n",
    "    return dW,dA_prev\n",
    "\n",
    "def backward_dropout(dA, A_prev, W, dropout):\n",
    "    h = np.dot(A_prev,W)\n",
    "    a = relu(h)\n",
    "    a = np.multiply(a,dropout)\n",
    "    dh = relu_derivative(a)*dA\n",
    "    dW,dA_prev = backward_linear(dh, A_prev,W)\n",
    "    return dW,dA_prev\n",
    "    "
   ]
  },
  {
   "cell_type": "code",
   "execution_count": 87,
   "metadata": {
    "ExecuteTime": {
     "end_time": "2020-05-19T13:09:17.884001Z",
     "start_time": "2020-05-19T13:09:15.975981Z"
    }
   },
   "outputs": [],
   "source": [
    "for _ in range(100000):\n",
    "    a = np.random.randn(10)\n",
    "    b = dropout_mask(10, 0.2)\n",
    "    a = a * b"
   ]
  },
  {
   "cell_type": "code",
   "execution_count": 89,
   "metadata": {
    "ExecuteTime": {
     "end_time": "2020-05-19T13:09:32.086405Z",
     "start_time": "2020-05-19T13:09:30.002799Z"
    }
   },
   "outputs": [],
   "source": [
    "for _ in range(100000):\n",
    "    a = np.random.randn(10)\n",
    "    b = dropout_mask(10, 0.2)\n",
    "    np.multiply(a,b,out = a)"
   ]
  },
  {
   "cell_type": "code",
   "execution_count": 72,
   "metadata": {
    "ExecuteTime": {
     "end_time": "2020-05-19T13:03:07.440100Z",
     "start_time": "2020-05-19T13:03:07.433897Z"
    }
   },
   "outputs": [
    {
     "data": {
      "text/plain": [
       "array([1., 1., 0., 0., 1., 1., 1., 1., 1., 1.])"
      ]
     },
     "execution_count": 72,
     "metadata": {},
     "output_type": "execute_result"
    }
   ],
   "source": [
    "dropout_mask(10, 0.2)"
   ]
  },
  {
   "cell_type": "code",
   "execution_count": 100,
   "metadata": {
    "ExecuteTime": {
     "end_time": "2020-05-19T13:20:27.552533Z",
     "start_time": "2020-05-19T13:20:27.517662Z"
    },
    "code_folding": [
     0,
     42,
     62,
     95
    ]
   },
   "outputs": [],
   "source": [
    "def gradient_v0(x,y,W,out_vals):\n",
    "    #assert type(y)==int\n",
    "\n",
    "    Dw = list()\n",
    "    Y = y\n",
    "    y_preds = out_vals['y']\n",
    "    \n",
    "    try:\n",
    "        n,d = y_preds.shape\n",
    "    except:\n",
    "        n=1\n",
    "        d = y_preds.shape[0]\n",
    "\n",
    "    eps = np.finfo(np.float64).eps\n",
    "    Y = np.eye(d,d)[Y].reshape(n,d)\n",
    "\n",
    "    dropout = out_vals['dropout_vec']\n",
    "    a = out_vals['a'][-1].reshape(1,-1)\n",
    "    #a = np.multiply(a,dropout[-1])/(1-dropout_rate)\n",
    "    dw = -1*np.dot(a.T,(Y-Y*y_preds))\n",
    "    assert W[-1].shape == dw.shape\n",
    "    Dw.append(dw)\n",
    "\n",
    "\n",
    "    a = out_vals['a'][-2].reshape(1,-1)\n",
    "    #a = np.multiply(a,dropout[-2])/(1-dropout_rate)\n",
    "    dw = -1*np.dot(relu_derivative(a.T),(Y-Y*y_preds)).dot(W[-1].T)\n",
    "    dw = dw*dropout[-1]/(1-dropout_rate)\n",
    "    assert W[-2].shape == dw.shape\n",
    "    Dw.append(dw)\n",
    "\n",
    "    a_0 = np.eye(W[0].shape[0],W[0].shape[0])[x].sum(axis = 0)\n",
    "    a = a_0.reshape(1,-1)\n",
    "    dw = -1*np.dot(relu_derivative(a.T),(Y-Y*y_preds)).dot(relu_derivative(W[-1].T)).dot(W[-2].T)\n",
    "    dw = dw*dropout[-2]/(1-dropout_rate)\n",
    "    assert W[-3].shape == dw.shape\n",
    "    Dw.append(dw)\n",
    "\n",
    "    Dw.reverse()\n",
    "    return Dw\n",
    "\n",
    "def gradient_v1(x,y,W,out_vals):\n",
    "    \n",
    "    D = []\n",
    "    y_preds = out_vals['y']\n",
    "    Y = np.eye(y_preds.shape[y_preds.ndim-1],y_preds.shape[y_preds.ndim-1])[y].reshape(len(y),-1)\n",
    "    dA = -1*(Y-Y*y_preds)\n",
    "    dA = y_preds-Y\n",
    "    L = len(W)\n",
    "    for l in range(L-1):\n",
    "        A_prev = out_vals['a'][-1*(l+1)]\n",
    "        dW,dA_prev = backward_activation_linear(dA, A_prev,W[-1*(l+1)])\n",
    "        D.append(dW)\n",
    "        dA = dA_prev\n",
    "    A_prev = initial_a0(x,W[0])\n",
    "    dW,dA_prev = backward_activation_linear(dA, A_prev,W[0])\n",
    "    D.append(dW)\n",
    "    D.reverse()\n",
    "    \n",
    "    return D\n",
    "\n",
    "def gradient_v2(x,y,W,out_vals):\n",
    "    \n",
    "    D = []\n",
    "    y_preds = out_vals['y']\n",
    "    Y = np.eye(y_preds.shape[y_preds.ndim-1],y_preds.shape[y_preds.ndim-1])[y].reshape(len(y),-1)\n",
    "    dA = -1*(Y-Y*y_preds)\n",
    "    dA = y_preds-Y\n",
    "    \n",
    "    l=0\n",
    "    A_prev = out_vals['a'][-1*(l+1)]\n",
    "    dh = dA\n",
    "    dW,dA_prev = backward_linear(dh, A_prev,W[-1])\n",
    "    D.append(dW)\n",
    "    dA = dA_prev\n",
    "    \n",
    "    L = len(W)\n",
    "    for l in range(1,L-1):\n",
    "        A_prev = out_vals['a'][-1*(l+1)]\n",
    "        dropout = out_vals['dropout_vec'][-1*(l)]\n",
    "        #dW,dA_prev = backward_activation_linear(dA, A_prev,W[-1*(l+1)])\n",
    "        dW,dA_prev = backward_dropout(dA, A_prev,W[-1*(l+1)],dropout)\n",
    "        D.append(dW)\n",
    "        dA = dA_prev\n",
    "        \n",
    "    A_prev = initial_a0(x,W[0])\n",
    "    dropout = out_vals['dropout_vec'][0]\n",
    "    #dW,dA_prev = backward_activation_linear(dA, A_prev,W[0])\n",
    "    dW,dA_prev = backward_dropout(dA, A_prev,W[0],dropout)\n",
    "    D.append(dW)\n",
    "    D.reverse()\n",
    "    \n",
    "    return D\n",
    "\n",
    "def backward_pass_v2(x, y, W, out_vals, lr=0.001, freeze_emb=False):\n",
    "    W_new = [W[i].copy() for i in range(len(W))]\n",
    "    dw = gradient(x,y,W,out_vals)\n",
    "    for i in range(len(W)):\n",
    "        W_new[i] = W_new[i] - lr*dw[i]\n",
    "    \n",
    "    return W_new\n",
    "\n",
    "def gradient(x,Y,W,out_vals):\n",
    "    D = []\n",
    "    y_preds = out_vals['y']\n",
    "    #Y = np.eye(y_preds.shape[y_preds.ndim-1],y_preds.shape[y_preds.ndim-1])[y].reshape(len(y),-1)\n",
    "    dA = -1*(Y-Y*y_preds)\n",
    "    dA = y_preds-Y\n",
    "    \n",
    "    l=0\n",
    "    A_prev = out_vals['a'][-1*(l+1)]\n",
    "    dh = dA\n",
    "    dW,dA_prev = backward_linear(dh, A_prev,W[-1])\n",
    "    D.append(dW)\n",
    "    dA = dA_prev\n",
    "    \n",
    "    L = len(W)\n",
    "    for l in range(1,L-1):\n",
    "        A_prev = out_vals['a'][-1*(l+1)]\n",
    "        dropout = out_vals['dropout_vec'][-1*(l)]\n",
    "        #dW,dA_prev = backward_activation_linear(dA, A_prev,W[-1*(l+1)])\n",
    "        dW,dA_prev = backward_dropout(dA, A_prev,W[-1*(l+1)],dropout)\n",
    "        D.append(dW)\n",
    "        dA = dA_prev\n",
    "        \n",
    "    A_prev = initial_a0(x,W[0])\n",
    "    dropout = out_vals['dropout_vec'][0]\n",
    "    #dW,dA_prev = backward_activation_linear(dA, A_prev,W[0])\n",
    "    dW,dA_prev = backward_dropout(dA, A_prev,W[0],dropout)\n",
    "    D.append(dW)\n",
    "    #D.reverse()\n",
    "    \n",
    "    return D\n",
    "\n",
    "def backward_pass(x, Y, W, out_vals, lr=0.001, freeze_emb=False):\n",
    "    dw = gradient(x,Y,W,out_vals)\n",
    "    for i in range(len(W)):\n",
    "        #W[i] = W[i] - lr*dw[i]\n",
    "        W[i] = W[i] - lr*dw[-1*(i+1)]\n",
    "    return W"
   ]
  },
  {
   "cell_type": "code",
   "execution_count": 104,
   "metadata": {
    "ExecuteTime": {
     "end_time": "2020-05-19T13:36:04.392827Z",
     "start_time": "2020-05-19T13:36:04.381815Z"
    }
   },
   "outputs": [],
   "source": [
    "def backward_pass(x, Y, W, out_vals, lr=0.001, freeze_emb=False):\n",
    "    y_preds = out_vals['y']\n",
    "    #Y = np.eye(y_preds.shape[y_preds.ndim-1],y_preds.shape[y_preds.ndim-1])[y].reshape(len(y),-1)\n",
    "    dA = -1*(Y-Y*y_preds)\n",
    "    dA = y_preds-Y\n",
    "    \n",
    "    l=0\n",
    "    A_prev = out_vals['a'][-1*(l+1)]\n",
    "    dh = dA\n",
    "    dW,dA_prev = backward_linear(dh, A_prev,W[-1])\n",
    "    \n",
    "    W[-1] -= lr*dW\n",
    "    \n",
    "    dA = dA_prev\n",
    "    \n",
    "    L = len(W)\n",
    "    for l in range(1,L-1):\n",
    "        A_prev = out_vals['a'][-1*(l+1)]\n",
    "        dropout = out_vals['dropout_vec'][-1*(l)]\n",
    "        #dW,dA_prev = backward_activation_linear(dA, A_prev,W[-1*(l+1)])\n",
    "        dW,dA = backward_dropout(dA, A_prev,W[-1*(l+1)],dropout)\n",
    "        W[-1*(l+1)] -= lr*dW\n",
    "\n",
    "        \n",
    "    A_prev = initial_a0(x,W[0])\n",
    "    dropout = out_vals['dropout_vec'][0]\n",
    "    #dW,dA_prev = backward_activation_linear(dA, A_prev,W[0])\n",
    "    dW,dA_prev = backward_dropout(dA, A_prev,W[0],dropout)\n",
    "    \n",
    "    W[0] -= lr*dW\n",
    "    \n",
    "    return W"
   ]
  },
  {
   "cell_type": "code",
   "execution_count": 31,
   "metadata": {
    "ExecuteTime": {
     "end_time": "2020-05-19T10:30:17.634646Z",
     "start_time": "2020-05-19T10:30:17.623725Z"
    }
   },
   "outputs": [
    {
     "data": {
      "text/plain": [
       "\"\\nx = [[0,1],[1,2],[3,4]]\\ny = np.array([[0],[1],[3]])\\ndropout_rate=0.2\\nW = network_weights(vocab_size=5,embedding_dim=10,hidden_dim=[], num_classes=4)\\n\\nfor e in range(3000):\\n    for i in range(len(x)):\\n        x_i,y_i = x[i],y[i]\\n        out_vals = forward_pass(x_i, W, dropout_rate=dropout_rate)\\n        W = backward_pass(x_i, y_i, W, out_vals, lr=0.01, freeze_emb=False)\\n    y_preds = forward_pass(x, W, dropout_rate=dropout_rate)['y']\\n    if e % 200 == 0:\\n        print(categorical_loss(y, y_preds))\\nprint(y.T)    \\nnp.argmax(forward_pass(x, W, dropout_rate=0)['y'],axis=1)\\n\""
      ]
     },
     "execution_count": 31,
     "metadata": {},
     "output_type": "execute_result"
    }
   ],
   "source": [
    "'''\n",
    "x = [[0,1],[1,2],[3,4]]\n",
    "y = np.array([[0],[1],[3]])\n",
    "dropout_rate=0.2\n",
    "W = network_weights(vocab_size=5,embedding_dim=10,hidden_dim=[], num_classes=4)\n",
    "\n",
    "for e in range(3000):\n",
    "    for i in range(len(x)):\n",
    "        x_i,y_i = x[i],y[i]\n",
    "        out_vals = forward_pass(x_i, W, dropout_rate=dropout_rate)\n",
    "        W = backward_pass(x_i, y_i, W, out_vals, lr=0.01, freeze_emb=False)\n",
    "    y_preds = forward_pass(x, W, dropout_rate=dropout_rate)['y']\n",
    "    if e % 200 == 0:\n",
    "        print(categorical_loss(y, y_preds))\n",
    "print(y.T)    \n",
    "np.argmax(forward_pass(x, W, dropout_rate=0)['y'],axis=1)\n",
    "'''"
   ]
  },
  {
   "cell_type": "code",
   "execution_count": 33,
   "metadata": {
    "ExecuteTime": {
     "end_time": "2020-05-19T10:30:17.665681Z",
     "start_time": "2020-05-19T10:30:17.660191Z"
    }
   },
   "outputs": [
    {
     "data": {
      "text/plain": [
       "\"\\nx = [[2,1],[0],[2,1],[0],[0,3]]\\ny = np.array([[0],[1],[0],[1],[1]])\\ndropout_rate=0.2\\nloss = []\\nW = network_weights(vocab_size=4,embedding_dim=10,hidden_dim=[], num_classes=4)\\nW_tp = [W[i].copy() for i in range(len(W))]\\nfor i in range(500):\\n    for i in range(len(x)):\\n        x_i,y_i = x[i],y[i]\\n        out_vals = forward_pass(x_i, W, dropout_rate=dropout_rate)\\n        #y_preds = out_vals['y']\\n        W = backward_pass(x_i, y_i, W, out_vals, lr=0.1, freeze_emb=False)\\n        #l += categorical_loss(y_i, y_preds)\\n    y_preds = forward_pass(x, W, dropout_rate=dropout_rate)['y']\\n    l = categorical_loss(y, y_preds)\\n    loss.append(l)\\n    if dropout_rate == 0:\\n        try:\\n            if loss[-1]>loss[-2]:\\n                break\\n        except:\\n            W_tp = [W[i].copy() for i in range(len(W))]\\n    \\nimport matplotlib.pyplot as plt\\nplt.plot(range(len(loss)),loss)\\n\\nprint(y.T)\\nnp.argmax(forward_pass(x, W, dropout_rate=0)['y'],axis=1)\\n\""
      ]
     },
     "execution_count": 33,
     "metadata": {},
     "output_type": "execute_result"
    }
   ],
   "source": [
    "'''\n",
    "x = [[2,1],[0],[2,1],[0],[0,3]]\n",
    "y = np.array([[0],[1],[0],[1],[1]])\n",
    "dropout_rate=0.2\n",
    "loss = []\n",
    "W = network_weights(vocab_size=4,embedding_dim=10,hidden_dim=[], num_classes=4)\n",
    "W_tp = [W[i].copy() for i in range(len(W))]\n",
    "for i in range(500):\n",
    "    for i in range(len(x)):\n",
    "        x_i,y_i = x[i],y[i]\n",
    "        out_vals = forward_pass(x_i, W, dropout_rate=dropout_rate)\n",
    "        #y_preds = out_vals['y']\n",
    "        W = backward_pass(x_i, y_i, W, out_vals, lr=0.1, freeze_emb=False)\n",
    "        #l += categorical_loss(y_i, y_preds)\n",
    "    y_preds = forward_pass(x, W, dropout_rate=dropout_rate)['y']\n",
    "    l = categorical_loss(y, y_preds)\n",
    "    loss.append(l)\n",
    "    if dropout_rate == 0:\n",
    "        try:\n",
    "            if loss[-1]>loss[-2]:\n",
    "                break\n",
    "        except:\n",
    "            W_tp = [W[i].copy() for i in range(len(W))]\n",
    "    \n",
    "import matplotlib.pyplot as plt\n",
    "plt.plot(range(len(loss)),loss)\n",
    "\n",
    "print(y.T)\n",
    "np.argmax(forward_pass(x, W, dropout_rate=0)['y'],axis=1)\n",
    "'''"
   ]
  },
  {
   "cell_type": "markdown",
   "metadata": {
    "ExecuteTime": {
     "end_time": "2020-02-15T14:08:59.937442Z",
     "start_time": "2020-02-15T14:08:59.932221Z"
    }
   },
   "source": [
    "Finally you need to modify SGD to support back-propagation by using the `forward_pass` and `backward_pass` functions.\n",
    "\n",
    "The `SGD` function takes as input:\n",
    "\n",
    "- `X_tr`: array of training data (vectors)\n",
    "- `Y_tr`: labels of `X_tr`\n",
    "- `W`: the weights of the network (dictionary)\n",
    "- `X_dev`: array of development (i.e. validation) data (vectors)\n",
    "- `Y_dev`: labels of `X_dev`\n",
    "- `lr`: learning rate\n",
    "- `dropout`: regularisation strength\n",
    "- `epochs`: number of full passes over the training data\n",
    "- `tolerance`: stop training if the difference between the current and previous validation loss is smaller than a threshold\n",
    "- `freeze_emb`: boolean value indicating whether the embedding weights will be updated (to be used by the backward pass function).\n",
    "- `print_progress`: flag for printing the training progress (train/validation loss)\n",
    "\n",
    "\n",
    "and returns:\n",
    "\n",
    "- `weights`: the weights learned\n",
    "- `training_loss_history`: an array with the average losses of the whole training set after each epoch\n",
    "- `validation_loss_history`: an array with the average losses of the whole development set after each epoch"
   ]
  },
  {
   "cell_type": "code",
   "execution_count": 129,
   "metadata": {
    "ExecuteTime": {
     "end_time": "2020-05-19T14:30:18.596007Z",
     "start_time": "2020-05-19T14:20:08.675226Z"
    }
   },
   "outputs": [
    {
     "name": "stdout",
     "output_type": "stream",
     "text": [
      "8.683094285608579\n",
      "8.329531746376672\n",
      "8.480926943854271\n",
      "8.702435786967678\n",
      "8.442478174864002\n",
      "9.332776060654988\n",
      "9.701580785910942\n",
      "8.57008800411969\n",
      "8.557308199338996\n",
      "7.156703671588288\n",
      "7.366749891631054\n",
      "6.6393387637659425\n",
      "5.021415155515617\n",
      "3.903063301757323\n",
      "3.4721731244839447\n",
      "3.2870739872055097\n",
      "2.352717264994184\n",
      "2.392299020372508\n",
      "1.9737976586636303\n",
      "1.460235875144985\n",
      "1.2338556995264474\n",
      "1.1433673617486175\n",
      "0.6419762606954903\n",
      "0.7951689212349584\n",
      "0.6055025054017052\n",
      "Forward:  85.466872215271\n",
      "Backward:  506.16901564598083\n"
     ]
    },
    {
     "data": {
      "text/plain": [
       "[<matplotlib.lines.Line2D at 0x7f21066bcd90>]"
      ]
     },
     "execution_count": 129,
     "metadata": {},
     "output_type": "execute_result"
    },
    {
     "data": {
      "image/png": "[encoded data removed]",
      "text/plain": [
       "<Figure size 432x288 with 1 Axes>"
      ]
     },
     "metadata": {
      "needs_background": "light"
     },
     "output_type": "display_data"
    }
   ],
   "source": [
    "import time\n",
    "\n",
    "dropout_rate = 0.2\n",
    "#loss = []\n",
    "num_classes = 3\n",
    "W = network_weights(vocab_size=len(id2vocab.keys()),embedding_dim=300,hidden_dim=[150,150], num_classes=num_classes)\n",
    "t_forward = 0\n",
    "t_backward = 0\n",
    "Y_tr_pre = np.eye(num_classes,num_classes)[Y_tr].reshape(len(Y_tr),-1)\n",
    "for e in range(50):\n",
    "    for i in range(len(X_tr)):\n",
    "        t = time.time()\n",
    "        #X_tr_i, Y_tr_i = X_tr[i],Y_tr[i]\n",
    "        X_tr_i, Y_tr_i = X_tr[i],Y_tr_pre[i]\n",
    "        out_vals = forward_pass(X_tr_i, W, dropout_rate=dropout_rate)\n",
    "        t_forward += time.time()-t\n",
    "        t = time.time()\n",
    "        W = backward_pass(X_tr_i, Y_tr_i.reshape(1,-1), W, out_vals, lr=0.01, freeze_emb=False)\n",
    "        t_backward += time.time()-t\n",
    "        #if i>200:\n",
    "        #    break\n",
    "    y_preds = forward_pass(X_tr, W, dropout_rate=0)['y']\n",
    "    l = categorical_loss(Y_tr, y_preds)\n",
    "    loss.append(l)\n",
    "    if e%2 == 0:\n",
    "        print(l)\n",
    "\n",
    "print(\"Forward: \",t_forward)\n",
    "print(\"Backward: \",t_backward)\n",
    "    \n",
    "import matplotlib.pyplot as plt\n",
    "plt.plot(range(len(loss)),loss)"
   ]
  },
  {
   "cell_type": "code",
   "execution_count": 130,
   "metadata": {
    "ExecuteTime": {
     "end_time": "2020-05-19T14:30:30.420194Z",
     "start_time": "2020-05-19T14:30:30.100787Z"
    }
   },
   "outputs": [
    {
     "data": {
      "text/plain": [
       "0.9657923489739703"
      ]
     },
     "execution_count": 130,
     "metadata": {},
     "output_type": "execute_result"
    }
   ],
   "source": [
    "y_preds = np.argmax(forward_pass(X_tr, W, dropout_rate=0)['y'],axis=1)\n",
    "f1_score(Y_tr,y_preds,average='macro')"
   ]
  },
  {
   "cell_type": "code",
   "execution_count": 131,
   "metadata": {
    "ExecuteTime": {
     "end_time": "2020-05-19T14:30:31.192074Z",
     "start_time": "2020-05-19T14:30:31.066453Z"
    }
   },
   "outputs": [
    {
     "data": {
      "text/plain": [
       "0.8123404580977601"
      ]
     },
     "execution_count": 131,
     "metadata": {},
     "output_type": "execute_result"
    }
   ],
   "source": [
    "y_preds = np.argmax(forward_pass(X_te, W, dropout_rate=0)['y'],axis=1)\n",
    "f1_score(Y_te,y_preds,average='macro')"
   ]
  },
  {
   "cell_type": "code",
   "execution_count": 7,
   "metadata": {
    "ExecuteTime": {
     "end_time": "2020-04-02T15:09:19.021428Z",
     "start_time": "2020-04-02T15:09:19.017835Z"
    }
   },
   "outputs": [],
   "source": [
    "def SGD(X_tr, Y_tr, W, X_dev=[], Y_dev=[], lr=0.001, \n",
    "        dropout=0.2, epochs=5, tolerance=0.001, freeze_emb=False, print_progress=True):\n",
    "    \n",
    "    training_loss_history = []\n",
    "    validation_loss_history = []\n",
    "    \n",
    "    # Stage 1: Init weights\n",
    "    W = network_weights(vocab_size=3,embedding_dim=4,hidden_dim=[5], num_classes=3)\n",
    "    \n",
    "    # Stage 2: Init stochastic value\n",
    "    idx_list = np.array(range(X_tr.shape[0]))\n",
    "    \n",
    "    for epoch in range(epochs):\n",
    "        np.random.shuffle(idx_list) # disorder dataset\n",
    "        for i in idx_list:\n",
    "            X_tr_i, Y_tr_i = X_tr[i].reshape(1,-1),Y_tr[i].reshape(1,-1) # get a single data pair\n",
    "            \n",
    "            out_vals = forward_pass(X_tr_i, W, dropout_rate=dropout_rate)\n",
    "            y_preds = out_vals['y']\n",
    "            \n",
    "            W = backward_pass(x, y, W, out_vals, lr=0.1, freeze_emb=False)\n",
    "            l = categorical_loss(y, y_preds)\n",
    "                  \n",
    "        #loss_dev = categorical_loss(X_dev, Y_dev)\n",
    "        #loss_tr = categorical_loss(X_tr, Y_tr)\n",
    "\n",
    "        # Add history\n",
    "        training_loss_history.append(loss_tr)\n",
    "        validation_loss_history.append(loss_dev)\n",
    "        \n",
    "        if print_progress == True: \n",
    "            print(\"Epoch: %d| Training loss: %f| Validation loss: %f\"%(epoch,loss_tr,loss_dev))\n",
    "            \n",
    "        if epoch >1 and abs(validation_loss_history[-2]-validation_loss_history[-1]) <= tolerance:\n",
    "            break\n",
    "    \n",
    "    return W, training_loss_history, validation_loss_history"
   ]
  },
  {
   "cell_type": "code",
   "execution_count": null,
   "metadata": {},
   "outputs": [],
   "source": [
    "x = [[2,1],[0,0]]\n",
    "y = [0,1]\n",
    "dropout_rate=0\n",
    "loss = []\n",
    "W = network_weights(vocab_size=3,embedding_dim=4,hidden_dim=[5], num_classes=4)\n",
    "for i in range(500):\n",
    "    for i in range(len(x)):\n",
    "        x_i,y_i = x[i],y[i]\n",
    "        out_vals = forward_pass(x_i, W, dropout_rate=dropout_rate)\n",
    "        y_preds = out_vals['y']\n",
    "        W = backward_pass(x_i, y_i, W, out_vals, lr=0.01, freeze_emb=False)\n",
    "        #l += categorical_loss(y_i, y_preds)\n",
    "    y_preds = forward_pass(x, W, dropout_rate=dropout_rate)['y']\n",
    "    l = categorical_loss(y, y_preds)\n",
    "    \n",
    "    loss.append(l)\n",
    "    \n",
    "import matplotlib.pyplot as plt\n",
    "plt.plot(range(len(loss)),loss)"
   ]
  },
  {
   "cell_type": "markdown",
   "metadata": {
    "ExecuteTime": {
     "end_time": "2020-02-15T14:10:15.772383Z",
     "start_time": "2020-02-15T14:10:15.767855Z"
    }
   },
   "source": [
    "Now you are ready to train and evaluate you neural net. First, you need to define your network using the `network_weights` function followed by SGD with backprop:"
   ]
  },
  {
   "cell_type": "code",
   "execution_count": 9,
   "metadata": {
    "ExecuteTime": {
     "end_time": "2020-04-02T15:09:33.643515Z",
     "start_time": "2020-04-02T15:09:33.640943Z"
    }
   },
   "outputs": [],
   "source": [
    "W = network_weights(vocab_size=len(vocab),embedding_dim=300,hidden_dim=[], num_classes=3)\n",
    "\n",
    "for i in range(len(W)):\n",
    "    print('Shape W'+str(i), W[i].shape)\n",
    "\n",
    "W, loss_tr, dev_loss = SGD(X_tr, Y_tr,\n",
    "                            W,\n",
    "                            X_dev=X_dev, \n",
    "                            Y_dev=Y_dev,\n",
    "                            lr=0.001, \n",
    "                            dropout=0.2,\n",
    "                            freeze_emb=False,\n",
    "                            tolerance=0.01,\n",
    "                            epochs=100)\n"
   ]
  },
  {
   "cell_type": "markdown",
   "metadata": {},
   "source": [
    "Plot the learning process:"
   ]
  },
  {
   "cell_type": "code",
   "execution_count": null,
   "metadata": {
    "ExecuteTime": {
     "end_time": "2020-04-02T14:27:15.716497Z",
     "start_time": "2020-04-02T14:27:15.612736Z"
    }
   },
   "outputs": [],
   "source": []
  },
  {
   "cell_type": "markdown",
   "metadata": {},
   "source": [
    "Compute accuracy, precision, recall and F1-Score:"
   ]
  },
  {
   "cell_type": "code",
   "execution_count": 10,
   "metadata": {
    "ExecuteTime": {
     "end_time": "2020-04-02T15:10:11.037495Z",
     "start_time": "2020-04-02T15:10:11.034999Z"
    }
   },
   "outputs": [],
   "source": [
    "preds_te = [np.argmax(forward_pass(x, W, dropout_rate=0.0)['y']) for x,y in zip(X_te,Y_te)]\n",
    "print('Accuracy:', accuracy_score(Y_te,preds_te))\n",
    "print('Precision:', precision_score(Y_te,preds_te,average='macro'))\n",
    "print('Recall:', recall_score(Y_te,preds_te,average='macro'))\n",
    "print('F1-Score:', f1_score(Y_te,preds_te,average='macro'))"
   ]
  },
  {
   "cell_type": "markdown",
   "metadata": {},
   "source": [
    "### Discuss how did you choose model hyperparameters ? "
   ]
  },
  {
   "cell_type": "code",
   "execution_count": null,
   "metadata": {},
   "outputs": [],
   "source": []
  },
  {
   "cell_type": "markdown",
   "metadata": {},
   "source": [
    "# Use Pre-trained Embeddings\n",
    "\n",
    "Now re-train the network using GloVe pre-trained embeddings. You need to modify the `backward_pass` function above to stop computing gradients and updating weights of the embedding matrix.\n",
    "\n",
    "Use the function below to obtain the embedding martix for your vocabulary."
   ]
  },
  {
   "cell_type": "code",
   "execution_count": 32,
   "metadata": {
    "ExecuteTime": {
     "end_time": "2020-04-02T14:27:32.020697Z",
     "start_time": "2020-04-02T14:27:32.015733Z"
    }
   },
   "outputs": [],
   "source": [
    "def get_glove_embeddings(f_zip, f_txt, word2id, emb_size=300):\n",
    "    \n",
    "    w_emb = np.zeros((len(word2id), emb_size))\n",
    "    \n",
    "    with zipfile.ZipFile(f_zip) as z:\n",
    "        with z.open(f_txt) as f:\n",
    "            for line in f:\n",
    "                line = line.decode('utf-8')\n",
    "                word = line.split()[0]\n",
    "                     \n",
    "                if word in vocab:\n",
    "                    emb = np.array(line.strip('\\n').split()[1:]).astype(np.float32)\n",
    "                    w_emb[word2id[word]] +=emb\n",
    "    return w_emb"
   ]
  },
  {
   "cell_type": "code",
   "execution_count": 33,
   "metadata": {
    "ExecuteTime": {
     "end_time": "2020-04-02T14:28:54.548613Z",
     "start_time": "2020-04-02T14:27:32.780248Z"
    }
   },
   "outputs": [],
   "source": [
    "w_glove = get_glove_embeddings(\"glove.840B.300d.zip\",\"glove.840B.300d.txt\",word2id)"
   ]
  },
  {
   "cell_type": "markdown",
   "metadata": {},
   "source": [
    "First, initialise the weights of your network using the `network_weights` function. Second, replace the weigths of the embedding matrix with `w_glove`. Finally, train the network by freezing the embedding weights: "
   ]
  },
  {
   "cell_type": "code",
   "execution_count": null,
   "metadata": {
    "ExecuteTime": {
     "end_time": "2020-04-02T14:30:11.121198Z",
     "start_time": "2020-04-02T14:29:24.946124Z"
    }
   },
   "outputs": [],
   "source": []
  },
  {
   "cell_type": "code",
   "execution_count": 14,
   "metadata": {
    "ExecuteTime": {
     "end_time": "2020-04-02T15:12:00.815184Z",
     "start_time": "2020-04-02T15:12:00.812563Z"
    }
   },
   "outputs": [],
   "source": [
    "preds_te = [np.argmax(forward_pass(x, W, dropout_rate=0.0)['y']) for x,y in zip(X_te,Y_te)]\n",
    "print('Accuracy:', accuracy_score(Y_te,preds_te))\n",
    "print('Precision:', precision_score(Y_te,preds_te,average='macro'))\n",
    "print('Recall:', recall_score(Y_te,preds_te,average='macro'))\n",
    "print('F1-Score:', f1_score(Y_te,preds_te,average='macro'))"
   ]
  },
  {
   "cell_type": "markdown",
   "metadata": {},
   "source": [
    "### Discuss how did you choose model hyperparameters ? "
   ]
  },
  {
   "cell_type": "code",
   "execution_count": null,
   "metadata": {},
   "outputs": [],
   "source": []
  },
  {
   "cell_type": "markdown",
   "metadata": {},
   "source": [
    "# Extend to support deeper architectures (Bonus)\n",
    "\n",
    "Extend the network to support back-propagation for more hidden layers. You need to modify the `backward_pass` function above to compute gradients and update the weights between intermediate hidden layers. Finally, train and evaluate a network with a deeper architecture. "
   ]
  },
  {
   "cell_type": "code",
   "execution_count": null,
   "metadata": {
    "ExecuteTime": {
     "end_time": "2020-04-02T14:58:51.764619Z",
     "start_time": "2020-04-02T14:58:47.483690Z"
    }
   },
   "outputs": [],
   "source": []
  },
  {
   "cell_type": "code",
   "execution_count": 13,
   "metadata": {
    "ExecuteTime": {
     "end_time": "2020-04-02T15:11:51.994986Z",
     "start_time": "2020-04-02T15:11:51.992563Z"
    }
   },
   "outputs": [],
   "source": [
    "preds_te = [np.argmax(forward_pass(x, W, dropout_rate=0.0)['y']) for x,y in zip(X_te,Y_te)]\n",
    "print('Accuracy:', accuracy_score(Y_te,preds_te))\n",
    "print('Precision:', precision_score(Y_te,preds_te,average='macro'))\n",
    "print('Recall:', recall_score(Y_te,preds_te,average='macro'))\n",
    "print('F1-Score:', f1_score(Y_te,preds_te,average='macro'))"
   ]
  },
  {
   "cell_type": "markdown",
   "metadata": {},
   "source": [
    "## Full Results\n",
    "\n",
    "Add your final results here:\n",
    "\n",
    "| Model | Precision  | Recall  | F1-Score  | Accuracy\n",
    "|:-:|:-:|:-:|:-:|:-:|\n",
    "| Average Embedding  |   |   |   |   |\n",
    "| Average Embedding (Pre-trained)  |   |   |   |   |\n",
    "| Average Embedding (Pre-trained) + X hidden layers (BONUS)   |   |   |   |   |\n"
   ]
  },
  {
   "cell_type": "code",
   "execution_count": null,
   "metadata": {},
   "outputs": [],
   "source": []
  }
 ],
 "metadata": {
  "kernelspec": {
   "display_name": "Python 3",
   "language": "python",
   "name": "python3"
  },
  "language_info": {
   "codemirror_mode": {
    "name": "ipython",
    "version": 3
   },
   "file_extension": ".py",
   "mimetype": "text/x-python",
   "name": "python",
   "nbconvert_exporter": "python",
   "pygments_lexer": "ipython3",
   "version": "3.7.4"
  },
  "latex_envs": {
   "LaTeX_envs_menu_present": true,
   "autoclose": false,
   "autocomplete": true,
   "bibliofile": "biblio.bib",
   "cite_by": "apalike",
   "current_citInitial": 1,
   "eqLabelWithNumbers": true,
   "eqNumInitial": 1,
   "hotkeys": {
    "equation": "Ctrl-E",
    "itemize": "Ctrl-I"
   },
   "labels_anchors": false,
   "latex_user_defs": false,
   "report_style_numbering": false,
   "user_envs_cfg": false
  }
 },
 "nbformat": 4,
 "nbformat_minor": 2
}
